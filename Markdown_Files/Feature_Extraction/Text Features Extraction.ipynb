{
 "cells": [
  {
   "cell_type": "markdown",
   "metadata": {},
   "source": [
    "# Text Features Extraction"
   ]
  },
  {
   "cell_type": "markdown",
   "metadata": {},
   "source": [
    "In the text-processing stage, we plan to lower all uppercased text, remove all stop words, punctuation, and special characters for each of the input features. \n",
    "\n",
    "It's possible that any of these feature play a role in predicting price. For example, price may be higher or lower for records with more uppercased words or emoji. \n",
    "\n",
    "We do not want to lose any information from the processed text, hence before text preprocessing, we want to extract the uppercase counts, lowercase counts, percent of uppercase word in the corpus, percent of lowercase word in the corpus, average word length in a corpus, stop words counts, punctuation count, and special character count. We built a function called\n",
    "\n",
    "All of these extracted features will feed into the feature selection stage as additional distinct features. "
   ]
  },
  {
   "cell_type": "code",
   "execution_count": null,
   "metadata": {},
   "outputs": [],
   "source": []
  }
 ],
 "metadata": {
  "hide_input": false,
  "kernelspec": {
   "display_name": "Python 3",
   "language": "python",
   "name": "python3"
  },
  "language_info": {
   "codemirror_mode": {
    "name": "ipython",
    "version": 3
   },
   "file_extension": ".py",
   "mimetype": "text/x-python",
   "name": "python",
   "nbconvert_exporter": "python",
   "pygments_lexer": "ipython3",
   "version": "3.8.3"
  },
  "toc": {
   "base_numbering": 1,
   "nav_menu": {},
   "number_sections": true,
   "sideBar": true,
   "skip_h1_title": false,
   "title_cell": "Table of Contents",
   "title_sidebar": "Contents",
   "toc_cell": false,
   "toc_position": {},
   "toc_section_display": true,
   "toc_window_display": false
  }
 },
 "nbformat": 4,
 "nbformat_minor": 4
}
