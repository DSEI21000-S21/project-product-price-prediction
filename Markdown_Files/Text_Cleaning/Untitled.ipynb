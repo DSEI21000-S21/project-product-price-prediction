{
 "cells": [
  {
   "cell_type": "markdown",
   "metadata": {},
   "source": [
    "# Text Data Cleaning "
   ]
  },
  {
   "cell_type": "markdown",
   "metadata": {},
   "source": [
    "We built a function called `cleaning_text` which does the following steps in sequence:\n",
    "\n",
    "1. Standardize all text to its lower case\n",
    "2. Use the re package to extract only characters and numbers and remove any special characters and emoji\n",
    "3. Use the NLTK stopwords package to remove stop word and non-alphabetical words\n",
    "4. Use the WordNetLemmatizer package to reduce word to its root form\n",
    "5. Use the string package to replace all punctuation by white space\n",
    "\n",
    "This function takes an input column of a dataframe, perform all the five steps mentioned above sequentially, and output a cleaner version of the input feature. "
   ]
  },
  {
   "cell_type": "code",
   "execution_count": null,
   "metadata": {},
   "outputs": [],
   "source": []
  }
 ],
 "metadata": {
  "hide_input": false,
  "kernelspec": {
   "display_name": "Python 3",
   "language": "python",
   "name": "python3"
  },
  "language_info": {
   "codemirror_mode": {
    "name": "ipython",
    "version": 3
   },
   "file_extension": ".py",
   "mimetype": "text/x-python",
   "name": "python",
   "nbconvert_exporter": "python",
   "pygments_lexer": "ipython3",
   "version": "3.8.3"
  },
  "toc": {
   "base_numbering": 1,
   "nav_menu": {},
   "number_sections": true,
   "sideBar": true,
   "skip_h1_title": false,
   "title_cell": "Table of Contents",
   "title_sidebar": "Contents",
   "toc_cell": false,
   "toc_position": {},
   "toc_section_display": true,
   "toc_window_display": false
  }
 },
 "nbformat": 4,
 "nbformat_minor": 4
}
