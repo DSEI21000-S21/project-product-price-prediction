{
 "cells": [
  {
   "cell_type": "markdown",
   "metadata": {},
   "source": [
    "# Stratified_Sampling"
   ]
  },
  {
   "cell_type": "markdown",
   "metadata": {},
   "source": [
    "To ensure the data sampling is done in a representative way as compared to the original data, we performed stratified sampling based on brand name, item category and price bin and use a sample size of 50,000 each time. \n",
    "\n",
    "To do stratified sampling based on price bin, we first convert the price attribute from the original dataset into 16 bins. We did not use uniform bin size because price has a skewed distribution. For each price bin, we sample the same amount of records and perform replacement if needed. After sampling based on price bin, each bin contains about 3131 records. In total, we have 50,000 records remaining after price-based sampling. \n",
    "\n",
    "To do sampling based on brand name, we do similar things where we first look at the count distribution of each brand name, and then we sample even amount of data from each of the brands. We perform sampling with replacement if it's needed. At the end of this process, we have another 50,000 records after brandname-based sampling.\n",
    "\n",
    "To do stratified sampling based on category, we first separate the category into c1,c2,and c3 level. The classification description becomes more and more granular ans specific as you move down the subcategory from c1 to c3. After breaking out a category into 3 subcategories, we essentially perform the same thing as what we do price bin and brand name stratification. We first examine the distribution of each subcategory entity and sample evenly from each subcategory entity to get 50,000 data records"
   ]
  },
  {
   "cell_type": "code",
   "execution_count": null,
   "metadata": {},
   "outputs": [],
   "source": []
  }
 ],
 "metadata": {
  "hide_input": false,
  "kernelspec": {
   "display_name": "Python 3",
   "language": "python",
   "name": "python3"
  },
  "language_info": {
   "codemirror_mode": {
    "name": "ipython",
    "version": 3
   },
   "file_extension": ".py",
   "mimetype": "text/x-python",
   "name": "python",
   "nbconvert_exporter": "python",
   "pygments_lexer": "ipython3",
   "version": "3.8.3"
  },
  "toc": {
   "base_numbering": 1,
   "nav_menu": {},
   "number_sections": true,
   "sideBar": true,
   "skip_h1_title": false,
   "title_cell": "Table of Contents",
   "title_sidebar": "Contents",
   "toc_cell": false,
   "toc_position": {},
   "toc_section_display": true,
   "toc_window_display": false
  }
 },
 "nbformat": 4,
 "nbformat_minor": 4
}
