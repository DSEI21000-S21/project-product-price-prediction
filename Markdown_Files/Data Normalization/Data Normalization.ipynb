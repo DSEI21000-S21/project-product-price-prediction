{
 "cells": [
  {
   "cell_type": "markdown",
   "metadata": {},
   "source": [
    "# Data Normalization"
   ]
  },
  {
   "attachments": {},
   "cell_type": "markdown",
   "metadata": {},
   "source": [
    "Min-Max normalization is performed on all original as well as extracted numerical attributes from the dataset except the `train_id`, `item_condition_id`, `price`, and `shipping` columns. If the difference of max and min is zero, then we drop that column. \n"
   ]
  },
  {
   "cell_type": "markdown",
   "metadata": {},
   "source": [
    "We performed min-max normalization on these following columns:\n",
    "1. clean_nameWordCount\n",
    "2. clean_nameLength\n",
    "3. clean_nameLowerCount\n",
    "4. clean_nameLowerRatio\n",
    "5. clean_nameAvgWordLen\n",
    "6. clean_descriptionWordCount\n",
    "7. clean_descriptionLength\n",
    "8. clean_descriptionLowerCount\n",
    "9. clean_descriptionLowerRatio\n",
    "10. clean_descriptionAvgWordLen\n",
    "11. c1WordCount\n",
    "12. c1Length\n",
    "13. c1LowerCount\n",
    "14. c1LowerRatio\n",
    "15. c1AvgWordLen\n",
    "16. c2WordCount\n",
    "17. c2Length\n",
    "18. c2LowerCount\n",
    "19. c2LowerRatio\n",
    "20. c2AvgWordLen\n",
    "21. c3WordCount\n",
    "22. c3Length\n",
    "23. c3LowerCount\n",
    "24. c3LowerRatio\n",
    "25. c3AvgWordLen\n",
    "26. brand_nameWordCount\n",
    "27. brand_nameLength\n",
    "28. brand_nameLowerCount\n",
    "29. brand_nameLowerRatio\n",
    "30. brand_nameAvgWordLen\n",
    "31. nameStopWordCount\n",
    "32. namePunctuationCount\n",
    "33. nameSpecialCount\n",
    "34. item_descriptionStopWordCount\n",
    "35. item_descriptionPunctuationCount\n",
    "36. item_descriptionSpecialCount"
   ]
  },
  {
   "attachments": {},
   "cell_type": "markdown",
   "metadata": {},
   "source": [
    "Attributes with a max minus min of zero are dropped from dataframe that feeds into the feature selection model. The dropped columns are:\n",
    "1. clean_nameUpperCount\n",
    "2. clean_nameUpperRatio\n",
    "3. clean_descriptionUpperCount\n",
    "4. clean_descriptionUpperRatio\n",
    "5. c1UpperCount\n",
    "6. c1UpperRatio\n",
    "7. c2UpperCount\n",
    "8. c2UpperRatio\n",
    "9. c3UpperCount\n",
    "10. c3UpperRatio\n",
    "11. brand_nameUpperCount\n",
    "12. brand_nameUpperRatio"
   ]
  },
  {
   "cell_type": "code",
   "execution_count": null,
   "metadata": {},
   "outputs": [],
   "source": []
  }
 ],
 "metadata": {
  "hide_input": false,
  "kernelspec": {
   "display_name": "Python 3",
   "language": "python",
   "name": "python3"
  },
  "language_info": {
   "codemirror_mode": {
    "name": "ipython",
    "version": 3
   },
   "file_extension": ".py",
   "mimetype": "text/x-python",
   "name": "python",
   "nbconvert_exporter": "python",
   "pygments_lexer": "ipython3",
   "version": "3.8.3"
  },
  "toc": {
   "base_numbering": 1,
   "nav_menu": {},
   "number_sections": true,
   "sideBar": true,
   "skip_h1_title": false,
   "title_cell": "Table of Contents",
   "title_sidebar": "Contents",
   "toc_cell": false,
   "toc_position": {},
   "toc_section_display": true,
   "toc_window_display": false
  }
 },
 "nbformat": 4,
 "nbformat_minor": 4
}
