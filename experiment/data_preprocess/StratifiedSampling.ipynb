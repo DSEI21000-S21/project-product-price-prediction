{
 "cells": [
  {
   "cell_type": "code",
   "execution_count": 1,
   "metadata": {},
   "outputs": [],
   "source": [
    "import sys\n",
    "sys.path.append('/Users/jinchen/Desktop/DSE/IntroML/Project/project-product-price-prediction')"
   ]
  },
  {
   "cell_type": "code",
   "execution_count": 2,
   "metadata": {},
   "outputs": [],
   "source": [
    "from final.random_sampling.even_sample_brand import stratified_sampling_by_brand\n",
    "from final.random_sampling.even_sample_category import stratified_sampling_by_category\n",
    "from final.random_sampling.even_sample_by_price_range import stratified_sampling_by_price"
   ]
  },
  {
   "cell_type": "code",
   "execution_count": 5,
   "metadata": {},
   "outputs": [
    {
     "name": "stdout",
     "output_type": "stream",
     "text": [
      "(10, 15]       159063\n",
      "(5, 10]        138595\n",
      "(15, 20]       131590\n",
      "(20, 25]        89133\n",
      "(30, 40]        81128\n",
      "(25, 30]        67837\n",
      "(40, 50]        46248\n",
      "(50, 60]        29393\n",
      "(100, 200]      23771\n",
      "(0, 5]          20856\n",
      "(60, 70]        18648\n",
      "(70, 80]        12983\n",
      "(80, 90]         9753\n",
      "(200, 500]       7184\n",
      "(90, 100]        6839\n",
      "(500, 2500]       922\n",
      "Name: price_bin, dtype: int64\n",
      "(200, 500]     3131\n",
      "(100, 200]     3131\n",
      "(90, 100]      3131\n",
      "(80, 90]       3131\n",
      "(70, 80]       3131\n",
      "(60, 70]       3131\n",
      "(50, 60]       3131\n",
      "(40, 50]       3131\n",
      "(30, 40]       3131\n",
      "(25, 30]       3131\n",
      "(20, 25]       3131\n",
      "(15, 20]       3131\n",
      "(10, 15]       3131\n",
      "(5, 10]        3131\n",
      "(0, 5]         3131\n",
      "(500, 2500]    3035\n",
      "Name: price_bin, dtype: int64\n"
     ]
    }
   ],
   "source": [
    "price_sample_df = stratified_sampling_by_price(file_dir=\"../../data\",number_samples = 50000,\n",
    "                                               include_high_price = True, save_sample_df = True)"
   ]
  },
  {
   "cell_type": "code",
   "execution_count": 6,
   "metadata": {},
   "outputs": [
    {
     "name": "stdout",
     "output_type": "stream",
     "text": [
      "Adidas                 89\n",
      "Modcloth               89\n",
      "Yves Saint Laurent     89\n",
      "Wet Seal               89\n",
      "Pacific Sunwear        89\n",
      "                       ..\n",
      "Salvatore Ferragamo    87\n",
      "Wilton                 87\n",
      "Elmers                 87\n",
      "Alo                    86\n",
      "Sesame Street          86\n",
      "Name: brand_name, Length: 564, dtype: int64\n"
     ]
    }
   ],
   "source": [
    "brand_sample_df = stratified_sampling_by_brand(file_dir=\"../../data\",number_samples = 50000,\n",
    "                                               replace = False, save_sample_df = True)"
   ]
  },
  {
   "cell_type": "code",
   "execution_count": 7,
   "metadata": {},
   "outputs": [
    {
     "name": "stdout",
     "output_type": "stream",
     "text": [
      "sports & outdoors         5556\n",
      "electronics               5556\n",
      "men                       5556\n",
      "kids                      5556\n",
      "beauty                    5556\n",
      "other                     5555\n",
      "women                     5555\n",
      "home                      5555\n",
      "vintage & collectibles    5555\n",
      "Name: c1, dtype: int64\n"
     ]
    }
   ],
   "source": [
    "c1_sample_df = stratified_sampling_by_category(file_dir=\"../../data\", category_name  = \"c1\",number_samples = 50000,\n",
    "                                               replace = False, save_sample_df = True)"
   ]
  },
  {
   "cell_type": "code",
   "execution_count": 8,
   "metadata": {},
   "outputs": [
    {
     "name": "stdout",
     "output_type": "stream",
     "text": [
      "underwear                   798\n",
      "bath & body                 798\n",
      "toys                        798\n",
      "jeans                       798\n",
      "bags and purses             798\n",
      "                           ... \n",
      "women's handbags            793\n",
      "tv, audio & surveillance    790\n",
      "bedding                     774\n",
      "home appliances             743\n",
      "nursery                     731\n",
      "Name: c2, Length: 63, dtype: int64\n"
     ]
    }
   ],
   "source": [
    "c2_sample_df = stratified_sampling_by_category(file_dir=\"../../data\", category_name  = \"c2\",number_samples = 50000,\n",
    "                                               replace = False, save_sample_df = True)"
   ]
  },
  {
   "cell_type": "code",
   "execution_count": 9,
   "metadata": {},
   "outputs": [
    {
     "name": "stdout",
     "output_type": "stream",
     "text": [
      "hair styling tools            226\n",
      "swim trunks                   226\n",
      "tunic                         226\n",
      "electronics for kids          226\n",
      "kitchen utensils & gadgets    226\n",
      "                             ... \n",
      "hands & nails                 222\n",
      "bowl                          221\n",
      "necklaces                     221\n",
      "asymmetrical hem              220\n",
      "pleated                       218\n",
      "Name: c3, Length: 223, dtype: int64\n"
     ]
    }
   ],
   "source": [
    "c3_sample_df = stratified_sampling_by_category(file_dir=\"../../data\", category_name  = \"c3\",number_samples = 50000,\n",
    "                                               replace = False, save_sample_df = True)"
   ]
  },
  {
   "cell_type": "code",
   "execution_count": null,
   "metadata": {},
   "outputs": [],
   "source": []
  }
 ],
 "metadata": {
  "kernelspec": {
   "display_name": "Python 3",
   "language": "python",
   "name": "python3"
  },
  "language_info": {
   "codemirror_mode": {
    "name": "ipython",
    "version": 3
   },
   "file_extension": ".py",
   "mimetype": "text/x-python",
   "name": "python",
   "nbconvert_exporter": "python",
   "pygments_lexer": "ipython3",
   "version": "3.6.5"
  }
 },
 "nbformat": 4,
 "nbformat_minor": 4
}
