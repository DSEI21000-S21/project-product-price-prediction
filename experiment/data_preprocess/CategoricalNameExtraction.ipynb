{
 "cells": [
  {
   "cell_type": "code",
   "execution_count": 1,
   "metadata": {},
   "outputs": [],
   "source": [
    "import itertools\n",
    "import numpy as np\n",
    "import pandas as pd"
   ]
  },
  {
   "cell_type": "code",
   "execution_count": 13,
   "metadata": {},
   "outputs": [
    {
     "data": {
      "text/html": [
       "<div>\n",
       "<style scoped>\n",
       "    .dataframe tbody tr th:only-of-type {\n",
       "        vertical-align: middle;\n",
       "    }\n",
       "\n",
       "    .dataframe tbody tr th {\n",
       "        vertical-align: top;\n",
       "    }\n",
       "\n",
       "    .dataframe thead th {\n",
       "        text-align: right;\n",
       "    }\n",
       "</style>\n",
       "<table border=\"1\" class=\"dataframe\">\n",
       "  <thead>\n",
       "    <tr style=\"text-align: right;\">\n",
       "      <th></th>\n",
       "      <th>train_id</th>\n",
       "      <th>name</th>\n",
       "      <th>item_condition_id</th>\n",
       "      <th>category_name</th>\n",
       "      <th>brand_name</th>\n",
       "      <th>price</th>\n",
       "      <th>shipping</th>\n",
       "      <th>item_description</th>\n",
       "    </tr>\n",
       "  </thead>\n",
       "  <tbody>\n",
       "    <tr>\n",
       "      <th>0</th>\n",
       "      <td>748447</td>\n",
       "      <td>Polaroid Camera</td>\n",
       "      <td>3</td>\n",
       "      <td>Electronics/Cameras &amp; Photography/Film Photogr...</td>\n",
       "      <td>NaN</td>\n",
       "      <td>27.0</td>\n",
       "      <td>1</td>\n",
       "      <td>Film not included</td>\n",
       "    </tr>\n",
       "    <tr>\n",
       "      <th>1</th>\n",
       "      <td>674932</td>\n",
       "      <td>Vintage Ashtray</td>\n",
       "      <td>3</td>\n",
       "      <td>Vintage &amp; Collectibles/Housewares/Coaster</td>\n",
       "      <td>NaN</td>\n",
       "      <td>8.0</td>\n",
       "      <td>0</td>\n",
       "      <td>Sip n Smoke ashtray. Would make a cute gift!</td>\n",
       "    </tr>\n",
       "  </tbody>\n",
       "</table>\n",
       "</div>"
      ],
      "text/plain": [
       "   train_id             name  item_condition_id  \\\n",
       "0    748447  Polaroid Camera                  3   \n",
       "1    674932  Vintage Ashtray                  3   \n",
       "\n",
       "                                       category_name brand_name  price  \\\n",
       "0  Electronics/Cameras & Photography/Film Photogr...        NaN   27.0   \n",
       "1          Vintage & Collectibles/Housewares/Coaster        NaN    8.0   \n",
       "\n",
       "   shipping                              item_description  \n",
       "0         1                             Film not included  \n",
       "1         0  Sip n Smoke ashtray. Would make a cute gift!  "
      ]
     },
     "execution_count": 13,
     "metadata": {},
     "output_type": "execute_result"
    }
   ],
   "source": [
    "# read sample data\n",
    "sample_df = pd.read_csv(\"../../data/sample_data.csv\")\n",
    "sample_df.head(2)"
   ]
  },
  {
   "cell_type": "code",
   "execution_count": 16,
   "metadata": {},
   "outputs": [],
   "source": [
    "def create_new_categories(x):\n",
    "    try:\n",
    "        categories = x.split('/')\n",
    "        if len(categories) == 3:\n",
    "            return pd.Series({'c1':categories[0].lower().strip(), \n",
    "                              'c2':categories[1].lower().strip(),\n",
    "                              'c3':categories[2].lower().strip()})\n",
    "        return pd.Series({'c1': None, 'c2':None, 'c3': None})\n",
    "    except:\n",
    "        return pd.Series({'c1': None, 'c2':None, 'c3': None})\n",
    "\n"
   ]
  },
  {
   "cell_type": "code",
   "execution_count": 17,
   "metadata": {},
   "outputs": [],
   "source": [
    "\n",
    "new_df = pd.concat([sample_df[['train_id', 'name', 'item_condition_id', 'brand_name','price', 'shipping', 'item_description']], \n",
    "                    sample_df.category_name.apply(create_new_categories)], axis=1)"
   ]
  },
  {
   "cell_type": "code",
   "execution_count": 18,
   "metadata": {},
   "outputs": [
    {
     "data": {
      "text/plain": [
       "(557, 10)"
      ]
     },
     "execution_count": 18,
     "metadata": {},
     "output_type": "execute_result"
    }
   ],
   "source": [
    "new_df.dropna(inplace=True)\n",
    "new_df.shape"
   ]
  },
  {
   "cell_type": "code",
   "execution_count": 19,
   "metadata": {},
   "outputs": [
    {
     "data": {
      "text/html": [
       "<div>\n",
       "<style scoped>\n",
       "    .dataframe tbody tr th:only-of-type {\n",
       "        vertical-align: middle;\n",
       "    }\n",
       "\n",
       "    .dataframe tbody tr th {\n",
       "        vertical-align: top;\n",
       "    }\n",
       "\n",
       "    .dataframe thead th {\n",
       "        text-align: right;\n",
       "    }\n",
       "</style>\n",
       "<table border=\"1\" class=\"dataframe\">\n",
       "  <thead>\n",
       "    <tr style=\"text-align: right;\">\n",
       "      <th></th>\n",
       "      <th>train_id</th>\n",
       "      <th>name</th>\n",
       "      <th>item_condition_id</th>\n",
       "      <th>brand_name</th>\n",
       "      <th>price</th>\n",
       "      <th>shipping</th>\n",
       "      <th>item_description</th>\n",
       "      <th>c1</th>\n",
       "      <th>c2</th>\n",
       "      <th>c3</th>\n",
       "    </tr>\n",
       "  </thead>\n",
       "  <tbody>\n",
       "    <tr>\n",
       "      <th>6</th>\n",
       "      <td>1477709</td>\n",
       "      <td>Victoria's Secret Alabama sleep pants</td>\n",
       "      <td>2</td>\n",
       "      <td>Victoria's Secret</td>\n",
       "      <td>8.0</td>\n",
       "      <td>1</td>\n",
       "      <td>University of Alabama pajama pants. Size XS. S...</td>\n",
       "      <td>women</td>\n",
       "      <td>other</td>\n",
       "      <td>other</td>\n",
       "    </tr>\n",
       "    <tr>\n",
       "      <th>8</th>\n",
       "      <td>711453</td>\n",
       "      <td>Black top</td>\n",
       "      <td>3</td>\n",
       "      <td>Mossimo</td>\n",
       "      <td>8.0</td>\n",
       "      <td>1</td>\n",
       "      <td>Black off the shoulder top. Size small</td>\n",
       "      <td>women</td>\n",
       "      <td>tops &amp; blouses</td>\n",
       "      <td>blouse</td>\n",
       "    </tr>\n",
       "    <tr>\n",
       "      <th>10</th>\n",
       "      <td>834405</td>\n",
       "      <td>Express flip flops</td>\n",
       "      <td>3</td>\n",
       "      <td>Express</td>\n",
       "      <td>9.0</td>\n",
       "      <td>0</td>\n",
       "      <td>No description yet</td>\n",
       "      <td>women</td>\n",
       "      <td>shoes</td>\n",
       "      <td>sandals</td>\n",
       "    </tr>\n",
       "  </tbody>\n",
       "</table>\n",
       "</div>"
      ],
      "text/plain": [
       "    train_id                                   name  item_condition_id  \\\n",
       "6    1477709  Victoria's Secret Alabama sleep pants                  2   \n",
       "8     711453                              Black top                  3   \n",
       "10    834405                     Express flip flops                  3   \n",
       "\n",
       "           brand_name  price  shipping  \\\n",
       "6   Victoria's Secret    8.0         1   \n",
       "8             Mossimo    8.0         1   \n",
       "10            Express    9.0         0   \n",
       "\n",
       "                                     item_description     c1              c2  \\\n",
       "6   University of Alabama pajama pants. Size XS. S...  women           other   \n",
       "8              Black off the shoulder top. Size small  women  tops & blouses   \n",
       "10                                 No description yet  women           shoes   \n",
       "\n",
       "         c3  \n",
       "6     other  \n",
       "8    blouse  \n",
       "10  sandals  "
      ]
     },
     "execution_count": 19,
     "metadata": {},
     "output_type": "execute_result"
    }
   ],
   "source": [
    "new_df.head(3)"
   ]
  },
  {
   "cell_type": "code",
   "execution_count": 20,
   "metadata": {},
   "outputs": [
    {
     "data": {
      "text/plain": [
       "women                     298\n",
       "beauty                     71\n",
       "kids                       59\n",
       "men                        47\n",
       "electronics                29\n",
       "home                       23\n",
       "vintage & collectibles     18\n",
       "sports & outdoors           8\n",
       "other                       4\n",
       "Name: c1, dtype: int64"
      ]
     },
     "execution_count": 20,
     "metadata": {},
     "output_type": "execute_result"
    }
   ],
   "source": [
    "new_df.c1.value_counts()"
   ]
  },
  {
   "cell_type": "code",
   "execution_count": 22,
   "metadata": {},
   "outputs": [
    {
     "name": "stdout",
     "output_type": "stream",
     "text": [
      "58\n"
     ]
    },
    {
     "data": {
      "text/plain": [
       "athletic apparel             66\n",
       "makeup                       52\n",
       "tops & blouses               50\n",
       "shoes                        48\n",
       "toys                         26\n",
       "jeans                        25\n",
       "sweaters                     22\n",
       "jewelry                      20\n",
       "underwear                    18\n",
       "women's handbags             13\n",
       "video games & consoles       13\n",
       "cell phones & accessories    13\n",
       "dresses                      13\n",
       "kitchen & dining             12\n",
       "men's accessories            12\n",
       "women's accessories          11\n",
       "boys 0-24 mos                 8\n",
       "home décor                    8\n",
       "girls 2t-5t                   8\n",
       "tops                          8\n",
       "swimwear                      8\n",
       "coats & jackets               7\n",
       "fragrance                     7\n",
       "pants                         6\n",
       "other                         6\n",
       "toy                           5\n",
       "bath & body                   5\n",
       "sweats & hoodies              5\n",
       "skin care                     4\n",
       "skirts                        4\n",
       "electronics                   4\n",
       "girls (4+)                    4\n",
       "boys 2t-5t                    4\n",
       "girls 0-24 mos                4\n",
       "apparel                       3\n",
       "tools & accessories           3\n",
       "exercise                      3\n",
       "boys (4+)                     3\n",
       "trading cards                 3\n",
       "daily & travel items          2\n",
       "cameras & photography         2\n",
       "clothing                      2\n",
       "maternity                     2\n",
       "collectibles                  1\n",
       "tv, audio & surveillance      1\n",
       "kids' home store              1\n",
       "fan shop                      1\n",
       "bedding                       1\n",
       "feeding                       1\n",
       "footwear                      1\n",
       "housewares                    1\n",
       "cleaning supplies             1\n",
       "bags and purses               1\n",
       "office supplies               1\n",
       "gear                          1\n",
       "shorts                        1\n",
       "pet supplies                  1\n",
       "suits & blazers               1\n",
       "Name: c2, dtype: int64"
      ]
     },
     "execution_count": 22,
     "metadata": {},
     "output_type": "execute_result"
    }
   ],
   "source": [
    "print(len(new_df.c2.unique()))\n",
    "new_df.c2.value_counts()"
   ]
  },
  {
   "cell_type": "code",
   "execution_count": 25,
   "metadata": {},
   "outputs": [
    {
     "name": "stdout",
     "output_type": "stream",
     "text": [
      "146\n"
     ]
    },
    {
     "data": {
      "text/plain": [
       "t-shirts                   32\n",
       "pants, tights, leggings    26\n",
       "face                       23\n",
       "other                      21\n",
       "eyes                       13\n",
       "                           ..\n",
       "yoga & pilates              1\n",
       "capri, cropped              1\n",
       "digital cameras             1\n",
       "writing                     1\n",
       "nfl                         1\n",
       "Name: c3, Length: 146, dtype: int64"
      ]
     },
     "execution_count": 25,
     "metadata": {},
     "output_type": "execute_result"
    }
   ],
   "source": [
    "print(len(new_df.c3.unique()))\n",
    "new_df.c3.value_counts()"
   ]
  },
  {
   "cell_type": "code",
   "execution_count": null,
   "metadata": {},
   "outputs": [],
   "source": []
  }
 ],
 "metadata": {
  "kernelspec": {
   "display_name": "Python 3",
   "language": "python",
   "name": "python3"
  },
  "language_info": {
   "codemirror_mode": {
    "name": "ipython",
    "version": 3
   },
   "file_extension": ".py",
   "mimetype": "text/x-python",
   "name": "python",
   "nbconvert_exporter": "python",
   "pygments_lexer": "ipython3",
   "version": "3.6.5"
  }
 },
 "nbformat": 4,
 "nbformat_minor": 4
}
