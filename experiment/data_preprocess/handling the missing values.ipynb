{
 "cells": [
  {
   "cell_type": "code",
   "execution_count": 1,
   "metadata": {
    "ExecuteTime": {
     "end_time": "2021-04-19T15:37:48.724901Z",
     "start_time": "2021-04-19T15:37:47.865894Z"
    },
    "id": "B8OddB1kVtAf"
   },
   "outputs": [],
   "source": [
    "import pandas as pd"
   ]
  },
  {
   "cell_type": "code",
   "execution_count": 2,
   "metadata": {
    "ExecuteTime": {
     "end_time": "2021-04-19T15:37:49.321208Z",
     "start_time": "2021-04-19T15:37:48.743878Z"
    },
    "id": "0rddZ8a8WR9f"
   },
   "outputs": [],
   "source": [
    "df = pd.read_csv(\"https://raw.githubusercontent.com/jinchen1036/Product-Price-Prediction/main/data/sample_data.csv\")"
   ]
  },
  {
   "cell_type": "code",
   "execution_count": 3,
   "metadata": {
    "ExecuteTime": {
     "end_time": "2021-04-19T15:37:50.119873Z",
     "start_time": "2021-04-19T15:37:50.101919Z"
    },
    "colab": {
     "base_uri": "https://localhost:8080/"
    },
    "executionInfo": {
     "elapsed": 428,
     "status": "ok",
     "timestamp": 1618578562221,
     "user": {
      "displayName": "Zhi Li",
      "photoUrl": "https://lh3.googleusercontent.com/a-/AOh14GjkDrUcuUWO68_WcG7NmUWzUsq8ZdHkgZAqvG9X=s64",
      "userId": "11346987232231361444"
     },
     "user_tz": 240
    },
    "id": "heVVByq0WXI6",
    "outputId": "bc42feed-64ca-4c7e-994a-fe0fd294dddb"
   },
   "outputs": [
    {
     "data": {
      "text/plain": [
       "(1000, 8)"
      ]
     },
     "execution_count": 3,
     "metadata": {},
     "output_type": "execute_result"
    }
   ],
   "source": [
    "df.shape"
   ]
  },
  {
   "cell_type": "code",
   "execution_count": 4,
   "metadata": {
    "ExecuteTime": {
     "end_time": "2021-04-19T15:37:51.218613Z",
     "start_time": "2021-04-19T15:37:51.202614Z"
    },
    "colab": {
     "base_uri": "https://localhost:8080/"
    },
    "executionInfo": {
     "elapsed": 272,
     "status": "ok",
     "timestamp": 1618578563255,
     "user": {
      "displayName": "Zhi Li",
      "photoUrl": "https://lh3.googleusercontent.com/a-/AOh14GjkDrUcuUWO68_WcG7NmUWzUsq8ZdHkgZAqvG9X=s64",
      "userId": "11346987232231361444"
     },
     "user_tz": 240
    },
    "id": "QgI1DmogWht-",
    "outputId": "6c24a5c1-e1ed-47e8-f647-aab655afa11b"
   },
   "outputs": [
    {
     "data": {
      "text/plain": [
       "Index(['train_id', 'name', 'item_condition_id', 'category_name', 'brand_name',\n",
       "       'price', 'shipping', 'item_description'],\n",
       "      dtype='object')"
      ]
     },
     "execution_count": 4,
     "metadata": {},
     "output_type": "execute_result"
    }
   ],
   "source": [
    "df.columns"
   ]
  },
  {
   "cell_type": "code",
   "execution_count": 5,
   "metadata": {
    "ExecuteTime": {
     "end_time": "2021-04-19T15:37:53.525939Z",
     "start_time": "2021-04-19T15:37:53.504985Z"
    },
    "colab": {
     "base_uri": "https://localhost:8080/"
    },
    "executionInfo": {
     "elapsed": 285,
     "status": "ok",
     "timestamp": 1618578564341,
     "user": {
      "displayName": "Zhi Li",
      "photoUrl": "https://lh3.googleusercontent.com/a-/AOh14GjkDrUcuUWO68_WcG7NmUWzUsq8ZdHkgZAqvG9X=s64",
      "userId": "11346987232231361444"
     },
     "user_tz": 240
    },
    "id": "JiKA8VntWkKu",
    "outputId": "d7c60abd-75b0-40a1-9a66-31a4aa161d6a"
   },
   "outputs": [
    {
     "name": "stdout",
     "output_type": "stream",
     "text": [
      "<class 'pandas.core.frame.DataFrame'>\n",
      "RangeIndex: 1000 entries, 0 to 999\n",
      "Data columns (total 8 columns):\n",
      " #   Column             Non-Null Count  Dtype  \n",
      "---  ------             --------------  -----  \n",
      " 0   train_id           1000 non-null   int64  \n",
      " 1   name               1000 non-null   object \n",
      " 2   item_condition_id  1000 non-null   int64  \n",
      " 3   category_name      996 non-null    object \n",
      " 4   brand_name         561 non-null    object \n",
      " 5   price              1000 non-null   float64\n",
      " 6   shipping           1000 non-null   int64  \n",
      " 7   item_description   1000 non-null   object \n",
      "dtypes: float64(1), int64(3), object(4)\n",
      "memory usage: 62.6+ KB\n"
     ]
    }
   ],
   "source": [
    "df.info()"
   ]
  },
  {
   "cell_type": "code",
   "execution_count": 6,
   "metadata": {
    "ExecuteTime": {
     "end_time": "2021-04-19T15:38:01.301017Z",
     "start_time": "2021-04-19T15:38:01.286097Z"
    },
    "colab": {
     "base_uri": "https://localhost:8080/",
     "height": 204
    },
    "executionInfo": {
     "elapsed": 310,
     "status": "ok",
     "timestamp": 1618578566428,
     "user": {
      "displayName": "Zhi Li",
      "photoUrl": "https://lh3.googleusercontent.com/a-/AOh14GjkDrUcuUWO68_WcG7NmUWzUsq8ZdHkgZAqvG9X=s64",
      "userId": "11346987232231361444"
     },
     "user_tz": 240
    },
    "id": "hCuD2rpLXZx6",
    "outputId": "63a16387-2e94-4f3a-98df-747b498c7a70"
   },
   "outputs": [
    {
     "data": {
      "text/html": [
       "<div>\n",
       "<style scoped>\n",
       "    .dataframe tbody tr th:only-of-type {\n",
       "        vertical-align: middle;\n",
       "    }\n",
       "\n",
       "    .dataframe tbody tr th {\n",
       "        vertical-align: top;\n",
       "    }\n",
       "\n",
       "    .dataframe thead th {\n",
       "        text-align: right;\n",
       "    }\n",
       "</style>\n",
       "<table border=\"1\" class=\"dataframe\">\n",
       "  <thead>\n",
       "    <tr style=\"text-align: right;\">\n",
       "      <th></th>\n",
       "      <th>train_id</th>\n",
       "      <th>name</th>\n",
       "      <th>item_condition_id</th>\n",
       "      <th>category_name</th>\n",
       "      <th>brand_name</th>\n",
       "      <th>price</th>\n",
       "      <th>shipping</th>\n",
       "      <th>item_description</th>\n",
       "    </tr>\n",
       "  </thead>\n",
       "  <tbody>\n",
       "    <tr>\n",
       "      <th>0</th>\n",
       "      <td>748447</td>\n",
       "      <td>Polaroid Camera</td>\n",
       "      <td>3</td>\n",
       "      <td>Electronics/Cameras &amp; Photography/Film Photogr...</td>\n",
       "      <td>NaN</td>\n",
       "      <td>27.0</td>\n",
       "      <td>1</td>\n",
       "      <td>Film not included</td>\n",
       "    </tr>\n",
       "    <tr>\n",
       "      <th>1</th>\n",
       "      <td>674932</td>\n",
       "      <td>Vintage Ashtray</td>\n",
       "      <td>3</td>\n",
       "      <td>Vintage &amp; Collectibles/Housewares/Coaster</td>\n",
       "      <td>NaN</td>\n",
       "      <td>8.0</td>\n",
       "      <td>0</td>\n",
       "      <td>Sip n Smoke ashtray. Would make a cute gift!</td>\n",
       "    </tr>\n",
       "    <tr>\n",
       "      <th>2</th>\n",
       "      <td>586672</td>\n",
       "      <td>Matilda Jane weekender nwt</td>\n",
       "      <td>1</td>\n",
       "      <td>Women/Women's Handbags/Other</td>\n",
       "      <td>NaN</td>\n",
       "      <td>52.0</td>\n",
       "      <td>0</td>\n",
       "      <td>NWT. Matilda Jane Clothing weekender bag. Over...</td>\n",
       "    </tr>\n",
       "    <tr>\n",
       "      <th>3</th>\n",
       "      <td>846012</td>\n",
       "      <td>Red Full Lace Wig</td>\n",
       "      <td>3</td>\n",
       "      <td>Women/Women's Accessories/Hair Accessories</td>\n",
       "      <td>NaN</td>\n",
       "      <td>69.0</td>\n",
       "      <td>0</td>\n",
       "      <td>12 inches</td>\n",
       "    </tr>\n",
       "    <tr>\n",
       "      <th>4</th>\n",
       "      <td>1026408</td>\n",
       "      <td>EQUATE NICOTINE TRANSDERMAL SYSTEM</td>\n",
       "      <td>1</td>\n",
       "      <td>Other/Daily &amp; Travel items/Personal Care</td>\n",
       "      <td>NaN</td>\n",
       "      <td>19.0</td>\n",
       "      <td>0</td>\n",
       "      <td>13 patches left. Too strong for my husband.</td>\n",
       "    </tr>\n",
       "  </tbody>\n",
       "</table>\n",
       "</div>"
      ],
      "text/plain": [
       "   train_id                                name  item_condition_id  \\\n",
       "0    748447                     Polaroid Camera                  3   \n",
       "1    674932                     Vintage Ashtray                  3   \n",
       "2    586672          Matilda Jane weekender nwt                  1   \n",
       "3    846012                   Red Full Lace Wig                  3   \n",
       "4   1026408  EQUATE NICOTINE TRANSDERMAL SYSTEM                  1   \n",
       "\n",
       "                                       category_name brand_name  price  \\\n",
       "0  Electronics/Cameras & Photography/Film Photogr...        NaN   27.0   \n",
       "1          Vintage & Collectibles/Housewares/Coaster        NaN    8.0   \n",
       "2                       Women/Women's Handbags/Other        NaN   52.0   \n",
       "3         Women/Women's Accessories/Hair Accessories        NaN   69.0   \n",
       "4           Other/Daily & Travel items/Personal Care        NaN   19.0   \n",
       "\n",
       "   shipping                                   item_description  \n",
       "0         1                                  Film not included  \n",
       "1         0       Sip n Smoke ashtray. Would make a cute gift!  \n",
       "2         0  NWT. Matilda Jane Clothing weekender bag. Over...  \n",
       "3         0                                          12 inches  \n",
       "4         0        13 patches left. Too strong for my husband.  "
      ]
     },
     "execution_count": 6,
     "metadata": {},
     "output_type": "execute_result"
    }
   ],
   "source": [
    "df.head()"
   ]
  },
  {
   "cell_type": "markdown",
   "metadata": {},
   "source": [
    "## Visualizing the distribution of missing data"
   ]
  },
  {
   "cell_type": "code",
   "execution_count": 7,
   "metadata": {
    "ExecuteTime": {
     "end_time": "2021-04-19T15:38:05.646545Z",
     "start_time": "2021-04-19T15:38:04.017126Z"
    },
    "colab": {
     "base_uri": "https://localhost:8080/",
     "height": 721
    },
    "executionInfo": {
     "elapsed": 2139,
     "status": "ok",
     "timestamp": 1618578570084,
     "user": {
      "displayName": "Zhi Li",
      "photoUrl": "https://lh3.googleusercontent.com/a-/AOh14GjkDrUcuUWO68_WcG7NmUWzUsq8ZdHkgZAqvG9X=s64",
      "userId": "11346987232231361444"
     },
     "user_tz": 240
    },
    "id": "9Ph7RLtpZjei",
    "outputId": "1bacdcea-67ef-48d5-8a49-d82d72918e84",
    "scrolled": false
   },
   "outputs": [
    {
     "data": {
      "text/plain": [
       "<matplotlib.axes._subplots.AxesSubplot at 0x26f2ab67910>"
      ]
     },
     "execution_count": 7,
     "metadata": {},
     "output_type": "execute_result"
    },
    {
     "data": {
      "image/png": "[encoded data removed]",
      "text/plain": [
       "<Figure size 1800x720 with 2 Axes>"
      ]
     },
     "metadata": {
      "needs_background": "light"
     },
     "output_type": "display_data"
    }
   ],
   "source": [
    "import missingno as msno\n",
    "%matplotlib inline\n",
    "msno.matrix(df.sample(1000))"
   ]
  },
  {
   "cell_type": "code",
   "execution_count": 25,
   "metadata": {
    "ExecuteTime": {
     "end_time": "2021-04-19T19:17:14.891253Z",
     "start_time": "2021-04-19T19:17:14.867272Z"
    }
   },
   "outputs": [
    {
     "data": {
      "text/html": [
       "<div>\n",
       "<style scoped>\n",
       "    .dataframe tbody tr th:only-of-type {\n",
       "        vertical-align: middle;\n",
       "    }\n",
       "\n",
       "    .dataframe tbody tr th {\n",
       "        vertical-align: top;\n",
       "    }\n",
       "\n",
       "    .dataframe thead th {\n",
       "        text-align: right;\n",
       "    }\n",
       "</style>\n",
       "<table border=\"1\" class=\"dataframe\">\n",
       "  <thead>\n",
       "    <tr style=\"text-align: right;\">\n",
       "      <th></th>\n",
       "      <th>train_id</th>\n",
       "      <th>name</th>\n",
       "      <th>item_condition_id</th>\n",
       "      <th>category_name</th>\n",
       "      <th>brand_name</th>\n",
       "      <th>price</th>\n",
       "      <th>shipping</th>\n",
       "      <th>item_description</th>\n",
       "    </tr>\n",
       "  </thead>\n",
       "  <tbody>\n",
       "    <tr>\n",
       "      <th>662</th>\n",
       "      <td>115909</td>\n",
       "      <td>B&amp;B Works Tutti Dolci Honey Praline FS</td>\n",
       "      <td>1</td>\n",
       "      <td>Beauty/Bath &amp; Body/Bath</td>\n",
       "      <td>Bath &amp; Body Works</td>\n",
       "      <td>9.0</td>\n",
       "      <td>1</td>\n",
       "      <td>Brand new, 8 oz. Bath &amp; Body Works Tutti Dolci...</td>\n",
       "    </tr>\n",
       "    <tr>\n",
       "      <th>850</th>\n",
       "      <td>1404771</td>\n",
       "      <td>BBW Sweet Berries &amp; Cream Hand Soaps</td>\n",
       "      <td>1</td>\n",
       "      <td>Beauty/Bath &amp; Body/Bath</td>\n",
       "      <td>Bath &amp; Body Works</td>\n",
       "      <td>16.0</td>\n",
       "      <td>0</td>\n",
       "      <td>Brand new never used Bath &amp; Body Works Sweet B...</td>\n",
       "    </tr>\n",
       "    <tr>\n",
       "      <th>960</th>\n",
       "      <td>837627</td>\n",
       "      <td>Bath and Body Works Body Cream- Set of 3</td>\n",
       "      <td>1</td>\n",
       "      <td>Beauty/Bath &amp; Body/Bath</td>\n",
       "      <td>Bath &amp; Body Works</td>\n",
       "      <td>20.0</td>\n",
       "      <td>1</td>\n",
       "      <td>Three full size body creams! Sweet Magnolia an...</td>\n",
       "    </tr>\n",
       "    <tr>\n",
       "      <th>447</th>\n",
       "      <td>584300</td>\n",
       "      <td>Ahhh sugar sugar je'taime meringue</td>\n",
       "      <td>2</td>\n",
       "      <td>Beauty/Bath &amp; Body/Bath</td>\n",
       "      <td>NaN</td>\n",
       "      <td>20.0</td>\n",
       "      <td>0</td>\n",
       "      <td>Ahhh sugar sugar Je'taime meringue New never u...</td>\n",
       "    </tr>\n",
       "    <tr>\n",
       "      <th>703</th>\n",
       "      <td>179240</td>\n",
       "      <td>VS pink robe</td>\n",
       "      <td>1</td>\n",
       "      <td>Beauty/Bath &amp; Body/Bathing Accessories</td>\n",
       "      <td>Victoria's Secret</td>\n",
       "      <td>20.0</td>\n",
       "      <td>1</td>\n",
       "      <td>Size XS/S</td>\n",
       "    </tr>\n",
       "    <tr>\n",
       "      <th>...</th>\n",
       "      <td>...</td>\n",
       "      <td>...</td>\n",
       "      <td>...</td>\n",
       "      <td>...</td>\n",
       "      <td>...</td>\n",
       "      <td>...</td>\n",
       "      <td>...</td>\n",
       "      <td>...</td>\n",
       "    </tr>\n",
       "    <tr>\n",
       "      <th>963</th>\n",
       "      <td>1105250</td>\n",
       "      <td>thirty-one Tote</td>\n",
       "      <td>2</td>\n",
       "      <td>Women/Women's Handbags/Totes &amp; Shoppers</td>\n",
       "      <td>NaN</td>\n",
       "      <td>25.0</td>\n",
       "      <td>0</td>\n",
       "      <td>Grey twill polka dot tote. It's roomy enough f...</td>\n",
       "    </tr>\n",
       "    <tr>\n",
       "      <th>783</th>\n",
       "      <td>642294</td>\n",
       "      <td>Obey Long-Sleeve Tee</td>\n",
       "      <td>2</td>\n",
       "      <td>NaN</td>\n",
       "      <td>Obey</td>\n",
       "      <td>14.0</td>\n",
       "      <td>0</td>\n",
       "      <td>New Obey shirt, made in India. Never worn and ...</td>\n",
       "    </tr>\n",
       "    <tr>\n",
       "      <th>32</th>\n",
       "      <td>709494</td>\n",
       "      <td>Vans Purple And Blue Ombre Shoes</td>\n",
       "      <td>2</td>\n",
       "      <td>NaN</td>\n",
       "      <td>VANS</td>\n",
       "      <td>26.0</td>\n",
       "      <td>0</td>\n",
       "      <td>Worn once. Men's size 9, women's size 10</td>\n",
       "    </tr>\n",
       "    <tr>\n",
       "      <th>571</th>\n",
       "      <td>1377532</td>\n",
       "      <td>Victoria Secret</td>\n",
       "      <td>2</td>\n",
       "      <td>NaN</td>\n",
       "      <td>Victoria's Secret</td>\n",
       "      <td>15.0</td>\n",
       "      <td>1</td>\n",
       "      <td>Girl's Night Flirty peony and waterlily Unused...</td>\n",
       "    </tr>\n",
       "    <tr>\n",
       "      <th>549</th>\n",
       "      <td>1151692</td>\n",
       "      <td>Adobe Cs3 And Cs4 ON HOLD For Dave</td>\n",
       "      <td>3</td>\n",
       "      <td>NaN</td>\n",
       "      <td>NaN</td>\n",
       "      <td>65.0</td>\n",
       "      <td>1</td>\n",
       "      <td>No description yet</td>\n",
       "    </tr>\n",
       "  </tbody>\n",
       "</table>\n",
       "<p>1000 rows × 8 columns</p>\n",
       "</div>"
      ],
      "text/plain": [
       "     train_id                                      name  item_condition_id  \\\n",
       "662    115909    B&B Works Tutti Dolci Honey Praline FS                  1   \n",
       "850   1404771      BBW Sweet Berries & Cream Hand Soaps                  1   \n",
       "960    837627  Bath and Body Works Body Cream- Set of 3                  1   \n",
       "447    584300        Ahhh sugar sugar je'taime meringue                  2   \n",
       "703    179240                              VS pink robe                  1   \n",
       "..        ...                                       ...                ...   \n",
       "963   1105250                           thirty-one Tote                  2   \n",
       "783    642294                      Obey Long-Sleeve Tee                  2   \n",
       "32     709494          Vans Purple And Blue Ombre Shoes                  2   \n",
       "571   1377532                           Victoria Secret                  2   \n",
       "549   1151692        Adobe Cs3 And Cs4 ON HOLD For Dave                  3   \n",
       "\n",
       "                               category_name         brand_name  price  \\\n",
       "662                  Beauty/Bath & Body/Bath  Bath & Body Works    9.0   \n",
       "850                  Beauty/Bath & Body/Bath  Bath & Body Works   16.0   \n",
       "960                  Beauty/Bath & Body/Bath  Bath & Body Works   20.0   \n",
       "447                  Beauty/Bath & Body/Bath                NaN   20.0   \n",
       "703   Beauty/Bath & Body/Bathing Accessories  Victoria's Secret   20.0   \n",
       "..                                       ...                ...    ...   \n",
       "963  Women/Women's Handbags/Totes & Shoppers                NaN   25.0   \n",
       "783                                      NaN               Obey   14.0   \n",
       "32                                       NaN               VANS   26.0   \n",
       "571                                      NaN  Victoria's Secret   15.0   \n",
       "549                                      NaN                NaN   65.0   \n",
       "\n",
       "     shipping                                   item_description  \n",
       "662         1  Brand new, 8 oz. Bath & Body Works Tutti Dolci...  \n",
       "850         0  Brand new never used Bath & Body Works Sweet B...  \n",
       "960         1  Three full size body creams! Sweet Magnolia an...  \n",
       "447         0  Ahhh sugar sugar Je'taime meringue New never u...  \n",
       "703         1                                          Size XS/S  \n",
       "..        ...                                                ...  \n",
       "963         0  Grey twill polka dot tote. It's roomy enough f...  \n",
       "783         0  New Obey shirt, made in India. Never worn and ...  \n",
       "32          0           Worn once. Men's size 9, women's size 10  \n",
       "571         1  Girl's Night Flirty peony and waterlily Unused...  \n",
       "549         1                                 No description yet  \n",
       "\n",
       "[1000 rows x 8 columns]"
      ]
     },
     "execution_count": 25,
     "metadata": {},
     "output_type": "execute_result"
    }
   ],
   "source": [
    "# sort df and see which category has the most missing data\n",
    "df.sort_values(by=[\"category_name\",\"brand_name\"],inplace=True)\n",
    "df"
   ]
  },
  {
   "cell_type": "code",
   "execution_count": 44,
   "metadata": {
    "ExecuteTime": {
     "end_time": "2021-04-19T19:29:48.199414Z",
     "start_time": "2021-04-19T19:29:47.943099Z"
    }
   },
   "outputs": [
    {
     "data": {
      "text/plain": [
       "<matplotlib.axes._subplots.AxesSubplot at 0x26f2f363cd0>"
      ]
     },
     "execution_count": 44,
     "metadata": {},
     "output_type": "execute_result"
    },
    {
     "data": {
      "image/png": "[encoded data removed]",
      "text/plain": [
       "<Figure size 1800x720 with 2 Axes>"
      ]
     },
     "metadata": {
      "needs_background": "light"
     },
     "output_type": "display_data"
    }
   ],
   "source": [
    "# isolate missing and complete data aside\n",
    "missing_brand = df[df['brand_name'].isna()]\n",
    "complete_brand = df[~df['brand_name'].isna()]\n",
    "sorted_cate_df = df.sort_values(by=\"brand_name\")\n",
    "msno.matrix(sorted_cate_df)"
   ]
  },
  {
   "cell_type": "code",
   "execution_count": 49,
   "metadata": {
    "ExecuteTime": {
     "end_time": "2021-04-19T19:33:07.443667Z",
     "start_time": "2021-04-19T19:33:07.424758Z"
    }
   },
   "outputs": [
    {
     "name": "stdout",
     "output_type": "stream",
     "text": [
      "<class 'pandas.core.frame.DataFrame'>\n",
      "Int64Index: 439 entries, 447 to 549\n",
      "Data columns (total 8 columns):\n",
      " #   Column             Non-Null Count  Dtype  \n",
      "---  ------             --------------  -----  \n",
      " 0   train_id           439 non-null    int64  \n",
      " 1   name               439 non-null    object \n",
      " 2   item_condition_id  439 non-null    int64  \n",
      " 3   category_name      438 non-null    object \n",
      " 4   brand_name         0 non-null      object \n",
      " 5   price              439 non-null    float64\n",
      " 6   shipping           439 non-null    int64  \n",
      " 7   item_description   439 non-null    object \n",
      "dtypes: float64(1), int64(3), object(4)\n",
      "memory usage: 30.9+ KB\n"
     ]
    }
   ],
   "source": [
    "df[df['brand_name'].isna()].info()\n",
    "# only one category_name is missing under the condition of brand_name missing. "
   ]
  },
  {
   "cell_type": "code",
   "execution_count": null,
   "metadata": {},
   "outputs": [],
   "source": []
  },
  {
   "cell_type": "code",
   "execution_count": null,
   "metadata": {},
   "outputs": [],
   "source": []
  },
  {
   "cell_type": "code",
   "execution_count": null,
   "metadata": {},
   "outputs": [],
   "source": []
  },
  {
   "cell_type": "code",
   "execution_count": null,
   "metadata": {
    "id": "NfqpNPk5zTeA"
   },
   "outputs": [],
   "source": []
  }
 ],
 "metadata": {
  "colab": {
   "authorship_tag": "ABX9TyNGnYb/RP26kStRxHtK/cZ6",
   "name": "Missing Data.ipynb",
   "provenance": []
  },
  "kernelspec": {
   "display_name": "Python 3",
   "language": "python",
   "name": "python3"
  },
  "language_info": {
   "codemirror_mode": {
    "name": "ipython",
    "version": 3
   },
   "file_extension": ".py",
   "mimetype": "text/x-python",
   "name": "python",
   "nbconvert_exporter": "python",
   "pygments_lexer": "ipython3",
   "version": "3.8.3"
  },
  "toc": {
   "base_numbering": 1,
   "nav_menu": {},
   "number_sections": true,
   "sideBar": true,
   "skip_h1_title": false,
   "title_cell": "Table of Contents",
   "title_sidebar": "Contents",
   "toc_cell": false,
   "toc_position": {},
   "toc_section_display": true,
   "toc_window_display": false
  },
  "varInspector": {
   "cols": {
    "lenName": 16,
    "lenType": 16,
    "lenVar": 40
   },
   "kernels_config": {
    "python": {
     "delete_cmd_postfix": "",
     "delete_cmd_prefix": "del ",
     "library": "var_list.py",
     "varRefreshCmd": "print(var_dic_list())"
    },
    "r": {
     "delete_cmd_postfix": ") ",
     "delete_cmd_prefix": "rm(",
     "library": "var_list.r",
     "varRefreshCmd": "cat(var_dic_list()) "
    }
   },
   "types_to_exclude": [
    "module",
    "function",
    "builtin_function_or_method",
    "instance",
    "_Feature"
   ],
   "window_display": false
  }
 },
 "nbformat": 4,
 "nbformat_minor": 1
}
