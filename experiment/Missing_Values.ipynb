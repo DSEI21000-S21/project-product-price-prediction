{
  "nbformat": 4,
  "nbformat_minor": 0,
  "metadata": {
    "colab": {
      "name": "Missing_Values.ipynb",
      "provenance": [],
      "authorship_tag": "ABX9TyOj4mtnlTX5CdbiI90IyOi5",
      "include_colab_link": true
    },
    "kernelspec": {
      "name": "python3",
      "display_name": "Python 3"
    },
    "language_info": {
      "name": "python"
    }
  },
  "cells": [
    {
      "cell_type": "markdown",
      "metadata": {
        "id": "view-in-github",
        "colab_type": "text"
      },
      "source": [
        "<a href=\"https://colab.research.google.com/github/jinchen1036/Product-Price-Prediction/blob/main/experiment/Missing_Values.ipynb\" target=\"_parent\"><img src=\"https://colab.research.google.com/assets/colab-badge.svg\" alt=\"Open In Colab\"/></a>"
      ]
    },
    {
      "cell_type": "code",
      "metadata": {
        "id": "A1e963CbUd7m"
      },
      "source": [
        "import pandas as pd\n",
        "# get data\n",
        "df = pd.read_csv(\"https://raw.githubusercontent.com/jinchen1036/Product-Price-Prediction/main/data/sample_data.csv\",sep=\",\")"
      ],
      "execution_count": 4,
      "outputs": []
    },
    {
      "cell_type": "code",
      "metadata": {
        "colab": {
          "base_uri": "https://localhost:8080/"
        },
        "id": "NynWci8sVa3j",
        "outputId": "0497d703-ce6f-4e1a-a59f-d92cf30f4719"
      },
      "source": [
        "# information about the data\n",
        "df.info()"
      ],
      "execution_count": 5,
      "outputs": [
        {
          "output_type": "stream",
          "text": [
            "<class 'pandas.core.frame.DataFrame'>\n",
            "RangeIndex: 1000 entries, 0 to 999\n",
            "Data columns (total 8 columns):\n",
            " #   Column             Non-Null Count  Dtype  \n",
            "---  ------             --------------  -----  \n",
            " 0   train_id           1000 non-null   int64  \n",
            " 1   name               1000 non-null   object \n",
            " 2   item_condition_id  1000 non-null   int64  \n",
            " 3   category_name      996 non-null    object \n",
            " 4   brand_name         561 non-null    object \n",
            " 5   price              1000 non-null   float64\n",
            " 6   shipping           1000 non-null   int64  \n",
            " 7   item_description   1000 non-null   object \n",
            "dtypes: float64(1), int64(3), object(4)\n",
            "memory usage: 62.6+ KB\n"
          ],
          "name": "stdout"
        }
      ]
    },
    {
      "cell_type": "code",
      "metadata": {
        "id": "ktbicflGVjZ4"
      },
      "source": [
        ""
      ],
      "execution_count": null,
      "outputs": []
    }
  ]
}