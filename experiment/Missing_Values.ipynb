{
  "nbformat": 4,
  "nbformat_minor": 0,
  "metadata": {
    "colab": {
      "name": "Missing_Values.ipynb",
      "provenance": [],
      "collapsed_sections": [],
      "authorship_tag": "ABX9TyM7s38FXsDxIRlT4LQxTDb3",
      "include_colab_link": true
    },
    "kernelspec": {
      "name": "python3",
      "display_name": "Python 3"
    },
    "language_info": {
      "name": "python"
    }
  },
  "cells": [
    {
      "cell_type": "markdown",
      "metadata": {
        "id": "view-in-github",
        "colab_type": "text"
      },
      "source": [
        "<a href=\"https://colab.research.google.com/github/jinchen1036/Product-Price-Prediction/blob/main/experiment/Missing_Values.ipynb\" target=\"_parent\"><img src=\"https://colab.research.google.com/assets/colab-badge.svg\" alt=\"Open In Colab\"/></a>"
      ]
    },
    {
      "cell_type": "code",
      "metadata": {
        "id": "A1e963CbUd7m"
      },
      "source": [
        "import pandas as pd\n",
        "# get data\n",
        "df = pd.read_csv(\"https://raw.githubusercontent.com/jinchen1036/Product-Price-Prediction/main/data/sample_data.csv\",sep=\",\")"
      ],
      "execution_count": 2,
      "outputs": []
    },
    {
      "cell_type": "code",
      "metadata": {
        "colab": {
          "base_uri": "https://localhost:8080/"
        },
        "id": "NynWci8sVa3j",
        "outputId": "26bc05b3-751b-4d90-8eb5-640a7ddad2eb"
      },
      "source": [
        "# information about the data\n",
        "df.info()"
      ],
      "execution_count": 3,
      "outputs": [
        {
          "output_type": "stream",
          "text": [
            "<class 'pandas.core.frame.DataFrame'>\n",
            "RangeIndex: 1000 entries, 0 to 999\n",
            "Data columns (total 8 columns):\n",
            " #   Column             Non-Null Count  Dtype  \n",
            "---  ------             --------------  -----  \n",
            " 0   train_id           1000 non-null   int64  \n",
            " 1   name               1000 non-null   object \n",
            " 2   item_condition_id  1000 non-null   int64  \n",
            " 3   category_name      996 non-null    object \n",
            " 4   brand_name         561 non-null    object \n",
            " 5   price              1000 non-null   float64\n",
            " 6   shipping           1000 non-null   int64  \n",
            " 7   item_description   1000 non-null   object \n",
            "dtypes: float64(1), int64(3), object(4)\n",
            "memory usage: 62.6+ KB\n"
          ],
          "name": "stdout"
        }
      ]
    },
    {
      "cell_type": "code",
      "metadata": {
        "colab": {
          "base_uri": "https://localhost:8080/"
        },
        "id": "ktbicflGVjZ4",
        "outputId": "dcaff2a7-6ace-439b-816b-8b8b68532418"
      },
      "source": [
        "# How many unique category_name\n",
        "number_of_category_names = len(df.category_name.unique())\n",
        "print(f\"The number of unique category name is: {number_of_category_names}\")"
      ],
      "execution_count": 4,
      "outputs": [
        {
          "output_type": "stream",
          "text": [
            "The number of unique category name is: 293\n"
          ],
          "name": "stdout"
        }
      ]
    },
    {
      "cell_type": "code",
      "metadata": {
        "colab": {
          "base_uri": "https://localhost:8080/"
        },
        "id": "h9jRbz6Zequ6",
        "outputId": "d6a6687b-379a-4223-cfd3-8bcd2cc4898e"
      },
      "source": [
        "# How many rows are missing category_name\n",
        "number_of_missing_values = df.category_name.isna().sum()\n",
        "print(f\"The number of missing value of category name column is: {number_of_missing_values}\")"
      ],
      "execution_count": 5,
      "outputs": [
        {
          "output_type": "stream",
          "text": [
            "The number of missing value of category name column is: 4\n"
          ],
          "name": "stdout"
        }
      ]
    },
    {
      "cell_type": "code",
      "metadata": {
        "id": "zrfhSUyJgVgF"
      },
      "source": [
        "# Replace the missing values with the most frequent values present in each column\n",
        "df[\"category_name\"] = df[\"category_name\"].fillna(df[\"category_name\"].mode().iloc[0])"
      ],
      "execution_count": 15,
      "outputs": []
    },
    {
      "cell_type": "code",
      "metadata": {
        "colab": {
          "base_uri": "https://localhost:8080/"
        },
        "id": "qF4mce_-ispr",
        "outputId": "01ee6625-2c6d-4d8b-ffa3-699ee2b10437"
      },
      "source": [
        "df.info()"
      ],
      "execution_count": 17,
      "outputs": [
        {
          "output_type": "stream",
          "text": [
            "<class 'pandas.core.frame.DataFrame'>\n",
            "RangeIndex: 1000 entries, 0 to 999\n",
            "Data columns (total 8 columns):\n",
            " #   Column             Non-Null Count  Dtype  \n",
            "---  ------             --------------  -----  \n",
            " 0   train_id           1000 non-null   int64  \n",
            " 1   name               1000 non-null   object \n",
            " 2   item_condition_id  1000 non-null   int64  \n",
            " 3   category_name      1000 non-null   object \n",
            " 4   brand_name         561 non-null    object \n",
            " 5   price              1000 non-null   float64\n",
            " 6   shipping           1000 non-null   int64  \n",
            " 7   item_description   1000 non-null   object \n",
            "dtypes: float64(1), int64(3), object(4)\n",
            "memory usage: 62.6+ KB\n"
          ],
          "name": "stdout"
        }
      ]
    }
  ]
}