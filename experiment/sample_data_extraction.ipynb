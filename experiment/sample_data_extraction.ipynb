{
  "nbformat": 4,
  "nbformat_minor": 0,
  "metadata": {
    "colab": {
      "name": "sample data extraction.ipynb",
      "provenance": [],
      "authorship_tag": "ABX9TyOxcDtQWL+8wdAo0hzvm2h/",
      "include_colab_link": true
    },
    "kernelspec": {
      "name": "python3",
      "display_name": "Python 3"
    },
    "language_info": {
      "name": "python"
    }
  },
  "cells": [
    {
      "cell_type": "markdown",
      "metadata": {
        "id": "view-in-github",
        "colab_type": "text"
      },
      "source": [
        "<a href=\"https://colab.research.google.com/github/jinchen1036/Product-Price-Prediction/blob/main/experiment/sample_data_extraction.ipynb\" target=\"_parent\"><img src=\"https://colab.research.google.com/assets/colab-badge.svg\" alt=\"Open In Colab\"/></a>"
      ]
    },
    {
      "cell_type": "code",
      "metadata": {
        "id": "wikqqoGER9yY"
      },
      "source": [
        "import pandas as pd\n",
        "import os"
      ],
      "execution_count": 9,
      "outputs": []
    },
    {
      "cell_type": "code",
      "metadata": {
        "id": "xV9vxW4ySDoO"
      },
      "source": [
        "df = pd.read_csv(\"https://media.githubusercontent.com/media/jinchen1036/Product-Price-Prediction/main/data/train.tsv\",sep=\"\\t\")"
      ],
      "execution_count": 2,
      "outputs": []
    },
    {
      "cell_type": "code",
      "metadata": {
        "id": "RQlYSD0rSEdS"
      },
      "source": [
        "random_state = 45\n",
        "\n",
        "new_df = df.sample(n=1000, replace=False, random_state=random_state)"
      ],
      "execution_count": 3,
      "outputs": []
    },
    {
      "cell_type": "code",
      "metadata": {
        "colab": {
          "base_uri": "https://localhost:8080/",
          "height": 745
        },
        "id": "lzNuR15wSaCb",
        "outputId": "9f351ec0-340b-4d32-eb4c-4078a74810b9"
      },
      "source": [
        "new_df"
      ],
      "execution_count": 4,
      "outputs": [
        {
          "output_type": "execute_result",
          "data": {
            "text/html": [
              "<div>\n",
              "<style scoped>\n",
              "    .dataframe tbody tr th:only-of-type {\n",
              "        vertical-align: middle;\n",
              "    }\n",
              "\n",
              "    .dataframe tbody tr th {\n",
              "        vertical-align: top;\n",
              "    }\n",
              "\n",
              "    .dataframe thead th {\n",
              "        text-align: right;\n",
              "    }\n",
              "</style>\n",
              "<table border=\"1\" class=\"dataframe\">\n",
              "  <thead>\n",
              "    <tr style=\"text-align: right;\">\n",
              "      <th></th>\n",
              "      <th>train_id</th>\n",
              "      <th>name</th>\n",
              "      <th>item_condition_id</th>\n",
              "      <th>category_name</th>\n",
              "      <th>brand_name</th>\n",
              "      <th>price</th>\n",
              "      <th>shipping</th>\n",
              "      <th>item_description</th>\n",
              "    </tr>\n",
              "  </thead>\n",
              "  <tbody>\n",
              "    <tr>\n",
              "      <th>748447</th>\n",
              "      <td>748447</td>\n",
              "      <td>Polaroid Camera</td>\n",
              "      <td>3</td>\n",
              "      <td>Electronics/Cameras &amp; Photography/Film Photogr...</td>\n",
              "      <td>NaN</td>\n",
              "      <td>27.0</td>\n",
              "      <td>1</td>\n",
              "      <td>Film not included</td>\n",
              "    </tr>\n",
              "    <tr>\n",
              "      <th>674932</th>\n",
              "      <td>674932</td>\n",
              "      <td>Vintage Ashtray</td>\n",
              "      <td>3</td>\n",
              "      <td>Vintage &amp; Collectibles/Housewares/Coaster</td>\n",
              "      <td>NaN</td>\n",
              "      <td>8.0</td>\n",
              "      <td>0</td>\n",
              "      <td>Sip n Smoke ashtray. Would make a cute gift!</td>\n",
              "    </tr>\n",
              "    <tr>\n",
              "      <th>586672</th>\n",
              "      <td>586672</td>\n",
              "      <td>Matilda Jane weekender nwt</td>\n",
              "      <td>1</td>\n",
              "      <td>Women/Women's Handbags/Other</td>\n",
              "      <td>NaN</td>\n",
              "      <td>52.0</td>\n",
              "      <td>0</td>\n",
              "      <td>NWT. Matilda Jane Clothing weekender bag. Over...</td>\n",
              "    </tr>\n",
              "    <tr>\n",
              "      <th>846012</th>\n",
              "      <td>846012</td>\n",
              "      <td>Red Full Lace Wig</td>\n",
              "      <td>3</td>\n",
              "      <td>Women/Women's Accessories/Hair Accessories</td>\n",
              "      <td>NaN</td>\n",
              "      <td>69.0</td>\n",
              "      <td>0</td>\n",
              "      <td>12 inches</td>\n",
              "    </tr>\n",
              "    <tr>\n",
              "      <th>1026408</th>\n",
              "      <td>1026408</td>\n",
              "      <td>EQUATE NICOTINE TRANSDERMAL SYSTEM</td>\n",
              "      <td>1</td>\n",
              "      <td>Other/Daily &amp; Travel items/Personal Care</td>\n",
              "      <td>NaN</td>\n",
              "      <td>19.0</td>\n",
              "      <td>0</td>\n",
              "      <td>13 patches left. Too strong for my husband.</td>\n",
              "    </tr>\n",
              "    <tr>\n",
              "      <th>...</th>\n",
              "      <td>...</td>\n",
              "      <td>...</td>\n",
              "      <td>...</td>\n",
              "      <td>...</td>\n",
              "      <td>...</td>\n",
              "      <td>...</td>\n",
              "      <td>...</td>\n",
              "      <td>...</td>\n",
              "    </tr>\n",
              "    <tr>\n",
              "      <th>581369</th>\n",
              "      <td>581369</td>\n",
              "      <td>Dansko Clogs</td>\n",
              "      <td>3</td>\n",
              "      <td>Women/Shoes/Mules &amp; Clogs</td>\n",
              "      <td>Dansko</td>\n",
              "      <td>45.0</td>\n",
              "      <td>1</td>\n",
              "      <td>Great used condition size 38, Dansko Clogs. Bl...</td>\n",
              "    </tr>\n",
              "    <tr>\n",
              "      <th>589933</th>\n",
              "      <td>589933</td>\n",
              "      <td>Men's BKE jeans</td>\n",
              "      <td>2</td>\n",
              "      <td>Men/Jeans/Classic, Straight Leg</td>\n",
              "      <td>BKE</td>\n",
              "      <td>23.0</td>\n",
              "      <td>1</td>\n",
              "      <td>No description yet</td>\n",
              "    </tr>\n",
              "    <tr>\n",
              "      <th>607839</th>\n",
              "      <td>607839</td>\n",
              "      <td>Lularoe L Randy &amp; OS Leggings</td>\n",
              "      <td>1</td>\n",
              "      <td>Women/Athletic Apparel/Pants, Tights, Leggings</td>\n",
              "      <td>NaN</td>\n",
              "      <td>45.0</td>\n",
              "      <td>1</td>\n",
              "      <td>Brand new firm price</td>\n",
              "    </tr>\n",
              "    <tr>\n",
              "      <th>551139</th>\n",
              "      <td>551139</td>\n",
              "      <td>Rae Dunn Home Bowl Set of 2 Red Interior</td>\n",
              "      <td>1</td>\n",
              "      <td>Home/Kitchen &amp; Dining/Dining &amp; Entertaining</td>\n",
              "      <td>Rae Dunn</td>\n",
              "      <td>40.0</td>\n",
              "      <td>0</td>\n",
              "      <td>Set of 2 Rae Dunn Home Bowls, brand new releas...</td>\n",
              "    </tr>\n",
              "    <tr>\n",
              "      <th>499736</th>\n",
              "      <td>499736</td>\n",
              "      <td>Wku Fleece Quarter Zip Pullover And Tank</td>\n",
              "      <td>3</td>\n",
              "      <td>Men/Sweats &amp; Hoodies/Sweatshirt, Pullover</td>\n",
              "      <td>Champion</td>\n",
              "      <td>21.0</td>\n",
              "      <td>0</td>\n",
              "      <td>In good condition</td>\n",
              "    </tr>\n",
              "  </tbody>\n",
              "</table>\n",
              "<p>1000 rows × 8 columns</p>\n",
              "</div>"
            ],
            "text/plain": [
              "         train_id  ...                                   item_description\n",
              "748447     748447  ...                                  Film not included\n",
              "674932     674932  ...       Sip n Smoke ashtray. Would make a cute gift!\n",
              "586672     586672  ...  NWT. Matilda Jane Clothing weekender bag. Over...\n",
              "846012     846012  ...                                          12 inches\n",
              "1026408   1026408  ...        13 patches left. Too strong for my husband.\n",
              "...           ...  ...                                                ...\n",
              "581369     581369  ...  Great used condition size 38, Dansko Clogs. Bl...\n",
              "589933     589933  ...                                 No description yet\n",
              "607839     607839  ...                               Brand new firm price\n",
              "551139     551139  ...  Set of 2 Rae Dunn Home Bowls, brand new releas...\n",
              "499736     499736  ...                                  In good condition\n",
              "\n",
              "[1000 rows x 8 columns]"
            ]
          },
          "metadata": {
            "tags": []
          },
          "execution_count": 4
        }
      ]
    },
    {
      "cell_type": "code",
      "metadata": {
        "id": "LsWoMiGbSbDI"
      },
      "source": [
        "new_df.to_csv(\"sample_data.csv\",index=False,header=True)"
      ],
      "execution_count": 16,
      "outputs": []
    },
    {
      "cell_type": "code",
      "metadata": {
        "id": "BcVfo-zRTzFN"
      },
      "source": [
        ""
      ],
      "execution_count": null,
      "outputs": []
    }
  ]
}