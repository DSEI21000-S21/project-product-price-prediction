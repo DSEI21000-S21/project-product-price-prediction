{
  "nbformat": 4,
  "nbformat_minor": 0,
  "metadata": {
    "colab": {
      "name": "AttributeEncoding.ipynb",
      "provenance": [],
      "collapsed_sections": [],
      "authorship_tag": "ABX9TyOOF22XaB1uVuRImpHQNWo6",
      "include_colab_link": true
    },
    "kernelspec": {
      "name": "python3",
      "display_name": "Python 3"
    },
    "language_info": {
      "name": "python"
    }
  },
  "cells": [
    {
      "cell_type": "markdown",
      "metadata": {
        "id": "view-in-github",
        "colab_type": "text"
      },
      "source": [
        "<a href=\"https://colab.research.google.com/github/jinchen1036/Product-Price-Prediction/blob/main/experiment/AttributeEncoding.ipynb\" target=\"_parent\"><img src=\"https://colab.research.google.com/assets/colab-badge.svg\" alt=\"Open In Colab\"/></a>"
      ]
    },
    {
      "cell_type": "code",
      "metadata": {
        "id": "kjeB3L3SOqet"
      },
      "source": [
        "import pandas as pd"
      ],
      "execution_count": 1,
      "outputs": []
    },
    {
      "cell_type": "code",
      "metadata": {
        "colab": {
          "base_uri": "https://localhost:8080/"
        },
        "id": "gj1e20e1Ouqf",
        "outputId": "fdaa2193-bd4b-4519-ad5c-f38b657deddd"
      },
      "source": [
        "# read sample data\n",
        "sample_df = pd.read_csv(\"https://raw.githubusercontent.com/jinchen1036/Product-Price-Prediction/main/data/sample_data.csv\")\n",
        "sample_df.info()"
      ],
      "execution_count": 3,
      "outputs": [
        {
          "output_type": "stream",
          "text": [
            "<class 'pandas.core.frame.DataFrame'>\n",
            "RangeIndex: 1000 entries, 0 to 999\n",
            "Data columns (total 8 columns):\n",
            " #   Column             Non-Null Count  Dtype  \n",
            "---  ------             --------------  -----  \n",
            " 0   train_id           1000 non-null   int64  \n",
            " 1   name               1000 non-null   object \n",
            " 2   item_condition_id  1000 non-null   int64  \n",
            " 3   category_name      996 non-null    object \n",
            " 4   brand_name         561 non-null    object \n",
            " 5   price              1000 non-null   float64\n",
            " 6   shipping           1000 non-null   int64  \n",
            " 7   item_description   1000 non-null   object \n",
            "dtypes: float64(1), int64(3), object(4)\n",
            "memory usage: 62.6+ KB\n"
          ],
          "name": "stdout"
        }
      ]
    },
    {
      "cell_type": "code",
      "metadata": {
        "colab": {
          "base_uri": "https://localhost:8080/"
        },
        "id": "SF0lhMlgOxNA",
        "outputId": "5f06b048-2e20-42ec-879d-d2fe52fe2726"
      },
      "source": [
        "# drop row with missing value  as it not need in this task\n",
        "sample_df.dropna(inplace=True)\n",
        "sample_df.info()"
      ],
      "execution_count": 4,
      "outputs": [
        {
          "output_type": "stream",
          "text": [
            "<class 'pandas.core.frame.DataFrame'>\n",
            "Int64Index: 558 entries, 6 to 999\n",
            "Data columns (total 8 columns):\n",
            " #   Column             Non-Null Count  Dtype  \n",
            "---  ------             --------------  -----  \n",
            " 0   train_id           558 non-null    int64  \n",
            " 1   name               558 non-null    object \n",
            " 2   item_condition_id  558 non-null    int64  \n",
            " 3   category_name      558 non-null    object \n",
            " 4   brand_name         558 non-null    object \n",
            " 5   price              558 non-null    float64\n",
            " 6   shipping           558 non-null    int64  \n",
            " 7   item_description   558 non-null    object \n",
            "dtypes: float64(1), int64(3), object(4)\n",
            "memory usage: 39.2+ KB\n"
          ],
          "name": "stdout"
        }
      ]
    },
    {
      "cell_type": "markdown",
      "metadata": {
        "id": "ohu40-7XW9HQ"
      },
      "source": [
        "## Number of Categories for `brand_name` and `category_name`"
      ]
    },
    {
      "cell_type": "code",
      "metadata": {
        "colab": {
          "base_uri": "https://localhost:8080/"
        },
        "id": "GOAiExIgW_9A",
        "outputId": "8ddb7ecb-ca86-4d29-dab7-6b1818047db9"
      },
      "source": [
        "print(\"Number of categories for category_name attribute is \",len(sample_df.category_name.unique()))"
      ],
      "execution_count": 10,
      "outputs": [
        {
          "output_type": "stream",
          "text": [
            "Number of categories for category_name attribute is  183\n"
          ],
          "name": "stdout"
        }
      ]
    },
    {
      "cell_type": "code",
      "metadata": {
        "colab": {
          "base_uri": "https://localhost:8080/"
        },
        "id": "doRaU-djXi-1",
        "outputId": "4333389d-03f7-47b4-ea74-f17a0e13147c"
      },
      "source": [
        "for category in sample_df.category_name.unique()[:5]:\n",
        "  print(category)"
      ],
      "execution_count": 13,
      "outputs": [
        {
          "output_type": "stream",
          "text": [
            "Women/Other/Other\n",
            "Women/Tops & Blouses/Blouse\n",
            "Women/Shoes/Sandals\n",
            "Electronics/Cell Phones & Accessories/Cell Phones & Smartphones\n",
            "Women/Tops & Blouses/Tunic\n"
          ],
          "name": "stdout"
        }
      ]
    },
    {
      "cell_type": "code",
      "metadata": {
        "colab": {
          "base_uri": "https://localhost:8080/"
        },
        "id": "RdlUqwEuX04R",
        "outputId": "650447db-4f7d-4d47-b9f1-1e107f788d1c"
      },
      "source": [
        "print(\"Number of categories for brand_name attribute is \",len(sample_df.brand_name.unique()))"
      ],
      "execution_count": 16,
      "outputs": [
        {
          "output_type": "stream",
          "text": [
            "Number of categories for brand_name attribute is  233\n"
          ],
          "name": "stdout"
        }
      ]
    },
    {
      "cell_type": "code",
      "metadata": {
        "colab": {
          "base_uri": "https://localhost:8080/"
        },
        "id": "JvF4TeTKX64A",
        "outputId": "2bed27f3-a92f-445a-ca63-b4b6507055ed"
      },
      "source": [
        "for brand_name in sample_df.brand_name.unique()[:5]:\n",
        "  print(brand_name)"
      ],
      "execution_count": 17,
      "outputs": [
        {
          "output_type": "stream",
          "text": [
            "Victoria's Secret\n",
            "Mossimo\n",
            "Express\n",
            "HTC\n",
            "Disney Collection\n"
          ],
          "name": "stdout"
        }
      ]
    },
    {
      "cell_type": "markdown",
      "metadata": {
        "id": "5TtxKDZoWxEV"
      },
      "source": [
        "## One Hot Encoding"
      ]
    },
    {
      "cell_type": "code",
      "metadata": {
        "id": "G2iatdVkWPMQ"
      },
      "source": [
        ""
      ],
      "execution_count": null,
      "outputs": []
    }
  ]
}