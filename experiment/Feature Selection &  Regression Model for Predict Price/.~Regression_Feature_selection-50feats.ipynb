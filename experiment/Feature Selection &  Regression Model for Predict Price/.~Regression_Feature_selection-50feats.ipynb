{
 "cells": [
  {
   "cell_type": "markdown",
   "metadata": {},
   "source": [
    "**the copy based on copy1, to conduct PCA before regression.** <br>\n",
    "Due to large dimension and computing capacity, must reduce dimension before doing regression.<br>\n",
    "Last version, failed to run RFE for feature selection. RFE is better when choosing a few features from a relatively small feature space"
   ]
  },
  {
   "cell_type": "code",
   "execution_count": 4,
   "metadata": {
    "ExecuteTime": {
     "end_time": "2021-05-10T22:55:13.655776Z",
     "start_time": "2021-05-10T22:55:13.649792Z"
    }
   },
   "outputs": [],
   "source": [
    "import sys\n",
    "sys.path.append(r'C:\\Users\\lzowe\\OneDrive - The City College of New York\\CCNY_Course\\Applied_Machine_Learning_and_Data_Mining\\codes\\project-product-price-prediction')"
   ]
  },
  {
   "cell_type": "code",
   "execution_count": 5,
   "metadata": {
    "ExecuteTime": {
     "end_time": "2021-05-10T22:55:15.442980Z",
     "start_time": "2021-05-10T22:55:13.982090Z"
    }
   },
   "outputs": [],
   "source": [
    "import matplotlib\n",
    "import numpy as np\n",
    "import pandas as pd\n",
    "import seaborn as sns\n",
    "import matplotlib.pyplot as plt\n",
    "\n",
    "from sklearn.manifold import TSNE\n",
    "from final.feature_extraction.vectorization import text_vectorizaion\n",
    "from final.dimension_reduction.feature_reduction import dimension_reduction\n",
    "\n",
    "matplotlib.rcParams['figure.figsize'] = (15, 15)\n",
    "plt.rcParams['figure.constrained_layout.use'] = True"
   ]
  },
  {
   "cell_type": "markdown",
   "metadata": {},
   "source": [
    "# Data preparation for regression"
   ]
  },
  {
   "cell_type": "markdown",
   "metadata": {},
   "source": [
    "## loading data processed using Tokenizing and tf-idf algorithm"
   ]
  },
  {
   "cell_type": "code",
   "execution_count": 6,
   "metadata": {
    "ExecuteTime": {
     "end_time": "2021-05-10T22:55:25.896724Z",
     "start_time": "2021-05-10T22:55:18.343105Z"
    }
   },
   "outputs": [],
   "source": [
    "df = pd.read_csv(\"https://raw.githubusercontent.com/DSEI21000-S21/project-product-price-prediction/main/data/random_samples/stratified_sampling_clean_text_data_by_price_whigh_sz50000_1619835594.csv\")"
   ]
  },
  {
   "cell_type": "code",
   "execution_count": 7,
   "metadata": {
    "ExecuteTime": {
     "end_time": "2021-05-10T22:55:25.960604Z",
     "start_time": "2021-05-10T22:55:25.947595Z"
    }
   },
   "outputs": [
    {
     "data": {
      "text/plain": [
       "(50000, 34)"
      ]
     },
     "execution_count": 7,
     "metadata": {},
     "output_type": "execute_result"
    }
   ],
   "source": [
    "df.shape"
   ]
  },
  {
   "cell_type": "code",
   "execution_count": 8,
   "metadata": {
    "ExecuteTime": {
     "end_time": "2021-05-10T22:55:26.114192Z",
     "start_time": "2021-05-10T22:55:26.007430Z"
    }
   },
   "outputs": [
    {
     "data": {
      "text/html": [
       "<div>\n",
       "<style scoped>\n",
       "    .dataframe tbody tr th:only-of-type {\n",
       "        vertical-align: middle;\n",
       "    }\n",
       "\n",
       "    .dataframe tbody tr th {\n",
       "        vertical-align: top;\n",
       "    }\n",
       "\n",
       "    .dataframe thead th {\n",
       "        text-align: right;\n",
       "    }\n",
       "</style>\n",
       "<table border=\"1\" class=\"dataframe\">\n",
       "  <thead>\n",
       "    <tr style=\"text-align: right;\">\n",
       "      <th></th>\n",
       "      <th>train_id</th>\n",
       "      <th>item_description_bef_word_count</th>\n",
       "      <th>item_description_bef_char_count</th>\n",
       "      <th>item_description_bef_avg_word_len</th>\n",
       "      <th>item_description_upper_word_count</th>\n",
       "      <th>item_description_upper_char_count</th>\n",
       "      <th>item_description_stopword_count</th>\n",
       "      <th>item_description_punctuation_count</th>\n",
       "      <th>item_description_number_count</th>\n",
       "      <th>item_description_after_word_count</th>\n",
       "      <th>...</th>\n",
       "      <th>item_name_upper_char_count</th>\n",
       "      <th>item_name_stopword_count</th>\n",
       "      <th>item_name_punctuation_count</th>\n",
       "      <th>item_name_number_count</th>\n",
       "      <th>item_name_after_word_count</th>\n",
       "      <th>item_name_after_char_count</th>\n",
       "      <th>item_name_after_avg_word_len</th>\n",
       "      <th>item_condition_id</th>\n",
       "      <th>shipping</th>\n",
       "      <th>price</th>\n",
       "    </tr>\n",
       "  </thead>\n",
       "  <tbody>\n",
       "    <tr>\n",
       "      <th>count</th>\n",
       "      <td>5.000000e+04</td>\n",
       "      <td>50000.000000</td>\n",
       "      <td>50000.000000</td>\n",
       "      <td>50000.000000</td>\n",
       "      <td>50000.000000</td>\n",
       "      <td>50000.000000</td>\n",
       "      <td>50000.00000</td>\n",
       "      <td>50000.000000</td>\n",
       "      <td>50000.000000</td>\n",
       "      <td>50000.000000</td>\n",
       "      <td>...</td>\n",
       "      <td>50000.000000</td>\n",
       "      <td>50000.000000</td>\n",
       "      <td>50000.000000</td>\n",
       "      <td>50000.000000</td>\n",
       "      <td>50000.000000</td>\n",
       "      <td>50000.000000</td>\n",
       "      <td>50000.000000</td>\n",
       "      <td>50000.000000</td>\n",
       "      <td>50000.000000</td>\n",
       "      <td>50000.00000</td>\n",
       "    </tr>\n",
       "    <tr>\n",
       "      <th>mean</th>\n",
       "      <td>7.373508e+05</td>\n",
       "      <td>26.583180</td>\n",
       "      <td>150.390920</td>\n",
       "      <td>5.667798</td>\n",
       "      <td>1.876040</td>\n",
       "      <td>12.577260</td>\n",
       "      <td>7.67970</td>\n",
       "      <td>5.850200</td>\n",
       "      <td>0.499880</td>\n",
       "      <td>18.323300</td>\n",
       "      <td>...</td>\n",
       "      <td>4.794540</td>\n",
       "      <td>0.192960</td>\n",
       "      <td>0.414340</td>\n",
       "      <td>0.177680</td>\n",
       "      <td>4.236300</td>\n",
       "      <td>24.381740</td>\n",
       "      <td>5.845573</td>\n",
       "      <td>1.991820</td>\n",
       "      <td>0.376700</td>\n",
       "      <td>108.41749</td>\n",
       "    </tr>\n",
       "    <tr>\n",
       "      <th>std</th>\n",
       "      <td>4.251891e+05</td>\n",
       "      <td>28.205148</td>\n",
       "      <td>161.300927</td>\n",
       "      <td>0.782677</td>\n",
       "      <td>5.826971</td>\n",
       "      <td>28.114883</td>\n",
       "      <td>10.36772</td>\n",
       "      <td>8.336725</td>\n",
       "      <td>1.229061</td>\n",
       "      <td>18.691275</td>\n",
       "      <td>...</td>\n",
       "      <td>5.226287</td>\n",
       "      <td>0.463088</td>\n",
       "      <td>0.828128</td>\n",
       "      <td>0.422508</td>\n",
       "      <td>1.535705</td>\n",
       "      <td>8.740065</td>\n",
       "      <td>1.210724</td>\n",
       "      <td>0.896911</td>\n",
       "      <td>0.484564</td>\n",
       "      <td>198.75487</td>\n",
       "    </tr>\n",
       "    <tr>\n",
       "      <th>min</th>\n",
       "      <td>1.900000e+01</td>\n",
       "      <td>1.000000</td>\n",
       "      <td>1.000000</td>\n",
       "      <td>1.000000</td>\n",
       "      <td>0.000000</td>\n",
       "      <td>0.000000</td>\n",
       "      <td>0.00000</td>\n",
       "      <td>0.000000</td>\n",
       "      <td>0.000000</td>\n",
       "      <td>1.000000</td>\n",
       "      <td>...</td>\n",
       "      <td>0.000000</td>\n",
       "      <td>0.000000</td>\n",
       "      <td>0.000000</td>\n",
       "      <td>0.000000</td>\n",
       "      <td>1.000000</td>\n",
       "      <td>1.000000</td>\n",
       "      <td>1.000000</td>\n",
       "      <td>1.000000</td>\n",
       "      <td>0.000000</td>\n",
       "      <td>3.00000</td>\n",
       "    </tr>\n",
       "    <tr>\n",
       "      <th>25%</th>\n",
       "      <td>3.726685e+05</td>\n",
       "      <td>8.000000</td>\n",
       "      <td>46.000000</td>\n",
       "      <td>5.210526</td>\n",
       "      <td>0.000000</td>\n",
       "      <td>2.000000</td>\n",
       "      <td>1.00000</td>\n",
       "      <td>1.000000</td>\n",
       "      <td>0.000000</td>\n",
       "      <td>7.000000</td>\n",
       "      <td>...</td>\n",
       "      <td>2.000000</td>\n",
       "      <td>0.000000</td>\n",
       "      <td>0.000000</td>\n",
       "      <td>0.000000</td>\n",
       "      <td>3.000000</td>\n",
       "      <td>18.000000</td>\n",
       "      <td>5.000000</td>\n",
       "      <td>1.000000</td>\n",
       "      <td>0.000000</td>\n",
       "      <td>20.00000</td>\n",
       "    </tr>\n",
       "    <tr>\n",
       "      <th>50%</th>\n",
       "      <td>7.353620e+05</td>\n",
       "      <td>17.000000</td>\n",
       "      <td>97.000000</td>\n",
       "      <td>5.642857</td>\n",
       "      <td>0.000000</td>\n",
       "      <td>5.000000</td>\n",
       "      <td>4.00000</td>\n",
       "      <td>3.000000</td>\n",
       "      <td>0.000000</td>\n",
       "      <td>12.000000</td>\n",
       "      <td>...</td>\n",
       "      <td>3.000000</td>\n",
       "      <td>0.000000</td>\n",
       "      <td>0.000000</td>\n",
       "      <td>0.000000</td>\n",
       "      <td>4.000000</td>\n",
       "      <td>25.000000</td>\n",
       "      <td>5.750000</td>\n",
       "      <td>2.000000</td>\n",
       "      <td>0.000000</td>\n",
       "      <td>50.00000</td>\n",
       "    </tr>\n",
       "    <tr>\n",
       "      <th>75%</th>\n",
       "      <td>1.102881e+06</td>\n",
       "      <td>34.000000</td>\n",
       "      <td>191.000000</td>\n",
       "      <td>6.020944</td>\n",
       "      <td>1.000000</td>\n",
       "      <td>12.000000</td>\n",
       "      <td>10.00000</td>\n",
       "      <td>8.000000</td>\n",
       "      <td>1.000000</td>\n",
       "      <td>23.000000</td>\n",
       "      <td>...</td>\n",
       "      <td>6.000000</td>\n",
       "      <td>0.000000</td>\n",
       "      <td>1.000000</td>\n",
       "      <td>0.000000</td>\n",
       "      <td>5.000000</td>\n",
       "      <td>32.000000</td>\n",
       "      <td>6.500000</td>\n",
       "      <td>3.000000</td>\n",
       "      <td>1.000000</td>\n",
       "      <td>90.00000</td>\n",
       "    </tr>\n",
       "    <tr>\n",
       "      <th>max</th>\n",
       "      <td>1.482519e+06</td>\n",
       "      <td>206.000000</td>\n",
       "      <td>1007.000000</td>\n",
       "      <td>19.600000</td>\n",
       "      <td>178.000000</td>\n",
       "      <td>761.000000</td>\n",
       "      <td>104.00000</td>\n",
       "      <td>308.000000</td>\n",
       "      <td>57.000000</td>\n",
       "      <td>175.000000</td>\n",
       "      <td>...</td>\n",
       "      <td>37.000000</td>\n",
       "      <td>6.000000</td>\n",
       "      <td>12.000000</td>\n",
       "      <td>9.000000</td>\n",
       "      <td>13.000000</td>\n",
       "      <td>42.000000</td>\n",
       "      <td>26.000000</td>\n",
       "      <td>5.000000</td>\n",
       "      <td>1.000000</td>\n",
       "      <td>2009.00000</td>\n",
       "    </tr>\n",
       "  </tbody>\n",
       "</table>\n",
       "<p>8 rows × 26 columns</p>\n",
       "</div>"
      ],
      "text/plain": [
       "           train_id  item_description_bef_word_count  \\\n",
       "count  5.000000e+04                     50000.000000   \n",
       "mean   7.373508e+05                        26.583180   \n",
       "std    4.251891e+05                        28.205148   \n",
       "min    1.900000e+01                         1.000000   \n",
       "25%    3.726685e+05                         8.000000   \n",
       "50%    7.353620e+05                        17.000000   \n",
       "75%    1.102881e+06                        34.000000   \n",
       "max    1.482519e+06                       206.000000   \n",
       "\n",
       "       item_description_bef_char_count  item_description_bef_avg_word_len  \\\n",
       "count                     50000.000000                       50000.000000   \n",
       "mean                        150.390920                           5.667798   \n",
       "std                         161.300927                           0.782677   \n",
       "min                           1.000000                           1.000000   \n",
       "25%                          46.000000                           5.210526   \n",
       "50%                          97.000000                           5.642857   \n",
       "75%                         191.000000                           6.020944   \n",
       "max                        1007.000000                          19.600000   \n",
       "\n",
       "       item_description_upper_word_count  item_description_upper_char_count  \\\n",
       "count                       50000.000000                       50000.000000   \n",
       "mean                            1.876040                          12.577260   \n",
       "std                             5.826971                          28.114883   \n",
       "min                             0.000000                           0.000000   \n",
       "25%                             0.000000                           2.000000   \n",
       "50%                             0.000000                           5.000000   \n",
       "75%                             1.000000                          12.000000   \n",
       "max                           178.000000                         761.000000   \n",
       "\n",
       "       item_description_stopword_count  item_description_punctuation_count  \\\n",
       "count                      50000.00000                        50000.000000   \n",
       "mean                           7.67970                            5.850200   \n",
       "std                           10.36772                            8.336725   \n",
       "min                            0.00000                            0.000000   \n",
       "25%                            1.00000                            1.000000   \n",
       "50%                            4.00000                            3.000000   \n",
       "75%                           10.00000                            8.000000   \n",
       "max                          104.00000                          308.000000   \n",
       "\n",
       "       item_description_number_count  item_description_after_word_count  ...  \\\n",
       "count                   50000.000000                       50000.000000  ...   \n",
       "mean                        0.499880                          18.323300  ...   \n",
       "std                         1.229061                          18.691275  ...   \n",
       "min                         0.000000                           1.000000  ...   \n",
       "25%                         0.000000                           7.000000  ...   \n",
       "50%                         0.000000                          12.000000  ...   \n",
       "75%                         1.000000                          23.000000  ...   \n",
       "max                        57.000000                         175.000000  ...   \n",
       "\n",
       "       item_name_upper_char_count  item_name_stopword_count  \\\n",
       "count                50000.000000              50000.000000   \n",
       "mean                     4.794540                  0.192960   \n",
       "std                      5.226287                  0.463088   \n",
       "min                      0.000000                  0.000000   \n",
       "25%                      2.000000                  0.000000   \n",
       "50%                      3.000000                  0.000000   \n",
       "75%                      6.000000                  0.000000   \n",
       "max                     37.000000                  6.000000   \n",
       "\n",
       "       item_name_punctuation_count  item_name_number_count  \\\n",
       "count                 50000.000000            50000.000000   \n",
       "mean                      0.414340                0.177680   \n",
       "std                       0.828128                0.422508   \n",
       "min                       0.000000                0.000000   \n",
       "25%                       0.000000                0.000000   \n",
       "50%                       0.000000                0.000000   \n",
       "75%                       1.000000                0.000000   \n",
       "max                      12.000000                9.000000   \n",
       "\n",
       "       item_name_after_word_count  item_name_after_char_count  \\\n",
       "count                50000.000000                50000.000000   \n",
       "mean                     4.236300                   24.381740   \n",
       "std                      1.535705                    8.740065   \n",
       "min                      1.000000                    1.000000   \n",
       "25%                      3.000000                   18.000000   \n",
       "50%                      4.000000                   25.000000   \n",
       "75%                      5.000000                   32.000000   \n",
       "max                     13.000000                   42.000000   \n",
       "\n",
       "       item_name_after_avg_word_len  item_condition_id      shipping  \\\n",
       "count                  50000.000000       50000.000000  50000.000000   \n",
       "mean                       5.845573           1.991820      0.376700   \n",
       "std                        1.210724           0.896911      0.484564   \n",
       "min                        1.000000           1.000000      0.000000   \n",
       "25%                        5.000000           1.000000      0.000000   \n",
       "50%                        5.750000           2.000000      0.000000   \n",
       "75%                        6.500000           3.000000      1.000000   \n",
       "max                       26.000000           5.000000      1.000000   \n",
       "\n",
       "             price  \n",
       "count  50000.00000  \n",
       "mean     108.41749  \n",
       "std      198.75487  \n",
       "min        3.00000  \n",
       "25%       20.00000  \n",
       "50%       50.00000  \n",
       "75%       90.00000  \n",
       "max     2009.00000  \n",
       "\n",
       "[8 rows x 26 columns]"
      ]
     },
     "execution_count": 8,
     "metadata": {},
     "output_type": "execute_result"
    }
   ],
   "source": [
    "df.describe()"
   ]
  },
  {
   "cell_type": "code",
   "execution_count": 9,
   "metadata": {
    "ExecuteTime": {
     "end_time": "2021-05-10T22:55:26.208962Z",
     "start_time": "2021-05-10T22:55:26.165009Z"
    }
   },
   "outputs": [
    {
     "name": "stdout",
     "output_type": "stream",
     "text": [
      "<class 'pandas.core.frame.DataFrame'>\n",
      "RangeIndex: 50000 entries, 0 to 49999\n",
      "Data columns (total 34 columns):\n",
      " #   Column                               Non-Null Count  Dtype  \n",
      "---  ------                               --------------  -----  \n",
      " 0   train_id                             50000 non-null  int64  \n",
      " 1   clean_item_description               50000 non-null  object \n",
      " 2   item_description_bef_word_count      50000 non-null  float64\n",
      " 3   item_description_bef_char_count      50000 non-null  float64\n",
      " 4   item_description_bef_avg_word_len    50000 non-null  float64\n",
      " 5   item_description_upper_word_count    50000 non-null  float64\n",
      " 6   item_description_upper_char_count    50000 non-null  float64\n",
      " 7   item_description_stopword_count      50000 non-null  float64\n",
      " 8   item_description_punctuation_count   50000 non-null  float64\n",
      " 9   item_description_number_count        50000 non-null  float64\n",
      " 10  item_description_after_word_count    50000 non-null  float64\n",
      " 11  item_description_after_char_count    50000 non-null  float64\n",
      " 12  item_description_after_avg_word_len  50000 non-null  float64\n",
      " 13  clean_item_name                      50000 non-null  object \n",
      " 14  item_name_bef_word_count             50000 non-null  float64\n",
      " 15  item_name_bef_char_count             50000 non-null  float64\n",
      " 16  item_name_bef_avg_word_len           50000 non-null  float64\n",
      " 17  item_name_upper_word_count           50000 non-null  float64\n",
      " 18  item_name_upper_char_count           50000 non-null  float64\n",
      " 19  item_name_stopword_count             50000 non-null  float64\n",
      " 20  item_name_punctuation_count          50000 non-null  float64\n",
      " 21  item_name_number_count               50000 non-null  float64\n",
      " 22  item_name_after_word_count           50000 non-null  float64\n",
      " 23  item_name_after_char_count           50000 non-null  float64\n",
      " 24  item_name_after_avg_word_len         50000 non-null  float64\n",
      " 25  item_condition_id                    50000 non-null  int64  \n",
      " 26  category_name                        50000 non-null  object \n",
      " 27  brand_name                           50000 non-null  object \n",
      " 28  shipping                             50000 non-null  int64  \n",
      " 29  price                                50000 non-null  float64\n",
      " 30  c1                                   50000 non-null  object \n",
      " 31  c2                                   50000 non-null  object \n",
      " 32  c3                                   50000 non-null  object \n",
      " 33  price_bin                            50000 non-null  object \n",
      "dtypes: float64(23), int64(3), object(8)\n",
      "memory usage: 13.0+ MB\n"
     ]
    }
   ],
   "source": [
    "df.info()"
   ]
  },
  {
   "cell_type": "code",
   "execution_count": 10,
   "metadata": {
    "ExecuteTime": {
     "end_time": "2021-05-10T22:55:26.271760Z",
     "start_time": "2021-05-10T22:55:26.257761Z"
    }
   },
   "outputs": [
    {
     "data": {
      "text/plain": [
       "(42039,)"
      ]
     },
     "execution_count": 10,
     "metadata": {},
     "output_type": "execute_result"
    }
   ],
   "source": [
    "df.clean_item_name.unique().shape"
   ]
  },
  {
   "cell_type": "code",
   "execution_count": 11,
   "metadata": {
    "ExecuteTime": {
     "end_time": "2021-05-10T22:55:26.333561Z",
     "start_time": "2021-05-10T22:55:26.306633Z"
    }
   },
   "outputs": [
    {
     "data": {
      "text/html": [
       "<div>\n",
       "<style scoped>\n",
       "    .dataframe tbody tr th:only-of-type {\n",
       "        vertical-align: middle;\n",
       "    }\n",
       "\n",
       "    .dataframe tbody tr th {\n",
       "        vertical-align: top;\n",
       "    }\n",
       "\n",
       "    .dataframe thead th {\n",
       "        text-align: right;\n",
       "    }\n",
       "</style>\n",
       "<table border=\"1\" class=\"dataframe\">\n",
       "  <thead>\n",
       "    <tr style=\"text-align: right;\">\n",
       "      <th></th>\n",
       "      <th>train_id</th>\n",
       "      <th>clean_item_description</th>\n",
       "      <th>item_description_bef_word_count</th>\n",
       "      <th>item_description_bef_char_count</th>\n",
       "      <th>item_description_bef_avg_word_len</th>\n",
       "      <th>item_description_upper_word_count</th>\n",
       "      <th>item_description_upper_char_count</th>\n",
       "      <th>item_description_stopword_count</th>\n",
       "      <th>item_description_punctuation_count</th>\n",
       "      <th>item_description_number_count</th>\n",
       "      <th>...</th>\n",
       "      <th>item_name_after_avg_word_len</th>\n",
       "      <th>item_condition_id</th>\n",
       "      <th>category_name</th>\n",
       "      <th>brand_name</th>\n",
       "      <th>shipping</th>\n",
       "      <th>price</th>\n",
       "      <th>c1</th>\n",
       "      <th>c2</th>\n",
       "      <th>c3</th>\n",
       "      <th>price_bin</th>\n",
       "    </tr>\n",
       "  </thead>\n",
       "  <tbody>\n",
       "    <tr>\n",
       "      <th>0</th>\n",
       "      <td>806824</td>\n",
       "      <td>new tags</td>\n",
       "      <td>3.0</td>\n",
       "      <td>13.0</td>\n",
       "      <td>4.333333</td>\n",
       "      <td>0.0</td>\n",
       "      <td>1.0</td>\n",
       "      <td>1.0</td>\n",
       "      <td>0.0</td>\n",
       "      <td>0.0</td>\n",
       "      <td>...</td>\n",
       "      <td>5.250000</td>\n",
       "      <td>1</td>\n",
       "      <td>Women/Athletic Apparel/Shirts &amp; Tops</td>\n",
       "      <td>Nike</td>\n",
       "      <td>1</td>\n",
       "      <td>15.0</td>\n",
       "      <td>women</td>\n",
       "      <td>athletic apparel</td>\n",
       "      <td>shirts &amp; tops</td>\n",
       "      <td>(10, 15]</td>\n",
       "    </tr>\n",
       "    <tr>\n",
       "      <th>1</th>\n",
       "      <td>772820</td>\n",
       "      <td>nastasya every hills lipstick fashion</td>\n",
       "      <td>6.0</td>\n",
       "      <td>42.0</td>\n",
       "      <td>7.000000</td>\n",
       "      <td>0.0</td>\n",
       "      <td>4.0</td>\n",
       "      <td>1.0</td>\n",
       "      <td>0.0</td>\n",
       "      <td>0.0</td>\n",
       "      <td>...</td>\n",
       "      <td>10.000000</td>\n",
       "      <td>1</td>\n",
       "      <td>Beauty/Makeup/Lips</td>\n",
       "      <td>Anastasia Beverly Hills</td>\n",
       "      <td>0</td>\n",
       "      <td>22.0</td>\n",
       "      <td>beauty</td>\n",
       "      <td>makeup</td>\n",
       "      <td>lips</td>\n",
       "      <td>(20, 25]</td>\n",
       "    </tr>\n",
       "    <tr>\n",
       "      <th>2</th>\n",
       "      <td>1423115</td>\n",
       "      <td>brand new tags taken bag pictures</td>\n",
       "      <td>11.0</td>\n",
       "      <td>54.0</td>\n",
       "      <td>4.909091</td>\n",
       "      <td>0.0</td>\n",
       "      <td>1.0</td>\n",
       "      <td>5.0</td>\n",
       "      <td>0.0</td>\n",
       "      <td>0.0</td>\n",
       "      <td>...</td>\n",
       "      <td>6.166667</td>\n",
       "      <td>1</td>\n",
       "      <td>Women/Jeans/Leggings</td>\n",
       "      <td>LuLaRoe</td>\n",
       "      <td>0</td>\n",
       "      <td>54.0</td>\n",
       "      <td>women</td>\n",
       "      <td>jeans</td>\n",
       "      <td>leggings</td>\n",
       "      <td>(50, 60]</td>\n",
       "    </tr>\n",
       "    <tr>\n",
       "      <th>3</th>\n",
       "      <td>405853</td>\n",
       "      <td>bought calves bit large frowned good condition...</td>\n",
       "      <td>35.0</td>\n",
       "      <td>188.0</td>\n",
       "      <td>5.371429</td>\n",
       "      <td>1.0</td>\n",
       "      <td>4.0</td>\n",
       "      <td>17.0</td>\n",
       "      <td>7.0</td>\n",
       "      <td>1.0</td>\n",
       "      <td>...</td>\n",
       "      <td>5.333333</td>\n",
       "      <td>3</td>\n",
       "      <td>Women/Shoes/Boots</td>\n",
       "      <td>Hunter</td>\n",
       "      <td>0</td>\n",
       "      <td>84.0</td>\n",
       "      <td>women</td>\n",
       "      <td>shoes</td>\n",
       "      <td>boots</td>\n",
       "      <td>(80, 90]</td>\n",
       "    </tr>\n",
       "    <tr>\n",
       "      <th>4</th>\n",
       "      <td>1172086</td>\n",
       "      <td>brand new box size 7youth859womens</td>\n",
       "      <td>6.0</td>\n",
       "      <td>40.0</td>\n",
       "      <td>6.666667</td>\n",
       "      <td>0.0</td>\n",
       "      <td>3.0</td>\n",
       "      <td>1.0</td>\n",
       "      <td>3.0</td>\n",
       "      <td>0.0</td>\n",
       "      <td>...</td>\n",
       "      <td>4.000000</td>\n",
       "      <td>1</td>\n",
       "      <td>Women/Shoes/Athletic</td>\n",
       "      <td>Nike</td>\n",
       "      <td>0</td>\n",
       "      <td>56.0</td>\n",
       "      <td>women</td>\n",
       "      <td>shoes</td>\n",
       "      <td>athletic</td>\n",
       "      <td>(50, 60]</td>\n",
       "    </tr>\n",
       "  </tbody>\n",
       "</table>\n",
       "<p>5 rows × 34 columns</p>\n",
       "</div>"
      ],
      "text/plain": [
       "   train_id                             clean_item_description  \\\n",
       "0    806824                                           new tags   \n",
       "1    772820              nastasya every hills lipstick fashion   \n",
       "2   1423115                  brand new tags taken bag pictures   \n",
       "3    405853  bought calves bit large frowned good condition...   \n",
       "4   1172086                 brand new box size 7youth859womens   \n",
       "\n",
       "   item_description_bef_word_count  item_description_bef_char_count  \\\n",
       "0                              3.0                             13.0   \n",
       "1                              6.0                             42.0   \n",
       "2                             11.0                             54.0   \n",
       "3                             35.0                            188.0   \n",
       "4                              6.0                             40.0   \n",
       "\n",
       "   item_description_bef_avg_word_len  item_description_upper_word_count  \\\n",
       "0                           4.333333                                0.0   \n",
       "1                           7.000000                                0.0   \n",
       "2                           4.909091                                0.0   \n",
       "3                           5.371429                                1.0   \n",
       "4                           6.666667                                0.0   \n",
       "\n",
       "   item_description_upper_char_count  item_description_stopword_count  \\\n",
       "0                                1.0                              1.0   \n",
       "1                                4.0                              1.0   \n",
       "2                                1.0                              5.0   \n",
       "3                                4.0                             17.0   \n",
       "4                                3.0                              1.0   \n",
       "\n",
       "   item_description_punctuation_count  item_description_number_count  ...  \\\n",
       "0                                 0.0                            0.0  ...   \n",
       "1                                 0.0                            0.0  ...   \n",
       "2                                 0.0                            0.0  ...   \n",
       "3                                 7.0                            1.0  ...   \n",
       "4                                 3.0                            0.0  ...   \n",
       "\n",
       "   item_name_after_avg_word_len  item_condition_id  \\\n",
       "0                      5.250000                  1   \n",
       "1                     10.000000                  1   \n",
       "2                      6.166667                  1   \n",
       "3                      5.333333                  3   \n",
       "4                      4.000000                  1   \n",
       "\n",
       "                          category_name               brand_name  shipping  \\\n",
       "0  Women/Athletic Apparel/Shirts & Tops                     Nike         1   \n",
       "1                    Beauty/Makeup/Lips  Anastasia Beverly Hills         0   \n",
       "2                  Women/Jeans/Leggings                  LuLaRoe         0   \n",
       "3                     Women/Shoes/Boots                   Hunter         0   \n",
       "4                  Women/Shoes/Athletic                     Nike         0   \n",
       "\n",
       "   price      c1                c2             c3  price_bin  \n",
       "0   15.0   women  athletic apparel  shirts & tops   (10, 15]  \n",
       "1   22.0  beauty            makeup           lips   (20, 25]  \n",
       "2   54.0   women             jeans       leggings   (50, 60]  \n",
       "3   84.0   women             shoes          boots   (80, 90]  \n",
       "4   56.0   women             shoes       athletic   (50, 60]  \n",
       "\n",
       "[5 rows x 34 columns]"
      ]
     },
     "execution_count": 11,
     "metadata": {},
     "output_type": "execute_result"
    }
   ],
   "source": [
    "df.head()"
   ]
  },
  {
   "cell_type": "markdown",
   "metadata": {},
   "source": [
    " ## Feature extraction and dimension selection\n",
    " \n",
    " For Item-discription feature: <br>\n",
    " using Jin's function to, firstly, do feature-extraction, increasing up to 14230 new few features <br>\n",
    " secondly, do dimenstion-reduction <br>\n",
    " finally, left 100 "
   ]
  },
  {
   "cell_type": "code",
   "execution_count": 12,
   "metadata": {
    "ExecuteTime": {
     "end_time": "2021-05-10T22:55:26.395393Z",
     "start_time": "2021-05-10T22:55:26.383454Z"
    }
   },
   "outputs": [
    {
     "data": {
      "text/plain": [
       "'corners bottom great shape lips smells markings inside cleanthere small water mark indicated third photo comes dusting'"
      ]
     },
     "execution_count": 12,
     "metadata": {},
     "output_type": "execute_result"
    }
   ],
   "source": [
    "df.clean_item_description[12]"
   ]
  },
  {
   "cell_type": "code",
   "execution_count": 13,
   "metadata": {
    "ExecuteTime": {
     "end_time": "2021-05-10T22:55:28.438872Z",
     "start_time": "2021-05-10T22:55:26.459222Z"
    }
   },
   "outputs": [],
   "source": [
    "description_feature,  description_feature_name = text_vectorizaion(df, text_col = \"clean_item_description\", \n",
    "                                                                   tfidf = True, min_df=10, max_features=100000)"
   ]
  },
  {
   "cell_type": "code",
   "execution_count": 14,
   "metadata": {
    "ExecuteTime": {
     "end_time": "2021-05-10T22:55:28.628255Z",
     "start_time": "2021-05-10T22:55:28.617327Z"
    }
   },
   "outputs": [
    {
     "data": {
      "text/plain": [
       "(50000, 14230)"
      ]
     },
     "execution_count": 14,
     "metadata": {},
     "output_type": "execute_result"
    }
   ],
   "source": [
    "description_feature.shape"
   ]
  },
  {
   "cell_type": "code",
   "execution_count": 19,
   "metadata": {
    "ExecuteTime": {
     "end_time": "2021-05-10T23:14:11.265703Z",
     "start_time": "2021-05-10T23:13:33.374083Z"
    }
   },
   "outputs": [],
   "source": [
    "data = dimension_reduction(description_feature.toarray(), method = 'SVD', n_comp = 100)"
   ]
  },
  {
   "cell_type": "code",
   "execution_count": 20,
   "metadata": {
    "ExecuteTime": {
     "end_time": "2021-05-10T23:14:11.846208Z",
     "start_time": "2021-05-10T23:14:11.817233Z"
    }
   },
   "outputs": [
    {
     "data": {
      "text/plain": [
       "(50000, 100)"
      ]
     },
     "execution_count": 20,
     "metadata": {},
     "output_type": "execute_result"
    }
   ],
   "source": [
    "data.shape"
   ]
  },
  {
   "cell_type": "code",
   "execution_count": 21,
   "metadata": {
    "ExecuteTime": {
     "end_time": "2021-05-10T23:14:11.969822Z",
     "start_time": "2021-05-10T23:14:11.923945Z"
    }
   },
   "outputs": [
    {
     "data": {
      "text/html": [
       "<div>\n",
       "<style scoped>\n",
       "    .dataframe tbody tr th:only-of-type {\n",
       "        vertical-align: middle;\n",
       "    }\n",
       "\n",
       "    .dataframe tbody tr th {\n",
       "        vertical-align: top;\n",
       "    }\n",
       "\n",
       "    .dataframe thead th {\n",
       "        text-align: right;\n",
       "    }\n",
       "</style>\n",
       "<table border=\"1\" class=\"dataframe\">\n",
       "  <thead>\n",
       "    <tr style=\"text-align: right;\">\n",
       "      <th></th>\n",
       "      <th>0</th>\n",
       "      <th>1</th>\n",
       "      <th>2</th>\n",
       "      <th>3</th>\n",
       "      <th>4</th>\n",
       "      <th>5</th>\n",
       "      <th>6</th>\n",
       "      <th>7</th>\n",
       "      <th>8</th>\n",
       "      <th>9</th>\n",
       "      <th>...</th>\n",
       "      <th>90</th>\n",
       "      <th>91</th>\n",
       "      <th>92</th>\n",
       "      <th>93</th>\n",
       "      <th>94</th>\n",
       "      <th>95</th>\n",
       "      <th>96</th>\n",
       "      <th>97</th>\n",
       "      <th>98</th>\n",
       "      <th>99</th>\n",
       "    </tr>\n",
       "  </thead>\n",
       "  <tbody>\n",
       "    <tr>\n",
       "      <th>0</th>\n",
       "      <td>0.000323</td>\n",
       "      <td>0.316579</td>\n",
       "      <td>0.226464</td>\n",
       "      <td>-0.093895</td>\n",
       "      <td>-0.145724</td>\n",
       "      <td>-0.160602</td>\n",
       "      <td>-0.003326</td>\n",
       "      <td>-0.018079</td>\n",
       "      <td>0.090897</td>\n",
       "      <td>0.191936</td>\n",
       "      <td>...</td>\n",
       "      <td>0.001181</td>\n",
       "      <td>-0.000930</td>\n",
       "      <td>0.002708</td>\n",
       "      <td>-0.008270</td>\n",
       "      <td>-0.001943</td>\n",
       "      <td>0.007046</td>\n",
       "      <td>0.001599</td>\n",
       "      <td>0.009947</td>\n",
       "      <td>0.004283</td>\n",
       "      <td>0.001286</td>\n",
       "    </tr>\n",
       "    <tr>\n",
       "      <th>1</th>\n",
       "      <td>0.000036</td>\n",
       "      <td>0.006363</td>\n",
       "      <td>-0.001485</td>\n",
       "      <td>-0.000307</td>\n",
       "      <td>-0.003074</td>\n",
       "      <td>0.008711</td>\n",
       "      <td>0.000234</td>\n",
       "      <td>-0.001263</td>\n",
       "      <td>-0.002302</td>\n",
       "      <td>0.001763</td>\n",
       "      <td>...</td>\n",
       "      <td>-0.004530</td>\n",
       "      <td>-0.028973</td>\n",
       "      <td>-0.005179</td>\n",
       "      <td>0.011471</td>\n",
       "      <td>-0.009895</td>\n",
       "      <td>-0.007188</td>\n",
       "      <td>-0.006494</td>\n",
       "      <td>-0.015531</td>\n",
       "      <td>0.010362</td>\n",
       "      <td>-0.014289</td>\n",
       "    </tr>\n",
       "    <tr>\n",
       "      <th>2</th>\n",
       "      <td>0.000307</td>\n",
       "      <td>0.282559</td>\n",
       "      <td>0.198734</td>\n",
       "      <td>-0.108191</td>\n",
       "      <td>-0.022313</td>\n",
       "      <td>-0.049015</td>\n",
       "      <td>-0.093215</td>\n",
       "      <td>0.013357</td>\n",
       "      <td>-0.023777</td>\n",
       "      <td>0.027220</td>\n",
       "      <td>...</td>\n",
       "      <td>-0.015969</td>\n",
       "      <td>0.005385</td>\n",
       "      <td>0.000088</td>\n",
       "      <td>-0.018547</td>\n",
       "      <td>-0.024160</td>\n",
       "      <td>-0.009791</td>\n",
       "      <td>-0.001747</td>\n",
       "      <td>-0.040102</td>\n",
       "      <td>-0.014540</td>\n",
       "      <td>-0.014426</td>\n",
       "    </tr>\n",
       "    <tr>\n",
       "      <th>3</th>\n",
       "      <td>0.000196</td>\n",
       "      <td>0.087350</td>\n",
       "      <td>-0.138583</td>\n",
       "      <td>-0.028884</td>\n",
       "      <td>-0.007236</td>\n",
       "      <td>-0.041196</td>\n",
       "      <td>-0.030511</td>\n",
       "      <td>0.157942</td>\n",
       "      <td>0.007499</td>\n",
       "      <td>0.001800</td>\n",
       "      <td>...</td>\n",
       "      <td>0.011864</td>\n",
       "      <td>0.034407</td>\n",
       "      <td>-0.004016</td>\n",
       "      <td>0.005074</td>\n",
       "      <td>-0.017683</td>\n",
       "      <td>0.013241</td>\n",
       "      <td>0.002016</td>\n",
       "      <td>0.037753</td>\n",
       "      <td>0.027355</td>\n",
       "      <td>0.001946</td>\n",
       "    </tr>\n",
       "    <tr>\n",
       "      <th>4</th>\n",
       "      <td>0.000409</td>\n",
       "      <td>0.407447</td>\n",
       "      <td>0.230953</td>\n",
       "      <td>-0.090664</td>\n",
       "      <td>-0.028016</td>\n",
       "      <td>-0.120191</td>\n",
       "      <td>-0.079091</td>\n",
       "      <td>0.052895</td>\n",
       "      <td>-0.152945</td>\n",
       "      <td>-0.178799</td>\n",
       "      <td>...</td>\n",
       "      <td>-0.017753</td>\n",
       "      <td>-0.004733</td>\n",
       "      <td>0.017481</td>\n",
       "      <td>-0.006419</td>\n",
       "      <td>-0.024270</td>\n",
       "      <td>0.015141</td>\n",
       "      <td>0.005037</td>\n",
       "      <td>0.011555</td>\n",
       "      <td>-0.009351</td>\n",
       "      <td>0.008839</td>\n",
       "    </tr>\n",
       "  </tbody>\n",
       "</table>\n",
       "<p>5 rows × 100 columns</p>\n",
       "</div>"
      ],
      "text/plain": [
       "         0         1         2         3         4         5         6   \\\n",
       "0  0.000323  0.316579  0.226464 -0.093895 -0.145724 -0.160602 -0.003326   \n",
       "1  0.000036  0.006363 -0.001485 -0.000307 -0.003074  0.008711  0.000234   \n",
       "2  0.000307  0.282559  0.198734 -0.108191 -0.022313 -0.049015 -0.093215   \n",
       "3  0.000196  0.087350 -0.138583 -0.028884 -0.007236 -0.041196 -0.030511   \n",
       "4  0.000409  0.407447  0.230953 -0.090664 -0.028016 -0.120191 -0.079091   \n",
       "\n",
       "         7         8         9   ...        90        91        92        93  \\\n",
       "0 -0.018079  0.090897  0.191936  ...  0.001181 -0.000930  0.002708 -0.008270   \n",
       "1 -0.001263 -0.002302  0.001763  ... -0.004530 -0.028973 -0.005179  0.011471   \n",
       "2  0.013357 -0.023777  0.027220  ... -0.015969  0.005385  0.000088 -0.018547   \n",
       "3  0.157942  0.007499  0.001800  ...  0.011864  0.034407 -0.004016  0.005074   \n",
       "4  0.052895 -0.152945 -0.178799  ... -0.017753 -0.004733  0.017481 -0.006419   \n",
       "\n",
       "         94        95        96        97        98        99  \n",
       "0 -0.001943  0.007046  0.001599  0.009947  0.004283  0.001286  \n",
       "1 -0.009895 -0.007188 -0.006494 -0.015531  0.010362 -0.014289  \n",
       "2 -0.024160 -0.009791 -0.001747 -0.040102 -0.014540 -0.014426  \n",
       "3 -0.017683  0.013241  0.002016  0.037753  0.027355  0.001946  \n",
       "4 -0.024270  0.015141  0.005037  0.011555 -0.009351  0.008839  \n",
       "\n",
       "[5 rows x 100 columns]"
      ]
     },
     "execution_count": 21,
     "metadata": {},
     "output_type": "execute_result"
    }
   ],
   "source": [
    "df_cid = pd.DataFrame(data.copy()) #df for cleaned item description transforming to new features\n",
    "df_cid.head()"
   ]
  },
  {
   "cell_type": "markdown",
   "metadata": {},
   "source": [
    "## Concatenating new features df_cid and previous df"
   ]
  },
  {
   "cell_type": "code",
   "execution_count": 22,
   "metadata": {
    "ExecuteTime": {
     "end_time": "2021-05-10T23:14:12.129397Z",
     "start_time": "2021-05-10T23:14:12.050607Z"
    }
   },
   "outputs": [
    {
     "data": {
      "text/html": [
       "<div>\n",
       "<style scoped>\n",
       "    .dataframe tbody tr th:only-of-type {\n",
       "        vertical-align: middle;\n",
       "    }\n",
       "\n",
       "    .dataframe tbody tr th {\n",
       "        vertical-align: top;\n",
       "    }\n",
       "\n",
       "    .dataframe thead th {\n",
       "        text-align: right;\n",
       "    }\n",
       "</style>\n",
       "<table border=\"1\" class=\"dataframe\">\n",
       "  <thead>\n",
       "    <tr style=\"text-align: right;\">\n",
       "      <th></th>\n",
       "      <th>train_id</th>\n",
       "      <th>item_description_bef_word_count</th>\n",
       "      <th>item_description_bef_char_count</th>\n",
       "      <th>item_description_bef_avg_word_len</th>\n",
       "      <th>item_description_upper_word_count</th>\n",
       "      <th>item_description_upper_char_count</th>\n",
       "      <th>item_description_stopword_count</th>\n",
       "      <th>item_description_punctuation_count</th>\n",
       "      <th>item_description_number_count</th>\n",
       "      <th>item_description_after_word_count</th>\n",
       "      <th>...</th>\n",
       "      <th>item_name_after_avg_word_len</th>\n",
       "      <th>item_condition_id</th>\n",
       "      <th>category_name</th>\n",
       "      <th>brand_name</th>\n",
       "      <th>shipping</th>\n",
       "      <th>price</th>\n",
       "      <th>c1</th>\n",
       "      <th>c2</th>\n",
       "      <th>c3</th>\n",
       "      <th>price_bin</th>\n",
       "    </tr>\n",
       "  </thead>\n",
       "  <tbody>\n",
       "    <tr>\n",
       "      <th>0</th>\n",
       "      <td>806824</td>\n",
       "      <td>3.0</td>\n",
       "      <td>13.0</td>\n",
       "      <td>4.333333</td>\n",
       "      <td>0.0</td>\n",
       "      <td>1.0</td>\n",
       "      <td>1.0</td>\n",
       "      <td>0.0</td>\n",
       "      <td>0.0</td>\n",
       "      <td>2.0</td>\n",
       "      <td>...</td>\n",
       "      <td>5.250000</td>\n",
       "      <td>1</td>\n",
       "      <td>Women/Athletic Apparel/Shirts &amp; Tops</td>\n",
       "      <td>Nike</td>\n",
       "      <td>1</td>\n",
       "      <td>15.0</td>\n",
       "      <td>women</td>\n",
       "      <td>athletic apparel</td>\n",
       "      <td>shirts &amp; tops</td>\n",
       "      <td>(10, 15]</td>\n",
       "    </tr>\n",
       "    <tr>\n",
       "      <th>1</th>\n",
       "      <td>772820</td>\n",
       "      <td>6.0</td>\n",
       "      <td>42.0</td>\n",
       "      <td>7.000000</td>\n",
       "      <td>0.0</td>\n",
       "      <td>4.0</td>\n",
       "      <td>1.0</td>\n",
       "      <td>0.0</td>\n",
       "      <td>0.0</td>\n",
       "      <td>5.0</td>\n",
       "      <td>...</td>\n",
       "      <td>10.000000</td>\n",
       "      <td>1</td>\n",
       "      <td>Beauty/Makeup/Lips</td>\n",
       "      <td>Anastasia Beverly Hills</td>\n",
       "      <td>0</td>\n",
       "      <td>22.0</td>\n",
       "      <td>beauty</td>\n",
       "      <td>makeup</td>\n",
       "      <td>lips</td>\n",
       "      <td>(20, 25]</td>\n",
       "    </tr>\n",
       "    <tr>\n",
       "      <th>2</th>\n",
       "      <td>1423115</td>\n",
       "      <td>11.0</td>\n",
       "      <td>54.0</td>\n",
       "      <td>4.909091</td>\n",
       "      <td>0.0</td>\n",
       "      <td>1.0</td>\n",
       "      <td>5.0</td>\n",
       "      <td>0.0</td>\n",
       "      <td>0.0</td>\n",
       "      <td>6.0</td>\n",
       "      <td>...</td>\n",
       "      <td>6.166667</td>\n",
       "      <td>1</td>\n",
       "      <td>Women/Jeans/Leggings</td>\n",
       "      <td>LuLaRoe</td>\n",
       "      <td>0</td>\n",
       "      <td>54.0</td>\n",
       "      <td>women</td>\n",
       "      <td>jeans</td>\n",
       "      <td>leggings</td>\n",
       "      <td>(50, 60]</td>\n",
       "    </tr>\n",
       "    <tr>\n",
       "      <th>3</th>\n",
       "      <td>405853</td>\n",
       "      <td>35.0</td>\n",
       "      <td>188.0</td>\n",
       "      <td>5.371429</td>\n",
       "      <td>1.0</td>\n",
       "      <td>4.0</td>\n",
       "      <td>17.0</td>\n",
       "      <td>7.0</td>\n",
       "      <td>1.0</td>\n",
       "      <td>17.0</td>\n",
       "      <td>...</td>\n",
       "      <td>5.333333</td>\n",
       "      <td>3</td>\n",
       "      <td>Women/Shoes/Boots</td>\n",
       "      <td>Hunter</td>\n",
       "      <td>0</td>\n",
       "      <td>84.0</td>\n",
       "      <td>women</td>\n",
       "      <td>shoes</td>\n",
       "      <td>boots</td>\n",
       "      <td>(80, 90]</td>\n",
       "    </tr>\n",
       "    <tr>\n",
       "      <th>4</th>\n",
       "      <td>1172086</td>\n",
       "      <td>6.0</td>\n",
       "      <td>40.0</td>\n",
       "      <td>6.666667</td>\n",
       "      <td>0.0</td>\n",
       "      <td>3.0</td>\n",
       "      <td>1.0</td>\n",
       "      <td>3.0</td>\n",
       "      <td>0.0</td>\n",
       "      <td>5.0</td>\n",
       "      <td>...</td>\n",
       "      <td>4.000000</td>\n",
       "      <td>1</td>\n",
       "      <td>Women/Shoes/Athletic</td>\n",
       "      <td>Nike</td>\n",
       "      <td>0</td>\n",
       "      <td>56.0</td>\n",
       "      <td>women</td>\n",
       "      <td>shoes</td>\n",
       "      <td>athletic</td>\n",
       "      <td>(50, 60]</td>\n",
       "    </tr>\n",
       "  </tbody>\n",
       "</table>\n",
       "<p>5 rows × 33 columns</p>\n",
       "</div>"
      ],
      "text/plain": [
       "   train_id  item_description_bef_word_count  item_description_bef_char_count  \\\n",
       "0    806824                              3.0                             13.0   \n",
       "1    772820                              6.0                             42.0   \n",
       "2   1423115                             11.0                             54.0   \n",
       "3    405853                             35.0                            188.0   \n",
       "4   1172086                              6.0                             40.0   \n",
       "\n",
       "   item_description_bef_avg_word_len  item_description_upper_word_count  \\\n",
       "0                           4.333333                                0.0   \n",
       "1                           7.000000                                0.0   \n",
       "2                           4.909091                                0.0   \n",
       "3                           5.371429                                1.0   \n",
       "4                           6.666667                                0.0   \n",
       "\n",
       "   item_description_upper_char_count  item_description_stopword_count  \\\n",
       "0                                1.0                              1.0   \n",
       "1                                4.0                              1.0   \n",
       "2                                1.0                              5.0   \n",
       "3                                4.0                             17.0   \n",
       "4                                3.0                              1.0   \n",
       "\n",
       "   item_description_punctuation_count  item_description_number_count  \\\n",
       "0                                 0.0                            0.0   \n",
       "1                                 0.0                            0.0   \n",
       "2                                 0.0                            0.0   \n",
       "3                                 7.0                            1.0   \n",
       "4                                 3.0                            0.0   \n",
       "\n",
       "   item_description_after_word_count  ...  item_name_after_avg_word_len  \\\n",
       "0                                2.0  ...                      5.250000   \n",
       "1                                5.0  ...                     10.000000   \n",
       "2                                6.0  ...                      6.166667   \n",
       "3                               17.0  ...                      5.333333   \n",
       "4                                5.0  ...                      4.000000   \n",
       "\n",
       "   item_condition_id                         category_name  \\\n",
       "0                  1  Women/Athletic Apparel/Shirts & Tops   \n",
       "1                  1                    Beauty/Makeup/Lips   \n",
       "2                  1                  Women/Jeans/Leggings   \n",
       "3                  3                     Women/Shoes/Boots   \n",
       "4                  1                  Women/Shoes/Athletic   \n",
       "\n",
       "                brand_name  shipping  price      c1                c2  \\\n",
       "0                     Nike         1   15.0   women  athletic apparel   \n",
       "1  Anastasia Beverly Hills         0   22.0  beauty            makeup   \n",
       "2                  LuLaRoe         0   54.0   women             jeans   \n",
       "3                   Hunter         0   84.0   women             shoes   \n",
       "4                     Nike         0   56.0   women             shoes   \n",
       "\n",
       "              c3  price_bin  \n",
       "0  shirts & tops   (10, 15]  \n",
       "1           lips   (20, 25]  \n",
       "2       leggings   (50, 60]  \n",
       "3          boots   (80, 90]  \n",
       "4       athletic   (50, 60]  \n",
       "\n",
       "[5 rows x 33 columns]"
      ]
     },
     "execution_count": 22,
     "metadata": {},
     "output_type": "execute_result"
    }
   ],
   "source": [
    "df1=df.copy()\n",
    "df1.drop(\"clean_item_description\", inplace=True,axis=1)\n",
    "df1.head()"
   ]
  },
  {
   "cell_type": "code",
   "execution_count": 23,
   "metadata": {
    "ExecuteTime": {
     "end_time": "2021-05-10T23:14:12.287015Z",
     "start_time": "2021-05-10T23:14:12.242094Z"
    }
   },
   "outputs": [
    {
     "name": "stdout",
     "output_type": "stream",
     "text": [
      "<class 'pandas.core.frame.DataFrame'>\n",
      "RangeIndex: 50000 entries, 0 to 49999\n",
      "Data columns (total 33 columns):\n",
      " #   Column                               Non-Null Count  Dtype  \n",
      "---  ------                               --------------  -----  \n",
      " 0   train_id                             50000 non-null  int64  \n",
      " 1   item_description_bef_word_count      50000 non-null  float64\n",
      " 2   item_description_bef_char_count      50000 non-null  float64\n",
      " 3   item_description_bef_avg_word_len    50000 non-null  float64\n",
      " 4   item_description_upper_word_count    50000 non-null  float64\n",
      " 5   item_description_upper_char_count    50000 non-null  float64\n",
      " 6   item_description_stopword_count      50000 non-null  float64\n",
      " 7   item_description_punctuation_count   50000 non-null  float64\n",
      " 8   item_description_number_count        50000 non-null  float64\n",
      " 9   item_description_after_word_count    50000 non-null  float64\n",
      " 10  item_description_after_char_count    50000 non-null  float64\n",
      " 11  item_description_after_avg_word_len  50000 non-null  float64\n",
      " 12  clean_item_name                      50000 non-null  object \n",
      " 13  item_name_bef_word_count             50000 non-null  float64\n",
      " 14  item_name_bef_char_count             50000 non-null  float64\n",
      " 15  item_name_bef_avg_word_len           50000 non-null  float64\n",
      " 16  item_name_upper_word_count           50000 non-null  float64\n",
      " 17  item_name_upper_char_count           50000 non-null  float64\n",
      " 18  item_name_stopword_count             50000 non-null  float64\n",
      " 19  item_name_punctuation_count          50000 non-null  float64\n",
      " 20  item_name_number_count               50000 non-null  float64\n",
      " 21  item_name_after_word_count           50000 non-null  float64\n",
      " 22  item_name_after_char_count           50000 non-null  float64\n",
      " 23  item_name_after_avg_word_len         50000 non-null  float64\n",
      " 24  item_condition_id                    50000 non-null  int64  \n",
      " 25  category_name                        50000 non-null  object \n",
      " 26  brand_name                           50000 non-null  object \n",
      " 27  shipping                             50000 non-null  int64  \n",
      " 28  price                                50000 non-null  float64\n",
      " 29  c1                                   50000 non-null  object \n",
      " 30  c2                                   50000 non-null  object \n",
      " 31  c3                                   50000 non-null  object \n",
      " 32  price_bin                            50000 non-null  object \n",
      "dtypes: float64(23), int64(3), object(7)\n",
      "memory usage: 12.6+ MB\n"
     ]
    }
   ],
   "source": [
    "df1.info()"
   ]
  },
  {
   "cell_type": "code",
   "execution_count": 24,
   "metadata": {
    "ExecuteTime": {
     "end_time": "2021-05-10T23:14:12.414632Z",
     "start_time": "2021-05-10T23:14:12.400672Z"
    }
   },
   "outputs": [
    {
     "data": {
      "text/plain": [
       "((50000, 33), (50000, 100))"
      ]
     },
     "execution_count": 24,
     "metadata": {},
     "output_type": "execute_result"
    }
   ],
   "source": [
    "df1.shape,df_cid.shape"
   ]
  },
  {
   "cell_type": "code",
   "execution_count": 25,
   "metadata": {
    "ExecuteTime": {
     "end_time": "2021-05-10T23:14:12.586368Z",
     "start_time": "2021-05-10T23:14:12.512396Z"
    }
   },
   "outputs": [
    {
     "data": {
      "text/plain": [
       "(50000, 133)"
      ]
     },
     "execution_count": 25,
     "metadata": {},
     "output_type": "execute_result"
    }
   ],
   "source": [
    "df_concat=pd.concat([df1,df_cid],axis=1)\n",
    "df_concat.shape"
   ]
  },
  {
   "cell_type": "markdown",
   "metadata": {},
   "source": [
    "## Using one-hot encoding for category and nominal features"
   ]
  },
  {
   "cell_type": "markdown",
   "metadata": {},
   "source": [
    "delete price bins"
   ]
  },
  {
   "cell_type": "code",
   "execution_count": 26,
   "metadata": {
    "ExecuteTime": {
     "end_time": "2021-05-10T23:14:12.726731Z",
     "start_time": "2021-05-10T23:14:12.713701Z"
    }
   },
   "outputs": [],
   "source": [
    "cols_catNnom = ['category_name','brand_name', 'c1', 'c2', 'c3'] # columns of category and nominal features"
   ]
  },
  {
   "cell_type": "code",
   "execution_count": 27,
   "metadata": {
    "ExecuteTime": {
     "end_time": "2021-05-10T23:14:14.984983Z",
     "start_time": "2021-05-10T23:14:12.838952Z"
    }
   },
   "outputs": [
    {
     "data": {
      "text/plain": [
       "(50000, 3028)"
      ]
     },
     "execution_count": 27,
     "metadata": {},
     "output_type": "execute_result"
    }
   ],
   "source": [
    "from final.feature_encoding.one_hot_encoding import one_hot_encode_feature\n",
    "df_encode = df_concat\n",
    "for col in cols_catNnom:\n",
    "    df_encode, col_encode = one_hot_encode_feature(df_encode, encode_column=col,drop_first=False)\n",
    "df_encode.shape"
   ]
  },
  {
   "cell_type": "code",
   "execution_count": 28,
   "metadata": {
    "ExecuteTime": {
     "end_time": "2021-05-10T23:14:15.091697Z",
     "start_time": "2021-05-10T23:14:14.986976Z"
    }
   },
   "outputs": [
    {
     "name": "stdout",
     "output_type": "stream",
     "text": [
      "<class 'pandas.core.frame.DataFrame'>\n",
      "RangeIndex: 50000 entries, 0 to 49999\n",
      "Columns: 3028 entries, train_id to c3_yoga & pilates\n",
      "dtypes: float64(123), int64(3), object(2), uint8(2900)\n",
      "memory usage: 187.1+ MB\n"
     ]
    }
   ],
   "source": [
    "df_encode.info()"
   ]
  },
  {
   "cell_type": "code",
   "execution_count": 29,
   "metadata": {
    "ExecuteTime": {
     "end_time": "2021-05-10T23:14:15.122613Z",
     "start_time": "2021-05-10T23:14:15.093690Z"
    }
   },
   "outputs": [
    {
     "data": {
      "text/html": [
       "<div>\n",
       "<style scoped>\n",
       "    .dataframe tbody tr th:only-of-type {\n",
       "        vertical-align: middle;\n",
       "    }\n",
       "\n",
       "    .dataframe tbody tr th {\n",
       "        vertical-align: top;\n",
       "    }\n",
       "\n",
       "    .dataframe thead th {\n",
       "        text-align: right;\n",
       "    }\n",
       "</style>\n",
       "<table border=\"1\" class=\"dataframe\">\n",
       "  <thead>\n",
       "    <tr style=\"text-align: right;\">\n",
       "      <th></th>\n",
       "      <th>train_id</th>\n",
       "      <th>item_description_bef_word_count</th>\n",
       "      <th>item_description_bef_char_count</th>\n",
       "      <th>item_description_bef_avg_word_len</th>\n",
       "      <th>item_description_upper_word_count</th>\n",
       "      <th>item_description_upper_char_count</th>\n",
       "      <th>item_description_stopword_count</th>\n",
       "      <th>item_description_punctuation_count</th>\n",
       "      <th>item_description_number_count</th>\n",
       "      <th>item_description_after_word_count</th>\n",
       "      <th>...</th>\n",
       "      <th>c3_window treatments</th>\n",
       "      <th>c3_wine, beer &amp; beverage coolers</th>\n",
       "      <th>c3_wipes &amp; holders</th>\n",
       "      <th>c3_women</th>\n",
       "      <th>c3_women's golf clubs</th>\n",
       "      <th>c3_wool</th>\n",
       "      <th>c3_work &amp; safety</th>\n",
       "      <th>c3_wrap</th>\n",
       "      <th>c3_writing</th>\n",
       "      <th>c3_yoga &amp; pilates</th>\n",
       "    </tr>\n",
       "  </thead>\n",
       "  <tbody>\n",
       "    <tr>\n",
       "      <th>0</th>\n",
       "      <td>806824</td>\n",
       "      <td>3.0</td>\n",
       "      <td>13.0</td>\n",
       "      <td>4.333333</td>\n",
       "      <td>0.0</td>\n",
       "      <td>1.0</td>\n",
       "      <td>1.0</td>\n",
       "      <td>0.0</td>\n",
       "      <td>0.0</td>\n",
       "      <td>2.0</td>\n",
       "      <td>...</td>\n",
       "      <td>0</td>\n",
       "      <td>0</td>\n",
       "      <td>0</td>\n",
       "      <td>0</td>\n",
       "      <td>0</td>\n",
       "      <td>0</td>\n",
       "      <td>0</td>\n",
       "      <td>0</td>\n",
       "      <td>0</td>\n",
       "      <td>0</td>\n",
       "    </tr>\n",
       "    <tr>\n",
       "      <th>1</th>\n",
       "      <td>772820</td>\n",
       "      <td>6.0</td>\n",
       "      <td>42.0</td>\n",
       "      <td>7.000000</td>\n",
       "      <td>0.0</td>\n",
       "      <td>4.0</td>\n",
       "      <td>1.0</td>\n",
       "      <td>0.0</td>\n",
       "      <td>0.0</td>\n",
       "      <td>5.0</td>\n",
       "      <td>...</td>\n",
       "      <td>0</td>\n",
       "      <td>0</td>\n",
       "      <td>0</td>\n",
       "      <td>0</td>\n",
       "      <td>0</td>\n",
       "      <td>0</td>\n",
       "      <td>0</td>\n",
       "      <td>0</td>\n",
       "      <td>0</td>\n",
       "      <td>0</td>\n",
       "    </tr>\n",
       "    <tr>\n",
       "      <th>2</th>\n",
       "      <td>1423115</td>\n",
       "      <td>11.0</td>\n",
       "      <td>54.0</td>\n",
       "      <td>4.909091</td>\n",
       "      <td>0.0</td>\n",
       "      <td>1.0</td>\n",
       "      <td>5.0</td>\n",
       "      <td>0.0</td>\n",
       "      <td>0.0</td>\n",
       "      <td>6.0</td>\n",
       "      <td>...</td>\n",
       "      <td>0</td>\n",
       "      <td>0</td>\n",
       "      <td>0</td>\n",
       "      <td>0</td>\n",
       "      <td>0</td>\n",
       "      <td>0</td>\n",
       "      <td>0</td>\n",
       "      <td>0</td>\n",
       "      <td>0</td>\n",
       "      <td>0</td>\n",
       "    </tr>\n",
       "    <tr>\n",
       "      <th>3</th>\n",
       "      <td>405853</td>\n",
       "      <td>35.0</td>\n",
       "      <td>188.0</td>\n",
       "      <td>5.371429</td>\n",
       "      <td>1.0</td>\n",
       "      <td>4.0</td>\n",
       "      <td>17.0</td>\n",
       "      <td>7.0</td>\n",
       "      <td>1.0</td>\n",
       "      <td>17.0</td>\n",
       "      <td>...</td>\n",
       "      <td>0</td>\n",
       "      <td>0</td>\n",
       "      <td>0</td>\n",
       "      <td>0</td>\n",
       "      <td>0</td>\n",
       "      <td>0</td>\n",
       "      <td>0</td>\n",
       "      <td>0</td>\n",
       "      <td>0</td>\n",
       "      <td>0</td>\n",
       "    </tr>\n",
       "    <tr>\n",
       "      <th>4</th>\n",
       "      <td>1172086</td>\n",
       "      <td>6.0</td>\n",
       "      <td>40.0</td>\n",
       "      <td>6.666667</td>\n",
       "      <td>0.0</td>\n",
       "      <td>3.0</td>\n",
       "      <td>1.0</td>\n",
       "      <td>3.0</td>\n",
       "      <td>0.0</td>\n",
       "      <td>5.0</td>\n",
       "      <td>...</td>\n",
       "      <td>0</td>\n",
       "      <td>0</td>\n",
       "      <td>0</td>\n",
       "      <td>0</td>\n",
       "      <td>0</td>\n",
       "      <td>0</td>\n",
       "      <td>0</td>\n",
       "      <td>0</td>\n",
       "      <td>0</td>\n",
       "      <td>0</td>\n",
       "    </tr>\n",
       "  </tbody>\n",
       "</table>\n",
       "<p>5 rows × 3028 columns</p>\n",
       "</div>"
      ],
      "text/plain": [
       "   train_id  item_description_bef_word_count  item_description_bef_char_count  \\\n",
       "0    806824                              3.0                             13.0   \n",
       "1    772820                              6.0                             42.0   \n",
       "2   1423115                             11.0                             54.0   \n",
       "3    405853                             35.0                            188.0   \n",
       "4   1172086                              6.0                             40.0   \n",
       "\n",
       "   item_description_bef_avg_word_len  item_description_upper_word_count  \\\n",
       "0                           4.333333                                0.0   \n",
       "1                           7.000000                                0.0   \n",
       "2                           4.909091                                0.0   \n",
       "3                           5.371429                                1.0   \n",
       "4                           6.666667                                0.0   \n",
       "\n",
       "   item_description_upper_char_count  item_description_stopword_count  \\\n",
       "0                                1.0                              1.0   \n",
       "1                                4.0                              1.0   \n",
       "2                                1.0                              5.0   \n",
       "3                                4.0                             17.0   \n",
       "4                                3.0                              1.0   \n",
       "\n",
       "   item_description_punctuation_count  item_description_number_count  \\\n",
       "0                                 0.0                            0.0   \n",
       "1                                 0.0                            0.0   \n",
       "2                                 0.0                            0.0   \n",
       "3                                 7.0                            1.0   \n",
       "4                                 3.0                            0.0   \n",
       "\n",
       "   item_description_after_word_count  ...  c3_window treatments  \\\n",
       "0                                2.0  ...                     0   \n",
       "1                                5.0  ...                     0   \n",
       "2                                6.0  ...                     0   \n",
       "3                               17.0  ...                     0   \n",
       "4                                5.0  ...                     0   \n",
       "\n",
       "   c3_wine, beer & beverage coolers c3_wipes & holders  c3_women  \\\n",
       "0                                 0                  0         0   \n",
       "1                                 0                  0         0   \n",
       "2                                 0                  0         0   \n",
       "3                                 0                  0         0   \n",
       "4                                 0                  0         0   \n",
       "\n",
       "   c3_women's golf clubs  c3_wool  c3_work & safety  c3_wrap  c3_writing  \\\n",
       "0                      0        0                 0        0           0   \n",
       "1                      0        0                 0        0           0   \n",
       "2                      0        0                 0        0           0   \n",
       "3                      0        0                 0        0           0   \n",
       "4                      0        0                 0        0           0   \n",
       "\n",
       "   c3_yoga & pilates  \n",
       "0                  0  \n",
       "1                  0  \n",
       "2                  0  \n",
       "3                  0  \n",
       "4                  0  \n",
       "\n",
       "[5 rows x 3028 columns]"
      ]
     },
     "execution_count": 29,
     "metadata": {},
     "output_type": "execute_result"
    }
   ],
   "source": [
    "df_encode.head()"
   ]
  },
  {
   "cell_type": "code",
   "execution_count": 30,
   "metadata": {
    "ExecuteTime": {
     "end_time": "2021-05-10T23:14:15.138610Z",
     "start_time": "2021-05-10T23:14:15.125606Z"
    }
   },
   "outputs": [
    {
     "data": {
      "text/html": [
       "<div>\n",
       "<style scoped>\n",
       "    .dataframe tbody tr th:only-of-type {\n",
       "        vertical-align: middle;\n",
       "    }\n",
       "\n",
       "    .dataframe tbody tr th {\n",
       "        vertical-align: top;\n",
       "    }\n",
       "\n",
       "    .dataframe thead th {\n",
       "        text-align: right;\n",
       "    }\n",
       "</style>\n",
       "<table border=\"1\" class=\"dataframe\">\n",
       "  <thead>\n",
       "    <tr style=\"text-align: right;\">\n",
       "      <th></th>\n",
       "      <th>price</th>\n",
       "    </tr>\n",
       "  </thead>\n",
       "  <tbody>\n",
       "    <tr>\n",
       "      <th>0</th>\n",
       "      <td>15.0</td>\n",
       "    </tr>\n",
       "    <tr>\n",
       "      <th>1</th>\n",
       "      <td>22.0</td>\n",
       "    </tr>\n",
       "    <tr>\n",
       "      <th>2</th>\n",
       "      <td>54.0</td>\n",
       "    </tr>\n",
       "    <tr>\n",
       "      <th>3</th>\n",
       "      <td>84.0</td>\n",
       "    </tr>\n",
       "    <tr>\n",
       "      <th>4</th>\n",
       "      <td>56.0</td>\n",
       "    </tr>\n",
       "    <tr>\n",
       "      <th>...</th>\n",
       "      <td>...</td>\n",
       "    </tr>\n",
       "    <tr>\n",
       "      <th>49995</th>\n",
       "      <td>1609.0</td>\n",
       "    </tr>\n",
       "    <tr>\n",
       "      <th>49996</th>\n",
       "      <td>205.0</td>\n",
       "    </tr>\n",
       "    <tr>\n",
       "      <th>49997</th>\n",
       "      <td>36.0</td>\n",
       "    </tr>\n",
       "    <tr>\n",
       "      <th>49998</th>\n",
       "      <td>20.0</td>\n",
       "    </tr>\n",
       "    <tr>\n",
       "      <th>49999</th>\n",
       "      <td>72.0</td>\n",
       "    </tr>\n",
       "  </tbody>\n",
       "</table>\n",
       "<p>50000 rows × 1 columns</p>\n",
       "</div>"
      ],
      "text/plain": [
       "        price\n",
       "0        15.0\n",
       "1        22.0\n",
       "2        54.0\n",
       "3        84.0\n",
       "4        56.0\n",
       "...       ...\n",
       "49995  1609.0\n",
       "49996   205.0\n",
       "49997    36.0\n",
       "49998    20.0\n",
       "49999    72.0\n",
       "\n",
       "[50000 rows x 1 columns]"
      ]
     },
     "execution_count": 30,
     "metadata": {},
     "output_type": "execute_result"
    }
   ],
   "source": [
    "df_encode[[\"price\"]]"
   ]
  },
  {
   "cell_type": "code",
   "execution_count": 31,
   "metadata": {
    "ExecuteTime": {
     "end_time": "2021-05-10T23:14:15.371160Z",
     "start_time": "2021-05-10T23:14:15.140567Z"
    }
   },
   "outputs": [],
   "source": [
    "# prepare input X, y\n",
    "X, y = df_encode.copy().drop([\"clean_item_name\",\"train_id\",\"price\",\"price_bin\"],axis=1), df_encode[[\"price\"]] "
   ]
  },
  {
   "cell_type": "code",
   "execution_count": 32,
   "metadata": {
    "ExecuteTime": {
     "end_time": "2021-05-10T23:14:15.479881Z",
     "start_time": "2021-05-10T23:14:15.374142Z"
    }
   },
   "outputs": [
    {
     "name": "stdout",
     "output_type": "stream",
     "text": [
      "<class 'pandas.core.frame.DataFrame'>\n",
      "RangeIndex: 50000 entries, 0 to 49999\n",
      "Columns: 3024 entries, item_description_bef_word_count to c3_yoga & pilates\n",
      "dtypes: float64(122), int64(2), uint8(2900)\n",
      "memory usage: 185.6 MB\n"
     ]
    }
   ],
   "source": [
    "X.info()"
   ]
  },
  {
   "cell_type": "code",
   "execution_count": 33,
   "metadata": {
    "ExecuteTime": {
     "end_time": "2021-05-10T23:14:15.891511Z",
     "start_time": "2021-05-10T23:14:15.483845Z"
    }
   },
   "outputs": [],
   "source": [
    "from sklearn.model_selection import train_test_split\n",
    "X_train, X_test, y_train, y_test =train_test_split(X, y, test_size=0.3, random_state=42)"
   ]
  },
  {
   "cell_type": "markdown",
   "metadata": {},
   "source": [
    "## Conduct dimension reduction on the dateframe processed by one-hot encoding\n",
    "skip this step in the first place. <br>\n",
    "let us see how the regression result looks like. and then determine if the dimension reduction on whole dataset needed, or if use other techniques to avoid overfitting(e.g. adding penalty, using RobustScaler, conducting cross validation).<br>\n",
    "\n"
   ]
  },
  {
   "cell_type": "markdown",
   "metadata": {},
   "source": [
    "* log 1: actually can't skip this step, the dimension is too large to run, Exception was raised: MemoryError: Unable to allocate 11.8 GiB for an array with shape (45079, 35000) and data type float64.\n",
    "Therefore, try conduct PCA again before regression"
   ]
  },
  {
   "cell_type": "markdown",
   "metadata": {},
   "source": [
    "* log 2: even can't not run PCA due to the large number of features. Try drop clean_item_name instead of encoding it, as it is has very less duplicated items."
   ]
  },
  {
   "cell_type": "markdown",
   "metadata": {},
   "source": [
    "* log 3: Since log2 works, skip this step( e.i. 1.5) for now."
   ]
  },
  {
   "cell_type": "markdown",
   "metadata": {},
   "source": [
    "* log 4: features are too much later, have to reduce dimension at this step."
   ]
  },
  {
   "cell_type": "code",
   "execution_count": 34,
   "metadata": {
    "ExecuteTime": {
     "end_time": "2021-05-10T23:14:18.944806Z",
     "start_time": "2021-05-10T23:14:15.894439Z"
    }
   },
   "outputs": [],
   "source": [
    "from sklearn.preprocessing import StandardScaler\n",
    "\n",
    "sc = StandardScaler()\n",
    "X_train_std = sc.fit_transform(X_train)\n",
    "X_test_std = sc.transform(X_test)"
   ]
  },
  {
   "cell_type": "code",
   "execution_count": 35,
   "metadata": {
    "ExecuteTime": {
     "end_time": "2021-05-10T23:14:22.937089Z",
     "start_time": "2021-05-10T23:14:18.946758Z"
    },
    "scrolled": true
   },
   "outputs": [
    {
     "data": {
      "text/plain": [
       "array([0.00290463, 0.00227748, 0.0021392 , 0.00197141, 0.00187969,\n",
       "       0.00185723, 0.00180453, 0.00177984, 0.00174778, 0.00167633,\n",
       "       0.00161552, 0.00160401, 0.00154318, 0.00153357, 0.00145383,\n",
       "       0.00145094, 0.00143836, 0.00143613, 0.00143506, 0.00142606,\n",
       "       0.00141384, 0.00140871, 0.00140269, 0.00139759, 0.00139177,\n",
       "       0.00138739, 0.00138107, 0.00136905, 0.00136496, 0.00136107,\n",
       "       0.00135542, 0.00134973, 0.00133956, 0.00133637, 0.00132216,\n",
       "       0.00131045, 0.00130529, 0.00129102, 0.00127827, 0.00126776,\n",
       "       0.00126149, 0.00124665, 0.001242  , 0.00123949, 0.00122593,\n",
       "       0.0012158 , 0.00121305, 0.00120527, 0.00119444, 0.00117524])"
      ]
     },
     "execution_count": 35,
     "metadata": {},
     "output_type": "execute_result"
    }
   ],
   "source": [
    "from sklearn.decomposition import PCA\n",
    "pca = PCA(n_components=50) # reduce features to 50\n",
    "X_train_pca = pca.fit_transform(X_train_std)\n",
    "X_test_pca = pca.transform(X_test_std)\n",
    "pca.explained_variance_ratio_"
   ]
  },
  {
   "cell_type": "code",
   "execution_count": 68,
   "metadata": {
    "ExecuteTime": {
     "end_time": "2021-05-11T00:30:58.956957Z",
     "start_time": "2021-05-11T00:30:58.943615Z"
    }
   },
   "outputs": [
    {
     "data": {
      "text/plain": [
       "((35000, 50), (15000, 50))"
      ]
     },
     "execution_count": 68,
     "metadata": {},
     "output_type": "execute_result"
    }
   ],
   "source": [
    "X_train_pca.shape, X_test_pca.shape "
   ]
  },
  {
   "cell_type": "markdown",
   "metadata": {},
   "source": [
    "# Regression Model Selection\n",
    "Proposal:\n",
    "1. try different regression techniques, and select the best one;\n",
    "      - DT regressor\n",
    "      * Ensemble method\n",
    "      - Adding polynomial items to multiple linear regression? \n",
    "      - Tensorflow.Keras\n",
    "2. focus on the selected one and tuning modelling.(Guessing propably would use Ensemble learning or Keras in the end)<br>\n",
    "**Based on the our previous experiment so far, our results have both large bias and variance.** Probably need to use more powerful algorithm to improve the bias, and then considering solve overfitting issue?"
   ]
  },
  {
   "cell_type": "code",
   "execution_count": null,
   "metadata": {},
   "outputs": [],
   "source": []
  },
  {
   "cell_type": "markdown",
   "metadata": {},
   "source": [
    "## Regression Tree"
   ]
  },
  {
   "cell_type": "code",
   "execution_count": 37,
   "metadata": {
    "ExecuteTime": {
     "end_time": "2021-05-10T23:14:24.432427Z",
     "start_time": "2021-05-10T23:14:22.955042Z"
    }
   },
   "outputs": [],
   "source": [
    "from sklearn import tree\n",
    "from sklearn.metrics import mean_squared_error, explained_variance_score,r2_score \n",
    "def evaluate_dt_regressor(X_train, X_test, y_train, y_test,n_iter,max_depth):\n",
    "    # the maximum depth of the tree. If None, then nodes are expanded until all leaves are pure\n",
    "    MSE_test=[]\n",
    "    EVS_test=[]\n",
    "    R2_test=[]\n",
    "    MSE_train=[]\n",
    "    EVS_train=[]\n",
    "    R2_train=[]\n",
    "    for i in range(n_iter):\n",
    "        rg = tree.DecisionTreeRegressor(max_depth=max_depth)\n",
    "        rg.fit(X_train, y_train)\n",
    "        y_train_pred = rg.predict(X_train)\n",
    "        y_pred = rg.predict(X_test)\n",
    "        MSE_train.append(mean_squared_error(y_train, y_train_pred))\n",
    "        EVS_train.append(explained_variance_score(y_train, y_train_pred))\n",
    "        R2_train.append(r2_score(y_train, y_train_pred))\n",
    "        \n",
    "        MSE_test.append(mean_squared_error(y_test, y_pred))\n",
    "        EVS_test.append(explained_variance_score(y_test, y_pred))\n",
    "        R2_test.append(r2_score(y_test, y_pred))\n",
    "    print(\"Train score:\",\"MSE: {}\".format(sum(MSE_train)/n_iter),\"EVS: {}\".format(sum(EVS_train)/n_iter),\"R2: {}\".format(sum(R2_train)/n_iter),)\n",
    "    print(\"Test score:\",\"MSE: {}\".format(sum(MSE_test)/n_iter),\"EVS: {}\".format(sum(EVS_test)/n_iter),\"R2: {}\".format(sum(R2_test)/n_iter),)"
   ]
  },
  {
   "cell_type": "code",
   "execution_count": 38,
   "metadata": {
    "ExecuteTime": {
     "end_time": "2021-05-10T23:14:27.799730Z",
     "start_time": "2021-05-10T23:14:24.434036Z"
    }
   },
   "outputs": [
    {
     "name": "stdout",
     "output_type": "stream",
     "text": [
      "Train score: MSE: 1.4285714285714285e-05 EVS: 0.9999999996453222 R2: 0.9999999996453222\n",
      "Test score: MSE: 25453.1081 EVS: 0.32469162425114917 R2: 0.32468964011539003\n"
     ]
    }
   ],
   "source": [
    "evaluate_dt_regressor(X_train_pca, X_test_pca, y_train, y_test,1,max_depth=None)"
   ]
  },
  {
   "cell_type": "code",
   "execution_count": 39,
   "metadata": {
    "ExecuteTime": {
     "end_time": "2021-05-10T23:14:31.063592Z",
     "start_time": "2021-05-10T23:14:30.502631Z"
    }
   },
   "outputs": [
    {
     "name": "stdout",
     "output_type": "stream",
     "text": [
      "Train score: MSE: 27603.316402674467 EVS: 0.31468007373987195 R2: 0.31468007373987195\n",
      "Test score: MSE: 25451.206550664436 EVS: 0.3247873054026028 R2: 0.32474009116290425\n"
     ]
    }
   ],
   "source": [
    "evaluate_dt_regressor(X_train_pca, X_test_pca,y_train, y_test,1,max_depth=3)"
   ]
  },
  {
   "cell_type": "code",
   "execution_count": 40,
   "metadata": {
    "ExecuteTime": {
     "end_time": "2021-05-10T23:14:32.233789Z",
     "start_time": "2021-05-10T23:14:31.273341Z"
    }
   },
   "outputs": [
    {
     "name": "stdout",
     "output_type": "stream",
     "text": [
      "Train score: MSE: 23710.359452021607 EVS: 0.41133226333317674 R2: 0.41133226333317674\n",
      "Test score: MSE: 22479.658016756082 EVS: 0.40358066969169526 R2: 0.4035798737923677\n"
     ]
    }
   ],
   "source": [
    "evaluate_dt_regressor(X_train_pca, X_test_pca,  y_train, y_test,1,max_depth=5)"
   ]
  },
  {
   "cell_type": "code",
   "execution_count": 67,
   "metadata": {
    "ExecuteTime": {
     "end_time": "2021-05-11T00:30:58.705944Z",
     "start_time": "2021-05-11T00:30:25.047711Z"
    },
    "scrolled": true
   },
   "outputs": [
    {
     "name": "stdout",
     "output_type": "stream",
     "text": [
      "Train score: MSE: 1.4285714285714289e-05 EVS: 0.9999999996453222 R2: 0.9999999996453222\n",
      "Test score: MSE: 24968.189694999997 EVS: 0.33756667512715666 R2: 0.337555276064786\n"
     ]
    }
   ],
   "source": [
    "evaluate_dt_regressor(X_train_pca, X_test_pca,  y_train, y_test,10,max_depth=None)"
   ]
  },
  {
   "cell_type": "code",
   "execution_count": null,
   "metadata": {},
   "outputs": [],
   "source": []
  },
  {
   "cell_type": "code",
   "execution_count": 71,
   "metadata": {
    "ExecuteTime": {
     "end_time": "2021-05-11T00:51:43.841278Z",
     "start_time": "2021-05-11T00:51:36.050125Z"
    }
   },
   "outputs": [
    {
     "name": "stderr",
     "output_type": "stream",
     "text": [
      "<ipython-input-71-6f87890d9029>:41: UserWarning: This figure was using constrained_layout==True, but that is incompatible with subplots_adjust and or tight_layout: setting constrained_layout==False. \n",
      "  plt.tight_layout()\n"
     ]
    },
    {
     "data": {
      "image/png": "[encoded data removed]",
      "text/plain": [
       "<Figure size 1080x1080 with 1 Axes>"
      ]
     },
     "metadata": {
      "needs_background": "light"
     },
     "output_type": "display_data"
    }
   ],
   "source": [
    "import matplotlib.pyplot as plt\n",
    "from sklearn.model_selection import learning_curve\n",
    "\n",
    "train_sizes, train_scores, test_scores =\\\n",
    "                learning_curve(estimator=tree.DecisionTreeRegressor(max_depth=5),\n",
    "                               X=X_train_pca,\n",
    "                               y=y_train,\n",
    "                               train_sizes=np.linspace(0.1, 1.0, 4),\n",
    "                               cv=5,\n",
    "                               n_jobs=1)\n",
    "\n",
    "train_mean = np.mean(train_scores, axis=1)\n",
    "train_std = np.std(train_scores, axis=1)\n",
    "test_mean = np.mean(test_scores, axis=1)\n",
    "test_std = np.std(test_scores, axis=1)\n",
    "\n",
    "plt.plot(train_sizes, train_mean,\n",
    "         color='blue', marker='o',\n",
    "         markersize=5, label='Training accuracy')\n",
    "\n",
    "plt.fill_between(train_sizes,\n",
    "                 train_mean + train_std,\n",
    "                 train_mean - train_std,\n",
    "                 alpha=0.15, color='blue')\n",
    "\n",
    "plt.plot(train_sizes, test_mean,\n",
    "         color='green', linestyle='--',\n",
    "         marker='s', markersize=5,\n",
    "         label='Validation accuracy')\n",
    "\n",
    "plt.fill_between(train_sizes,\n",
    "                 test_mean + test_std,\n",
    "                 test_mean - test_std,\n",
    "                 alpha=0.15, color='green')\n",
    "\n",
    "plt.grid()\n",
    "plt.xlabel('Number of training examples')\n",
    "plt.ylabel('Accuracy')\n",
    "plt.legend(loc='lower right')\n",
    "plt.ylim([0.8, 1.03])\n",
    "plt.tight_layout()\n",
    "# plt.savefig('images/06_05.png', dpi=300)\n",
    "plt.show()"
   ]
  },
  {
   "cell_type": "code",
   "execution_count": 72,
   "metadata": {
    "ExecuteTime": {
     "end_time": "2021-05-11T00:59:34.581181Z",
     "start_time": "2021-05-11T00:59:19.828902Z"
    }
   },
   "outputs": [
    {
     "ename": "TypeError",
     "evalue": "ufunc 'isfinite' not supported for the input types, and the inputs could not be safely coerced to any supported types according to the casting rule ''safe''",
     "output_type": "error",
     "traceback": [
      "\u001b[1;31m---------------------------------------------------------------------------\u001b[0m",
      "\u001b[1;31mTypeError\u001b[0m                                 Traceback (most recent call last)",
      "\u001b[1;32m<ipython-input-72-3075ad6dc4b0>\u001b[0m in \u001b[0;36m<module>\u001b[1;34m\u001b[0m\n\u001b[0;32m     20\u001b[0m          markersize=5, label='Training accuracy')\n\u001b[0;32m     21\u001b[0m \u001b[1;33m\u001b[0m\u001b[0m\n\u001b[1;32m---> 22\u001b[1;33m plt.fill_between(param_range, train_mean + train_std,\n\u001b[0m\u001b[0;32m     23\u001b[0m                  \u001b[0mtrain_mean\u001b[0m \u001b[1;33m-\u001b[0m \u001b[0mtrain_std\u001b[0m\u001b[1;33m,\u001b[0m \u001b[0malpha\u001b[0m\u001b[1;33m=\u001b[0m\u001b[1;36m0.15\u001b[0m\u001b[1;33m,\u001b[0m\u001b[1;33m\u001b[0m\u001b[1;33m\u001b[0m\u001b[0m\n\u001b[0;32m     24\u001b[0m                  color='blue')\n",
      "\u001b[1;32m~\\anaconda3\\lib\\site-packages\\matplotlib\\pyplot.py\u001b[0m in \u001b[0;36mfill_between\u001b[1;34m(x, y1, y2, where, interpolate, step, data, **kwargs)\u001b[0m\n\u001b[0;32m   2556\u001b[0m         \u001b[0mx\u001b[0m\u001b[1;33m,\u001b[0m \u001b[0my1\u001b[0m\u001b[1;33m,\u001b[0m \u001b[0my2\u001b[0m\u001b[1;33m=\u001b[0m\u001b[1;36m0\u001b[0m\u001b[1;33m,\u001b[0m \u001b[0mwhere\u001b[0m\u001b[1;33m=\u001b[0m\u001b[1;32mNone\u001b[0m\u001b[1;33m,\u001b[0m \u001b[0minterpolate\u001b[0m\u001b[1;33m=\u001b[0m\u001b[1;32mFalse\u001b[0m\u001b[1;33m,\u001b[0m \u001b[0mstep\u001b[0m\u001b[1;33m=\u001b[0m\u001b[1;32mNone\u001b[0m\u001b[1;33m,\u001b[0m \u001b[1;33m*\u001b[0m\u001b[1;33m,\u001b[0m\u001b[1;33m\u001b[0m\u001b[1;33m\u001b[0m\u001b[0m\n\u001b[0;32m   2557\u001b[0m         data=None, **kwargs):\n\u001b[1;32m-> 2558\u001b[1;33m     return gca().fill_between(\n\u001b[0m\u001b[0;32m   2559\u001b[0m         \u001b[0mx\u001b[0m\u001b[1;33m,\u001b[0m \u001b[0my1\u001b[0m\u001b[1;33m,\u001b[0m \u001b[0my2\u001b[0m\u001b[1;33m=\u001b[0m\u001b[0my2\u001b[0m\u001b[1;33m,\u001b[0m \u001b[0mwhere\u001b[0m\u001b[1;33m=\u001b[0m\u001b[0mwhere\u001b[0m\u001b[1;33m,\u001b[0m \u001b[0minterpolate\u001b[0m\u001b[1;33m=\u001b[0m\u001b[0minterpolate\u001b[0m\u001b[1;33m,\u001b[0m \u001b[0mstep\u001b[0m\u001b[1;33m=\u001b[0m\u001b[0mstep\u001b[0m\u001b[1;33m,\u001b[0m\u001b[1;33m\u001b[0m\u001b[1;33m\u001b[0m\u001b[0m\n\u001b[0;32m   2560\u001b[0m         **({\"data\": data} if data is not None else {}), **kwargs)\n",
      "\u001b[1;32m~\\anaconda3\\lib\\site-packages\\matplotlib\\__init__.py\u001b[0m in \u001b[0;36minner\u001b[1;34m(ax, data, *args, **kwargs)\u001b[0m\n\u001b[0;32m   1563\u001b[0m     \u001b[1;32mdef\u001b[0m \u001b[0minner\u001b[0m\u001b[1;33m(\u001b[0m\u001b[0max\u001b[0m\u001b[1;33m,\u001b[0m \u001b[1;33m*\u001b[0m\u001b[0margs\u001b[0m\u001b[1;33m,\u001b[0m \u001b[0mdata\u001b[0m\u001b[1;33m=\u001b[0m\u001b[1;32mNone\u001b[0m\u001b[1;33m,\u001b[0m \u001b[1;33m**\u001b[0m\u001b[0mkwargs\u001b[0m\u001b[1;33m)\u001b[0m\u001b[1;33m:\u001b[0m\u001b[1;33m\u001b[0m\u001b[1;33m\u001b[0m\u001b[0m\n\u001b[0;32m   1564\u001b[0m         \u001b[1;32mif\u001b[0m \u001b[0mdata\u001b[0m \u001b[1;32mis\u001b[0m \u001b[1;32mNone\u001b[0m\u001b[1;33m:\u001b[0m\u001b[1;33m\u001b[0m\u001b[1;33m\u001b[0m\u001b[0m\n\u001b[1;32m-> 1565\u001b[1;33m             \u001b[1;32mreturn\u001b[0m \u001b[0mfunc\u001b[0m\u001b[1;33m(\u001b[0m\u001b[0max\u001b[0m\u001b[1;33m,\u001b[0m \u001b[1;33m*\u001b[0m\u001b[0mmap\u001b[0m\u001b[1;33m(\u001b[0m\u001b[0msanitize_sequence\u001b[0m\u001b[1;33m,\u001b[0m \u001b[0margs\u001b[0m\u001b[1;33m)\u001b[0m\u001b[1;33m,\u001b[0m \u001b[1;33m**\u001b[0m\u001b[0mkwargs\u001b[0m\u001b[1;33m)\u001b[0m\u001b[1;33m\u001b[0m\u001b[1;33m\u001b[0m\u001b[0m\n\u001b[0m\u001b[0;32m   1566\u001b[0m \u001b[1;33m\u001b[0m\u001b[0m\n\u001b[0;32m   1567\u001b[0m         \u001b[0mbound\u001b[0m \u001b[1;33m=\u001b[0m \u001b[0mnew_sig\u001b[0m\u001b[1;33m.\u001b[0m\u001b[0mbind\u001b[0m\u001b[1;33m(\u001b[0m\u001b[0max\u001b[0m\u001b[1;33m,\u001b[0m \u001b[1;33m*\u001b[0m\u001b[0margs\u001b[0m\u001b[1;33m,\u001b[0m \u001b[1;33m**\u001b[0m\u001b[0mkwargs\u001b[0m\u001b[1;33m)\u001b[0m\u001b[1;33m\u001b[0m\u001b[1;33m\u001b[0m\u001b[0m\n",
      "\u001b[1;32m~\\anaconda3\\lib\\site-packages\\matplotlib\\axes\\_axes.py\u001b[0m in \u001b[0;36mfill_between\u001b[1;34m(self, x, y1, y2, where, interpolate, step, **kwargs)\u001b[0m\n\u001b[0;32m   5148\u001b[0m \u001b[1;33m\u001b[0m\u001b[0m\n\u001b[0;32m   5149\u001b[0m         \u001b[1;31m# Convert the arrays so we can work with them\u001b[0m\u001b[1;33m\u001b[0m\u001b[1;33m\u001b[0m\u001b[1;33m\u001b[0m\u001b[0m\n\u001b[1;32m-> 5150\u001b[1;33m         \u001b[0mx\u001b[0m \u001b[1;33m=\u001b[0m \u001b[0mma\u001b[0m\u001b[1;33m.\u001b[0m\u001b[0mmasked_invalid\u001b[0m\u001b[1;33m(\u001b[0m\u001b[0mself\u001b[0m\u001b[1;33m.\u001b[0m\u001b[0mconvert_xunits\u001b[0m\u001b[1;33m(\u001b[0m\u001b[0mx\u001b[0m\u001b[1;33m)\u001b[0m\u001b[1;33m)\u001b[0m\u001b[1;33m\u001b[0m\u001b[1;33m\u001b[0m\u001b[0m\n\u001b[0m\u001b[0;32m   5151\u001b[0m         \u001b[0my1\u001b[0m \u001b[1;33m=\u001b[0m \u001b[0mma\u001b[0m\u001b[1;33m.\u001b[0m\u001b[0mmasked_invalid\u001b[0m\u001b[1;33m(\u001b[0m\u001b[0mself\u001b[0m\u001b[1;33m.\u001b[0m\u001b[0mconvert_yunits\u001b[0m\u001b[1;33m(\u001b[0m\u001b[0my1\u001b[0m\u001b[1;33m)\u001b[0m\u001b[1;33m)\u001b[0m\u001b[1;33m\u001b[0m\u001b[1;33m\u001b[0m\u001b[0m\n\u001b[0;32m   5152\u001b[0m         \u001b[0my2\u001b[0m \u001b[1;33m=\u001b[0m \u001b[0mma\u001b[0m\u001b[1;33m.\u001b[0m\u001b[0mmasked_invalid\u001b[0m\u001b[1;33m(\u001b[0m\u001b[0mself\u001b[0m\u001b[1;33m.\u001b[0m\u001b[0mconvert_yunits\u001b[0m\u001b[1;33m(\u001b[0m\u001b[0my2\u001b[0m\u001b[1;33m)\u001b[0m\u001b[1;33m)\u001b[0m\u001b[1;33m\u001b[0m\u001b[1;33m\u001b[0m\u001b[0m\n",
      "\u001b[1;32m~\\anaconda3\\lib\\site-packages\\numpy\\ma\\core.py\u001b[0m in \u001b[0;36mmasked_invalid\u001b[1;34m(a, copy)\u001b[0m\n\u001b[0;32m   2375\u001b[0m         \u001b[0mcls\u001b[0m \u001b[1;33m=\u001b[0m \u001b[0mtype\u001b[0m\u001b[1;33m(\u001b[0m\u001b[0ma\u001b[0m\u001b[1;33m)\u001b[0m\u001b[1;33m\u001b[0m\u001b[1;33m\u001b[0m\u001b[0m\n\u001b[0;32m   2376\u001b[0m     \u001b[1;32melse\u001b[0m\u001b[1;33m:\u001b[0m\u001b[1;33m\u001b[0m\u001b[1;33m\u001b[0m\u001b[0m\n\u001b[1;32m-> 2377\u001b[1;33m         \u001b[0mcondition\u001b[0m \u001b[1;33m=\u001b[0m \u001b[1;33m~\u001b[0m\u001b[1;33m(\u001b[0m\u001b[0mnp\u001b[0m\u001b[1;33m.\u001b[0m\u001b[0misfinite\u001b[0m\u001b[1;33m(\u001b[0m\u001b[0ma\u001b[0m\u001b[1;33m)\u001b[0m\u001b[1;33m)\u001b[0m\u001b[1;33m\u001b[0m\u001b[1;33m\u001b[0m\u001b[0m\n\u001b[0m\u001b[0;32m   2378\u001b[0m         \u001b[0mcls\u001b[0m \u001b[1;33m=\u001b[0m \u001b[0mMaskedArray\u001b[0m\u001b[1;33m\u001b[0m\u001b[1;33m\u001b[0m\u001b[0m\n\u001b[0;32m   2379\u001b[0m     \u001b[0mresult\u001b[0m \u001b[1;33m=\u001b[0m \u001b[0ma\u001b[0m\u001b[1;33m.\u001b[0m\u001b[0mview\u001b[0m\u001b[1;33m(\u001b[0m\u001b[0mcls\u001b[0m\u001b[1;33m)\u001b[0m\u001b[1;33m\u001b[0m\u001b[1;33m\u001b[0m\u001b[0m\n",
      "\u001b[1;31mTypeError\u001b[0m: ufunc 'isfinite' not supported for the input types, and the inputs could not be safely coerced to any supported types according to the casting rule ''safe''"
     ]
    },
    {
     "data": {
      "image/png": "[encoded data removed]",
      "text/plain": [
       "<Figure size 1080x1080 with 1 Axes>"
      ]
     },
     "metadata": {
      "needs_background": "light"
     },
     "output_type": "display_data"
    }
   ],
   "source": [
    "from sklearn.model_selection import validation_curve\n",
    "\n",
    "\n",
    "param_range = [1,3,5,7,9, None]\n",
    "train_scores, test_scores = validation_curve(\n",
    "                estimator=tree.DecisionTreeRegressor(), \n",
    "                X=X_train_pca, \n",
    "                y=y_train, \n",
    "                param_name='max_depth', \n",
    "                param_range=param_range,\n",
    "                cv=3)\n",
    "\n",
    "train_mean = np.mean(train_scores, axis=1)\n",
    "train_std = np.std(train_scores, axis=1)\n",
    "test_mean = np.mean(test_scores, axis=1)\n",
    "test_std = np.std(test_scores, axis=1)\n",
    "\n",
    "plt.plot(param_range, train_mean, \n",
    "         color='blue', marker='o', \n",
    "         markersize=5, label='Training accuracy')\n",
    "\n",
    "plt.fill_between(param_range, train_mean + train_std,\n",
    "                 train_mean - train_std, alpha=0.15,\n",
    "                 color='blue')\n",
    "\n",
    "plt.plot(param_range, test_mean, \n",
    "         color='green', linestyle='--', \n",
    "         marker='s', markersize=5, \n",
    "         label='Validation accuracy')\n",
    "\n",
    "plt.fill_between(param_range, \n",
    "                 test_mean + test_std,\n",
    "                 test_mean - test_std, \n",
    "                 alpha=0.15, color='green')\n",
    "\n",
    "plt.grid()\n",
    "plt.xscale('log')\n",
    "plt.legend(loc='lower right')\n",
    "plt.xlabel('Parameter C')\n",
    "plt.ylabel('Accuracy')\n",
    "plt.ylim([0.8, 1.0])\n",
    "plt.tight_layout()\n",
    "# plt.savefig('images/06_06.png', dpi=300)\n",
    "plt.show()"
   ]
  },
  {
   "cell_type": "code",
   "execution_count": null,
   "metadata": {},
   "outputs": [],
   "source": []
  },
  {
   "cell_type": "markdown",
   "metadata": {},
   "source": [
    "## Linear Regression"
   ]
  },
  {
   "cell_type": "code",
   "execution_count": 42,
   "metadata": {
    "ExecuteTime": {
     "end_time": "2021-05-10T23:15:05.321016Z",
     "start_time": "2021-05-10T23:15:05.260423Z"
    }
   },
   "outputs": [
    {
     "data": {
      "text/plain": [
       "array([[ 2.01139248e+01,  3.33909961e+00, -1.24632424e+01,\n",
       "         2.92924271e-01, -4.78158123e+00,  1.28572231e+01,\n",
       "        -5.37623204e-01,  4.63062060e+00, -2.34387322e+01,\n",
       "        -6.38668717e+00,  1.11445240e+00, -9.80527906e+00,\n",
       "         1.93814162e+00, -5.89439692e+00,  3.45141980e+00,\n",
       "        -4.19551000e+00,  4.67771693e+00,  2.26721231e+00,\n",
       "        -2.52076644e+00,  3.12808726e-01, -3.33907395e+00,\n",
       "         3.45865149e-01, -2.20375317e-01, -1.06058981e+01,\n",
       "        -1.05208256e+01,  7.39183271e+00, -1.46368928e+00,\n",
       "        -1.93780801e+00, -2.03429896e+00,  5.88554372e+00,\n",
       "         4.62818933e+00, -6.53923613e+00, -5.64377145e+00,\n",
       "         6.17206393e+00,  8.76943599e+00,  1.76356336e+00,\n",
       "         5.56305871e+00, -1.55913194e+00,  2.25449809e+00,\n",
       "        -4.71081324e-01,  4.45548607e+00, -7.80405356e+00,\n",
       "        -6.10614015e+00, -3.82468595e+00, -8.02043049e-01,\n",
       "        -8.38901054e-01, -3.49886943e+00,  3.04608200e+00,\n",
       "         6.28226186e+00, -2.32166991e-02]])"
      ]
     },
     "execution_count": 42,
     "metadata": {},
     "output_type": "execute_result"
    }
   ],
   "source": [
    "from sklearn import linear_model\n",
    "reg = linear_model.LinearRegression()\n",
    "reg.fit(X_train_pca, y_train)\n",
    "reg.coef_"
   ]
  },
  {
   "cell_type": "markdown",
   "metadata": {},
   "source": [
    "why linear regression is so slow. after 1 and harf hour, not completed"
   ]
  },
  {
   "cell_type": "code",
   "execution_count": 43,
   "metadata": {
    "ExecuteTime": {
     "end_time": "2021-05-10T23:15:05.587377Z",
     "start_time": "2021-05-10T23:15:05.574337Z"
    }
   },
   "outputs": [],
   "source": [
    "from sklearn.metrics import mean_squared_error, explained_variance_score,r2_score "
   ]
  },
  {
   "cell_type": "code",
   "execution_count": 44,
   "metadata": {
    "ExecuteTime": {
     "end_time": "2021-05-10T23:15:05.664097Z",
     "start_time": "2021-05-10T23:15:05.589298Z"
    }
   },
   "outputs": [
    {
     "name": "stdout",
     "output_type": "stream",
     "text": [
      "train: {'MSE': 28508.33052943577, 'EVS': 0.2922108817931993, 'R2': 0.2922108817931993}\n",
      "test: {'MSE': 25841.256944870216, 'EVS': 0.3144575277431273, 'R2': 0.3143914503977224}\n"
     ]
    }
   ],
   "source": [
    "from sklearn import linear_model\n",
    "reg = linear_model.LinearRegression()\n",
    "reg.fit(X_train_pca, y_train)\n",
    "y_train_pred = reg.predict(X_train_pca)\n",
    "y_pred = reg.predict(X_test_pca)\n",
    "\n",
    "print(\"train:\",\n",
    "{\n",
    "    \"MSE\": mean_squared_error(y_train, y_train_pred), \n",
    "    \"EVS\": explained_variance_score(y_train, y_train_pred), \n",
    "    \"R2\": r2_score(y_train, y_train_pred)\n",
    "})\n",
    "\n",
    "print(\"test:\",\n",
    "{\n",
    "    \"MSE\": mean_squared_error(y_test, y_pred), \n",
    "    \"EVS\": explained_variance_score(y_test, y_pred), \n",
    "    \"R2\": r2_score(y_test, y_pred)\n",
    "})\n"
   ]
  },
  {
   "cell_type": "code",
   "execution_count": null,
   "metadata": {},
   "outputs": [],
   "source": []
  },
  {
   "cell_type": "code",
   "execution_count": 45,
   "metadata": {
    "ExecuteTime": {
     "end_time": "2021-05-10T23:15:05.725932Z",
     "start_time": "2021-05-10T23:15:05.666092Z"
    }
   },
   "outputs": [
    {
     "name": "stdout",
     "output_type": "stream",
     "text": [
      "train: {'MSE': 28508.3305295391, 'EVS': 0.2922108817906339, 'R2': 0.2922108817906338}\n",
      "test: {'MSE': 25841.25771250408, 'EVS': 0.31445750733101396, 'R2': 0.31439143003120773}\n"
     ]
    }
   ],
   "source": [
    "from sklearn import linear_model\n",
    "reg = linear_model.Ridge(alpha=.5) # tuning alpha does not help\n",
    "reg.fit(X_train_pca, y_train)\n",
    "y_train_pred = reg.predict(X_train_pca)\n",
    "y_pred = reg.predict(X_test_pca)\n",
    "\n",
    "print(\"train:\",\n",
    "{\n",
    "    \"MSE\": mean_squared_error(y_train, y_train_pred), \n",
    "    \"EVS\": explained_variance_score(y_train, y_train_pred), \n",
    "    \"R2\": r2_score(y_train, y_train_pred)\n",
    "})\n",
    "\n",
    "print(\"test:\",\n",
    "{\n",
    "    \"MSE\": mean_squared_error(y_test, y_pred), \n",
    "    \"EVS\": explained_variance_score(y_test, y_pred), \n",
    "    \"R2\": r2_score(y_test, y_pred)\n",
    "})\n"
   ]
  },
  {
   "cell_type": "code",
   "execution_count": null,
   "metadata": {},
   "outputs": [],
   "source": []
  },
  {
   "cell_type": "code",
   "execution_count": 46,
   "metadata": {
    "ExecuteTime": {
     "end_time": "2021-05-10T23:15:05.804721Z",
     "start_time": "2021-05-10T23:15:05.728924Z"
    }
   },
   "outputs": [
    {
     "name": "stdout",
     "output_type": "stream",
     "text": [
      "train: {'MSE': 28516.26978674493, 'EVS': 0.2920137702883967, 'R2': 0.2920137702883967}\n",
      "test: {'MSE': 25860.14695920318, 'EVS': 0.313954114991316, 'R2': 0.31389026907529616}\n"
     ]
    }
   ],
   "source": [
    "from sklearn import linear_model\n",
    "reg = linear_model.Lasso(alpha=0.8) # tuning alpha does not help\n",
    "reg.fit(X_train_pca, y_train)\n",
    "y_train_pred = reg.predict(X_train_pca)\n",
    "y_pred = reg.predict(X_test_pca)\n",
    "\n",
    "print(\"train:\",\n",
    "{\n",
    "    \"MSE\": mean_squared_error(y_train, y_train_pred), \n",
    "    \"EVS\": explained_variance_score(y_train, y_train_pred), \n",
    "    \"R2\": r2_score(y_train, y_train_pred)\n",
    "})\n",
    "\n",
    "print(\"test:\",\n",
    "{\n",
    "    \"MSE\": mean_squared_error(y_test, y_pred), \n",
    "    \"EVS\": explained_variance_score(y_test, y_pred), \n",
    "    \"R2\": r2_score(y_test, y_pred)\n",
    "})"
   ]
  },
  {
   "cell_type": "code",
   "execution_count": null,
   "metadata": {},
   "outputs": [],
   "source": []
  },
  {
   "cell_type": "code",
   "execution_count": null,
   "metadata": {},
   "outputs": [],
   "source": []
  },
  {
   "cell_type": "code",
   "execution_count": null,
   "metadata": {},
   "outputs": [],
   "source": []
  },
  {
   "cell_type": "markdown",
   "metadata": {},
   "source": [
    "## Ensemble learning"
   ]
  },
  {
   "cell_type": "markdown",
   "metadata": {},
   "source": [
    "### Random Forest (Bagging) for classification, also for regression"
   ]
  },
  {
   "cell_type": "code",
   "execution_count": null,
   "metadata": {
    "ExecuteTime": {
     "start_time": "2021-05-11T03:33:57.028Z"
    }
   },
   "outputs": [],
   "source": [
    "from sklearn.ensemble import RandomForestRegressor\n",
    "def evaluate_rf_regressor(X_train, X_test, y_train, y_test,n_iter,max_depth,random_state):\n",
    "    MSE_test=[]\n",
    "    EVS_test=[]\n",
    "    R2_test=[]\n",
    "    MSE_train=[]\n",
    "    EVS_train=[]\n",
    "    R2_train=[]\n",
    "    for i in range(n_iter):\n",
    "        rg = RandomForestRegressor(max_depth=max_depth, random_state=random_state)\n",
    "        rg.fit(X_train, y_train)\n",
    "        y_train_pred = rg.predict(X_train)\n",
    "        y_pred = rg.predict(X_test)\n",
    "        MSE_train.append(mean_squared_error(y_train, y_train_pred))\n",
    "        EVS_train.append(explained_variance_score(y_train, y_train_pred))\n",
    "        R2_train.append(r2_score(y_train, y_train_pred))\n",
    "        \n",
    "        MSE_test.append(mean_squared_error(y_test, y_pred))\n",
    "        EVS_test.append(explained_variance_score(y_test, y_pred))\n",
    "        R2_test.append(r2_score(y_test, y_pred))\n",
    "    print(\"Train score:\",\"MSE: {}\".format(sum(MSE_train)/n_iter),\"EVS: {}\".format(sum(EVS_train)/n_iter),\"R2: {}\".format(sum(R2_train)/n_iter),)\n",
    "    print(\"Test score:\",\"MSE: {}\".format(sum(MSE_test)/n_iter),\"EVS: {}\".format(sum(EVS_test)/n_iter),\"R2: {}\".format(sum(R2_test)/n_iter),)"
   ]
  },
  {
   "cell_type": "markdown",
   "metadata": {},
   "source": [
    "rf_regressor turns out very very slow"
   ]
  },
  {
   "cell_type": "code",
   "execution_count": 48,
   "metadata": {
    "ExecuteTime": {
     "end_time": "2021-05-10T23:18:22.715535Z",
     "start_time": "2021-05-10T23:15:05.867553Z"
    }
   },
   "outputs": [
    {
     "name": "stderr",
     "output_type": "stream",
     "text": [
      "<ipython-input-47-ffee7f25d399>:11: DataConversionWarning: A column-vector y was passed when a 1d array was expected. Please change the shape of y to (n_samples,), for example using ravel().\n",
      "  rg.fit(X_train, y_train)\n"
     ]
    },
    {
     "name": "stdout",
     "output_type": "stream",
     "text": [
      "Train score: MSE: 977.6322390524449 EVS: 0.9762643748608849 R2: 0.9757278855843557\n",
      "Test score: MSE: 10828.01092624251 EVS: 0.7128459008502149 R2: 0.7127161081190192\n"
     ]
    }
   ],
   "source": [
    "evaluate_rf_regressor(X_train_pca, X_test_pca, y_train, y_test,1,max_depth=None,random_state=42)"
   ]
  },
  {
   "cell_type": "code",
   "execution_count": 138,
   "metadata": {
    "ExecuteTime": {
     "end_time": "2021-05-11T15:13:59.067946Z",
     "start_time": "2021-05-11T15:12:15.555174Z"
    }
   },
   "outputs": [
    {
     "name": "stderr",
     "output_type": "stream",
     "text": [
      "<ipython-input-47-ffee7f25d399>:11: DataConversionWarning: A column-vector y was passed when a 1d array was expected. Please change the shape of y to (n_samples,), for example using ravel().\n",
      "  rg.fit(X_train, y_train)\n"
     ]
    },
    {
     "name": "stdout",
     "output_type": "stream",
     "text": [
      "Train score: MSE: 8179.695234473132 EVS: 0.7969521068442579 R2: 0.7969190349034903\n",
      "Test score: MSE: 14594.527861163047 EVS: 0.6128282665572381 R2: 0.6127845831814942\n"
     ]
    }
   ],
   "source": [
    "evaluate_rf_regressor(X_train_pca, X_test_pca, y_train, y_test,1,max_depth=10,random_state=42)"
   ]
  },
  {
   "cell_type": "code",
   "execution_count": 139,
   "metadata": {
    "ExecuteTime": {
     "end_time": "2021-05-11T15:14:56.119870Z",
     "start_time": "2021-05-11T15:13:59.476827Z"
    }
   },
   "outputs": [
    {
     "name": "stderr",
     "output_type": "stream",
     "text": [
      "<ipython-input-47-ffee7f25d399>:11: DataConversionWarning: A column-vector y was passed when a 1d array was expected. Please change the shape of y to (n_samples,), for example using ravel().\n",
      "  rg.fit(X_train, y_train)\n"
     ]
    },
    {
     "name": "stdout",
     "output_type": "stream",
     "text": [
      "Train score: MSE: 21057.029939771488 EVS: 0.4772077882729734 R2: 0.47720766609829124\n",
      "Test score: MSE: 20577.931784453962 EVS: 0.45403565555985825 R2: 0.4540356146509056\n"
     ]
    }
   ],
   "source": [
    "evaluate_rf_regressor(X_train_pca, X_test_pca, y_train, y_test,1,max_depth=5,random_state=42)"
   ]
  },
  {
   "cell_type": "code",
   "execution_count": 137,
   "metadata": {
    "ExecuteTime": {
     "end_time": "2021-05-11T15:12:15.049798Z",
     "start_time": "2021-05-11T15:09:28.434863Z"
    }
   },
   "outputs": [
    {
     "name": "stderr",
     "output_type": "stream",
     "text": [
      "<ipython-input-47-ffee7f25d399>:11: DataConversionWarning: A column-vector y was passed when a 1d array was expected. Please change the shape of y to (n_samples,), for example using ravel().\n",
      "  rg.fit(X_train, y_train)\n"
     ]
    },
    {
     "name": "stdout",
     "output_type": "stream",
     "text": [
      "Train score: MSE: 1454.5643937422979 EVS: 0.9642602693242058 R2: 0.9638868769057223\n",
      "Test score: MSE: 10929.77471086252 EVS: 0.7100288984049611 R2: 0.7100161573803916\n"
     ]
    }
   ],
   "source": [
    "evaluate_rf_regressor(X_train_pca, X_test_pca, y_train, y_test,1,max_depth=20,random_state=42)"
   ]
  },
  {
   "cell_type": "code",
   "execution_count": null,
   "metadata": {},
   "outputs": [],
   "source": []
  },
  {
   "cell_type": "markdown",
   "metadata": {},
   "source": [
    "#### Check Feature Importance"
   ]
  },
  {
   "cell_type": "code",
   "execution_count": 49,
   "metadata": {
    "ExecuteTime": {
     "end_time": "2021-05-10T23:18:53.271110Z",
     "start_time": "2021-05-10T23:18:22.717528Z"
    }
   },
   "outputs": [
    {
     "name": "stderr",
     "output_type": "stream",
     "text": [
      "<ipython-input-49-558030b727bd>:2: DataConversionWarning: A column-vector y was passed when a 1d array was expected. Please change the shape of y to (n_samples,), for example using ravel().\n",
      "  rg.fit(X_train_pca, y_train)\n"
     ]
    },
    {
     "ename": "KeyboardInterrupt",
     "evalue": "",
     "output_type": "error",
     "traceback": [
      "\u001b[1;31m---------------------------------------------------------------------------\u001b[0m",
      "\u001b[1;31mKeyboardInterrupt\u001b[0m                         Traceback (most recent call last)",
      "\u001b[1;32m<ipython-input-49-558030b727bd>\u001b[0m in \u001b[0;36m<module>\u001b[1;34m\u001b[0m\n\u001b[0;32m      1\u001b[0m \u001b[0mrg\u001b[0m \u001b[1;33m=\u001b[0m \u001b[0mRandomForestRegressor\u001b[0m\u001b[1;33m(\u001b[0m\u001b[0mmax_depth\u001b[0m\u001b[1;33m=\u001b[0m\u001b[1;32mNone\u001b[0m\u001b[1;33m,\u001b[0m \u001b[0mrandom_state\u001b[0m\u001b[1;33m=\u001b[0m\u001b[1;36m42\u001b[0m\u001b[1;33m)\u001b[0m\u001b[1;33m\u001b[0m\u001b[1;33m\u001b[0m\u001b[0m\n\u001b[1;32m----> 2\u001b[1;33m \u001b[0mrg\u001b[0m\u001b[1;33m.\u001b[0m\u001b[0mfit\u001b[0m\u001b[1;33m(\u001b[0m\u001b[0mX_train_pca\u001b[0m\u001b[1;33m,\u001b[0m \u001b[0my_train\u001b[0m\u001b[1;33m)\u001b[0m\u001b[1;33m\u001b[0m\u001b[1;33m\u001b[0m\u001b[0m\n\u001b[0m\u001b[0;32m      3\u001b[0m \u001b[0my_train_pred\u001b[0m \u001b[1;33m=\u001b[0m \u001b[0mrg\u001b[0m\u001b[1;33m.\u001b[0m\u001b[0mpredict\u001b[0m\u001b[1;33m(\u001b[0m\u001b[0mX_train_pca\u001b[0m\u001b[1;33m)\u001b[0m\u001b[1;33m\u001b[0m\u001b[1;33m\u001b[0m\u001b[0m\n\u001b[0;32m      4\u001b[0m \u001b[0my_pred\u001b[0m \u001b[1;33m=\u001b[0m \u001b[0mrg\u001b[0m\u001b[1;33m.\u001b[0m\u001b[0mpredict\u001b[0m\u001b[1;33m(\u001b[0m\u001b[0mX_test_pca\u001b[0m\u001b[1;33m)\u001b[0m\u001b[1;33m\u001b[0m\u001b[1;33m\u001b[0m\u001b[0m\n\u001b[0;32m      5\u001b[0m \u001b[0mMSE_train\u001b[0m\u001b[1;33m.\u001b[0m\u001b[0mappend\u001b[0m\u001b[1;33m(\u001b[0m\u001b[0mmean_squared_error\u001b[0m\u001b[1;33m(\u001b[0m\u001b[0my_train\u001b[0m\u001b[1;33m,\u001b[0m \u001b[0my_train_pred\u001b[0m\u001b[1;33m)\u001b[0m\u001b[1;33m)\u001b[0m\u001b[1;33m\u001b[0m\u001b[1;33m\u001b[0m\u001b[0m\n",
      "\u001b[1;32m~\\anaconda3\\lib\\site-packages\\sklearn\\ensemble\\_forest.py\u001b[0m in \u001b[0;36mfit\u001b[1;34m(self, X, y, sample_weight)\u001b[0m\n\u001b[0;32m    384\u001b[0m             \u001b[1;31m# parallel_backend contexts set at a higher level,\u001b[0m\u001b[1;33m\u001b[0m\u001b[1;33m\u001b[0m\u001b[1;33m\u001b[0m\u001b[0m\n\u001b[0;32m    385\u001b[0m             \u001b[1;31m# since correctness does not rely on using threads.\u001b[0m\u001b[1;33m\u001b[0m\u001b[1;33m\u001b[0m\u001b[1;33m\u001b[0m\u001b[0m\n\u001b[1;32m--> 386\u001b[1;33m             trees = Parallel(n_jobs=self.n_jobs, verbose=self.verbose,\n\u001b[0m\u001b[0;32m    387\u001b[0m                              \u001b[1;33m**\u001b[0m\u001b[0m_joblib_parallel_args\u001b[0m\u001b[1;33m(\u001b[0m\u001b[0mprefer\u001b[0m\u001b[1;33m=\u001b[0m\u001b[1;34m'threads'\u001b[0m\u001b[1;33m)\u001b[0m\u001b[1;33m)\u001b[0m\u001b[1;33m(\u001b[0m\u001b[1;33m\u001b[0m\u001b[1;33m\u001b[0m\u001b[0m\n\u001b[0;32m    388\u001b[0m                 delayed(_parallel_build_trees)(\n",
      "\u001b[1;32m~\\anaconda3\\lib\\site-packages\\joblib\\parallel.py\u001b[0m in \u001b[0;36m__call__\u001b[1;34m(self, iterable)\u001b[0m\n\u001b[0;32m   1030\u001b[0m                 \u001b[0mself\u001b[0m\u001b[1;33m.\u001b[0m\u001b[0m_iterating\u001b[0m \u001b[1;33m=\u001b[0m \u001b[0mself\u001b[0m\u001b[1;33m.\u001b[0m\u001b[0m_original_iterator\u001b[0m \u001b[1;32mis\u001b[0m \u001b[1;32mnot\u001b[0m \u001b[1;32mNone\u001b[0m\u001b[1;33m\u001b[0m\u001b[1;33m\u001b[0m\u001b[0m\n\u001b[0;32m   1031\u001b[0m \u001b[1;33m\u001b[0m\u001b[0m\n\u001b[1;32m-> 1032\u001b[1;33m             \u001b[1;32mwhile\u001b[0m \u001b[0mself\u001b[0m\u001b[1;33m.\u001b[0m\u001b[0mdispatch_one_batch\u001b[0m\u001b[1;33m(\u001b[0m\u001b[0miterator\u001b[0m\u001b[1;33m)\u001b[0m\u001b[1;33m:\u001b[0m\u001b[1;33m\u001b[0m\u001b[1;33m\u001b[0m\u001b[0m\n\u001b[0m\u001b[0;32m   1033\u001b[0m                 \u001b[1;32mpass\u001b[0m\u001b[1;33m\u001b[0m\u001b[1;33m\u001b[0m\u001b[0m\n\u001b[0;32m   1034\u001b[0m \u001b[1;33m\u001b[0m\u001b[0m\n",
      "\u001b[1;32m~\\anaconda3\\lib\\site-packages\\joblib\\parallel.py\u001b[0m in \u001b[0;36mdispatch_one_batch\u001b[1;34m(self, iterator)\u001b[0m\n\u001b[0;32m    845\u001b[0m                 \u001b[1;32mreturn\u001b[0m \u001b[1;32mFalse\u001b[0m\u001b[1;33m\u001b[0m\u001b[1;33m\u001b[0m\u001b[0m\n\u001b[0;32m    846\u001b[0m             \u001b[1;32melse\u001b[0m\u001b[1;33m:\u001b[0m\u001b[1;33m\u001b[0m\u001b[1;33m\u001b[0m\u001b[0m\n\u001b[1;32m--> 847\u001b[1;33m                 \u001b[0mself\u001b[0m\u001b[1;33m.\u001b[0m\u001b[0m_dispatch\u001b[0m\u001b[1;33m(\u001b[0m\u001b[0mtasks\u001b[0m\u001b[1;33m)\u001b[0m\u001b[1;33m\u001b[0m\u001b[1;33m\u001b[0m\u001b[0m\n\u001b[0m\u001b[0;32m    848\u001b[0m                 \u001b[1;32mreturn\u001b[0m \u001b[1;32mTrue\u001b[0m\u001b[1;33m\u001b[0m\u001b[1;33m\u001b[0m\u001b[0m\n\u001b[0;32m    849\u001b[0m \u001b[1;33m\u001b[0m\u001b[0m\n",
      "\u001b[1;32m~\\anaconda3\\lib\\site-packages\\joblib\\parallel.py\u001b[0m in \u001b[0;36m_dispatch\u001b[1;34m(self, batch)\u001b[0m\n\u001b[0;32m    763\u001b[0m         \u001b[1;32mwith\u001b[0m \u001b[0mself\u001b[0m\u001b[1;33m.\u001b[0m\u001b[0m_lock\u001b[0m\u001b[1;33m:\u001b[0m\u001b[1;33m\u001b[0m\u001b[1;33m\u001b[0m\u001b[0m\n\u001b[0;32m    764\u001b[0m             \u001b[0mjob_idx\u001b[0m \u001b[1;33m=\u001b[0m \u001b[0mlen\u001b[0m\u001b[1;33m(\u001b[0m\u001b[0mself\u001b[0m\u001b[1;33m.\u001b[0m\u001b[0m_jobs\u001b[0m\u001b[1;33m)\u001b[0m\u001b[1;33m\u001b[0m\u001b[1;33m\u001b[0m\u001b[0m\n\u001b[1;32m--> 765\u001b[1;33m             \u001b[0mjob\u001b[0m \u001b[1;33m=\u001b[0m \u001b[0mself\u001b[0m\u001b[1;33m.\u001b[0m\u001b[0m_backend\u001b[0m\u001b[1;33m.\u001b[0m\u001b[0mapply_async\u001b[0m\u001b[1;33m(\u001b[0m\u001b[0mbatch\u001b[0m\u001b[1;33m,\u001b[0m \u001b[0mcallback\u001b[0m\u001b[1;33m=\u001b[0m\u001b[0mcb\u001b[0m\u001b[1;33m)\u001b[0m\u001b[1;33m\u001b[0m\u001b[1;33m\u001b[0m\u001b[0m\n\u001b[0m\u001b[0;32m    766\u001b[0m             \u001b[1;31m# A job can complete so quickly than its callback is\u001b[0m\u001b[1;33m\u001b[0m\u001b[1;33m\u001b[0m\u001b[1;33m\u001b[0m\u001b[0m\n\u001b[0;32m    767\u001b[0m             \u001b[1;31m# called before we get here, causing self._jobs to\u001b[0m\u001b[1;33m\u001b[0m\u001b[1;33m\u001b[0m\u001b[1;33m\u001b[0m\u001b[0m\n",
      "\u001b[1;32m~\\anaconda3\\lib\\site-packages\\joblib\\_parallel_backends.py\u001b[0m in \u001b[0;36mapply_async\u001b[1;34m(self, func, callback)\u001b[0m\n\u001b[0;32m    206\u001b[0m     \u001b[1;32mdef\u001b[0m \u001b[0mapply_async\u001b[0m\u001b[1;33m(\u001b[0m\u001b[0mself\u001b[0m\u001b[1;33m,\u001b[0m \u001b[0mfunc\u001b[0m\u001b[1;33m,\u001b[0m \u001b[0mcallback\u001b[0m\u001b[1;33m=\u001b[0m\u001b[1;32mNone\u001b[0m\u001b[1;33m)\u001b[0m\u001b[1;33m:\u001b[0m\u001b[1;33m\u001b[0m\u001b[1;33m\u001b[0m\u001b[0m\n\u001b[0;32m    207\u001b[0m         \u001b[1;34m\"\"\"Schedule a func to be run\"\"\"\u001b[0m\u001b[1;33m\u001b[0m\u001b[1;33m\u001b[0m\u001b[0m\n\u001b[1;32m--> 208\u001b[1;33m         \u001b[0mresult\u001b[0m \u001b[1;33m=\u001b[0m \u001b[0mImmediateResult\u001b[0m\u001b[1;33m(\u001b[0m\u001b[0mfunc\u001b[0m\u001b[1;33m)\u001b[0m\u001b[1;33m\u001b[0m\u001b[1;33m\u001b[0m\u001b[0m\n\u001b[0m\u001b[0;32m    209\u001b[0m         \u001b[1;32mif\u001b[0m \u001b[0mcallback\u001b[0m\u001b[1;33m:\u001b[0m\u001b[1;33m\u001b[0m\u001b[1;33m\u001b[0m\u001b[0m\n\u001b[0;32m    210\u001b[0m             \u001b[0mcallback\u001b[0m\u001b[1;33m(\u001b[0m\u001b[0mresult\u001b[0m\u001b[1;33m)\u001b[0m\u001b[1;33m\u001b[0m\u001b[1;33m\u001b[0m\u001b[0m\n",
      "\u001b[1;32m~\\anaconda3\\lib\\site-packages\\joblib\\_parallel_backends.py\u001b[0m in \u001b[0;36m__init__\u001b[1;34m(self, batch)\u001b[0m\n\u001b[0;32m    570\u001b[0m         \u001b[1;31m# Don't delay the application, to avoid keeping the input\u001b[0m\u001b[1;33m\u001b[0m\u001b[1;33m\u001b[0m\u001b[1;33m\u001b[0m\u001b[0m\n\u001b[0;32m    571\u001b[0m         \u001b[1;31m# arguments in memory\u001b[0m\u001b[1;33m\u001b[0m\u001b[1;33m\u001b[0m\u001b[1;33m\u001b[0m\u001b[0m\n\u001b[1;32m--> 572\u001b[1;33m         \u001b[0mself\u001b[0m\u001b[1;33m.\u001b[0m\u001b[0mresults\u001b[0m \u001b[1;33m=\u001b[0m \u001b[0mbatch\u001b[0m\u001b[1;33m(\u001b[0m\u001b[1;33m)\u001b[0m\u001b[1;33m\u001b[0m\u001b[1;33m\u001b[0m\u001b[0m\n\u001b[0m\u001b[0;32m    573\u001b[0m \u001b[1;33m\u001b[0m\u001b[0m\n\u001b[0;32m    574\u001b[0m     \u001b[1;32mdef\u001b[0m \u001b[0mget\u001b[0m\u001b[1;33m(\u001b[0m\u001b[0mself\u001b[0m\u001b[1;33m)\u001b[0m\u001b[1;33m:\u001b[0m\u001b[1;33m\u001b[0m\u001b[1;33m\u001b[0m\u001b[0m\n",
      "\u001b[1;32m~\\anaconda3\\lib\\site-packages\\joblib\\parallel.py\u001b[0m in \u001b[0;36m__call__\u001b[1;34m(self)\u001b[0m\n\u001b[0;32m    250\u001b[0m         \u001b[1;31m# change the default number of processes to -1\u001b[0m\u001b[1;33m\u001b[0m\u001b[1;33m\u001b[0m\u001b[1;33m\u001b[0m\u001b[0m\n\u001b[0;32m    251\u001b[0m         \u001b[1;32mwith\u001b[0m \u001b[0mparallel_backend\u001b[0m\u001b[1;33m(\u001b[0m\u001b[0mself\u001b[0m\u001b[1;33m.\u001b[0m\u001b[0m_backend\u001b[0m\u001b[1;33m,\u001b[0m \u001b[0mn_jobs\u001b[0m\u001b[1;33m=\u001b[0m\u001b[0mself\u001b[0m\u001b[1;33m.\u001b[0m\u001b[0m_n_jobs\u001b[0m\u001b[1;33m)\u001b[0m\u001b[1;33m:\u001b[0m\u001b[1;33m\u001b[0m\u001b[1;33m\u001b[0m\u001b[0m\n\u001b[1;32m--> 252\u001b[1;33m             return [func(*args, **kwargs)\n\u001b[0m\u001b[0;32m    253\u001b[0m                     for func, args, kwargs in self.items]\n\u001b[0;32m    254\u001b[0m \u001b[1;33m\u001b[0m\u001b[0m\n",
      "\u001b[1;32m~\\anaconda3\\lib\\site-packages\\joblib\\parallel.py\u001b[0m in \u001b[0;36m<listcomp>\u001b[1;34m(.0)\u001b[0m\n\u001b[0;32m    250\u001b[0m         \u001b[1;31m# change the default number of processes to -1\u001b[0m\u001b[1;33m\u001b[0m\u001b[1;33m\u001b[0m\u001b[1;33m\u001b[0m\u001b[0m\n\u001b[0;32m    251\u001b[0m         \u001b[1;32mwith\u001b[0m \u001b[0mparallel_backend\u001b[0m\u001b[1;33m(\u001b[0m\u001b[0mself\u001b[0m\u001b[1;33m.\u001b[0m\u001b[0m_backend\u001b[0m\u001b[1;33m,\u001b[0m \u001b[0mn_jobs\u001b[0m\u001b[1;33m=\u001b[0m\u001b[0mself\u001b[0m\u001b[1;33m.\u001b[0m\u001b[0m_n_jobs\u001b[0m\u001b[1;33m)\u001b[0m\u001b[1;33m:\u001b[0m\u001b[1;33m\u001b[0m\u001b[1;33m\u001b[0m\u001b[0m\n\u001b[1;32m--> 252\u001b[1;33m             return [func(*args, **kwargs)\n\u001b[0m\u001b[0;32m    253\u001b[0m                     for func, args, kwargs in self.items]\n\u001b[0;32m    254\u001b[0m \u001b[1;33m\u001b[0m\u001b[0m\n",
      "\u001b[1;32m~\\anaconda3\\lib\\site-packages\\sklearn\\ensemble\\_forest.py\u001b[0m in \u001b[0;36m_parallel_build_trees\u001b[1;34m(tree, forest, X, y, sample_weight, tree_idx, n_trees, verbose, class_weight, n_samples_bootstrap)\u001b[0m\n\u001b[0;32m    166\u001b[0m                                                         indices=indices)\n\u001b[0;32m    167\u001b[0m \u001b[1;33m\u001b[0m\u001b[0m\n\u001b[1;32m--> 168\u001b[1;33m         \u001b[0mtree\u001b[0m\u001b[1;33m.\u001b[0m\u001b[0mfit\u001b[0m\u001b[1;33m(\u001b[0m\u001b[0mX\u001b[0m\u001b[1;33m,\u001b[0m \u001b[0my\u001b[0m\u001b[1;33m,\u001b[0m \u001b[0msample_weight\u001b[0m\u001b[1;33m=\u001b[0m\u001b[0mcurr_sample_weight\u001b[0m\u001b[1;33m,\u001b[0m \u001b[0mcheck_input\u001b[0m\u001b[1;33m=\u001b[0m\u001b[1;32mFalse\u001b[0m\u001b[1;33m)\u001b[0m\u001b[1;33m\u001b[0m\u001b[1;33m\u001b[0m\u001b[0m\n\u001b[0m\u001b[0;32m    169\u001b[0m     \u001b[1;32melse\u001b[0m\u001b[1;33m:\u001b[0m\u001b[1;33m\u001b[0m\u001b[1;33m\u001b[0m\u001b[0m\n\u001b[0;32m    170\u001b[0m         \u001b[0mtree\u001b[0m\u001b[1;33m.\u001b[0m\u001b[0mfit\u001b[0m\u001b[1;33m(\u001b[0m\u001b[0mX\u001b[0m\u001b[1;33m,\u001b[0m \u001b[0my\u001b[0m\u001b[1;33m,\u001b[0m \u001b[0msample_weight\u001b[0m\u001b[1;33m=\u001b[0m\u001b[0msample_weight\u001b[0m\u001b[1;33m,\u001b[0m \u001b[0mcheck_input\u001b[0m\u001b[1;33m=\u001b[0m\u001b[1;32mFalse\u001b[0m\u001b[1;33m)\u001b[0m\u001b[1;33m\u001b[0m\u001b[1;33m\u001b[0m\u001b[0m\n",
      "\u001b[1;32m~\\anaconda3\\lib\\site-packages\\sklearn\\tree\\_classes.py\u001b[0m in \u001b[0;36mfit\u001b[1;34m(self, X, y, sample_weight, check_input, X_idx_sorted)\u001b[0m\n\u001b[0;32m   1240\u001b[0m         \"\"\"\n\u001b[0;32m   1241\u001b[0m \u001b[1;33m\u001b[0m\u001b[0m\n\u001b[1;32m-> 1242\u001b[1;33m         super().fit(\n\u001b[0m\u001b[0;32m   1243\u001b[0m             \u001b[0mX\u001b[0m\u001b[1;33m,\u001b[0m \u001b[0my\u001b[0m\u001b[1;33m,\u001b[0m\u001b[1;33m\u001b[0m\u001b[1;33m\u001b[0m\u001b[0m\n\u001b[0;32m   1244\u001b[0m             \u001b[0msample_weight\u001b[0m\u001b[1;33m=\u001b[0m\u001b[0msample_weight\u001b[0m\u001b[1;33m,\u001b[0m\u001b[1;33m\u001b[0m\u001b[1;33m\u001b[0m\u001b[0m\n",
      "\u001b[1;32m~\\anaconda3\\lib\\site-packages\\sklearn\\tree\\_classes.py\u001b[0m in \u001b[0;36mfit\u001b[1;34m(self, X, y, sample_weight, check_input, X_idx_sorted)\u001b[0m\n\u001b[0;32m    373\u001b[0m                                            min_impurity_split)\n\u001b[0;32m    374\u001b[0m \u001b[1;33m\u001b[0m\u001b[0m\n\u001b[1;32m--> 375\u001b[1;33m         \u001b[0mbuilder\u001b[0m\u001b[1;33m.\u001b[0m\u001b[0mbuild\u001b[0m\u001b[1;33m(\u001b[0m\u001b[0mself\u001b[0m\u001b[1;33m.\u001b[0m\u001b[0mtree_\u001b[0m\u001b[1;33m,\u001b[0m \u001b[0mX\u001b[0m\u001b[1;33m,\u001b[0m \u001b[0my\u001b[0m\u001b[1;33m,\u001b[0m \u001b[0msample_weight\u001b[0m\u001b[1;33m,\u001b[0m \u001b[0mX_idx_sorted\u001b[0m\u001b[1;33m)\u001b[0m\u001b[1;33m\u001b[0m\u001b[1;33m\u001b[0m\u001b[0m\n\u001b[0m\u001b[0;32m    376\u001b[0m \u001b[1;33m\u001b[0m\u001b[0m\n\u001b[0;32m    377\u001b[0m         \u001b[1;32mif\u001b[0m \u001b[0mself\u001b[0m\u001b[1;33m.\u001b[0m\u001b[0mn_outputs_\u001b[0m \u001b[1;33m==\u001b[0m \u001b[1;36m1\u001b[0m \u001b[1;32mand\u001b[0m \u001b[0mis_classifier\u001b[0m\u001b[1;33m(\u001b[0m\u001b[0mself\u001b[0m\u001b[1;33m)\u001b[0m\u001b[1;33m:\u001b[0m\u001b[1;33m\u001b[0m\u001b[1;33m\u001b[0m\u001b[0m\n",
      "\u001b[1;31mKeyboardInterrupt\u001b[0m: "
     ]
    }
   ],
   "source": [
    "rg = RandomForestRegressor(max_depth=None, random_state=42)\n",
    "rg.fit(X_train_pca, y_train)\n",
    "y_train_pred = rg.predict(X_train_pca)\n",
    "y_pred = rg.predict(X_test_pca)\n",
    "MSE_train.append(mean_squared_error(y_train, y_train_pred))\n",
    "EVS_train.append(explained_variance_score(y_train, y_train_pred))\n",
    "R2_train.append(r2_score(y_train, y_train_pred))\n",
    "\n",
    "MSE_test.append(mean_squared_error(y_test, y_pred))\n",
    "EVS_test.append(explained_variance_score(y_test, y_pred))\n",
    "R2_test.append(r2_score(y_test, y_pred))\n",
    "print(\"Train score:\",\"MSE: {}\".format(sum(MSE_train)/n_iter),\"EVS: {}\".format(sum(EVS_train)/n_iter),\"R2: {}\".format(sum(R2_train)/n_iter),)\n",
    "print(\"Test score:\",\"MSE: {}\".format(sum(MSE_test)/n_iter),\"EVS: {}\".format(sum(EVS_test)/n_iter),\"R2: {}\".format(sum(R2_test)/n_iter),)"
   ]
  },
  {
   "cell_type": "code",
   "execution_count": 57,
   "metadata": {
    "ExecuteTime": {
     "end_time": "2021-05-04T13:09:48.005739Z",
     "start_time": "2021-05-04T13:09:47.465304Z"
    }
   },
   "outputs": [
    {
     "data": {
      "text/plain": [
       "(500,)"
      ]
     },
     "execution_count": 57,
     "metadata": {},
     "output_type": "execute_result"
    }
   ],
   "source": [
    "importances = rg.feature_importances_\n",
    "importances.shape"
   ]
  },
  {
   "cell_type": "code",
   "execution_count": 58,
   "metadata": {
    "ExecuteTime": {
     "end_time": "2021-05-04T13:09:49.846589Z",
     "start_time": "2021-05-04T13:09:49.835306Z"
    }
   },
   "outputs": [
    {
     "data": {
      "text/plain": [
       "(50000, 3024)"
      ]
     },
     "execution_count": 58,
     "metadata": {},
     "output_type": "execute_result"
    }
   ],
   "source": [
    "X.shape"
   ]
  },
  {
   "cell_type": "code",
   "execution_count": 62,
   "metadata": {
    "ExecuteTime": {
     "end_time": "2021-05-04T13:14:07.663612Z",
     "start_time": "2021-05-04T13:14:07.573550Z"
    }
   },
   "outputs": [
    {
     "name": "stdout",
     "output_type": "stream",
     "text": [
      " 1) 7                              0.105877\n",
      " 2) 24                             0.063736\n",
      " 3) 33                             0.055135\n",
      " 4) 288                            0.033101\n",
      " 5) 1                              0.030501\n",
      " 6) 10                             0.025732\n",
      " 7) 316                            0.017765\n",
      " 8) 89                             0.014740\n",
      " 9) 48                             0.012854\n",
      "10) 469                            0.012297\n",
      "11) 11                             0.010544\n",
      "12) 262                            0.009389\n",
      "13) 2                              0.008283\n",
      "14) 0                              0.007948\n",
      "15) 14                             0.007850\n",
      "16) 491                            0.007349\n",
      "17) 57                             0.006804\n",
      "18) 6                              0.006769\n",
      "19) 34                             0.006605\n",
      "20) 46                             0.006498\n",
      "21) 261                            0.005871\n",
      "22) 476                            0.005158\n",
      "23) 483                            0.004931\n",
      "24) 192                            0.004860\n",
      "25) 252                            0.004593\n",
      "26) 8                              0.004519\n",
      "27) 285                            0.004433\n",
      "28) 273                            0.004364\n",
      "29) 216                            0.004305\n",
      "30) 467                            0.004116\n",
      "31) 116                            0.003915\n",
      "32) 27                             0.003776\n",
      "33) 323                            0.003739\n",
      "34) 175                            0.003534\n",
      "35) 242                            0.003235\n",
      "36) 299                            0.003226\n",
      "37) 399                            0.003218\n",
      "38) 32                             0.003109\n",
      "39) 470                            0.002954\n",
      "40) 25                             0.002944\n",
      "41) 70                             0.002937\n",
      "42) 167                            0.002923\n",
      "43) 455                            0.002843\n",
      "44) 5                              0.002751\n",
      "45) 235                            0.002579\n",
      "46) 477                            0.002554\n",
      "47) 3                              0.002538\n",
      "48) 20                             0.002510\n",
      "49) 39                             0.002465\n",
      "50) 208                            0.002452\n",
      "51) 493                            0.002441\n",
      "52) 269                            0.002374\n",
      "53) 80                             0.002358\n",
      "54) 170                            0.002353\n",
      "55) 321                            0.002326\n",
      "56) 120                            0.002315\n",
      "57) 174                            0.002315\n",
      "58) 484                            0.002294\n",
      "59) 318                            0.002258\n",
      "60) 472                            0.002208\n",
      "61) 26                             0.002193\n",
      "62) 125                            0.002192\n",
      "63) 495                            0.002172\n",
      "64) 274                            0.002160\n",
      "65) 103                            0.002083\n",
      "66) 38                             0.002052\n",
      "67) 222                            0.002014\n",
      "68) 437                            0.001982\n",
      "69) 129                            0.001977\n",
      "70) 15                             0.001932\n",
      "71) 489                            0.001922\n",
      "72) 180                            0.001899\n",
      "73) 390                            0.001878\n",
      "74) 259                            0.001860\n",
      "75) 209                            0.001827\n",
      "76) 91                             0.001807\n",
      "77) 99                             0.001794\n",
      "78) 84                             0.001762\n",
      "79) 479                            0.001747\n",
      "80) 492                            0.001742\n",
      "81) 376                            0.001733\n",
      "82) 12                             0.001718\n",
      "83) 402                            0.001680\n",
      "84) 189                            0.001679\n",
      "85) 355                            0.001668\n",
      "86) 218                            0.001644\n",
      "87) 104                            0.001614\n",
      "88) 71                             0.001593\n",
      "89) 113                            0.001578\n",
      "90) 450                            0.001569\n",
      "91) 409                            0.001556\n",
      "92) 223                            0.001526\n",
      "93) 72                             0.001523\n",
      "94) 298                            0.001514\n",
      "95) 217                            0.001507\n",
      "96) 327                            0.001496\n",
      "97) 154                            0.001495\n",
      "98) 244                            0.001493\n",
      "99) 40                             0.001477\n",
      "100) 162                            0.001472\n",
      "101) 443                            0.001471\n",
      "102) 254                            0.001451\n",
      "103) 258                            0.001448\n",
      "104) 58                             0.001448\n",
      "105) 419                            0.001445\n",
      "106) 311                            0.001441\n",
      "107) 90                             0.001437\n",
      "108) 148                            0.001434\n",
      "109) 291                            0.001429\n",
      "110) 434                            0.001424\n",
      "111) 105                            0.001421\n",
      "112) 28                             0.001421\n",
      "113) 9                              0.001420\n",
      "114) 485                            0.001408\n",
      "115) 52                             0.001407\n",
      "116) 315                            0.001406\n",
      "117) 94                             0.001392\n",
      "118) 13                             0.001392\n",
      "119) 23                             0.001391\n",
      "120) 176                            0.001376\n",
      "121) 418                            0.001368\n",
      "122) 386                            0.001367\n",
      "123) 303                            0.001366\n",
      "124) 268                            0.001365\n",
      "125) 30                             0.001357\n",
      "126) 119                            0.001347\n",
      "127) 356                            0.001347\n",
      "128) 87                             0.001345\n",
      "129) 49                             0.001341\n",
      "130) 73                             0.001339\n",
      "131) 276                            0.001336\n",
      "132) 481                            0.001335\n",
      "133) 42                             0.001318\n",
      "134) 461                            0.001309\n",
      "135) 230                            0.001309\n",
      "136) 100                            0.001309\n",
      "137) 111                            0.001304\n",
      "138) 494                            0.001299\n",
      "139) 382                            0.001298\n",
      "140) 295                            0.001288\n",
      "141) 92                             0.001279\n",
      "142) 83                             0.001278\n",
      "143) 385                            0.001275\n",
      "144) 248                            0.001273\n",
      "145) 465                            0.001262\n",
      "146) 499                            0.001251\n",
      "147) 131                            0.001248\n",
      "148) 183                            0.001246\n",
      "149) 279                            0.001242\n",
      "150) 50                             0.001236\n",
      "151) 246                            0.001232\n",
      "152) 79                             0.001230\n",
      "153) 220                            0.001230\n",
      "154) 411                            0.001228\n",
      "155) 159                            0.001227\n",
      "156) 96                             0.001226\n",
      "157) 497                            0.001223\n",
      "158) 294                            0.001212\n",
      "159) 236                            0.001210\n",
      "160) 102                            0.001204\n",
      "161) 460                            0.001184\n",
      "162) 77                             0.001182\n",
      "163) 18                             0.001176\n",
      "164) 41                             0.001174\n",
      "165) 47                             0.001172\n",
      "166) 452                            0.001158\n",
      "167) 212                            0.001147\n",
      "168) 283                            0.001138\n",
      "169) 496                            0.001135\n",
      "170) 108                            0.001127\n",
      "171) 107                            0.001126\n",
      "172) 146                            0.001125\n",
      "173) 381                            0.001123\n",
      "174) 449                            0.001115\n",
      "175) 413                            0.001109\n",
      "176) 51                             0.001106\n",
      "177) 158                            0.001103\n",
      "178) 98                             0.001100\n",
      "179) 426                            0.001099\n",
      "180) 31                             0.001098\n",
      "181) 63                             0.001096\n",
      "182) 150                            0.001091\n",
      "183) 439                            0.001089\n",
      "184) 21                             0.001088\n",
      "185) 344                            0.001086\n",
      "186) 482                            0.001083\n",
      "187) 458                            0.001081\n",
      "188) 78                             0.001080\n",
      "189) 332                            0.001070\n",
      "190) 16                             0.001064\n",
      "191) 238                            0.001063\n",
      "192) 416                            0.001059\n",
      "193) 322                            0.001058\n",
      "194) 290                            0.001055\n",
      "195) 320                            0.001054\n",
      "196) 287                            0.001052\n",
      "197) 374                            0.001044\n",
      "198) 166                            0.001040\n",
      "199) 474                            0.001031\n",
      "200) 66                             0.001031\n",
      "201) 369                            0.001027\n",
      "202) 312                            0.001026\n",
      "203) 463                            0.001023\n",
      "204) 251                            0.001019\n",
      "205) 114                            0.001019\n",
      "206) 112                            0.001017\n",
      "207) 4                              0.001013\n",
      "208) 420                            0.001012\n",
      "209) 35                             0.001010\n",
      "210) 117                            0.001004\n",
      "211) 227                            0.001004\n",
      "212) 115                            0.001001\n",
      "213) 490                            0.001000\n",
      "214) 86                             0.000999\n",
      "215) 234                            0.000995\n",
      "216) 328                            0.000995\n",
      "217) 68                             0.000992\n",
      "218) 186                            0.000990\n",
      "219) 53                             0.000989\n",
      "220) 142                            0.000986\n",
      "221) 178                            0.000986\n",
      "222) 448                            0.000985\n",
      "223) 237                            0.000982\n",
      "224) 301                            0.000982\n",
      "225) 256                            0.000979\n",
      "226) 267                            0.000969\n",
      "227) 309                            0.000968\n",
      "228) 128                            0.000967\n",
      "229) 67                             0.000964\n",
      "230) 134                            0.000962\n",
      "231) 480                            0.000959\n",
      "232) 181                            0.000957\n",
      "233) 36                             0.000957\n",
      "234) 135                            0.000954\n",
      "235) 253                            0.000953\n",
      "236) 410                            0.000951\n",
      "237) 471                            0.000945\n",
      "238) 106                            0.000945\n",
      "239) 165                            0.000942\n",
      "240) 200                            0.000942\n",
      "241) 468                            0.000942\n",
      "242) 171                            0.000941\n",
      "243) 398                            0.000941\n",
      "244) 286                            0.000940\n",
      "245) 475                            0.000940\n",
      "246) 144                            0.000939\n",
      "247) 199                            0.000938\n",
      "248) 407                            0.000936\n",
      "249) 93                             0.000934\n",
      "250) 394                            0.000934\n",
      "251) 447                            0.000930\n",
      "252) 488                            0.000929\n",
      "253) 423                            0.000928\n",
      "254) 61                             0.000924\n",
      "255) 330                            0.000923\n",
      "256) 215                            0.000921\n",
      "257) 155                            0.000920\n",
      "258) 55                             0.000913\n",
      "259) 457                            0.000909\n",
      "260) 352                            0.000909\n",
      "261) 179                            0.000906\n",
      "262) 388                            0.000905\n",
      "263) 335                            0.000904\n",
      "264) 319                            0.000899\n",
      "265) 195                            0.000898\n",
      "266) 459                            0.000897\n",
      "267) 76                             0.000894\n",
      "268) 44                             0.000891\n",
      "269) 375                            0.000890\n",
      "270) 438                            0.000890\n",
      "271) 453                            0.000887\n",
      "272) 313                            0.000886\n",
      "273) 22                             0.000885\n",
      "274) 271                            0.000883\n",
      "275) 266                            0.000882\n",
      "276) 451                            0.000881\n",
      "277) 60                             0.000881\n",
      "278) 349                            0.000881\n",
      "279) 264                            0.000880\n",
      "280) 121                            0.000877\n",
      "281) 370                            0.000876\n",
      "282) 153                            0.000876\n",
      "283) 314                            0.000868\n",
      "284) 280                            0.000867\n",
      "285) 401                            0.000867\n",
      "286) 29                             0.000866\n",
      "287) 184                            0.000860\n",
      "288) 387                            0.000860\n",
      "289) 126                            0.000859\n",
      "290) 19                             0.000853\n",
      "291) 211                            0.000852\n",
      "292) 110                            0.000852\n",
      "293) 431                            0.000851\n",
      "294) 182                            0.000847\n",
      "295) 289                            0.000843\n",
      "296) 446                            0.000841\n",
      "297) 62                             0.000837\n",
      "298) 337                            0.000835\n",
      "299) 462                            0.000835\n",
      "300) 417                            0.000833\n",
      "301) 231                            0.000831\n",
      "302) 270                            0.000827\n",
      "303) 168                            0.000826\n",
      "304) 338                            0.000826\n",
      "305) 172                            0.000825\n",
      "306) 308                            0.000823\n",
      "307) 132                            0.000821\n",
      "308) 265                            0.000818\n",
      "309) 421                            0.000817\n",
      "310) 45                             0.000817\n",
      "311) 487                            0.000815\n",
      "312) 198                            0.000809\n",
      "313) 436                            0.000808\n",
      "314) 228                            0.000807\n",
      "315) 341                            0.000806\n",
      "316) 161                            0.000805\n",
      "317) 428                            0.000802\n",
      "318) 293                            0.000802\n",
      "319) 151                            0.000801\n",
      "320) 361                            0.000799\n",
      "321) 359                            0.000798\n",
      "322) 464                            0.000794\n",
      "323) 353                            0.000791\n",
      "324) 367                            0.000791\n",
      "325) 284                            0.000790\n",
      "326) 122                            0.000789\n",
      "327) 37                             0.000788\n",
      "328) 194                            0.000787\n",
      "329) 240                            0.000783\n",
      "330) 354                            0.000778\n",
      "331) 221                            0.000776\n",
      "332) 430                            0.000776\n",
      "333) 101                            0.000776\n",
      "334) 203                            0.000775\n",
      "335) 404                            0.000772\n",
      "336) 249                            0.000772\n",
      "337) 81                             0.000769\n",
      "338) 56                             0.000765\n",
      "339) 396                            0.000765\n",
      "340) 444                            0.000763\n",
      "341) 331                            0.000760\n",
      "342) 445                            0.000760\n",
      "343) 325                            0.000757\n",
      "344) 306                            0.000756\n",
      "345) 435                            0.000755\n",
      "346) 362                            0.000754\n",
      "347) 219                            0.000753\n",
      "348) 351                            0.000753\n",
      "349) 124                            0.000750\n",
      "350) 422                            0.000748\n",
      "351) 17                             0.000748\n",
      "352) 147                            0.000746\n",
      "353) 282                            0.000746\n",
      "354) 160                            0.000746\n",
      "355) 202                            0.000745\n",
      "356) 272                            0.000744\n",
      "357) 406                            0.000740\n",
      "358) 43                             0.000738\n",
      "359) 281                            0.000738\n",
      "360) 123                            0.000737\n",
      "361) 345                            0.000735\n",
      "362) 185                            0.000733\n",
      "363) 74                             0.000733\n",
      "364) 133                            0.000731\n",
      "365) 145                            0.000730\n",
      "366) 383                            0.000726\n",
      "367) 339                            0.000726\n",
      "368) 310                            0.000722\n",
      "369) 486                            0.000721\n",
      "370) 164                            0.000717\n",
      "371) 454                            0.000714\n",
      "372) 173                            0.000711\n",
      "373) 75                             0.000708\n",
      "374) 317                            0.000706\n",
      "375) 141                            0.000705\n",
      "376) 427                            0.000704\n",
      "377) 363                            0.000703\n",
      "378) 278                            0.000702\n",
      "379) 69                             0.000702\n",
      "380) 263                            0.000701\n",
      "381) 229                            0.000701\n",
      "382) 54                             0.000698\n",
      "383) 210                            0.000698\n",
      "384) 441                            0.000693\n",
      "385) 241                            0.000691\n",
      "386) 243                            0.000689\n",
      "387) 478                            0.000686\n",
      "388) 473                            0.000683\n",
      "389) 204                            0.000682\n",
      "390) 371                            0.000681\n",
      "391) 187                            0.000679\n",
      "392) 257                            0.000676\n",
      "393) 225                            0.000674\n",
      "394) 296                            0.000672\n",
      "395) 350                            0.000671\n",
      "396) 156                            0.000670\n",
      "397) 95                             0.000670\n",
      "398) 177                            0.000670\n",
      "399) 82                             0.000669\n",
      "400) 336                            0.000666\n",
      "401) 429                            0.000665\n",
      "402) 307                            0.000665\n",
      "403) 346                            0.000663\n",
      "404) 233                            0.000663\n",
      "405) 140                            0.000662\n",
      "406) 403                            0.000660\n",
      "407) 456                            0.000659\n",
      "408) 188                            0.000658\n",
      "409) 127                            0.000657\n",
      "410) 405                            0.000656\n",
      "411) 152                            0.000654\n",
      "412) 466                            0.000652\n",
      "413) 138                            0.000648\n",
      "414) 373                            0.000648\n",
      "415) 224                            0.000647\n",
      "416) 408                            0.000643\n",
      "417) 232                            0.000639\n",
      "418) 137                            0.000637\n",
      "419) 326                            0.000635\n",
      "420) 143                            0.000632\n",
      "421) 292                            0.000631\n",
      "422) 277                            0.000629\n",
      "423) 136                            0.000627\n",
      "424) 85                             0.000624\n",
      "425) 88                             0.000624\n",
      "426) 414                            0.000623\n",
      "427) 364                            0.000622\n",
      "428) 365                            0.000620\n",
      "429) 226                            0.000619\n",
      "430) 360                            0.000617\n",
      "431) 300                            0.000616\n",
      "432) 118                            0.000612\n",
      "433) 206                            0.000612\n",
      "434) 302                            0.000612\n",
      "435) 368                            0.000607\n",
      "436) 432                            0.000604\n",
      "437) 149                            0.000603\n",
      "438) 329                            0.000594\n",
      "439) 297                            0.000593\n",
      "440) 348                            0.000593\n",
      "441) 392                            0.000592\n",
      "442) 377                            0.000592\n",
      "443) 415                            0.000590\n",
      "444) 139                            0.000589\n",
      "445) 190                            0.000588\n",
      "446) 201                            0.000586\n",
      "447) 498                            0.000586\n",
      "448) 191                            0.000584\n",
      "449) 340                            0.000582\n",
      "450) 197                            0.000580\n",
      "451) 247                            0.000580\n",
      "452) 333                            0.000580\n",
      "453) 347                            0.000577\n",
      "454) 260                            0.000577\n",
      "455) 59                             0.000576\n",
      "456) 130                            0.000573\n",
      "457) 196                            0.000571\n",
      "458) 357                            0.000567\n",
      "459) 245                            0.000565\n",
      "460) 433                            0.000563\n",
      "461) 275                            0.000561\n",
      "462) 412                            0.000561\n",
      "463) 255                            0.000561\n",
      "464) 97                             0.000559\n",
      "465) 442                            0.000554\n",
      "466) 372                            0.000553\n",
      "467) 378                            0.000551\n",
      "468) 250                            0.000550\n",
      "469) 64                             0.000550\n",
      "470) 109                            0.000548\n",
      "471) 393                            0.000548\n",
      "472) 213                            0.000547\n",
      "473) 440                            0.000539\n",
      "474) 343                            0.000538\n",
      "475) 395                            0.000537\n",
      "476) 305                            0.000536\n",
      "477) 342                            0.000533\n",
      "478) 324                            0.000531\n",
      "479) 397                            0.000526\n",
      "480) 214                            0.000522\n",
      "481) 205                            0.000521\n",
      "482) 379                            0.000520\n",
      "483) 391                            0.000517\n",
      "484) 65                             0.000515\n",
      "485) 389                            0.000515\n",
      "486) 384                            0.000515\n",
      "487) 163                            0.000507\n",
      "488) 304                            0.000497\n",
      "489) 366                            0.000495\n",
      "490) 424                            0.000494\n",
      "491) 193                            0.000486\n",
      "492) 207                            0.000483\n",
      "493) 358                            0.000476\n",
      "494) 169                            0.000476\n",
      "495) 425                            0.000473\n",
      "496) 239                            0.000469\n",
      "497) 334                            0.000453\n",
      "498) 157                            0.000446\n",
      "499) 380                            0.000433\n",
      "500) 400                            0.000413\n"
     ]
    },
    {
     "ename": "IndexError",
     "evalue": "index 500 is out of bounds for axis 0 with size 500",
     "output_type": "error",
     "traceback": [
      "\u001b[1;31m---------------------------------------------------------------------------\u001b[0m",
      "\u001b[1;31mIndexError\u001b[0m                                Traceback (most recent call last)",
      "\u001b[1;32m<ipython-input-62-665614754bd2>\u001b[0m in \u001b[0;36m<module>\u001b[1;34m\u001b[0m\n\u001b[0;32m      4\u001b[0m \u001b[1;32mfor\u001b[0m \u001b[0mf\u001b[0m \u001b[1;32min\u001b[0m \u001b[0mrange\u001b[0m\u001b[1;33m(\u001b[0m\u001b[0mX_train\u001b[0m\u001b[1;33m.\u001b[0m\u001b[0mshape\u001b[0m\u001b[1;33m[\u001b[0m\u001b[1;36m1\u001b[0m\u001b[1;33m]\u001b[0m\u001b[1;33m)\u001b[0m\u001b[1;33m:\u001b[0m\u001b[1;33m\u001b[0m\u001b[1;33m\u001b[0m\u001b[0m\n\u001b[0;32m      5\u001b[0m     print(\"%2d) %-*s %f\" % (f + 1, 30, \n\u001b[1;32m----> 6\u001b[1;33m                             \u001b[0mfeat_labels\u001b[0m\u001b[1;33m[\u001b[0m\u001b[0mindices\u001b[0m\u001b[1;33m[\u001b[0m\u001b[0mf\u001b[0m\u001b[1;33m]\u001b[0m\u001b[1;33m]\u001b[0m\u001b[1;33m,\u001b[0m\u001b[1;33m\u001b[0m\u001b[1;33m\u001b[0m\u001b[0m\n\u001b[0m\u001b[0;32m      7\u001b[0m                             importances[indices[f]]))\n\u001b[0;32m      8\u001b[0m \u001b[1;33m\u001b[0m\u001b[0m\n",
      "\u001b[1;31mIndexError\u001b[0m: index 500 is out of bounds for axis 0 with size 500"
     ]
    }
   ],
   "source": [
    "feat_labels = range(X_train_pca.shape[1])\n",
    "indices = np.argsort(importances)[::-1]\n",
    "\n",
    "for f in range(X_train.shape[1]):\n",
    "    print(\"%2d) %-*s %f\" % (f + 1, 30, \n",
    "                            feat_labels[indices[f]], \n",
    "                            importances[indices[f]]))\n",
    "\n",
    "plt.title('Feature Importance')\n",
    "plt.bar(range(X_train_pca.shape[1]), \n",
    "        importances[indices],\n",
    "        align='center')\n",
    "\n",
    "plt.xticks(range(X_train_pca.shape[1]), \n",
    "           feat_labels[indices], rotation=90)\n",
    "plt.xlim([-1, X_train_pca.shape[1]])\n",
    "plt.tight_layout()\n",
    "#plt.savefig('images/04_09.png', dpi=300)\n",
    "plt.show()"
   ]
  },
  {
   "cell_type": "code",
   "execution_count": null,
   "metadata": {},
   "outputs": [],
   "source": []
  },
  {
   "cell_type": "code",
   "execution_count": null,
   "metadata": {},
   "outputs": [],
   "source": []
  },
  {
   "cell_type": "markdown",
   "metadata": {},
   "source": [
    "### Boosting"
   ]
  },
  {
   "cell_type": "code",
   "execution_count": null,
   "metadata": {},
   "outputs": [],
   "source": []
  },
  {
   "cell_type": "code",
   "execution_count": null,
   "metadata": {},
   "outputs": [],
   "source": []
  },
  {
   "cell_type": "markdown",
   "metadata": {},
   "source": [
    "### Stacking "
   ]
  },
  {
   "cell_type": "code",
   "execution_count": null,
   "metadata": {},
   "outputs": [],
   "source": []
  },
  {
   "cell_type": "code",
   "execution_count": null,
   "metadata": {},
   "outputs": [],
   "source": []
  },
  {
   "cell_type": "markdown",
   "metadata": {},
   "source": [
    "## Turning multiple linear regression with polynomial regression"
   ]
  },
  {
   "cell_type": "code",
   "execution_count": null,
   "metadata": {},
   "outputs": [],
   "source": []
  },
  {
   "cell_type": "code",
   "execution_count": null,
   "metadata": {},
   "outputs": [],
   "source": []
  },
  {
   "cell_type": "markdown",
   "metadata": {},
   "source": [
    "## Tensorflow"
   ]
  },
  {
   "cell_type": "markdown",
   "metadata": {},
   "source": [
    "### baseline"
   ]
  },
  {
   "cell_type": "code",
   "execution_count": 50,
   "metadata": {
    "ExecuteTime": {
     "end_time": "2021-05-10T23:19:06.120875Z",
     "start_time": "2021-05-10T23:19:06.114838Z"
    }
   },
   "outputs": [
    {
     "name": "stdout",
     "output_type": "stream",
     "text": [
      "2.3.1\n"
     ]
    }
   ],
   "source": [
    "import tensorflow as tf\n",
    "\n",
    "from tensorflow import keras\n",
    "from tensorflow.keras import layers\n",
    "from tensorflow.keras.layers.experimental import preprocessing\n",
    "from tensorflow.keras.layers import Input, Dense, Activation,Dropout\n",
    "from tensorflow.keras.models import Model\n",
    "\n",
    "print(tf.__version__)"
   ]
  },
  {
   "cell_type": "code",
   "execution_count": 51,
   "metadata": {
    "ExecuteTime": {
     "end_time": "2021-05-10T23:19:08.498431Z",
     "start_time": "2021-05-10T23:19:08.492444Z"
    }
   },
   "outputs": [],
   "source": [
    "def r_2_score(y_true, y_pred):\n",
    "    from tensorflow.keras import backend as K\n",
    "    RSS =  K.sum(K.square( y_true- y_pred ))\n",
    "    TSS = K.sum(K.square( y_true - K.mean(y_true) ) )\n",
    "    return ( 1. - RSS/(TSS) )"
   ]
  },
  {
   "cell_type": "code",
   "execution_count": 52,
   "metadata": {
    "ExecuteTime": {
     "end_time": "2021-05-10T23:19:09.124905Z",
     "start_time": "2021-05-10T23:19:09.109659Z"
    }
   },
   "outputs": [],
   "source": [
    "from tensorflow.keras import backend as K\n",
    "\n",
    "def coeff_determination(y_true, y_pred):\n",
    "    from keras import backend as K\n",
    "    SS_res =  K.sum(K.square( y_true-y_pred ))\n",
    "    SS_tot = K.sum(K.square( y_true - K.mean(y_true) ) )\n",
    "    return ( 1 - SS_res/(SS_tot + K.epsilon()) )"
   ]
  },
  {
   "cell_type": "code",
   "execution_count": 57,
   "metadata": {
    "ExecuteTime": {
     "end_time": "2021-05-10T23:30:31.851509Z",
     "start_time": "2021-05-10T23:30:31.805786Z"
    }
   },
   "outputs": [],
   "source": [
    "input_layer = Input(shape=(X_train_pca.shape[1],))\n",
    "dense_layer_1 = Dense(100, activation='relu')(input_layer)\n",
    "dense_layer_2 = Dense(50, activation='relu')(dense_layer_1)\n",
    "dense_layer_3 = Dense(25, activation='relu')(dense_layer_2)\n",
    "output = Dense(1)(dense_layer_3)\n",
    "\n",
    "model_train = Model(inputs=input_layer, outputs=output)\n",
    "model_train.compile(loss=\"mean_squared_error\" , optimizer=\"adam\", metrics=[\"mean_squared_error\",\"mean_squared_logarithmic_error\"])"
   ]
  },
  {
   "cell_type": "code",
   "execution_count": 58,
   "metadata": {
    "ExecuteTime": {
     "end_time": "2021-05-10T23:52:03.939230Z",
     "start_time": "2021-05-10T23:30:32.071055Z"
    }
   },
   "outputs": [
    {
     "name": "stdout",
     "output_type": "stream",
     "text": [
      "Epoch 1/100\n",
      "12250/12250 [==============================] - 13s 1ms/step - loss: 27596.1348 - mean_squared_error: 27596.1348 - mean_squared_logarithmic_error: 1.2500 - val_loss: 25329.7012 - val_mean_squared_error: 25329.7012 - val_mean_squared_logarithmic_error: 1.1910\n",
      "Epoch 2/100\n",
      "12250/12250 [==============================] - 13s 1ms/step - loss: 23104.7715 - mean_squared_error: 23104.7715 - mean_squared_logarithmic_error: 1.0373 - val_loss: 21706.9902 - val_mean_squared_error: 21706.9902 - val_mean_squared_logarithmic_error: 0.9479\n",
      "Epoch 3/100\n",
      "12250/12250 [==============================] - 13s 1ms/step - loss: 21469.6289 - mean_squared_error: 21469.6289 - mean_squared_logarithmic_error: 0.9764 - val_loss: 21258.8203 - val_mean_squared_error: 21258.8203 - val_mean_squared_logarithmic_error: 1.0591\n",
      "Epoch 4/100\n",
      "12250/12250 [==============================] - 13s 1ms/step - loss: 20243.5508 - mean_squared_error: 20243.5508 - mean_squared_logarithmic_error: 0.9568 - val_loss: 20111.1914 - val_mean_squared_error: 20111.1914 - val_mean_squared_logarithmic_error: 0.9289\n",
      "Epoch 5/100\n",
      "12250/12250 [==============================] - 13s 1ms/step - loss: 19365.1680 - mean_squared_error: 19365.1680 - mean_squared_logarithmic_error: 0.9186 - val_loss: 19669.8867 - val_mean_squared_error: 19669.8867 - val_mean_squared_logarithmic_error: 0.8521\n",
      "Epoch 6/100\n",
      "12250/12250 [==============================] - 13s 1ms/step - loss: 18971.2871 - mean_squared_error: 18971.2871 - mean_squared_logarithmic_error: 0.9002 - val_loss: 18946.7148 - val_mean_squared_error: 18946.7148 - val_mean_squared_logarithmic_error: 0.9812\n",
      "Epoch 7/100\n",
      "12250/12250 [==============================] - 13s 1ms/step - loss: 18460.4648 - mean_squared_error: 18460.4648 - mean_squared_logarithmic_error: 0.8920 - val_loss: 17878.2910 - val_mean_squared_error: 17878.2910 - val_mean_squared_logarithmic_error: 0.8742\n",
      "Epoch 8/100\n",
      "12250/12250 [==============================] - 13s 1ms/step - loss: 17803.7305 - mean_squared_error: 17803.7305 - mean_squared_logarithmic_error: 0.8705 - val_loss: 18299.5547 - val_mean_squared_error: 18299.5547 - val_mean_squared_logarithmic_error: 0.8113\n",
      "Epoch 9/100\n",
      "12250/12250 [==============================] - 13s 1ms/step - loss: 17606.3730 - mean_squared_error: 17606.3730 - mean_squared_logarithmic_error: 0.8514 - val_loss: 18484.0098 - val_mean_squared_error: 18484.0098 - val_mean_squared_logarithmic_error: 1.0244\n",
      "Epoch 10/100\n",
      "12250/12250 [==============================] - 13s 1ms/step - loss: 17104.4355 - mean_squared_error: 17104.4355 - mean_squared_logarithmic_error: 0.8451 - val_loss: 17703.4688 - val_mean_squared_error: 17703.4688 - val_mean_squared_logarithmic_error: 0.8590\n",
      "Epoch 11/100\n",
      "12250/12250 [==============================] - 13s 1ms/step - loss: 16580.9199 - mean_squared_error: 16580.9199 - mean_squared_logarithmic_error: 0.8340 - val_loss: 19738.0547 - val_mean_squared_error: 19738.0547 - val_mean_squared_logarithmic_error: 1.0174\n",
      "Epoch 12/100\n",
      "12250/12250 [==============================] - 13s 1ms/step - loss: 16568.9668 - mean_squared_error: 16568.9668 - mean_squared_logarithmic_error: 0.8325 - val_loss: 18725.0977 - val_mean_squared_error: 18725.0977 - val_mean_squared_logarithmic_error: 0.8806\n",
      "Epoch 13/100\n",
      "12250/12250 [==============================] - 13s 1ms/step - loss: 16169.7793 - mean_squared_error: 16169.7793 - mean_squared_logarithmic_error: 0.8221 - val_loss: 21519.7422 - val_mean_squared_error: 21519.7422 - val_mean_squared_logarithmic_error: 0.8062\n",
      "Epoch 14/100\n",
      "12250/12250 [==============================] - 13s 1ms/step - loss: 16125.0830 - mean_squared_error: 16125.0830 - mean_squared_logarithmic_error: 0.8179 - val_loss: 18975.1289 - val_mean_squared_error: 18975.1289 - val_mean_squared_logarithmic_error: 0.7842\n",
      "Epoch 15/100\n",
      "12250/12250 [==============================] - 13s 1ms/step - loss: 15619.8008 - mean_squared_error: 15619.8008 - mean_squared_logarithmic_error: 0.8087 - val_loss: 19481.1230 - val_mean_squared_error: 19481.1230 - val_mean_squared_logarithmic_error: 0.7829\n",
      "Epoch 16/100\n",
      "12250/12250 [==============================] - 13s 1ms/step - loss: 15560.1562 - mean_squared_error: 15560.1562 - mean_squared_logarithmic_error: 0.7977 - val_loss: 16526.0820 - val_mean_squared_error: 16526.0820 - val_mean_squared_logarithmic_error: 0.7614\n",
      "Epoch 17/100\n",
      "12250/12250 [==============================] - 13s 1ms/step - loss: 15207.5615 - mean_squared_error: 15207.5615 - mean_squared_logarithmic_error: 0.7936 - val_loss: 21504.8242 - val_mean_squared_error: 21504.8242 - val_mean_squared_logarithmic_error: 0.9012\n",
      "Epoch 18/100\n",
      "12250/12250 [==============================] - 13s 1ms/step - loss: 14875.1943 - mean_squared_error: 14875.1943 - mean_squared_logarithmic_error: 0.7862 - val_loss: 17747.4414 - val_mean_squared_error: 17747.4414 - val_mean_squared_logarithmic_error: 0.8990\n",
      "Epoch 19/100\n",
      "12250/12250 [==============================] - 13s 1ms/step - loss: 14555.4326 - mean_squared_error: 14555.4326 - mean_squared_logarithmic_error: 0.7724 - val_loss: 18384.6758 - val_mean_squared_error: 18384.6758 - val_mean_squared_logarithmic_error: 0.8570\n",
      "Epoch 20/100\n",
      "12250/12250 [==============================] - 13s 1ms/step - loss: 14297.9316 - mean_squared_error: 14297.9316 - mean_squared_logarithmic_error: 0.7720 - val_loss: 15992.8867 - val_mean_squared_error: 15992.8867 - val_mean_squared_logarithmic_error: 0.8286\n",
      "Epoch 21/100\n",
      "12250/12250 [==============================] - 13s 1ms/step - loss: 14412.5430 - mean_squared_error: 14412.5430 - mean_squared_logarithmic_error: 0.7668 - val_loss: 16223.9395 - val_mean_squared_error: 16223.9395 - val_mean_squared_logarithmic_error: 0.8415\n",
      "Epoch 22/100\n",
      "12250/12250 [==============================] - 13s 1ms/step - loss: 14043.5225 - mean_squared_error: 14043.5225 - mean_squared_logarithmic_error: 0.7701 - val_loss: 15205.5332 - val_mean_squared_error: 15205.5332 - val_mean_squared_logarithmic_error: 0.7794\n",
      "Epoch 23/100\n",
      "12250/12250 [==============================] - 13s 1ms/step - loss: 13779.6689 - mean_squared_error: 13779.6689 - mean_squared_logarithmic_error: 0.7623 - val_loss: 15780.1279 - val_mean_squared_error: 15780.1279 - val_mean_squared_logarithmic_error: 0.8481\n",
      "Epoch 24/100\n",
      "12250/12250 [==============================] - 13s 1ms/step - loss: 13409.3018 - mean_squared_error: 13409.3018 - mean_squared_logarithmic_error: 0.7591 - val_loss: 16333.2803 - val_mean_squared_error: 16333.2803 - val_mean_squared_logarithmic_error: 0.7623\n",
      "Epoch 25/100\n",
      "12250/12250 [==============================] - 13s 1ms/step - loss: 13373.6455 - mean_squared_error: 13373.6455 - mean_squared_logarithmic_error: 0.7508 - val_loss: 15916.0781 - val_mean_squared_error: 15916.0781 - val_mean_squared_logarithmic_error: 0.78193481.1250 - mean_squared_error: 13481.1250 - mean_squar\n",
      "Epoch 26/100\n",
      "12250/12250 [==============================] - 13s 1ms/step - loss: 13259.7812 - mean_squared_error: 13259.7812 - mean_squared_logarithmic_error: 0.7563 - val_loss: 15405.0938 - val_mean_squared_error: 15405.0938 - val_mean_squared_logarithmic_error: 0.8160\n",
      "Epoch 27/100\n",
      "12250/12250 [==============================] - 13s 1ms/step - loss: 13071.1123 - mean_squared_error: 13071.1123 - mean_squared_logarithmic_error: 0.7452 - val_loss: 15399.2910 - val_mean_squared_error: 15399.2910 - val_mean_squared_logarithmic_error: 0.7934\n",
      "Epoch 28/100\n",
      "12250/12250 [==============================] - 13s 1ms/step - loss: 12861.7197 - mean_squared_error: 12861.7197 - mean_squared_logarithmic_error: 0.7553 - val_loss: 15017.0869 - val_mean_squared_error: 15017.0869 - val_mean_squared_logarithmic_error: 0.8216mean_squared_logarithmic_error: 0.\n",
      "Epoch 29/100\n",
      "12250/12250 [==============================] - 13s 1ms/step - loss: 12592.0078 - mean_squared_error: 12592.0078 - mean_squared_logarithmic_error: 0.7410 - val_loss: 14799.2080 - val_mean_squared_error: 14799.2080 - val_mean_squared_logarithmic_error: 0.8112\n",
      "Epoch 30/100\n",
      "12250/12250 [==============================] - 13s 1ms/step - loss: 12524.7578 - mean_squared_error: 12524.7578 - mean_squared_logarithmic_error: 0.7465 - val_loss: 14890.4209 - val_mean_squared_error: 14890.4209 - val_mean_squared_logarithmic_error: 0.7682\n",
      "Epoch 31/100\n",
      "12250/12250 [==============================] - 13s 1ms/step - loss: 12249.0459 - mean_squared_error: 12249.0459 - mean_squared_logarithmic_error: 0.7454 - val_loss: 14734.7197 - val_mean_squared_error: 14734.7197 - val_mean_squared_logarithmic_error: 0.8082mean_squared_loga - ETA: 4s - los\n",
      "Epoch 32/100\n",
      "12250/12250 [==============================] - 13s 1ms/step - loss: 12019.6064 - mean_squared_error: 12019.6064 - mean_squared_logarithmic_error: 0.7368 - val_loss: 14800.7773 - val_mean_squared_error: 14800.7773 - val_mean_squared_logarithmic_error: 0.8493n_squared_error: 12407.1260 - mean_squared_lo - ETA: 7s - loss: 12022.3018 - mean_squared_error: 12022.3 - ETA: 5s - loss: 11868.1201 - mean_squared - ETA: 2s - loss: 12070.4814 - mean_squared_error: 1207\n",
      "Epoch 33/100\n",
      "12250/12250 [==============================] - 13s 1ms/step - loss: 12028.8877 - mean_squared_error: 12028.8877 - mean_squared_logarithmic_error: 0.7428 - val_loss: 14709.1445 - val_mean_squared_error: 14709.1445 - val_mean_squared_logarithmic_error: 0.7715ean_squared_error: 11920.0645 - mean_squared_logarithmic_err - ETA: 0s - loss: 11858.3506 - mean_squared_error: 11858.3506 - mean_squared_logarithmic_error: 0.\n",
      "Epoch 34/100\n",
      "12250/12250 [==============================] - 13s 1ms/step - loss: 11800.7207 - mean_squared_error: 11800.7207 - mean_squared_logarithmic_error: 0.7296 - val_loss: 15472.4521 - val_mean_squared_error: 15472.4521 - val_mean_squared_logarithmic_error: 0.7325\n",
      "Epoch 35/100\n",
      "12250/12250 [==============================] - 13s 1ms/step - loss: 11504.6768 - mean_squared_error: 11504.6768 - mean_squared_logarithmic_error: 0.7228 - val_loss: 15593.3838 - val_mean_squared_error: 15593.3838 - val_mean_squared_logarithmic_error: 0.7914\n",
      "Epoch 36/100\n",
      "12250/12250 [==============================] - 13s 1ms/step - loss: 11396.9580 - mean_squared_error: 11396.9580 - mean_squared_logarithmic_error: 0.7287 - val_loss: 14085.4033 - val_mean_squared_error: 14085.4033 - val_mean_squared_logarithmic_error: 0.7921\n",
      "Epoch 37/100\n",
      "12250/12250 [==============================] - 13s 1ms/step - loss: 11274.3545 - mean_squared_error: 11274.3545 - mean_squared_logarithmic_error: 0.7337 - val_loss: 14850.3955 - val_mean_squared_error: 14850.3955 - val_mean_squared_logarithmic_error: 0.8541\n",
      "Epoch 38/100\n",
      "12250/12250 [==============================] - 13s 1ms/step - loss: 11195.4072 - mean_squared_error: 11195.4072 - mean_squared_logarithmic_error: 0.7165 - val_loss: 14895.3711 - val_mean_squared_error: 14895.3711 - val_mean_squared_logarithmic_error: 0.7959\n",
      "Epoch 39/100\n",
      "12250/12250 [==============================] - 13s 1ms/step - loss: 11201.5801 - mean_squared_error: 11201.5801 - mean_squared_logarithmic_error: 0.7266 - val_loss: 17181.8203 - val_mean_squared_error: 17181.8203 - val_mean_squared_logarithmic_error: 0.8362s: 11164.9219 - mean_squared_error: 11164.9\n",
      "Epoch 40/100\n",
      "12250/12250 [==============================] - 13s 1ms/step - loss: 10883.8438 - mean_squared_error: 10883.8438 - mean_squared_logarithmic_error: 0.7129 - val_loss: 15149.7627 - val_mean_squared_error: 15149.7627 - val_mean_squared_logarithmic_error: 0.8628\n",
      "Epoch 41/100\n",
      "12250/12250 [==============================] - 13s 1ms/step - loss: 10811.8115 - mean_squared_error: 10811.8115 - mean_squared_logarithmic_error: 0.7147 - val_loss: 14204.2607 - val_mean_squared_error: 14204.2607 - val_mean_squared_logarithmic_error: 0.7217\n",
      "Epoch 42/100\n",
      "12250/12250 [==============================] - 13s 1ms/step - loss: 10788.4688 - mean_squared_error: 10788.4688 - mean_squared_logarithmic_error: 0.7091 - val_loss: 14300.0400 - val_mean_squared_error: 14300.0400 - val_mean_squared_logarithmic_error: 0.7483\n",
      "Epoch 43/100\n",
      "12250/12250 [==============================] - 13s 1ms/step - loss: 10537.6943 - mean_squared_error: 10537.6943 - mean_squared_logarithmic_error: 0.7130 - val_loss: 14966.4961 - val_mean_squared_error: 14966.4961 - val_mean_squared_logarithmic_error: 0.8032\n",
      "Epoch 44/100\n",
      "12250/12250 [==============================] - 13s 1ms/step - loss: 10536.5254 - mean_squared_error: 10536.5254 - mean_squared_logarithmic_error: 0.7138 - val_loss: 16755.7461 - val_mean_squared_error: 16755.7461 - val_mean_squared_logarithmic_error: 0.7717\n",
      "Epoch 45/100\n",
      "12250/12250 [==============================] - 13s 1ms/step - loss: 10363.9502 - mean_squared_error: 10363.9502 - mean_squared_logarithmic_error: 0.7093 - val_loss: 17431.0391 - val_mean_squared_error: 17431.0391 - val_mean_squared_logarithmic_error: 0.7685\n",
      "Epoch 46/100\n",
      "12250/12250 [==============================] - 13s 1ms/step - loss: 10369.8379 - mean_squared_error: 10369.8379 - mean_squared_logarithmic_error: 0.7086 - val_loss: 16843.0352 - val_mean_squared_error: 16843.0352 - val_mean_squared_logarithmic_error: 0.7323\n",
      "Epoch 47/100\n",
      "12250/12250 [==============================] - 13s 1ms/step - loss: 9995.5713 - mean_squared_error: 9995.5713 - mean_squared_logarithmic_error: 0.7041 - val_loss: 17644.1406 - val_mean_squared_error: 17644.1406 - val_mean_squared_logarithmic_error: 0.7696\n",
      "Epoch 48/100\n",
      "12250/12250 [==============================] - 13s 1ms/step - loss: 9957.7559 - mean_squared_error: 9957.7559 - mean_squared_logarithmic_error: 0.7139 - val_loss: 14084.0566 - val_mean_squared_error: 14084.0566 - val_mean_squared_logarithmic_error: 0.73270s - loss: 10020.4180 - mean_squared_error: 10020.4180 - mean_squared_logarithmic_error: 0.\n",
      "Epoch 49/100\n",
      "12250/12250 [==============================] - 13s 1ms/step - loss: 10072.8037 - mean_squared_error: 10072.8037 - mean_squared_logarithmic_error: 0.7005 - val_loss: 13771.9570 - val_mean_squared_error: 13771.9570 - val_mean_squared_logarithmic_error: 0.7783\n",
      "Epoch 50/100\n",
      "12250/12250 [==============================] - 13s 1ms/step - loss: 9941.2744 - mean_squared_error: 9941.2744 - mean_squared_logarithmic_error: 0.7045 - val_loss: 14095.3330 - val_mean_squared_error: 14095.3330 - val_mean_squared_logarithmic_error: 0.7434\n",
      "Epoch 51/100\n",
      "12250/12250 [==============================] - 13s 1ms/step - loss: 9814.1680 - mean_squared_error: 9814.1680 - mean_squared_logarithmic_error: 0.6984 - val_loss: 15608.6475 - val_mean_squared_error: 15608.6475 - val_mean_squared_logarithmic_error: 0.7935\n",
      "Epoch 52/100\n",
      "12250/12250 [==============================] - 13s 1ms/step - loss: 9466.9287 - mean_squared_error: 9466.9287 - mean_squared_logarithmic_error: 0.7025 - val_loss: 19966.0703 - val_mean_squared_error: 19966.0703 - val_mean_squared_logarithmic_error: 0.8076\n",
      "Epoch 53/100\n",
      "12250/12250 [==============================] - 13s 1ms/step - loss: 9613.4746 - mean_squared_error: 9613.4746 - mean_squared_logarithmic_error: 0.6923 - val_loss: 14269.5996 - val_mean_squared_error: 14269.5996 - val_mean_squared_logarithmic_error: 0.7558\n",
      "Epoch 54/100\n",
      "12250/12250 [==============================] - 13s 1ms/step - loss: 9475.2832 - mean_squared_error: 9475.2832 - mean_squared_logarithmic_error: 0.6971 - val_loss: 18975.4492 - val_mean_squared_error: 18975.4492 - val_mean_squared_logarithmic_error: 0.7288- loss: 9240.2422 - mean_squared_error: 9240.2422 - mean_squared_logarithm - ETA: 4s - loss:\n",
      "Epoch 55/100\n",
      "12250/12250 [==============================] - 13s 1ms/step - loss: 9457.5303 - mean_squared_error: 9457.5303 - mean_squared_logarithmic_error: 0.6990 - val_loss: 16547.6914 - val_mean_squared_error: 16547.6914 - val_mean_squared_logarithmic_error: 0.7526\n",
      "Epoch 56/100\n",
      "12250/12250 [==============================] - 13s 1ms/step - loss: 9185.6846 - mean_squared_error: 9185.6846 - mean_squared_logarithmic_error: 0.6905 - val_loss: 13972.4268 - val_mean_squared_error: 13972.4268 - val_mean_squared_logarithmic_error: 0.8074 loss: 8885.3232 - mean_squared_error: 8885.3232 - mean_squared_log - ETA: 3s - loss: 8769.5264 - mea\n",
      "Epoch 57/100\n"
     ]
    },
    {
     "name": "stdout",
     "output_type": "stream",
     "text": [
      "12250/12250 [==============================] - 13s 1ms/step - loss: 9141.3906 - mean_squared_error: 9141.3906 - mean_squared_logarithmic_error: 0.6912 - val_loss: 16197.0029 - val_mean_squared_error: 16197.0029 - val_mean_squared_logarithmic_error: 0.8020ss: 8946.9746 - mean_squared_error: 8946.9746 - mea\n",
      "Epoch 58/100\n",
      "12250/12250 [==============================] - 13s 1ms/step - loss: 9199.8750 - mean_squared_error: 9199.8750 - mean_squared_logarithmic_error: 0.6931 - val_loss: 14452.7432 - val_mean_squared_error: 14452.7432 - val_mean_squared_logarithmic_error: 0.7674\n",
      "Epoch 59/100\n",
      "12250/12250 [==============================] - 13s 1ms/step - loss: 9000.7275 - mean_squared_error: 9000.7275 - mean_squared_logarithmic_error: 0.6916 - val_loss: 17332.6895 - val_mean_squared_error: 17332.6895 - val_mean_squared_logarithmic_error: 0.6990\n",
      "Epoch 60/100\n",
      "12250/12250 [==============================] - 13s 1ms/step - loss: 8939.5078 - mean_squared_error: 8939.5078 - mean_squared_logarithmic_error: 0.6827 - val_loss: 15161.3652 - val_mean_squared_error: 15161.3652 - val_mean_squared_logarithmic_error: 0.8230\n",
      "Epoch 61/100\n",
      "12250/12250 [==============================] - 13s 1ms/step - loss: 8815.1279 - mean_squared_error: 8815.1279 - mean_squared_logarithmic_error: 0.6764 - val_loss: 20771.9473 - val_mean_squared_error: 20771.9473 - val_mean_squared_logarithmic_error: 0.8395\n",
      "Epoch 62/100\n",
      "12250/12250 [==============================] - 13s 1ms/step - loss: 8774.3770 - mean_squared_error: 8774.3770 - mean_squared_logarithmic_error: 0.6819 - val_loss: 14438.2432 - val_mean_squared_error: 14438.2432 - val_mean_squared_logarithmic_error: 0.7290\n",
      "Epoch 63/100\n",
      "12250/12250 [==============================] - 13s 1ms/step - loss: 8712.7129 - mean_squared_error: 8712.7129 - mean_squared_logarithmic_error: 0.6708 - val_loss: 16383.2764 - val_mean_squared_error: 16383.2764 - val_mean_squared_logarithmic_error: 0.8602\n",
      "Epoch 64/100\n",
      "12250/12250 [==============================] - 13s 1ms/step - loss: 8760.0771 - mean_squared_error: 8760.0771 - mean_squared_logarithmic_error: 0.6769 - val_loss: 15417.8281 - val_mean_squared_error: 15417.8281 - val_mean_squared_logarithmic_error: 0.7433\n",
      "Epoch 65/100\n",
      "12250/12250 [==============================] - 13s 1ms/step - loss: 8696.6416 - mean_squared_error: 8696.6416 - mean_squared_logarithmic_error: 0.6784 - val_loss: 18625.0078 - val_mean_squared_error: 18625.0078 - val_mean_squared_logarithmic_error: 0.7220\n",
      "Epoch 66/100\n",
      "12250/12250 [==============================] - 13s 1ms/step - loss: 8473.6846 - mean_squared_error: 8473.6846 - mean_squared_logarithmic_error: 0.6675 - val_loss: 14820.0469 - val_mean_squared_error: 14820.0469 - val_mean_squared_logarithmic_error: 0.7420\n",
      "Epoch 67/100\n",
      "12250/12250 [==============================] - 13s 1ms/step - loss: 8523.8018 - mean_squared_error: 8523.8018 - mean_squared_logarithmic_error: 0.6695 - val_loss: 13956.1035 - val_mean_squared_error: 13956.1035 - val_mean_squared_logarithmic_error: 0.7242\n",
      "Epoch 68/100\n",
      "12250/12250 [==============================] - 13s 1ms/step - loss: 8353.9863 - mean_squared_error: 8353.9863 - mean_squared_logarithmic_error: 0.6727 - val_loss: 21217.2676 - val_mean_squared_error: 21217.2676 - val_mean_squared_logarithmic_error: 0.7579ed_error: 8046.803\n",
      "Epoch 69/100\n",
      "12250/12250 [==============================] - 13s 1ms/step - loss: 8367.4668 - mean_squared_error: 8367.4668 - mean_squared_logarithmic_error: 0.6680 - val_loss: 15353.4492 - val_mean_squared_error: 15353.4492 - val_mean_squared_logarithmic_error: 0.7326\n",
      "Epoch 70/100\n",
      "12250/12250 [==============================] - 13s 1ms/step - loss: 8328.3525 - mean_squared_error: 8328.3525 - mean_squared_logarithmic_error: 0.6685 - val_loss: 16065.5479 - val_mean_squared_error: 16065.5479 - val_mean_squared_logarithmic_error: 0.7895quared_error: 8380.1602 - mean_squared_logarithmic_error:\n",
      "Epoch 71/100\n",
      "12250/12250 [==============================] - 13s 1ms/step - loss: 8196.4219 - mean_squared_error: 8196.4219 - mean_squared_logarithmic_error: 0.6756 - val_loss: 22266.0547 - val_mean_squared_error: 22266.0547 - val_mean_squared_logarithmic_error: 0.7613\n",
      "Epoch 72/100\n",
      "12250/12250 [==============================] - 13s 1ms/step - loss: 8158.6084 - mean_squared_error: 8158.6084 - mean_squared_logarithmic_error: 0.6671 - val_loss: 22728.7129 - val_mean_squared_error: 22728.7129 - val_mean_squared_logarithmic_error: 0.7655\n",
      "Epoch 73/100\n",
      "12250/12250 [==============================] - 13s 1ms/step - loss: 8114.3721 - mean_squared_error: 8114.3721 - mean_squared_logarithmic_error: 0.6635 - val_loss: 15013.0771 - val_mean_squared_error: 15013.0771 - val_mean_squared_logarithmic_error: 0.7372\n",
      "Epoch 74/100\n",
      "12250/12250 [==============================] - 13s 1ms/step - loss: 7827.3667 - mean_squared_error: 7827.3667 - mean_squared_logarithmic_error: 0.6632 - val_loss: 20471.3027 - val_mean_squared_error: 20471.3027 - val_mean_squared_logarithmic_error: 0.7172\n",
      "Epoch 75/100\n",
      "12250/12250 [==============================] - 13s 1ms/step - loss: 7969.6582 - mean_squared_error: 7969.6582 - mean_squared_logarithmic_error: 0.6643 - val_loss: 22084.1016 - val_mean_squared_error: 22084.1016 - val_mean_squared_logarithmic_error: 0.7233\n",
      "Epoch 76/100\n",
      "12250/12250 [==============================] - 14s 1ms/step - loss: 7927.0596 - mean_squared_error: 7927.0596 - mean_squared_logarithmic_error: 0.6633 - val_loss: 15439.7930 - val_mean_squared_error: 15439.7930 - val_mean_squared_logarithmic_error: 0.7553_logarithmic_error: 0\n",
      "Epoch 77/100\n",
      "12250/12250 [==============================] - 13s 1ms/step - loss: 7848.9155 - mean_squared_error: 7848.9155 - mean_squared_logarithmic_error: 0.6598 - val_loss: 16229.5029 - val_mean_squared_error: 16229.5029 - val_mean_squared_logarithmic_error: 0.7356\n",
      "Epoch 78/100\n",
      "12250/12250 [==============================] - 13s 1ms/step - loss: 7735.1763 - mean_squared_error: 7735.1763 - mean_squared_logarithmic_error: 0.6548 - val_loss: 17204.9805 - val_mean_squared_error: 17204.9805 - val_mean_squared_logarithmic_error: 0.7651\n",
      "Epoch 79/100\n",
      "12250/12250 [==============================] - 13s 1ms/step - loss: 7769.0117 - mean_squared_error: 7769.0117 - mean_squared_logarithmic_error: 0.6623 - val_loss: 18266.2773 - val_mean_squared_error: 18266.2773 - val_mean_squared_logarithmic_error: 0.7354\n",
      "Epoch 80/100\n",
      "12250/12250 [==============================] - 13s 1ms/step - loss: 7627.1084 - mean_squared_error: 7627.1084 - mean_squared_logarithmic_error: 0.6585 - val_loss: 15842.2383 - val_mean_squared_error: 15842.2383 - val_mean_squared_logarithmic_error: 0.7405\n",
      "Epoch 81/100\n",
      "12250/12250 [==============================] - 13s 1ms/step - loss: 7659.7729 - mean_squared_error: 7659.7729 - mean_squared_logarithmic_error: 0.6600 - val_loss: 15666.5635 - val_mean_squared_error: 15666.5635 - val_mean_squared_logarithmic_error: 0.7738\n",
      "Epoch 82/100\n",
      "12250/12250 [==============================] - 13s 1ms/step - loss: 7458.6436 - mean_squared_error: 7458.6436 - mean_squared_logarithmic_error: 0.6541 - val_loss: 19868.0254 - val_mean_squared_error: 19868.0254 - val_mean_squared_logarithmic_error: 0.7530\n",
      "Epoch 83/100\n",
      "12250/12250 [==============================] - 13s 1ms/step - loss: 7561.7520 - mean_squared_error: 7561.7520 - mean_squared_logarithmic_error: 0.6604 - val_loss: 18625.3867 - val_mean_squared_error: 18625.3867 - val_mean_squared_logarithmic_error: 0.6983\n",
      "Epoch 84/100\n",
      "12250/12250 [==============================] - 13s 1ms/step - loss: 7479.8320 - mean_squared_error: 7479.8320 - mean_squared_logarithmic_error: 0.6414 - val_loss: 21466.2852 - val_mean_squared_error: 21466.2852 - val_mean_squared_logarithmic_error: 0.7708\n",
      "Epoch 85/100\n",
      "12250/12250 [==============================] - 13s 1ms/step - loss: 7314.7021 - mean_squared_error: 7314.7021 - mean_squared_logarithmic_error: 0.6550 - val_loss: 18486.5293 - val_mean_squared_error: 18486.5293 - val_mean_squared_logarithmic_error: 0.7436\n",
      "Epoch 86/100\n",
      "12250/12250 [==============================] - 13s 1ms/step - loss: 7320.6836 - mean_squared_error: 7320.6836 - mean_squared_logarithmic_error: 0.6477 - val_loss: 20451.2754 - val_mean_squared_error: 20451.2754 - val_mean_squared_logarithmic_error: 0.7316\n",
      "Epoch 87/100\n",
      "12250/12250 [==============================] - 13s 1ms/step - loss: 7430.7344 - mean_squared_error: 7430.7344 - mean_squared_logarithmic_error: 0.6489 - val_loss: 18921.1152 - val_mean_squared_error: 18921.1152 - val_mean_squared_logarithmic_error: 0.7839\n",
      "Epoch 88/100\n",
      "12250/12250 [==============================] - 13s 1ms/step - loss: 7280.3369 - mean_squared_error: 7280.3369 - mean_squared_logarithmic_error: 0.6554 - val_loss: 26853.6191 - val_mean_squared_error: 26853.6191 - val_mean_squared_logarithmic_error: 0.73827269.4302 - mean_squared_error: 7269.4302 - mean_s\n",
      "Epoch 89/100\n",
      "12250/12250 [==============================] - 13s 1ms/step - loss: 7099.2261 - mean_squared_error: 7099.2261 - mean_squared_logarithmic_error: 0.6572 - val_loss: 19209.5156 - val_mean_squared_error: 19209.5156 - val_mean_squared_logarithmic_error: 0.7960\n",
      "Epoch 90/100\n",
      "12250/12250 [==============================] - 13s 1ms/step - loss: 7354.7368 - mean_squared_error: 7354.7368 - mean_squared_logarithmic_error: 0.6496 - val_loss: 20587.9629 - val_mean_squared_error: 20587.9629 - val_mean_squared_logarithmic_error: 0.7319\n",
      "Epoch 91/100\n",
      "12250/12250 [==============================] - 13s 1ms/step - loss: 7126.9272 - mean_squared_error: 7126.9272 - mean_squared_logarithmic_error: 0.6473 - val_loss: 15695.2607 - val_mean_squared_error: 15695.2607 - val_mean_squared_logarithmic_error: 0.7312\n",
      "Epoch 92/100\n",
      "12250/12250 [==============================] - 13s 1ms/step - loss: 6973.1650 - mean_squared_error: 6973.1650 - mean_squared_logarithmic_error: 0.6450 - val_loss: 16567.1582 - val_mean_squared_error: 16567.1582 - val_mean_squared_logarithmic_error: 0.7694- mean_squared_logarithmic_error: 0.64\n",
      "Epoch 93/100\n",
      "12250/12250 [==============================] - 13s 1ms/step - loss: 7097.9570 - mean_squared_error: 7097.9570 - mean_squared_logarithmic_error: 0.6477 - val_loss: 17956.6855 - val_mean_squared_error: 17956.6855 - val_mean_squared_logarithmic_error: 0.7583\n",
      "Epoch 94/100\n",
      "12250/12250 [==============================] - 13s 1ms/step - loss: 6970.4307 - mean_squared_error: 6970.4307 - mean_squared_logarithmic_error: 0.6472 - val_loss: 17313.5879 - val_mean_squared_error: 17313.5879 - val_mean_squared_logarithmic_error: 0.7506\n",
      "Epoch 95/100\n",
      "12250/12250 [==============================] - 13s 1ms/step - loss: 6931.2949 - mean_squared_error: 6931.2949 - mean_squared_logarithmic_error: 0.6465 - val_loss: 31790.9922 - val_mean_squared_error: 31790.9922 - val_mean_squared_logarithmic_error: 0.7652\n",
      "Epoch 96/100\n",
      "12250/12250 [==============================] - 13s 1ms/step - loss: 6889.8140 - mean_squared_error: 6889.8140 - mean_squared_logarithmic_error: 0.6408 - val_loss: 21159.1992 - val_mean_squared_error: 21159.1992 - val_mean_squared_logarithmic_error: 0.7343\n",
      "Epoch 97/100\n",
      "12250/12250 [==============================] - 13s 1ms/step - loss: 6888.9927 - mean_squared_error: 6888.9927 - mean_squared_logarithmic_error: 0.6428 - val_loss: 24708.8574 - val_mean_squared_error: 24708.8574 - val_mean_squared_logarithmic_error: 0.760917 - me\n",
      "Epoch 98/100\n",
      "12250/12250 [==============================] - 13s 1ms/step - loss: 6849.8477 - mean_squared_error: 6849.8477 - mean_squared_logarithmic_error: 0.6369 - val_loss: 26324.6270 - val_mean_squared_error: 26324.6270 - val_mean_squared_logarithmic_error: 0.7397- loss: 7031.1797 - mean_squared_error: 7031.1797 - mean_squared_logarithmic_error: 0.63 - ETA: 3s - loss: 7092.4883 - mean_squared_error: 7092.4883 - mean_squared_logarithmic_error:  - ETA: 3s - loss: 6991.3789 - mean_squared_error - ETA: 0s - loss: 6983.0332 - mean_squared_error: 6983.0332 - mean_squared_logarithmi\n",
      "Epoch 99/100\n",
      "12250/12250 [==============================] - 13s 1ms/step - loss: 6776.5005 - mean_squared_error: 6776.5005 - mean_squared_logarithmic_error: 0.6320 - val_loss: 24374.9941 - val_mean_squared_error: 24374.9941 - val_mean_squared_logarithmic_error: 0.8170\n",
      "Epoch 100/100\n",
      "12250/12250 [==============================] - 13s 1ms/step - loss: 6778.5527 - mean_squared_error: 6778.5527 - mean_squared_logarithmic_error: 0.6402 - val_loss: 19052.1660 - val_mean_squared_error: 19052.1660 - val_mean_squared_logarithmic_error: 0.7462s: 6781.2627 - mean_squared_error: 6781.2627 - m - ETA: 4s - loss: 6832.3750 - mean_squared_e - ETA: 1s - loss: 6841.4580 - mean_squared_error: 6841.4580 - mean_squared_logarithmic_erro - ETA: 0s - loss: 6833.1660 - mean_squared_error: 6833.1660 - mean_squared_logar\n"
     ]
    }
   ],
   "source": [
    "history_train = model_train.fit(X_train_pca, y_train, batch_size=2, epochs=100, verbose=1, validation_split=0.3)"
   ]
  },
  {
   "cell_type": "code",
   "execution_count": null,
   "metadata": {},
   "outputs": [],
   "source": []
  },
  {
   "cell_type": "code",
   "execution_count": null,
   "metadata": {},
   "outputs": [],
   "source": []
  },
  {
   "cell_type": "code",
   "execution_count": null,
   "metadata": {},
   "outputs": [],
   "source": []
  },
  {
   "cell_type": "code",
   "execution_count": null,
   "metadata": {},
   "outputs": [],
   "source": []
  },
  {
   "cell_type": "code",
   "execution_count": null,
   "metadata": {},
   "outputs": [],
   "source": []
  },
  {
   "cell_type": "code",
   "execution_count": 91,
   "metadata": {
    "ExecuteTime": {
     "end_time": "2021-05-10T19:20:04.457314Z",
     "start_time": "2021-05-10T19:20:04.397782Z"
    }
   },
   "outputs": [],
   "source": [
    "input_layer = Input(shape=(X_train_pca.shape[1],))\n",
    "dense_layer_1 = Dense(100, activation='relu')(input_layer)\n",
    "dense_layer_2 = Dense(50, activation='relu')(dense_layer_1)\n",
    "dense_layer_3 = Dense(25, activation='relu')(dense_layer_2)\n",
    "output = Dense(1)(dense_layer_3)\n",
    "\n",
    "model = Model(inputs=input_layer, outputs=output)\n",
    "model.compile(loss=\"mean_squared_error\" , optimizer=\"adam\", metrics=[\"mean_squared_error\",\"mean_squared_logarithmic_error\",det_coeff])"
   ]
  },
  {
   "cell_type": "code",
   "execution_count": 92,
   "metadata": {
    "ExecuteTime": {
     "end_time": "2021-05-10T19:42:48.266939Z",
     "start_time": "2021-05-10T19:20:09.669230Z"
    },
    "collapsed": true
   },
   "outputs": [
    {
     "name": "stdout",
     "output_type": "stream",
     "text": [
      "Epoch 1/100\n",
      "12250/12250 [==============================] - 14s 1ms/step - loss: 27502.4492 - mean_squared_error: 27502.4492 - mean_squared_logarithmic_error: 1.2241 - det_coeff: -inf - val_loss: 25228.3965 - val_mean_squared_error: 25228.3965 - val_mean_squared_logarithmic_error: 0.9755 - val_det_coeff: -inf\n",
      "Epoch 2/100\n",
      "12250/12250 [==============================] - 14s 1ms/step - loss: 23168.6055 - mean_squared_error: 23168.6055 - mean_squared_logarithmic_error: 1.0271 - det_coeff: -inf - val_loss: 24931.4199 - val_mean_squared_error: 24931.4199 - val_mean_squared_logarithmic_error: 1.1732 - val_det_coeff: -infn_squared_error: 22650.7832 - mean_squared_logarithmic_error: 1.0234 - det_c - ETA: 3s - loss: 22628.4902 - mean_squared_error: 2\n",
      "Epoch 3/100\n",
      "12250/12250 [==============================] - 13s 1ms/step - loss: 21653.6055 - mean_squared_error: 21653.6055 - mean_squared_logarithmic_error: 0.9881 - det_coeff: -inf - val_loss: 22447.9824 - val_mean_squared_error: 22447.9824 - val_mean_squared_logarithmic_error: 1.1357 - val_det_coeff: -inf\n",
      "Epoch 4/100\n",
      "12250/12250 [==============================] - 13s 1ms/step - loss: 20732.7422 - mean_squared_error: 20732.7422 - mean_squared_logarithmic_error: 0.9645 - det_coeff: -inf - val_loss: 22273.5488 - val_mean_squared_error: 22273.5488 - val_mean_squared_logarithmic_error: 1.1145 - val_det_coeff: -inf\n",
      "Epoch 5/100\n",
      "12250/12250 [==============================] - 13s 1ms/step - loss: 20257.8281 - mean_squared_error: 20257.8281 - mean_squared_logarithmic_error: 0.9410 - det_coeff: -inf - val_loss: 22732.7266 - val_mean_squared_error: 22732.7266 - val_mean_squared_logarithmic_error: 0.8842 - val_det_coeff: -inf\n",
      "Epoch 6/100\n",
      "12250/12250 [==============================] - 14s 1ms/step - loss: 19489.2051 - mean_squared_error: 19489.2051 - mean_squared_logarithmic_error: 0.9200 - det_coeff: -inf - val_loss: 20481.5527 - val_mean_squared_error: 20481.5527 - val_mean_squared_logarithmic_error: 1.0290 - val_det_coeff: -infloss: 19313.5215 - mean_squared_error: 19313.5215 - mean_squared_logarithmic_error: 0.8959 - det_coe - ETA: 6s - loss: 19245.2598 - mean_squared_error: 19245.2598 - mean_squared_logarithmic_e - ETA: 4s - loss: 18830.4395 - mean_squared_error: 18830.4395 - mean_squared_logarithmic - ETA: 3s - loss: 19152.1680 - mean_squared_error: 19152.1680 - mean_squared_loga - ETA: 1s - loss: 19111.3945 - mean_squared_error: 19111.3945 - mean_squared_logarithmic_error: 0. - ETA: 0s - loss: 19481.2285 - mean_squared_error: 19481.2285 - mean_squared_logarithmic_error: 0.9197 - det_coeff: -in\n",
      "Epoch 7/100\n",
      "12250/12250 [==============================] - 13s 1ms/step - loss: 18924.6309 - mean_squared_error: 18924.6309 - mean_squared_logarithmic_error: 0.9216 - det_coeff: -inf - val_loss: 20580.3125 - val_mean_squared_error: 20580.3125 - val_mean_squared_logarithmic_error: 0.9293 - val_det_coeff: -infss: 19170.1387 - mean_squared_error: 19170.1387 - mean_squared_logarithmic_error: 0.9276 - det_coef - ETA: 1s - loss: 18959.9609 - mean_squared_error: 18959.9609 - mean_squared_logarithmic_error: 0.9264 - de - ETA: 0s - loss: 19001.2734 - mean_squared_error: 19001.2734 - mean_squared_logarithmic_error: 0.9256 - det_coeff:  - ETA: 0s - loss: 18886.9980 - mean_squared_error: 18886.9980 - mean_squared_logarithmic_error: 0.9250 - det_coeff: - - ETA: 0s - loss: 18792.2559 - mean_squared_error: 18792.2559 - mean_squared_logarithmic_error: 0.9222 - det_coeff - ETA: 0s - loss: 18855.8965 - mean_squared_error: 18855.8965 - mean_squared_logarithmic_error: 0.9201 - det_coeff:\n",
      "Epoch 8/100\n",
      "12250/12250 [==============================] - 14s 1ms/step - loss: 18490.8379 - mean_squared_error: 18490.8379 - mean_squared_logarithmic_error: 0.8992 - det_coeff: -inf - val_loss: 21092.4824 - val_mean_squared_error: 21092.4824 - val_mean_squared_logarithmic_error: 1.0076 - val_det_coeff: -inf023 - mean_sq - ETA: 1s - loss: 18509.7207 - mean_squared_error: 18509.7207 - mean_squared_logar\n",
      "Epoch 9/100\n",
      "12250/12250 [==============================] - 14s 1ms/step - loss: 18131.6758 - mean_squared_error: 18131.6758 - mean_squared_logarithmic_error: 0.8918 - det_coeff: -inf - val_loss: 18996.1172 - val_mean_squared_error: 18996.1172 - val_mean_squared_logarithmic_error: 0.9336 - val_det_coeff: -inf\n",
      "Epoch 10/100\n",
      "12250/12250 [==============================] - 13s 1ms/step - loss: 17704.5137 - mean_squared_error: 17704.5137 - mean_squared_logarithmic_error: 0.8714 - det_coeff: -inf - val_loss: 20731.7969 - val_mean_squared_error: 20731.7969 - val_mean_squared_logarithmic_error: 1.1087 - val_det_coeff: -infsquared_error: 17962.3477 - mean_squared_logarithmic_error: 0.8668 - det_coeff: -i - ETA: 2s - loss: 18056.7285 - mean_squared_error: 18056.7285 - mean_squared_logarithmic_error: 0. - ETA: 0s - loss: 17948.0156 - mean_squared_error: 17948.0156 - mean_squared_logarithmic_error: 0.8699 - det_coeff: - ETA: 0s - loss: 17829.6719 - mean_squared_error: 17829.6719 - mean_squared_logarithmic_error: 0.8691 - de\n",
      "Epoch 11/100\n",
      "12250/12250 [==============================] - 14s 1ms/step - loss: 17624.5039 - mean_squared_error: 17624.5039 - mean_squared_logarithmic_error: 0.8629 - det_coeff: -inf - val_loss: 18923.8086 - val_mean_squared_error: 18923.8086 - val_mean_squared_logarithmic_error: 0.8354 - val_det_coeff: -infsquared_error: 17560.2539 - mean_squared_logarithmic_error: 0.8576 - det_coeff: - - ETA: 1s - loss: 17745.0371 - mean_squared_error: 17745.0371 - mean_squared_logarithmic_error: 0.8607 - det_coeff: - ETA: 0s - loss: 17973.9141 - mean_squared_error: 17973.9141 - mean_squared_logarithmic_error: 0.863\n",
      "Epoch 12/100\n",
      "12250/12250 [==============================] - 14s 1ms/step - loss: 17042.7656 - mean_squared_error: 17042.7656 - mean_squared_logarithmic_error: 0.8509 - det_coeff: -inf - val_loss: 18518.2773 - val_mean_squared_error: 18518.2773 - val_mean_squared_logarithmic_error: 0.8770 - val_det_coeff: -infquared_error: 17504.5195 - mean_squared_logarithmic_error: 0.8513 - ETA: 5s - loss: 17349.1484 - mean_squared_error: 17349.1484 - mean_squared_l - ETA: 3s - loss: 16788.6719 - mean_squared_error: 16788.6719 - mean_squared_logarithmic_error: 0.8498 - d - ETA: 2s - loss: 16917.2520 - mean_squared_error: 16917.2520 - mean_squa\n",
      "Epoch 13/100\n",
      "12250/12250 [==============================] - 14s 1ms/step - loss: 16884.4707 - mean_squared_error: 16884.4707 - mean_squared_logarithmic_error: 0.8426 - det_coeff: -inf - val_loss: 19154.5000 - val_mean_squared_error: 19154.5000 - val_mean_squared_logarithmic_error: 0.8066 - val_det_coeff: -infETA: 1s - loss: 16707.8008 - mean_squared_error: 16707.8008 - mean_squared_logarithmic_error: - ETA: 0s - loss: 16901.0098 - mean_squared_error: 16901.0098 - mean_squared_logarithmic_error: 0.8415 - det_coeff: -i\n",
      "Epoch 14/100\n",
      "12250/12250 [==============================] - 13s 1ms/step - loss: 16679.7344 - mean_squared_error: 16679.7344 - mean_squared_logarithmic_error: 0.8315 - det_coeff: -inf - val_loss: 17984.8359 - val_mean_squared_error: 17984.8359 - val_mean_squared_logarithmic_error: 0.7637 - val_det_coeff: -infred_error: 16758.8008 -  - ETA: 0s - loss: 16770.7500 - mean_squared_error: 16770.7500 - mean_squared_logarithmic_error: 0.8323 - det_\n",
      "Epoch 15/100\n",
      "12250/12250 [==============================] - 14s 1ms/step - loss: 16462.9766 - mean_squared_error: 16462.9766 - mean_squared_logarithmic_error: 0.8283 - det_coeff: -inf - val_loss: 17721.0469 - val_mean_squared_error: 17721.0469 - val_mean_squared_logarithmic_error: 1.0161 - val_det_coeff: -inf\n",
      "Epoch 16/100\n",
      "12250/12250 [==============================] - 13s 1ms/step - loss: 16329.8203 - mean_squared_error: 16329.8203 - mean_squared_logarithmic_error: 0.8316 - det_coeff: -inf - val_loss: 17391.5215 - val_mean_squared_error: 17391.5215 - val_mean_squared_logarithmic_error: 0.8624 - val_det_coeff: -inf mean_squared_error: 16798.3809 - mean_squared_logarithmic_error: 0.8540 - det_co - ETA: 8s - loss: 15947.4736 - mean_squared_error: 15947.4736  - ETA: 5s - loss: 16672.9746 - mean_squared_error: 16672.9746 - mean_squared_logarithmic_error: 0.8261 - det_coef - ETA: 4s - loss: 16593.8066 - mean_squared_error: 16593.8066 - mean_squared_logarithmic - ETA: 2s - loss: 16442.7324 - mean_squared_error: 16442.7324 - m\n",
      "Epoch 17/100\n",
      "12250/12250 [==============================] - 13s 1ms/step - loss: 15682.1094 - mean_squared_error: 15682.1094 - mean_squared_logarithmic_error: 0.8192 - det_coeff: -inf - val_loss: 16820.3477 - val_mean_squared_error: 16820.3477 - val_mean_squared_logarithmic_error: 0.8263 - val_det_coeff: -inf.2607 - mean_squ - ETA: 2s - loss: 16075.3301 - mean_squared_error: 16075.3301\n",
      "Epoch 18/100\n",
      "12250/12250 [==============================] - 13s 1ms/step - loss: 15948.5361 - mean_squared_error: 15948.5361 - mean_squared_logarithmic_error: 0.8214 - det_coeff: -inf - val_loss: 17265.6953 - val_mean_squared_error: 17265.6953 - val_mean_squared_logarithmic_error: 0.8601 - val_det_coeff: -infoss: 16248.5527 - mean_squared_error: 16248.5527 - mean_squared_logarithmic_ - ETA: 5s - loss: 15932.3936 - mean_squared_error: 15932.3936 - mean_squared_logarithmic_error: 0.8291 - det_co - ETA: 5s - loss: 16023.9424 - mean_squared_error: 16023.9424 - mean_squared_logarithmic_error: 0.8274 - det_coeff: -i - ETA: 5s - \n",
      "Epoch 19/100\n",
      "12250/12250 [==============================] - 13s 1ms/step - loss: 15544.9395 - mean_squared_error: 15544.9395 - mean_squared_logarithmic_error: 0.8061 - det_coeff: -inf - val_loss: 17520.9531 - val_mean_squared_error: 17520.9531 - val_mean_squared_logarithmic_error: 0.9184 - val_det_coeff: -inf5104.7354 - mean_squared - ETA: 1s - loss: 15752.5400 - mean_squared_error: 15752.5400 - mean_squared_logarithmic_error: \n",
      "Epoch 20/100\n",
      "12250/12250 [==============================] - 14s 1ms/step - loss: 15304.5850 - mean_squared_error: 15304.5850 - mean_squared_logarithmic_error: 0.8106 - det_coeff: -inf - val_loss: 17545.3711 - val_mean_squared_error: 17545.3711 - val_mean_squared_logarithmic_error: 1.0540 - val_det_coeff: -inf_squared_logarithmic_error: 0.7951 - det_coeff: - ETA: 3s - loss: 14896.5850 - mean_squared_error: 14896.5850 - ETA: 0s - loss: 14909.0537 - mean_squared_error: 14909.0537 - mean_squared_logarithmic_error: 0.804\n",
      "Epoch 21/100\n",
      "12250/12250 [==============================] - 13s 1ms/step - loss: 15118.3291 - mean_squared_error: 15118.3291 - mean_squared_logarithmic_error: 0.8075 - det_coeff: -inf - val_loss: 16808.9043 - val_mean_squared_error: 16808.9043 - val_mean_squared_logarithmic_error: 0.9864 - val_det_coeff: -inf\n",
      "Epoch 22/100\n",
      "12250/12250 [==============================] - 13s 1ms/step - loss: 15010.0215 - mean_squared_error: 15010.0215 - mean_squared_logarithmic_error: 0.8006 - det_coeff: -inf - val_loss: 16347.0127 - val_mean_squared_error: 16347.0127 - val_mean_squared_logarithmic_error: 0.8461 - val_det_coeff: -inf656.2891 - mean_squared_logarithmic - ETA: 5s - loss: 1\n",
      "Epoch 23/100\n",
      "12250/12250 [==============================] - 12s 1ms/step - loss: 14688.3477 - mean_squared_error: 14688.3477 - mean_squared_logarithmic_error: 0.7938 - det_coeff: -inf - val_loss: 17766.3574 - val_mean_squared_error: 17766.3574 - val_mean_squared_logarithmic_error: 0.8179 - val_det_coeff: -infrror: 14479.2051 - mean_squared_logarithmic_error: 0.7938 - \n",
      "Epoch 24/100\n",
      "12250/12250 [==============================] - 14s 1ms/step - loss: 14472.7656 - mean_squared_error: 14472.7656 - mean_squared_logarithmic_error: 0.7825 - det_coeff: -inf - val_loss: 16781.3184 - val_mean_squared_error: 16781.3184 - val_mean_squared_logarithmic_error: 0.8077 - val_det_coeff: -inf80.1924\n",
      "Epoch 25/100\n",
      "12250/12250 [==============================] - 14s 1ms/step - loss: 14477.1162 - mean_squared_error: 14477.1162 - mean_squared_logarithmic_error: 0.7828 - det_coeff: -inf - val_loss: 16238.1533 - val_mean_squared_error: 16238.1533 - val_mean_squared_logarithmic_error: 0.8128 - val_det_coeff: -inf\n",
      "Epoch 26/100\n",
      "12250/12250 [==============================] - 14s 1ms/step - loss: 14252.3027 - mean_squared_error: 14252.3027 - mean_squared_logarithmic_error: 0.7905 - det_coeff: -inf - val_loss: 16083.0869 - val_mean_squared_error: 16083.0869 - val_mean_squared_logarithmic_error: 0.8429 - val_det_coeff: -infn_squared_error: 1470\n",
      "Epoch 27/100\n",
      "12250/12250 [==============================] - 14s 1ms/step - loss: 13803.9590 - mean_squared_error: 13803.9590 - mean_squared_logarithmic_error: 0.7733 - det_coeff: -inf - val_loss: 18212.3320 - val_mean_squared_error: 18212.3320 - val_mean_squared_logarithmic_error: 1.0120 - val_det_coeff: -inf_squared_error: 13352.1221 - mean_squared_logarithmic_error: 0.7719 - det_coeff: - ETA: 3s - loss: 13420.5752 - mean_squared_error\n",
      "Epoch 28/100\n",
      "12250/12250 [==============================] - 13s 1ms/step - loss: 13745.7607 - mean_squared_error: 13745.7607 - mean_squared_logarithmic_error: 0.7856 - det_coeff: -inf - val_loss: 16963.2598 - val_mean_squared_error: 16963.2598 - val_mean_squared_logarithmic_error: 0.9141 - val_det_coeff: -inf: 13893.4189 - mean_squared_error: 13893.4189 - mean_squared_logarithmic_error: 0.7\n",
      "Epoch 29/100\n",
      "12250/12250 [==============================] - 14s 1ms/step - loss: 13469.5801 - mean_squared_error: 13469.5801 - mean_squared_logarithmic_error: 0.7718 - det_coeff: -inf - val_loss: 16738.9980 - val_mean_squared_error: 16738.9980 - val_mean_squared_logarithmic_error: 0.8905 - val_det_coeff: -inf6 - mean_squared_logarithmic_error: 0.7716 - det_coeff - ETA: 6s - loss: 12617.4023 - mean_squ - ETA: 2s - loss: 13630.0322 - mean_squared_error: 13630.0322 - mean_squared_logarithmic_error: 0.7738 - det_coeff:  - ETA: 2s - loss: 13602.2061 - mean_squared_error: 13602.2061 - mean_squared_logarithmic_error: 0.7725 - det_co - ETA: 1s - loss: 13368.8672 - mean_squared_error: 13368.8672 - mean_squared_logarit\n",
      "Epoch 30/100\n",
      "12250/12250 [==============================] - 14s 1ms/step - loss: 13484.0449 - mean_squared_error: 13484.0449 - mean_squared_logarithmic_error: 0.7792 - det_coeff: -inf - val_loss: 15721.9248 - val_mean_squared_error: 15721.9248 - val_mean_squared_logarithmic_error: 0.8149 - val_det_coeff: -inf_squared_error: 13423.6045 - mean_squared_l - ETA: 5s - loss: 13121.8105 - mean_squared_error: 13121.8105 - mean_squared_logarithmic_er - ETA: 3s - loss: 13270.7939 - mean_squared_error: 13270.7939 - mean_squared_logarithmic_e - ETA: 2s - loss: 13418.4004 - mean_squared_error: 13418.4004 - mean_squared_logarithmic_erro - ETA: 1s - loss: 13591.0771 - mean_squared_error: 13591.0771 - mean_squared_logarithmic_error: 0.7\n",
      "Epoch 31/100\n",
      "12250/12250 [==============================] - 13s 1ms/step - loss: 13312.4189 - mean_squared_error: 13312.4189 - mean_squared_logarithmic_error: 0.7686 - det_coeff: -inf - val_loss: 15679.4678 - val_mean_squared_error: 15679.4678 - val_mean_squared_logarithmic_error: 0.7931 - val_det_coeff: -inf\n",
      "Epoch 32/100\n",
      "12250/12250 [==============================] - 14s 1ms/step - loss: 13118.9668 - mean_squared_error: 13118.9668 - mean_squared_logarithmic_error: 0.7731 - det_coeff: -inf - val_loss: 17877.8496 - val_mean_squared_error: 17877.8496 - val_mean_squared_logarithmic_error: 0.9701 - val_det_coeff: -infquared_error: 13322.0537 - mean_squared_logarithmic_error: 0.7650 - det_c - ETA: 3s - loss: 13343.4570 - mean_squared_error: 13343.4570 - mean_squared_logarithmic_error: 0.7715 - det_coeff: - ETA: 3s - loss: 13196.0889 - mean_squared_error: 13196.\n",
      "Epoch 33/100\n"
     ]
    },
    {
     "name": "stdout",
     "output_type": "stream",
     "text": [
      "12250/12250 [==============================] - 14s 1ms/step - loss: 12940.5039 - mean_squared_error: 12940.5039 - mean_squared_logarithmic_error: 0.7619 - det_coeff: -inf - val_loss: 16808.1348 - val_mean_squared_error: 16808.1348 - val_mean_squared_logarithmic_error: 0.8210 - val_det_coeff: -inf\n",
      "Epoch 34/100\n",
      "12250/12250 [==============================] - 14s 1ms/step - loss: 12568.7129 - mean_squared_error: 12568.7129 - mean_squared_logarithmic_error: 0.7597 - det_coeff: -inf - val_loss: 15230.9590 - val_mean_squared_error: 15230.9590 - val_mean_squared_logarithmic_error: 0.8207 - val_det_coeff: -infr: 12721.4277 - mean_squared_logarithmic_error: 0.7 - ETA: 2s - loss: 12274.6953 - mean_squared_error: 12274.6953 - mean_squared_logarithmic_error: 0.7621 - det_coe - ETA: 2s - loss: 12402.8125 - mean_squared_error: 12402.8125 - mean_squared_\n",
      "Epoch 35/100\n",
      "12250/12250 [==============================] - 13s 1ms/step - loss: 12562.4775 - mean_squared_error: 12562.4775 - mean_squared_logarithmic_error: 0.7620 - det_coeff: -inf - val_loss: 14392.3203 - val_mean_squared_error: 14392.3203 - val_mean_squared_logarithmic_error: 0.8078 - val_det_coeff: -inf\n",
      "Epoch 36/100\n",
      "12250/12250 [==============================] - 14s 1ms/step - loss: 12418.1484 - mean_squared_error: 12418.1484 - mean_squared_logarithmic_error: 0.7510 - det_coeff: -inf - val_loss: 14120.7207 - val_mean_squared_error: 14120.7207 - val_mean_squared_logarithmic_error: 0.8669 - val_det_coeff: -inf\n",
      "Epoch 37/100\n",
      "12250/12250 [==============================] - 14s 1ms/step - loss: 12177.0869 - mean_squared_error: 12177.0869 - mean_squared_logarithmic_error: 0.7671 - det_coeff: -inf - val_loss: 15172.0703 - val_mean_squared_error: 15172.0703 - val_mean_squared_logarithmic_error: 0.7707 - val_det_coeff: -infared_logarithmic_error: 0.7693 - det_co - ETA: 7s - loss: 11646.5820 - ETA: 2s - loss: 12408.3779 - mean_squared_error: 12408.3779 - mean_squa - ETA: 0s - loss: 12200.0420 - mean_squared_error: 12200.0420 - mean_squared_logarithmic_error: 0.7677 - det_coeff: -\n",
      "Epoch 38/100\n",
      "12250/12250 [==============================] - 14s 1ms/step - loss: 11941.8164 - mean_squared_error: 11941.8164 - mean_squared_logarithmic_error: 0.7485 - det_coeff: -inf - val_loss: 14693.2969 - val_mean_squared_error: 14693.2969 - val_mean_squared_logarithmic_error: 0.7858 - val_det_coeff: -infA: 4s - loss: 11912.7832 - mean_squa\n",
      "Epoch 39/100\n",
      "12250/12250 [==============================] - 14s 1ms/step - loss: 11925.2031 - mean_squared_error: 11925.2031 - mean_squared_logarithmic_error: 0.7522 - det_coeff: -inf - val_loss: 14899.6084 - val_mean_squared_error: 14899.6084 - val_mean_squared_logarithmic_error: 0.7709 - val_det_coeff: -inf01.4434 - mean_squ\n",
      "Epoch 40/100\n",
      "12250/12250 [==============================] - 13s 1ms/step - loss: 11677.3965 - mean_squared_error: 11677.3965 - mean_squared_logarithmic_error: 0.7396 - det_coeff: -inf - val_loss: 15724.3506 - val_mean_squared_error: 15724.3506 - val_mean_squared_logarithmic_error: 0.9254 - val_det_coeff: -inf\n",
      "Epoch 41/100\n",
      "12250/12250 [==============================] - 14s 1ms/step - loss: 11645.2373 - mean_squared_error: 11645.2373 - mean_squared_logarithmic_error: 0.7398 - det_coeff: -inf - val_loss: 14544.7715 - val_mean_squared_error: 14544.7715 - val_mean_squared_logarithmic_error: 0.8295 - val_det_coeff: -inf\n",
      "Epoch 42/100\n",
      "12250/12250 [==============================] - 13s 1ms/step - loss: 11322.1748 - mean_squared_error: 11322.1748 - mean_squared_logarithmic_error: 0.7473 - det_coeff: -inf - val_loss: 15496.0107 - val_mean_squared_error: 15496.0107 - val_mean_squared_logarithmic_error: 0.8097 - val_det_coeff: -inf\n",
      "Epoch 43/100\n",
      "12250/12250 [==============================] - 13s 1ms/step - loss: 11289.7373 - mean_squared_error: 11289.7373 - mean_squared_logarithmic_error: 0.7423 - det_coeff: -inf - val_loss: 14979.8018 - val_mean_squared_error: 14979.8018 - val_mean_squared_logarithmic_error: 0.8392 - val_det_coeff: -inf\n",
      "Epoch 44/100\n",
      "12250/12250 [==============================] - 14s 1ms/step - loss: 11165.1504 - mean_squared_error: 11165.1504 - mean_squared_logarithmic_error: 0.7369 - det_coeff: -inf - val_loss: 14669.8008 - val_mean_squared_error: 14669.8008 - val_mean_squared_logarithmic_error: 0.7724 - val_det_coeff: -inf\n",
      "Epoch 45/100\n",
      "12250/12250 [==============================] - 13s 1ms/step - loss: 11148.7910 - mean_squared_error: 11148.7910 - mean_squared_logarithmic_error: 0.7380 - det_coeff: -inf - val_loss: 14110.4346 - val_mean_squared_error: 14110.4346 - val_mean_squared_logarithmic_error: 0.8306 - val_det_coeff: -inf\n",
      "Epoch 46/100\n",
      "12250/12250 [==============================] - 13s 1ms/step - loss: 10938.3828 - mean_squared_error: 10938.3828 - mean_squared_logarithmic_error: 0.7316 - det_coeff: -inf - val_loss: 13844.6768 - val_mean_squared_error: 13844.6768 - val_mean_squared_logarithmic_error: 0.7954 - val_det_coeff: -inf\n",
      "Epoch 47/100\n",
      "12250/12250 [==============================] - 13s 1ms/step - loss: 10606.5137 - mean_squared_error: 10606.5137 - mean_squared_logarithmic_error: 0.7221 - det_coeff: -inf - val_loss: 16168.8779 - val_mean_squared_error: 16168.8779 - val_mean_squared_logarithmic_error: 0.8213 - val_det_coeff: -inf\n",
      "Epoch 48/100\n",
      "12250/12250 [==============================] - 13s 1ms/step - loss: 10555.4189 - mean_squared_error: 10555.4189 - mean_squared_logarithmic_error: 0.7226 - det_coeff: -inf - val_loss: 14004.8945 - val_mean_squared_error: 14004.8945 - val_mean_squared_logarithmic_error: 0.7421 - val_det_coeff: -inf\n",
      "Epoch 49/100\n",
      "12250/12250 [==============================] - 13s 1ms/step - loss: 10457.1240 - mean_squared_error: 10457.1240 - mean_squared_logarithmic_error: 0.7284 - det_coeff: -inf - val_loss: 15569.9141 - val_mean_squared_error: 15569.9141 - val_mean_squared_logarithmic_error: 0.8653 - val_det_coeff: -infror: 10132.1465 - mean_squared_logarithmic_error: 0.704 - ETA:\n",
      "Epoch 50/100\n",
      "12250/12250 [==============================] - 14s 1ms/step - loss: 10244.0752 - mean_squared_error: 10244.0752 - mean_squared_logarithmic_error: 0.7163 - det_coeff: -inf - val_loss: 14942.9961 - val_mean_squared_error: 14942.9961 - val_mean_squared_logarithmic_error: 0.7928 - val_det_coeff: -inf mean_squared_logarithmic_error: 0.7015 - det_coeff: - ETA: 3s - loss: 9876.6846 - mean_squared_error: 9876.6846 - mean_squared_logarithmic_error: 0.7021 - det_coeff:  - ETA: 2s - loss: 9935.3701 - mean_squared_error: 9935.3701 -\n",
      "Epoch 51/100\n",
      "12250/12250 [==============================] - 14s 1ms/step - loss: 10388.6631 - mean_squared_error: 10388.6631 - mean_squared_logarithmic_error: 0.7275 - det_coeff: -inf - val_loss: 14086.8711 - val_mean_squared_error: 14086.8711 - val_mean_squared_logarithmic_error: 0.8597 - val_det_coeff: -inf\n",
      "Epoch 52/100\n",
      "12250/12250 [==============================] - 13s 1ms/step - loss: 10262.5635 - mean_squared_error: 10262.5635 - mean_squared_logarithmic_error: 0.7208 - det_coeff: -inf - val_loss: 14675.6191 - val_mean_squared_error: 14675.6191 - val_mean_squared_logarithmic_error: 0.7461 - val_det_coeff: -inf\n",
      "Epoch 53/100\n",
      "12250/12250 [==============================] - 13s 1ms/step - loss: 10264.8809 - mean_squared_error: 10264.8809 - mean_squared_logarithmic_error: 0.7086 - det_coeff: -inf - val_loss: 14411.1631 - val_mean_squared_error: 14411.1631 - val_mean_squared_logarithmic_error: 0.7821 - val_det_coeff: -inf\n",
      "Epoch 54/100\n",
      "12250/12250 [==============================] - 13s 1ms/step - loss: 10041.9941 - mean_squared_error: 10041.9941 - mean_squared_logarithmic_error: 0.6973 - det_coeff: -inf - val_loss: 15113.4658 - val_mean_squared_error: 15113.4658 - val_mean_squared_logarithmic_error: 0.7725 - val_det_coeff: -inf\n",
      "Epoch 55/100\n",
      "12250/12250 [==============================] - 14s 1ms/step - loss: 9815.1094 - mean_squared_error: 9815.1094 - mean_squared_logarithmic_error: 0.7084 - det_coeff: -inf - val_loss: 13883.5518 - val_mean_squared_error: 13883.5518 - val_mean_squared_logarithmic_error: 0.7527 - val_det_coeff: -inf\n",
      "Epoch 56/100\n",
      "12250/12250 [==============================] - 14s 1ms/step - loss: 9792.1670 - mean_squared_error: 9792.1670 - mean_squared_logarithmic_error: 0.6971 - det_coeff: -inf - val_loss: 15096.0840 - val_mean_squared_error: 15096.0840 - val_mean_squared_logarithmic_error: 0.8600 - val_det_coeff: -inf\n"
     ]
    },
    {
     "name": "stdout",
     "output_type": "stream",
     "text": [
      "Epoch 57/100\n",
      "12250/12250 [==============================] - 14s 1ms/step - loss: 9886.0420 - mean_squared_error: 9886.0420 - mean_squared_logarithmic_error: 0.6970 - det_coeff: -inf - val_loss: 14483.3555 - val_mean_squared_error: 14483.3555 - val_mean_squared_logarithmic_error: 0.8303 - val_det_coeff: -inf\n",
      "Epoch 58/100\n",
      "12250/12250 [==============================] - 14s 1ms/step - loss: 9623.2539 - mean_squared_error: 9623.2539 - mean_squared_logarithmic_error: 0.7022 - det_coeff: -inf - val_loss: 13866.3516 - val_mean_squared_error: 13866.3516 - val_mean_squared_logarithmic_error: 0.7694 - val_det_coeff: -inf\n",
      "Epoch 59/100\n",
      "12250/12250 [==============================] - 13s 1ms/step - loss: 9467.2676 - mean_squared_error: 9467.2676 - mean_squared_logarithmic_error: 0.6957 - det_coeff: -inf - val_loss: 14260.2363 - val_mean_squared_error: 14260.2363 - val_mean_squared_logarithmic_error: 0.7792 - val_det_coeff: -inf\n",
      "Epoch 60/100\n",
      "12250/12250 [==============================] - 13s 1ms/step - loss: 9474.6543 - mean_squared_error: 9474.6543 - mean_squared_logarithmic_error: 0.6905 - det_coeff: -inf - val_loss: 13717.5469 - val_mean_squared_error: 13717.5469 - val_mean_squared_logarithmic_error: 0.7281 - val_det_coeff: -inf\n",
      "Epoch 61/100\n",
      "12250/12250 [==============================] - 13s 1ms/step - loss: 9254.5186 - mean_squared_error: 9254.5186 - mean_squared_logarithmic_error: 0.7023 - det_coeff: -inf - val_loss: 13927.9883 - val_mean_squared_error: 13927.9883 - val_mean_squared_logarithmic_error: 0.7768 - val_det_coeff: -inf\n",
      "Epoch 62/100\n",
      "12250/12250 [==============================] - 14s 1ms/step - loss: 9296.4473 - mean_squared_error: 9296.4473 - mean_squared_logarithmic_error: 0.6936 - det_coeff: -inf - val_loss: 13680.6982 - val_mean_squared_error: 13680.6982 - val_mean_squared_logarithmic_error: 0.7408 - val_det_coeff: -infTA: 4s - loss: 8830.\n",
      "Epoch 63/100\n",
      "12250/12250 [==============================] - 13s 1ms/step - loss: 9311.2480 - mean_squared_error: 9311.2480 - mean_squared_logarithmic_error: 0.7013 - det_coeff: -inf - val_loss: 13563.3447 - val_mean_squared_error: 13563.3447 - val_mean_squared_logarithmic_error: 0.7477 - val_det_coeff: -infss: 8956.4189 - mean_squared_error: 8956.4189 - mean_squared_logarithmic_error:  - ETA: 3s - loss: 9059.2197 - mean_squared_error: 9059.2197 - mean_squared_logarithmic_error: 0.7037 - det_coeff: -in - ETA: 3s - loss: 9037.9727 - mean_squared_error: 903\n",
      "Epoch 64/100\n",
      "12250/12250 [==============================] - 13s 1ms/step - loss: 9210.5342 - mean_squared_error: 9210.5342 - mean_squared_logarithmic_error: 0.6878 - det_coeff: -inf - val_loss: 14102.5781 - val_mean_squared_error: 14102.5781 - val_mean_squared_logarithmic_error: 0.7265 - val_det_coeff: -inf\n",
      "Epoch 65/100\n",
      "12250/12250 [==============================] - 13s 1ms/step - loss: 9184.7695 - mean_squared_error: 9184.7695 - mean_squared_logarithmic_error: 0.6942 - det_coeff: -inf - val_loss: 13829.2021 - val_mean_squared_error: 13829.2021 - val_mean_squared_logarithmic_error: 0.7872 - val_det_coeff: -inf\n",
      "Epoch 66/100\n",
      "12250/12250 [==============================] - 14s 1ms/step - loss: 8938.2188 - mean_squared_error: 8938.2188 - mean_squared_logarithmic_error: 0.6877 - det_coeff: -inf - val_loss: 13522.3730 - val_mean_squared_error: 13522.3730 - val_mean_squared_logarithmic_error: 0.8291 - val_det_coeff: -inf\n",
      "Epoch 67/100\n",
      "12250/12250 [==============================] - 13s 1ms/step - loss: 8985.7051 - mean_squared_error: 8985.7051 - mean_squared_logarithmic_error: 0.6951 - det_coeff: -inf - val_loss: 14347.9570 - val_mean_squared_error: 14347.9570 - val_mean_squared_logarithmic_error: 0.7824 - val_det_coeff: -inf\n",
      "Epoch 68/100\n",
      "12250/12250 [==============================] - 14s 1ms/step - loss: 8815.6709 - mean_squared_error: 8815.6709 - mean_squared_logarithmic_error: 0.6819 - det_coeff: -inf - val_loss: 14006.9990 - val_mean_squared_error: 14006.9990 - val_mean_squared_logarithmic_error: 0.8299 - val_det_coeff: -infn_squared_logarithmic_erro\n",
      "Epoch 69/100\n",
      "12250/12250 [==============================] - 14s 1ms/step - loss: 8687.8945 - mean_squared_error: 8687.8945 - mean_squared_logarithmic_error: 0.6788 - det_coeff: -inf - val_loss: 14023.5371 - val_mean_squared_error: 14023.5371 - val_mean_squared_logarithmic_error: 0.7706 - val_det_coeff: -inf37.1270 - mean_squared_error: 8937.1270 - mean_squared - ETA: 5s - loss: 8794.7324 - mean_squared_error: 8794.7324 - mean_squared_logarithmic_erro - ETA: 3s - loss: 9086.8906 - mean_squared_error\n",
      "Epoch 70/100\n",
      "12250/12250 [==============================] - 13s 1ms/step - loss: 8733.2393 - mean_squared_error: 8733.2393 - mean_squared_logarithmic_error: 0.6829 - det_coeff: -inf - val_loss: 13349.2783 - val_mean_squared_error: 13349.2783 - val_mean_squared_logarithmic_error: 0.7846 - val_det_coeff: -infrror: 8717.3418 - mean_squared_logarithmic_error: 0.6831 - det_co\n",
      "Epoch 71/100\n",
      "12250/12250 [==============================] - 13s 1ms/step - loss: 8495.4082 - mean_squared_error: 8495.4082 - mean_squared_logarithmic_error: 0.6876 - det_coeff: -inf - val_loss: 13489.6230 - val_mean_squared_error: 13489.6230 - val_mean_squared_logarithmic_error: 0.7829 - val_det_coeff: -inf\n",
      "Epoch 72/100\n",
      "12250/12250 [==============================] - 14s 1ms/step - loss: 8525.2988 - mean_squared_error: 8525.2988 - mean_squared_logarithmic_error: 0.6815 - det_coeff: -inf - val_loss: 15325.9463 - val_mean_squared_error: 15325.9463 - val_mean_squared_logarithmic_error: 0.8171 - val_det_coeff: -infsquared_error: 8248.9238 - mean_squared_logar - ETA: 7s - loss: - ETA: 1s - loss: 8448.3750 - mean_squared_error: 8448.3750 - mean_squared_logarithmic_e\n",
      "Epoch 73/100\n",
      "12250/12250 [==============================] - 13s 1ms/step - loss: 8523.9971 - mean_squared_error: 8523.9971 - mean_squared_logarithmic_error: 0.6766 - det_coeff: -inf - val_loss: 14025.4502 - val_mean_squared_error: 14025.4502 - val_mean_squared_logarithmic_error: 0.7976 - val_det_coeff: -inf\n",
      "Epoch 74/100\n",
      "12250/12250 [==============================] - 13s 1ms/step - loss: 8309.5537 - mean_squared_error: 8309.5537 - mean_squared_logarithmic_error: 0.6790 - det_coeff: -inf - val_loss: 13704.9463 - val_mean_squared_error: 13704.9463 - val_mean_squared_logarithmic_error: 0.7035 - val_det_coeff: -inf\n",
      "Epoch 75/100\n",
      "12250/12250 [==============================] - 14s 1ms/step - loss: 8456.2471 - mean_squared_error: 8456.2471 - mean_squared_logarithmic_error: 0.6821 - det_coeff: -inf - val_loss: 13622.1475 - val_mean_squared_error: 13622.1475 - val_mean_squared_logarithmic_error: 0.7869 - val_det_coeff: -infrror: 8414.9893 - mean_squared_logarithmic_error: 0.6817 - det_coeff: -i\n",
      "Epoch 76/100\n",
      "12250/12250 [==============================] - 14s 1ms/step - loss: 8193.5303 - mean_squared_error: 8193.5303 - mean_squared_logarithmic_error: 0.6744 - det_coeff: -inf - val_loss: 13367.5811 - val_mean_squared_error: 13367.5811 - val_mean_squared_logarithmic_error: 0.8139 - val_det_coeff: -infarithmic_error: 0.6437 - det_c - ETA: 5s - loss: 7870.8389 - mean_squared_error: 7870.8389 - mean_squared_logarithmic_error: 0.6537 - det_ - ETA: 5s - loss: 7828.2744 - mean_squared_error: 7828.2744 - mean_squared_logarithmic_error - ETA: 3s - loss: 7944.2295 - mean_squared_error: 7944.2295 - mean_squared_logarithmic_error: 0.6593 - det_coeff:  - ETA: 3s - loss: 7911.8423 - mean_squared_error: 7911.8423 - mean_squared_logarithmic_error: 0.6 - ETA: 2s - loss: 8308.9590 - mean_squared_error: 8308.9590 - me\n",
      "Epoch 77/100\n",
      "12250/12250 [==============================] - 13s 1ms/step - loss: 8302.3965 - mean_squared_error: 8302.3965 - mean_squared_logarithmic_error: 0.6770 - det_coeff: -inf - val_loss: 13480.1816 - val_mean_squared_error: 13480.1816 - val_mean_squared_logarithmic_error: 0.7555 - val_det_coeff: -inf\n",
      "Epoch 78/100\n",
      "12250/12250 [==============================] - 14s 1ms/step - loss: 8112.9614 - mean_squared_error: 8112.9614 - mean_squared_logarithmic_error: 0.6742 - det_coeff: -inf - val_loss: 12715.9072 - val_mean_squared_error: 12715.9072 - val_mean_squared_logarithmic_error: 0.7344 - val_det_coeff: -inf 7667.3501 - mean_squared_logarithmic_e\n",
      "Epoch 79/100\n",
      "12250/12250 [==============================] - 15s 1ms/step - loss: 8111.2646 - mean_squared_error: 8111.2646 - mean_squared_logarithmic_error: 0.6693 - det_coeff: -inf - val_loss: 12848.8428 - val_mean_squared_error: 12848.8428 - val_mean_squared_logarithmic_error: 0.7628 - val_det_coeff: -infn_squared_error: 8095.2520 - mean_squared_logarithmic_error: 0.6694 - de\n",
      "Epoch 80/100\n",
      "12250/12250 [==============================] - 13s 1ms/step - loss: 8025.8755 - mean_squared_error: 8025.8755 - mean_squared_logarithmic_error: 0.6692 - det_coeff: -inf - val_loss: 13120.1143 - val_mean_squared_error: 13120.1143 - val_mean_squared_logarithmic_error: 0.7389 - val_det_coeff: -inf\n",
      "Epoch 81/100\n",
      "12250/12250 [==============================] - 13s 1ms/step - loss: 7819.9106 - mean_squared_error: 7819.9106 - mean_squared_logarithmic_error: 0.6669 - det_coeff: -inf - val_loss: 13228.3535 - val_mean_squared_error: 13228.3535 - val_mean_squared_logarithmic_error: 0.7515 - val_det_coeff: -infror: 7966.0132 - mean_squared_logarithm\n",
      "Epoch 82/100\n",
      "12250/12250 [==============================] - 13s 1ms/step - loss: 7832.1284 - mean_squared_error: 7832.1284 - mean_squared_logarithmic_error: 0.6744 - det_coeff: -inf - val_loss: 13936.9873 - val_mean_squared_error: 13936.9873 - val_mean_squared_logarithmic_error: 0.7504 - val_det_coeff: -inf3 - det - ETA: 5s - \n",
      "Epoch 83/100\n",
      "12250/12250 [==============================] - 13s 1ms/step - loss: 7914.9004 - mean_squared_error: 7914.9004 - mean_squared_logarithmic_error: 0.6705 - det_coeff: -inf - val_loss: 13037.3223 - val_mean_squared_error: 13037.3223 - val_mean_squared_logarithmic_error: 0.7300 - val_det_coeff: -inf\n",
      "Epoch 84/100\n",
      "12250/12250 [==============================] - 14s 1ms/step - loss: 7729.0259 - mean_squared_error: 7729.0259 - mean_squared_logarithmic_error: 0.6614 - det_coeff: -inf - val_loss: 13286.1396 - val_mean_squared_error: 13286.1396 - val_mean_squared_logarithmic_error: 0.8279 - val_det_coeff: -inf637.6401 - mean_squared_logarithmic_error: 0. - ETA: 3s - loss: 7571.4121 - mean_squared_error: 7571.4121 - mean_squa - ETA: 1s - loss: 7484.7256 - mean_squared_error: 7484.7256 - mean_squared_logarithmic_error: 0.6556 - de - ETA: 0s - loss: 7550.0679 - mean_squared_error: 7550.0679 - mean_squared_logarithmic_error: 0.658\n",
      "Epoch 85/100\n",
      "12250/12250 [==============================] - 14s 1ms/step - loss: 7657.8999 - mean_squared_error: 7657.8999 - mean_squared_logarithmic_error: 0.6689 - det_coeff: -inf - val_loss: 13601.1836 - val_mean_squared_error: 13601.1836 - val_mean_squared_logarithmic_error: 0.7858 - val_det_coeff: -inf - mean_squared_e - ETA: 5s - loss: 6667.7212 - mean_squared_error: 6667.7212 - mean_squared_logarithmi - ETA: 4s - loss: 7223.3452 - mean_s\n",
      "Epoch 86/100\n",
      "12250/12250 [==============================] - 14s 1ms/step - loss: 7599.2510 - mean_squared_error: 7599.2510 - mean_squared_logarithmic_error: 0.6687 - det_coeff: -inf - val_loss: 12738.5186 - val_mean_squared_error: 12738.5186 - val_mean_squared_logarithmic_error: 0.7536 - val_det_coeff: -inf\n",
      "Epoch 87/100\n",
      "12250/12250 [==============================] - 14s 1ms/step - loss: 7532.3691 - mean_squared_error: 7532.3691 - mean_squared_logarithmic_error: 0.6602 - det_coeff: -inf - val_loss: 12927.9102 - val_mean_squared_error: 12927.9102 - val_mean_squared_logarithmic_error: 0.7926 - val_det_coeff: -inf628.2637 - mean_squared_error: 7628.2637 - mean_squared_logarithmic_error: 0.6664 - de - ETA: 1s - loss: 7562.6836 - mean_squared_error: 7562.6836 - mean_squared_logarithmic_error: 0.6651 - det_coe - ETA: 1s - loss: 7484.1509 - mean_squared_error: 7484.1509 - mean_squared_logarit\n",
      "Epoch 88/100\n",
      "12250/12250 [==============================] - 15s 1ms/step - loss: 7538.5098 - mean_squared_error: 7538.5098 - mean_squared_logarithmic_error: 0.6635 - det_coeff: -inf - val_loss: 13291.0869 - val_mean_squared_error: 13291.0869 - val_mean_squared_logarithmic_error: 0.7841 - val_det_coeff: -inf 675 - ETA: 8s - loss: 7449.9375 - mean_squared_error: 7449.9375 - mean_squared_logarithmic_error: 0 - ETA: 7s - loss: 7428.9570 - mean_squared_error: 7428.9570 - mean_squar - ETA: 5s - loss: 7299.0928 - mean_squared_error: 7299.0928 - mean_squared_logarithmic_ - ETA: 3s - loss: 7372.6904 - mean_squared_error: 7372.6904 - mean_squared_logarithmic_error: 0.6568 - det_coeff: - - ETA: 3s - loss: 7395.6411 - mean_squared_error: 7395.6411 - mean_squared_logarithmic_error: 0. - ETA: 2s - loss: 7410.6504 - mean_squared_error: 7410.6504 - mean_squared_logarithmic_error: 0.658 - ETA: 1s - loss: 7514.8384 - mean_squared_error: 7514.8384 - mean_squared_logarithmic_error: 0.6600 - det_coeff: - - ETA: 1s - loss: 7487.4189 - mean_squared_error: 7487.4189 - mean_squared_logarithmic_error: 0.6609 - det_coeff: - - ETA: 1s - loss: 7466.7432 - mean_squared_error: 7466.7432 - mean_squared_logarithmic_error: 0.6\n",
      "Epoch 89/100\n",
      "12250/12250 [==============================] - 15s 1ms/step - loss: 7386.6099 - mean_squared_error: 7386.6099 - mean_squared_logarithmic_error: 0.6528 - det_coeff: -inf - val_loss: 14099.1768 - val_mean_squared_error: 14099.1768 - val_mean_squared_logarithmic_error: 0.7543 - val_det_coeff: -inf mean_squared_error: 9865.3418 - mean_squared_log - ETA: 10s - loss: 7636.5869 - mean_squared_error: 7636.5869 - mean_squared_logarithmic_error: 0. - ETA: 9s - loss: 7109.0703 - mean_squared_error: 7109.0703 - mean_squared_logarithmic_error: 0.6471 - d - ETA: 2s - loss: 7603.0396 - mean_squared_error: 7603.0396 - mean_sq\n",
      "Epoch 90/100\n",
      "12250/12250 [==============================] - 15s 1ms/step - loss: 7451.1885 - mean_squared_error: 7451.1885 - mean_squared_logarithmic_error: 0.6527 - det_coeff: -inf - val_loss: 12891.2324 - val_mean_squared_error: 12891.2324 - val_mean_squared_logarithmic_error: 0.7640 - val_det_coeff: -infor: 7163.9131 - mean_square - ETA: 7s - loss: 6968.5068 - mean_squared_error: 6968.5068 - mean_squared_logarithmic_error: 0.6519 - det_ - ETA: 7s - loss: 6913.5088 - mean_squared_error: 6913.5088 - mean_squared_logarithmic_error: 0.6568 - det_coef - ETA: 6s - loss: 6800.4395 - mean_squared_error: 6800.4395 - mean_squared_logarithmic_error: 0 - ETA: 5s - los\n",
      "Epoch 91/100\n",
      "12250/12250 [==============================] - 14s 1ms/step - loss: 7276.0156 - mean_squared_error: 7276.0156 - mean_squared_logarithmic_error: 0.6582 - det_coeff: -inf - val_loss: 12479.0820 - val_mean_squared_error: 12479.0820 - val_mean_squared_logarithmic_error: 0.7460 - val_det_coeff: -infuared_error: 8217.4287 - - ETA: 0s - loss: 7344.6636 - mean_squared_error: 7344.6636 - mean_squared_logarithmic_error: 0.6595 - det_coeff\n",
      "Epoch 92/100\n",
      "12250/12250 [==============================] - 13s 1ms/step - loss: 7212.7954 - mean_squared_error: 7212.7954 - mean_squared_logarithmic_error: 0.6632 - det_coeff: -inf - val_loss: 13088.0049 - val_mean_squared_error: 13088.0049 - val_mean_squared_logarithmic_error: 0.7378 - val_det_coeff: -inf\n",
      "Epoch 93/100\n",
      "12250/12250 [==============================] - 13s 1ms/step - loss: 7141.4033 - mean_squared_error: 7141.4033 - mean_squared_logarithmic_error: 0.6600 - det_coeff: -inf - val_loss: 12724.9932 - val_mean_squared_error: 12724.9932 - val_mean_squared_logarithmic_error: 0.7149 - val_det_coeff: -inf\n",
      "Epoch 94/100\n",
      "12250/12250 [==============================] - 14s 1ms/step - loss: 7165.9570 - mean_squared_error: 7165.9570 - mean_squared_logarithmic_error: 0.6476 - det_coeff: -inf - val_loss: 12204.2793 - val_mean_squared_error: 12204.2793 - val_mean_squared_logarithmic_error: 0.7261 - val_det_coeff: -inf mean_squared_error:  - ETA: 3s - loss: 7055.5220 - mean_squared_error: 7055.5220 - mean_squared_logarithmic_error: 0.6437 - det_co - ETA: 3s - loss: 7015.5620 - mean_squared_error: 7015.5620 - mean_squared_logarithmic_error: 0.6467 - det_coeff: - ETA: 2s - loss: 7055.4517 - mean_squared_error: 7055.4517 -\n",
      "Epoch 95/100\n"
     ]
    },
    {
     "name": "stdout",
     "output_type": "stream",
     "text": [
      "12250/12250 [==============================] - 14s 1ms/step - loss: 7205.7935 - mean_squared_error: 7205.7935 - mean_squared_logarithmic_error: 0.6558 - det_coeff: -inf - val_loss: 12468.0908 - val_mean_squared_error: 12468.0908 - val_mean_squared_logarithmic_error: 0.7117 - val_det_coeff: -inf\n",
      "Epoch 96/100\n",
      "12250/12250 [==============================] - 13s 1ms/step - loss: 7001.9385 - mean_squared_error: 7001.9385 - mean_squared_logarithmic_error: 0.6503 - det_coeff: -inf - val_loss: 12655.1416 - val_mean_squared_error: 12655.1416 - val_mean_squared_logarithmic_error: 0.7551 - val_det_coeff: -inf\n",
      "Epoch 97/100\n",
      "12250/12250 [==============================] - 14s 1ms/step - loss: 6961.7334 - mean_squared_error: 6961.7334 - mean_squared_logarithmic_error: 0.6587 - det_coeff: -inf - val_loss: 12182.4082 - val_mean_squared_error: 12182.4082 - val_mean_squared_logarithmic_error: 0.6969 - val_det_coeff: -infan_squared_error: 6920.9702 - mean_squared_logarithmic_e\n",
      "Epoch 98/100\n",
      "12250/12250 [==============================] - 14s 1ms/step - loss: 7066.4727 - mean_squared_error: 7066.4727 - mean_squared_logarithmic_error: 0.6558 - det_coeff: -inf - val_loss: 15869.4629 - val_mean_squared_error: 15869.4629 - val_mean_squared_logarithmic_error: 0.8256 - val_det_coeff: -inf - mean_squared_logarithmic_error:  - ETA: 6s - loss: 6673.8818 - mean_squared_error: 6673.8818 - mean_squared_logarithmic_err - ETA: 5s - loss: 6420.6 - ETA: 0s - loss: 7058.9131 - mean_squared_error: 7058.9131 - mean_squared_logarithmic_error: 0.6549 - d\n",
      "Epoch 99/100\n",
      "12250/12250 [==============================] - 13s 1ms/step - loss: 6982.5908 - mean_squared_error: 6982.5908 - mean_squared_logarithmic_error: 0.6585 - det_coeff: -inf - val_loss: 13207.7197 - val_mean_squared_error: 13207.7197 - val_mean_squared_logarithmic_error: 0.7557 - val_det_coeff: -inf627.9360 - mean_squared_error: 662 - ETA: 3s - loss: 6984.8628 - mean_squared_er\n",
      "Epoch 100/100\n",
      "12250/12250 [==============================] - 14s 1ms/step - loss: 6878.7114 - mean_squared_error: 6878.7114 - mean_squared_logarithmic_error: 0.6522 - det_coeff: -inf - val_loss: 13384.4180 - val_mean_squared_error: 13384.4180 - val_mean_squared_logarithmic_error: 0.7951 - val_det_coeff: -inf\n"
     ]
    }
   ],
   "source": [
    "history = model.fit(X_train_pca, y_train, batch_size=2, epochs=100, verbose=1, validation_split=0.3)"
   ]
  },
  {
   "cell_type": "code",
   "execution_count": 111,
   "metadata": {
    "ExecuteTime": {
     "end_time": "2021-05-10T21:45:14.642906Z",
     "start_time": "2021-05-10T21:45:14.621925Z"
    }
   },
   "outputs": [
    {
     "data": {
      "text/plain": [
       "dict_keys(['loss', 'mean_squared_error', 'mean_squared_logarithmic_error', 'det_coeff', 'val_loss', 'val_mean_squared_error', 'val_mean_squared_logarithmic_error', 'val_det_coeff'])"
      ]
     },
     "execution_count": 111,
     "metadata": {},
     "output_type": "execute_result"
    }
   ],
   "source": [
    "history.history.keys()"
   ]
  },
  {
   "cell_type": "code",
   "execution_count": 114,
   "metadata": {
    "ExecuteTime": {
     "end_time": "2021-05-10T21:46:02.672717Z",
     "start_time": "2021-05-10T21:46:02.247916Z"
    }
   },
   "outputs": [
    {
     "data": {
      "text/plain": [
       "[<matplotlib.lines.Line2D at 0x1d09332d640>]"
      ]
     },
     "execution_count": 114,
     "metadata": {},
     "output_type": "execute_result"
    },
    {
     "data": {
      "image/png": "[encoded data removed]",
      "text/plain": [
       "<Figure size 1080x1080 with 1 Axes>"
      ]
     },
     "metadata": {
      "needs_background": "light"
     },
     "output_type": "display_data"
    }
   ],
   "source": [
    "plt.plot(history.history['mean_squared_error'])"
   ]
  },
  {
   "cell_type": "code",
   "execution_count": 135,
   "metadata": {
    "ExecuteTime": {
     "end_time": "2021-05-11T15:08:13.103908Z",
     "start_time": "2021-05-11T15:08:13.091941Z"
    }
   },
   "outputs": [],
   "source": [
    "def ANN_metric_plot(model,history, X_train_pca,X_test_pca,y_train,y_test):\n",
    "    from sklearn.metrics import mean_squared_error, explained_variance_score,r2_score, mean_squared_log_error\n",
    "\n",
    "    pred_train = model.predict(X_train_pca)\n",
    "    print(\"Train score:\", \"MSE:\",mean_squared_error(y_train,pred_train),\"EVS:\",explained_variance_score(y_train,pred_train),\"R2:\",r2_score(y_train,pred_train))\n",
    "\n",
    "    pred = model.predict(X_test_pca)\n",
    "    print(\"Test Score:\", \"MSE:\", mean_squared_error(y_test,pred),\"EVS:\",explained_variance_score(y_test,pred),\"R2:\",r2_score(y_test,pred))\n",
    "    \n",
    "    plt.plot(history.history['loss'])\n",
    "    plt.plot(history.history['val_loss'])"
   ]
  },
  {
   "cell_type": "code",
   "execution_count": 105,
   "metadata": {
    "ExecuteTime": {
     "end_time": "2021-05-10T20:01:26.198794Z",
     "start_time": "2021-05-10T20:01:25.495334Z"
    }
   },
   "outputs": [
    {
     "name": "stdout",
     "output_type": "stream",
     "text": [
      "Train score: MSE: 8415.242815932415 EVS: 0.791611134779733 R2: 0.7910709893715125\n",
      "Test Score: MSE: 13037.545496267461 EVS: 0.6541490753629551 R2: 0.6540937355663705\n"
     ]
    }
   ],
   "source": [
    "from sklearn.metrics import mean_squared_error, explained_variance_score,r2_score, mean_squared_log_error\n",
    "\n",
    "pred_train = model.predict(X_train_pca)\n",
    "print(\"Train score:\", \"MSE:\",mean_squared_error(y_train,pred_train),\"EVS:\",explained_variance_score(y_train,pred_train),\"R2:\",r2_score(y_train,pred_train))\n",
    "\n",
    "pred = model.predict(X_test_pca)\n",
    "print(\"Test Score:\", \"MSE:\", mean_squared_error(y_test,pred),\"EVS:\",explained_variance_score(y_test,pred),\"R2:\",r2_score(y_test,pred))"
   ]
  },
  {
   "cell_type": "code",
   "execution_count": null,
   "metadata": {},
   "outputs": [],
   "source": []
  },
  {
   "cell_type": "code",
   "execution_count": 55,
   "metadata": {
    "ExecuteTime": {
     "end_time": "2021-05-10T23:21:17.817638Z",
     "start_time": "2021-05-10T23:21:17.762183Z"
    }
   },
   "outputs": [],
   "source": [
    "# validation curve\n",
    "input_layer = Input(shape=(X_test_pca.shape[1],))\n",
    "dense_layer_1 = Dense(100, activation='relu')(input_layer)\n",
    "dense_layer_2 = Dense(50, activation='relu')(dense_layer_1)\n",
    "dense_layer_3 = Dense(25, activation='relu')(dense_layer_2)\n",
    "output = Dense(1)(dense_layer_3)\n",
    "\n",
    "model_val = Model(inputs=input_layer, outputs=output)\n",
    "model_val.compile(loss=\"mean_squared_error\" , optimizer=\"adam\", metrics=[\"mean_squared_error\",\"mean_squared_logarithmic_error\"])"
   ]
  },
  {
   "cell_type": "code",
   "execution_count": 56,
   "metadata": {
    "ExecuteTime": {
     "end_time": "2021-05-10T23:30:31.568962Z",
     "start_time": "2021-05-10T23:21:18.937208Z"
    }
   },
   "outputs": [
    {
     "name": "stdout",
     "output_type": "stream",
     "text": [
      "Epoch 1/100\n",
      "5250/5250 [==============================] - 6s 1ms/step - loss: 43976.4219 - mean_squared_error: 43976.4219 - mean_squared_logarithmic_error: 2.1982 - val_loss: 41613.6094 - val_mean_squared_error: 41613.6094 - val_mean_squared_logarithmic_error: 2.3911\n",
      "Epoch 2/100\n",
      "5250/5250 [==============================] - 6s 1ms/step - loss: 42895.8672 - mean_squared_error: 42895.8672 - mean_squared_logarithmic_error: 2.1235 - val_loss: 40832.8398 - val_mean_squared_error: 40832.8398 - val_mean_squared_logarithmic_error: 2.1783\n",
      "Epoch 3/100\n",
      "5250/5250 [==============================] - 6s 1ms/step - loss: 42793.2578 - mean_squared_error: 42793.2578 - mean_squared_logarithmic_error: 2.1334 - val_loss: 40763.9922 - val_mean_squared_error: 40763.9922 - val_mean_squared_logarithmic_error: 2.1721 43307.4805 - mean_squared_error: 43307.4805 - mean_squared_logari - ETA: 2s - loss: 44543.2461 - mean_squared_error: 44543.2461 - mean_squared_logarithmic_er - ETA: 1s - loss: 44864.9883 - mean_squared_error: 44864.9883 - \n",
      "Epoch 4/100\n",
      "5250/5250 [==============================] - 6s 1ms/step - loss: 42726.9766 - mean_squared_error: 42726.9766 - mean_squared_logarithmic_error: 2.1418 - val_loss: 40992.4570 - val_mean_squared_error: 40992.4570 - val_mean_squared_logarithmic_error: 2.0086\n",
      "Epoch 5/100\n",
      "5250/5250 [==============================] - 6s 1ms/step - loss: 42606.9688 - mean_squared_error: 42606.9688 - mean_squared_logarithmic_error: 2.1377 - val_loss: 40857.7891 - val_mean_squared_error: 40857.7891 - val_mean_squared_logarithmic_error: 2.0899\n",
      "Epoch 6/100\n",
      "5250/5250 [==============================] - 6s 1ms/step - loss: 42561.0664 - mean_squared_error: 42561.0664 - mean_squared_logarithmic_error: 2.1361 - val_loss: 40934.6719 - val_mean_squared_error: 40934.6719 - val_mean_squared_logarithmic_error: 2.2548\n",
      "Epoch 7/100\n",
      "5250/5250 [==============================] - 6s 1ms/step - loss: 42460.4375 - mean_squared_error: 42460.4375 - mean_squared_logarithmic_error: 2.1341 - val_loss: 40726.9102 - val_mean_squared_error: 40726.9102 - val_mean_squared_logarithmic_error: 2.0443\n",
      "Epoch 8/100\n",
      "5250/5250 [==============================] - 6s 1ms/step - loss: 42473.3477 - mean_squared_error: 42473.3477 - mean_squared_logarithmic_error: 2.1438 - val_loss: 40892.3906 - val_mean_squared_error: 40892.3906 - val_mean_squared_logarithmic_error: 2.1176 - loss: 43079.0039 - mean_squared_error: 43079.0039 - mean_squared_logarithmic - ETA: 0s - loss: 42906.5508 - mean_squared_error: 42906.5508 - mean_squared_logarithmic\n",
      "Epoch 9/100\n",
      "5250/5250 [==============================] - 6s 1ms/step - loss: 42426.2656 - mean_squared_error: 42426.2656 - mean_squared_logarithmic_error: 2.1411 - val_loss: 40858.2578 - val_mean_squared_error: 40858.2578 - val_mean_squared_logarithmic_error: 2.2687\n",
      "Epoch 10/100\n",
      "5250/5250 [==============================] - 6s 1ms/step - loss: 42383.8008 - mean_squared_error: 42383.8008 - mean_squared_logarithmic_error: 2.1412 - val_loss: 40951.0625 - val_mean_squared_error: 40951.0625 - val_mean_squared_logarithmic_error: 2.3029\n",
      "Epoch 11/100\n",
      "5250/5250 [==============================] - 6s 1ms/step - loss: 42344.3906 - mean_squared_error: 42344.3906 - mean_squared_logarithmic_error: 2.1393 - val_loss: 40839.6055 - val_mean_squared_error: 40839.6055 - val_mean_squared_logarithmic_error: 2.1575 - loss: 52664.8398 - mean_squared_error: 52664.8398 - mean_squared_logarithmic_error: 2.19 - ETA: 3s - loss: 51908.7344 - mean_squared_error: 51908.7344 - mean_squared_logarithmic_error - ETA: 3s - loss: 47831.2148 - mean_squared_error: 47831.2148 - mean_squared_logarithmic_erro - ETA: 2s - loss: 42410.6602 - mean_squared_error: 42410.6602 - mean_squared_logari - ETA: 2s - loss: 41799.5547 - mean_squared_error: 41799.5547 \n",
      "Epoch 12/100\n",
      "5250/5250 [==============================] - 6s 1ms/step - loss: 42328.1875 - mean_squared_error: 42328.1875 - mean_squared_logarithmic_error: 2.1505 - val_loss: 40752.2148 - val_mean_squared_error: 40752.2148 - val_mean_squared_logarithmic_error: 2.0543quared_error: 44191.2031 - mean_squared_logar - ETA: 0s - loss: 42830.2969 - mean_squared_error: 42830.2969 - mean_squared_logarithmic_err\n",
      "Epoch 13/100\n",
      "5250/5250 [==============================] - 6s 1ms/step - loss: 42316.8594 - mean_squared_error: 42316.8594 - mean_squared_logarithmic_error: 2.1386 - val_loss: 40753.8047 - val_mean_squared_error: 40753.8047 - val_mean_squared_logarithmic_error: 2.084036.6758 - mean_squared_error: 41236.6758 - mean_squar - ETA: 0s - loss: 41536.3711 - mean_squared_error: 41536.3711 - mean_squared_logarith\n",
      "Epoch 14/100\n",
      "5250/5250 [==============================] - 6s 1ms/step - loss: 42237.5547 - mean_squared_error: 42237.5547 - mean_squared_logarithmic_error: 2.1344 - val_loss: 41288.5391 - val_mean_squared_error: 41288.5391 - val_mean_squared_logarithmic_error: 2.4149\n",
      "Epoch 15/100\n",
      "5250/5250 [==============================] - 6s 1ms/step - loss: 42243.2031 - mean_squared_error: 42243.2031 - mean_squared_logarithmic_error: 2.1565 - val_loss: 40892.1953 - val_mean_squared_error: 40892.1953 - val_mean_squared_logarithmic_error: 1.9487ss: 42489.0898 - mean_squared_error: 42489.0898 - mean_squared_lo\n",
      "Epoch 16/100\n",
      "5250/5250 [==============================] - 6s 1ms/step - loss: 42187.0742 - mean_squared_error: 42187.0742 - mean_squared_logarithmic_error: 2.1440 - val_loss: 40848.9023 - val_mean_squared_error: 40848.9023 - val_mean_squared_logarithmic_error: 2.1269\n",
      "Epoch 17/100\n",
      "5250/5250 [==============================] - 6s 1ms/step - loss: 42182.9844 - mean_squared_error: 42182.9844 - mean_squared_logarithmic_error: 2.1445 - val_loss: 40946.3945 - val_mean_squared_error: 40946.3945 - val_mean_squared_logarithmic_error: 2.1263\n",
      "Epoch 18/100\n",
      "5250/5250 [==============================] - 5s 1ms/step - loss: 42131.3125 - mean_squared_error: 42131.3125 - mean_squared_logarithmic_error: 2.1373 - val_loss: 41285.5977 - val_mean_squared_error: 41285.5977 - val_mean_squared_logarithmic_error: 2.3377.5898 - mean_squared_error: 417\n",
      "Epoch 19/100\n",
      "5250/5250 [==============================] - 6s 1ms/step - loss: 42081.6875 - mean_squared_error: 42081.6875 - mean_squared_logarithmic_error: 2.1424 - val_loss: 40911.2656 - val_mean_squared_error: 40911.2656 - val_mean_squared_logarithmic_error: 2.12229.0469 - mean_squared_error: 43789.0469 -  - ETA: 0s - loss: 43487.6992 - mean_squared_error: 43487.6992 - mean_squared_logarithmic_error: 2.14 - ETA: 0s - loss: 43468.4414 - mean_squared_error: 43468.4414 - mean_squared_logarith\n",
      "Epoch 20/100\n",
      "5250/5250 [==============================] - 6s 1ms/step - loss: 42017.4961 - mean_squared_error: 42017.4961 - mean_squared_logarithmic_error: 2.1317 - val_loss: 41238.9961 - val_mean_squared_error: 41238.9961 - val_mean_squared_logarithmic_error: 2.3591738.6055 - mean_squared_erro\n",
      "Epoch 21/100\n",
      "5250/5250 [==============================] - 6s 1ms/step - loss: 42011.0039 - mean_squared_error: 42011.0039 - mean_squared_logarithmic_error: 2.1438 - val_loss: 41050.7773 - val_mean_squared_error: 41050.7773 - val_mean_squared_logarithmic_error: 2.1614\n",
      "Epoch 22/100\n",
      "5250/5250 [==============================] - 6s 1ms/step - loss: 41989.6758 - mean_squared_error: 41989.6758 - mean_squared_logarithmic_error: 2.1325 - val_loss: 41495.4648 - val_mean_squared_error: 41495.4648 - val_mean_squared_logarithmic_error: 2.4264\n",
      "Epoch 23/100\n",
      "5250/5250 [==============================] - 6s 1ms/step - loss: 42029.8867 - mean_squared_error: 42029.8867 - mean_squared_logarithmic_error: 2.1459 - val_loss: 40930.3125 - val_mean_squared_error: 40930.3125 - val_mean_squared_logarithmic_error: 2.11703s - loss: 42948.7070 - mean_squared_error: 42948.7070 - mean_squared_logarithmic_erro - ETA: 3s - loss: 45324.9375 - mean_squa\n",
      "Epoch 24/100\n",
      "5250/5250 [==============================] - 6s 1ms/step - loss: 41900.4258 - mean_squared_error: 41900.4258 - mean_squared_logarithmic_error: 2.1324 - val_loss: 41119.2227 - val_mean_squared_error: 41119.2227 - val_mean_squared_logarithmic_error: 2.2191 39632.7930 - mean_squared_ - ETA: 0s - loss: 41879.2227 - mean_squared_error: 41879.2227 - mean_squared_logarithmic_error: 2.13\n",
      "Epoch 25/100\n",
      "5250/5250 [==============================] - 5s 1ms/step - loss: 41823.1562 - mean_squared_error: 41823.1562 - mean_squared_logarithmic_error: 2.1331 - val_loss: 41562.9180 - val_mean_squared_error: 41562.9180 - val_mean_squared_logarithmic_error: 2.3307\n",
      "Epoch 26/100\n",
      "5250/5250 [==============================] - 5s 1ms/step - loss: 41801.4609 - mean_squared_error: 41801.4609 - mean_squared_logarithmic_error: 2.1322 - val_loss: 41083.3828 - val_mean_squared_error: 41083.3828 - val_mean_squared_logarithmic_error: 2.1390ean_squared_error: 42066.5781 - mean_squared_logarithmic_error: \n",
      "Epoch 27/100\n",
      "5250/5250 [==============================] - 6s 1ms/step - loss: 41841.4727 - mean_squared_error: 41841.4727 - mean_squared_logarithmic_error: 2.1346 - val_loss: 41297.2734 - val_mean_squared_error: 41297.2734 - val_mean_squared_logarithmic_error: 2.1575\n",
      "Epoch 28/100\n",
      "5250/5250 [==============================] - 6s 1ms/step - loss: 41661.0547 - mean_squared_error: 41661.0547 - mean_squared_logarithmic_error: 2.1270 - val_loss: 41172.5781 - val_mean_squared_error: 41172.5781 - val_mean_squared_logarithmic_error: 2.1151 - mean_squared_error: 42386.6445 - mean_squared_logarithmic_error: 2.122 - ETA: 1s - loss: 42494.1719 - mean_squared_error: 42494.1719 - mean\n",
      "Epoch 29/100\n",
      "5250/5250 [==============================] - 6s 1ms/step - loss: 41499.7930 - mean_squared_error: 41499.7930 - mean_squared_logarithmic_error: 2.1118 - val_loss: 42223.9922 - val_mean_squared_error: 42223.9922 - val_mean_squared_logarithmic_error: 2.4722\n",
      "Epoch 30/100\n",
      "5250/5250 [==============================] - 6s 1ms/step - loss: 41524.8828 - mean_squared_error: 41524.8828 - mean_squared_logarithmic_error: 2.1326 - val_loss: 41204.6523 - val_mean_squared_error: 41204.6523 - val_mean_squared_logarithmic_error: 2.0363\n",
      "Epoch 31/100\n",
      "5250/5250 [==============================] - 5s 1ms/step - loss: 41370.9258 - mean_squared_error: 41370.9258 - mean_squared_logarithmic_error: 2.1196 - val_loss: 41350.9961 - val_mean_squared_error: 41350.9961 - val_mean_squared_logarithmic_error: 1.9545\n",
      "Epoch 32/100\n",
      "5250/5250 [==============================] - 6s 1ms/step - loss: 41354.4766 - mean_squared_error: 41354.4766 - mean_squared_logarithmic_error: 2.1070 - val_loss: 41445.8711 - val_mean_squared_error: 41445.8711 - val_mean_squared_logarithmic_error: 2.2591\n",
      "Epoch 33/100\n",
      "5250/5250 [==============================] - 5s 1ms/step - loss: 41240.5000 - mean_squared_error: 41240.5000 - mean_squared_logarithmic_error: 2.1141 - val_loss: 41677.2266 - val_mean_squared_error: 41677.2266 - val_mean_squared_logarithmic_error: 2.2804\n",
      "Epoch 34/100\n",
      "5250/5250 [==============================] - 6s 1ms/step - loss: 41120.4570 - mean_squared_error: 41120.4570 - mean_squared_logarithmic_error: 2.1120 - val_loss: 41728.8281 - val_mean_squared_error: 41728.8281 - val_mean_squared_logarithmic_error: 2.1289: 39886.6016 - mean_squared_error: 39886.6016 - mean_squared - ETA: 0s - loss: 41532.9062 - mean_squared_error: 41532.9062 - mean_squared_logarithmic_error: 2\n",
      "Epoch 35/100\n",
      "5250/5250 [==============================] - 5s 1ms/step - loss: 41015.5508 - mean_squared_error: 41015.5508 - mean_squared_logarithmic_error: 2.1081 - val_loss: 41750.4805 - val_mean_squared_error: 41750.4805 - val_mean_squared_logarithmic_error: 2.1303\n",
      "Epoch 36/100\n",
      "5250/5250 [==============================] - 5s 1ms/step - loss: 40747.5977 - mean_squared_error: 40747.5977 - mean_squared_logarithmic_error: 2.0940 - val_loss: 42034.9375 - val_mean_squared_error: 42034.9375 - val_mean_squared_logarithmic_error: 2.3222\n",
      "Epoch 37/100\n",
      "5250/5250 [==============================] - 5s 1ms/step - loss: 40741.1836 - mean_squared_error: 40741.1836 - mean_squared_logarithmic_error: 2.1004 - val_loss: 42056.1484 - val_mean_squared_error: 42056.1484 - val_mean_squared_logarithmic_error: 2.2535 - mean_squared_error: 41328.5781 - mean\n",
      "Epoch 38/100\n",
      "5250/5250 [==============================] - 6s 1ms/step - loss: 40472.9609 - mean_squared_error: 40472.9609 - mean_squared_logarithmic_error: 2.0959 - val_loss: 42314.0039 - val_mean_squared_error: 42314.0039 - val_mean_squared_logarithmic_error: 2.3115\n",
      "Epoch 39/100\n",
      "5250/5250 [==============================] - 5s 1ms/step - loss: 40345.8203 - mean_squared_error: 40345.8203 - mean_squared_logarithmic_error: 2.1006 - val_loss: 41938.7969 - val_mean_squared_error: 41938.7969 - val_mean_squared_logarithmic_error: 2.2115\n",
      "Epoch 40/100\n",
      "5250/5250 [==============================] - 5s 1ms/step - loss: 40252.5977 - mean_squared_error: 40252.5977 - mean_squared_logarithmic_error: 2.0972 - val_loss: 41986.3828 - val_mean_squared_error: 41986.3828 - val_mean_squared_logarithmic_error: 2.0486\n",
      "Epoch 41/100\n",
      "5250/5250 [==============================] - 5s 1ms/step - loss: 40035.8633 - mean_squared_error: 40035.8633 - mean_squared_logarithmic_error: 2.0724 - val_loss: 42527.4023 - val_mean_squared_error: 42527.4023 - val_mean_squared_logarithmic_error: 2.2082 - mean_squared_logarithmic_error: 2.07\n",
      "Epoch 42/100\n",
      "5250/5250 [==============================] - 6s 1ms/step - loss: 39716.0273 - mean_squared_error: 39716.0273 - mean_squared_logarithmic_error: 2.0764 - val_loss: 42265.3750 - val_mean_squared_error: 42265.3750 - val_mean_squared_logarithmic_error: 2.1944ss: 36303.0430 - mean_sq\n",
      "Epoch 43/100\n",
      "5250/5250 [==============================] - 5s 1ms/step - loss: 39652.9922 - mean_squared_error: 39652.9922 - mean_squared_logarithmic_error: 2.0759 - val_loss: 42939.9414 - val_mean_squared_error: 42939.9414 - val_mean_squared_logarithmic_error: 2.1620 loss: 40020.6602 - mean_squared_error: 40020.6602 - mean_squared_logarithmic_err - ETA: 2s - loss: 40239.5117 - mean_squared_error: 402 - ETA: 0s - loss: 40488.9688 - mean_squared_error: 40488.9688 - mean_squared_logarithmic_e\n",
      "Epoch 44/100\n",
      "5250/5250 [==============================] - 6s 1ms/step - loss: 39183.7891 - mean_squared_error: 39183.7891 - mean_squared_logarithmic_error: 2.0538 - val_loss: 42443.6719 - val_mean_squared_error: 42443.6719 - val_mean_squared_logarithmic_error: 2.2418\n",
      "Epoch 45/100\n",
      "5250/5250 [==============================] - 6s 1ms/step - loss: 39241.5469 - mean_squared_error: 39241.5469 - mean_squared_logarithmic_error: 2.0758 - val_loss: 42311.2031 - val_mean_squared_error: 42311.2031 - val_mean_squared_logarithmic_error: 2.0350\n",
      "Epoch 46/100\n",
      "5250/5250 [==============================] - 5s 977us/step - loss: 39025.8164 - mean_squared_error: 39025.8164 - mean_squared_logarithmic_error: 2.0488 - val_loss: 43429.6992 - val_mean_squared_error: 43429.6992 - val_mean_squared_logarithmic_error: 2.4232ean_squared_error: 36537.2344 - mean_squared_logari - ETA: 0s - loss: 38239.8203 - mean_squared_error: 38239.8203 - mean_squared_logarithmic_error: 2.\n",
      "Epoch 47/100\n",
      "5250/5250 [==============================] - 5s 1ms/step - loss: 38430.0781 - mean_squared_error: 38430.0781 - mean_squared_logarithmic_error: 2.0533 - val_loss: 44149.3086 - val_mean_squared_error: 44149.3086 - val_mean_squared_logarithmic_error: 2.3161\n",
      "Epoch 48/100\n",
      "5250/5250 [==============================] - 5s 1ms/step - loss: 38271.8984 - mean_squared_error: 38271.8984 - mean_squared_logarithmic_error: 2.0394 - val_loss: 42898.8984 - val_mean_squared_error: 42898.8984 - val_mean_squared_logarithmic_error: 2.0408\n",
      "Epoch 49/100\n",
      "5250/5250 [==============================] - 5s 1ms/step - loss: 38153.6172 - mean_squared_error: 38153.6172 - mean_squared_logarithmic_error: 2.0439 - val_loss: 43639.9492 - val_mean_squared_error: 43639.9492 - val_mean_squared_logarithmic_error: 2.2259\n",
      "Epoch 50/100\n",
      "5250/5250 [==============================] - 6s 1ms/step - loss: 37846.6484 - mean_squared_error: 37846.6484 - mean_squared_logarithmic_error: 2.0315 - val_loss: 45351.2266 - val_mean_squared_error: 45351.2266 - val_mean_squared_logarithmic_error: 2.2809\n",
      "Epoch 51/100\n",
      "5250/5250 [==============================] - 6s 1ms/step - loss: 37593.9062 - mean_squared_error: 37593.9062 - mean_squared_logarithmic_error: 2.0198 - val_loss: 43914.3203 - val_mean_squared_error: 43914.3203 - val_mean_squared_logarithmic_error: 2.2992\n",
      "Epoch 52/100\n"
     ]
    },
    {
     "name": "stdout",
     "output_type": "stream",
     "text": [
      "5250/5250 [==============================] - 6s 1ms/step - loss: 37631.0938 - mean_squared_error: 37631.0938 - mean_squared_logarithmic_error: 2.0238 - val_loss: 45659.2383 - val_mean_squared_error: 45659.2383 - val_mean_squared_logarithmic_error: 2.24237082.4141 - me\n",
      "Epoch 53/100\n",
      "5250/5250 [==============================] - 6s 1ms/step - loss: 37439.3672 - mean_squared_error: 37439.3672 - mean_squared_logarithmic_error: 2.0173 - val_loss: 46933.0117 - val_mean_squared_error: 46933.0117 - val_mean_squared_logarithmic_error: 2.32369531 - mean_squared_error: 38075.95\n",
      "Epoch 54/100\n",
      "5250/5250 [==============================] - 5s 1ms/step - loss: 37240.0859 - mean_squared_error: 37240.0859 - mean_squared_logarithmic_error: 2.0220 - val_loss: 47590.1797 - val_mean_squared_error: 47590.1797 - val_mean_squared_logarithmic_error: 2.2908.4102 - mean_squared_error: 33926.4102\n",
      "Epoch 55/100\n",
      "5250/5250 [==============================] - 6s 1ms/step - loss: 36817.5898 - mean_squared_error: 36817.5898 - mean_squared_logarithmic_error: 2.0115 - val_loss: 46349.2656 - val_mean_squared_error: 46349.2656 - val_mean_squared_logarithmic_error: 2.2306oss: 39801.8984 - mean_squared_error: 39801.8984 - mean_squared_logarithmic_error: 2.1 - ETA: 3s - loss: 38613.0781 - mean_squared_error: 38613.0781 - mean_squared_logarithmic_error: 2.079 - ETA: 3s - loss: 38609.1406 - mean_squared_erro - ETA: 0s - loss: 36648.8477 - mean_squared_error: 36648.8477 - mean_squared_logarithmic_error\n",
      "Epoch 56/100\n",
      "5250/5250 [==============================] - 5s 1ms/step - loss: 37125.0547 - mean_squared_error: 37125.0547 - mean_squared_logarithmic_error: 2.0009 - val_loss: 43517.5078 - val_mean_squared_error: 43517.5078 - val_mean_squared_logarithmic_error: 2.2608\n",
      "Epoch 57/100\n",
      "5250/5250 [==============================] - 5s 1ms/step - loss: 36765.9961 - mean_squared_error: 36765.9961 - mean_squared_logarithmic_error: 2.0042 - val_loss: 45138.0781 - val_mean_squared_error: 45138.0781 - val_mean_squared_logarithmic_error: 2.2455\n",
      "Epoch 58/100\n",
      "5250/5250 [==============================] - 5s 1ms/step - loss: 36419.9727 - mean_squared_error: 36419.9727 - mean_squared_logarithmic_error: 1.9976 - val_loss: 46828.2188 - val_mean_squared_error: 46828.2188 - val_mean_squared_logarithmic_error: 2.3001\n",
      "Epoch 59/100\n",
      "5250/5250 [==============================] - 5s 1ms/step - loss: 36317.5469 - mean_squared_error: 36317.5469 - mean_squared_logarithmic_error: 1.9987 - val_loss: 45835.2930 - val_mean_squared_error: 45835.2930 - val_mean_squared_logarithmic_error: 2.0177\n",
      "Epoch 60/100\n",
      "5250/5250 [==============================] - 6s 1ms/step - loss: 36473.2891 - mean_squared_error: 36473.2891 - mean_squared_logarithmic_error: 1.9930 - val_loss: 44375.7812 - val_mean_squared_error: 44375.7812 - val_mean_squared_logarithmic_error: 2.2146- loss: 35274.4062 - mean_squared_error: 35274.4062 - mean_squared_logarithmic_error: 1. - ETA: 1s - loss: 35422.8398 - mean_squared_error: 35422.8398 - mean_squared_logar\n",
      "Epoch 61/100\n",
      "5250/5250 [==============================] - 5s 1ms/step - loss: 36174.6602 - mean_squared_error: 36174.6602 - mean_squared_logarithmic_error: 1.9897 - val_loss: 45199.8711 - val_mean_squared_error: 45199.8711 - val_mean_squared_logarithmic_error: 2.3914\n",
      "Epoch 62/100\n",
      "5250/5250 [==============================] - 5s 1ms/step - loss: 35881.7969 - mean_squared_error: 35881.7969 - mean_squared_logarithmic_error: 1.9834 - val_loss: 44152.1211 - val_mean_squared_error: 44152.1211 - val_mean_squared_logarithmic_error: 2.2749.7539 - mean_squared_error: 38497.7539 - mean_square - ETA: 1s - loss: 36541.1797 - mean_squared_error: 36541.1797 - mean\n",
      "Epoch 63/100\n",
      "5250/5250 [==============================] - 5s 1ms/step - loss: 35940.9375 - mean_squared_error: 35940.9375 - mean_squared_logarithmic_error: 1.9928 - val_loss: 46473.1016 - val_mean_squared_error: 46473.1016 - val_mean_squared_logarithmic_error: 2.2342\n",
      "Epoch 64/100\n",
      "5250/5250 [==============================] - 5s 988us/step - loss: 35732.3242 - mean_squared_error: 35732.3242 - mean_squared_logarithmic_error: 1.9765 - val_loss: 50286.1875 - val_mean_squared_error: 50286.1875 - val_mean_squared_logarithmic_error: 2.2024\n",
      "Epoch 65/100\n",
      "5250/5250 [==============================] - 5s 1ms/step - loss: 35430.0547 - mean_squared_error: 35430.0547 - mean_squared_logarithmic_error: 1.9827 - val_loss: 46009.5859 - val_mean_squared_error: 46009.5859 - val_mean_squared_logarithmic_error: 2.3123\n",
      "Epoch 66/100\n",
      "5250/5250 [==============================] - 5s 1ms/step - loss: 35418.1914 - mean_squared_error: 35418.1914 - mean_squared_logarithmic_error: 1.9740 - val_loss: 44857.5117 - val_mean_squared_error: 44857.5117 - val_mean_squared_logarithmic_error: 2.0955750.7070 - mean_squared_loga\n",
      "Epoch 67/100\n",
      "5250/5250 [==============================] - 6s 1ms/step - loss: 35285.4102 - mean_squared_error: 35285.4102 - mean_squared_logarithmic_error: 1.9621 - val_loss: 44788.4766 - val_mean_squared_error: 44788.4766 - val_mean_squared_logarithmic_error: 2.1328 loss: 36650.0898 - mean_squared_error: 36650.0898 - mean_squared_logarithmic_er - ETA: 3s - loss: 35856.3320 - mean_squared_error: 35856.3320 - mean_ - ETA: 1s - loss: 37328.6484 - mean_squared_error: 37328.6484 - mean_\n",
      "Epoch 68/100\n",
      "5250/5250 [==============================] - 5s 979us/step - loss: 35034.9805 - mean_squared_error: 35034.9805 - mean_squared_logarithmic_error: 1.9502 - val_loss: 48718.8555 - val_mean_squared_error: 48718.8555 - val_mean_squared_logarithmic_error: 2.3447\n",
      "Epoch 69/100\n",
      "5250/5250 [==============================] - 6s 1ms/step - loss: 35349.1797 - mean_squared_error: 35349.1797 - mean_squared_logarithmic_error: 1.9600 - val_loss: 48005.7930 - val_mean_squared_error: 48005.7930 - val_mean_squared_logarithmic_error: 2.3451\n",
      "Epoch 70/100\n",
      "5250/5250 [==============================] - 5s 1ms/step - loss: 35190.2734 - mean_squared_error: 35190.2734 - mean_squared_logarithmic_error: 1.9512 - val_loss: 45839.1602 - val_mean_squared_error: 45839.1602 - val_mean_squared_logarithmic_error: 2.2770\n",
      "Epoch 71/100\n",
      "5250/5250 [==============================] - 6s 1ms/step - loss: 34801.7852 - mean_squared_error: 34801.7852 - mean_squared_logarithmic_error: 1.9490 - val_loss: 45778.2930 - val_mean_squared_error: 45778.2930 - val_mean_squared_logarithmic_error: 2.2767\n",
      "Epoch 72/100\n",
      "5250/5250 [==============================] - 5s 1ms/step - loss: 34711.1055 - mean_squared_error: 34711.1055 - mean_squared_logarithmic_error: 1.9515 - val_loss: 45185.7812 - val_mean_squared_error: 45185.7812 - val_mean_squared_logarithmic_error: 2.1897\n",
      "Epoch 73/100\n",
      "5250/5250 [==============================] - 6s 1ms/step - loss: 35111.6602 - mean_squared_error: 35111.6602 - mean_squared_logarithmic_error: 1.9572 - val_loss: 48783.3516 - val_mean_squared_error: 48783.3516 - val_mean_squared_logarithmic_error: 2.2841\n",
      "Epoch 74/100\n",
      "5250/5250 [==============================] - 5s 1ms/step - loss: 33961.5430 - mean_squared_error: 33961.5430 - mean_squared_logarithmic_error: 1.9312 - val_loss: 45856.3359 - val_mean_squared_error: 45856.3359 - val_mean_squared_logarithmic_error: 2.220532216.3965 - mean_squared_error: 32216.3965 - mean_squared_logarithmic_error: 1.90 - ETA: 1s - loss: 32401.7441 - mean_squared_error: 32401.7441 - mean_squared_logarithmic_err - ETA: 1s - loss: 33057.2422 - mean_squared_error: 33057.2422 - mean_squared_lo\n",
      "Epoch 75/100\n",
      "5250/5250 [==============================] - 6s 1ms/step - loss: 34560.3828 - mean_squared_error: 34560.3828 - mean_squared_logarithmic_error: 1.9364 - val_loss: 45251.7109 - val_mean_squared_error: 45251.7109 - val_mean_squared_logarithmic_error: 2.2142quared_logarithmic_error: 1.936\n",
      "Epoch 76/100\n",
      "5250/5250 [==============================] - 5s 1ms/step - loss: 34299.6172 - mean_squared_error: 34299.6172 - mean_squared_logarithmic_error: 1.9339 - val_loss: 45470.0703 - val_mean_squared_error: 45470.0703 - val_mean_squared_logarithmic_error: 2.4235\n",
      "Epoch 77/100\n",
      "5250/5250 [==============================] - 6s 1ms/step - loss: 34172.4570 - mean_squared_error: 34172.4570 - mean_squared_logarithmic_error: 1.9471 - val_loss: 48215.6016 - val_mean_squared_error: 48215.6016 - val_mean_squared_logarithmic_error: 2.26621.1211 - mean_squared_logari\n",
      "Epoch 78/100\n",
      "5250/5250 [==============================] - 6s 1ms/step - loss: 33626.3594 - mean_squared_error: 33626.3594 - mean_squared_logarithmic_error: 1.9182 - val_loss: 47201.6758 - val_mean_squared_error: 47201.6758 - val_mean_squared_logarithmic_error: 2.351529236.0156 - mean_squared_error: 29236.015 - ETA: 1s - loss: 33583.3008 - mean_squared_error: 33583.3008 - mean_squared\n",
      "Epoch 79/100\n",
      "5250/5250 [==============================] - 6s 1ms/step - loss: 33988.2930 - mean_squared_error: 33988.2930 - mean_squared_logarithmic_error: 1.9291 - val_loss: 47567.8477 - val_mean_squared_error: 47567.8477 - val_mean_squared_logarithmic_error: 2.3982\n",
      "Epoch 80/100\n",
      "5250/5250 [==============================] - 6s 1ms/step - loss: 34025.4570 - mean_squared_error: 34025.4570 - mean_squared_logarithmic_error: 1.9244 - val_loss: 46663.8555 - val_mean_squared_error: 46663.8555 - val_mean_squared_logarithmic_error: 2.2673\n",
      "Epoch 81/100\n",
      "5250/5250 [==============================] - 6s 1ms/step - loss: 33909.4805 - mean_squared_error: 33909.4805 - mean_squared_logarithmic_error: 1.9277 - val_loss: 45730.0430 - val_mean_squared_error: 45730.0430 - val_mean_squared_logarithmic_error: 2.2129\n",
      "Epoch 82/100\n",
      "5250/5250 [==============================] - 5s 1ms/step - loss: 33493.5938 - mean_squared_error: 33493.5938 - mean_squared_logarithmic_error: 1.9200 - val_loss: 48380.0117 - val_mean_squared_error: 48380.0117 - val_mean_squared_logarithmic_error: 2.3653\n",
      "Epoch 83/100\n",
      "5250/5250 [==============================] - 6s 1ms/step - loss: 33450.9414 - mean_squared_error: 33450.9414 - mean_squared_logarithmic_error: 1.9129 - val_loss: 46487.3086 - val_mean_squared_error: 46487.3086 - val_mean_squared_logarithmic_error: 2.23335000 - mean_squared_error: 33392.5000 - mean_squared_logarithmic_er\n",
      "Epoch 84/100\n",
      "5250/5250 [==============================] - 6s 1ms/step - loss: 33757.9688 - mean_squared_error: 33757.9688 - mean_squared_logarithmic_error: 1.9218 - val_loss: 47105.9336 - val_mean_squared_error: 47105.9336 - val_mean_squared_logarithmic_error: 2.170234076.5586 - mean_squared_error: 34076.5586 - mean_squared_logarithmic_error:\n",
      "Epoch 85/100\n",
      "5250/5250 [==============================] - 6s 1ms/step - loss: 33093.0703 - mean_squared_error: 33093.0703 - mean_squared_logarithmic_error: 1.9038 - val_loss: 44567.9414 - val_mean_squared_error: 44567.9414 - val_mean_squared_logarithmic_error: 2.1468\n",
      "Epoch 86/100\n",
      "5250/5250 [==============================] - 5s 1ms/step - loss: 33169.4961 - mean_squared_error: 33169.4961 - mean_squared_logarithmic_error: 1.9165 - val_loss: 47282.2695 - val_mean_squared_error: 47282.2695 - val_mean_squared_logarithmic_error: 2.2949mean_squared_error: \n",
      "Epoch 87/100\n",
      "5250/5250 [==============================] - 6s 1ms/step - loss: 32949.6562 - mean_squared_error: 32949.6562 - mean_squared_logarithmic_error: 1.9099 - val_loss: 47032.5156 - val_mean_squared_error: 47032.5156 - val_mean_squared_logarithmic_error: 2.21592734 - mean_squared_error: 32744.2734 - mean_squared_logarithmic_error - ETA: 1s - loss: 32747.4004 - mean_squared_error: 32747.4004 - mean_sq\n",
      "Epoch 88/100\n",
      "5250/5250 [==============================] - 6s 1ms/step - loss: 33133.7148 - mean_squared_error: 33133.7148 - mean_squared_logarithmic_error: 1.9164 - val_loss: 47563.5039 - val_mean_squared_error: 47563.5039 - val_mean_squared_logarithmic_error: 2.1906\n",
      "Epoch 89/100\n",
      "5250/5250 [==============================] - 6s 1ms/step - loss: 33067.9023 - mean_squared_error: 33067.9023 - mean_squared_logarithmic_error: 1.8958 - val_loss: 46237.4883 - val_mean_squared_error: 46237.4883 - val_mean_squared_logarithmic_error: 2.2726red_error: 34\n",
      "Epoch 90/100\n",
      "5250/5250 [==============================] - 5s 1ms/step - loss: 33149.7539 - mean_squared_error: 33149.7539 - mean_squared_logarithmic_error: 1.9019 - val_loss: 48887.2969 - val_mean_squared_error: 48887.2969 - val_mean_squared_logarithmic_error: 2.2261ss: 33132.3242 - mean_squared_error: 33132.3242 - mean_squared_logarithm\n",
      "Epoch 91/100\n",
      "5250/5250 [==============================] - 6s 1ms/step - loss: 32405.5527 - mean_squared_error: 32405.5527 - mean_squared_logarithmic_error: 1.8971 - val_loss: 45932.3945 - val_mean_squared_error: 45932.3945 - val_mean_squared_logarithmic_error: 2.1947ean_squared_error: 34549.7383 - mean_squared_logarithmic_error: 1. - ETA: 2s - loss: 34726.7188 - mean_squared_error: 34726.71\n",
      "Epoch 92/100\n",
      "5250/5250 [==============================] - 6s 1ms/step - loss: 32758.3750 - mean_squared_error: 32758.3750 - mean_squared_logarithmic_error: 1.8958 - val_loss: 47571.6914 - val_mean_squared_error: 47571.6914 - val_mean_squared_logarithmic_error: 2.1767\n",
      "Epoch 93/100\n",
      "5250/5250 [==============================] - 5s 1ms/step - loss: 32743.4219 - mean_squared_error: 32743.4219 - mean_squared_logarithmic_error: 1.8833 - val_loss: 47514.9414 - val_mean_squared_error: 47514.9414 - val_mean_squared_logarithmic_error: 2.146634793.4570 - mean_squared_error: 34793.4570 \n",
      "Epoch 94/100\n",
      "5250/5250 [==============================] - 6s 1ms/step - loss: 32085.9648 - mean_squared_error: 32085.9648 - mean_squared_logarithmic_error: 1.8942 - val_loss: 46645.2734 - val_mean_squared_error: 46645.2734 - val_mean_squared_logarithmic_error: 2.1727\n",
      "Epoch 95/100\n",
      "5250/5250 [==============================] - 6s 1ms/step - loss: 32482.2637 - mean_squared_error: 32482.2637 - mean_squared_logarithmic_error: 1.8889 - val_loss: 48604.4297 - val_mean_squared_error: 48604.4297 - val_mean_squared_logarithmic_error: 2.2597\n",
      "Epoch 96/100\n",
      "5250/5250 [==============================] - 5s 1ms/step - loss: 32066.3340 - mean_squared_error: 32066.3340 - mean_squared_logarithmic_error: 1.8790 - val_loss: 47642.4180 - val_mean_squared_error: 47642.4180 - val_mean_squared_logarithmic_error: 2.1822\n",
      "Epoch 97/100\n",
      "5250/5250 [==============================] - 6s 1ms/step - loss: 32179.9902 - mean_squared_error: 32179.9902 - mean_squared_logarithmic_error: 1.8666 - val_loss: 49024.4883 - val_mean_squared_error: 49024.4883 - val_mean_squared_logarithmic_error: 2.2759\n",
      "Epoch 98/100\n",
      "5250/5250 [==============================] - 5s 1ms/step - loss: 31578.2832 - mean_squared_error: 31578.2832 - mean_squared_logarithmic_error: 1.8719 - val_loss: 48708.2500 - val_mean_squared_error: 48708.2500 - val_mean_squared_logarithmic_error: 2.2419\n",
      "Epoch 99/100\n",
      "5250/5250 [==============================] - 5s 1ms/step - loss: 32097.5215 - mean_squared_error: 32097.5215 - mean_squared_logarithmic_error: 1.8716 - val_loss: 47578.4766 - val_mean_squared_error: 47578.4766 - val_mean_squared_logarithmic_error: 2.1388\n",
      "Epoch 100/100\n",
      "5250/5250 [==============================] - 6s 1ms/step - loss: 32097.2441 - mean_squared_error: 32097.2441 - mean_squared_logarithmic_error: 1.8797 - val_loss: 48931.0664 - val_mean_squared_error: 48931.0664 - val_mean_squared_logarithmic_error: 2.2400\n"
     ]
    }
   ],
   "source": [
    "history_val = model_val.fit(X_test_pca, y_train, batch_size=2, epochs=100, verbose=1, validation_split=0.3)"
   ]
  },
  {
   "cell_type": "code",
   "execution_count": 63,
   "metadata": {
    "ExecuteTime": {
     "end_time": "2021-05-10T23:55:29.141393Z",
     "start_time": "2021-05-10T23:55:29.134414Z"
    }
   },
   "outputs": [
    {
     "data": {
      "text/plain": [
       "dict_keys(['loss', 'mean_squared_error', 'mean_squared_logarithmic_error', 'val_loss', 'val_mean_squared_error', 'val_mean_squared_logarithmic_error'])"
      ]
     },
     "execution_count": 63,
     "metadata": {},
     "output_type": "execute_result"
    }
   ],
   "source": [
    "history_val.history.keys()"
   ]
  },
  {
   "cell_type": "code",
   "execution_count": 84,
   "metadata": {
    "ExecuteTime": {
     "end_time": "2021-05-11T03:28:15.846377Z",
     "start_time": "2021-05-11T03:28:15.630772Z"
    }
   },
   "outputs": [
    {
     "data": {
      "text/plain": [
       "[<matplotlib.lines.Line2D at 0x1b36c8fd400>]"
      ]
     },
     "execution_count": 84,
     "metadata": {},
     "output_type": "execute_result"
    },
    {
     "data": {
      "image/png": "[encoded data removed]",
      "text/plain": [
       "<Figure size 1080x1080 with 1 Axes>"
      ]
     },
     "metadata": {
      "needs_background": "light"
     },
     "output_type": "display_data"
    }
   ],
   "source": [
    "plt.plot(history_train.history['loss'])\n",
    "plt.plot(history_train.history['val_loss'])"
   ]
  },
  {
   "cell_type": "code",
   "execution_count": 66,
   "metadata": {
    "ExecuteTime": {
     "end_time": "2021-05-10T23:57:04.810207Z",
     "start_time": "2021-05-10T23:57:04.599753Z"
    }
   },
   "outputs": [
    {
     "data": {
      "text/plain": [
       "[<matplotlib.lines.Line2D at 0x1b352945280>]"
      ]
     },
     "execution_count": 66,
     "metadata": {},
     "output_type": "execute_result"
    },
    {
     "data": {
      "image/png": "[encoded data removed]",
      "text/plain": [
       "<Figure size 1080x1080 with 1 Axes>"
      ]
     },
     "metadata": {
      "needs_background": "light"
     },
     "output_type": "display_data"
    }
   ],
   "source": [
    "plt.plot(history_val.history['mean_squared_logarithmic_error'])\n",
    "plt.plot(history_train.history['mean_squared_logarithmic_error'])"
   ]
  },
  {
   "cell_type": "code",
   "execution_count": null,
   "metadata": {},
   "outputs": [],
   "source": []
  },
  {
   "cell_type": "markdown",
   "metadata": {},
   "source": [
    "### 500 epoch"
   ]
  },
  {
   "cell_type": "code",
   "execution_count": 77,
   "metadata": {
    "ExecuteTime": {
     "end_time": "2021-05-11T01:11:16.539677Z",
     "start_time": "2021-05-11T01:11:16.488169Z"
    }
   },
   "outputs": [],
   "source": [
    "input_layer = Input(shape=(X_train_pca.shape[1],))\n",
    "dense_layer_1 = Dense(100, activation='relu')(input_layer)\n",
    "dense_layer_2 = Dense(50, activation='relu')(dense_layer_1)\n",
    "dense_layer_3 = Dense(25, activation='relu')(dense_layer_2)\n",
    "output = Dense(1)(dense_layer_3)\n",
    "\n",
    "model_500 = Model(inputs=input_layer, outputs=output)\n",
    "model_500.compile(loss=\"mean_squared_error\" , optimizer=\"adam\", metrics=[\"mean_squared_error\",\"mean_squared_logarithmic_error\"])"
   ]
  },
  {
   "cell_type": "code",
   "execution_count": 78,
   "metadata": {
    "ExecuteTime": {
     "end_time": "2021-05-11T03:03:01.492326Z",
     "start_time": "2021-05-11T01:11:17.745716Z"
    },
    "scrolled": true
   },
   "outputs": [
    {
     "name": "stdout",
     "output_type": "stream",
     "text": [
      "Epoch 1/500\n",
      "12250/12250 [==============================] - 14s 1ms/step - loss: 27524.3027 - mean_squared_error: 27524.3027 - mean_squared_logarithmic_error: 1.2519 - val_loss: 25779.2305 - val_mean_squared_error: 25779.2305 - val_mean_squared_logarithmic_error: 1.2249\n",
      "Epoch 2/500\n",
      "12250/12250 [==============================] - 12s 1ms/step - loss: 23060.1895 - mean_squared_error: 23060.1895 - mean_squared_logarithmic_error: 1.0326 - val_loss: 23794.0820 - val_mean_squared_error: 23794.0820 - val_mean_squared_logarithmic_error: 0.9548\n",
      "Epoch 3/500\n",
      "12250/12250 [==============================] - 14s 1ms/step - loss: 21323.5312 - mean_squared_error: 21323.5312 - mean_squared_logarithmic_error: 0.9741 - val_loss: 22710.9902 - val_mean_squared_error: 22710.9902 - val_mean_squared_logarithmic_error: 1.0731\n",
      "Epoch 4/500\n",
      "12250/12250 [==============================] - 14s 1ms/step - loss: 20385.4668 - mean_squared_error: 20385.4668 - mean_squared_logarithmic_error: 0.9480 - val_loss: 21133.7949 - val_mean_squared_error: 21133.7949 - val_mean_squared_logarithmic_error: 0.9757\n",
      "Epoch 5/500\n",
      "12250/12250 [==============================] - 13s 1ms/step - loss: 19584.9219 - mean_squared_error: 19584.9219 - mean_squared_logarithmic_error: 0.9294 - val_loss: 19513.5430 - val_mean_squared_error: 19513.5430 - val_mean_squared_logarithmic_error: 0.9425\n",
      "Epoch 6/500\n",
      "12250/12250 [==============================] - 13s 1ms/step - loss: 18834.6699 - mean_squared_error: 18834.6699 - mean_squared_logarithmic_error: 0.9120 - val_loss: 19276.5918 - val_mean_squared_error: 19276.5918 - val_mean_squared_logarithmic_error: 0.8373\n",
      "Epoch 7/500\n",
      "12250/12250 [==============================] - 13s 1ms/step - loss: 18027.8125 - mean_squared_error: 18027.8125 - mean_squared_logarithmic_error: 0.8888 - val_loss: 21610.1582 - val_mean_squared_error: 21610.1582 - val_mean_squared_logarithmic_error: 0.9432 18245.9258 - mean_squared_error: 18245.9258 - mean_squared_logarithmi\n",
      "Epoch 8/500\n",
      "12250/12250 [==============================] - 13s 1ms/step - loss: 17718.8301 - mean_squared_error: 17718.8301 - mean_squared_logarithmic_error: 0.8869 - val_loss: 21747.9609 - val_mean_squared_error: 21747.9609 - val_mean_squared_logarithmic_error: 0.9098\n",
      "Epoch 9/500\n",
      "12250/12250 [==============================] - 13s 1ms/step - loss: 17419.6465 - mean_squared_error: 17419.6465 - mean_squared_logarithmic_error: 0.8672 - val_loss: 23925.7676 - val_mean_squared_error: 23925.7676 - val_mean_squared_logarithmic_error: 0.9704\n",
      "Epoch 10/500\n",
      "12250/12250 [==============================] - 13s 1ms/step - loss: 17212.8066 - mean_squared_error: 17212.8066 - mean_squared_logarithmic_error: 0.8586 - val_loss: 24215.8750 - val_mean_squared_error: 24215.8750 - val_mean_squared_logarithmic_error: 0.8955\n",
      "Epoch 11/500\n",
      "12250/12250 [==============================] - 13s 1ms/step - loss: 16794.9473 - mean_squared_error: 16794.9473 - mean_squared_logarithmic_error: 0.8578 - val_loss: 24572.5000 - val_mean_squared_error: 24572.5000 - val_mean_squared_logarithmic_error: 0.8437\n",
      "Epoch 12/500\n",
      "12250/12250 [==============================] - 13s 1ms/step - loss: 16647.4863 - mean_squared_error: 16647.4863 - mean_squared_logarithmic_error: 0.8461 - val_loss: 33225.1992 - val_mean_squared_error: 33225.1992 - val_mean_squared_logarithmic_error: 0.9209 17073.2051 - mean_squared_error: 17073.20 - ETA: 2s - loss: 16582.1172 - mean_squared_error: 16\n",
      "Epoch 13/500\n",
      "12250/12250 [==============================] - 13s 1ms/step - loss: 16124.2256 - mean_squared_error: 16124.2256 - mean_squared_logarithmic_error: 0.8312 - val_loss: 29547.3555 - val_mean_squared_error: 29547.3555 - val_mean_squared_logarithmic_error: 0.8834\n",
      "Epoch 14/500\n",
      "12250/12250 [==============================] - 13s 1ms/step - loss: 15984.3447 - mean_squared_error: 15984.3447 - mean_squared_logarithmic_error: 0.8343 - val_loss: 44897.1250 - val_mean_squared_error: 44897.1250 - val_mean_squared_logarithmic_error: 0.9186e\n",
      "Epoch 15/500\n",
      "12250/12250 [==============================] - 13s 1ms/step - loss: 15622.0674 - mean_squared_error: 15622.0674 - mean_squared_logarithmic_error: 0.8230 - val_loss: 36241.6289 - val_mean_squared_error: 36241.6289 - val_mean_squared_logarithmic_error: 0.8734\n",
      "Epoch 16/500\n",
      "12250/12250 [==============================] - 13s 1ms/step - loss: 15530.0947 - mean_squared_error: 15530.0947 - mean_squared_logarithmic_error: 0.8148 - val_loss: 31796.4395 - val_mean_squared_error: 31796.4395 - val_mean_squared_logarithmic_error: 0.8113\n",
      "Epoch 17/500\n",
      "12250/12250 [==============================] - 13s 1ms/step - loss: 15328.8633 - mean_squared_error: 15328.8633 - mean_squared_logarithmic_error: 0.8103 - val_loss: 40418.2852 - val_mean_squared_error: 40418.2852 - val_mean_squared_logarithmic_error: 0.8035\n",
      "Epoch 18/500\n",
      "12250/12250 [==============================] - 13s 1ms/step - loss: 15085.2217 - mean_squared_error: 15085.2217 - mean_squared_logarithmic_error: 0.7977 - val_loss: 41218.1875 - val_mean_squared_error: 41218.1875 - val_mean_squared_logarithmic_error: 0.8848\n",
      "Epoch 19/500\n",
      "12250/12250 [==============================] - 12s 1ms/step - loss: 15084.1494 - mean_squared_error: 15084.1494 - mean_squared_logarithmic_error: 0.7997 - val_loss: 46529.8125 - val_mean_squared_error: 46529.8125 - val_mean_squared_logarithmic_error: 0.7428\n",
      "Epoch 20/500\n",
      "12250/12250 [==============================] - 13s 1ms/step - loss: 14748.7754 - mean_squared_error: 14748.7754 - mean_squared_logarithmic_error: 0.7882 - val_loss: 34512.6953 - val_mean_squared_error: 34512.6953 - val_mean_squared_logarithmic_error: 0.7990\n",
      "Epoch 21/500\n",
      "12250/12250 [==============================] - 13s 1ms/step - loss: 14515.0391 - mean_squared_error: 14515.0391 - mean_squared_logarithmic_error: 0.7918 - val_loss: 41255.4727 - val_mean_squared_error: 41255.4727 - val_mean_squared_logarithmic_error: 0.8130\n",
      "Epoch 22/500\n",
      "12250/12250 [==============================] - 13s 1ms/step - loss: 14376.0127 - mean_squared_error: 14376.0127 - mean_squared_logarithmic_error: 0.7902 - val_loss: 45467.1836 - val_mean_squared_error: 45467.1836 - val_mean_squared_logarithmic_error: 0.8227\n",
      "Epoch 23/500\n",
      "12250/12250 [==============================] - 13s 1ms/step - loss: 14044.1289 - mean_squared_error: 14044.1289 - mean_squared_logarithmic_error: 0.7761 - val_loss: 53008.3359 - val_mean_squared_error: 53008.3359 - val_mean_squared_logarithmic_error: 0.9385\n",
      "Epoch 24/500\n",
      "12250/12250 [==============================] - 13s 1ms/step - loss: 13958.9199 - mean_squared_error: 13958.9199 - mean_squared_logarithmic_error: 0.7872 - val_loss: 51526.8086 - val_mean_squared_error: 51526.8086 - val_mean_squared_logarithmic_error: 0.8094\n",
      "Epoch 25/500\n",
      "12250/12250 [==============================] - 13s 1ms/step - loss: 13670.7686 - mean_squared_error: 13670.7686 - mean_squared_logarithmic_error: 0.7775 - val_loss: 40646.8672 - val_mean_squared_error: 40646.8672 - val_mean_squared_logarithmic_error: 0.8651\n",
      "Epoch 26/500\n",
      "12250/12250 [==============================] - 13s 1ms/step - loss: 13382.0840 - mean_squared_error: 13382.0840 - mean_squared_logarithmic_error: 0.7746 - val_loss: 52624.2305 - val_mean_squared_error: 52624.2305 - val_mean_squared_logarithmic_error: 0.9125\n",
      "Epoch 27/500\n",
      "12250/12250 [==============================] - 13s 1ms/step - loss: 13489.4590 - mean_squared_error: 13489.4590 - mean_squared_logarithmic_error: 0.7745 - val_loss: 39543.6172 - val_mean_squared_error: 39543.6172 - val_mean_squared_logarithmic_error: 0.8316\n",
      "Epoch 28/500\n",
      "12250/12250 [==============================] - 13s 1ms/step - loss: 13104.3398 - mean_squared_error: 13104.3398 - mean_squared_logarithmic_error: 0.7639 - val_loss: 25681.4355 - val_mean_squared_error: 25681.4355 - val_mean_squared_logarithmic_error: 0.82397158 - mean_squared_error: 12993.7\n",
      "Epoch 29/500\n",
      "12250/12250 [==============================] - 13s 1ms/step - loss: 12721.9365 - mean_squared_error: 12721.9365 - mean_squared_logarithmic_error: 0.7665 - val_loss: 27299.9473 - val_mean_squared_error: 27299.9473 - val_mean_squared_logarithmic_error: 0.8134\n",
      "Epoch 30/500\n",
      "12250/12250 [==============================] - 13s 1ms/step - loss: 12832.5527 - mean_squared_error: 12832.5527 - mean_squared_logarithmic_error: 0.7674 - val_loss: 30757.9102 - val_mean_squared_error: 30757.9102 - val_mean_squared_logarithmic_error: 0.8494\n",
      "Epoch 31/500\n",
      "12250/12250 [==============================] - 13s 1ms/step - loss: 12482.0293 - mean_squared_error: 12482.0293 - mean_squared_logarithmic_error: 0.7573 - val_loss: 23431.7070 - val_mean_squared_error: 23431.7070 - val_mean_squared_logarithmic_error: 0.8855\n",
      "Epoch 32/500\n",
      "12250/12250 [==============================] - 13s 1ms/step - loss: 12341.8281 - mean_squared_error: 12341.8281 - mean_squared_logarithmic_error: 0.7546 - val_loss: 32909.2891 - val_mean_squared_error: 32909.2891 - val_mean_squared_logarithmic_error: 0.8394\n",
      "Epoch 33/500\n",
      "12250/12250 [==============================] - 13s 1ms/step - loss: 12017.8184 - mean_squared_error: 12017.8184 - mean_squared_logarithmic_error: 0.7649 - val_loss: 28776.1836 - val_mean_squared_error: 28776.1836 - val_mean_squared_logarithmic_error: 0.7920\n",
      "Epoch 34/500\n",
      "12250/12250 [==============================] - 13s 1ms/step - loss: 11892.9463 - mean_squared_error: 11892.9463 - mean_squared_logarithmic_error: 0.7491 - val_loss: 31014.5156 - val_mean_squared_error: 31014.5156 - val_mean_squared_logarithmic_error: 0.7979\n",
      "Epoch 35/500\n",
      "12250/12250 [==============================] - 13s 1ms/step - loss: 11792.5420 - mean_squared_error: 11792.5420 - mean_squared_logarithmic_error: 0.7530 - val_loss: 30735.0977 - val_mean_squared_error: 30735.0977 - val_mean_squared_logarithmic_error: 1.0205\n",
      "Epoch 36/500\n",
      "12250/12250 [==============================] - 13s 1ms/step - loss: 11592.8467 - mean_squared_error: 11592.8467 - mean_squared_logarithmic_error: 0.7556 - val_loss: 18604.0586 - val_mean_squared_error: 18604.0586 - val_mean_squared_logarithmic_error: 0.7825\n",
      "Epoch 37/500\n",
      "12250/12250 [==============================] - 13s 1ms/step - loss: 11326.2109 - mean_squared_error: 11326.2109 - mean_squared_logarithmic_error: 0.7500 - val_loss: 18274.3945 - val_mean_squared_error: 18274.3945 - val_mean_squared_logarithmic_error: 0.8017\n",
      "Epoch 38/500\n",
      "12250/12250 [==============================] - 13s 1ms/step - loss: 11381.9688 - mean_squared_error: 11381.9688 - mean_squared_logarithmic_error: 0.7500 - val_loss: 25157.9023 - val_mean_squared_error: 25157.9023 - val_mean_squared_logarithmic_error: 0.8837\n",
      "Epoch 39/500\n",
      "12250/12250 [==============================] - 13s 1ms/step - loss: 11105.5557 - mean_squared_error: 11105.5557 - mean_squared_logarithmic_error: 0.7544 - val_loss: 32416.4941 - val_mean_squared_error: 32416.4941 - val_mean_squared_logarithmic_error: 0.8453\n",
      "Epoch 40/500\n",
      "12250/12250 [==============================] - 13s 1ms/step - loss: 10906.4072 - mean_squared_error: 10906.4072 - mean_squared_logarithmic_error: 0.7561 - val_loss: 17301.6113 - val_mean_squared_error: 17301.6113 - val_mean_squared_logarithmic_error: 0.7830\n",
      "Epoch 41/500\n",
      "12250/12250 [==============================] - 13s 1ms/step - loss: 10906.9736 - mean_squared_error: 10906.9736 - mean_squared_logarithmic_error: 0.7541 - val_loss: 29208.8086 - val_mean_squared_error: 29208.8086 - val_mean_squared_logarithmic_error: 0.8233\n",
      "Epoch 42/500\n",
      "12250/12250 [==============================] - 13s 1ms/step - loss: 10781.3379 - mean_squared_error: 10781.3379 - mean_squared_logarithmic_error: 0.7457 - val_loss: 25708.6699 - val_mean_squared_error: 25708.6699 - val_mean_squared_logarithmic_error: 0.8322\n",
      "Epoch 43/500\n",
      "12250/12250 [==============================] - 13s 1ms/step - loss: 10613.2314 - mean_squared_error: 10613.2314 - mean_squared_logarithmic_error: 0.7396 - val_loss: 17232.6074 - val_mean_squared_error: 17232.6074 - val_mean_squared_logarithmic_error: 0.8297d_error: 10600.3955 - mean_squared_logarithmic_error: 0.7\n",
      "Epoch 44/500\n",
      "12250/12250 [==============================] - 13s 1ms/step - loss: 10498.5576 - mean_squared_error: 10498.5576 - mean_squared_logarithmic_error: 0.7402 - val_loss: 15994.6426 - val_mean_squared_error: 15994.6426 - val_mean_squared_logarithmic_error: 0.8448\n",
      "Epoch 45/500\n",
      "12250/12250 [==============================] - 14s 1ms/step - loss: 10367.2236 - mean_squared_error: 10367.2236 - mean_squared_logarithmic_error: 0.7402 - val_loss: 13847.3291 - val_mean_squared_error: 13847.3291 - val_mean_squared_logarithmic_error: 0.8406\n",
      "Epoch 46/500\n",
      "12250/12250 [==============================] - 13s 1ms/step - loss: 10023.6465 - mean_squared_error: 10023.6465 - mean_squared_logarithmic_error: 0.7367 - val_loss: 16025.8115 - val_mean_squared_error: 16025.8115 - val_mean_squared_logarithmic_error: 0.8155\n",
      "Epoch 47/500\n",
      "12250/12250 [==============================] - 13s 1ms/step - loss: 10300.6387 - mean_squared_error: 10300.6387 - mean_squared_logarithmic_error: 0.7326 - val_loss: 14415.7119 - val_mean_squared_error: 14415.7119 - val_mean_squared_logarithmic_error: 0.8297\n",
      "Epoch 48/500\n",
      "12250/12250 [==============================] - 13s 1ms/step - loss: 9992.0332 - mean_squared_error: 9992.0332 - mean_squared_logarithmic_error: 0.7315 - val_loss: 14146.8418 - val_mean_squared_error: 14146.8418 - val_mean_squared_logarithmic_error: 0.8354\n",
      "Epoch 49/500\n",
      "12250/12250 [==============================] - 16s 1ms/step - loss: 9841.4199 - mean_squared_error: 9841.4199 - mean_squared_logarithmic_error: 0.7286 - val_loss: 15422.2598 - val_mean_squared_error: 15422.2598 - val_mean_squared_logarithmic_error: 0.7757\n",
      "Epoch 50/500\n",
      "12250/12250 [==============================] - 13s 1ms/step - loss: 9775.4502 - mean_squared_error: 9775.4502 - mean_squared_logarithmic_error: 0.7206 - val_loss: 15556.3311 - val_mean_squared_error: 15556.3311 - val_mean_squared_logarithmic_error: 0.82829774.6992 - mean_squared_logarithmic\n",
      "Epoch 51/500\n",
      "12250/12250 [==============================] - 13s 1ms/step - loss: 9655.3721 - mean_squared_error: 9655.3721 - mean_squared_logarithmic_error: 0.7356 - val_loss: 14517.3262 - val_mean_squared_error: 14517.3262 - val_mean_squared_logarithmic_error: 0.8197\n",
      "Epoch 52/500\n",
      "12250/12250 [==============================] - 14s 1ms/step - loss: 9663.0752 - mean_squared_error: 9663.0752 - mean_squared_logarithmic_error: 0.7287 - val_loss: 14636.1084 - val_mean_squared_error: 14636.1084 - val_mean_squared_logarithmic_error: 0.8279\n",
      "Epoch 53/500\n",
      "12250/12250 [==============================] - 13s 1ms/step - loss: 9554.9209 - mean_squared_error: 9554.9209 - mean_squared_logarithmic_error: 0.7166 - val_loss: 14144.7510 - val_mean_squared_error: 14144.7510 - val_mean_squared_logarithmic_error: 0.7992\n",
      "Epoch 54/500\n",
      "12250/12250 [==============================] - 13s 1ms/step - loss: 9571.6426 - mean_squared_error: 9571.6426 - mean_squared_logarithmic_error: 0.7231 - val_loss: 13824.8027 - val_mean_squared_error: 13824.8027 - val_mean_squared_logarithmic_error: 0.8101399.2930 - mean_squared_error: 9399.2930 - me - ETA: 0s - loss: 9661.9375 - mean_squared_error: 9661.9375 - mean_squared_logarithmic_er\n",
      "Epoch 55/500\n",
      "12250/12250 [==============================] - 13s 1ms/step - loss: 9465.1943 - mean_squared_error: 9465.1943 - mean_squared_logarithmic_error: 0.7140 - val_loss: 13346.0996 - val_mean_squared_error: 13346.0996 - val_mean_squared_logarithmic_error: 0.7853\n",
      "Epoch 56/500\n",
      "12250/12250 [==============================] - 15s 1ms/step - loss: 9357.7559 - mean_squared_error: 9357.7559 - mean_squared_logarithmic_error: 0.7086 - val_loss: 13356.2207 - val_mean_squared_error: 13356.2207 - val_mean_squared_logarithmic_error: 0.8052\n",
      "Epoch 57/500\n",
      "12250/12250 [==============================] - 13s 1ms/step - loss: 9167.7393 - mean_squared_error: 9167.7393 - mean_squared_logarithmic_error: 0.7120 - val_loss: 15282.2861 - val_mean_squared_error: 15282.2861 - val_mean_squared_logarithmic_error: 0.8252\n",
      "Epoch 58/500\n",
      "12250/12250 [==============================] - 13s 1ms/step - loss: 9002.4492 - mean_squared_error: 9002.4492 - mean_squared_logarithmic_error: 0.7019 - val_loss: 14401.4902 - val_mean_squared_error: 14401.4902 - val_mean_squared_logarithmic_error: 0.8084\n",
      "Epoch 59/500\n"
     ]
    },
    {
     "name": "stdout",
     "output_type": "stream",
     "text": [
      "12250/12250 [==============================] - 13s 1ms/step - loss: 8991.7344 - mean_squared_error: 8991.7344 - mean_squared_logarithmic_error: 0.7032 - val_loss: 13689.7939 - val_mean_squared_error: 13689.7939 - val_mean_squared_logarithmic_error: 0.7708\n",
      "Epoch 60/500\n",
      "12250/12250 [==============================] - 13s 1ms/step - loss: 8953.2031 - mean_squared_error: 8953.2031 - mean_squared_logarithmic_error: 0.7020 - val_loss: 14109.2861 - val_mean_squared_error: 14109.2861 - val_mean_squared_logarithmic_error: 0.8365 mean_squared_error\n",
      "Epoch 61/500\n",
      "12250/12250 [==============================] - 13s 1ms/step - loss: 8872.3516 - mean_squared_error: 8872.3516 - mean_squared_logarithmic_error: 0.6988 - val_loss: 15703.9258 - val_mean_squared_error: 15703.9258 - val_mean_squared_logarithmic_error: 0.7843\n",
      "Epoch 62/500\n",
      "12250/12250 [==============================] - 13s 1ms/step - loss: 8896.4912 - mean_squared_error: 8896.4912 - mean_squared_logarithmic_error: 0.6964 - val_loss: 14306.8906 - val_mean_squared_error: 14306.8906 - val_mean_squared_logarithmic_error: 0.79744.9443 - mean_squared_error: 8654.9443 - mean_squared_logarithm - ETA: 2s - loss: 8862.9043 - mean_squared_error:\n",
      "Epoch 63/500\n",
      "12250/12250 [==============================] - 13s 1ms/step - loss: 8876.1133 - mean_squared_error: 8876.1133 - mean_squared_logarithmic_error: 0.6885 - val_loss: 13747.9238 - val_mean_squared_error: 13747.9238 - val_mean_squared_logarithmic_error: 0.8070\n",
      "Epoch 64/500\n",
      "12250/12250 [==============================] - 13s 1ms/step - loss: 8661.8760 - mean_squared_error: 8661.8760 - mean_squared_logarithmic_error: 0.6938 - val_loss: 15482.8115 - val_mean_squared_error: 15482.8115 - val_mean_squared_logarithmic_error: 0.7936\n",
      "Epoch 65/500\n",
      "12250/12250 [==============================] - 13s 1ms/step - loss: 8565.6738 - mean_squared_error: 8565.6738 - mean_squared_logarithmic_error: 0.6974 - val_loss: 15446.2109 - val_mean_squared_error: 15446.2109 - val_mean_squared_logarithmic_error: 0.81770.4023 - mean_squared_logarithmic\n",
      "Epoch 66/500\n",
      "12250/12250 [==============================] - 13s 1ms/step - loss: 8607.6104 - mean_squared_error: 8607.6104 - mean_squared_logarithmic_error: 0.6863 - val_loss: 15867.9014 - val_mean_squared_error: 15867.9014 - val_mean_squared_logarithmic_error: 0.8247oss: 8643.2598 - mean_squared_err\n",
      "Epoch 67/500\n",
      "12250/12250 [==============================] - 13s 1ms/step - loss: 8535.3975 - mean_squared_error: 8535.3975 - mean_squared_logarithmic_error: 0.6924 - val_loss: 14160.9814 - val_mean_squared_error: 14160.9814 - val_mean_squared_logarithmic_error: 0.7717\n",
      "Epoch 68/500\n",
      "12250/12250 [==============================] - 13s 1ms/step - loss: 8415.3232 - mean_squared_error: 8415.3232 - mean_squared_logarithmic_error: 0.6935 - val_loss: 13188.0947 - val_mean_squared_error: 13188.0947 - val_mean_squared_logarithmic_error: 0.7671\n",
      "Epoch 69/500\n",
      "12250/12250 [==============================] - 13s 1ms/step - loss: 8307.6084 - mean_squared_error: 8307.6084 - mean_squared_logarithmic_error: 0.6876 - val_loss: 13137.5928 - val_mean_squared_error: 13137.5928 - val_mean_squared_logarithmic_error: 0.8096\n",
      "Epoch 70/500\n",
      "12250/12250 [==============================] - 13s 1ms/step - loss: 8355.7979 - mean_squared_error: 8355.7979 - mean_squared_logarithmic_error: 0.6891 - val_loss: 13139.9570 - val_mean_squared_error: 13139.9570 - val_mean_squared_logarithmic_error: 0.7767\n",
      "Epoch 71/500\n",
      "12250/12250 [==============================] - 13s 1ms/step - loss: 8212.0850 - mean_squared_error: 8212.0850 - mean_squared_logarithmic_error: 0.6856 - val_loss: 13313.6074 - val_mean_squared_error: 13313.6074 - val_mean_squared_logarithmic_error: 0.8288\n",
      "Epoch 72/500\n",
      "12250/12250 [==============================] - 13s 1ms/step - loss: 8197.8799 - mean_squared_error: 8197.8799 - mean_squared_logarithmic_error: 0.6863 - val_loss: 13382.6943 - val_mean_squared_error: 13382.6943 - val_mean_squared_logarithmic_error: 0.8366\n",
      "Epoch 73/500\n",
      "12250/12250 [==============================] - 13s 1ms/step - loss: 8188.1260 - mean_squared_error: 8188.1260 - mean_squared_logarithmic_error: 0.6867 - val_loss: 12886.0039 - val_mean_squared_error: 12886.0039 - val_mean_squared_logarithmic_error: 0.7663\n",
      "Epoch 74/500\n",
      "12250/12250 [==============================] - 13s 1ms/step - loss: 8093.7456 - mean_squared_error: 8093.7456 - mean_squared_logarithmic_error: 0.6791 - val_loss: 13486.9658 - val_mean_squared_error: 13486.9658 - val_mean_squared_logarithmic_error: 0.7923\n",
      "Epoch 75/500\n",
      "12250/12250 [==============================] - 13s 1ms/step - loss: 7924.2656 - mean_squared_error: 7924.2656 - mean_squared_logarithmic_error: 0.6790 - val_loss: 12859.8799 - val_mean_squared_error: 12859.8799 - val_mean_squared_logarithmic_error: 0.7690\n",
      "Epoch 76/500\n",
      "12250/12250 [==============================] - 13s 1ms/step - loss: 8003.0845 - mean_squared_error: 8003.0845 - mean_squared_logarithmic_error: 0.6776 - val_loss: 13604.1494 - val_mean_squared_error: 13604.1494 - val_mean_squared_logarithmic_error: 0.8083ss: 6927.6016 - - ETA: 3s - loss: 7752.2544 - mean_squared_error: 77 - ETA: 1s - loss: 7822.8369 - mean_squared_error: 7822.8369 - mean_square\n",
      "Epoch 77/500\n",
      "12250/12250 [==============================] - 13s 1ms/step - loss: 7938.4600 - mean_squared_error: 7938.4600 - mean_squared_logarithmic_error: 0.6760 - val_loss: 13509.9326 - val_mean_squared_error: 13509.9326 - val_mean_squared_logarithmic_error: 0.8416\n",
      "Epoch 78/500\n",
      "12250/12250 [==============================] - 13s 1ms/step - loss: 7747.0112 - mean_squared_error: 7747.0112 - mean_squared_logarithmic_error: 0.6768 - val_loss: 12480.3506 - val_mean_squared_error: 12480.3506 - val_mean_squared_logarithmic_error: 0.78432642 - mean_squared_error: 7729.2642 - mean_squared_logarithmic_error - ETA: 1s - loss: 7700.0620 - mean_squared_error: 7700.0620 - mean_square\n",
      "Epoch 79/500\n",
      "12250/12250 [==============================] - 13s 1ms/step - loss: 7756.4834 - mean_squared_error: 7756.4834 - mean_squared_logarithmic_error: 0.6798 - val_loss: 12976.2422 - val_mean_squared_error: 12976.2422 - val_mean_squared_logarithmic_error: 0.8265\n",
      "Epoch 80/500\n",
      "12250/12250 [==============================] - 13s 1ms/step - loss: 7764.6826 - mean_squared_error: 7764.6826 - mean_squared_logarithmic_error: 0.6761 - val_loss: 12569.5479 - val_mean_squared_error: 12569.5479 - val_mean_squared_logarithmic_error: 0.7829\n",
      "Epoch 81/500\n",
      "12250/12250 [==============================] - 13s 1ms/step - loss: 7757.2344 - mean_squared_error: 7757.2344 - mean_squared_logarithmic_error: 0.6749 - val_loss: 12911.7520 - val_mean_squared_error: 12911.7520 - val_mean_squared_logarithmic_error: 0.7619\n",
      "Epoch 82/500\n",
      "12250/12250 [==============================] - 13s 1ms/step - loss: 7745.2285 - mean_squared_error: 7745.2285 - mean_squared_logarithmic_error: 0.6702 - val_loss: 12441.9150 - val_mean_squared_error: 12441.9150 - val_mean_squared_logarithmic_error: 0.8233\n",
      "Epoch 83/500\n",
      "12250/12250 [==============================] - 13s 1ms/step - loss: 7600.6055 - mean_squared_error: 7600.6055 - mean_squared_logarithmic_error: 0.6712 - val_loss: 13076.1221 - val_mean_squared_error: 13076.1221 - val_mean_squared_logarithmic_error: 0.8155  - ETA: 5s - loss: 7307.7266 - mean_squared_error: 7307.726 - ETA: 3s - loss: 7642.7832 -  - ETA: 0s - loss: 7572.7002 - mean_squared_error: 7572.7002 - mean_squared_logarithmic_error: 0.672\n",
      "Epoch 84/500\n",
      "12250/12250 [==============================] - 13s 1ms/step - loss: 7562.1357 - mean_squared_error: 7562.1357 - mean_squared_logarithmic_error: 0.6692 - val_loss: 13403.5264 - val_mean_squared_error: 13403.5264 - val_mean_squared_logarithmic_error: 0.8062\n",
      "Epoch 85/500\n",
      "12250/12250 [==============================] - 13s 1ms/step - loss: 7551.0059 - mean_squared_error: 7551.0059 - mean_squared_logarithmic_error: 0.6610 - val_loss: 12311.2773 - val_mean_squared_error: 12311.2773 - val_mean_squared_logarithmic_error: 0.8080\n",
      "Epoch 86/500\n",
      "12250/12250 [==============================] - 13s 1ms/step - loss: 7296.6641 - mean_squared_error: 7296.6641 - mean_squared_logarithmic_error: 0.6730 - val_loss: 12158.6943 - val_mean_squared_error: 12158.6943 - val_mean_squared_logarithmic_error: 0.7826\n"
     ]
    },
    {
     "name": "stdout",
     "output_type": "stream",
     "text": [
      "Epoch 87/500\n",
      "12250/12250 [==============================] - 13s 1ms/step - loss: 7356.7705 - mean_squared_error: 7356.7705 - mean_squared_logarithmic_error: 0.6558 - val_loss: 14957.2969 - val_mean_squared_error: 14957.2969 - val_mean_squared_logarithmic_error: 0.8207 6973.0005 - mean_s\n",
      "Epoch 88/500\n",
      "12250/12250 [==============================] - 13s 1ms/step - loss: 7242.6509 - mean_squared_error: 7242.6509 - mean_squared_logarithmic_error: 0.6711 - val_loss: 13017.6260 - val_mean_squared_error: 13017.6260 - val_mean_squared_logarithmic_error: 0.8035231.5396 - mean_squared_error: 7231.5396 - mean_squared_logarithmic_error:\n",
      "Epoch 89/500\n",
      "12250/12250 [==============================] - 13s 1ms/step - loss: 7194.3433 - mean_squared_error: 7194.3433 - mean_squared_logarithmic_error: 0.6751 - val_loss: 12791.0674 - val_mean_squared_error: 12791.0674 - val_mean_squared_logarithmic_error: 0.7882\n",
      "Epoch 90/500\n",
      "12250/12250 [==============================] - 13s 1ms/step - loss: 7210.7925 - mean_squared_error: 7210.7925 - mean_squared_logarithmic_error: 0.6641 - val_loss: 12396.6680 - val_mean_squared_error: 12396.6680 - val_mean_squared_logarithmic_error: 0.7626\n",
      "Epoch 91/500\n",
      "12250/12250 [==============================] - 13s 1ms/step - loss: 7160.6826 - mean_squared_error: 7160.6826 - mean_squared_logarithmic_error: 0.6617 - val_loss: 12825.8545 - val_mean_squared_error: 12825.8545 - val_mean_squared_logarithmic_error: 0.8105\n",
      "Epoch 92/500\n",
      "12250/12250 [==============================] - 13s 1ms/step - loss: 7104.8037 - mean_squared_error: 7104.8037 - mean_squared_logarithmic_error: 0.6611 - val_loss: 12970.8066 - val_mean_squared_error: 12970.8066 - val_mean_squared_logarithmic_error: 0.8504\n",
      "Epoch 93/500\n",
      "12250/12250 [==============================] - 13s 1ms/step - loss: 7064.2480 - mean_squared_error: 7064.2480 - mean_squared_logarithmic_error: 0.6626 - val_loss: 12062.1494 - val_mean_squared_error: 12062.1494 - val_mean_squared_logarithmic_error: 0.7931: 7106.7935 - mean_squared_error: 7106.7935 - mean_squared_logarithmic_e\n",
      "Epoch 94/500\n",
      "12250/12250 [==============================] - 13s 1ms/step - loss: 7070.3286 - mean_squared_error: 7070.3286 - mean_squared_logarithmic_error: 0.6592 - val_loss: 13105.6777 - val_mean_squared_error: 13105.6777 - val_mean_squared_logarithmic_error: 0.87144\n",
      "Epoch 95/500\n",
      "12250/12250 [==============================] - 13s 1ms/step - loss: 6973.4170 - mean_squared_error: 6973.4170 - mean_squared_logarithmic_error: 0.6722 - val_loss: 13200.1123 - val_mean_squared_error: 13200.1123 - val_mean_squared_logarithmic_error: 0.8115\n",
      "Epoch 96/500\n",
      "12250/12250 [==============================] - 13s 1ms/step - loss: 6911.1113 - mean_squared_error: 6911.1113 - mean_squared_logarithmic_error: 0.6698 - val_loss: 12237.2275 - val_mean_squared_error: 12237.2275 - val_mean_squared_logarithmic_error: 0.8113\n",
      "Epoch 97/500\n",
      "12250/12250 [==============================] - 13s 1ms/step - loss: 6872.9927 - mean_squared_error: 6872.9927 - mean_squared_logarithmic_error: 0.6631 - val_loss: 12078.9658 - val_mean_squared_error: 12078.9658 - val_mean_squared_logarithmic_error: 0.7796\n",
      "Epoch 98/500\n",
      "12250/12250 [==============================] - 13s 1ms/step - loss: 6808.3179 - mean_squared_error: 6808.3179 - mean_squared_logarithmic_error: 0.6544 - val_loss: 12240.5918 - val_mean_squared_error: 12240.5918 - val_mean_squared_logarithmic_error: 0.7938\n",
      "Epoch 99/500\n",
      "12250/12250 [==============================] - 13s 1ms/step - loss: 6708.3677 - mean_squared_error: 6708.3677 - mean_squared_logarithmic_error: 0.6559 - val_loss: 12105.4033 - val_mean_squared_error: 12105.4033 - val_mean_squared_logarithmic_error: 0.7718\n",
      "Epoch 100/500\n",
      "12250/12250 [==============================] - 13s 1ms/step - loss: 6719.2808 - mean_squared_error: 6719.2808 - mean_squared_logarithmic_error: 0.6547 - val_loss: 12606.6699 - val_mean_squared_error: 12606.6699 - val_mean_squared_logarithmic_error: 0.8245 - ETA: 1s - loss: 6701.4834 - mean_squared_error: 6701.4834 - mean_s\n",
      "Epoch 101/500\n",
      "12250/12250 [==============================] - 14s 1ms/step - loss: 6642.1167 - mean_squared_error: 6642.1167 - mean_squared_logarithmic_error: 0.6576 - val_loss: 12204.5850 - val_mean_squared_error: 12204.5850 - val_mean_squared_logarithmic_error: 0.8215_error\n",
      "Epoch 102/500\n",
      "12250/12250 [==============================] - 13s 1ms/step - loss: 6711.3066 - mean_squared_error: 6711.3066 - mean_squared_logarithmic_error: 0.6552 - val_loss: 12662.6133 - val_mean_squared_error: 12662.6133 - val_mean_squared_logarithmic_error: 0.7883\n",
      "Epoch 103/500\n",
      "12250/12250 [==============================] - 13s 1ms/step - loss: 6526.3901 - mean_squared_error: 6526.3901 - mean_squared_logarithmic_error: 0.6515 - val_loss: 12503.3555 - val_mean_squared_error: 12503.3555 - val_mean_squared_logarithmic_error: 0.7790\n",
      "Epoch 104/500\n",
      "12250/12250 [==============================] - 13s 1ms/step - loss: 6525.2808 - mean_squared_error: 6525.2808 - mean_squared_logarithmic_error: 0.6603 - val_loss: 13212.5146 - val_mean_squared_error: 13212.5146 - val_mean_squared_logarithmic_error: 0.80706568.0811 - mean_squared_logarithmic_er\n",
      "Epoch 105/500\n",
      "12250/12250 [==============================] - 13s 1ms/step - loss: 6543.5200 - mean_squared_error: 6543.5200 - mean_squared_logarithmic_error: 0.6516 - val_loss: 12040.4883 - val_mean_squared_error: 12040.4883 - val_mean_squared_logarithmic_error: 0.8294\n",
      "Epoch 106/500\n",
      "12250/12250 [==============================] - 13s 1ms/step - loss: 6532.4917 - mean_squared_error: 6532.4917 - mean_squared_logarithmic_error: 0.6624 - val_loss: 11706.9707 - val_mean_squared_error: 11706.9707 - val_mean_squared_logarithmic_error: 0.7767\n",
      "Epoch 107/500\n",
      "12250/12250 [==============================] - 13s 1ms/step - loss: 6505.8970 - mean_squared_error: 6505.8970 - mean_squared_logarithmic_error: 0.6563 - val_loss: 13410.9912 - val_mean_squared_error: 13410.9912 - val_mean_squared_logarithmic_error: 0.7825\n",
      "Epoch 108/500\n",
      "12250/12250 [==============================] - 13s 1ms/step - loss: 6389.3140 - mean_squared_error: 6389.3140 - mean_squared_logarithmic_error: 0.6560 - val_loss: 12332.8047 - val_mean_squared_error: 12332.8047 - val_mean_squared_logarithmic_error: 0.8199\n",
      "Epoch 109/500\n",
      "12250/12250 [==============================] - 13s 1ms/step - loss: 6337.1372 - mean_squared_error: 6337.1372 - mean_squared_logarithmic_error: 0.6584 - val_loss: 13137.3398 - val_mean_squared_error: 13137.3398 - val_mean_squared_logarithmic_error: 0.8155\n",
      "Epoch 110/500\n",
      "12250/12250 [==============================] - 13s 1ms/step - loss: 6370.5347 - mean_squared_error: 6370.5347 - mean_squared_logarithmic_error: 0.6468 - val_loss: 12228.7314 - val_mean_squared_error: 12228.7314 - val_mean_squared_logarithmic_error: 0.8171_square\n",
      "Epoch 111/500\n",
      "12250/12250 [==============================] - 13s 1ms/step - loss: 6325.9009 - mean_squared_error: 6325.9009 - mean_squared_logarithmic_error: 0.6509 - val_loss: 11849.8105 - val_mean_squared_error: 11849.8105 - val_mean_squared_logarithmic_error: 0.8554mean_squared_error: 6209.9150 -  -\n",
      "Epoch 112/500\n",
      "12250/12250 [==============================] - 13s 1ms/step - loss: 6311.3472 - mean_squared_error: 6311.3472 - mean_squared_logarithmic_error: 0.6535 - val_loss: 11919.3955 - val_mean_squared_error: 11919.3955 - val_mean_squared_logarithmic_error: 0.8064\n",
      "Epoch 113/500\n",
      "12250/12250 [==============================] - 13s 1ms/step - loss: 6107.3359 - mean_squared_error: 6107.3359 - mean_squared_logarithmic_error: 0.6518 - val_loss: 13347.7627 - val_mean_squared_error: 13347.7627 - val_mean_squared_logarithmic_error: 0.8111\n",
      "Epoch 114/500\n",
      "12250/12250 [==============================] - 12s 1ms/step - loss: 6191.6675 - mean_squared_error: 6191.6675 - mean_squared_logarithmic_error: 0.6512 - val_loss: 11856.0547 - val_mean_squared_error: 11856.0547 - val_mean_squared_logarithmic_error: 0.8028\n",
      "Epoch 115/500\n",
      "12250/12250 [==============================] - 13s 1ms/step - loss: 6216.4028 - mean_squared_error: 6216.4028 - mean_squared_logarithmic_error: 0.6429 - val_loss: 12930.2891 - val_mean_squared_error: 12930.2891 - val_mean_squared_logarithmic_error: 0.8293\n",
      "Epoch 116/500\n",
      "12250/12250 [==============================] - 13s 1ms/step - loss: 6289.4287 - mean_squared_error: 6289.4287 - mean_squared_logarithmic_error: 0.6481 - val_loss: 12089.6270 - val_mean_squared_error: 12089.6270 - val_mean_squared_logarithmic_error: 0.7718\n",
      "Epoch 117/500\n",
      "12250/12250 [==============================] - 13s 1ms/step - loss: 6133.7095 - mean_squared_error: 6133.7095 - mean_squared_logarithmic_error: 0.6441 - val_loss: 11874.8613 - val_mean_squared_error: 11874.8613 - val_mean_squared_logarithmic_error: 0.7365r: 6044.\n",
      "Epoch 118/500\n",
      "12250/12250 [==============================] - 13s 1ms/step - loss: 6103.8218 - mean_squared_error: 6103.8218 - mean_squared_logarithmic_error: 0.6481 - val_loss: 11821.1689 - val_mean_squared_error: 11821.1689 - val_mean_squared_logarithmic_error: 0.806809.6460 - mean_squared_error: 6109.6460 - mean_squared_logarithmic_\n",
      "Epoch 119/500\n",
      "12250/12250 [==============================] - 13s 1ms/step - loss: 6187.6230 - mean_squared_error: 6187.6230 - mean_squared_logarithmic_error: 0.6482 - val_loss: 12570.2275 - val_mean_squared_error: 12570.2275 - val_mean_squared_logarithmic_error: 0.8055d_\n",
      "Epoch 120/500\n",
      "12250/12250 [==============================] - 13s 1ms/step - loss: 5983.3862 - mean_squared_error: 5983.3862 - mean_squared_logarithmic_error: 0.6361 - val_loss: 11718.5879 - val_mean_squared_error: 11718.5879 - val_mean_squared_logarithmic_error: 0.8277\n",
      "Epoch 121/500\n",
      "12250/12250 [==============================] - 13s 1ms/step - loss: 5940.3525 - mean_squared_error: 5940.3525 - mean_squared_logarithmic_error: 0.6470 - val_loss: 12012.3232 - val_mean_squared_error: 12012.3232 - val_mean_squared_logarithmic_error: 0.7935\n",
      "Epoch 122/500\n",
      "12250/12250 [==============================] - 13s 1ms/step - loss: 6091.5273 - mean_squared_error: 6091.5273 - mean_squared_logarithmic_error: 0.6435 - val_loss: 12131.2500 - val_mean_squared_error: 12131.2500 - val_mean_squared_logarithmic_error: 0.76829404 - mean_squared_logarithmic_err\n",
      "Epoch 123/500\n",
      "12250/12250 [==============================] - 13s 1ms/step - loss: 5975.0801 - mean_squared_error: 5975.0801 - mean_squared_logarithmic_error: 0.6466 - val_loss: 12652.2598 - val_mean_squared_error: 12652.2598 - val_mean_squared_logarithmic_error: 0.7809\n",
      "Epoch 124/500\n",
      "12250/12250 [==============================] - 15s 1ms/step - loss: 5978.1426 - mean_squared_error: 5978.1426 - mean_squared_logarithmic_error: 0.6490 - val_loss: 12338.7402 - val_mean_squared_error: 12338.7402 - val_mean_squared_logarithmic_error: 0.8129\n",
      "Epoch 125/500\n",
      "12250/12250 [==============================] - 13s 1ms/step - loss: 5917.4966 - mean_squared_error: 5917.4966 - mean_squared_logarithmic_error: 0.6402 - val_loss: 11380.0811 - val_mean_squared_error: 11380.0811 - val_mean_squared_logarithmic_error: 0.7873\n",
      "Epoch 126/500\n",
      "12250/12250 [==============================] - 13s 1ms/step - loss: 5698.5566 - mean_squared_error: 5698.5566 - mean_squared_logarithmic_error: 0.6412 - val_loss: 12990.4502 - val_mean_squared_error: 12990.4502 - val_mean_squared_logarithmic_error: 0.8108\n",
      "Epoch 127/500\n",
      "12250/12250 [==============================] - 13s 1ms/step - loss: 5851.9170 - mean_squared_error: 5851.9170 - mean_squared_logarithmic_error: 0.6464 - val_loss: 11558.2568 - val_mean_squared_error: 11558.2568 - val_mean_squared_logarithmic_error: 0.7767\n",
      "Epoch 128/500\n",
      "12250/12250 [==============================] - 13s 1ms/step - loss: 5858.2158 - mean_squared_error: 5858.2158 - mean_squared_logarithmic_error: 0.6440 - val_loss: 11882.9619 - val_mean_squared_error: 11882.9619 - val_mean_squared_logarithmic_error: 0.8204\n",
      "Epoch 129/500\n",
      "12250/12250 [==============================] - 13s 1ms/step - loss: 5756.0269 - mean_squared_error: 5756.0269 - mean_squared_logarithmic_error: 0.6519 - val_loss: 12241.4180 - val_mean_squared_error: 12241.4180 - val_mean_squared_logarithmic_error: 0.8145\n",
      "Epoch 130/500\n",
      "12250/12250 [==============================] - 13s 1ms/step - loss: 5817.8330 - mean_squared_error: 5817.8330 - mean_squared_logarithmic_error: 0.6455 - val_loss: 12159.3340 - val_mean_squared_error: 12159.3340 - val_mean_squared_logarithmic_error: 0.8120\n",
      "Epoch 131/500\n",
      "12250/12250 [==============================] - 13s 1ms/step - loss: 5742.3711 - mean_squared_error: 5742.3711 - mean_squared_logarithmic_error: 0.6488 - val_loss: 12006.7832 - val_mean_squared_error: 12006.7832 - val_mean_squared_logarithmic_error: 0.8020\n",
      "Epoch 132/500\n",
      "12250/12250 [==============================] - 14s 1ms/step - loss: 5733.3081 - mean_squared_error: 5733.3081 - mean_squared_logarithmic_error: 0.6336 - val_loss: 11851.9551 - val_mean_squared_error: 11851.9551 - val_mean_squared_logarithmic_error: 0.7837\n",
      "Epoch 133/500\n",
      "12250/12250 [==============================] - 13s 1ms/step - loss: 5781.3647 - mean_squared_error: 5781.3647 - mean_squared_logarithmic_error: 0.6467 - val_loss: 11624.3916 - val_mean_squared_error: 11624.3916 - val_mean_squared_logarithmic_error: 0.8043\n",
      "Epoch 134/500\n",
      "12250/12250 [==============================] - 13s 1ms/step - loss: 5644.7505 - mean_squared_error: 5644.7505 - mean_squared_logarithmic_error: 0.6434 - val_loss: 11679.3809 - val_mean_squared_error: 11679.3809 - val_mean_squared_logarithmic_error: 0.8534\n",
      "Epoch 135/500\n",
      "12250/12250 [==============================] - 13s 1ms/step - loss: 5708.2173 - mean_squared_error: 5708.2173 - mean_squared_logarithmic_error: 0.6439 - val_loss: 11525.4619 - val_mean_squared_error: 11525.4619 - val_mean_squared_logarithmic_error: 0.8053\n",
      "Epoch 136/500\n",
      "12250/12250 [==============================] - 13s 1ms/step - loss: 5662.4648 - mean_squared_error: 5662.4648 - mean_squared_logarithmic_error: 0.6398 - val_loss: 11767.4717 - val_mean_squared_error: 11767.4717 - val_mean_squared_logarithmic_error: 0.8001\n",
      "Epoch 137/500\n",
      "12250/12250 [==============================] - 13s 1ms/step - loss: 5577.9370 - mean_squared_error: 5577.9370 - mean_squared_logarithmic_error: 0.6387 - val_loss: 11533.1543 - val_mean_squared_error: 11533.1543 - val_mean_squared_logarithmic_error: 0.7900\n",
      "Epoch 138/500\n",
      "12250/12250 [==============================] - 13s 1ms/step - loss: 5664.5654 - mean_squared_error: 5664.5654 - mean_squared_logarithmic_error: 0.6386 - val_loss: 11482.0713 - val_mean_squared_error: 11482.0713 - val_mean_squared_logarithmic_error: 0.8009\n",
      "Epoch 139/500\n",
      "12250/12250 [==============================] - 13s 1ms/step - loss: 5530.9390 - mean_squared_error: 5530.9390 - mean_squared_logarithmic_error: 0.6404 - val_loss: 13177.6553 - val_mean_squared_error: 13177.6553 - val_mean_squared_logarithmic_error: 0.8008\n",
      "Epoch 140/500\n",
      "12250/12250 [==============================] - 13s 1ms/step - loss: 5609.9590 - mean_squared_error: 5609.9590 - mean_squared_logarithmic_error: 0.6349 - val_loss: 11764.6670 - val_mean_squared_error: 11764.6670 - val_mean_squared_logarithmic_error: 0.7956ss: 5746.2324 - mean_squared_error: 5746.2324 - mean_squ - ETA: 7s - loss: 5690.2256 - mean_squared_error: 5690.2256 - mean_squared_ - ETA: 6s -  - ETA: 1s - loss: 5720.6655 - mean_squared_error: 5720.6655 - mean_\n",
      "Epoch 141/500\n",
      "12250/12250 [==============================] - 13s 1ms/step - loss: 5542.5938 - mean_squared_error: 5542.5938 - mean_squared_logarithmic_error: 0.6372 - val_loss: 12282.2393 - val_mean_squared_error: 12282.2393 - val_mean_squared_logarithmic_error: 0.8126\n",
      "Epoch 142/500\n",
      "12250/12250 [==============================] - 13s 1ms/step - loss: 5445.0527 - mean_squared_error: 5445.0527 - mean_squared_logarithmic_error: 0.6344 - val_loss: 12198.0049 - val_mean_squared_error: 12198.0049 - val_mean_squared_logarithmic_error: 0.8120mean_squared_error - ETA: 5s - loss: 5101.3315 - mean_squared_error: 5101.3315 - mean_squared_logar - ETA: 4s - loss: 52\n",
      "Epoch 143/500\n",
      "12250/12250 [==============================] - 13s 1ms/step - loss: 5593.7920 - mean_squared_error: 5593.7920 - mean_squared_logarithmic_error: 0.6365 - val_loss: 11827.2461 - val_mean_squared_error: 11827.2461 - val_mean_squared_logarithmic_error: 0.8107\n",
      "Epoch 144/500\n",
      "12250/12250 [==============================] - 13s 1ms/step - loss: 5397.7144 - mean_squared_error: 5397.7144 - mean_squared_logarithmic_error: 0.6330 - val_loss: 11892.6650 - val_mean_squared_error: 11892.6650 - val_mean_squared_logarithmic_error: 0.7773\n"
     ]
    },
    {
     "name": "stdout",
     "output_type": "stream",
     "text": [
      "Epoch 145/500\n",
      "12250/12250 [==============================] - 13s 1ms/step - loss: 5458.5537 - mean_squared_error: 5458.5537 - mean_squared_logarithmic_error: 0.6337 - val_loss: 11223.3330 - val_mean_squared_error: 11223.3330 - val_mean_squared_logarithmic_error: 0.7757error: 5497.8999 - mean_squared_logarithmic_error: \n",
      "Epoch 146/500\n",
      "12250/12250 [==============================] - 13s 1ms/step - loss: 5495.2612 - mean_squared_error: 5495.2612 - mean_squared_logarithmic_error: 0.6341 - val_loss: 11522.6348 - val_mean_squared_error: 11522.6348 - val_mean_squared_logarithmic_error: 0.8139\n",
      "Epoch 147/500\n",
      "12250/12250 [==============================] - 13s 1ms/step - loss: 5376.5786 - mean_squared_error: 5376.5786 - mean_squared_logarithmic_error: 0.6366 - val_loss: 11353.2070 - val_mean_squared_error: 11353.2070 - val_mean_squared_logarithmic_error: 0.8138\n",
      "Epoch 148/500\n",
      "12250/12250 [==============================] - 13s 1ms/step - loss: 5444.4854 - mean_squared_error: 5444.4854 - mean_squared_logarithmic_error: 0.6482 - val_loss: 12206.8457 - val_mean_squared_error: 12206.8457 - val_mean_squared_logarithmic_error: 0.8189\n",
      "Epoch 149/500\n",
      "12250/12250 [==============================] - 13s 1ms/step - loss: 5337.5322 - mean_squared_error: 5337.5322 - mean_squared_logarithmic_error: 0.6297 - val_loss: 11449.7471 - val_mean_squared_error: 11449.7471 - val_mean_squared_logarithmic_error: 0.7660\n",
      "Epoch 150/500\n",
      "12250/12250 [==============================] - 13s 1ms/step - loss: 5301.4009 - mean_squared_error: 5301.4009 - mean_squared_logarithmic_error: 0.6344 - val_loss: 11492.4014 - val_mean_squared_error: 11492.4014 - val_mean_squared_logarithmic_error: 0.7758\n",
      "Epoch 151/500\n",
      "12250/12250 [==============================] - 13s 1ms/step - loss: 5342.1714 - mean_squared_error: 5342.1714 - mean_squared_logarithmic_error: 0.6324 - val_loss: 11744.1982 - val_mean_squared_error: 11744.1982 - val_mean_squared_logarithmic_error: 0.8380\n",
      "Epoch 152/500\n",
      "12250/12250 [==============================] - 13s 1ms/step - loss: 5279.9751 - mean_squared_error: 5279.9751 - mean_squared_logarithmic_error: 0.6368 - val_loss: 11021.8281 - val_mean_squared_error: 11021.8281 - val_mean_squared_logarithmic_error: 0.8105\n",
      "Epoch 153/500\n",
      "12250/12250 [==============================] - 13s 1ms/step - loss: 5270.5586 - mean_squared_error: 5270.5586 - mean_squared_logarithmic_error: 0.6332 - val_loss: 11048.1221 - val_mean_squared_error: 11048.1221 - val_mean_squared_logarithmic_error: 0.7810\n",
      "Epoch 154/500\n",
      "12250/12250 [==============================] - 13s 1ms/step - loss: 5326.6753 - mean_squared_error: 5326.6753 - mean_squared_logarithmic_error: 0.6367 - val_loss: 10926.6543 - val_mean_squared_error: 10926.6543 - val_mean_squared_logarithmic_error: 0.7690\n",
      "Epoch 155/500\n",
      "12250/12250 [==============================] - 13s 1ms/step - loss: 5182.9517 - mean_squared_error: 5182.9517 - mean_squared_logarithmic_error: 0.6375 - val_loss: 12200.4111 - val_mean_squared_error: 12200.4111 - val_mean_squared_logarithmic_error: 0.8211\n",
      "Epoch 156/500\n",
      "12250/12250 [==============================] - 13s 1ms/step - loss: 5198.8301 - mean_squared_error: 5198.8301 - mean_squared_logarithmic_error: 0.6374 - val_loss: 11382.4697 - val_mean_squared_error: 11382.4697 - val_mean_squared_logarithmic_error: 0.7650\n",
      "Epoch 157/500\n",
      "12250/12250 [==============================] - 13s 1ms/step - loss: 5180.3545 - mean_squared_error: 5180.3545 - mean_squared_logarithmic_error: 0.6279 - val_loss: 11535.0801 - val_mean_squared_error: 11535.0801 - val_mean_squared_logarithmic_error: 0.8206\n",
      "Epoch 158/500\n",
      "12250/12250 [==============================] - 13s 1ms/step - loss: 5205.3521 - mean_squared_error: 5205.3521 - mean_squared_logarithmic_error: 0.6368 - val_loss: 11424.8975 - val_mean_squared_error: 11424.8975 - val_mean_squared_logarithmic_error: 0.7928s: 5190.3794 - mean_squared_error: 5190.3794 - me\n",
      "Epoch 159/500\n",
      "12250/12250 [==============================] - 13s 1ms/step - loss: 5120.1245 - mean_squared_error: 5120.1245 - mean_squared_logarithmic_error: 0.6326 - val_loss: 11837.0137 - val_mean_squared_error: 11837.0137 - val_mean_squared_logarithmic_error: 0.78192 \n",
      "Epoch 160/500\n",
      "12250/12250 [==============================] - 13s 1ms/step - loss: 5135.8140 - mean_squared_error: 5135.8140 - mean_squared_logarithmic_error: 0.6383 - val_loss: 10994.0332 - val_mean_squared_error: 10994.0332 - val_mean_squared_logarithmic_error: 0.7541\n",
      "Epoch 161/500\n",
      "12250/12250 [==============================] - 13s 1ms/step - loss: 5096.8276 - mean_squared_error: 5096.8276 - mean_squared_logarithmic_error: 0.6318 - val_loss: 11222.9629 - val_mean_squared_error: 11222.9629 - val_mean_squared_logarithmic_error: 0.7774or\n",
      "Epoch 162/500\n",
      "12250/12250 [==============================] - 13s 1ms/step - loss: 5036.7041 - mean_squared_error: 5036.7041 - mean_squared_logarithmic_error: 0.6307 - val_loss: 11639.4697 - val_mean_squared_error: 11639.4697 - val_mean_squared_logarithmic_error: 0.8011\n",
      "Epoch 163/500\n",
      "12250/12250 [==============================] - 13s 1ms/step - loss: 5031.5029 - mean_squared_error: 5031.5029 - mean_squared_logarithmic_error: 0.6266 - val_loss: 11556.9238 - val_mean_squared_error: 11556.9238 - val_mean_squared_logarithmic_error: 0.7883\n",
      "Epoch 164/500\n",
      "12250/12250 [==============================] - 13s 1ms/step - loss: 5079.7817 - mean_squared_error: 5079.7817 - mean_squared_logarithmic_error: 0.6320 - val_loss: 11513.4326 - val_mean_squared_error: 11513.4326 - val_mean_squared_logarithmic_error: 0.7648ss: 5050.9873 \n",
      "Epoch 165/500\n",
      "12250/12250 [==============================] - 13s 1ms/step - loss: 5061.7065 - mean_squared_error: 5061.7065 - mean_squared_logarithmic_error: 0.6394 - val_loss: 11331.6416 - val_mean_squared_error: 11331.6416 - val_mean_squared_logarithmic_error: 0.7787\n",
      "Epoch 166/500\n",
      "12250/12250 [==============================] - 13s 1ms/step - loss: 5058.5957 - mean_squared_error: 5058.5957 - mean_squared_logarithmic_error: 0.6293 - val_loss: 11462.7354 - val_mean_squared_error: 11462.7354 - val_mean_squared_logarithmic_error: 0.8111\n",
      "Epoch 167/500\n",
      "12250/12250 [==============================] - 13s 1ms/step - loss: 4896.2686 - mean_squared_error: 4896.2686 - mean_squared_logarithmic_error: 0.6302 - val_loss: 11326.8252 - val_mean_squared_error: 11326.8252 - val_mean_squared_logarithmic_error: 0.7972\n",
      "Epoch 168/500\n",
      "12250/12250 [==============================] - 13s 1ms/step - loss: 4930.4551 - mean_squared_error: 4930.4551 - mean_squared_logarithmic_error: 0.6306 - val_loss: 11826.4766 - val_mean_squared_error: 11826.4766 - val_mean_squared_logarithmic_error: 0.7616\n",
      "Epoch 169/500\n",
      "12250/12250 [==============================] - 13s 1ms/step - loss: 4919.8779 - mean_squared_error: 4919.8779 - mean_squared_logarithmic_error: 0.6357 - val_loss: 11309.9111 - val_mean_squared_error: 11309.9111 - val_mean_squared_logarithmic_error: 0.7829\n",
      "Epoch 170/500\n",
      "12250/12250 [==============================] - 13s 1ms/step - loss: 4995.5356 - mean_squared_error: 4995.5356 - mean_squared_logarithmic_error: 0.6302 - val_loss: 10829.1064 - val_mean_squared_error: 10829.1064 - val_mean_squared_logarithmic_error: 0.7813\n",
      "Epoch 171/500\n",
      "12250/12250 [==============================] - 13s 1ms/step - loss: 4977.9102 - mean_squared_error: 4977.9102 - mean_squared_logarithmic_error: 0.6331 - val_loss: 10818.9072 - val_mean_squared_error: 10818.9072 - val_mean_squared_logarithmic_error: 0.7738\n",
      "Epoch 172/500\n",
      "12250/12250 [==============================] - 13s 1ms/step - loss: 4907.2378 - mean_squared_error: 4907.2378 - mean_squared_logarithmic_error: 0.6237 - val_loss: 11095.7881 - val_mean_squared_error: 11095.7881 - val_mean_squared_logarithmic_error: 0.8104\n",
      "Epoch 173/500\n",
      "12250/12250 [==============================] - 13s 1ms/step - loss: 4973.1372 - mean_squared_error: 4973.1372 - mean_squared_logarithmic_error: 0.6353 - val_loss: 11255.8906 - val_mean_squared_error: 11255.8906 - val_mean_squared_logarithmic_error: 0.8484\n",
      "Epoch 174/500\n",
      "12250/12250 [==============================] - 13s 1ms/step - loss: 4909.8735 - mean_squared_error: 4909.8735 - mean_squared_logarithmic_error: 0.6303 - val_loss: 11309.0107 - val_mean_squared_error: 11309.0107 - val_mean_squared_logarithmic_error: 0.7758\n",
      "Epoch 175/500\n",
      "12250/12250 [==============================] - 13s 1ms/step - loss: 4801.4258 - mean_squared_error: 4801.4258 - mean_squared_logarithmic_error: 0.6343 - val_loss: 11035.6582 - val_mean_squared_error: 11035.6582 - val_mean_squared_logarithmic_error: 0.8346\n",
      "Epoch 176/500\n",
      "12250/12250 [==============================] - 13s 1ms/step - loss: 4846.3887 - mean_squared_error: 4846.3887 - mean_squared_logarithmic_error: 0.6354 - val_loss: 11526.4453 - val_mean_squared_error: 11526.4453 - val_mean_squared_logarithmic_error: 0.8875\n",
      "Epoch 177/500\n",
      "12250/12250 [==============================] - 13s 1ms/step - loss: 4903.3696 - mean_squared_error: 4903.3696 - mean_squared_logarithmic_error: 0.6255 - val_loss: 11497.9580 - val_mean_squared_error: 11497.9580 - val_mean_squared_logarithmic_error: 0.7787or: 4772.6880 - mean_squared_logarithmi - ETA: 1s - loss: 4776.6509 - mean_squared_error: 4776.6509 - \n",
      "Epoch 178/500\n",
      "12250/12250 [==============================] - 13s 1ms/step - loss: 4849.7891 - mean_squared_error: 4849.7891 - mean_squared_logarithmic_error: 0.6322 - val_loss: 10928.2676 - val_mean_squared_error: 10928.2676 - val_mean_squared_logarithmic_error: 0.8083d_error: 4626.0400 - mean_squ - ETA: 1s - loss: 4742.0493 - mean_squared_error: 4742.0493 - \n",
      "Epoch 179/500\n",
      "12250/12250 [==============================] - 13s 1ms/step - loss: 4861.6738 - mean_squared_error: 4861.6738 - mean_squared_logarithmic_error: 0.6265 - val_loss: 11954.5449 - val_mean_squared_error: 11954.5449 - val_mean_squared_logarithmic_error: 0.8207\n",
      "Epoch 180/500\n",
      "12250/12250 [==============================] - 13s 1ms/step - loss: 4659.9932 - mean_squared_error: 4659.9932 - mean_squared_logarithmic_error: 0.6303 - val_loss: 11579.4307 - val_mean_squared_error: 11579.4307 - val_mean_squared_logarithmic_error: 0.7858thmic - ETA: 3s - loss: 4824.9380 - mean\n",
      "Epoch 181/500\n",
      "12250/12250 [==============================] - 13s 1ms/step - loss: 4783.2515 - mean_squared_error: 4783.2515 - mean_squared_logarithmic_error: 0.6296 - val_loss: 10778.8125 - val_mean_squared_error: 10778.8125 - val_mean_squared_logarithmic_error: 0.7489\n",
      "Epoch 182/500\n",
      "12250/12250 [==============================] - 13s 1ms/step - loss: 4795.2246 - mean_squared_error: 4795.2246 - mean_squared_logarithmic_error: 0.6264 - val_loss: 11247.4658 - val_mean_squared_error: 11247.4658 - val_mean_squared_logarithmic_error: 0.7750\n",
      "Epoch 183/500\n",
      "12250/12250 [==============================] - 13s 1ms/step - loss: 4723.9028 - mean_squared_error: 4723.9028 - mean_squared_logarithmic_error: 0.6207 - val_loss: 11119.0537 - val_mean_squared_error: 11119.0537 - val_mean_squared_logarithmic_error: 0.7685\n",
      "Epoch 184/500\n",
      "12250/12250 [==============================] - 13s 1ms/step - loss: 4696.3799 - mean_squared_error: 4696.3799 - mean_squared_logarithmic_error: 0.6285 - val_loss: 11809.5713 - val_mean_squared_error: 11809.5713 - val_mean_squared_logarithmic_error: 0.8229\n",
      "Epoch 185/500\n",
      "12250/12250 [==============================] - 13s 1ms/step - loss: 4746.8262 - mean_squared_error: 4746.8262 - mean_squared_logarithmic_error: 0.6290 - val_loss: 11231.0000 - val_mean_squared_error: 11231.0000 - val_mean_squared_logarithmic_error: 0.7791\n",
      "Epoch 186/500\n",
      "12250/12250 [==============================] - 13s 1ms/step - loss: 4631.0396 - mean_squared_error: 4631.0396 - mean_squared_logarithmic_error: 0.6202 - val_loss: 10950.7227 - val_mean_squared_error: 10950.7227 - val_mean_squared_logarithmic_error: 0.8188\n",
      "Epoch 187/500\n",
      "12250/12250 [==============================] - 13s 1ms/step - loss: 4691.6592 - mean_squared_error: 4691.6592 - mean_squared_logarithmic_error: 0.6298 - val_loss: 10956.4746 - val_mean_squared_error: 10956.4746 - val_mean_squared_logarithmic_error: 0.7894\n",
      "Epoch 188/500\n",
      "12250/12250 [==============================] - 13s 1ms/step - loss: 4651.5864 - mean_squared_error: 4651.5864 - mean_squared_logarithmic_error: 0.6205 - val_loss: 12145.0020 - val_mean_squared_error: 12145.0020 - val_mean_squared_logarithmic_error: 0.7982\n",
      "Epoch 189/500\n",
      "12250/12250 [==============================] - 13s 1ms/step - loss: 4604.0962 - mean_squared_error: 4604.0962 - mean_squared_logarithmic_error: 0.6205 - val_loss: 11748.2109 - val_mean_squared_error: 11748.2109 - val_mean_squared_logarithmic_error: 0.7812\n",
      "Epoch 190/500\n",
      "12250/12250 [==============================] - 13s 1ms/step - loss: 4666.2417 - mean_squared_error: 4666.2417 - mean_squared_logarithmic_error: 0.6268 - val_loss: 12386.0645 - val_mean_squared_error: 12386.0645 - val_mean_squared_logarithmic_error: 0.7963\n",
      "Epoch 191/500\n",
      "12250/12250 [==============================] - 13s 1ms/step - loss: 4532.0376 - mean_squared_error: 4532.0376 - mean_squared_logarithmic_error: 0.6184 - val_loss: 11141.4199 - val_mean_squared_error: 11141.4199 - val_mean_squared_logarithmic_error: 0.7957\n",
      "Epoch 192/500\n",
      "12250/12250 [==============================] - 13s 1ms/step - loss: 4624.3813 - mean_squared_error: 4624.3813 - mean_squared_logarithmic_error: 0.6185 - val_loss: 11277.0996 - val_mean_squared_error: 11277.0996 - val_mean_squared_logarithmic_error: 0.7695\n",
      "Epoch 193/500\n",
      "12250/12250 [==============================] - 13s 1ms/step - loss: 4548.6460 - mean_squared_error: 4548.6460 - mean_squared_logarithmic_error: 0.6243 - val_loss: 11425.0303 - val_mean_squared_error: 11425.0303 - val_mean_squared_logarithmic_error: 0.7761\n",
      "Epoch 194/500\n",
      "12250/12250 [==============================] - 13s 1ms/step - loss: 4545.9517 - mean_squared_error: 4545.9517 - mean_squared_logarithmic_error: 0.6220 - val_loss: 11313.2891 - val_mean_squared_error: 11313.2891 - val_mean_squared_logarithmic_error: 0.7990\n",
      "Epoch 195/500\n",
      "12250/12250 [==============================] - 13s 1ms/step - loss: 4546.2070 - mean_squared_error: 4546.2070 - mean_squared_logarithmic_error: 0.6237 - val_loss: 11775.6279 - val_mean_squared_error: 11775.6279 - val_mean_squared_logarithmic_error: 0.8118\n",
      "Epoch 196/500\n",
      "12250/12250 [==============================] - 13s 1ms/step - loss: 4538.3296 - mean_squared_error: 4538.3296 - mean_squared_logarithmic_error: 0.6240 - val_loss: 11621.3496 - val_mean_squared_error: 11621.3496 - val_mean_squared_logarithmic_error: 0.8041\n",
      "Epoch 197/500\n",
      "12250/12250 [==============================] - 13s 1ms/step - loss: 4550.1748 - mean_squared_error: 4550.1748 - mean_squared_logarithmic_error: 0.6315 - val_loss: 11522.9482 - val_mean_squared_error: 11522.9482 - val_mean_squared_logarithmic_error: 0.7790\n",
      "Epoch 198/500\n",
      "12250/12250 [==============================] - 13s 1ms/step - loss: 4560.9668 - mean_squared_error: 4560.9668 - mean_squared_logarithmic_error: 0.6203 - val_loss: 12112.9922 - val_mean_squared_error: 12112.9922 - val_mean_squared_logarithmic_error: 0.8217\n",
      "Epoch 199/500\n",
      "12250/12250 [==============================] - 13s 1ms/step - loss: 4529.7603 - mean_squared_error: 4529.7603 - mean_squared_logarithmic_error: 0.6198 - val_loss: 10838.9102 - val_mean_squared_error: 10838.9102 - val_mean_squared_logarithmic_error: 0.7759\n",
      "Epoch 200/500\n",
      "12250/12250 [==============================] - 13s 1ms/step - loss: 4469.0889 - mean_squared_error: 4469.0889 - mean_squared_logarithmic_error: 0.6165 - val_loss: 11530.9414 - val_mean_squared_error: 11530.9414 - val_mean_squared_logarithmic_error: 0.7783\n",
      "Epoch 201/500\n",
      "12250/12250 [==============================] - 13s 1ms/step - loss: 4455.0215 - mean_squared_error: 4455.0215 - mean_squared_logarithmic_error: 0.6245 - val_loss: 11652.8818 - val_mean_squared_error: 11652.8818 - val_mean_squared_logarithmic_error: 0.7649\n",
      "Epoch 202/500\n",
      "12250/12250 [==============================] - 13s 1ms/step - loss: 4389.2866 - mean_squared_error: 4389.2866 - mean_squared_logarithmic_error: 0.6214 - val_loss: 11260.5186 - val_mean_squared_error: 11260.5186 - val_mean_squared_logarithmic_error: 0.7644\n",
      "Epoch 203/500\n"
     ]
    },
    {
     "name": "stdout",
     "output_type": "stream",
     "text": [
      "12250/12250 [==============================] - 13s 1ms/step - loss: 4494.0088 - mean_squared_error: 4494.0088 - mean_squared_logarithmic_error: 0.6192 - val_loss: 11427.4990 - val_mean_squared_error: 11427.4990 - val_mean_squared_logarithmic_error: 0.7893\n",
      "Epoch 204/500\n",
      "12250/12250 [==============================] - 13s 1ms/step - loss: 4487.7178 - mean_squared_error: 4487.7178 - mean_squared_logarithmic_error: 0.6204 - val_loss: 11393.3057 - val_mean_squared_error: 11393.3057 - val_mean_squared_logarithmic_error: 0.8314squared_error: 4501.1992 - mean_squared_ - ETA: 0s - loss: 4450.3413 - mean_squared_error: 4450.3413 - mean_squared_logarithm\n",
      "Epoch 205/500\n",
      "12250/12250 [==============================] - 13s 1ms/step - loss: 4328.7510 - mean_squared_error: 4328.7510 - mean_squared_logarithmic_error: 0.6233 - val_loss: 11997.2422 - val_mean_squared_error: 11997.2422 - val_mean_squared_logarithmic_error: 0.7974\n",
      "Epoch 206/500\n",
      "12250/12250 [==============================] - 13s 1ms/step - loss: 4391.6021 - mean_squared_error: 4391.6021 - mean_squared_logarithmic_error: 0.6108 - val_loss: 11138.0293 - val_mean_squared_error: 11138.0293 - val_mean_squared_logarithmic_error: 0.8097\n",
      "Epoch 207/500\n",
      "12250/12250 [==============================] - 13s 1ms/step - loss: 4405.0449 - mean_squared_error: 4405.0449 - mean_squared_logarithmic_error: 0.6217 - val_loss: 11265.3457 - val_mean_squared_error: 11265.3457 - val_mean_squared_logarithmic_error: 0.8245\n",
      "Epoch 208/500\n",
      "12250/12250 [==============================] - 15s 1ms/step - loss: 4352.8008 - mean_squared_error: 4352.8008 - mean_squared_logarithmic_error: 0.6147 - val_loss: 11831.5693 - val_mean_squared_error: 11831.5693 - val_mean_squared_logarithmic_error: 0.780051.4614 - mean_squared_logarit\n",
      "Epoch 209/500\n",
      "12250/12250 [==============================] - 13s 1ms/step - loss: 4398.7437 - mean_squared_error: 4398.7437 - mean_squared_logarithmic_error: 0.6182 - val_loss: 11769.7363 - val_mean_squared_error: 11769.7363 - val_mean_squared_logarithmic_error: 0.8043\n",
      "Epoch 210/500\n",
      "12250/12250 [==============================] - 13s 1ms/step - loss: 4270.1694 - mean_squared_error: 4270.1694 - mean_squared_logarithmic_error: 0.6194 - val_loss: 11446.2402 - val_mean_squared_error: 11446.2402 - val_mean_squared_logarithmic_error: 0.7955\n",
      "Epoch 211/500\n",
      "12250/12250 [==============================] - 13s 1ms/step - loss: 4385.3110 - mean_squared_error: 4385.3110 - mean_squared_logarithmic_error: 0.6212 - val_loss: 11101.4473 - val_mean_squared_error: 11101.4473 - val_mean_squared_logarithmic_error: 0.79991919 - mean_squared_error: 4385.1919 - mean_squared_logarithmic_error:\n",
      "Epoch 212/500\n",
      "12250/12250 [==============================] - 13s 1ms/step - loss: 4367.4946 - mean_squared_error: 4367.4946 - mean_squared_logarithmic_error: 0.6195 - val_loss: 11442.3105 - val_mean_squared_error: 11442.3105 - val_mean_squared_logarithmic_error: 0.8080\n",
      "Epoch 213/500\n",
      "12250/12250 [==============================] - 13s 1ms/step - loss: 4312.1265 - mean_squared_error: 4312.1265 - mean_squared_logarithmic_error: 0.6175 - val_loss: 11575.4746 - val_mean_squared_error: 11575.4746 - val_mean_squared_logarithmic_error: 0.7896\n",
      "Epoch 214/500\n",
      "12250/12250 [==============================] - 13s 1ms/step - loss: 4333.9473 - mean_squared_error: 4333.9473 - mean_squared_logarithmic_error: 0.6201 - val_loss: 10682.2969 - val_mean_squared_error: 10682.2969 - val_mean_squared_logarithmic_error: 0.7990- loss: 4340.5396 - mean_squared_error: 4340.5396 - mean_squared_logarithmic_error\n",
      "Epoch 215/500\n",
      "12250/12250 [==============================] - 13s 1ms/step - loss: 4378.8018 - mean_squared_error: 4378.8018 - mean_squared_logarithmic_error: 0.6303 - val_loss: 11465.8564 - val_mean_squared_error: 11465.8564 - val_mean_squared_logarithmic_error: 0.7756\n",
      "Epoch 216/500\n",
      "12250/12250 [==============================] - 13s 1ms/step - loss: 4303.3359 - mean_squared_error: 4303.3359 - mean_squared_logarithmic_error: 0.6192 - val_loss: 10973.2773 - val_mean_squared_error: 10973.2773 - val_mean_squared_logarithmic_error: 0.7808n_squared_error: 4234.9639 - - ETA: 0s - loss: 4318.4766 - mean_squared_error: 4318.4766 - mean_squared_logari\n",
      "Epoch 217/500\n",
      "12250/12250 [==============================] - 13s 1ms/step - loss: 4288.9468 - mean_squared_error: 4288.9468 - mean_squared_logarithmic_error: 0.6170 - val_loss: 10348.4746 - val_mean_squared_error: 10348.4746 - val_mean_squared_logarithmic_error: 0.7645\n",
      "Epoch 218/500\n",
      "12250/12250 [==============================] - 13s 1ms/step - loss: 4216.4980 - mean_squared_error: 4216.4980 - mean_squared_logarithmic_error: 0.6237 - val_loss: 11240.5137 - val_mean_squared_error: 11240.5137 - val_mean_squared_logarithmic_error: 0.7893\n",
      "Epoch 219/500\n",
      "12250/12250 [==============================] - 13s 1ms/step - loss: 4231.0298 - mean_squared_error: 4231.0298 - mean_squared_logarithmic_error: 0.6144 - val_loss: 11125.2285 - val_mean_squared_error: 11125.2285 - val_mean_squared_logarithmic_error: 0.7954\n",
      "Epoch 220/500\n",
      "12250/12250 [==============================] - 13s 1ms/step - loss: 4217.7632 - mean_squared_error: 4217.7632 - mean_squared_logarithmic_error: 0.6169 - val_loss: 11997.7031 - val_mean_squared_error: 11997.7031 - val_mean_squared_logarithmic_error: 0.8176\n",
      "Epoch 221/500\n",
      "12250/12250 [==============================] - 13s 1ms/step - loss: 4248.5425 - mean_squared_error: 4248.5425 - mean_squared_logarithmic_error: 0.6176 - val_loss: 11125.9639 - val_mean_squared_error: 11125.9639 - val_mean_squared_logarithmic_error: 0.7729\n",
      "Epoch 222/500\n",
      "12250/12250 [==============================] - 13s 1ms/step - loss: 4154.3906 - mean_squared_error: 4154.3906 - mean_squared_logarithmic_error: 0.6244 - val_loss: 11267.8662 - val_mean_squared_error: 11267.8662 - val_mean_squared_logarithmic_error: 0.7813\n",
      "Epoch 223/500\n",
      "12250/12250 [==============================] - 13s 1ms/step - loss: 4259.7554 - mean_squared_error: 4259.7554 - mean_squared_logarithmic_error: 0.6228 - val_loss: 11197.5654 - val_mean_squared_error: 11197.5654 - val_mean_squared_logarithmic_error: 0.7691\n",
      "Epoch 224/500\n",
      "12250/12250 [==============================] - 13s 1ms/step - loss: 4183.5830 - mean_squared_error: 4183.5830 - mean_squared_logarithmic_error: 0.6129 - val_loss: 11927.1240 - val_mean_squared_error: 11927.1240 - val_mean_squared_logarithmic_error: 0.8487\n",
      "Epoch 225/500\n",
      "12250/12250 [==============================] - 13s 1ms/step - loss: 4159.6855 - mean_squared_error: 4159.6855 - mean_squared_logarithmic_error: 0.6237 - val_loss: 11981.1426 - val_mean_squared_error: 11981.1426 - val_mean_squared_logarithmic_error: 0.7851\n",
      "Epoch 226/500\n",
      "12250/12250 [==============================] - 13s 1ms/step - loss: 4183.0977 - mean_squared_error: 4183.0977 - mean_squared_logarithmic_error: 0.6183 - val_loss: 11272.1572 - val_mean_squared_error: 11272.1572 - val_mean_squared_logarithmic_error: 0.8287\n",
      "Epoch 227/500\n",
      "12250/12250 [==============================] - 13s 1ms/step - loss: 4094.2981 - mean_squared_error: 4094.2981 - mean_squared_logarithmic_error: 0.6168 - val_loss: 11320.4443 - val_mean_squared_error: 11320.4443 - val_mean_squared_logarithmic_error: 0.8061\n",
      "Epoch 228/500\n",
      "12250/12250 [==============================] - 13s 1ms/step - loss: 4136.5903 - mean_squared_error: 4136.5903 - mean_squared_logarithmic_error: 0.6146 - val_loss: 11807.6553 - val_mean_squared_error: 11807.6553 - val_mean_squared_logarithmic_error: 0.7817\n",
      "Epoch 229/500\n",
      "12250/12250 [==============================] - 13s 1ms/step - loss: 4067.4768 - mean_squared_error: 4067.4768 - mean_squared_logarithmic_error: 0.6171 - val_loss: 12437.7393 - val_mean_squared_error: 12437.7393 - val_mean_squared_logarithmic_error: 0.8182\n",
      "Epoch 230/500\n",
      "12250/12250 [==============================] - 13s 1ms/step - loss: 4135.8511 - mean_squared_error: 4135.8511 - mean_squared_logarithmic_error: 0.6188 - val_loss: 11607.7949 - val_mean_squared_error: 11607.7949 - val_mean_squared_logarithmic_error: 0.8062\n",
      "Epoch 231/500\n",
      "12250/12250 [==============================] - 13s 1ms/step - loss: 4060.3264 - mean_squared_error: 4060.3264 - mean_squared_logarithmic_error: 0.6178 - val_loss: 12312.3213 - val_mean_squared_error: 12312.3213 - val_mean_squared_logarithmic_error: 0.8236ean_squared_logarithmic_error\n",
      "Epoch 232/500\n",
      "12250/12250 [==============================] - 13s 1ms/step - loss: 4074.5325 - mean_squared_error: 4074.5325 - mean_squared_logarithmic_error: 0.6226 - val_loss: 11238.9424 - val_mean_squared_error: 11238.9424 - val_mean_squared_logarithmic_error: 0.8102\n",
      "Epoch 233/500\n",
      "12250/12250 [==============================] - 13s 1ms/step - loss: 4012.9316 - mean_squared_error: 4012.9316 - mean_squared_logarithmic_error: 0.6170 - val_loss: 11313.5029 - val_mean_squared_error: 11313.5029 - val_mean_squared_logarithmic_error: 0.8089d\n",
      "Epoch 234/500\n",
      "12250/12250 [==============================] - 13s 1ms/step - loss: 4018.9453 - mean_squared_error: 4018.9453 - mean_squared_logarithmic_error: 0.6145 - val_loss: 11106.4658 - val_mean_squared_error: 11106.4658 - val_mean_squared_logarithmic_error: 0.7982\n",
      "Epoch 235/500\n",
      "12250/12250 [==============================] - 13s 1ms/step - loss: 4061.7317 - mean_squared_error: 4061.7317 - mean_squared_logarithmic_error: 0.6176 - val_loss: 11276.0752 - val_mean_squared_error: 11276.0752 - val_mean_squared_logarithmic_error: 0.8051\n",
      "Epoch 236/500\n",
      "12250/12250 [==============================] - 13s 1ms/step - loss: 4068.7429 - mean_squared_error: 4068.7429 - mean_squared_logarithmic_error: 0.6116 - val_loss: 11151.4717 - val_mean_squared_error: 11151.4717 - val_mean_squared_logarithmic_error: 0.8658\n",
      "Epoch 237/500\n",
      "12250/12250 [==============================] - 190s 15ms/step - loss: 4088.3948 - mean_squared_error: 4088.3948 - mean_squared_logarithmic_error: 0.6142 - val_loss: 11928.7295 - val_mean_squared_error: 11928.7295 - val_mean_squared_logarithmic_error: 0.8138\n",
      "Epoch 238/500\n",
      "12250/12250 [==============================] - 14s 1ms/step - loss: 4013.9900 - mean_squared_error: 4013.9900 - mean_squared_logarithmic_error: 0.6203 - val_loss: 12092.2412 - val_mean_squared_error: 12092.2412 - val_mean_squared_logarithmic_error: 0.8095\n",
      "Epoch 239/500\n",
      "12250/12250 [==============================] - 12s 1ms/step - loss: 4070.6135 - mean_squared_error: 4070.6135 - mean_squared_logarithmic_error: 0.6195 - val_loss: 11404.3359 - val_mean_squared_error: 11404.3359 - val_mean_squared_logarithmic_error: 0.7930\n",
      "Epoch 240/500\n",
      "12250/12250 [==============================] - 12s 1ms/step - loss: 4004.3638 - mean_squared_error: 4004.3638 - mean_squared_logarithmic_error: 0.6106 - val_loss: 12207.4951 - val_mean_squared_error: 12207.4951 - val_mean_squared_logarithmic_error: 0.8262\n",
      "Epoch 241/500\n",
      "12250/12250 [==============================] - 14s 1ms/step - loss: 4010.3086 - mean_squared_error: 4010.3086 - mean_squared_logarithmic_error: 0.6060 - val_loss: 11138.8730 - val_mean_squared_error: 11138.8730 - val_mean_squared_logarithmic_error: 0.8014ror: 3974.0225 - mean_squared_logarithmic_\n",
      "Epoch 242/500\n",
      "12250/12250 [==============================] - 13s 1ms/step - loss: 4029.6675 - mean_squared_error: 4029.6675 - mean_squared_logarithmic_error: 0.6161 - val_loss: 11321.3584 - val_mean_squared_error: 11321.3584 - val_mean_squared_logarithmic_error: 0.8112\n",
      "Epoch 243/500\n",
      "12250/12250 [==============================] - 13s 1ms/step - loss: 4000.2305 - mean_squared_error: 4000.2305 - mean_squared_logarithmic_error: 0.6133 - val_loss: 11511.5430 - val_mean_squared_error: 11511.5430 - val_mean_squared_logarithmic_error: 0.7884 - mean_squ\n",
      "Epoch 244/500\n",
      "12250/12250 [==============================] - 13s 1ms/step - loss: 3926.8286 - mean_squared_error: 3926.8286 - mean_squared_logarithmic_error: 0.6092 - val_loss: 11137.3682 - val_mean_squared_error: 11137.3682 - val_mean_squared_logarithmic_error: 0.7879\n",
      "Epoch 245/500\n",
      "12250/12250 [==============================] - 13s 1ms/step - loss: 3954.3823 - mean_squared_error: 3954.3823 - mean_squared_logarithmic_error: 0.6010 - val_loss: 10614.9795 - val_mean_squared_error: 10614.9795 - val_mean_squared_logarithmic_error: 0.7997\n",
      "Epoch 246/500\n",
      "12250/12250 [==============================] - 13s 1ms/step - loss: 3939.8035 - mean_squared_error: 3939.8035 - mean_squared_logarithmic_error: 0.6134 - val_loss: 10949.4004 - val_mean_squared_error: 10949.4004 - val_mean_squared_logarithmic_error: 0.8003\n",
      "Epoch 247/500\n",
      "12250/12250 [==============================] - 13s 1ms/step - loss: 3999.6160 - mean_squared_error: 3999.6160 - mean_squared_logarithmic_error: 0.6128 - val_loss: 10894.2480 - val_mean_squared_error: 10894.2480 - val_mean_squared_logarithmic_error: 0.7721\n",
      "Epoch 248/500\n",
      "12250/12250 [==============================] - 13s 1ms/step - loss: 3871.7747 - mean_squared_error: 3871.7747 - mean_squared_logarithmic_error: 0.6070 - val_loss: 11393.5420 - val_mean_squared_error: 11393.5420 - val_mean_squared_logarithmic_error: 0.8052\n",
      "Epoch 249/500\n",
      "12250/12250 [==============================] - 13s 1ms/step - loss: 3875.6138 - mean_squared_error: 3875.6138 - mean_squared_logarithmic_error: 0.6128 - val_loss: 12034.4219 - val_mean_squared_error: 12034.4219 - val_mean_squared_logarithmic_error: 0.7954\n",
      "Epoch 250/500\n",
      "12250/12250 [==============================] - 13s 1ms/step - loss: 3944.1821 - mean_squared_error: 3944.1821 - mean_squared_logarithmic_error: 0.6152 - val_loss: 11042.7881 - val_mean_squared_error: 11042.7881 - val_mean_squared_logarithmic_error: 0.8083\n",
      "Epoch 251/500\n",
      "12250/12250 [==============================] - 13s 1ms/step - loss: 3851.7791 - mean_squared_error: 3851.7791 - mean_squared_logarithmic_error: 0.6096 - val_loss: 11711.7002 - val_mean_squared_error: 11711.7002 - val_mean_squared_logarithmic_error: 0.8285\n",
      "Epoch 252/500\n",
      "12250/12250 [==============================] - 13s 1ms/step - loss: 3932.8638 - mean_squared_error: 3932.8638 - mean_squared_logarithmic_error: 0.6094 - val_loss: 11175.6484 - val_mean_squared_error: 11175.6484 - val_mean_squared_logarithmic_error: 0.7739\n",
      "Epoch 253/500\n",
      "12250/12250 [==============================] - 13s 1ms/step - loss: 3875.7539 - mean_squared_error: 3875.7539 - mean_squared_logarithmic_error: 0.6120 - val_loss: 11512.3438 - val_mean_squared_error: 11512.3438 - val_mean_squared_logarithmic_error: 0.8043\n",
      "Epoch 254/500\n",
      "12250/12250 [==============================] - 13s 1ms/step - loss: 3917.5256 - mean_squared_error: 3917.5256 - mean_squared_logarithmic_error: 0.6038 - val_loss: 11075.2646 - val_mean_squared_error: 11075.2646 - val_mean_squared_logarithmic_error: 0.8040mean_s - ETA: 4s - loss: 3693.8840 - mea - ETA: 1s - loss: 3852.7188 - mean_squared_error: 3852.7188 - mean_squared_loga\n",
      "Epoch 255/500\n",
      "12250/12250 [==============================] - 13s 1ms/step - loss: 3864.4373 - mean_squared_error: 3864.4373 - mean_squared_logarithmic_error: 0.6083 - val_loss: 12005.0645 - val_mean_squared_error: 12005.0645 - val_mean_squared_logarithmic_error: 0.8211garithmic_error - ETA: 4s \n",
      "Epoch 256/500\n",
      "12250/12250 [==============================] - 13s 1ms/step - loss: 3850.1870 - mean_squared_error: 3850.1870 - mean_squared_logarithmic_error: 0.6078 - val_loss: 11266.9277 - val_mean_squared_error: 11266.9277 - val_mean_squared_logarithmic_error: 0.8088\n",
      "Epoch 257/500\n",
      "12250/12250 [==============================] - 13s 1ms/step - loss: 3736.4482 - mean_squared_error: 3736.4482 - mean_squared_logarithmic_error: 0.6048 - val_loss: 11945.0762 - val_mean_squared_error: 11945.0762 - val_mean_squared_logarithmic_error: 0.7964\n",
      "Epoch 258/500\n",
      "12250/12250 [==============================] - 13s 1ms/step - loss: 3878.3525 - mean_squared_error: 3878.3525 - mean_squared_logarithmic_error: 0.6224 - val_loss: 11289.9893 - val_mean_squared_error: 11289.9893 - val_mean_squared_logarithmic_error: 0.7739\n",
      "Epoch 259/500\n",
      "12250/12250 [==============================] - 13s 1ms/step - loss: 3845.2656 - mean_squared_error: 3845.2656 - mean_squared_logarithmic_error: 0.6089 - val_loss: 12073.1689 - val_mean_squared_error: 12073.1689 - val_mean_squared_logarithmic_error: 0.8044\n",
      "Epoch 260/500\n"
     ]
    },
    {
     "name": "stdout",
     "output_type": "stream",
     "text": [
      "12250/12250 [==============================] - 13s 1ms/step - loss: 3790.3318 - mean_squared_error: 3790.3318 - mean_squared_logarithmic_error: 0.6117 - val_loss: 11601.9053 - val_mean_squared_error: 11601.9053 - val_mean_squared_logarithmic_error: 0.8100\n",
      "Epoch 261/500\n",
      "12250/12250 [==============================] - 13s 1ms/step - loss: 3795.7830 - mean_squared_error: 3795.7830 - mean_squared_logarithmic_error: 0.6047 - val_loss: 11068.1592 - val_mean_squared_error: 11068.1592 - val_mean_squared_logarithmic_error: 0.7996\n",
      "Epoch 262/500\n",
      "12250/12250 [==============================] - 13s 1ms/step - loss: 3855.7388 - mean_squared_error: 3855.7388 - mean_squared_logarithmic_error: 0.6198 - val_loss: 11239.7979 - val_mean_squared_error: 11239.7979 - val_mean_squared_logarithmic_error: 0.7881\n",
      "Epoch 263/500\n",
      "12250/12250 [==============================] - 13s 1ms/step - loss: 3827.2205 - mean_squared_error: 3827.2205 - mean_squared_logarithmic_error: 0.6133 - val_loss: 11459.8828 - val_mean_squared_error: 11459.8828 - val_mean_squared_logarithmic_error: 0.8044\n",
      "Epoch 264/500\n",
      "12250/12250 [==============================] - 13s 1ms/step - loss: 3752.0078 - mean_squared_error: 3752.0078 - mean_squared_logarithmic_error: 0.6191 - val_loss: 11904.9531 - val_mean_squared_error: 11904.9531 - val_mean_squared_logarithmic_error: 0.8009ror: 3761.6692 - mean_squared_logarithmic_erro\n",
      "Epoch 265/500\n",
      "12250/12250 [==============================] - 13s 1ms/step - loss: 3772.2900 - mean_squared_error: 3772.2900 - mean_squared_logarithmic_error: 0.6124 - val_loss: 10505.6387 - val_mean_squared_error: 10505.6387 - val_mean_squared_logarithmic_error: 0.7818\n",
      "Epoch 266/500\n",
      "12250/12250 [==============================] - 13s 1ms/step - loss: 3667.3989 - mean_squared_error: 3667.3989 - mean_squared_logarithmic_error: 0.6018 - val_loss: 11117.5117 - val_mean_squared_error: 11117.5117 - val_mean_squared_logarithmic_error: 0.8283\n",
      "Epoch 267/500\n",
      "12250/12250 [==============================] - 13s 1ms/step - loss: 3733.6226 - mean_squared_error: 3733.6226 - mean_squared_logarithmic_error: 0.6195 - val_loss: 10626.7500 - val_mean_squared_error: 10626.7500 - val_mean_squared_logarithmic_error: 0.8827: 3780.4668 - mean_squ - ETA: 6s - l - ETA: 2s - loss: 3693.2397 - mean_squared_error: 3693.\n",
      "Epoch 268/500\n",
      "12250/12250 [==============================] - 13s 1ms/step - loss: 3868.9253 - mean_squared_error: 3868.9253 - mean_squared_logarithmic_error: 0.6127 - val_loss: 10508.1963 - val_mean_squared_error: 10508.1963 - val_mean_squared_logarithmic_error: 0.7462\n",
      "Epoch 269/500\n",
      "12250/12250 [==============================] - 13s 1ms/step - loss: 3689.8518 - mean_squared_error: 3689.8518 - mean_squared_logarithmic_error: 0.6078 - val_loss: 12842.1758 - val_mean_squared_error: 12842.1758 - val_mean_squared_logarithmic_error: 0.8301\n",
      "Epoch 270/500\n",
      "12250/12250 [==============================] - 13s 1ms/step - loss: 3705.4050 - mean_squared_error: 3705.4050 - mean_squared_logarithmic_error: 0.6078 - val_loss: 11216.7793 - val_mean_squared_error: 11216.7793 - val_mean_squared_logarithmic_error: 0.8314\n",
      "Epoch 271/500\n",
      "12250/12250 [==============================] - 13s 1ms/step - loss: 3689.1953 - mean_squared_error: 3689.1953 - mean_squared_logarithmic_error: 0.6145 - val_loss: 11719.9727 - val_mean_squared_error: 11719.9727 - val_mean_squared_logarithmic_error: 0.7830\n",
      "Epoch 272/500\n",
      "12250/12250 [==============================] - 13s 1ms/step - loss: 3836.0610 - mean_squared_error: 3836.0610 - mean_squared_logarithmic_error: 0.6114 - val_loss: 11250.6348 - val_mean_squared_error: 11250.6348 - val_mean_squared_logarithmic_error: 0.81163873.8855 - mean_squared_error: 3873.8855 - mean_squared\n",
      "Epoch 273/500\n",
      "12250/12250 [==============================] - 13s 1ms/step - loss: 3705.6565 - mean_squared_error: 3705.6565 - mean_squared_logarithmic_error: 0.6117 - val_loss: 10875.2324 - val_mean_squared_error: 10875.2324 - val_mean_squared_logarithmic_error: 0.8126\n",
      "Epoch 274/500\n",
      "12250/12250 [==============================] - 13s 1ms/step - loss: 3729.1836 - mean_squared_error: 3729.1836 - mean_squared_logarithmic_error: 0.6147 - val_loss: 12159.7178 - val_mean_squared_error: 12159.7178 - val_mean_squared_logarithmic_error: 0.8475\n",
      "Epoch 275/500\n",
      "12250/12250 [==============================] - 13s 1ms/step - loss: 3677.0625 - mean_squared_error: 3677.0625 - mean_squared_logarithmic_error: 0.6189 - val_loss: 11044.2178 - val_mean_squared_error: 11044.2178 - val_mean_squared_logarithmic_error: 0.7832\n",
      "Epoch 276/500\n",
      "12250/12250 [==============================] - 13s 1ms/step - loss: 3648.3132 - mean_squared_error: 3648.3132 - mean_squared_logarithmic_error: 0.6044 - val_loss: 10982.3047 - val_mean_squared_error: 10982.3047 - val_mean_squared_logarithmic_error: 0.7970\n",
      "Epoch 277/500\n",
      "12250/12250 [==============================] - 13s 1ms/step - loss: 3609.1938 - mean_squared_error: 3609.1938 - mean_squared_logarithmic_error: 0.6188 - val_loss: 11514.0605 - val_mean_squared_error: 11514.0605 - val_mean_squared_logarithmic_error: 0.8298\n",
      "Epoch 278/500\n",
      "12250/12250 [==============================] - 13s 1ms/step - loss: 3659.0249 - mean_squared_error: 3659.0249 - mean_squared_logarithmic_error: 0.6030 - val_loss: 10837.4912 - val_mean_squared_error: 10837.4912 - val_mean_squared_logarithmic_error: 0.7937\n",
      "Epoch 279/500\n",
      "12250/12250 [==============================] - 13s 1ms/step - loss: 3655.8223 - mean_squared_error: 3655.8223 - mean_squared_logarithmic_error: 0.6108 - val_loss: 10411.5146 - val_mean_squared_error: 10411.5146 - val_mean_squared_logarithmic_error: 0.8017\n",
      "Epoch 280/500\n",
      "12250/12250 [==============================] - 13s 1ms/step - loss: 3661.3394 - mean_squared_error: 3661.3394 - mean_squared_logarithmic_error: 0.6115 - val_loss: 10676.5000 - val_mean_squared_error: 10676.5000 - val_mean_squared_logarithmic_error: 0.8151\n",
      "Epoch 281/500\n",
      "12250/12250 [==============================] - 13s 1ms/step - loss: 3637.1746 - mean_squared_error: 3637.1746 - mean_squared_logarithmic_error: 0.6075 - val_loss: 10999.7324 - val_mean_squared_error: 10999.7324 - val_mean_squared_logarithmic_error: 0.8613\n",
      "Epoch 282/500\n",
      "12250/12250 [==============================] - 13s 1ms/step - loss: 3681.4341 - mean_squared_error: 3681.4341 - mean_squared_logarithmic_error: 0.6189 - val_loss: 10937.5371 - val_mean_squared_error: 10937.5371 - val_mean_squared_logarithmic_error: 0.8298\n",
      "Epoch 283/500\n",
      "12250/12250 [==============================] - 13s 1ms/step - loss: 3606.8806 - mean_squared_error: 3606.8806 - mean_squared_logarithmic_error: 0.6106 - val_loss: 10426.9502 - val_mean_squared_error: 10426.9502 - val_mean_squared_logarithmic_error: 0.7910\n",
      "Epoch 284/500\n",
      "12250/12250 [==============================] - 13s 1ms/step - loss: 3634.1035 - mean_squared_error: 3634.1035 - mean_squared_logarithmic_error: 0.6060 - val_loss: 11190.1250 - val_mean_squared_error: 11190.1250 - val_mean_squared_logarithmic_error: 0.8066\n",
      "Epoch 285/500\n",
      "12250/12250 [==============================] - 13s 1ms/step - loss: 3633.9944 - mean_squared_error: 3633.9944 - mean_squared_logarithmic_error: 0.6151 - val_loss: 11168.5547 - val_mean_squared_error: 11168.5547 - val_mean_squared_logarithmic_error: 0.7974\n",
      "Epoch 286/500\n",
      "12250/12250 [==============================] - 13s 1ms/step - loss: 3538.2397 - mean_squared_error: 3538.2397 - mean_squared_logarithmic_error: 0.6045 - val_loss: 11019.4443 - val_mean_squared_error: 11019.4443 - val_mean_squared_logarithmic_error: 0.8362\n",
      "Epoch 287/500\n",
      "12250/12250 [==============================] - 13s 1ms/step - loss: 3562.6492 - mean_squared_error: 3562.6492 - mean_squared_logarithmic_error: 0.6164 - val_loss: 10490.0918 - val_mean_squared_error: 10490.0918 - val_mean_squared_logarithmic_error: 0.8488 - ETA: 4s - loss: 34 - ETA: 0s - loss: 3566.4573 - mean_squared_error: 3566.4573 - mean_squared_logarithmic\n",
      "Epoch 288/500\n",
      "12250/12250 [==============================] - 13s 1ms/step - loss: 3636.7632 - mean_squared_error: 3636.7632 - mean_squared_logarithmic_error: 0.6129 - val_loss: 10407.9902 - val_mean_squared_error: 10407.9902 - val_mean_squared_logarithmic_error: 0.7934\n",
      "Epoch 289/500\n",
      "12250/12250 [==============================] - 13s 1ms/step - loss: 3485.4109 - mean_squared_error: 3485.4109 - mean_squared_logarithmic_error: 0.6112 - val_loss: 11501.3496 - val_mean_squared_error: 11501.3496 - val_mean_squared_logarithmic_error: 0.8371\n",
      "Epoch 290/500\n",
      "12250/12250 [==============================] - 13s 1ms/step - loss: 3628.7263 - mean_squared_error: 3628.7263 - mean_squared_logarithmic_error: 0.6232 - val_loss: 10689.0635 - val_mean_squared_error: 10689.0635 - val_mean_squared_logarithmic_error: 0.7960\n",
      "Epoch 291/500\n",
      "12250/12250 [==============================] - 13s 1ms/step - loss: 3592.1042 - mean_squared_error: 3592.1042 - mean_squared_logarithmic_error: 0.6106 - val_loss: 11301.6689 - val_mean_squared_error: 11301.6689 - val_mean_squared_logarithmic_error: 0.8103s: 3261.3550 - mean_squared_error: 3261.3550 - mean_squared_log - ETA: 4s - loss: 3496.7869 - - ETA: 1s - loss: 3577.8611 - mean_squared_error: 3577.8611 - mean_squared_log\n",
      "Epoch 292/500\n",
      "12250/12250 [==============================] - 14s 1ms/step - loss: 3561.2585 - mean_squared_error: 3561.2585 - mean_squared_logarithmic_error: 0.6125 - val_loss: 10364.8477 - val_mean_squared_error: 10364.8477 - val_mean_squared_logarithmic_error: 0.8199\n",
      "Epoch 293/500\n",
      "12250/12250 [==============================] - 13s 1ms/step - loss: 3531.9514 - mean_squared_error: 3531.9514 - mean_squared_logarithmic_error: 0.6019 - val_loss: 11332.7832 - val_mean_squared_error: 11332.7832 - val_mean_squared_logarithmic_error: 0.8157\n",
      "Epoch 294/500\n",
      "12250/12250 [==============================] - 13s 1ms/step - loss: 3515.0894 - mean_squared_error: 3515.0894 - mean_squared_logarithmic_error: 0.6106 - val_loss: 12610.8135 - val_mean_squared_error: 12610.8135 - val_mean_squared_logarithmic_error: 0.8381\n",
      "Epoch 295/500\n",
      "12250/12250 [==============================] - 13s 1ms/step - loss: 3578.1555 - mean_squared_error: 3578.1555 - mean_squared_logarithmic_error: 0.6150 - val_loss: 11298.0400 - val_mean_squared_error: 11298.0400 - val_mean_squared_logarithmic_error: 0.8701\n",
      "Epoch 296/500\n",
      "12250/12250 [==============================] - 13s 1ms/step - loss: 3438.4490 - mean_squared_error: 3438.4490 - mean_squared_logarithmic_error: 0.6096 - val_loss: 11591.1240 - val_mean_squared_error: 11591.1240 - val_mean_squared_logarithmic_error: 0.8304 - ETA: 0s - loss: 3436.3882 - mean_squared_error: 3436.3882 - mean_squared_logarithmic_error: 0.610\n",
      "Epoch 297/500\n",
      "12250/12250 [==============================] - 13s 1ms/step - loss: 3580.5371 - mean_squared_error: 3580.5371 - mean_squared_logarithmic_error: 0.6135 - val_loss: 11163.2666 - val_mean_squared_error: 11163.2666 - val_mean_squared_logarithmic_error: 0.8358\n",
      "Epoch 298/500\n",
      "12250/12250 [==============================] - 13s 1ms/step - loss: 3523.6228 - mean_squared_error: 3523.6228 - mean_squared_logarithmic_error: 0.6099 - val_loss: 10288.0889 - val_mean_squared_error: 10288.0889 - val_mean_squared_logarithmic_error: 0.8120_error: 0 - ETA: 4s - loss: 3501.5596 - mean_squared - ETA: 1s - loss: 3557.3936 - mean_squared_error: 3557.3936 - mean_sq\n",
      "Epoch 299/500\n",
      "12250/12250 [==============================] - 13s 1ms/step - loss: 3505.0327 - mean_squared_error: 3505.0327 - mean_squared_logarithmic_error: 0.6097 - val_loss: 11421.9775 - val_mean_squared_error: 11421.9775 - val_mean_squared_logarithmic_error: 0.8222\n",
      "Epoch 300/500\n",
      "12250/12250 [==============================] - 13s 1ms/step - loss: 3576.0562 - mean_squared_error: 3576.0562 - mean_squared_logarithmic_error: 0.6172 - val_loss: 10835.0420 - val_mean_squared_error: 10835.0420 - val_mean_squared_logarithmic_error: 0.8476\n",
      "Epoch 301/500\n",
      "12250/12250 [==============================] - 14s 1ms/step - loss: 3488.1604 - mean_squared_error: 3488.1604 - mean_squared_logarithmic_error: 0.6115 - val_loss: 10466.5918 - val_mean_squared_error: 10466.5918 - val_mean_squared_logarithmic_error: 0.7957\n",
      "Epoch 302/500\n",
      "12250/12250 [==============================] - 13s 1ms/step - loss: 3504.4023 - mean_squared_error: 3504.4023 - mean_squared_logarithmic_error: 0.6082 - val_loss: 10515.2012 - val_mean_squared_error: 10515.2012 - val_mean_squared_logarithmic_error: 0.8415\n",
      "Epoch 303/500\n",
      "12250/12250 [==============================] - 13s 1ms/step - loss: 3494.7568 - mean_squared_error: 3494.7568 - mean_squared_logarithmic_error: 0.6078 - val_loss: 10337.8955 - val_mean_squared_error: 10337.8955 - val_mean_squared_logarithmic_error: 0.8027\n",
      "Epoch 304/500\n",
      "12250/12250 [==============================] - 15s 1ms/step - loss: 3540.8369 - mean_squared_error: 3540.8369 - mean_squared_logarithmic_error: 0.6147 - val_loss: 10885.6748 - val_mean_squared_error: 10885.6748 - val_mean_squared_logarithmic_error: 0.8886 loss: 3338.8291 - mean_squared_error: 3338.8291 - mean - ETA: 0s - loss: 3398.4631 - mean_squared_error: 3398.4631 - mean_squared_logarit\n",
      "Epoch 305/500\n",
      "12250/12250 [==============================] - 13s 1ms/step - loss: 3479.1313 - mean_squared_error: 3479.1313 - mean_squared_logarithmic_error: 0.6123 - val_loss: 10811.5088 - val_mean_squared_error: 10811.5088 - val_mean_squared_logarithmic_error: 0.8276\n",
      "Epoch 306/500\n",
      "12250/12250 [==============================] - 13s 1ms/step - loss: 3483.5491 - mean_squared_error: 3483.5491 - mean_squared_logarithmic_error: 0.6041 - val_loss: 10547.9248 - val_mean_squared_error: 10547.9248 - val_mean_squared_logarithmic_error: 0.8018\n",
      "Epoch 307/500\n",
      "12250/12250 [==============================] - 13s 1ms/step - loss: 3481.1157 - mean_squared_error: 3481.1157 - mean_squared_logarithmic_error: 0.6158 - val_loss: 10741.3535 - val_mean_squared_error: 10741.3535 - val_mean_squared_logarithmic_error: 0.8223\n",
      "Epoch 308/500\n",
      "12250/12250 [==============================] - 13s 1ms/step - loss: 3510.9688 - mean_squared_error: 3510.9688 - mean_squared_logarithmic_error: 0.6148 - val_loss: 10986.9883 - val_mean_squared_error: 10986.9883 - val_mean_squared_logarithmic_error: 0.8287n_squared_logarithmic_error: 0.\n",
      "Epoch 309/500\n",
      "12250/12250 [==============================] - 13s 1ms/step - loss: 3442.0078 - mean_squared_error: 3442.0078 - mean_squared_logarithmic_error: 0.6115 - val_loss: 10638.3799 - val_mean_squared_error: 10638.3799 - val_mean_squared_logarithmic_error: 0.7958\n",
      "Epoch 310/500\n",
      "12250/12250 [==============================] - 13s 1ms/step - loss: 3511.1003 - mean_squared_error: 3511.1003 - mean_squared_logarithmic_error: 0.6200 - val_loss: 12177.7969 - val_mean_squared_error: 12177.7969 - val_mean_squared_logarithmic_error: 0.8047\n",
      "Epoch 311/500\n",
      "12250/12250 [==============================] - 13s 1ms/step - loss: 3409.0100 - mean_squared_error: 3409.0100 - mean_squared_logarithmic_error: 0.6081 - val_loss: 11064.7559 - val_mean_squared_error: 11064.7559 - val_mean_squared_logarithmic_error: 0.8152\n",
      "Epoch 312/500\n",
      "12250/12250 [==============================] - 13s 1ms/step - loss: 3429.8733 - mean_squared_error: 3429.8733 - mean_squared_logarithmic_error: 0.6170 - val_loss: 11412.8408 - val_mean_squared_error: 11412.8408 - val_mean_squared_logarithmic_error: 0.8540\n",
      "Epoch 313/500\n",
      "12250/12250 [==============================] - 13s 1ms/step - loss: 3437.3196 - mean_squared_error: 3437.3196 - mean_squared_logarithmic_error: 0.6058 - val_loss: 10996.9531 - val_mean_squared_error: 10996.9531 - val_mean_squared_logarithmic_error: 0.8365\n",
      "Epoch 314/500\n",
      "12250/12250 [==============================] - 13s 1ms/step - loss: 3422.2058 - mean_squared_error: 3422.2058 - mean_squared_logarithmic_error: 0.6146 - val_loss: 10994.2021 - val_mean_squared_error: 10994.2021 - val_mean_squared_logarithmic_error: 0.8071: 3s - loss: 3469.6638 - mean_squared_error: 3469.6638 - mea - ETA: 1s - loss: 3491.1626 - mean_squared_error: 3491.1626 - mean\n",
      "Epoch 315/500\n",
      "12250/12250 [==============================] - 13s 1ms/step - loss: 3484.0051 - mean_squared_error: 3484.0051 - mean_squared_logarithmic_error: 0.6115 - val_loss: 10337.7832 - val_mean_squared_error: 10337.7832 - val_mean_squared_logarithmic_error: 0.7986\n",
      "Epoch 316/500\n"
     ]
    },
    {
     "name": "stdout",
     "output_type": "stream",
     "text": [
      "12250/12250 [==============================] - 13s 1ms/step - loss: 3385.0186 - mean_squared_error: 3385.0186 - mean_squared_logarithmic_error: 0.6087 - val_loss: 11291.1855 - val_mean_squared_error: 11291.1855 - val_mean_squared_logarithmic_error: 0.8434\n",
      "Epoch 317/500\n",
      "12250/12250 [==============================] - 13s 1ms/step - loss: 3423.9895 - mean_squared_error: 3423.9895 - mean_squared_logarithmic_error: 0.6152 - val_loss: 11350.3174 - val_mean_squared_error: 11350.3174 - val_mean_squared_logarithmic_error: 0.8245\n",
      "Epoch 318/500\n",
      "12250/12250 [==============================] - 13s 1ms/step - loss: 3482.4917 - mean_squared_error: 3482.4917 - mean_squared_logarithmic_error: 0.6137 - val_loss: 10781.6689 - val_mean_squared_error: 10781.6689 - val_mean_squared_logarithmic_error: 0.8259\n",
      "Epoch 319/500\n",
      "12250/12250 [==============================] - 13s 1ms/step - loss: 3436.6606 - mean_squared_error: 3436.6606 - mean_squared_logarithmic_error: 0.6209 - val_loss: 11984.4961 - val_mean_squared_error: 11984.4961 - val_mean_squared_logarithmic_error: 0.8239 - mean_squared_error: 3306.1672 - mean_sq\n",
      "Epoch 320/500\n",
      "12250/12250 [==============================] - 13s 1ms/step - loss: 3429.6382 - mean_squared_error: 3429.6382 - mean_squared_logarithmic_error: 0.6120 - val_loss: 10846.9844 - val_mean_squared_error: 10846.9844 - val_mean_squared_logarithmic_error: 0.8212\n",
      "Epoch 321/500\n",
      "12250/12250 [==============================] - 13s 1ms/step - loss: 3449.3035 - mean_squared_error: 3449.3035 - mean_squared_logarithmic_error: 0.6133 - val_loss: 10797.5439 - val_mean_squared_error: 10797.5439 - val_mean_squared_logarithmic_error: 0.8139\n",
      "Epoch 322/500\n",
      "12250/12250 [==============================] - 13s 1ms/step - loss: 3373.9648 - mean_squared_error: 3373.9648 - mean_squared_logarithmic_error: 0.6091 - val_loss: 10442.4629 - val_mean_squared_error: 10442.4629 - val_mean_squared_logarithmic_error: 0.8139\n",
      "Epoch 323/500\n",
      "12250/12250 [==============================] - 13s 1ms/step - loss: 3354.3445 - mean_squared_error: 3354.3445 - mean_squared_logarithmic_error: 0.6129 - val_loss: 10684.3281 - val_mean_squared_error: 10684.3281 - val_mean_squared_logarithmic_error: 0.8063\n",
      "Epoch 324/500\n",
      "12250/12250 [==============================] - 13s 1ms/step - loss: 3362.5981 - mean_squared_error: 3362.5981 - mean_squared_logarithmic_error: 0.6114 - val_loss: 10335.5908 - val_mean_squared_error: 10335.5908 - val_mean_squared_logarithmic_error: 0.7976an_squared_logarithmic_e\n",
      "Epoch 325/500\n",
      "12250/12250 [==============================] - 13s 1ms/step - loss: 3291.1885 - mean_squared_error: 3291.1885 - mean_squared_logarithmic_error: 0.6080 - val_loss: 10374.8604 - val_mean_squared_error: 10374.8604 - val_mean_squared_logarithmic_error: 0.8607\n",
      "Epoch 326/500\n",
      "12250/12250 [==============================] - 13s 1ms/step - loss: 3413.5850 - mean_squared_error: 3413.5850 - mean_squared_logarithmic_error: 0.6110 - val_loss: 11531.2441 - val_mean_squared_error: 11531.2441 - val_mean_squared_logarithmic_error: 0.8557- mean_squared_error: 3335.4546 - mean_squ - ETA: 4s - loss: 3410.8364 -\n",
      "Epoch 327/500\n",
      "12250/12250 [==============================] - 13s 1ms/step - loss: 3385.5879 - mean_squared_error: 3385.5879 - mean_squared_logarithmic_error: 0.6184 - val_loss: 10456.7539 - val_mean_squared_error: 10456.7539 - val_mean_squared_logarithmic_error: 0.8070\n",
      "Epoch 328/500\n",
      "12250/12250 [==============================] - 13s 1ms/step - loss: 3370.4788 - mean_squared_error: 3370.4788 - mean_squared_logarithmic_error: 0.6089 - val_loss: 10581.7842 - val_mean_squared_error: 10581.7842 - val_mean_squared_logarithmic_error: 0.8271\n",
      "Epoch 329/500\n",
      "12250/12250 [==============================] - 13s 1ms/step - loss: 3412.3674 - mean_squared_error: 3412.3674 - mean_squared_logarithmic_error: 0.6166 - val_loss: 10661.3398 - val_mean_squared_error: 10661.3398 - val_mean_squared_logarithmic_error: 0.8203\n",
      "Epoch 330/500\n",
      "12250/12250 [==============================] - 13s 1ms/step - loss: 3344.8572 - mean_squared_error: 3344.8572 - mean_squared_logarithmic_error: 0.6127 - val_loss: 11101.2812 - val_mean_squared_error: 11101.2812 - val_mean_squared_logarithmic_error: 0.8396\n",
      "Epoch 331/500\n",
      "12250/12250 [==============================] - 13s 1ms/step - loss: 3395.7302 - mean_squared_error: 3395.7302 - mean_squared_logarithmic_error: 0.6115 - val_loss: 11086.0957 - val_mean_squared_error: 11086.0957 - val_mean_squared_logarithmic_error: 0.8230 loss: 3461.0259 - mean_squared_error: 3461.0259 - mean_square\n",
      "Epoch 332/500\n",
      "12250/12250 [==============================] - 13s 1ms/step - loss: 3329.3081 - mean_squared_error: 3329.3081 - mean_squared_logarithmic_error: 0.6163 - val_loss: 10663.3828 - val_mean_squared_error: 10663.3828 - val_mean_squared_logarithmic_error: 0.8653\n",
      "Epoch 333/500\n",
      "12250/12250 [==============================] - 13s 1ms/step - loss: 3366.4177 - mean_squared_error: 3366.4177 - mean_squared_logarithmic_error: 0.6119 - val_loss: 11385.1631 - val_mean_squared_error: 11385.1631 - val_mean_squared_logarithmic_error: 0.8228\n",
      "Epoch 334/500\n",
      "12250/12250 [==============================] - 13s 1ms/step - loss: 3255.4067 - mean_squared_error: 3255.4067 - mean_squared_logarithmic_error: 0.6175 - val_loss: 10962.5635 - val_mean_squared_error: 10962.5635 - val_mean_squared_logarithmic_error: 0.8296\n",
      "Epoch 335/500\n",
      "12250/12250 [==============================] - 13s 1ms/step - loss: 3367.8474 - mean_squared_error: 3367.8474 - mean_squared_logarithmic_error: 0.6095 - val_loss: 10352.6641 - val_mean_squared_error: 10352.6641 - val_mean_squared_logarithmic_error: 0.8258\n",
      "Epoch 336/500\n",
      "12250/12250 [==============================] - 16s 1ms/step - loss: 3316.5996 - mean_squared_error: 3316.5996 - mean_squared_logarithmic_error: 0.6175 - val_loss: 10536.3047 - val_mean_squared_error: 10536.3047 - val_mean_squared_logarithmic_error: 0.7865\n",
      "Epoch 337/500\n",
      "12250/12250 [==============================] - 14s 1ms/step - loss: 3343.9504 - mean_squared_error: 3343.9504 - mean_squared_logarithmic_error: 0.6162 - val_loss: 10347.0068 - val_mean_squared_error: 10347.0068 - val_mean_squared_logarithmic_error: 0.8333\n",
      "Epoch 338/500\n",
      "12250/12250 [==============================] - 13s 1ms/step - loss: 3293.8469 - mean_squared_error: 3293.8469 - mean_squared_logarithmic_error: 0.6065 - val_loss: 12316.2656 - val_mean_squared_error: 12316.2656 - val_mean_squared_logarithmic_error: 0.8530\n",
      "Epoch 339/500\n",
      "12250/12250 [==============================] - 14s 1ms/step - loss: 3287.0190 - mean_squared_error: 3287.0190 - mean_squared_logarithmic_error: 0.6103 - val_loss: 10632.8408 - val_mean_squared_error: 10632.8408 - val_mean_squared_logarithmic_error: 0.8249\n",
      "Epoch 340/500\n",
      "12250/12250 [==============================] - 15s 1ms/step - loss: 3281.8943 - mean_squared_error: 3281.8943 - mean_squared_logarithmic_error: 0.6085 - val_loss: 10930.6650 - val_mean_squared_error: 10930.6650 - val_mean_squared_logarithmic_error: 0.8003\n",
      "Epoch 341/500\n",
      "12250/12250 [==============================] - 13s 1ms/step - loss: 3285.0564 - mean_squared_error: 3285.0564 - mean_squared_logarithmic_error: 0.6103 - val_loss: 10977.3320 - val_mean_squared_error: 10977.3320 - val_mean_squared_logarithmic_error: 0.8778an_squared_logarithmic_error: 0.60 - ETA: 6s - loss: 3235.4043 - mean_square - ETA: 3s - loss: 3154.2505 - mean_squared_error: 3154.2505 - mean_squared_logarithmic_error:  - ETA: 3s - loss: 3246.0203 - mean_squared_error: 3246.0203 - mean_squared_logarithmic - ETA: 2s - loss: 3308.8472 - mean_squared_error: 3308\n",
      "Epoch 342/500\n",
      "12250/12250 [==============================] - 13s 1ms/step - loss: 3344.5222 - mean_squared_error: 3344.5222 - mean_squared_logarithmic_error: 0.6142 - val_loss: 10992.1094 - val_mean_squared_error: 10992.1094 - val_mean_squared_logarithmic_error: 0.8278\n",
      "Epoch 343/500\n",
      "12250/12250 [==============================] - 13s 1ms/step - loss: 3286.4915 - mean_squared_error: 3286.4915 - mean_squared_logarithmic_error: 0.6115 - val_loss: 10799.7383 - val_mean_squared_error: 10799.7383 - val_mean_squared_logarithmic_error: 0.8096\n",
      "Epoch 344/500\n",
      "12250/12250 [==============================] - 13s 1ms/step - loss: 3276.2925 - mean_squared_error: 3276.2925 - mean_squared_logarithmic_error: 0.6090 - val_loss: 11231.3027 - val_mean_squared_error: 11231.3027 - val_mean_squared_logarithmic_error: 0.8601\n",
      "Epoch 345/500\n",
      "12250/12250 [==============================] - 13s 1ms/step - loss: 3323.9026 - mean_squared_error: 3323.9026 - mean_squared_logarithmic_error: 0.6150 - val_loss: 10516.8516 - val_mean_squared_error: 10516.8516 - val_mean_squared_logarithmic_error: 0.8534\n",
      "Epoch 346/500\n",
      "12250/12250 [==============================] - 13s 1ms/step - loss: 3341.3750 - mean_squared_error: 3341.3750 - mean_squared_logarithmic_error: 0.6215 - val_loss: 10589.3330 - val_mean_squared_error: 10589.3330 - val_mean_squared_logarithmic_error: 0.83023441.83\n",
      "Epoch 347/500\n",
      "12250/12250 [==============================] - 13s 1ms/step - loss: 3250.1704 - mean_squared_error: 3250.1704 - mean_squared_logarithmic_error: 0.6099 - val_loss: 10754.1924 - val_mean_squared_error: 10754.1924 - val_mean_squared_logarithmic_error: 0.8240\n",
      "Epoch 348/500\n",
      "12250/12250 [==============================] - 13s 1ms/step - loss: 3289.0364 - mean_squared_error: 3289.0364 - mean_squared_logarithmic_error: 0.6092 - val_loss: 10534.4961 - val_mean_squared_error: 10534.4961 - val_mean_squared_logarithmic_error: 0.8032\n",
      "Epoch 349/500\n",
      "12250/12250 [==============================] - 13s 1ms/step - loss: 3257.5159 - mean_squared_error: 3257.5159 - mean_squared_logarithmic_error: 0.6184 - val_loss: 11491.9785 - val_mean_squared_error: 11491.9785 - val_mean_squared_logarithmic_error: 0.8710\n",
      "Epoch 350/500\n",
      "12250/12250 [==============================] - 13s 1ms/step - loss: 3330.9731 - mean_squared_error: 3330.9731 - mean_squared_logarithmic_error: 0.6148 - val_loss: 10419.5254 - val_mean_squared_error: 10419.5254 - val_mean_squared_logarithmic_error: 0.9020\n",
      "Epoch 351/500\n",
      "12250/12250 [==============================] - 13s 1ms/step - loss: 3269.0022 - mean_squared_error: 3269.0022 - mean_squared_logarithmic_error: 0.6058 - val_loss: 11210.4414 - val_mean_squared_error: 11210.4414 - val_mean_squared_logarithmic_error: 0.8667\n",
      "Epoch 352/500\n",
      "12250/12250 [==============================] - 13s 1ms/step - loss: 3239.3989 - mean_squared_error: 3239.3989 - mean_squared_logarithmic_error: 0.6120 - val_loss: 10969.6875 - val_mean_squared_error: 10969.6875 - val_mean_squared_logarithmic_error: 0.8384\n",
      "Epoch 353/500\n",
      "12250/12250 [==============================] - 13s 1ms/step - loss: 3261.8560 - mean_squared_error: 3261.8560 - mean_squared_logarithmic_error: 0.6032 - val_loss: 11406.7646 - val_mean_squared_error: 11406.7646 - val_mean_squared_logarithmic_error: 0.8299\n",
      "Epoch 354/500\n",
      "12250/12250 [==============================] - 13s 1ms/step - loss: 3230.6218 - mean_squared_error: 3230.6218 - mean_squared_logarithmic_error: 0.6063 - val_loss: 10657.7490 - val_mean_squared_error: 10657.7490 - val_mean_squared_logarithmic_error: 0.8178\n",
      "Epoch 355/500\n",
      "12250/12250 [==============================] - 13s 1ms/step - loss: 3217.1689 - mean_squared_error: 3217.1689 - mean_squared_logarithmic_error: 0.6115 - val_loss: 12184.3760 - val_mean_squared_error: 12184.3760 - val_mean_squared_logarithmic_error: 0.8688\n",
      "Epoch 356/500\n",
      "12250/12250 [==============================] - 13s 1ms/step - loss: 3221.5491 - mean_squared_error: 3221.5491 - mean_squared_logarithmic_error: 0.6086 - val_loss: 11211.7090 - val_mean_squared_error: 11211.7090 - val_mean_squared_logarithmic_error: 0.8391\n",
      "Epoch 357/500\n",
      "12250/12250 [==============================] - 13s 1ms/step - loss: 3243.7075 - mean_squared_error: 3243.7075 - mean_squared_logarithmic_error: 0.6094 - val_loss: 12465.4385 - val_mean_squared_error: 12465.4385 - val_mean_squared_logarithmic_error: 0.8559rithmic_error: 0 - ETA: 3s - loss: 3164.9167 - m\n",
      "Epoch 358/500\n",
      "12250/12250 [==============================] - 13s 1ms/step - loss: 3188.3044 - mean_squared_error: 3188.3044 - mean_squared_logarithmic_error: 0.6105 - val_loss: 10523.3018 - val_mean_squared_error: 10523.3018 - val_mean_squared_logarithmic_error: 0.7907red\n",
      "Epoch 359/500\n",
      "12250/12250 [==============================] - 13s 1ms/step - loss: 3215.3606 - mean_squared_error: 3215.3606 - mean_squared_logarithmic_error: 0.6138 - val_loss: 10826.8604 - val_mean_squared_error: 10826.8604 - val_mean_squared_logarithmic_error: 0.8623\n",
      "Epoch 360/500\n",
      "12250/12250 [==============================] - 15s 1ms/step - loss: 3187.6497 - mean_squared_error: 3187.6497 - mean_squared_logarithmic_error: 0.6144 - val_loss: 10608.4111 - val_mean_squared_error: 10608.4111 - val_mean_squared_logarithmic_error: 0.8308\n",
      "Epoch 361/500\n",
      "12250/12250 [==============================] - 13s 1ms/step - loss: 3101.2280 - mean_squared_error: 3101.2280 - mean_squared_logarithmic_error: 0.6071 - val_loss: 10617.8252 - val_mean_squared_error: 10617.8252 - val_mean_squared_logarithmic_error: 0.8428\n",
      "Epoch 362/500\n",
      "12250/12250 [==============================] - 13s 1ms/step - loss: 3229.0100 - mean_squared_error: 3229.0100 - mean_squared_logarithmic_error: 0.6150 - val_loss: 11063.4990 - val_mean_squared_error: 11063.4990 - val_mean_squared_logarithmic_error: 0.8336\n",
      "Epoch 363/500\n",
      "12250/12250 [==============================] - 13s 1ms/step - loss: 3155.5132 - mean_squared_error: 3155.5132 - mean_squared_logarithmic_error: 0.6041 - val_loss: 11612.9873 - val_mean_squared_error: 11612.9873 - val_mean_squared_logarithmic_error: 0.8418- mean_squared_error: 3274.0452 - mean_squared_logarithmic_erro - ETA: 2s - loss: 3241.7666 - mean_squared_error: 3241.7666 - mean_squared_logarithmic_error - ETA: 2s - loss: 3209.2383 - mean_squared_error: 3209\n",
      "Epoch 364/500\n",
      "12250/12250 [==============================] - 13s 1ms/step - loss: 3195.9978 - mean_squared_error: 3195.9978 - mean_squared_logarithmic_error: 0.6161 - val_loss: 11073.9844 - val_mean_squared_error: 11073.9844 - val_mean_squared_logarithmic_error: 0.8237mic_error\n",
      "Epoch 365/500\n",
      "12250/12250 [==============================] - 13s 1ms/step - loss: 3219.3708 - mean_squared_error: 3219.3708 - mean_squared_logarithmic_error: 0.6064 - val_loss: 10837.7705 - val_mean_squared_error: 10837.7705 - val_mean_squared_logarithmic_error: 0.8103\n",
      "Epoch 366/500\n",
      "12250/12250 [==============================] - 13s 1ms/step - loss: 3134.2812 - mean_squared_error: 3134.2812 - mean_squared_logarithmic_error: 0.6060 - val_loss: 11586.9043 - val_mean_squared_error: 11586.9043 - val_mean_squared_logarithmic_error: 0.8456\n",
      "Epoch 367/500\n",
      "12250/12250 [==============================] - 13s 1ms/step - loss: 3282.8582 - mean_squared_error: 3282.8582 - mean_squared_logarithmic_error: 0.6098 - val_loss: 10642.6387 - val_mean_squared_error: 10642.6387 - val_mean_squared_logarithmic_error: 0.8122\n",
      "Epoch 368/500\n",
      "12250/12250 [==============================] - 13s 1ms/step - loss: 3212.3665 - mean_squared_error: 3212.3665 - mean_squared_logarithmic_error: 0.6044 - val_loss: 10699.9473 - val_mean_squared_error: 10699.9473 - val_mean_squared_logarithmic_error: 0.80999.8491 - mean_squared_error: 3219.8491 - mean_squared_logarithmic_error: 0.60\n",
      "Epoch 369/500\n",
      "12250/12250 [==============================] - 13s 1ms/step - loss: 3242.8672 - mean_squared_error: 3242.8672 - mean_squared_logarithmic_error: 0.6154 - val_loss: 11001.3750 - val_mean_squared_error: 11001.3750 - val_mean_squared_logarithmic_error: 0.8150\n",
      "Epoch 370/500\n",
      "12250/12250 [==============================] - 13s 1ms/step - loss: 3121.4028 - mean_squared_error: 3121.4028 - mean_squared_logarithmic_error: 0.6176 - val_loss: 10792.3496 - val_mean_squared_error: 10792.3496 - val_mean_squared_logarithmic_error: 0.831706.7354 - mean_squared_error: 3206.7354 - mean_squared_logarithmic_error: 0.6 - ETA: 6s - loss: 3225.8015 - mean_squared_error - ETA: 3s - loss: 3195.9\n",
      "Epoch 371/500\n",
      "12250/12250 [==============================] - 13s 1ms/step - loss: 3150.4600 - mean_squared_error: 3150.4600 - mean_squared_logarithmic_error: 0.6037 - val_loss: 11647.0859 - val_mean_squared_error: 11647.0859 - val_mean_squared_logarithmic_error: 0.8362\n",
      "Epoch 372/500\n"
     ]
    },
    {
     "name": "stdout",
     "output_type": "stream",
     "text": [
      "12250/12250 [==============================] - 13s 1ms/step - loss: 3122.4395 - mean_squared_error: 3122.4395 - mean_squared_logarithmic_error: 0.6107 - val_loss: 11167.1416 - val_mean_squared_error: 11167.1416 - val_mean_squared_logarithmic_error: 0.9354\n",
      "Epoch 373/500\n",
      "12250/12250 [==============================] - 13s 1ms/step - loss: 3241.4861 - mean_squared_error: 3241.4861 - mean_squared_logarithmic_error: 0.6100 - val_loss: 11631.6738 - val_mean_squared_error: 11631.6738 - val_mean_squared_logarithmic_error: 0.8501\n",
      "Epoch 374/500\n",
      "12250/12250 [==============================] - 13s 1ms/step - loss: 3112.1655 - mean_squared_error: 3112.1655 - mean_squared_logarithmic_error: 0.6082 - val_loss: 10980.9375 - val_mean_squared_error: 10980.9375 - val_mean_squared_logarithmic_error: 0.8072\n",
      "Epoch 375/500\n",
      "12250/12250 [==============================] - 13s 1ms/step - loss: 3192.4622 - mean_squared_error: 3192.4622 - mean_squared_logarithmic_error: 0.6140 - val_loss: 11587.0879 - val_mean_squared_error: 11587.0879 - val_mean_squared_logarithmic_error: 0.8681\n",
      "Epoch 376/500\n",
      "12250/12250 [==============================] - 13s 1ms/step - loss: 3192.7820 - mean_squared_error: 3192.7820 - mean_squared_logarithmic_error: 0.6080 - val_loss: 10248.7314 - val_mean_squared_error: 10248.7314 - val_mean_squared_logarithmic_error: 0.8839\n",
      "Epoch 377/500\n",
      "12250/12250 [==============================] - 13s 1ms/step - loss: 3112.3350 - mean_squared_error: 3112.3350 - mean_squared_logarithmic_error: 0.6028 - val_loss: 10668.6611 - val_mean_squared_error: 10668.6611 - val_mean_squared_logarithmic_error: 0.8033\n",
      "Epoch 378/500\n",
      "12250/12250 [==============================] - 13s 1ms/step - loss: 3152.2603 - mean_squared_error: 3152.2603 - mean_squared_logarithmic_error: 0.6109 - val_loss: 10668.1338 - val_mean_squared_error: 10668.1338 - val_mean_squared_logarithmic_error: 0.7976\n",
      "Epoch 379/500\n",
      "12250/12250 [==============================] - 13s 1ms/step - loss: 3169.7068 - mean_squared_error: 3169.7068 - mean_squared_logarithmic_error: 0.6080 - val_loss: 10996.8857 - val_mean_squared_error: 10996.8857 - val_mean_squared_logarithmic_error: 0.8442\n",
      "Epoch 380/500\n",
      "12250/12250 [==============================] - 13s 1ms/step - loss: 3147.0005 - mean_squared_error: 3147.0005 - mean_squared_logarithmic_error: 0.6018 - val_loss: 10565.6641 - val_mean_squared_error: 10565.6641 - val_mean_squared_logarithmic_error: 0.8286\n",
      "Epoch 381/500\n",
      "12250/12250 [==============================] - 13s 1ms/step - loss: 3115.6951 - mean_squared_error: 3115.6951 - mean_squared_logarithmic_error: 0.6074 - val_loss: 10992.0479 - val_mean_squared_error: 10992.0479 - val_mean_squared_logarithmic_error: 0.8747\n",
      "Epoch 382/500\n",
      "12250/12250 [==============================] - 13s 1ms/step - loss: 3195.4636 - mean_squared_error: 3195.4636 - mean_squared_logarithmic_error: 0.6038 - val_loss: 10570.5020 - val_mean_squared_error: 10570.5020 - val_mean_squared_logarithmic_error: 0.8168\n",
      "Epoch 383/500\n",
      "12250/12250 [==============================] - 13s 1ms/step - loss: 3101.4202 - mean_squared_error: 3101.4202 - mean_squared_logarithmic_error: 0.6031 - val_loss: 10384.4043 - val_mean_squared_error: 10384.4043 - val_mean_squared_logarithmic_error: 0.8223\n",
      "Epoch 384/500\n",
      "12250/12250 [==============================] - 13s 1ms/step - loss: 3134.8657 - mean_squared_error: 3134.8657 - mean_squared_logarithmic_error: 0.6066 - val_loss: 11209.0215 - val_mean_squared_error: 11209.0215 - val_mean_squared_logarithmic_error: 0.8630\n",
      "Epoch 385/500\n",
      "12250/12250 [==============================] - 13s 1ms/step - loss: 3086.6667 - mean_squared_error: 3086.6667 - mean_squared_logarithmic_error: 0.5992 - val_loss: 11138.4854 - val_mean_squared_error: 11138.4854 - val_mean_squared_logarithmic_error: 0.8269\n",
      "Epoch 386/500\n",
      "12250/12250 [==============================] - 13s 1ms/step - loss: 3174.6499 - mean_squared_error: 3174.6499 - mean_squared_logarithmic_error: 0.6065 - val_loss: 11127.5020 - val_mean_squared_error: 11127.5020 - val_mean_squared_logarithmic_error: 0.8316\n",
      "Epoch 387/500\n",
      "12250/12250 [==============================] - 13s 1ms/step - loss: 3173.9709 - mean_squared_error: 3173.9709 - mean_squared_logarithmic_error: 0.6030 - val_loss: 10405.7959 - val_mean_squared_error: 10405.7959 - val_mean_squared_logarithmic_error: 0.8112\n",
      "Epoch 388/500\n",
      "12250/12250 [==============================] - 13s 1ms/step - loss: 3103.2095 - mean_squared_error: 3103.2095 - mean_squared_logarithmic_error: 0.6090 - val_loss: 11397.9561 - val_mean_squared_error: 11397.9561 - val_mean_squared_logarithmic_error: 0.8771\n",
      "Epoch 389/500\n",
      "12250/12250 [==============================] - 13s 1ms/step - loss: 3094.9434 - mean_squared_error: 3094.9434 - mean_squared_logarithmic_error: 0.6087 - val_loss: 11489.0996 - val_mean_squared_error: 11489.0996 - val_mean_squared_logarithmic_error: 0.8175- ET\n",
      "Epoch 390/500\n",
      "12250/12250 [==============================] - 13s 1ms/step - loss: 3078.8401 - mean_squared_error: 3078.8401 - mean_squared_logarithmic_error: 0.6006 - val_loss: 10979.9678 - val_mean_squared_error: 10979.9678 - val_mean_squared_logarithmic_error: 0.8042\n",
      "Epoch 391/500\n",
      "12250/12250 [==============================] - 13s 1ms/step - loss: 3126.5415 - mean_squared_error: 3126.5415 - mean_squared_logarithmic_error: 0.6040 - val_loss: 10830.1641 - val_mean_squared_error: 10830.1641 - val_mean_squared_logarithmic_error: 0.8136\n",
      "Epoch 392/500\n",
      "12250/12250 [==============================] - 13s 1ms/step - loss: 3039.7791 - mean_squared_error: 3039.7791 - mean_squared_logarithmic_error: 0.5925 - val_loss: 10905.8994 - val_mean_squared_error: 10905.8994 - val_mean_squared_logarithmic_error: 0.8542\n",
      "Epoch 393/500\n",
      "12250/12250 [==============================] - 13s 1ms/step - loss: 3043.9929 - mean_squared_error: 3043.9929 - mean_squared_logarithmic_error: 0.6000 - val_loss: 10401.8701 - val_mean_squared_error: 10401.8701 - val_mean_squared_logarithmic_error: 0.7843\n",
      "Epoch 394/500\n",
      "12250/12250 [==============================] - 14s 1ms/step - loss: 3070.4231 - mean_squared_error: 3070.4231 - mean_squared_logarithmic_error: 0.6003 - val_loss: 10845.2217 - val_mean_squared_error: 10845.2217 - val_mean_squared_logarithmic_error: 0.83164 -  - ETA: 5s - loss: 3154.3000 - mean_squared_error: 3154.3000 - mean_squared_logarithmic_err - ETA: 4s - loss: 3 - ETA: 0s - loss: 3099.1189 - mean_squared_error: 3099.1189 - mean_squared_logarithmic_erro - ETA: 0s - loss: 3090.0974 - mean_squared_error: 3090.0974 - mean_squared_logarithmic_error: \n",
      "Epoch 395/500\n",
      "12250/12250 [==============================] - 12s 994us/step - loss: 3073.5068 - mean_squared_error: 3073.5068 - mean_squared_logarithmic_error: 0.6095 - val_loss: 11416.4639 - val_mean_squared_error: 11416.4639 - val_mean_squared_logarithmic_error: 0.8108squared_error: 3074.8389\n",
      "Epoch 396/500\n",
      "12250/12250 [==============================] - 14s 1ms/step - loss: 3078.7246 - mean_squared_error: 3078.7246 - mean_squared_logarithmic_error: 0.6064 - val_loss: 10931.7754 - val_mean_squared_error: 10931.7754 - val_mean_squared_logarithmic_error: 0.8391\n",
      "Epoch 397/500\n",
      "12250/12250 [==============================] - 13s 1ms/step - loss: 3007.5676 - mean_squared_error: 3007.5676 - mean_squared_logarithmic_error: 0.6053 - val_loss: 11579.7227 - val_mean_squared_error: 11579.7227 - val_mean_squared_logarithmic_error: 0.8491\n",
      "Epoch 398/500\n",
      "12250/12250 [==============================] - 13s 1ms/step - loss: 3073.8606 - mean_squared_error: 3073.8606 - mean_squared_logarithmic_error: 0.6087 - val_loss: 11482.0381 - val_mean_squared_error: 11482.0381 - val_mean_squared_logarithmic_error: 0.8629\n",
      "Epoch 399/500\n",
      "12250/12250 [==============================] - 12s 1ms/step - loss: 3012.9934 - mean_squared_error: 3012.9934 - mean_squared_logarithmic_error: 0.6059 - val_loss: 10836.0752 - val_mean_squared_error: 10836.0752 - val_mean_squared_logarithmic_error: 0.7971s: 3025.0393 - mean_squared_error: 3025.0393 - mean_ - ETA: 1s - loss: 2949.2490 - mean_squared_error: 2949.2490 \n",
      "Epoch 400/500\n",
      "12250/12250 [==============================] - 12s 1ms/step - loss: 2993.4814 - mean_squared_error: 2993.4814 - mean_squared_logarithmic_error: 0.5961 - val_loss: 10762.6553 - val_mean_squared_error: 10762.6553 - val_mean_squared_logarithmic_error: 0.8445\n",
      "Epoch 401/500\n",
      "12250/12250 [==============================] - 13s 1ms/step - loss: 3054.5242 - mean_squared_error: 3054.5242 - mean_squared_logarithmic_error: 0.6010 - val_loss: 10916.4268 - val_mean_squared_error: 10916.4268 - val_mean_squared_logarithmic_error: 0.9418\n",
      "Epoch 402/500\n",
      "12250/12250 [==============================] - 14s 1ms/step - loss: 3000.6685 - mean_squared_error: 3000.6685 - mean_squared_logarithmic_error: 0.6089 - val_loss: 10939.5645 - val_mean_squared_error: 10939.5645 - val_mean_squared_logarithmic_error: 0.8652\n",
      "Epoch 403/500\n",
      "12250/12250 [==============================] - 13s 1ms/step - loss: 2986.5286 - mean_squared_error: 2986.5286 - mean_squared_logarithmic_error: 0.6010 - val_loss: 10860.9346 - val_mean_squared_error: 10860.9346 - val_mean_squared_logarithmic_error: 0.8234.5640 - mean_squared_error: 2886.5640 - mean_squared_logarithmic_error: 0.6 - ETA: 5s - ETA: 1s - loss: 2988.9265 - mean_squared_error: 2988.9265 - mean_squared_\n",
      "Epoch 404/500\n",
      "12250/12250 [==============================] - 13s 1ms/step - loss: 3114.3965 - mean_squared_error: 3114.3965 - mean_squared_logarithmic_error: 0.6110 - val_loss: 11054.6426 - val_mean_squared_error: 11054.6426 - val_mean_squared_logarithmic_error: 0.8481\n",
      "Epoch 405/500\n",
      "12250/12250 [==============================] - 13s 1ms/step - loss: 3008.9907 - mean_squared_error: 3008.9907 - mean_squared_logarithmic_error: 0.6042 - val_loss: 11032.3623 - val_mean_squared_error: 11032.3623 - val_mean_squared_logarithmic_error: 0.9049\n",
      "Epoch 406/500\n",
      "12250/12250 [==============================] - 13s 1ms/step - loss: 3058.9404 - mean_squared_error: 3058.9404 - mean_squared_logarithmic_error: 0.6058 - val_loss: 11356.0820 - val_mean_squared_error: 11356.0820 - val_mean_squared_logarithmic_error: 0.85179.5608 - mean_squared_logarithmic_error:\n",
      "Epoch 407/500\n",
      "12250/12250 [==============================] - 13s 1ms/step - loss: 3038.1033 - mean_squared_error: 3038.1033 - mean_squared_logarithmic_error: 0.6046 - val_loss: 10736.8486 - val_mean_squared_error: 10736.8486 - val_mean_squared_logarithmic_error: 0.8487\n",
      "Epoch 408/500\n",
      "12250/12250 [==============================] - 13s 1ms/step - loss: 3007.6062 - mean_squared_error: 3007.6062 - mean_squared_logarithmic_error: 0.5954 - val_loss: 11588.5322 - val_mean_squared_error: 11588.5322 - val_mean_squared_logarithmic_error: 0.8507\n",
      "Epoch 409/500\n",
      "12250/12250 [==============================] - 12s 1ms/step - loss: 3118.3176 - mean_squared_error: 3118.3176 - mean_squared_logarithmic_error: 0.6052 - val_loss: 10834.9443 - val_mean_squared_error: 10834.9443 - val_mean_squared_logarithmic_error: 0.8480\n",
      "Epoch 410/500\n",
      "12250/12250 [==============================] - 14s 1ms/step - loss: 2970.5642 - mean_squared_error: 2970.5642 - mean_squared_logarithmic_error: 0.6032 - val_loss: 11710.2979 - val_mean_squared_error: 11710.2979 - val_mean_squared_logarithmic_error: 0.8610\n",
      "Epoch 411/500\n",
      "12250/12250 [==============================] - 13s 1ms/step - loss: 3050.8474 - mean_squared_error: 3050.8474 - mean_squared_logarithmic_error: 0.6083 - val_loss: 10697.8848 - val_mean_squared_error: 10697.8848 - val_mean_squared_logarithmic_error: 0.8256\n",
      "Epoch 412/500\n",
      "12250/12250 [==============================] - 12s 977us/step - loss: 3015.6748 - mean_squared_error: 3015.6748 - mean_squared_logarithmic_error: 0.6084 - val_loss: 12142.2080 - val_mean_squared_error: 12142.2080 - val_mean_squared_logarithmic_error: 0.8664\n",
      "Epoch 413/500\n",
      "12250/12250 [==============================] - 13s 1ms/step - loss: 2955.8042 - mean_squared_error: 2955.8042 - mean_squared_logarithmic_error: 0.6029 - val_loss: 10966.3730 - val_mean_squared_error: 10966.3730 - val_mean_squared_logarithmic_error: 0.8186\n",
      "Epoch 414/500\n",
      "12250/12250 [==============================] - 13s 1ms/step - loss: 2994.3960 - mean_squared_error: 2994.3960 - mean_squared_logarithmic_error: 0.6059 - val_loss: 11306.8760 - val_mean_squared_error: 11306.8760 - val_mean_squared_logarithmic_error: 0.8680\n",
      "Epoch 415/500\n",
      "12250/12250 [==============================] - 12s 983us/step - loss: 2994.2476 - mean_squared_error: 2994.2476 - mean_squared_logarithmic_error: 0.6064 - val_loss: 10954.1553 - val_mean_squared_error: 10954.1553 - val_mean_squared_logarithmic_error: 0.8527\n",
      "Epoch 416/500\n",
      "12250/12250 [==============================] - 14s 1ms/step - loss: 2974.0444 - mean_squared_error: 2974.0444 - mean_squared_logarithmic_error: 0.5992 - val_loss: 10400.0615 - val_mean_squared_error: 10400.0615 - val_mean_squared_logarithmic_error: 0.8282\n",
      "Epoch 417/500\n",
      "12250/12250 [==============================] - 13s 1ms/step - loss: 2942.5950 - mean_squared_error: 2942.5950 - mean_squared_logarithmic_error: 0.6006 - val_loss: 10556.4521 - val_mean_squared_error: 10556.4521 - val_mean_squared_logarithmic_error: 0.8867\n",
      "Epoch 418/500\n",
      "12250/12250 [==============================] - 13s 1ms/step - loss: 2988.2603 - mean_squared_error: 2988.2603 - mean_squared_logarithmic_error: 0.5993 - val_loss: 12552.9043 - val_mean_squared_error: 12552.9043 - val_mean_squared_logarithmic_error: 0.8353\n",
      "Epoch 419/500\n",
      "12250/12250 [==============================] - 13s 1ms/step - loss: 2981.2778 - mean_squared_error: 2981.2778 - mean_squared_logarithmic_error: 0.6080 - val_loss: 11459.2061 - val_mean_squared_error: 11459.2061 - val_mean_squared_logarithmic_error: 0.8530\n",
      "Epoch 420/500\n",
      "12250/12250 [==============================] - 13s 1ms/step - loss: 2987.1938 - mean_squared_error: 2987.1938 - mean_squared_logarithmic_error: 0.6050 - val_loss: 11235.3066 - val_mean_squared_error: 11235.3066 - val_mean_squared_logarithmic_error: 0.8842\n",
      "Epoch 421/500\n",
      "12250/12250 [==============================] - 13s 1ms/step - loss: 2969.3811 - mean_squared_error: 2969.3811 - mean_squared_logarithmic_error: 0.5983 - val_loss: 11549.4395 - val_mean_squared_error: 11549.4395 - val_mean_squared_logarithmic_error: 0.9470\n",
      "Epoch 422/500\n",
      "12250/12250 [==============================] - 13s 1ms/step - loss: 2932.8992 - mean_squared_error: 2932.8992 - mean_squared_logarithmic_error: 0.6077 - val_loss: 10889.7363 - val_mean_squared_error: 10889.7363 - val_mean_squared_logarithmic_error: 0.8833\n",
      "Epoch 423/500\n",
      "12250/12250 [==============================] - 12s 1ms/step - loss: 2970.1492 - mean_squared_error: 2970.1492 - mean_squared_logarithmic_error: 0.6042 - val_loss: 10990.6084 - val_mean_squared_error: 10990.6084 - val_mean_squared_logarithmic_error: 0.8370\n",
      "Epoch 424/500\n",
      "12250/12250 [==============================] - 12s 1ms/step - loss: 2965.1145 - mean_squared_error: 2965.1145 - mean_squared_logarithmic_error: 0.5946 - val_loss: 11304.3066 - val_mean_squared_error: 11304.3066 - val_mean_squared_logarithmic_error: 0.8671\n",
      "Epoch 425/500\n",
      "12250/12250 [==============================] - 13s 1ms/step - loss: 2962.1821 - mean_squared_error: 2962.1821 - mean_squared_logarithmic_error: 0.6076 - val_loss: 10998.6250 - val_mean_squared_error: 10998.6250 - val_mean_squared_logarithmic_error: 0.8987\n",
      "Epoch 426/500\n",
      "12250/12250 [==============================] - 13s 1ms/step - loss: 2979.6587 - mean_squared_error: 2979.6587 - mean_squared_logarithmic_error: 0.6026 - val_loss: 11099.1768 - val_mean_squared_error: 11099.1768 - val_mean_squared_logarithmic_error: 0.8503\n",
      "Epoch 427/500\n",
      "12250/12250 [==============================] - 13s 1ms/step - loss: 2919.4009 - mean_squared_error: 2919.4009 - mean_squared_logarithmic_error: 0.5986 - val_loss: 10664.7188 - val_mean_squared_error: 10664.7188 - val_mean_squared_logarithmic_error: 0.834821.0935 - mean_squared_logar - ETA: 2s - loss: 2907.4448 - mean_squared_error\n",
      "Epoch 428/500\n",
      "12250/12250 [==============================] - 13s 1ms/step - loss: 2957.3091 - mean_squared_error: 2957.3091 - mean_squared_logarithmic_error: 0.6022 - val_loss: 11715.0664 - val_mean_squared_error: 11715.0664 - val_mean_squared_logarithmic_error: 0.8153\n",
      "Epoch 429/500\n"
     ]
    },
    {
     "name": "stdout",
     "output_type": "stream",
     "text": [
      "12250/12250 [==============================] - 13s 1ms/step - loss: 2962.2456 - mean_squared_error: 2962.2456 - mean_squared_logarithmic_error: 0.6045 - val_loss: 10428.5625 - val_mean_squared_error: 10428.5625 - val_mean_squared_logarithmic_error: 0.8578\n",
      "Epoch 430/500\n",
      "12250/12250 [==============================] - 13s 1ms/step - loss: 3018.9924 - mean_squared_error: 3018.9924 - mean_squared_logarithmic_error: 0.6024 - val_loss: 11428.7354 - val_mean_squared_error: 11428.7354 - val_mean_squared_logarithmic_error: 0.8469\n",
      "Epoch 431/500\n",
      "12250/12250 [==============================] - 13s 1ms/step - loss: 2970.7046 - mean_squared_error: 2970.7046 - mean_squared_logarithmic_error: 0.6094 - val_loss: 10618.5947 - val_mean_squared_error: 10618.5947 - val_mean_squared_logarithmic_error: 0.8472or: 2554.2673 - mean_squa - ETA: 5s - loss: 2691.3206 - mean_squared_error: 2691.3206 - mean_ - ETA: 4s - loss: 3\n",
      "Epoch 432/500\n",
      "12250/12250 [==============================] - 13s 1ms/step - loss: 2964.3376 - mean_squared_error: 2964.3376 - mean_squared_logarithmic_error: 0.6014 - val_loss: 10089.8320 - val_mean_squared_error: 10089.8320 - val_mean_squared_logarithmic_error: 0.8283\n",
      "Epoch 433/500\n",
      "12250/12250 [==============================] - 14s 1ms/step - loss: 2934.7546 - mean_squared_error: 2934.7546 - mean_squared_logarithmic_error: 0.6080 - val_loss: 11123.3975 - val_mean_squared_error: 11123.3975 - val_mean_squared_logarithmic_error: 0.85469.375 - ETA: 5s - loss: 3171.3118 - mean_squared_error: 3171.3118  - ETA: 3s - loss: 3026.6172 - me\n",
      "Epoch 434/500\n",
      "12250/12250 [==============================] - 13s 1ms/step - loss: 2986.9185 - mean_squared_error: 2986.9185 - mean_squared_logarithmic_error: 0.6146 - val_loss: 11078.5010 - val_mean_squared_error: 11078.5010 - val_mean_squared_logarithmic_error: 0.8635\n",
      "Epoch 435/500\n",
      "12250/12250 [==============================] - 13s 1ms/step - loss: 2942.9795 - mean_squared_error: 2942.9795 - mean_squared_logarithmic_error: 0.6042 - val_loss: 11399.1611 - val_mean_squared_error: 11399.1611 - val_mean_squared_logarithmic_error: 0.8775\n",
      "Epoch 436/500\n",
      "12250/12250 [==============================] - 13s 1ms/step - loss: 3039.5828 - mean_squared_error: 3039.5828 - mean_squared_logarithmic_error: 0.6053 - val_loss: 11296.2441 - val_mean_squared_error: 11296.2441 - val_mean_squared_logarithmic_error: 0.8372\n",
      "Epoch 437/500\n",
      "12250/12250 [==============================] - 13s 1ms/step - loss: 2975.6006 - mean_squared_error: 2975.6006 - mean_squared_logarithmic_error: 0.6031 - val_loss: 11127.0928 - val_mean_squared_error: 11127.0928 - val_mean_squared_logarithmic_error: 0.9015n_squared_error: 3007.2273 - mean_s - ETA: 2s - loss: 2976.9153 - mean_squared_\n",
      "Epoch 438/500\n",
      "12250/12250 [==============================] - 13s 1ms/step - loss: 2937.9158 - mean_squared_error: 2937.9158 - mean_squared_logarithmic_error: 0.6094 - val_loss: 11594.2617 - val_mean_squared_error: 11594.2617 - val_mean_squared_logarithmic_error: 0.8607\n",
      "Epoch 439/500\n",
      "12250/12250 [==============================] - 13s 1ms/step - loss: 3011.4104 - mean_squared_error: 3011.4104 - mean_squared_logarithmic_error: 0.5990 - val_loss: 10574.0312 - val_mean_squared_error: 10574.0312 - val_mean_squared_logarithmic_error: 0.8334garithmic_error: 0\n",
      "Epoch 440/500\n",
      "12250/12250 [==============================] - 13s 1ms/step - loss: 2977.5681 - mean_squared_error: 2977.5681 - mean_squared_logarithmic_error: 0.6134 - val_loss: 10870.2246 - val_mean_squared_error: 10870.2246 - val_mean_squared_logarithmic_error: 0.8672\n",
      "Epoch 441/500\n",
      "12250/12250 [==============================] - 13s 1ms/step - loss: 2898.7690 - mean_squared_error: 2898.7690 - mean_squared_logarithmic_error: 0.6090 - val_loss: 10271.6182 - val_mean_squared_error: 10271.6182 - val_mean_squared_logarithmic_error: 0.8422\n",
      "Epoch 442/500\n",
      "12250/12250 [==============================] - 13s 1ms/step - loss: 2915.9846 - mean_squared_error: 2915.9846 - mean_squared_logarithmic_error: 0.6072 - val_loss: 10810.2549 - val_mean_squared_error: 10810.2549 - val_mean_squared_logarithmic_error: 0.83431 - mean_squared_ - ETA: 1s - loss: 2845.3123 - mean_squared_error: 2845.3123 - mean_squared_\n",
      "Epoch 443/500\n",
      "12250/12250 [==============================] - 13s 1ms/step - loss: 2963.1255 - mean_squared_error: 2963.1255 - mean_squared_logarithmic_error: 0.6018 - val_loss: 10922.8994 - val_mean_squared_error: 10922.8994 - val_mean_squared_logarithmic_error: 0.8520\n",
      "Epoch 444/500\n",
      "12250/12250 [==============================] - 13s 1ms/step - loss: 2920.9253 - mean_squared_error: 2920.9253 - mean_squared_logarithmic_error: 0.6005 - val_loss: 10481.8506 - val_mean_squared_error: 10481.8506 - val_mean_squared_logarithmic_error: 0.858571 - mean_squared_logarithmic_error: 0.\n",
      "Epoch 445/500\n",
      "12250/12250 [==============================] - 12s 969us/step - loss: 2914.6533 - mean_squared_error: 2914.6533 - mean_squared_logarithmic_error: 0.6034 - val_loss: 10646.1035 - val_mean_squared_error: 10646.1035 - val_mean_squared_logarithmic_error: 0.8290\n",
      "Epoch 446/500\n",
      "12250/12250 [==============================] - 13s 1ms/step - loss: 2934.9441 - mean_squared_error: 2934.9441 - mean_squared_logarithmic_error: 0.6026 - val_loss: 12422.7939 - val_mean_squared_error: 12422.7939 - val_mean_squared_logarithmic_error: 0.8608\n",
      "Epoch 447/500\n",
      "12250/12250 [==============================] - 13s 1ms/step - loss: 2926.0884 - mean_squared_error: 2926.0884 - mean_squared_logarithmic_error: 0.6049 - val_loss: 10725.5146 - val_mean_squared_error: 10725.5146 - val_mean_squared_logarithmic_error: 0.8582\n",
      "Epoch 448/500\n",
      "12250/12250 [==============================] - 14s 1ms/step - loss: 2911.6553 - mean_squared_error: 2911.6553 - mean_squared_logarithmic_error: 0.6088 - val_loss: 11451.2695 - val_mean_squared_error: 11451.2695 - val_mean_squared_logarithmic_error: 0.8535\n",
      "Epoch 449/500\n",
      "12250/12250 [==============================] - 14s 1ms/step - loss: 2880.8628 - mean_squared_error: 2880.8628 - mean_squared_logarithmic_error: 0.6074 - val_loss: 11137.8281 - val_mean_squared_error: 11137.8281 - val_mean_squared_logarithmic_error: 0.8733\n",
      "Epoch 450/500\n",
      "12250/12250 [==============================] - 14s 1ms/step - loss: 2891.4585 - mean_squared_error: 2891.4585 - mean_squared_logarithmic_error: 0.6180 - val_loss: 11158.1465 - val_mean_squared_error: 11158.1465 - val_mean_squared_logarithmic_error: 0.8349\n",
      "Epoch 451/500\n",
      "12250/12250 [==============================] - 13s 1ms/step - loss: 2907.8918 - mean_squared_error: 2907.8918 - mean_squared_logarithmic_error: 0.6054 - val_loss: 11692.2412 - val_mean_squared_error: 11692.2412 - val_mean_squared_logarithmic_error: 0.8412\n",
      "Epoch 452/500\n",
      "12250/12250 [==============================] - 14s 1ms/step - loss: 2926.2998 - mean_squared_error: 2926.2998 - mean_squared_logarithmic_error: 0.6053 - val_loss: 11316.2861 - val_mean_squared_error: 11316.2861 - val_mean_squared_logarithmic_error: 0.8121944.5706 - mean_s\n",
      "Epoch 453/500\n",
      "12250/12250 [==============================] - 12s 970us/step - loss: 2854.9126 - mean_squared_error: 2854.9126 - mean_squared_logarithmic_error: 0.6053 - val_loss: 10707.1006 - val_mean_squared_error: 10707.1006 - val_mean_squared_logarithmic_error: 0.8340\n",
      "Epoch 454/500\n",
      "12250/12250 [==============================] - 13s 1ms/step - loss: 2945.6448 - mean_squared_error: 2945.6448 - mean_squared_logarithmic_error: 0.6110 - val_loss: 11348.2861 - val_mean_squared_error: 11348.2861 - val_mean_squared_logarithmic_error: 0.8026\n",
      "Epoch 455/500\n",
      "12250/12250 [==============================] - 13s 1ms/step - loss: 2883.7991 - mean_squared_error: 2883.7991 - mean_squared_logarithmic_error: 0.6052 - val_loss: 11703.7314 - val_mean_squared_error: 11703.7314 - val_mean_squared_logarithmic_error: 0.8660\n",
      "Epoch 456/500\n",
      "12250/12250 [==============================] - 13s 1ms/step - loss: 2934.0186 - mean_squared_error: 2934.0186 - mean_squared_logarithmic_error: 0.6107 - val_loss: 10618.3652 - val_mean_squared_error: 10618.3652 - val_mean_squared_logarithmic_error: 0.8719\n",
      "Epoch 457/500\n",
      "12250/12250 [==============================] - 13s 1ms/step - loss: 2895.6094 - mean_squared_error: 2895.6094 - mean_squared_logarithmic_error: 0.6054 - val_loss: 11744.1973 - val_mean_squared_error: 11744.1973 - val_mean_squared_logarithmic_error: 0.8640ed_error: 2894.1443 - mean_squared_ - ETA: 0s - loss: 2909.8569 - mean_squared_error: 2909.8569 - mean_squared_logarithmic_error\n",
      "Epoch 458/500\n",
      "12250/12250 [==============================] - 13s 1ms/step - loss: 2925.2324 - mean_squared_error: 2925.2324 - mean_squared_logarithmic_error: 0.5973 - val_loss: 11065.1729 - val_mean_squared_error: 11065.1729 - val_mean_squared_logarithmic_error: 0.8399\n",
      "Epoch 459/500\n",
      "12250/12250 [==============================] - 12s 989us/step - loss: 2938.7493 - mean_squared_error: 2938.7493 - mean_squared_logarithmic_error: 0.6048 - val_loss: 10749.2090 - val_mean_squared_error: 10749.2090 - val_mean_squared_logarithmic_error: 0.8533\n",
      "Epoch 460/500\n",
      "12250/12250 [==============================] - 13s 1ms/step - loss: 2839.7715 - mean_squared_error: 2839.7715 - mean_squared_logarithmic_error: 0.6104 - val_loss: 11190.4863 - val_mean_squared_error: 11190.4863 - val_mean_squared_logarithmic_error: 0.8187\n",
      "Epoch 461/500\n",
      "12250/12250 [==============================] - 14s 1ms/step - loss: 2949.5850 - mean_squared_error: 2949.5850 - mean_squared_logarithmic_error: 0.6075 - val_loss: 11473.2314 - val_mean_squared_error: 11473.2314 - val_mean_squared_logarithmic_error: 0.8974\n",
      "Epoch 462/500\n",
      "12250/12250 [==============================] - 13s 1ms/step - loss: 2890.0244 - mean_squared_error: 2890.0244 - mean_squared_logarithmic_error: 0.6012 - val_loss: 10304.7090 - val_mean_squared_error: 10304.7090 - val_mean_squared_logarithmic_error: 0.8337or: 2710\n",
      "Epoch 463/500\n",
      "12250/12250 [==============================] - 14s 1ms/step - loss: 2894.9648 - mean_squared_error: 2894.9648 - mean_squared_logarithmic_error: 0.6057 - val_loss: 10580.3311 - val_mean_squared_error: 10580.3311 - val_mean_squared_logarithmic_error: 0.9437\n",
      "Epoch 464/500\n",
      "12250/12250 [==============================] - 13s 1ms/step - loss: 2824.5305 - mean_squared_error: 2824.5305 - mean_squared_logarithmic_error: 0.6098 - val_loss: 11793.7812 - val_mean_squared_error: 11793.7812 - val_mean_squared_logarithmic_error: 0.8378ed_error: 2844.0925 - mean_squared_logarithmic_error - ETA: 7s - loss: 2840.1194 - mean_squared_error: 284 - ETA: 4s - loss: 2858.8335 - mean_squared_error: 2858.8335 - mean_squared_logarithmic_error: - ETA: 4s - loss: 2941.3696 - mean_squared_error: 2941.3696 - me - ETA: 2s - loss: 2844.5388 - mean_squared_error: 2844.5388 - mean_squared_logarithm - ETA: 1s - loss: 2831.2673 - mean_squared_error: 2831.2673 - \n",
      "Epoch 465/500\n",
      "12250/12250 [==============================] - 13s 1ms/step - loss: 2924.6997 - mean_squared_error: 2924.6997 - mean_squared_logarithmic_error: 0.6021 - val_loss: 10919.5439 - val_mean_squared_error: 10919.5439 - val_mean_squared_logarithmic_error: 0.8568loss: 2998.0254 - mean_squared_error: 2998.0254 - mean_square - ETA: 2s - loss: 3019.0588 - mean_squared_error: 3019.\n",
      "Epoch 466/500\n",
      "12250/12250 [==============================] - 13s 1ms/step - loss: 2878.1382 - mean_squared_error: 2878.1382 - mean_squared_logarithmic_error: 0.6072 - val_loss: 11728.5283 - val_mean_squared_error: 11728.5283 - val_mean_squared_logarithmic_error: 0.9008\n",
      "Epoch 467/500\n",
      "12250/12250 [==============================] - 13s 1ms/step - loss: 2821.5684 - mean_squared_error: 2821.5684 - mean_squared_logarithmic_error: 0.6100 - val_loss: 11672.7275 - val_mean_squared_error: 11672.7275 - val_mean_squared_logarithmic_error: 0.8376\n",
      "Epoch 468/500\n",
      "12250/12250 [==============================] - 13s 1ms/step - loss: 2871.3767 - mean_squared_error: 2871.3767 - mean_squared_logarithmic_error: 0.6058 - val_loss: 11589.4932 - val_mean_squared_error: 11589.4932 - val_mean_squared_logarithmic_error: 0.8417\n",
      "Epoch 469/500\n",
      "12250/12250 [==============================] - 13s 1ms/step - loss: 2835.8569 - mean_squared_error: 2835.8569 - mean_squared_logarithmic_error: 0.6122 - val_loss: 10758.6826 - val_mean_squared_error: 10758.6826 - val_mean_squared_logarithmic_error: 0.83866s - loss: 2559.5217 - mean_squared_error: 2559.5217 - me - ETA: 4s - loss: 2596.1914 - mea - ETA: 0s - loss: 2749.6401 - mean_squared_error: 2749.6401 - mean_squared_logarithm - ETA: 0s - loss: 2839.2217 - mean_squared_error: 2839.2217 - mean_squared_logarithmic_error: 0.612\n",
      "Epoch 470/500\n",
      "12250/12250 [==============================] - 13s 1ms/step - loss: 2891.2451 - mean_squared_error: 2891.2451 - mean_squared_logarithmic_error: 0.6068 - val_loss: 11201.1592 - val_mean_squared_error: 11201.1592 - val_mean_squared_logarithmic_error: 0.8626- mean_squared_erro - ETA: 4s - loss: 2\n",
      "Epoch 471/500\n",
      "12250/12250 [==============================] - 13s 1ms/step - loss: 2788.4133 - mean_squared_error: 2788.4133 - mean_squared_logarithmic_error: 0.6021 - val_loss: 11823.6602 - val_mean_squared_error: 11823.6602 - val_mean_squared_logarithmic_error: 0.8553\n",
      "Epoch 472/500\n",
      "12250/12250 [==============================] - 13s 1ms/step - loss: 2900.6694 - mean_squared_error: 2900.6694 - mean_squared_logarithmic_error: 0.6177 - val_loss: 11066.6777 - val_mean_squared_error: 11066.6777 - val_mean_squared_logarithmic_error: 0.8426\n",
      "Epoch 473/500\n",
      "12250/12250 [==============================] - 14s 1ms/step - loss: 2916.7327 - mean_squared_error: 2916.7327 - mean_squared_logarithmic_error: 0.6019 - val_loss: 12528.8105 - val_mean_squared_error: 12528.8105 - val_mean_squared_logarithmic_error: 0.8739 mean_squared_error: 2989.7397 - mean_squared_loga - ETA: 3s - loss: 2999.5593 - mean_squared_error: 2999.5593 - mean_squared_logar - ETA: 2s - loss: 2906.2202 - mean_squared_error: 2906.2202 - mean_squared_logarithmi - ETA: 1s - loss: 2937.4446 - mean_squared_error: 2937.4446 - mea\n",
      "Epoch 474/500\n",
      "12250/12250 [==============================] - 12s 973us/step - loss: 2870.4709 - mean_squared_error: 2870.4709 - mean_squared_logarithmic_error: 0.6023 - val_loss: 11680.3389 - val_mean_squared_error: 11680.3389 - val_mean_squared_logarithmic_error: 0.8633\n",
      "Epoch 475/500\n",
      "12250/12250 [==============================] - 14s 1ms/step - loss: 2843.6868 - mean_squared_error: 2843.6868 - mean_squared_logarithmic_error: 0.6053 - val_loss: 11359.5049 - val_mean_squared_error: 11359.5049 - val_mean_squared_logarithmic_error: 0.83349.1509 - mean_squared_error: 2809.1509 - mean_squa - ETA: 0s - loss: 2859.6980 - mean_squared_error: 2859.6980 - mean_squared_logarithmic_error: 0\n",
      "Epoch 476/500\n",
      "12250/12250 [==============================] - 13s 1ms/step - loss: 2886.8672 - mean_squared_error: 2886.8672 - mean_squared_logarithmic_error: 0.6072 - val_loss: 12194.2275 - val_mean_squared_error: 12194.2275 - val_mean_squared_logarithmic_error: 0.8530\n",
      "Epoch 477/500\n",
      "12250/12250 [==============================] - 13s 1ms/step - loss: 2839.1013 - mean_squared_error: 2839.1013 - mean_squared_logarithmic_error: 0.5986 - val_loss: 12194.5947 - val_mean_squared_error: 12194.5947 - val_mean_squared_logarithmic_error: 0.8266: 2657.8455 - mean_squared_error: 2657. - ETA: 7s - loss: 2960.9443 - mean_squared_error: 2960.9443 - mean_squared_log - ETA: 0s - loss: 2821.0227 - mean_squared_error: 2821.0227 - mean_squared_logarith\n",
      "Epoch 478/500\n",
      "12250/12250 [==============================] - 13s 1ms/step - loss: 2859.9604 - mean_squared_error: 2859.9604 - mean_squared_logarithmic_error: 0.5928 - val_loss: 12089.5273 - val_mean_squared_error: 12089.5273 - val_mean_squared_logarithmic_error: 0.8568: 0s - loss: 2791.9739 - mean_squared_error: 2791.9739 - mean_squared_logarithm\n",
      "Epoch 479/500\n",
      "12250/12250 [==============================] - 13s 1ms/step - loss: 2818.4951 - mean_squared_error: 2818.4951 - mean_squared_logarithmic_error: 0.6058 - val_loss: 11512.8164 - val_mean_squared_error: 11512.8164 - val_mean_squared_logarithmic_error: 0.8430\n",
      "Epoch 480/500\n",
      "12250/12250 [==============================] - 13s 1ms/step - loss: 2818.6311 - mean_squared_error: 2818.6311 - mean_squared_logarithmic_error: 0.6025 - val_loss: 11551.1729 - val_mean_squared_error: 11551.1729 - val_mean_squared_logarithmic_error: 0.8580\n",
      "Epoch 481/500\n"
     ]
    },
    {
     "name": "stdout",
     "output_type": "stream",
     "text": [
      "12250/12250 [==============================] - 13s 1ms/step - loss: 2878.3540 - mean_squared_error: 2878.3540 - mean_squared_logarithmic_error: 0.6041 - val_loss: 11636.5820 - val_mean_squared_error: 11636.5820 - val_mean_squared_logarithmic_error: 0.8659\n",
      "Epoch 482/500\n",
      "12250/12250 [==============================] - 13s 1ms/step - loss: 2905.9875 - mean_squared_error: 2905.9875 - mean_squared_logarithmic_error: 0.6158 - val_loss: 12115.0986 - val_mean_squared_error: 12115.0986 - val_mean_squared_logarithmic_error: 0.8387\n",
      "Epoch 483/500\n",
      "12250/12250 [==============================] - 13s 1ms/step - loss: 2820.0608 - mean_squared_error: 2820.0608 - mean_squared_logarithmic_error: 0.6079 - val_loss: 11234.5283 - val_mean_squared_error: 11234.5283 - val_mean_squared_logarithmic_error: 0.8679\n",
      "Epoch 484/500\n",
      "12250/12250 [==============================] - 13s 1ms/step - loss: 2854.0955 - mean_squared_error: 2854.0955 - mean_squared_logarithmic_error: 0.6041 - val_loss: 12638.3682 - val_mean_squared_error: 12638.3682 - val_mean_squared_logarithmic_error: 0.8951or: 215 - ETA: 6s - loss: 2687.5559 - mean_squared_error: 2687.5559 - mean_squ - ETA: 4s - loss: 2635.4390 - mean_squared_error: 2635. - ETA: 2s - loss: 2673.5674 - mean_squared_erro\n",
      "Epoch 485/500\n",
      "12250/12250 [==============================] - 13s 1ms/step - loss: 2845.2808 - mean_squared_error: 2845.2808 - mean_squared_logarithmic_error: 0.6039 - val_loss: 11627.3936 - val_mean_squared_error: 11627.3936 - val_mean_squared_logarithmic_error: 0.8154\n",
      "Epoch 486/500\n",
      "12250/12250 [==============================] - 13s 1ms/step - loss: 2836.1421 - mean_squared_error: 2836.1421 - mean_squared_logarithmic_error: 0.6049 - val_loss: 12473.9629 - val_mean_squared_error: 12473.9629 - val_mean_squared_logarithmic_error: 0.8708\n",
      "Epoch 487/500\n",
      "12250/12250 [==============================] - 13s 1ms/step - loss: 2852.9832 - mean_squared_error: 2852.9832 - mean_squared_logarithmic_error: 0.6034 - val_loss: 12036.3506 - val_mean_squared_error: 12036.3506 - val_mean_squared_logarithmic_error: 0.8560\n",
      "Epoch 488/500\n",
      "12250/12250 [==============================] - 13s 1ms/step - loss: 2782.8455 - mean_squared_error: 2782.8455 - mean_squared_logarithmic_error: 0.6116 - val_loss: 12202.6299 - val_mean_squared_error: 12202.6299 - val_mean_squared_logarithmic_error: 0.8614\n",
      "Epoch 489/500\n",
      "12250/12250 [==============================] - 13s 1ms/step - loss: 2852.3481 - mean_squared_error: 2852.3481 - mean_squared_logarithmic_error: 0.5971 - val_loss: 12307.9746 - val_mean_squared_error: 12307.9746 - val_mean_squared_logarithmic_error: 0.8848\n",
      "Epoch 490/500\n",
      "12250/12250 [==============================] - 13s 1ms/step - loss: 2846.5154 - mean_squared_error: 2846.5154 - mean_squared_logarithmic_error: 0.6115 - val_loss: 12160.6582 - val_mean_squared_error: 12160.6582 - val_mean_squared_logarithmic_error: 0.8517\n",
      "Epoch 491/500\n",
      "12250/12250 [==============================] - 13s 1ms/step - loss: 2775.5945 - mean_squared_error: 2775.5945 - mean_squared_logarithmic_error: 0.5989 - val_loss: 12170.6260 - val_mean_squared_error: 12170.6260 - val_mean_squared_logarithmic_error: 0.8609 - mean_squared_error: 2933.5728 - mean_squared_logarithm - ETA:\n",
      "Epoch 492/500\n",
      "12250/12250 [==============================] - 13s 1ms/step - loss: 2902.4963 - mean_squared_error: 2902.4963 - mean_squared_logarithmic_error: 0.6120 - val_loss: 11396.4062 - val_mean_squared_error: 11396.4062 - val_mean_squared_logarithmic_error: 0.8385r: 2917.9558 - mean_squared_logarithmic_error: 0. - ETA: 0s - loss: 2893.5938 - mean_squared_error: 2893.5938 - mean_squared_logarithmic_error: 0.\n",
      "Epoch 493/500\n",
      "12250/12250 [==============================] - 13s 1ms/step - loss: 2800.0225 - mean_squared_error: 2800.0225 - mean_squared_logarithmic_error: 0.6075 - val_loss: 12308.7676 - val_mean_squared_error: 12308.7676 - val_mean_squared_logarithmic_error: 0.8426\n",
      "Epoch 494/500\n",
      "12250/12250 [==============================] - 13s 1ms/step - loss: 2861.3521 - mean_squared_error: 2861.3521 - mean_squared_logarithmic_error: 0.6124 - val_loss: 11861.2803 - val_mean_squared_error: 11861.2803 - val_mean_squared_logarithmic_error: 0.8478_error: 2\n",
      "Epoch 495/500\n",
      "12250/12250 [==============================] - 13s 1ms/step - loss: 2785.5439 - mean_squared_error: 2785.5439 - mean_squared_logarithmic_error: 0.6089 - val_loss: 11742.6348 - val_mean_squared_error: 11742.6348 - val_mean_squared_logarithmic_error: 0.8524\n",
      "Epoch 496/500\n",
      "12250/12250 [==============================] - 13s 1ms/step - loss: 2859.0332 - mean_squared_error: 2859.0332 - mean_squared_logarithmic_error: 0.6071 - val_loss: 12226.9795 - val_mean_squared_error: 12226.9795 - val_mean_squared_logarithmic_error: 0.8614\n",
      "Epoch 497/500\n",
      "12250/12250 [==============================] - 13s 1ms/step - loss: 2845.2144 - mean_squared_error: 2845.2144 - mean_squared_logarithmic_error: 0.6060 - val_loss: 12512.2617 - val_mean_squared_error: 12512.2617 - val_mean_squared_logarithmic_error: 0.8310\n",
      "Epoch 498/500\n",
      "12250/12250 [==============================] - 13s 1ms/step - loss: 2863.2056 - mean_squared_error: 2863.2056 - mean_squared_logarithmic_error: 0.6112 - val_loss: 11361.5752 - val_mean_squared_error: 11361.5752 - val_mean_squared_logarithmic_error: 0.8350 loss: 2886.8877 - mean_squared_error: 2886.8877 - mean_squared_logar\n",
      "Epoch 499/500\n",
      "12250/12250 [==============================] - 13s 1ms/step - loss: 2872.6267 - mean_squared_error: 2872.6267 - mean_squared_logarithmic_error: 0.6112 - val_loss: 11263.7490 - val_mean_squared_error: 11263.7490 - val_mean_squared_logarithmic_error: 1.0500 - mean_squared_logarithmic_error:\n",
      "Epoch 500/500\n",
      "12250/12250 [==============================] - 14s 1ms/step - loss: 2775.8044 - mean_squared_error: 2775.8044 - mean_squared_logarithmic_error: 0.6047 - val_loss: 11632.1875 - val_mean_squared_error: 11632.1875 - val_mean_squared_logarithmic_error: 0.8706\n"
     ]
    }
   ],
   "source": [
    "history_500 = model_500.fit(X_train_pca, y_train, batch_size=2, epochs=500, verbose=1, validation_split=0.3)"
   ]
  },
  {
   "cell_type": "code",
   "execution_count": 136,
   "metadata": {
    "ExecuteTime": {
     "end_time": "2021-05-11T15:08:19.010335Z",
     "start_time": "2021-05-11T15:08:18.130313Z"
    },
    "scrolled": true
   },
   "outputs": [
    {
     "name": "stdout",
     "output_type": "stream",
     "text": [
      "Train score: MSE: 5484.828176722155 EVS: 0.8644170516092007 R2: 0.8638257089551563\n",
      "Test Score: MSE: 12960.312831876263 EVS: 0.6563570438013271 R2: 0.6561428377105942\n"
     ]
    },
    {
     "data": {
      "image/png": "[encoded data removed]",
      "text/plain": [
       "<Figure size 1080x1080 with 1 Axes>"
      ]
     },
     "metadata": {
      "needs_background": "light"
     },
     "output_type": "display_data"
    }
   ],
   "source": [
    "ANN_metric_plot(model_500,history_500, X_train_pca,X_test_pca,y_train,y_test)"
   ]
  },
  {
   "cell_type": "code",
   "execution_count": null,
   "metadata": {},
   "outputs": [],
   "source": []
  },
  {
   "cell_type": "markdown",
   "metadata": {},
   "source": [
    "### double dense"
   ]
  },
  {
   "cell_type": "code",
   "execution_count": 79,
   "metadata": {
    "ExecuteTime": {
     "end_time": "2021-05-11T03:03:01.770341Z",
     "start_time": "2021-05-11T03:03:01.725545Z"
    }
   },
   "outputs": [],
   "source": [
    "input_layer = Input(shape=(X_train_pca.shape[1],))\n",
    "dense_layer_1 = Dense(200, activation='relu')(input_layer)\n",
    "dense_layer_2 = Dense(100, activation='relu')(dense_layer_1)\n",
    "dense_layer_3 = Dense(50, activation='relu')(dense_layer_2)\n",
    "output = Dense(1)(dense_layer_3)\n",
    "\n",
    "model_d200 = Model(inputs=input_layer, outputs=output)\n",
    "model_d200.compile(loss=\"mean_squared_error\" , optimizer=\"adam\", metrics=[\"mean_squared_error\",\"mean_squared_logarithmic_error\"])"
   ]
  },
  {
   "cell_type": "code",
   "execution_count": 80,
   "metadata": {
    "ExecuteTime": {
     "end_time": "2021-05-11T03:26:09.011206Z",
     "start_time": "2021-05-11T03:03:01.996310Z"
    }
   },
   "outputs": [
    {
     "name": "stdout",
     "output_type": "stream",
     "text": [
      "Epoch 1/100\n",
      "12250/12250 [==============================] - 14s 1ms/step - loss: 26305.9375 - mean_squared_error: 26305.9375 - mean_squared_logarithmic_error: 1.1592 - val_loss: 23494.6094 - val_mean_squared_error: 23494.6094 - val_mean_squared_logarithmic_error: 1.1041\n",
      "Epoch 2/100\n",
      "12250/12250 [==============================] - 14s 1ms/step - loss: 22456.1836 - mean_squared_error: 22456.1836 - mean_squared_logarithmic_error: 1.0212 - val_loss: 22636.8555 - val_mean_squared_error: 22636.8555 - val_mean_squared_logarithmic_error: 1.1340\n",
      "Epoch 3/100\n",
      "12250/12250 [==============================] - 14s 1ms/step - loss: 21100.1504 - mean_squared_error: 21100.1504 - mean_squared_logarithmic_error: 0.9846 - val_loss: 20759.4766 - val_mean_squared_error: 20759.4766 - val_mean_squared_logarithmic_error: 1.2952oss: 21656.9238 - mean_squared_er - ETA\n",
      "Epoch 4/100\n",
      "12250/12250 [==============================] - 14s 1ms/step - loss: 20096.5176 - mean_squared_error: 20096.5176 - mean_squared_logarithmic_error: 0.9719 - val_loss: 22664.4746 - val_mean_squared_error: 22664.4746 - val_mean_squared_logarithmic_error: 0.9309\n",
      "Epoch 5/100\n",
      "12250/12250 [==============================] - 14s 1ms/step - loss: 19423.6074 - mean_squared_error: 19423.6074 - mean_squared_logarithmic_error: 0.9447 - val_loss: 20266.4707 - val_mean_squared_error: 20266.4707 - val_mean_squared_logarithmic_error: 0.9682\n",
      "Epoch 6/100\n",
      "12250/12250 [==============================] - 14s 1ms/step - loss: 18643.3184 - mean_squared_error: 18643.3184 - mean_squared_logarithmic_error: 0.9140 - val_loss: 19248.1152 - val_mean_squared_error: 19248.1152 - val_mean_squared_logarithmic_error: 0.9892\n",
      "Epoch 7/100\n",
      "12250/12250 [==============================] - 14s 1ms/step - loss: 17965.2031 - mean_squared_error: 17965.2031 - mean_squared_logarithmic_error: 0.9000 - val_loss: 20860.2285 - val_mean_squared_error: 20860.2285 - val_mean_squared_logarithmic_error: 0.9977\n",
      "Epoch 8/100\n",
      "12250/12250 [==============================] - 12s 1ms/step - loss: 17653.7695 - mean_squared_error: 17653.7695 - mean_squared_logarithmic_error: 0.8972 - val_loss: 19210.6797 - val_mean_squared_error: 19210.6797 - val_mean_squared_logarithmic_error: 0.8845\n",
      "Epoch 9/100\n",
      "12250/12250 [==============================] - 13s 1ms/step - loss: 17172.6934 - mean_squared_error: 17172.6934 - mean_squared_logarithmic_error: 0.8722 - val_loss: 25482.8320 - val_mean_squared_error: 25482.8320 - val_mean_squared_logarithmic_error: 0.9535\n",
      "Epoch 10/100\n",
      "12250/12250 [==============================] - 13s 1ms/step - loss: 16987.1836 - mean_squared_error: 16987.1836 - mean_squared_logarithmic_error: 0.8527 - val_loss: 21687.5020 - val_mean_squared_error: 21687.5020 - val_mean_squared_logarithmic_error: 0.8332\n",
      "Epoch 11/100\n",
      "12250/12250 [==============================] - 14s 1ms/step - loss: 16185.9287 - mean_squared_error: 16185.9287 - mean_squared_logarithmic_error: 0.8444 - val_loss: 23759.4805 - val_mean_squared_error: 23759.4805 - val_mean_squared_logarithmic_error: 0.9740\n",
      "Epoch 12/100\n",
      "12250/12250 [==============================] - 15s 1ms/step - loss: 16131.7656 - mean_squared_error: 16131.7656 - mean_squared_logarithmic_error: 0.8365 - val_loss: 24213.8828 - val_mean_squared_error: 24213.8828 - val_mean_squared_logarithmic_error: 0.8803\n",
      "Epoch 13/100\n",
      "12250/12250 [==============================] - 14s 1ms/step - loss: 15654.9463 - mean_squared_error: 15654.9463 - mean_squared_logarithmic_error: 0.8266 - val_loss: 17989.3574 - val_mean_squared_error: 17989.3574 - val_mean_squared_logarithmic_error: 0.8551red_error: 15646.7988 - mean_squared_logar\n",
      "Epoch 14/100\n",
      "12250/12250 [==============================] - 14s 1ms/step - loss: 15440.1045 - mean_squared_error: 15440.1045 - mean_squared_logarithmic_error: 0.8214 - val_loss: 38382.0977 - val_mean_squared_error: 38382.0977 - val_mean_squared_logarithmic_error: 0.9907\n",
      "Epoch 15/100\n",
      "12250/12250 [==============================] - 13s 1ms/step - loss: 15097.7988 - mean_squared_error: 15097.7988 - mean_squared_logarithmic_error: 0.8135 - val_loss: 20372.5117 - val_mean_squared_error: 20372.5117 - val_mean_squared_logarithmic_error: 0.7897\n",
      "Epoch 16/100\n",
      "12250/12250 [==============================] - 13s 1ms/step - loss: 15008.8252 - mean_squared_error: 15008.8252 - mean_squared_logarithmic_error: 0.8045 - val_loss: 20105.9844 - val_mean_squared_error: 20105.9844 - val_mean_squared_logarithmic_error: 0.8742\n",
      "Epoch 17/100\n",
      "12250/12250 [==============================] - 14s 1ms/step - loss: 14536.0703 - mean_squared_error: 14536.0703 - mean_squared_logarithmic_error: 0.8038 - val_loss: 23539.7754 - val_mean_squared_error: 23539.7754 - val_mean_squared_logarithmic_error: 0.9161\n",
      "Epoch 18/100\n",
      "12250/12250 [==============================] - 14s 1ms/step - loss: 14265.0205 - mean_squared_error: 14265.0205 - mean_squared_logarithmic_error: 0.8053 - val_loss: 20456.5312 - val_mean_squared_error: 20456.5312 - val_mean_squared_logarithmic_error: 0.7788\n",
      "Epoch 19/100\n",
      "12250/12250 [==============================] - 14s 1ms/step - loss: 13954.5117 - mean_squared_error: 13954.5117 - mean_squared_logarithmic_error: 0.7842 - val_loss: 24552.9160 - val_mean_squared_error: 24552.9160 - val_mean_squared_logarithmic_error: 0.8996\n",
      "Epoch 20/100\n",
      "12250/12250 [==============================] - 14s 1ms/step - loss: 13748.8887 - mean_squared_error: 13748.8887 - mean_squared_logarithmic_error: 0.7972 - val_loss: 23373.6133 - val_mean_squared_error: 23373.6133 - val_mean_squared_logarithmic_error: 0.7945 3s - loss: 13933.4512 - \n",
      "Epoch 21/100\n",
      "12250/12250 [==============================] - 14s 1ms/step - loss: 13406.1182 - mean_squared_error: 13406.1182 - mean_squared_logarithmic_error: 0.7813 - val_loss: 29563.1641 - val_mean_squared_error: 29563.1641 - val_mean_squared_logarithmic_error: 0.8650\n",
      "Epoch 22/100\n",
      "12250/12250 [==============================] - 14s 1ms/step - loss: 13131.9170 - mean_squared_error: 13131.9170 - mean_squared_logarithmic_error: 0.7788 - val_loss: 18516.5078 - val_mean_squared_error: 18516.5078 - val_mean_squared_logarithmic_error: 0.8331\n",
      "Epoch 23/100\n",
      "12250/12250 [==============================] - 14s 1ms/step - loss: 12927.6289 - mean_squared_error: 12927.6289 - mean_squared_logarithmic_error: 0.7610 - val_loss: 20507.9551 - val_mean_squared_error: 20507.9551 - val_mean_squared_logarithmic_error: 0.8642\n",
      "Epoch 24/100\n",
      "12250/12250 [==============================] - 14s 1ms/step - loss: 12771.5879 - mean_squared_error: 12771.5879 - mean_squared_logarithmic_error: 0.7555 - val_loss: 37038.3438 - val_mean_squared_error: 37038.3438 - val_mean_squared_logarithmic_error: 0.8482mean_squared_error: 12720.7256 - mean_squared\n",
      "Epoch 25/100\n",
      "12250/12250 [==============================] - 13s 1ms/step - loss: 12478.0234 - mean_squared_error: 12478.0234 - mean_squared_logarithmic_error: 0.7599 - val_loss: 17770.9668 - val_mean_squared_error: 17770.9668 - val_mean_squared_logarithmic_error: 0.8229\n",
      "Epoch 26/100\n",
      "12250/12250 [==============================] - 13s 1ms/step - loss: 12301.6133 - mean_squared_error: 12301.6133 - mean_squared_logarithmic_error: 0.7478 - val_loss: 15843.3086 - val_mean_squared_error: 15843.3086 - val_mean_squared_logarithmic_error: 0.7613\n",
      "Epoch 27/100\n",
      "12250/12250 [==============================] - 14s 1ms/step - loss: 12024.6104 - mean_squared_error: 12024.6104 - mean_squared_logarithmic_error: 0.7473 - val_loss: 25192.0312 - val_mean_squared_error: 25192.0312 - val_mean_squared_logarithmic_error: 0.7672\n",
      "Epoch 28/100\n",
      "12250/12250 [==============================] - 13s 1ms/step - loss: 11903.8906 - mean_squared_error: 11903.8906 - mean_squared_logarithmic_error: 0.7289 - val_loss: 14656.9736 - val_mean_squared_error: 14656.9736 - val_mean_squared_logarithmic_error: 0.7522\n",
      "Epoch 29/100\n",
      "12250/12250 [==============================] - 15s 1ms/step - loss: 11695.5869 - mean_squared_error: 11695.5869 - mean_squared_logarithmic_error: 0.7351 - val_loss: 15148.0928 - val_mean_squared_error: 15148.0928 - val_mean_squared_logarithmic_error: 0.7567ed_error: 11703.4473 - m\n",
      "Epoch 30/100\n",
      "12250/12250 [==============================] - 14s 1ms/step - loss: 11557.1006 - mean_squared_error: 11557.1006 - mean_squared_logarithmic_error: 0.7274 - val_loss: 16435.9902 - val_mean_squared_error: 16435.9902 - val_mean_squared_logarithmic_error: 0.8497\n",
      "Epoch 31/100\n",
      "12250/12250 [==============================] - 14s 1ms/step - loss: 11471.8789 - mean_squared_error: 11471.8789 - mean_squared_logarithmic_error: 0.7297 - val_loss: 15669.4717 - val_mean_squared_error: 15669.4717 - val_mean_squared_logarithmic_error: 0.8611\n",
      "Epoch 32/100\n",
      "12250/12250 [==============================] - 14s 1ms/step - loss: 11213.5742 - mean_squared_error: 11213.5742 - mean_squared_logarithmic_error: 0.7244 - val_loss: 15235.8535 - val_mean_squared_error: 15235.8535 - val_mean_squared_logarithmic_error: 0.7979\n",
      "Epoch 33/100\n",
      "12250/12250 [==============================] - 14s 1ms/step - loss: 11217.7715 - mean_squared_error: 11217.7715 - mean_squared_logarithmic_error: 0.7076 - val_loss: 17549.3613 - val_mean_squared_error: 17549.3613 - val_mean_squared_logarithmic_error: 0.7663\n",
      "Epoch 34/100\n",
      "12250/12250 [==============================] - 14s 1ms/step - loss: 11050.9150 - mean_squared_error: 11050.9150 - mean_squared_logarithmic_error: 0.7084 - val_loss: 16615.7539 - val_mean_squared_error: 16615.7539 - val_mean_squared_logarithmic_error: 0.7890\n",
      "Epoch 35/100\n",
      "12250/12250 [==============================] - 14s 1ms/step - loss: 10884.9551 - mean_squared_error: 10884.9551 - mean_squared_logarithmic_error: 0.7169 - val_loss: 14869.6182 - val_mean_squared_error: 14869.6182 - val_mean_squared_logarithmic_error: 0.7626\n",
      "Epoch 36/100\n",
      "12250/12250 [==============================] - 13s 1ms/step - loss: 10755.3057 - mean_squared_error: 10755.3057 - mean_squared_logarithmic_error: 0.7114 - val_loss: 14110.2646 - val_mean_squared_error: 14110.2646 - val_mean_squared_logarithmic_error: 0.7853\n",
      "Epoch 37/100\n",
      "12250/12250 [==============================] - 14s 1ms/step - loss: 10644.0889 - mean_squared_error: 10644.0889 - mean_squared_logarithmic_error: 0.7117 - val_loss: 15546.2480 - val_mean_squared_error: 15546.2480 - val_mean_squared_logarithmic_error: 0.7496\n",
      "Epoch 38/100\n",
      "12250/12250 [==============================] - 14s 1ms/step - loss: 10455.4482 - mean_squared_error: 10455.4482 - mean_squared_logarithmic_error: 0.7022 - val_loss: 13185.6670 - val_mean_squared_error: 13185.6670 - val_mean_squared_logarithmic_error: 0.8417\n",
      "Epoch 39/100\n",
      "12250/12250 [==============================] - 14s 1ms/step - loss: 10272.6230 - mean_squared_error: 10272.6230 - mean_squared_logarithmic_error: 0.6976 - val_loss: 19436.9863 - val_mean_squared_error: 19436.9863 - val_mean_squared_logarithmic_error: 0.7511\n",
      "Epoch 40/100\n",
      "12250/12250 [==============================] - 15s 1ms/step - loss: 10139.1318 - mean_squared_error: 10139.1318 - mean_squared_logarithmic_error: 0.6888 - val_loss: 19332.3301 - val_mean_squared_error: 19332.3301 - val_mean_squared_logarithmic_error: 0.7377\n",
      "Epoch 41/100\n",
      "12250/12250 [==============================] - 14s 1ms/step - loss: 10041.9893 - mean_squared_error: 10041.9893 - mean_squared_logarithmic_error: 0.6962 - val_loss: 15163.9697 - val_mean_squared_error: 15163.9697 - val_mean_squared_logarithmic_error: 0.7735\n",
      "Epoch 42/100\n",
      "12250/12250 [==============================] - 14s 1ms/step - loss: 9969.5537 - mean_squared_error: 9969.5537 - mean_squared_logarithmic_error: 0.6962 - val_loss: 15790.1543 - val_mean_squared_error: 15790.1543 - val_mean_squared_logarithmic_error: 0.7727\n",
      "Epoch 43/100\n",
      "12250/12250 [==============================] - 15s 1ms/step - loss: 9828.0820 - mean_squared_error: 9828.0820 - mean_squared_logarithmic_error: 0.7020 - val_loss: 25410.3984 - val_mean_squared_error: 25410.3984 - val_mean_squared_logarithmic_error: 0.8420\n",
      "Epoch 44/100\n",
      "12250/12250 [==============================] - 14s 1ms/step - loss: 9618.8457 - mean_squared_error: 9618.8457 - mean_squared_logarithmic_error: 0.6923 - val_loss: 13566.3525 - val_mean_squared_error: 13566.3525 - val_mean_squared_logarithmic_error: 0.7391\n",
      "Epoch 45/100\n",
      "12250/12250 [==============================] - 13s 1ms/step - loss: 9650.0693 - mean_squared_error: 9650.0693 - mean_squared_logarithmic_error: 0.6784 - val_loss: 15664.6387 - val_mean_squared_error: 15664.6387 - val_mean_squared_logarithmic_error: 0.7358\n",
      "Epoch 46/100\n",
      "12250/12250 [==============================] - 13s 1ms/step - loss: 9500.6953 - mean_squared_error: 9500.6953 - mean_squared_logarithmic_error: 0.6835 - val_loss: 13370.1611 - val_mean_squared_error: 13370.1611 - val_mean_squared_logarithmic_error: 0.7552\n",
      "Epoch 47/100\n",
      "12250/12250 [==============================] - 13s 1ms/step - loss: 9390.5713 - mean_squared_error: 9390.5713 - mean_squared_logarithmic_error: 0.6777 - val_loss: 14137.8193 - val_mean_squared_error: 14137.8193 - val_mean_squared_logarithmic_error: 0.7490\n",
      "Epoch 48/100\n",
      "12250/12250 [==============================] - 13s 1ms/step - loss: 9303.2227 - mean_squared_error: 9303.2227 - mean_squared_logarithmic_error: 0.6697 - val_loss: 13935.5654 - val_mean_squared_error: 13935.5654 - val_mean_squared_logarithmic_error: 0.7660\n",
      "Epoch 49/100\n",
      "12250/12250 [==============================] - 14s 1ms/step - loss: 9158.7627 - mean_squared_error: 9158.7627 - mean_squared_logarithmic_error: 0.6790 - val_loss: 13530.9365 - val_mean_squared_error: 13530.9365 - val_mean_squared_logarithmic_error: 0.7302\n",
      "Epoch 50/100\n",
      "12250/12250 [==============================] - 13s 1ms/step - loss: 9256.3652 - mean_squared_error: 9256.3652 - mean_squared_logarithmic_error: 0.6755 - val_loss: 12448.2100 - val_mean_squared_error: 12448.2100 - val_mean_squared_logarithmic_error: 0.7320\n",
      "Epoch 51/100\n",
      "12250/12250 [==============================] - 14s 1ms/step - loss: 9156.1543 - mean_squared_error: 9156.1543 - mean_squared_logarithmic_error: 0.6681 - val_loss: 12329.6992 - val_mean_squared_error: 12329.6992 - val_mean_squared_logarithmic_error: 0.7330\n",
      "Epoch 52/100\n",
      "12250/12250 [==============================] - 13s 1ms/step - loss: 8978.3447 - mean_squared_error: 8978.3447 - mean_squared_logarithmic_error: 0.6716 - val_loss: 13856.1338 - val_mean_squared_error: 13856.1338 - val_mean_squared_logarithmic_error: 0.8317\n",
      "Epoch 53/100\n",
      "12250/12250 [==============================] - 13s 1ms/step - loss: 8881.9746 - mean_squared_error: 8881.9746 - mean_squared_logarithmic_error: 0.6736 - val_loss: 13952.5908 - val_mean_squared_error: 13952.5908 - val_mean_squared_logarithmic_error: 0.7557\n",
      "Epoch 54/100\n",
      "12250/12250 [==============================] - 13s 1ms/step - loss: 8599.2695 - mean_squared_error: 8599.2695 - mean_squared_logarithmic_error: 0.6614 - val_loss: 13248.4814 - val_mean_squared_error: 13248.4814 - val_mean_squared_logarithmic_error: 0.7724\n",
      "Epoch 55/100\n",
      "12250/12250 [==============================] - 14s 1ms/step - loss: 8806.2891 - mean_squared_error: 8806.2891 - mean_squared_logarithmic_error: 0.6633 - val_loss: 14186.6055 - val_mean_squared_error: 14186.6055 - val_mean_squared_logarithmic_error: 0.7600\n",
      "Epoch 56/100\n",
      "12250/12250 [==============================] - 14s 1ms/step - loss: 8497.4082 - mean_squared_error: 8497.4082 - mean_squared_logarithmic_error: 0.6645 - val_loss: 14270.3799 - val_mean_squared_error: 14270.3799 - val_mean_squared_logarithmic_error: 0.7158\n",
      "Epoch 57/100\n",
      "12250/12250 [==============================] - 14s 1ms/step - loss: 8489.5312 - mean_squared_error: 8489.5312 - mean_squared_logarithmic_error: 0.6621 - val_loss: 13235.2490 - val_mean_squared_error: 13235.2490 - val_mean_squared_logarithmic_error: 0.7354\n",
      "Epoch 58/100\n",
      "12250/12250 [==============================] - 13s 1ms/step - loss: 8284.8799 - mean_squared_error: 8284.8799 - mean_squared_logarithmic_error: 0.6592 - val_loss: 14700.2100 - val_mean_squared_error: 14700.2100 - val_mean_squared_logarithmic_error: 0.8354\n",
      "Epoch 59/100\n",
      "12250/12250 [==============================] - 14s 1ms/step - loss: 8466.9150 - mean_squared_error: 8466.9150 - mean_squared_logarithmic_error: 0.6618 - val_loss: 13063.1602 - val_mean_squared_error: 13063.1602 - val_mean_squared_logarithmic_error: 0.8283\n",
      "Epoch 60/100\n"
     ]
    },
    {
     "name": "stdout",
     "output_type": "stream",
     "text": [
      "12250/12250 [==============================] - 14s 1ms/step - loss: 8320.8018 - mean_squared_error: 8320.8018 - mean_squared_logarithmic_error: 0.6576 - val_loss: 12777.3477 - val_mean_squared_error: 12777.3477 - val_mean_squared_logarithmic_error: 0.8211\n",
      "Epoch 61/100\n",
      "12250/12250 [==============================] - 15s 1ms/step - loss: 8200.1201 - mean_squared_error: 8200.1201 - mean_squared_logarithmic_error: 0.6542 - val_loss: 15081.2979 - val_mean_squared_error: 15081.2979 - val_mean_squared_logarithmic_error: 0.7695uared_logar - ETA: 3s - loss: 7801.31\n",
      "Epoch 62/100\n",
      "12250/12250 [==============================] - 13s 1ms/step - loss: 8140.4912 - mean_squared_error: 8140.4912 - mean_squared_logarithmic_error: 0.6503 - val_loss: 12636.8906 - val_mean_squared_error: 12636.8906 - val_mean_squared_logarithmic_error: 0.7266\n",
      "Epoch 63/100\n",
      "12250/12250 [==============================] - 14s 1ms/step - loss: 7974.9824 - mean_squared_error: 7974.9824 - mean_squared_logarithmic_error: 0.6449 - val_loss: 14347.9209 - val_mean_squared_error: 14347.9209 - val_mean_squared_logarithmic_error: 0.7596\n",
      "Epoch 64/100\n",
      "12250/12250 [==============================] - 14s 1ms/step - loss: 7931.8706 - mean_squared_error: 7931.8706 - mean_squared_logarithmic_error: 0.6503 - val_loss: 14122.1270 - val_mean_squared_error: 14122.1270 - val_mean_squared_logarithmic_error: 0.7446\n",
      "Epoch 65/100\n",
      "12250/12250 [==============================] - 14s 1ms/step - loss: 7941.2310 - mean_squared_error: 7941.2310 - mean_squared_logarithmic_error: 0.6537 - val_loss: 15052.6533 - val_mean_squared_error: 15052.6533 - val_mean_squared_logarithmic_error: 0.7720\n",
      "Epoch 66/100\n",
      "12250/12250 [==============================] - 15s 1ms/step - loss: 7733.2295 - mean_squared_error: 7733.2295 - mean_squared_logarithmic_error: 0.6423 - val_loss: 12433.4785 - val_mean_squared_error: 12433.4785 - val_mean_squared_logarithmic_error: 0.7290\n",
      "Epoch 67/100\n",
      "12250/12250 [==============================] - 15s 1ms/step - loss: 7634.3320 - mean_squared_error: 7634.3320 - mean_squared_logarithmic_error: 0.6534 - val_loss: 14485.1914 - val_mean_squared_error: 14485.1914 - val_mean_squared_logarithmic_error: 0.7267\n",
      "Epoch 68/100\n",
      "12250/12250 [==============================] - 13s 1ms/step - loss: 7553.9185 - mean_squared_error: 7553.9185 - mean_squared_logarithmic_error: 0.6522 - val_loss: 14436.9248 - val_mean_squared_error: 14436.9248 - val_mean_squared_logarithmic_error: 0.7925\n",
      "Epoch 69/100\n",
      "12250/12250 [==============================] - 14s 1ms/step - loss: 7476.1284 - mean_squared_error: 7476.1284 - mean_squared_logarithmic_error: 0.6513 - val_loss: 14088.5820 - val_mean_squared_error: 14088.5820 - val_mean_squared_logarithmic_error: 0.8589\n",
      "Epoch 70/100\n",
      "12250/12250 [==============================] - 14s 1ms/step - loss: 7425.2505 - mean_squared_error: 7425.2505 - mean_squared_logarithmic_error: 0.6512 - val_loss: 14754.1543 - val_mean_squared_error: 14754.1543 - val_mean_squared_logarithmic_error: 0.8181\n",
      "Epoch 71/100\n",
      "12250/12250 [==============================] - 14s 1ms/step - loss: 7251.2803 - mean_squared_error: 7251.2803 - mean_squared_logarithmic_error: 0.6600 - val_loss: 16944.2656 - val_mean_squared_error: 16944.2656 - val_mean_squared_logarithmic_error: 0.8210ari - ETA: 2s - loss: 7214.8086 - mean_squared_error: 7214.8\n",
      "Epoch 72/100\n",
      "12250/12250 [==============================] - 14s 1ms/step - loss: 7341.1924 - mean_squared_error: 7341.1924 - mean_squared_logarithmic_error: 0.6424 - val_loss: 13236.9512 - val_mean_squared_error: 13236.9512 - val_mean_squared_logarithmic_error: 0.7389\n",
      "Epoch 73/100\n",
      "12250/12250 [==============================] - 14s 1ms/step - loss: 7232.9014 - mean_squared_error: 7232.9014 - mean_squared_logarithmic_error: 0.6484 - val_loss: 14521.0957 - val_mean_squared_error: 14521.0957 - val_mean_squared_logarithmic_error: 0.7823\n",
      "Epoch 74/100\n",
      "12250/12250 [==============================] - 13s 1ms/step - loss: 7228.9624 - mean_squared_error: 7228.9624 - mean_squared_logarithmic_error: 0.6381 - val_loss: 12069.1016 - val_mean_squared_error: 12069.1016 - val_mean_squared_logarithmic_error: 0.7189\n",
      "Epoch 75/100\n",
      "12250/12250 [==============================] - 13s 1ms/step - loss: 7010.8818 - mean_squared_error: 7010.8818 - mean_squared_logarithmic_error: 0.6397 - val_loss: 11838.8604 - val_mean_squared_error: 11838.8604 - val_mean_squared_logarithmic_error: 0.7256\n",
      "Epoch 76/100\n",
      "12250/12250 [==============================] - 14s 1ms/step - loss: 7028.0391 - mean_squared_error: 7028.0391 - mean_squared_logarithmic_error: 0.6393 - val_loss: 12536.9277 - val_mean_squared_error: 12536.9277 - val_mean_squared_logarithmic_error: 0.7325\n",
      "Epoch 77/100\n",
      "12250/12250 [==============================] - 14s 1ms/step - loss: 6957.2134 - mean_squared_error: 6957.2134 - mean_squared_logarithmic_error: 0.6357 - val_loss: 12115.9736 - val_mean_squared_error: 12115.9736 - val_mean_squared_logarithmic_error: 0.7558\n",
      "Epoch 78/100\n",
      "12250/12250 [==============================] - 14s 1ms/step - loss: 6909.1519 - mean_squared_error: 6909.1519 - mean_squared_logarithmic_error: 0.6407 - val_loss: 11720.1738 - val_mean_squared_error: 11720.1738 - val_mean_squared_logarithmic_error: 0.71624.1406 - mean_squared_logari\n",
      "Epoch 79/100\n",
      "12250/12250 [==============================] - 13s 1ms/step - loss: 6819.3813 - mean_squared_error: 6819.3813 - mean_squared_logarithmic_error: 0.6312 - val_loss: 13941.0820 - val_mean_squared_error: 13941.0820 - val_mean_squared_logarithmic_error: 0.8121\n",
      "Epoch 80/100\n",
      "12250/12250 [==============================] - 14s 1ms/step - loss: 6683.3892 - mean_squared_error: 6683.3892 - mean_squared_logarithmic_error: 0.6285 - val_loss: 13909.6553 - val_mean_squared_error: 13909.6553 - val_mean_squared_logarithmic_error: 0.7679\n",
      "Epoch 81/100\n",
      "12250/12250 [==============================] - 13s 1ms/step - loss: 6697.1372 - mean_squared_error: 6697.1372 - mean_squared_logarithmic_error: 0.6327 - val_loss: 12825.2773 - val_mean_squared_error: 12825.2773 - val_mean_squared_logarithmic_error: 0.8359\n",
      "Epoch 82/100\n",
      "12250/12250 [==============================] - 14s 1ms/step - loss: 6490.4248 - mean_squared_error: 6490.4248 - mean_squared_logarithmic_error: 0.6236 - val_loss: 11824.2285 - val_mean_squared_error: 11824.2285 - val_mean_squared_logarithmic_error: 0.7537\n",
      "Epoch 83/100\n",
      "12250/12250 [==============================] - 15s 1ms/step - loss: 6569.7373 - mean_squared_error: 6569.7373 - mean_squared_logarithmic_error: 0.6335 - val_loss: 12523.1660 - val_mean_squared_error: 12523.1660 - val_mean_squared_logarithmic_error: 0.8046\n",
      "Epoch 84/100\n",
      "12250/12250 [==============================] - 14s 1ms/step - loss: 6595.9258 - mean_squared_error: 6595.9258 - mean_squared_logarithmic_error: 0.6334 - val_loss: 11654.6992 - val_mean_squared_error: 11654.6992 - val_mean_squared_logarithmic_error: 0.7656\n",
      "Epoch 85/100\n",
      "12250/12250 [==============================] - 15s 1ms/step - loss: 6414.0034 - mean_squared_error: 6414.0034 - mean_squared_logarithmic_error: 0.6309 - val_loss: 12602.7598 - val_mean_squared_error: 12602.7598 - val_mean_squared_logarithmic_error: 0.7677\n",
      "Epoch 86/100\n",
      "12250/12250 [==============================] - 14s 1ms/step - loss: 6544.3970 - mean_squared_error: 6544.3970 - mean_squared_logarithmic_error: 0.6305 - val_loss: 11101.1123 - val_mean_squared_error: 11101.1123 - val_mean_squared_logarithmic_error: 0.8269\n",
      "Epoch 87/100\n",
      "12250/12250 [==============================] - 14s 1ms/step - loss: 6498.6885 - mean_squared_error: 6498.6885 - mean_squared_logarithmic_error: 0.6274 - val_loss: 11253.9473 - val_mean_squared_error: 11253.9473 - val_mean_squared_logarithmic_error: 0.6927\n",
      "Epoch 88/100\n",
      "12250/12250 [==============================] - 13s 1ms/step - loss: 6433.0142 - mean_squared_error: 6433.0142 - mean_squared_logarithmic_error: 0.6168 - val_loss: 11131.1816 - val_mean_squared_error: 11131.1816 - val_mean_squared_logarithmic_error: 0.7354\n",
      "Epoch 89/100\n",
      "12250/12250 [==============================] - 13s 1ms/step - loss: 6398.8120 - mean_squared_error: 6398.8120 - mean_squared_logarithmic_error: 0.6184 - val_loss: 13157.9229 - val_mean_squared_error: 13157.9229 - val_mean_squared_logarithmic_error: 0.7272\n",
      "Epoch 90/100\n"
     ]
    },
    {
     "name": "stdout",
     "output_type": "stream",
     "text": [
      "12250/12250 [==============================] - 14s 1ms/step - loss: 6145.3638 - mean_squared_error: 6145.3638 - mean_squared_logarithmic_error: 0.6220 - val_loss: 26292.5508 - val_mean_squared_error: 26292.5508 - val_mean_squared_logarithmic_error: 0.7881\n",
      "Epoch 91/100\n",
      "12250/12250 [==============================] - 14s 1ms/step - loss: 6298.6826 - mean_squared_error: 6298.6826 - mean_squared_logarithmic_error: 0.6293 - val_loss: 14839.4531 - val_mean_squared_error: 14839.4531 - val_mean_squared_logarithmic_error: 0.7151\n",
      "Epoch 92/100\n",
      "12250/12250 [==============================] - 14s 1ms/step - loss: 6172.5532 - mean_squared_error: 6172.5532 - mean_squared_logarithmic_error: 0.6246 - val_loss: 13070.7598 - val_mean_squared_error: 13070.7598 - val_mean_squared_logarithmic_error: 0.7589\n",
      "Epoch 93/100\n",
      "12250/12250 [==============================] - 14s 1ms/step - loss: 6237.3027 - mean_squared_error: 6237.3027 - mean_squared_logarithmic_error: 0.6145 - val_loss: 15343.7393 - val_mean_squared_error: 15343.7393 - val_mean_squared_logarithmic_error: 0.7885\n",
      "Epoch 94/100\n",
      "12250/12250 [==============================] - 14s 1ms/step - loss: 6077.0718 - mean_squared_error: 6077.0718 - mean_squared_logarithmic_error: 0.6160 - val_loss: 16562.3828 - val_mean_squared_error: 16562.3828 - val_mean_squared_logarithmic_error: 0.7911\n",
      "Epoch 95/100\n",
      "12250/12250 [==============================] - 13s 1ms/step - loss: 6027.6821 - mean_squared_error: 6027.6821 - mean_squared_logarithmic_error: 0.6193 - val_loss: 11005.0537 - val_mean_squared_error: 11005.0537 - val_mean_squared_logarithmic_error: 0.7602\n",
      "Epoch 96/100\n",
      "12250/12250 [==============================] - 14s 1ms/step - loss: 5842.7349 - mean_squared_error: 5842.7349 - mean_squared_logarithmic_error: 0.6157 - val_loss: 12385.3711 - val_mean_squared_error: 12385.3711 - val_mean_squared_logarithmic_error: 0.7829\n",
      "Epoch 97/100\n",
      "12250/12250 [==============================] - 13s 1ms/step - loss: 5953.6548 - mean_squared_error: 5953.6548 - mean_squared_logarithmic_error: 0.6153 - val_loss: 11346.0674 - val_mean_squared_error: 11346.0674 - val_mean_squared_logarithmic_error: 0.6946\n",
      "Epoch 98/100\n",
      "12250/12250 [==============================] - 14s 1ms/step - loss: 5997.0103 - mean_squared_error: 5997.0103 - mean_squared_logarithmic_error: 0.6092 - val_loss: 12065.3389 - val_mean_squared_error: 12065.3389 - val_mean_squared_logarithmic_error: 0.7833\n",
      "Epoch 99/100\n",
      "12250/12250 [==============================] - 14s 1ms/step - loss: 5845.2466 - mean_squared_error: 5845.2466 - mean_squared_logarithmic_error: 0.6161 - val_loss: 13205.3359 - val_mean_squared_error: 13205.3359 - val_mean_squared_logarithmic_error: 0.7200\n",
      "Epoch 100/100\n",
      "12250/12250 [==============================] - 14s 1ms/step - loss: 5827.0845 - mean_squared_error: 5827.0845 - mean_squared_logarithmic_error: 0.6107 - val_loss: 11953.6572 - val_mean_squared_error: 11953.6572 - val_mean_squared_logarithmic_error: 0.7074\n"
     ]
    }
   ],
   "source": [
    "history_d200 = model_d200.fit(X_train_pca, y_train, batch_size=2, epochs=100, verbose=1, validation_split=0.3)"
   ]
  },
  {
   "cell_type": "code",
   "execution_count": 86,
   "metadata": {
    "ExecuteTime": {
     "end_time": "2021-05-11T03:29:24.352523Z",
     "start_time": "2021-05-11T03:29:23.436800Z"
    }
   },
   "outputs": [
    {
     "name": "stdout",
     "output_type": "stream",
     "text": [
      "Train score: MSE: 8173.072073676178 EVS: 0.8008081803783588 R2: 0.7970834710894458\n",
      "Test Score: MSE: 13099.043639588555 EVS: 0.6592594682458096 R2: 0.6524620946235341\n"
     ]
    },
    {
     "data": {
      "image/png": "[encoded data removed]",
      "text/plain": [
       "<Figure size 1080x1080 with 1 Axes>"
      ]
     },
     "metadata": {
      "needs_background": "light"
     },
     "output_type": "display_data"
    }
   ],
   "source": [
    "ANN_metric_plot(model_d200,history_d200, X_train_pca,X_test_pca,y_train,y_test)"
   ]
  },
  {
   "cell_type": "code",
   "execution_count": null,
   "metadata": {},
   "outputs": [],
   "source": []
  },
  {
   "cell_type": "markdown",
   "metadata": {},
   "source": [
    "### add one layer"
   ]
  },
  {
   "cell_type": "code",
   "execution_count": 81,
   "metadata": {
    "ExecuteTime": {
     "end_time": "2021-05-11T03:26:09.340886Z",
     "start_time": "2021-05-11T03:26:09.279046Z"
    }
   },
   "outputs": [],
   "source": [
    "input_layer = Input(shape=(X_train_pca.shape[1],))\n",
    "dense_layer_1 = Dense(100, activation='relu')(input_layer)\n",
    "dense_layer_2 = Dense(50, activation='relu')(dense_layer_1)\n",
    "dense_layer_3 = Dense(50, activation='relu')(dense_layer_2)\n",
    "dense_layer_4 = Dense(25, activation='relu')(dense_layer_3)\n",
    "output = Dense(1)(dense_layer_4)\n",
    "\n",
    "model_L4 = Model(inputs=input_layer, outputs=output)\n",
    "model_L4.compile(loss=\"mean_squared_error\" , optimizer=\"adam\", metrics=[\"mean_squared_error\",\"mean_squared_logarithmic_error\"])"
   ]
  },
  {
   "cell_type": "code",
   "execution_count": null,
   "metadata": {
    "ExecuteTime": {
     "start_time": "2021-05-11T03:29:56.198Z"
    }
   },
   "outputs": [
    {
     "name": "stdout",
     "output_type": "stream",
     "text": [
      "Epoch 1/100\n",
      "12250/12250 [==============================] - 13s 1ms/step - loss: 17617.5547 - mean_squared_error: 17617.5547 - mean_squared_logarithmic_error: 0.8741 - val_loss: 18844.6504 - val_mean_squared_error: 18844.6504 - val_mean_squared_logarithmic_error: 0.8562\n",
      "Epoch 2/100\n",
      "12250/12250 [==============================] - 14s 1ms/step - loss: 17257.6035 - mean_squared_error: 17257.6035 - mean_squared_logarithmic_error: 0.8584 - val_loss: 19262.5898 - val_mean_squared_error: 19262.5898 - val_mean_squared_logarithmic_error: 0.9590\n",
      "Epoch 3/100\n",
      "12250/12250 [==============================] - 14s 1ms/step - loss: 16722.6836 - mean_squared_error: 16722.6836 - mean_squared_logarithmic_error: 0.8539 - val_loss: 19937.3242 - val_mean_squared_error: 19937.3242 - val_mean_squared_logarithmic_error: 0.7863: 0.84 - ETA: 3s - loss: 16501.1934 - mean_squared_error: 16501.1934 - mean_s - ETA: 2s - loss: 16772.2988 - mean_squared_error: 16772.2988\n",
      "Epoch 4/100\n",
      "12250/12250 [==============================] - 14s 1ms/step - loss: 16466.9785 - mean_squared_error: 16466.9785 - mean_squared_logarithmic_error: 0.8379 - val_loss: 18850.5293 - val_mean_squared_error: 18850.5293 - val_mean_squared_logarithmic_error: 0.8605ed_ - ETA: 7s - - ETA: 2s - loss: 16357.4756 - mean_squared_error: 16357.4756 - mean_squared_logarithmic_error: 0 - ETA: 2s - loss: 16315.0303 - mean_squared_error: \n",
      "Epoch 5/100\n",
      "12250/12250 [==============================] - 14s 1ms/step - loss: 16171.0537 - mean_squared_error: 16171.0537 - mean_squared_logarithmic_error: 0.8368 - val_loss: 17568.8809 - val_mean_squared_error: 17568.8809 - val_mean_squared_logarithmic_error: 0.8312\n",
      "Epoch 6/100\n",
      "12250/12250 [==============================] - 14s 1ms/step - loss: 15924.5010 - mean_squared_error: 15924.5010 - mean_squared_logarithmic_error: 0.8269 - val_loss: 16889.7910 - val_mean_squared_error: 16889.7910 - val_mean_squared_logarithmic_error: 0.768429.5488 - mean_squared_logarithmic - ETA: 6s - loss: 16516.7363 - mean_squared_error: 16516.7363 - mean_s - ETA: 4s - los\n",
      "Epoch 7/100\n",
      "12250/12250 [==============================] - 14s 1ms/step - loss: 15678.3545 - mean_squared_error: 15678.3545 - mean_squared_logarithmic_error: 0.8148 - val_loss: 16894.8398 - val_mean_squared_error: 16894.8398 - val_mean_squared_logarithmic_error: 0.9199\n",
      "Epoch 8/100\n",
      "12250/12250 [==============================] - 13s 1ms/step - loss: 15155.7490 - mean_squared_error: 15155.7490 - mean_squared_logarithmic_error: 0.8073 - val_loss: 16563.1055 - val_mean_squared_error: 16563.1055 - val_mean_squared_logarithmic_error: 0.8328\n",
      "Epoch 9/100\n",
      "12250/12250 [==============================] - 14s 1ms/step - loss: 15029.8340 - mean_squared_error: 15029.8340 - mean_squared_logarithmic_error: 0.8050 - val_loss: 17106.2188 - val_mean_squared_error: 17106.2188 - val_mean_squared_logarithmic_error: 0.8371\n",
      "Epoch 10/100\n",
      "12250/12250 [==============================] - 13s 1ms/step - loss: 14826.1904 - mean_squared_error: 14826.1904 - mean_squared_logarithmic_error: 0.8050 - val_loss: 17525.0078 - val_mean_squared_error: 17525.0078 - val_mean_squared_logarithmic_error: 0.8847\n",
      "Epoch 11/100\n",
      "12250/12250 [==============================] - 13s 1ms/step - loss: 14772.2588 - mean_squared_error: 14772.2588 - mean_squared_logarithmic_error: 0.7959 - val_loss: 16821.1270 - val_mean_squared_error: 16821.1270 - val_mean_squared_logarithmic_error: 0.8567\n",
      "Epoch 12/100\n",
      "12250/12250 [==============================] - 14s 1ms/step - loss: 14419.9902 - mean_squared_error: 14419.9902 - mean_squared_logarithmic_error: 0.7895 - val_loss: 16199.9102 - val_mean_squared_error: 16199.9102 - val_mean_squared_logarithmic_error: 0.9034510.8047 - mean_squared_e\n",
      "Epoch 13/100\n",
      "12250/12250 [==============================] - 14s 1ms/step - loss: 14179.8350 - mean_squared_error: 14179.8350 - mean_squared_logarithmic_error: 0.7850 - val_loss: 17394.2324 - val_mean_squared_error: 17394.2324 - val_mean_squared_logarithmic_error: 0.9077 - loss: 14003.6006 - mean_squared_error: 14003.6006 - mean_squared_logarithmic\n",
      "Epoch 14/100\n",
      "12250/12250 [==============================] - 14s 1ms/step - loss: 14011.7227 - mean_squared_error: 14011.7227 - mean_squared_logarithmic_error: 0.7817 - val_loss: 15623.8320 - val_mean_squared_error: 15623.8320 - val_mean_squared_logarithmic_error: 0.8367\n",
      "Epoch 15/100\n",
      "12250/12250 [==============================] - 14s 1ms/step - loss: 13648.7070 - mean_squared_error: 13648.7070 - mean_squared_logarithmic_error: 0.7733 - val_loss: 15007.6729 - val_mean_squared_error: 15007.6729 - val_mean_squared_logarithmic_error: 0.7868\n",
      "Epoch 16/100\n",
      "12250/12250 [==============================] - 13s 1ms/step - loss: 13471.5947 - mean_squared_error: 13471.5947 - mean_squared_logarithmic_error: 0.7707 - val_loss: 19536.6484 - val_mean_squared_error: 19536.6484 - val_mean_squared_logarithmic_error: 0.9418\n",
      "Epoch 17/100\n",
      "12250/12250 [==============================] - 13s 1ms/step - loss: 13097.1533 - mean_squared_error: 13097.1533 - mean_squared_logarithmic_error: 0.7636 - val_loss: 15158.9316 - val_mean_squared_error: 15158.9316 - val_mean_squared_logarithmic_error: 0.7759\n",
      "Epoch 18/100\n",
      "12250/12250 [==============================] - 13s 1ms/step - loss: 12799.9355 - mean_squared_error: 12799.9355 - mean_squared_logarithmic_error: 0.7636 - val_loss: 14221.8252 - val_mean_squared_error: 14221.8252 - val_mean_squared_logarithmic_error: 0.8275\n",
      "Epoch 19/100\n",
      "12250/12250 [==============================] - 13s 1ms/step - loss: 12710.9785 - mean_squared_error: 12710.9785 - mean_squared_logarithmic_error: 0.7539 - val_loss: 15138.9414 - val_mean_squared_error: 15138.9414 - val_mean_squared_logarithmic_error: 0.8623\n",
      "Epoch 20/100\n",
      "12250/12250 [==============================] - 14s 1ms/step - loss: 12680.5918 - mean_squared_error: 12680.5918 - mean_squared_logarithmic_error: 0.7542 - val_loss: 15171.6445 - val_mean_squared_error: 15171.6445 - val_mean_squared_logarithmic_error: 0.7889854.2812 - mean_ - ETA: 8s - loss: 11831.4414 - mean_squared_error: 1183\n",
      "Epoch 21/100\n",
      "12250/12250 [==============================] - 13s 1ms/step - loss: 12571.7617 - mean_squared_error: 12571.7617 - mean_squared_logarithmic_error: 0.7490 - val_loss: 15578.0967 - val_mean_squared_error: 15578.0967 - val_mean_squared_logarithmic_error: 0.8434\n",
      "Epoch 22/100\n",
      "12250/12250 [==============================] - 12s 1ms/step - loss: 12222.3857 - mean_squared_error: 12222.3857 - mean_squared_logarithmic_error: 0.7497 - val_loss: 14552.8809 - val_mean_squared_error: 14552.8809 - val_mean_squared_logarithmic_error: 0.7533\n",
      "Epoch 23/100\n",
      "12250/12250 [==============================] - 14s 1ms/step - loss: 12493.0146 - mean_squared_error: 12493.0146 - mean_squared_logarithmic_error: 0.7597 - val_loss: 14402.8330 - val_mean_squared_error: 14402.8330 - val_mean_squared_logarithmic_error: 0.7681\n",
      "Epoch 24/100\n",
      "12250/12250 [==============================] - 14s 1ms/step - loss: 12271.0674 - mean_squared_error: 12271.0674 - mean_squared_logarithmic_error: 0.7512 - val_loss: 15151.6328 - val_mean_squared_error: 15151.6328 - val_mean_squared_logarithmic_error: 0.7745\n",
      "Epoch 25/100\n",
      "12250/12250 [==============================] - 13s 1ms/step - loss: 12122.7676 - mean_squared_error: 12122.7676 - mean_squared_logarithmic_error: 0.7441 - val_loss: 14547.4648 - val_mean_squared_error: 14547.4648 - val_mean_squared_logarithmic_error: 0.7917\n",
      "Epoch 26/100\n",
      "12250/12250 [==============================] - 13s 1ms/step - loss: 11739.6680 - mean_squared_error: 11739.6680 - mean_squared_logarithmic_error: 0.7451 - val_loss: 14159.9268 - val_mean_squared_error: 14159.9268 - val_mean_squared_logarithmic_error: 0.8626\n",
      "Epoch 27/100\n",
      "12250/12250 [==============================] - 14s 1ms/step - loss: 11665.0293 - mean_squared_error: 11665.0293 - mean_squared_logarithmic_error: 0.7386 - val_loss: 14321.8564 - val_mean_squared_error: 14321.8564 - val_mean_squared_logarithmic_error: 0.7586\n",
      "Epoch 28/100\n",
      "12250/12250 [==============================] - 15s 1ms/step - loss: 11455.2930 - mean_squared_error: 11455.2930 - mean_squared_logarithmic_error: 0.7410 - val_loss: 15780.3809 - val_mean_squared_error: 15780.3809 - val_mean_squared_logarithmic_error: 0.8774n_squared_error: 11574.1230 - mean_squared_l\n",
      "Epoch 29/100\n",
      "12250/12250 [==============================] - 14s 1ms/step - loss: 11291.3389 - mean_squared_error: 11291.3389 - mean_squared_logarithmic_error: 0.7416 - val_loss: 14910.6816 - val_mean_squared_error: 14910.6816 - val_mean_squared_logarithmic_error: 0.8781 - mean_squared_error: 7491.7812 - mean_squared_logarithmic - ETA:  - ETA: 1s - loss: 11311.1934 - mean_squared_error: 11311.1934 - mean_squared_logarithmic_er - ETA: 0s - loss: 11350.2139 - mean_squared_error: 11350.2139 - mean_squared_logarithmic_\n",
      "Epoch 30/100\n",
      "12250/12250 [==============================] - 14s 1ms/step - loss: 11253.2588 - mean_squared_error: 11253.2588 - mean_squared_logarithmic_error: 0.7373 - val_loss: 13825.5010 - val_mean_squared_error: 13825.5010 - val_mean_squared_logarithmic_error: 0.7980\n",
      "Epoch 31/100\n",
      "12250/12250 [==============================] - 15s 1ms/step - loss: 11073.0830 - mean_squared_error: 11073.0830 - mean_squared_logarithmic_error: 0.7308 - val_loss: 13921.9424 - val_mean_squared_error: 13921.9424 - val_mean_squared_logarithmic_error: 0.7875_ - ETA: 8s - loss: 11211.4844 - mean_squared_error: 11211.4844 - mean_squared_logarit - ETA: 7s - loss: 11159.9414 - mean_squared_error: 11159.9414 - mean_squared_logarithmic_error: 0.734 - ETA: 7s - loss: 11106 - ETA: 3s - loss: 11180.1621 - mean_squared_error: 11180.1621 - mean_squared_ - ETA: 2s - loss: 11113.7793 - mean_squared_error: 11113.7793 - mean_squared_logarithmic_err - ETA: 1s - loss: 11233.1943 - mean_squared_error: 11233.1943 - mean_squared_lo - ETA: 0s - loss: 11202.2812 - mean_squared_error: 11202.2812 - mean_squared_logarithmic_\n",
      "Epoch 32/100\n",
      "12250/12250 [==============================] - 15s 1ms/step - loss: 11042.8379 - mean_squared_error: 11042.8379 - mean_squared_logarithmic_error: 0.7285 - val_loss: 13997.6270 - val_mean_squared_error: 13997.6270 - val_mean_squared_logarithmic_error: 0.7638ean_squared_logarithmic - ETA: 8s - loss: 12058.34 - ETA: 4s - loss: 11098.1455 - mean_squared_error: 11098.1455 - mean_squared_logarithm - ETA: 3s - loss: 11175.022\n",
      "Epoch 33/100\n",
      "12250/12250 [==============================] - 15s 1ms/step - loss: 10828.5684 - mean_squared_error: 10828.5684 - mean_squared_logarithmic_error: 0.7334 - val_loss: 14628.7891 - val_mean_squared_error: 14628.7891 - val_mean_squared_logarithmic_error: 0.7839- mean_squared_logarithmic - ETA: 4\n",
      "Epoch 34/100\n",
      "12250/12250 [==============================] - 15s 1ms/step - loss: 10685.2773 - mean_squared_error: 10685.2773 - mean_squared_logarithmic_error: 0.7229 - val_loss: 13480.5410 - val_mean_squared_error: 13480.5410 - val_mean_squared_logarithmic_error: 0.7233\n",
      "Epoch 35/100\n",
      "12250/12250 [==============================] - 15s 1ms/step - loss: 10463.2002 - mean_squared_error: 10463.2002 - mean_squared_logarithmic_error: 0.7205 - val_loss: 13752.1494 - val_mean_squared_error: 13752.1494 - val_mean_squared_logarithmic_error: 0.7508\n",
      "Epoch 36/100\n",
      "12250/12250 [==============================] - 15s 1ms/step - loss: 10480.7578 - mean_squared_error: 10480.7578 - mean_squared_logarithmic_error: 0.7246 - val_loss: 14404.8535 - val_mean_squared_error: 14404.8535 - val_mean_squared_logarithmic_error: 0.746635 - mean_squared_error: 10486.5635 - mean_ - ETA: 0s - loss: 10491.7363 - mean_squared_error: 10491.7363 - mean_squared_logarithmic_error: 0.\n",
      "Epoch 37/100\n",
      "12250/12250 [==============================] - 15s 1ms/step - loss: 10467.9395 - mean_squared_error: 10467.9395 - mean_squared_logarithmic_error: 0.7174 - val_loss: 14067.1758 - val_mean_squared_error: 14067.1758 - val_mean_squared_logarithmic_error: 0.780717 - mean_squared_error: 10919.7217 -  - ETA: 5s - loss: 10886.5566 - mean_squared_error: 10886.5566 - mean_squared_logarithmic_error: 0.726 - ETA: 5s - loss: 10886.3936 - mean_squared_error: 10886.3936 - mean_squared_logarithm - ETA: 4s - loss: 10546.1426 - mean_squared_error: 10546.1426 - mean_squared_lo - ETA: 3s - loss: 10656.4600 - mean_squared_error: 10656.4600 - mean_squared_logari - ETA: 2s - loss: 10491.8242 - mean_squared_error: 10491.8242 - mean_squared_logarit - ETA: 1s - loss: 10495.5195 - mean_squared_error: 10495.5195 - mean_squared_lo\n",
      "Epoch 38/100\n",
      "12250/12250 [==============================] - 15s 1ms/step - loss: 10231.1338 - mean_squared_error: 10231.1338 - mean_squared_logarithmic_error: 0.7282 - val_loss: 13438.1543 - val_mean_squared_error: 13438.1543 - val_mean_squared_logarithmic_error: 0.8566mean_squared_error: 9281. - ETA: 5s - loss: 9926.1611 - mean_squared_error: 9926.1611 - mean_squared_logarithmic_error: 0 - ETA: 5s - loss: 10026.3271 - mean_squared_error: 10026.3271 - mean_squared_logarithmic_error: - ETA: 4s - loss: 9961.2500 - mean_squared_error: 99 - ETA: 2s - loss: 10203.4980 - mean_squared_error: 10203.4980 - ETA: 0s - loss: 10245.1963 - mean_squared_error: 10245.1963 - mean_squared_logarithmic_error:\n",
      "Epoch 39/100\n",
      "12250/12250 [==============================] - 15s 1ms/step - loss: 10049.2139 - mean_squared_error: 10049.2139 - mean_squared_logarithmic_error: 0.7276 - val_loss: 14449.8545 - val_mean_squared_error: 14449.8545 - val_mean_squared_logarithmic_error: 0.8429s - loss: 9959.9795 - mean_squared_error: 9959.9795 - mean_squared_logarithmic_error:  - ETA: 0s - loss: 10047.5527 - mean_squared_error: 10047.5527 - mean_squared_logarithmic_error: 0.72\n",
      "Epoch 40/100\n",
      "12250/12250 [==============================] - 14s 1ms/step - loss: 10129.5234 - mean_squared_error: 10129.5234 - mean_squared_logarithmic_error: 0.7239 - val_loss: 13967.8340 - val_mean_squared_error: 13967.8340 - val_mean_squared_logarithmic_error: 0.8090\n",
      "Epoch 41/100\n",
      "12250/12250 [==============================] - 14s 1ms/step - loss: 9905.9912 - mean_squared_error: 9905.9912 - mean_squared_logarithmic_error: 0.7091 - val_loss: 13212.9844 - val_mean_squared_error: 13212.9844 - val_mean_squared_logarithmic_error: 0.7885\n",
      "Epoch 42/100\n",
      "12250/12250 [==============================] - 15s 1ms/step - loss: 9670.7178 - mean_squared_error: 9670.7178 - mean_squared_logarithmic_error: 0.7150 - val_loss: 14162.2197 - val_mean_squared_error: 14162.2197 - val_mean_squared_logarithmic_error: 0.7737.7422 - mean_squared_error: 12028.7422 - mean_s - ETA: 10s - loss: 10661.5742 - mean_s - ETA: 1s - loss: 9735.8174 - mean_squared_error: 9735.8174 - mean_squared_logarithmic_error: 0.710 - ETA: 1s - loss: 9702.3223 - mean_squared_error: 9702.3223 - mean_squared_logarithmic_error: 0.711 - ETA: 1s - loss: 9671.6768 - mean_squared_error: 9671.6768 - mean_squared_logarithmic_error: 0. - ETA: 1s - loss: 9679.7246 - mean_squared_error: 9679.7246 - mean_s\n",
      "Epoch 43/100\n",
      "12250/12250 [==============================] - 15s 1ms/step - loss: 9912.0342 - mean_squared_error: 9912.0342 - mean_squared_logarithmic_error: 0.7115 - val_loss: 13154.9990 - val_mean_squared_error: 13154.9990 - val_mean_squared_logarithmic_error: 0.7534_squared\n",
      "Epoch 44/100\n",
      "12250/12250 [==============================] - 15s 1ms/step - loss: 9430.4482 - mean_squared_error: 9430.4482 - mean_squared_logarithmic_error: 0.7130 - val_loss: 13360.6777 - val_mean_squared_error: 13360.6777 - val_mean_squared_logarithmic_error: 0.7589\n",
      "Epoch 45/100\n",
      "12250/12250 [==============================] - 15s 1ms/step - loss: 9470.0537 - mean_squared_error: 9470.0537 - mean_squared_logarithmic_error: 0.7111 - val_loss: 14170.5811 - val_mean_squared_error: 14170.5811 - val_mean_squared_logarithmic_error: 0.7899\n",
      "Epoch 46/100\n",
      "12250/12250 [==============================] - 15s 1ms/step - loss: 9526.6104 - mean_squared_error: 9526.6104 - mean_squared_logarithmic_error: 0.7086 - val_loss: 12998.0049 - val_mean_squared_error: 12998.0049 - val_mean_squared_logarithmic_error: 0.7864 8982.0713 - mean_ - ETA: 2s - loss: 9220.6914 - mean_squared_error: 9220.6914 - mean_squared_logarithmic_error: 0.6 - ETA: 1s - loss: 9229.0410 - mean_squared_error: 9229.0410 - m\n",
      "Epoch 47/100\n"
     ]
    },
    {
     "name": "stdout",
     "output_type": "stream",
     "text": [
      "12250/12250 [==============================] - 14s 1ms/step - loss: 9410.3867 - mean_squared_error: 9410.3867 - mean_squared_logarithmic_error: 0.7023 - val_loss: 14345.4111 - val_mean_squared_error: 14345.4111 - val_mean_squared_logarithmic_error: 0.7290\n",
      "Epoch 48/100\n",
      "12250/12250 [==============================] - 15s 1ms/step - loss: 9374.6602 - mean_squared_error: 9374.6602 - mean_squared_logarithmic_error: 0.7008 - val_loss: 13787.4775 - val_mean_squared_error: 13787.4775 - val_mean_squared_logarithmic_error: 0.7180 - loss: 9257.0381 - mean_squared_error: 9257.0381 - mean_squared_logarithmic_error: 0.66 - ETA: 10 - ETA: 0s - loss: 9529.2656 - mean_squared_error: 9529.2656 - mean_squared_logarithm\n",
      "Epoch 49/100\n",
      "12250/12250 [==============================] - 15s 1ms/step - loss: 9329.9092 - mean_squared_error: 9329.9092 - mean_squared_logarithmic_error: 0.7039 - val_loss: 13187.5439 - val_mean_squared_error: 13187.5439 - val_mean_squared_logarithmic_error: 0.7343ed_error: 9338.7959 - mean_squared_logarithmic_error: 0.70\n",
      "Epoch 50/100\n",
      "12250/12250 [==============================] - 15s 1ms/step - loss: 9316.3975 - mean_squared_error: 9316.3975 - mean_squared_logarithmic_error: 0.6995 - val_loss: 13006.8203 - val_mean_squared_error: 13006.8203 - val_mean_squared_logarithmic_error: 0.7983\n",
      "Epoch 51/100\n",
      "12250/12250 [==============================] - 15s 1ms/step - loss: 9096.9805 - mean_squared_error: 9096.9805 - mean_squared_logarithmic_error: 0.7011 - val_loss: 13791.6758 - val_mean_squared_error: 13791.6758 - val_mean_squared_logarithmic_error: 0.7672s: 8098.2651 - mean_squared_error: 8098. - ETA: 7s - loss: 8479.8604 - mean_squared_error: \n",
      "Epoch 52/100\n",
      "12250/12250 [==============================] - 15s 1ms/step - loss: 9025.2959 - mean_squared_error: 9025.2959 - mean_squared_logarithmic_error: 0.6958 - val_loss: 13439.8428 - val_mean_squared_error: 13439.8428 - val_mean_squared_logarithmic_error: 0.7523\n",
      "Epoch 53/100\n",
      "12250/12250 [==============================] - 14s 1ms/step - loss: 8940.8145 - mean_squared_error: 8940.8145 - mean_squared_logarithmic_error: 0.6972 - val_loss: 14019.7695 - val_mean_squared_error: 14019.7695 - val_mean_squared_logarithmic_error: 0.8284\n",
      "Epoch 54/100\n",
      "12250/12250 [==============================] - 15s 1ms/step - loss: 8969.6270 - mean_squared_error: 8969.6270 - mean_squared_logarithmic_error: 0.6944 - val_loss: 13977.2402 - val_mean_squared_error: 13977.2402 - val_mean_squared_logarithmic_error: 0.84149 - mean_squared_error: 9209.1709 - mea - ETA: 7s - loss: 9429.1055 - mean_sq - ETA: 4s - loss: 9252.0352 - mean_squared_error: 9252.0352 - mean_squared_lo - ETA: 2s - loss: 9115.2236 - mean_squared_error: 9115.2236 - mean_squared_logarithmic_erro - ETA: 2s - loss: 9037.3213 - mean_squared_error: 9037.3213 - mean_squared_logar - ETA: 1s - loss: 8834.9238 - mean_squared_error: 8834.9238 - mean_squared_logarithmic_error: 0.68 - ETA: 1s - loss: 8817.2842 - mean_squared_error: 8817.2842 - mean_square\n",
      "Epoch 55/100\n",
      "12250/12250 [==============================] - 15s 1ms/step - loss: 8797.1885 - mean_squared_error: 8797.1885 - mean_squared_logarithmic_error: 0.6927 - val_loss: 12548.7080 - val_mean_squared_error: 12548.7080 - val_mean_squared_logarithmic_error: 0.7651uared_error: 8866.5674 - mean_squar\n",
      "Epoch 56/100\n",
      "12250/12250 [==============================] - 15s 1ms/step - loss: 8730.0967 - mean_squared_error: 8730.0967 - mean_squared_logarithmic_error: 0.6899 - val_loss: 12848.0400 - val_mean_squared_error: 12848.0400 - val_mean_squared_logarithmic_error: 0.8278mean_squared - ETA: 4s - loss: 8413.7373 - mean_squared_error: 8413.7373 - mean_squared_logarithmic_error - ETA: 3s - loss: 8486.7871 - mean_squared_error: 8486.7871 -  - ETA: 1s - loss: 8411.9600 - mean_squared_error: 8411.9600 - mean_squared_logarithmic_ - ETA: 1s - loss: 8412.2344 - mean_squared_error: 8412.2344 - mean_squared_log\n",
      "Epoch 57/100\n",
      "12250/12250 [==============================] - 15s 1ms/step - loss: 8717.1367 - mean_squared_error: 8717.1367 - mean_squared_logarithmic_error: 0.6921 - val_loss: 12882.4912 - val_mean_squared_error: 12882.4912 - val_mean_squared_logarithmic_error: 0.7943_error: 8701.6982 - mean_squared_logarithmic_error: 0.69\n",
      "Epoch 58/100\n",
      "12250/12250 [==============================] - 15s 1ms/step - loss: 8585.6895 - mean_squared_error: 8585.6895 - mean_squared_logarithmic_error: 0.6859 - val_loss: 12541.2666 - val_mean_squared_error: 12541.2666 - val_mean_squared_logarithmic_error: 0.7581 - mean_squared_error: - ETA: 4s - loss: - ETA: 0s - loss: 8599.0088 - mean_squared_error: 8599.0088 - mean_squared_logarithmic_error: 0.6\n",
      "Epoch 59/100\n",
      "12250/12250 [==============================] - 15s 1ms/step - loss: 8605.6885 - mean_squared_error: 8605.6885 - mean_squared_logarithmic_error: 0.6833 - val_loss: 13938.7607 - val_mean_squared_error: 13938.7607 - val_mean_squared_logarithmic_error: 0.72145234 - mean_squared_error: 8613.5234 - mean_squared_logarithmic_error\n",
      "Epoch 60/100\n",
      "12250/12250 [==============================] - 15s 1ms/step - loss: 8440.6689 - mean_squared_error: 8440.6689 - mean_squared_logarithmic_error: 0.6917 - val_loss: 13605.3623 - val_mean_squared_error: 13605.3623 - val_mean_squared_logarithmic_error: 0.736932 - mean_squared_error: 8306.2832 - mean_squared_logarithmic_error: 0 - ETA: 8s - loss: 8178.9365 - mean_squared_error: 8178.9365 - m - ETA: 6s - loss: 8372. - ETA: 2s - loss: 8215.4551 - mean_squared_error: 8215.4551 - mean_squared_logarithmic - ETA: 2s - loss: 8482.0957 - mean_squared_error: 8482.0957\n",
      "Epoch 61/100\n",
      "12250/12250 [==============================] - 15s 1ms/step - loss: 8514.9971 - mean_squared_error: 8514.9971 - mean_squared_logarithmic_error: 0.6880 - val_loss: 12692.1221 - val_mean_squared_error: 12692.1221 - val_mean_squared_logarithmic_error: 0.8026.6406 - mean_squa - ETA: 0s - loss: 8705.9004 - mean_squared_error: 8705.9004 - mean_squared_logar\n",
      "Epoch 62/100\n",
      "12250/12250 [==============================] - 14s 1ms/step - loss: 8460.7930 - mean_squared_error: 8460.7930 - mean_squared_logarithmic_error: 0.6911 - val_loss: 12539.3271 - val_mean_squared_error: 12539.3271 - val_mean_squared_logarithmic_error: 0.75992.6777 - mean_squared_error: 8662.6777 - mean_squared_log\n",
      "Epoch 63/100\n",
      "12250/12250 [==============================] - 15s 1ms/step - loss: 8337.1621 - mean_squared_error: 8337.1621 - mean_squared_logarithmic_error: 0.6918 - val_loss: 12347.8516 - val_mean_squared_error: 12347.8516 - val_mean_squared_logarithmic_error: 0.8004\n",
      "Epoch 64/100\n",
      "12250/12250 [==============================] - 15s 1ms/step - loss: 8348.2598 - mean_squared_error: 8348.2598 - mean_squared_logarithmic_error: 0.6877 - val_loss: 13190.5938 - val_mean_squared_error: 13190.5938 - val_mean_squared_logarithmic_error: 0.8422s - loss: 7889.8975 - mean_squared_error: 7889.8975 - mean_squared_logarithmic_e - ETA: 2s - loss: 7884.4971 - mean_squared_error: 7884.4971 - mean_squared_logarithmic_error: 0.6 - ETA: 1s - loss: 7940.9614 - mean_squared_error: 7940.9614 - mean_squared_log - ETA: 0s - loss: 8239.3730 - mean_squared_error: 8239.3730 - mean_squared_logarithm\n",
      "Epoch 65/100\n",
      "12250/12250 [==============================] - 14s 1ms/step - loss: 8148.2202 - mean_squared_error: 8148.2202 - mean_squared_logarithmic_error: 0.6864 - val_loss: 13108.1611 - val_mean_squared_error: 13108.1611 - val_mean_squared_logarithmic_error: 0.8039\n",
      "Epoch 66/100\n",
      "12250/12250 [==============================] - 15s 1ms/step - loss: 8156.8672 - mean_squared_error: 8156.8672 - mean_squared_logarithmic_error: 0.6792 - val_loss: 13641.7266 - val_mean_squared_error: 13641.7266 - val_mean_squared_logarithmic_error: 0.7828\n",
      "Epoch 67/100\n",
      "12250/12250 [==============================] - 15s 1ms/step - loss: 8041.5156 - mean_squared_error: 8041.5156 - mean_squared_logarithmic_error: 0.6849 - val_loss: 13130.4688 - val_mean_squared_error: 13130.4688 - val_mean_squared_logarithmic_error: 0.7755\n",
      "Epoch 68/100\n",
      "12250/12250 [==============================] - 15s 1ms/step - loss: 8048.5249 - mean_squared_error: 8048.5249 - mean_squared_logarithmic_error: 0.6777 - val_loss: 13078.4043 - val_mean_squared_error: 13078.4043 - val_mean_squared_logarithmic_error: 0.8174quare - ETA: 2s - loss: 8277.2822 - mean_squared_e\n",
      "Epoch 69/100\n",
      "12250/12250 [==============================] - 15s 1ms/step - loss: 7966.1216 - mean_squared_error: 7966.1216 - mean_squared_logarithmic_error: 0.6774 - val_loss: 13308.4541 - val_mean_squared_error: 13308.4541 - val_mean_squared_logarithmic_error: 0.76424.8574 - mean_squared_error: 7884.8574 - mean_sq - ETA: 4s - loss: 8140.1792 - mean_squared_error: 8140.1792 - ETA: 2s - loss: 8172.0518 - mean_squared_error: 8172.0518 - mea - ETA: 0s - loss: 7961.6792 - mean_squared_error: 7961.6792 - mean_squared_logar\n",
      "Epoch 70/100\n",
      "12250/12250 [==============================] - 14s 1ms/step - loss: 7994.3091 - mean_squared_error: 7994.3091 - mean_squared_logarithmic_error: 0.6796 - val_loss: 12414.7744 - val_mean_squared_error: 12414.7744 - val_mean_squared_logarithmic_error: 0.7826\n",
      "Epoch 71/100\n",
      "12250/12250 [==============================] - 14s 1ms/step - loss: 7957.1943 - mean_squared_error: 7957.1943 - mean_squared_logarithmic_error: 0.6772 - val_loss: 12518.6260 - val_mean_squared_error: 12518.6260 - val_mean_squared_logarithmic_error: 0.7399\n",
      "Epoch 72/100\n",
      "12250/12250 [==============================] - 15s 1ms/step - loss: 7960.3926 - mean_squared_error: 7960.3926 - mean_squared_logarithmic_error: 0.6788 - val_loss: 12352.6084 - val_mean_squared_error: 12352.6084 - val_mean_squared_logarithmic_error: 0.7748r: 8230.4395 - mean_squared_logarithmic_error: 0.67 - ETA: 5s - l - ETA: 1s - loss: 8029.6313 - mean_squared_error: 8029.6313 - mean_sq\n",
      "Epoch 73/100\n",
      "12250/12250 [==============================] - 15s 1ms/step - loss: 7758.0400 - mean_squared_error: 7758.0400 - mean_squared_logarithmic_error: 0.6825 - val_loss: 12362.0576 - val_mean_squared_error: 12362.0576 - val_mean_squared_logarithmic_error: 0.8018s: 7763.7075 - mean_squared_error: 7763.7075 - mean_squared_logarithmic_error: 0\n",
      "Epoch 74/100\n",
      "12250/12250 [==============================] - 15s 1ms/step - loss: 7738.6479 - mean_squared_error: 7738.6479 - mean_squared_logarithmic_error: 0.6788 - val_loss: 12109.2734 - val_mean_squared_error: 12109.2734 - val_mean_squared_logarithmic_error: 0.7206ared_error: 8073.5332 - mean_squar - ETA: 3s - loss: 7940.6787 - mean_squared_error: 7940.6787 - mean_squared_logarit - ETA: 2s - loss: 7922.0381 - mean_squared_error: 7922.\n",
      "Epoch 75/100\n",
      "12250/12250 [==============================] - 15s 1ms/step - loss: 7685.9219 - mean_squared_error: 7685.9219 - mean_squared_logarithmic_error: 0.6748 - val_loss: 11625.7344 - val_mean_squared_error: 11625.7344 - val_mean_squared_logarithmic_error: 0.7333_squared_error: 7945.5708 - mean - ETA: 3s - loss: 7828.5669 - mean_squared_error: 7828.56 - ETA: 1s - loss: 7689.3638 - mean_squared_error: 7689.3638 - mean_squared_logarithm - ETA: 0s - loss: 7731.5879 - mean_squared_error: 7731.5879 - mean_squared_logarithmic_\n",
      "Epoch 76/100\n",
      "12250/12250 [==============================] - 15s 1ms/step - loss: 7606.3179 - mean_squared_error: 7606.3179 - mean_squared_logarithmic_error: 0.6729 - val_loss: 12631.2217 - val_mean_squared_error: 12631.2217 - val_mean_squared_logarithmic_error: 0.7494red_error: 8144.4683 - mean_squared_logari - ETA: 3s - loss: 7843.0562 - mean_squared_error: 7843.0562 - mean_squared_loga - ETA: 2s - loss: 7893.2651 - mean_squared_error: 7893.2651 - mean_squared_logarithm - ETA: 1s - loss: 7799.5977 - mean_squared_error: 7799.5977 - mean_s\n",
      "Epoch 77/100\n",
      "12250/12250 [==============================] - 14s 1ms/step - loss: 7575.2563 - mean_squared_error: 7575.2563 - mean_squared_logarithmic_error: 0.6726 - val_loss: 11784.1299 - val_mean_squared_error: 11784.1299 - val_mean_squared_logarithmic_error: 0.7393ed_logarithmic_error: 0.67 - ETA: 1s - loss: 7657.2251 - mean_squared_error: 7657.2251 - mean_squared_logarithmic_error: 0.674 - ETA: 1s - loss: 7651.5059 - mean_squared_error: 7651.5059 - mean_squared\n",
      "Epoch 78/100\n",
      "12250/12250 [==============================] - 14s 1ms/step - loss: 7490.1885 - mean_squared_error: 7490.1885 - mean_squared_logarithmic_error: 0.6704 - val_loss: 12204.1387 - val_mean_squared_error: 12204.1387 - val_mean_squared_logarithmic_error: 0.8362\n",
      "Epoch 79/100\n",
      "12250/12250 [==============================] - 15s 1ms/step - loss: 7432.9575 - mean_squared_error: 7432.9575 - mean_squared_logarithmic_error: 0.6674 - val_loss: 11894.5479 - val_mean_squared_error: 11894.5479 - val_mean_squared_logarithmic_error: 0.7681 mean_squared_logarithmic_erro - ETA: 3s - loss: 7485.9678 - mean_squared_error: 7485.9678 - mean_squared_logarit - ETA: 2s - loss: 7521.7739 - mean_squared_err\n",
      "Epoch 80/100\n",
      "12250/12250 [==============================] - 15s 1ms/step - loss: 7430.5596 - mean_squared_error: 7430.5596 - mean_squared_logarithmic_error: 0.6713 - val_loss: 12272.7012 - val_mean_squared_error: 12272.7012 - val_mean_squared_logarithmic_error: 0.8346\n",
      "Epoch 81/100\n",
      "12250/12250 [==============================] - 15s 1ms/step - loss: 7425.3564 - mean_squared_error: 7425.3564 - mean_squared_logarithmic_error: 0.6722 - val_loss: 11754.8457 - val_mean_squared_error: 11754.8457 - val_mean_squared_logarithmic_error: 0.7838- mean_squared_logarithmic_error: 0.674 - ETA: 9s - loss: 7865.1865 - mean_squared_error: 7865.1865 - mean_squared_loga - ETA: 8s - loss: 7627.3 - ETA: 4s - loss: 7290.3462 - mean_squared_error: 7290.3462 - mean_squared - ETA: 3s - loss: 7196.0869 - mean_squared_error: 7196.0869 - mean_squared_logarit - ETA: 2s - loss: 7389.7075 - mean_squared_error: 7389.7075 - mean_squared_logarithmic_error: 0. - ETA: 2s - loss: 7360.8237 - mean_squared_error: 736\n",
      "Epoch 82/100\n",
      "12250/12250 [==============================] - 14s 1ms/step - loss: 7348.1411 - mean_squared_error: 7348.1411 - mean_squared_logarithmic_error: 0.6718 - val_loss: 11990.4551 - val_mean_squared_error: 11990.4551 - val_mean_squared_logarithmic_error: 0.7619 7378.8491 - mean_squared_error: 7378.8491 - mean_squared_logari\n",
      "Epoch 83/100\n",
      "12250/12250 [==============================] - 15s 1ms/step - loss: 7271.6484 - mean_squared_error: 7271.6484 - mean_squared_logarithmic_error: 0.6710 - val_loss: 12643.4541 - val_mean_squared_error: 12643.4541 - val_mean_squared_logarithmic_error: 0.7713\n",
      "Epoch 84/100\n",
      "12250/12250 [==============================] - 14s 1ms/step - loss: 7192.1626 - mean_squared_error: 7192.1626 - mean_squared_logarithmic_error: 0.6711 - val_loss: 14242.1865 - val_mean_squared_error: 14242.1865 - val_mean_squared_logarithmic_error: 0.7682n_squared_error: 7294.6211 - mean_squared_logarith - ETA: 3s - loss: 7432.0723\n",
      "Epoch 85/100\n",
      "12250/12250 [==============================] - 14s 1ms/step - loss: 7255.3560 - mean_squared_error: 7255.3560 - mean_squared_logarithmic_error: 0.6673 - val_loss: 12161.4678 - val_mean_squared_error: 12161.4678 - val_mean_squared_logarithmic_error: 0.7977s: 6572.7476 - mean_squared_error: 6572 - ETA: 8s - loss: 7114.5625 - mean_squared_error: 7114.5625 - mean_squared_logarithmi - ETA: 7s - loss: 6985.2144 - mean_squared_error - ETA:\n",
      "Epoch 86/100\n",
      "12250/12250 [==============================] - 15s 1ms/step - loss: 7220.6846 - mean_squared_error: 7220.6846 - mean_squared_logarithmic_error: 0.6694 - val_loss: 12557.1846 - val_mean_squared_error: 12557.1846 - val_mean_squared_logarithmic_error: 0.7610\n",
      "Epoch 87/100\n",
      "12250/12250 [==============================] - 15s 1ms/step - loss: 7121.8940 - mean_squared_error: 7121.8940 - mean_squared_logarithmic_error: 0.6711 - val_loss: 12244.5254 - val_mean_squared_error: 12244.5254 - val_mean_squared_logarithmic_error: 0.75100698 - mean_squared_logarithmic_error: 0\n",
      "Epoch 88/100\n"
     ]
    },
    {
     "name": "stdout",
     "output_type": "stream",
     "text": [
      "12250/12250 [==============================] - 15s 1ms/step - loss: 7178.2236 - mean_squared_error: 7178.2236 - mean_squared_logarithmic_error: 0.6645 - val_loss: 12558.0771 - val_mean_squared_error: 12558.0771 - val_mean_squared_logarithmic_error: 0.74547.5239 - mean_squared_error: 7097.5239 - mean_squared_log - ETA: 1s - loss: 7131.7427 - mean_squared_error: 7131.7427 - mean_squared_lo - ETA: 0s - loss: 7254.3804 - mean_squared_error: 7254.3804 - mean_squared_logarithmic_e\n",
      "Epoch 89/100\n",
      "12250/12250 [==============================] - 15s 1ms/step - loss: 7067.2778 - mean_squared_error: 7067.2778 - mean_squared_logarithmic_error: 0.6644 - val_loss: 12050.9268 - val_mean_squared_error: 12050.9268 - val_mean_squared_logarithmic_error: 0.7637ed_er - ETA: 5s - loss: 6481.3428 - mean_squared_e - ETA: 2s - loss: 6836.4131 - mean_squared_error: 68\n",
      "Epoch 90/100\n",
      "12250/12250 [==============================] - 15s 1ms/step - loss: 7093.1479 - mean_squared_error: 7093.1479 - mean_squared_logarithmic_error: 0.6680 - val_loss: 13219.5654 - val_mean_squared_error: 13219.5654 - val_mean_squared_logarithmic_error: 0.8053\n",
      "Epoch 91/100\n",
      "12250/12250 [==============================] - 14s 1ms/step - loss: 7039.3252 - mean_squared_error: 7039.3252 - mean_squared_logarithmic_error: 0.6616 - val_loss: 12081.0781 - val_mean_squared_error: 12081.0781 - val_mean_squared_logarithmic_error: 0.8342761.6489 - mean_squared_error: 7 - ETA: 3s - loss: 7422.6387 - mean_squared_error: 7422.6387 - mean_squared - ETA: 1s - loss: 7324.4536 - mean_squared_error: 7324.4536 - me\n",
      "Epoch 92/100\n",
      "12250/12250 [==============================] - 15s 1ms/step - loss: 6883.6665 - mean_squared_error: 6883.6665 - mean_squared_logarithmic_error: 0.6595 - val_loss: 11660.7275 - val_mean_squared_error: 11660.7275 - val_mean_squared_logarithmic_error: 0.725606.5039 - ETA: 3s - loss: 7114.1016 - mean_squared_error: 7114.1016 - mean_squared_logarithmic_error: 0. - ETA: 2s - loss: 7063.8560 - mean_squared_error: 7063.8560 - mean_squared_logarithmic_er - ETA: 2s - loss: 7075.4639 - mean_squared_error: 7075\n",
      "Epoch 93/100\n",
      "  255/12250 [..............................] - ETA: 11s - loss: 8945.4951 - mean_squared_error: 8945.4951 - mean_squared_logarithmic_error: 0.6098  "
     ]
    }
   ],
   "source": [
    "history_L4 = model_L4.fit(X_train_pca, y_train, batch_size=2, epochs=100, verbose=1, validation_split=0.3)"
   ]
  },
  {
   "cell_type": "code",
   "execution_count": null,
   "metadata": {},
   "outputs": [],
   "source": []
  },
  {
   "cell_type": "markdown",
   "metadata": {},
   "source": [
    "### double dense+200epoch"
   ]
  },
  {
   "cell_type": "code",
   "execution_count": null,
   "metadata": {
    "ExecuteTime": {
     "start_time": "2021-05-11T03:32:27.962Z"
    }
   },
   "outputs": [],
   "source": [
    "input_layer = Input(shape=(X_train_pca.shape[1],))\n",
    "dense_layer_1 = Dense(200, activation='relu')(input_layer)\n",
    "dense_layer_2 = Dense(100, activation='relu')(dense_layer_1)\n",
    "dense_layer_3 = Dense(50, activation='relu')(dense_layer_2)\n",
    "output = Dense(1)(dense_layer_3)\n",
    "\n",
    "model_e_200_d200 = Model(inputs=input_layer, outputs=output)\n",
    "model_e_200_d200.compile(loss=\"mean_squared_error\" , optimizer=\"adam\", metrics=[\"mean_squared_error\",\"mean_squared_logarithmic_error\"])"
   ]
  },
  {
   "cell_type": "code",
   "execution_count": null,
   "metadata": {
    "ExecuteTime": {
     "start_time": "2021-05-11T03:32:31.314Z"
    }
   },
   "outputs": [],
   "source": [
    "history_e200_d200 = model_e200_d200.fit(X_train_pca, y_train, batch_size=2, epochs=100, verbose=1, validation_split=0.3)"
   ]
  },
  {
   "cell_type": "code",
   "execution_count": null,
   "metadata": {},
   "outputs": [],
   "source": []
  },
  {
   "cell_type": "code",
   "execution_count": null,
   "metadata": {},
   "outputs": [],
   "source": []
  },
  {
   "cell_type": "markdown",
   "metadata": {},
   "source": [
    "# Fine tune selected model"
   ]
  },
  {
   "cell_type": "code",
   "execution_count": null,
   "metadata": {},
   "outputs": [],
   "source": []
  },
  {
   "cell_type": "markdown",
   "metadata": {},
   "source": [
    "## Cross_validation"
   ]
  },
  {
   "cell_type": "code",
   "execution_count": 106,
   "metadata": {
    "ExecuteTime": {
     "end_time": "2021-05-10T21:23:35.933634Z",
     "start_time": "2021-05-10T21:17:03.759534Z"
    }
   },
   "outputs": [
    {
     "name": "stderr",
     "output_type": "stream",
     "text": [
      "C:\\Users\\lzowe\\anaconda3\\lib\\site-packages\\sklearn\\model_selection\\_validation.py:531: DataConversionWarning: A column-vector y was passed when a 1d array was expected. Please change the shape of y to (n_samples,), for example using ravel().\n",
      "  estimator.fit(X_train, y_train, **fit_params)\n",
      "C:\\Users\\lzowe\\anaconda3\\lib\\site-packages\\sklearn\\model_selection\\_validation.py:531: DataConversionWarning: A column-vector y was passed when a 1d array was expected. Please change the shape of y to (n_samples,), for example using ravel().\n",
      "  estimator.fit(X_train, y_train, **fit_params)\n",
      "C:\\Users\\lzowe\\anaconda3\\lib\\site-packages\\sklearn\\model_selection\\_validation.py:531: DataConversionWarning: A column-vector y was passed when a 1d array was expected. Please change the shape of y to (n_samples,), for example using ravel().\n",
      "  estimator.fit(X_train, y_train, **fit_params)\n"
     ]
    },
    {
     "name": "stdout",
     "output_type": "stream",
     "text": [
      "CV accuracy scores: [0.77287256 0.75611395 0.75767496]\n",
      "CV accuracy: 0.762 +/- 0.008\n"
     ]
    }
   ],
   "source": [
    "from sklearn.model_selection import cross_val_score\n",
    "\n",
    "scores = cross_val_score(estimator=RandomForestRegressor(max_depth=None, random_state=42),\n",
    "                         X=X_train_pca,\n",
    "                         y=y_train,\n",
    "                         cv=3,\n",
    "                         n_jobs=1)\n",
    "print('CV accuracy scores: %s' % scores)\n",
    "print('CV accuracy: %.3f +/- %.3f' % (np.mean(scores), np.std(scores)))"
   ]
  },
  {
   "cell_type": "code",
   "execution_count": 107,
   "metadata": {
    "ExecuteTime": {
     "end_time": "2021-05-10T21:39:09.952954Z",
     "start_time": "2021-05-10T21:23:36.971524Z"
    }
   },
   "outputs": [
    {
     "name": "stderr",
     "output_type": "stream",
     "text": [
      "C:\\Users\\lzowe\\anaconda3\\lib\\site-packages\\sklearn\\model_selection\\_validation.py:531: DataConversionWarning: A column-vector y was passed when a 1d array was expected. Please change the shape of y to (n_samples,), for example using ravel().\n",
      "  estimator.fit(X_train, y_train, **fit_params)\n",
      "C:\\Users\\lzowe\\anaconda3\\lib\\site-packages\\sklearn\\model_selection\\_validation.py:531: DataConversionWarning: A column-vector y was passed when a 1d array was expected. Please change the shape of y to (n_samples,), for example using ravel().\n",
      "  estimator.fit(X_train, y_train, **fit_params)\n",
      "C:\\Users\\lzowe\\anaconda3\\lib\\site-packages\\sklearn\\model_selection\\_validation.py:531: DataConversionWarning: A column-vector y was passed when a 1d array was expected. Please change the shape of y to (n_samples,), for example using ravel().\n",
      "  estimator.fit(X_train, y_train, **fit_params)\n",
      "C:\\Users\\lzowe\\anaconda3\\lib\\site-packages\\sklearn\\model_selection\\_validation.py:531: DataConversionWarning: A column-vector y was passed when a 1d array was expected. Please change the shape of y to (n_samples,), for example using ravel().\n",
      "  estimator.fit(X_train, y_train, **fit_params)\n",
      "C:\\Users\\lzowe\\anaconda3\\lib\\site-packages\\sklearn\\model_selection\\_validation.py:531: DataConversionWarning: A column-vector y was passed when a 1d array was expected. Please change the shape of y to (n_samples,), for example using ravel().\n",
      "  estimator.fit(X_train, y_train, **fit_params)\n"
     ]
    },
    {
     "name": "stdout",
     "output_type": "stream",
     "text": [
      "CV accuracy scores: [0.81833149 0.79541575 0.77822127 0.7775064  0.7816467 ]\n",
      "CV accuracy: 0.790 +/- 0.015\n"
     ]
    }
   ],
   "source": [
    "from sklearn.model_selection import cross_val_score\n",
    "\n",
    "scores = cross_val_score(estimator=RandomForestRegressor(max_depth=None, random_state=42),\n",
    "                         X=X_train_pca,\n",
    "                         y=y_train,\n",
    "                         cv=5,\n",
    "                         n_jobs=1)\n",
    "print('CV accuracy scores: %s' % scores)\n",
    "print('CV accuracy: %.3f +/- %.3f' % (np.mean(scores), np.std(scores)))"
   ]
  },
  {
   "cell_type": "markdown",
   "metadata": {},
   "source": [
    "## validation curve vs learning curve"
   ]
  },
  {
   "cell_type": "code",
   "execution_count": 108,
   "metadata": {
    "ExecuteTime": {
     "end_time": "2021-05-10T21:44:14.704462Z",
     "start_time": "2021-05-10T21:39:10.452298Z"
    }
   },
   "outputs": [
    {
     "name": "stderr",
     "output_type": "stream",
     "text": [
      "C:\\Users\\lzowe\\anaconda3\\lib\\site-packages\\sklearn\\model_selection\\_validation.py:531: DataConversionWarning: A column-vector y was passed when a 1d array was expected. Please change the shape of y to (n_samples,), for example using ravel().\n",
      "  estimator.fit(X_train, y_train, **fit_params)\n",
      "C:\\Users\\lzowe\\anaconda3\\lib\\site-packages\\sklearn\\model_selection\\_validation.py:531: DataConversionWarning: A column-vector y was passed when a 1d array was expected. Please change the shape of y to (n_samples,), for example using ravel().\n",
      "  estimator.fit(X_train, y_train, **fit_params)\n",
      "C:\\Users\\lzowe\\anaconda3\\lib\\site-packages\\sklearn\\model_selection\\_validation.py:531: DataConversionWarning: A column-vector y was passed when a 1d array was expected. Please change the shape of y to (n_samples,), for example using ravel().\n",
      "  estimator.fit(X_train, y_train, **fit_params)\n",
      "C:\\Users\\lzowe\\anaconda3\\lib\\site-packages\\sklearn\\model_selection\\_validation.py:531: DataConversionWarning: A column-vector y was passed when a 1d array was expected. Please change the shape of y to (n_samples,), for example using ravel().\n",
      "  estimator.fit(X_train, y_train, **fit_params)\n"
     ]
    },
    {
     "ename": "KeyboardInterrupt",
     "evalue": "",
     "output_type": "error",
     "traceback": [
      "\u001b[1;31m---------------------------------------------------------------------------\u001b[0m",
      "\u001b[1;31mKeyboardInterrupt\u001b[0m                         Traceback (most recent call last)",
      "\u001b[1;32m<ipython-input-108-2e5e1d59944f>\u001b[0m in \u001b[0;36m<module>\u001b[1;34m\u001b[0m\n\u001b[0;32m      3\u001b[0m \u001b[1;33m\u001b[0m\u001b[0m\n\u001b[0;32m      4\u001b[0m \u001b[0mtrain_sizes\u001b[0m\u001b[1;33m,\u001b[0m \u001b[0mtrain_scores\u001b[0m\u001b[1;33m,\u001b[0m \u001b[0mtest_scores\u001b[0m \u001b[1;33m=\u001b[0m\u001b[0;31m\\\u001b[0m\u001b[1;33m\u001b[0m\u001b[1;33m\u001b[0m\u001b[0m\n\u001b[1;32m----> 5\u001b[1;33m                 learning_curve(estimator=RandomForestRegressor(max_depth=None, random_state=42),\n\u001b[0m\u001b[0;32m      6\u001b[0m                                \u001b[0mX\u001b[0m\u001b[1;33m=\u001b[0m\u001b[0mX_train_pca\u001b[0m\u001b[1;33m,\u001b[0m\u001b[1;33m\u001b[0m\u001b[1;33m\u001b[0m\u001b[0m\n\u001b[0;32m      7\u001b[0m                                \u001b[0my\u001b[0m\u001b[1;33m=\u001b[0m\u001b[0my_train\u001b[0m\u001b[1;33m,\u001b[0m\u001b[1;33m\u001b[0m\u001b[1;33m\u001b[0m\u001b[0m\n",
      "\u001b[1;32m~\\anaconda3\\lib\\site-packages\\sklearn\\utils\\validation.py\u001b[0m in \u001b[0;36minner_f\u001b[1;34m(*args, **kwargs)\u001b[0m\n\u001b[0;32m     71\u001b[0m                           FutureWarning)\n\u001b[0;32m     72\u001b[0m         \u001b[0mkwargs\u001b[0m\u001b[1;33m.\u001b[0m\u001b[0mupdate\u001b[0m\u001b[1;33m(\u001b[0m\u001b[1;33m{\u001b[0m\u001b[0mk\u001b[0m\u001b[1;33m:\u001b[0m \u001b[0marg\u001b[0m \u001b[1;32mfor\u001b[0m \u001b[0mk\u001b[0m\u001b[1;33m,\u001b[0m \u001b[0marg\u001b[0m \u001b[1;32min\u001b[0m \u001b[0mzip\u001b[0m\u001b[1;33m(\u001b[0m\u001b[0msig\u001b[0m\u001b[1;33m.\u001b[0m\u001b[0mparameters\u001b[0m\u001b[1;33m,\u001b[0m \u001b[0margs\u001b[0m\u001b[1;33m)\u001b[0m\u001b[1;33m}\u001b[0m\u001b[1;33m)\u001b[0m\u001b[1;33m\u001b[0m\u001b[1;33m\u001b[0m\u001b[0m\n\u001b[1;32m---> 73\u001b[1;33m         \u001b[1;32mreturn\u001b[0m \u001b[0mf\u001b[0m\u001b[1;33m(\u001b[0m\u001b[1;33m**\u001b[0m\u001b[0mkwargs\u001b[0m\u001b[1;33m)\u001b[0m\u001b[1;33m\u001b[0m\u001b[1;33m\u001b[0m\u001b[0m\n\u001b[0m\u001b[0;32m     74\u001b[0m     \u001b[1;32mreturn\u001b[0m \u001b[0minner_f\u001b[0m\u001b[1;33m\u001b[0m\u001b[1;33m\u001b[0m\u001b[0m\n\u001b[0;32m     75\u001b[0m \u001b[1;33m\u001b[0m\u001b[0m\n",
      "\u001b[1;32m~\\anaconda3\\lib\\site-packages\\sklearn\\model_selection\\_validation.py\u001b[0m in \u001b[0;36mlearning_curve\u001b[1;34m(estimator, X, y, groups, train_sizes, cv, scoring, exploit_incremental_learning, n_jobs, pre_dispatch, verbose, shuffle, random_state, error_score, return_times)\u001b[0m\n\u001b[0;32m   1277\u001b[0m                 \u001b[0mtrain_test_proportions\u001b[0m\u001b[1;33m.\u001b[0m\u001b[0mappend\u001b[0m\u001b[1;33m(\u001b[0m\u001b[1;33m(\u001b[0m\u001b[0mtrain\u001b[0m\u001b[1;33m[\u001b[0m\u001b[1;33m:\u001b[0m\u001b[0mn_train_samples\u001b[0m\u001b[1;33m]\u001b[0m\u001b[1;33m,\u001b[0m \u001b[0mtest\u001b[0m\u001b[1;33m)\u001b[0m\u001b[1;33m)\u001b[0m\u001b[1;33m\u001b[0m\u001b[1;33m\u001b[0m\u001b[0m\n\u001b[0;32m   1278\u001b[0m \u001b[1;33m\u001b[0m\u001b[0m\n\u001b[1;32m-> 1279\u001b[1;33m         out = parallel(delayed(_fit_and_score)(\n\u001b[0m\u001b[0;32m   1280\u001b[0m             \u001b[0mclone\u001b[0m\u001b[1;33m(\u001b[0m\u001b[0mestimator\u001b[0m\u001b[1;33m)\u001b[0m\u001b[1;33m,\u001b[0m \u001b[0mX\u001b[0m\u001b[1;33m,\u001b[0m \u001b[0my\u001b[0m\u001b[1;33m,\u001b[0m \u001b[0mscorer\u001b[0m\u001b[1;33m,\u001b[0m \u001b[0mtrain\u001b[0m\u001b[1;33m,\u001b[0m \u001b[0mtest\u001b[0m\u001b[1;33m,\u001b[0m \u001b[0mverbose\u001b[0m\u001b[1;33m,\u001b[0m\u001b[1;33m\u001b[0m\u001b[1;33m\u001b[0m\u001b[0m\n\u001b[0;32m   1281\u001b[0m             \u001b[0mparameters\u001b[0m\u001b[1;33m=\u001b[0m\u001b[1;32mNone\u001b[0m\u001b[1;33m,\u001b[0m \u001b[0mfit_params\u001b[0m\u001b[1;33m=\u001b[0m\u001b[1;32mNone\u001b[0m\u001b[1;33m,\u001b[0m \u001b[0mreturn_train_score\u001b[0m\u001b[1;33m=\u001b[0m\u001b[1;32mTrue\u001b[0m\u001b[1;33m,\u001b[0m\u001b[1;33m\u001b[0m\u001b[1;33m\u001b[0m\u001b[0m\n",
      "\u001b[1;32m~\\anaconda3\\lib\\site-packages\\joblib\\parallel.py\u001b[0m in \u001b[0;36m__call__\u001b[1;34m(self, iterable)\u001b[0m\n\u001b[0;32m   1030\u001b[0m                 \u001b[0mself\u001b[0m\u001b[1;33m.\u001b[0m\u001b[0m_iterating\u001b[0m \u001b[1;33m=\u001b[0m \u001b[0mself\u001b[0m\u001b[1;33m.\u001b[0m\u001b[0m_original_iterator\u001b[0m \u001b[1;32mis\u001b[0m \u001b[1;32mnot\u001b[0m \u001b[1;32mNone\u001b[0m\u001b[1;33m\u001b[0m\u001b[1;33m\u001b[0m\u001b[0m\n\u001b[0;32m   1031\u001b[0m \u001b[1;33m\u001b[0m\u001b[0m\n\u001b[1;32m-> 1032\u001b[1;33m             \u001b[1;32mwhile\u001b[0m \u001b[0mself\u001b[0m\u001b[1;33m.\u001b[0m\u001b[0mdispatch_one_batch\u001b[0m\u001b[1;33m(\u001b[0m\u001b[0miterator\u001b[0m\u001b[1;33m)\u001b[0m\u001b[1;33m:\u001b[0m\u001b[1;33m\u001b[0m\u001b[1;33m\u001b[0m\u001b[0m\n\u001b[0m\u001b[0;32m   1033\u001b[0m                 \u001b[1;32mpass\u001b[0m\u001b[1;33m\u001b[0m\u001b[1;33m\u001b[0m\u001b[0m\n\u001b[0;32m   1034\u001b[0m \u001b[1;33m\u001b[0m\u001b[0m\n",
      "\u001b[1;32m~\\anaconda3\\lib\\site-packages\\joblib\\parallel.py\u001b[0m in \u001b[0;36mdispatch_one_batch\u001b[1;34m(self, iterator)\u001b[0m\n\u001b[0;32m    845\u001b[0m                 \u001b[1;32mreturn\u001b[0m \u001b[1;32mFalse\u001b[0m\u001b[1;33m\u001b[0m\u001b[1;33m\u001b[0m\u001b[0m\n\u001b[0;32m    846\u001b[0m             \u001b[1;32melse\u001b[0m\u001b[1;33m:\u001b[0m\u001b[1;33m\u001b[0m\u001b[1;33m\u001b[0m\u001b[0m\n\u001b[1;32m--> 847\u001b[1;33m                 \u001b[0mself\u001b[0m\u001b[1;33m.\u001b[0m\u001b[0m_dispatch\u001b[0m\u001b[1;33m(\u001b[0m\u001b[0mtasks\u001b[0m\u001b[1;33m)\u001b[0m\u001b[1;33m\u001b[0m\u001b[1;33m\u001b[0m\u001b[0m\n\u001b[0m\u001b[0;32m    848\u001b[0m                 \u001b[1;32mreturn\u001b[0m \u001b[1;32mTrue\u001b[0m\u001b[1;33m\u001b[0m\u001b[1;33m\u001b[0m\u001b[0m\n\u001b[0;32m    849\u001b[0m \u001b[1;33m\u001b[0m\u001b[0m\n",
      "\u001b[1;32m~\\anaconda3\\lib\\site-packages\\joblib\\parallel.py\u001b[0m in \u001b[0;36m_dispatch\u001b[1;34m(self, batch)\u001b[0m\n\u001b[0;32m    763\u001b[0m         \u001b[1;32mwith\u001b[0m \u001b[0mself\u001b[0m\u001b[1;33m.\u001b[0m\u001b[0m_lock\u001b[0m\u001b[1;33m:\u001b[0m\u001b[1;33m\u001b[0m\u001b[1;33m\u001b[0m\u001b[0m\n\u001b[0;32m    764\u001b[0m             \u001b[0mjob_idx\u001b[0m \u001b[1;33m=\u001b[0m \u001b[0mlen\u001b[0m\u001b[1;33m(\u001b[0m\u001b[0mself\u001b[0m\u001b[1;33m.\u001b[0m\u001b[0m_jobs\u001b[0m\u001b[1;33m)\u001b[0m\u001b[1;33m\u001b[0m\u001b[1;33m\u001b[0m\u001b[0m\n\u001b[1;32m--> 765\u001b[1;33m             \u001b[0mjob\u001b[0m \u001b[1;33m=\u001b[0m \u001b[0mself\u001b[0m\u001b[1;33m.\u001b[0m\u001b[0m_backend\u001b[0m\u001b[1;33m.\u001b[0m\u001b[0mapply_async\u001b[0m\u001b[1;33m(\u001b[0m\u001b[0mbatch\u001b[0m\u001b[1;33m,\u001b[0m \u001b[0mcallback\u001b[0m\u001b[1;33m=\u001b[0m\u001b[0mcb\u001b[0m\u001b[1;33m)\u001b[0m\u001b[1;33m\u001b[0m\u001b[1;33m\u001b[0m\u001b[0m\n\u001b[0m\u001b[0;32m    766\u001b[0m             \u001b[1;31m# A job can complete so quickly than its callback is\u001b[0m\u001b[1;33m\u001b[0m\u001b[1;33m\u001b[0m\u001b[1;33m\u001b[0m\u001b[0m\n\u001b[0;32m    767\u001b[0m             \u001b[1;31m# called before we get here, causing self._jobs to\u001b[0m\u001b[1;33m\u001b[0m\u001b[1;33m\u001b[0m\u001b[1;33m\u001b[0m\u001b[0m\n",
      "\u001b[1;32m~\\anaconda3\\lib\\site-packages\\joblib\\_parallel_backends.py\u001b[0m in \u001b[0;36mapply_async\u001b[1;34m(self, func, callback)\u001b[0m\n\u001b[0;32m    206\u001b[0m     \u001b[1;32mdef\u001b[0m \u001b[0mapply_async\u001b[0m\u001b[1;33m(\u001b[0m\u001b[0mself\u001b[0m\u001b[1;33m,\u001b[0m \u001b[0mfunc\u001b[0m\u001b[1;33m,\u001b[0m \u001b[0mcallback\u001b[0m\u001b[1;33m=\u001b[0m\u001b[1;32mNone\u001b[0m\u001b[1;33m)\u001b[0m\u001b[1;33m:\u001b[0m\u001b[1;33m\u001b[0m\u001b[1;33m\u001b[0m\u001b[0m\n\u001b[0;32m    207\u001b[0m         \u001b[1;34m\"\"\"Schedule a func to be run\"\"\"\u001b[0m\u001b[1;33m\u001b[0m\u001b[1;33m\u001b[0m\u001b[0m\n\u001b[1;32m--> 208\u001b[1;33m         \u001b[0mresult\u001b[0m \u001b[1;33m=\u001b[0m \u001b[0mImmediateResult\u001b[0m\u001b[1;33m(\u001b[0m\u001b[0mfunc\u001b[0m\u001b[1;33m)\u001b[0m\u001b[1;33m\u001b[0m\u001b[1;33m\u001b[0m\u001b[0m\n\u001b[0m\u001b[0;32m    209\u001b[0m         \u001b[1;32mif\u001b[0m \u001b[0mcallback\u001b[0m\u001b[1;33m:\u001b[0m\u001b[1;33m\u001b[0m\u001b[1;33m\u001b[0m\u001b[0m\n\u001b[0;32m    210\u001b[0m             \u001b[0mcallback\u001b[0m\u001b[1;33m(\u001b[0m\u001b[0mresult\u001b[0m\u001b[1;33m)\u001b[0m\u001b[1;33m\u001b[0m\u001b[1;33m\u001b[0m\u001b[0m\n",
      "\u001b[1;32m~\\anaconda3\\lib\\site-packages\\joblib\\_parallel_backends.py\u001b[0m in \u001b[0;36m__init__\u001b[1;34m(self, batch)\u001b[0m\n\u001b[0;32m    570\u001b[0m         \u001b[1;31m# Don't delay the application, to avoid keeping the input\u001b[0m\u001b[1;33m\u001b[0m\u001b[1;33m\u001b[0m\u001b[1;33m\u001b[0m\u001b[0m\n\u001b[0;32m    571\u001b[0m         \u001b[1;31m# arguments in memory\u001b[0m\u001b[1;33m\u001b[0m\u001b[1;33m\u001b[0m\u001b[1;33m\u001b[0m\u001b[0m\n\u001b[1;32m--> 572\u001b[1;33m         \u001b[0mself\u001b[0m\u001b[1;33m.\u001b[0m\u001b[0mresults\u001b[0m \u001b[1;33m=\u001b[0m \u001b[0mbatch\u001b[0m\u001b[1;33m(\u001b[0m\u001b[1;33m)\u001b[0m\u001b[1;33m\u001b[0m\u001b[1;33m\u001b[0m\u001b[0m\n\u001b[0m\u001b[0;32m    573\u001b[0m \u001b[1;33m\u001b[0m\u001b[0m\n\u001b[0;32m    574\u001b[0m     \u001b[1;32mdef\u001b[0m \u001b[0mget\u001b[0m\u001b[1;33m(\u001b[0m\u001b[0mself\u001b[0m\u001b[1;33m)\u001b[0m\u001b[1;33m:\u001b[0m\u001b[1;33m\u001b[0m\u001b[1;33m\u001b[0m\u001b[0m\n",
      "\u001b[1;32m~\\anaconda3\\lib\\site-packages\\joblib\\parallel.py\u001b[0m in \u001b[0;36m__call__\u001b[1;34m(self)\u001b[0m\n\u001b[0;32m    250\u001b[0m         \u001b[1;31m# change the default number of processes to -1\u001b[0m\u001b[1;33m\u001b[0m\u001b[1;33m\u001b[0m\u001b[1;33m\u001b[0m\u001b[0m\n\u001b[0;32m    251\u001b[0m         \u001b[1;32mwith\u001b[0m \u001b[0mparallel_backend\u001b[0m\u001b[1;33m(\u001b[0m\u001b[0mself\u001b[0m\u001b[1;33m.\u001b[0m\u001b[0m_backend\u001b[0m\u001b[1;33m,\u001b[0m \u001b[0mn_jobs\u001b[0m\u001b[1;33m=\u001b[0m\u001b[0mself\u001b[0m\u001b[1;33m.\u001b[0m\u001b[0m_n_jobs\u001b[0m\u001b[1;33m)\u001b[0m\u001b[1;33m:\u001b[0m\u001b[1;33m\u001b[0m\u001b[1;33m\u001b[0m\u001b[0m\n\u001b[1;32m--> 252\u001b[1;33m             return [func(*args, **kwargs)\n\u001b[0m\u001b[0;32m    253\u001b[0m                     for func, args, kwargs in self.items]\n\u001b[0;32m    254\u001b[0m \u001b[1;33m\u001b[0m\u001b[0m\n",
      "\u001b[1;32m~\\anaconda3\\lib\\site-packages\\joblib\\parallel.py\u001b[0m in \u001b[0;36m<listcomp>\u001b[1;34m(.0)\u001b[0m\n\u001b[0;32m    250\u001b[0m         \u001b[1;31m# change the default number of processes to -1\u001b[0m\u001b[1;33m\u001b[0m\u001b[1;33m\u001b[0m\u001b[1;33m\u001b[0m\u001b[0m\n\u001b[0;32m    251\u001b[0m         \u001b[1;32mwith\u001b[0m \u001b[0mparallel_backend\u001b[0m\u001b[1;33m(\u001b[0m\u001b[0mself\u001b[0m\u001b[1;33m.\u001b[0m\u001b[0m_backend\u001b[0m\u001b[1;33m,\u001b[0m \u001b[0mn_jobs\u001b[0m\u001b[1;33m=\u001b[0m\u001b[0mself\u001b[0m\u001b[1;33m.\u001b[0m\u001b[0m_n_jobs\u001b[0m\u001b[1;33m)\u001b[0m\u001b[1;33m:\u001b[0m\u001b[1;33m\u001b[0m\u001b[1;33m\u001b[0m\u001b[0m\n\u001b[1;32m--> 252\u001b[1;33m             return [func(*args, **kwargs)\n\u001b[0m\u001b[0;32m    253\u001b[0m                     for func, args, kwargs in self.items]\n\u001b[0;32m    254\u001b[0m \u001b[1;33m\u001b[0m\u001b[0m\n",
      "\u001b[1;32m~\\anaconda3\\lib\\site-packages\\sklearn\\model_selection\\_validation.py\u001b[0m in \u001b[0;36m_fit_and_score\u001b[1;34m(estimator, X, y, scorer, train, test, verbose, parameters, fit_params, return_train_score, return_parameters, return_n_test_samples, return_times, return_estimator, error_score)\u001b[0m\n\u001b[0;32m    529\u001b[0m             \u001b[0mestimator\u001b[0m\u001b[1;33m.\u001b[0m\u001b[0mfit\u001b[0m\u001b[1;33m(\u001b[0m\u001b[0mX_train\u001b[0m\u001b[1;33m,\u001b[0m \u001b[1;33m**\u001b[0m\u001b[0mfit_params\u001b[0m\u001b[1;33m)\u001b[0m\u001b[1;33m\u001b[0m\u001b[1;33m\u001b[0m\u001b[0m\n\u001b[0;32m    530\u001b[0m         \u001b[1;32melse\u001b[0m\u001b[1;33m:\u001b[0m\u001b[1;33m\u001b[0m\u001b[1;33m\u001b[0m\u001b[0m\n\u001b[1;32m--> 531\u001b[1;33m             \u001b[0mestimator\u001b[0m\u001b[1;33m.\u001b[0m\u001b[0mfit\u001b[0m\u001b[1;33m(\u001b[0m\u001b[0mX_train\u001b[0m\u001b[1;33m,\u001b[0m \u001b[0my_train\u001b[0m\u001b[1;33m,\u001b[0m \u001b[1;33m**\u001b[0m\u001b[0mfit_params\u001b[0m\u001b[1;33m)\u001b[0m\u001b[1;33m\u001b[0m\u001b[1;33m\u001b[0m\u001b[0m\n\u001b[0m\u001b[0;32m    532\u001b[0m \u001b[1;33m\u001b[0m\u001b[0m\n\u001b[0;32m    533\u001b[0m     \u001b[1;32mexcept\u001b[0m \u001b[0mException\u001b[0m \u001b[1;32mas\u001b[0m \u001b[0me\u001b[0m\u001b[1;33m:\u001b[0m\u001b[1;33m\u001b[0m\u001b[1;33m\u001b[0m\u001b[0m\n",
      "\u001b[1;32m~\\anaconda3\\lib\\site-packages\\sklearn\\ensemble\\_forest.py\u001b[0m in \u001b[0;36mfit\u001b[1;34m(self, X, y, sample_weight)\u001b[0m\n\u001b[0;32m    384\u001b[0m             \u001b[1;31m# parallel_backend contexts set at a higher level,\u001b[0m\u001b[1;33m\u001b[0m\u001b[1;33m\u001b[0m\u001b[1;33m\u001b[0m\u001b[0m\n\u001b[0;32m    385\u001b[0m             \u001b[1;31m# since correctness does not rely on using threads.\u001b[0m\u001b[1;33m\u001b[0m\u001b[1;33m\u001b[0m\u001b[1;33m\u001b[0m\u001b[0m\n\u001b[1;32m--> 386\u001b[1;33m             trees = Parallel(n_jobs=self.n_jobs, verbose=self.verbose,\n\u001b[0m\u001b[0;32m    387\u001b[0m                              \u001b[1;33m**\u001b[0m\u001b[0m_joblib_parallel_args\u001b[0m\u001b[1;33m(\u001b[0m\u001b[0mprefer\u001b[0m\u001b[1;33m=\u001b[0m\u001b[1;34m'threads'\u001b[0m\u001b[1;33m)\u001b[0m\u001b[1;33m)\u001b[0m\u001b[1;33m(\u001b[0m\u001b[1;33m\u001b[0m\u001b[1;33m\u001b[0m\u001b[0m\n\u001b[0;32m    388\u001b[0m                 delayed(_parallel_build_trees)(\n",
      "\u001b[1;32m~\\anaconda3\\lib\\site-packages\\joblib\\parallel.py\u001b[0m in \u001b[0;36m__call__\u001b[1;34m(self, iterable)\u001b[0m\n\u001b[0;32m   1030\u001b[0m                 \u001b[0mself\u001b[0m\u001b[1;33m.\u001b[0m\u001b[0m_iterating\u001b[0m \u001b[1;33m=\u001b[0m \u001b[0mself\u001b[0m\u001b[1;33m.\u001b[0m\u001b[0m_original_iterator\u001b[0m \u001b[1;32mis\u001b[0m \u001b[1;32mnot\u001b[0m \u001b[1;32mNone\u001b[0m\u001b[1;33m\u001b[0m\u001b[1;33m\u001b[0m\u001b[0m\n\u001b[0;32m   1031\u001b[0m \u001b[1;33m\u001b[0m\u001b[0m\n\u001b[1;32m-> 1032\u001b[1;33m             \u001b[1;32mwhile\u001b[0m \u001b[0mself\u001b[0m\u001b[1;33m.\u001b[0m\u001b[0mdispatch_one_batch\u001b[0m\u001b[1;33m(\u001b[0m\u001b[0miterator\u001b[0m\u001b[1;33m)\u001b[0m\u001b[1;33m:\u001b[0m\u001b[1;33m\u001b[0m\u001b[1;33m\u001b[0m\u001b[0m\n\u001b[0m\u001b[0;32m   1033\u001b[0m                 \u001b[1;32mpass\u001b[0m\u001b[1;33m\u001b[0m\u001b[1;33m\u001b[0m\u001b[0m\n\u001b[0;32m   1034\u001b[0m \u001b[1;33m\u001b[0m\u001b[0m\n",
      "\u001b[1;32m~\\anaconda3\\lib\\site-packages\\joblib\\parallel.py\u001b[0m in \u001b[0;36mdispatch_one_batch\u001b[1;34m(self, iterator)\u001b[0m\n\u001b[0;32m    845\u001b[0m                 \u001b[1;32mreturn\u001b[0m \u001b[1;32mFalse\u001b[0m\u001b[1;33m\u001b[0m\u001b[1;33m\u001b[0m\u001b[0m\n\u001b[0;32m    846\u001b[0m             \u001b[1;32melse\u001b[0m\u001b[1;33m:\u001b[0m\u001b[1;33m\u001b[0m\u001b[1;33m\u001b[0m\u001b[0m\n\u001b[1;32m--> 847\u001b[1;33m                 \u001b[0mself\u001b[0m\u001b[1;33m.\u001b[0m\u001b[0m_dispatch\u001b[0m\u001b[1;33m(\u001b[0m\u001b[0mtasks\u001b[0m\u001b[1;33m)\u001b[0m\u001b[1;33m\u001b[0m\u001b[1;33m\u001b[0m\u001b[0m\n\u001b[0m\u001b[0;32m    848\u001b[0m                 \u001b[1;32mreturn\u001b[0m \u001b[1;32mTrue\u001b[0m\u001b[1;33m\u001b[0m\u001b[1;33m\u001b[0m\u001b[0m\n\u001b[0;32m    849\u001b[0m \u001b[1;33m\u001b[0m\u001b[0m\n",
      "\u001b[1;32m~\\anaconda3\\lib\\site-packages\\joblib\\parallel.py\u001b[0m in \u001b[0;36m_dispatch\u001b[1;34m(self, batch)\u001b[0m\n\u001b[0;32m    763\u001b[0m         \u001b[1;32mwith\u001b[0m \u001b[0mself\u001b[0m\u001b[1;33m.\u001b[0m\u001b[0m_lock\u001b[0m\u001b[1;33m:\u001b[0m\u001b[1;33m\u001b[0m\u001b[1;33m\u001b[0m\u001b[0m\n\u001b[0;32m    764\u001b[0m             \u001b[0mjob_idx\u001b[0m \u001b[1;33m=\u001b[0m \u001b[0mlen\u001b[0m\u001b[1;33m(\u001b[0m\u001b[0mself\u001b[0m\u001b[1;33m.\u001b[0m\u001b[0m_jobs\u001b[0m\u001b[1;33m)\u001b[0m\u001b[1;33m\u001b[0m\u001b[1;33m\u001b[0m\u001b[0m\n\u001b[1;32m--> 765\u001b[1;33m             \u001b[0mjob\u001b[0m \u001b[1;33m=\u001b[0m \u001b[0mself\u001b[0m\u001b[1;33m.\u001b[0m\u001b[0m_backend\u001b[0m\u001b[1;33m.\u001b[0m\u001b[0mapply_async\u001b[0m\u001b[1;33m(\u001b[0m\u001b[0mbatch\u001b[0m\u001b[1;33m,\u001b[0m \u001b[0mcallback\u001b[0m\u001b[1;33m=\u001b[0m\u001b[0mcb\u001b[0m\u001b[1;33m)\u001b[0m\u001b[1;33m\u001b[0m\u001b[1;33m\u001b[0m\u001b[0m\n\u001b[0m\u001b[0;32m    766\u001b[0m             \u001b[1;31m# A job can complete so quickly than its callback is\u001b[0m\u001b[1;33m\u001b[0m\u001b[1;33m\u001b[0m\u001b[1;33m\u001b[0m\u001b[0m\n\u001b[0;32m    767\u001b[0m             \u001b[1;31m# called before we get here, causing self._jobs to\u001b[0m\u001b[1;33m\u001b[0m\u001b[1;33m\u001b[0m\u001b[1;33m\u001b[0m\u001b[0m\n",
      "\u001b[1;32m~\\anaconda3\\lib\\site-packages\\joblib\\_parallel_backends.py\u001b[0m in \u001b[0;36mapply_async\u001b[1;34m(self, func, callback)\u001b[0m\n\u001b[0;32m    206\u001b[0m     \u001b[1;32mdef\u001b[0m \u001b[0mapply_async\u001b[0m\u001b[1;33m(\u001b[0m\u001b[0mself\u001b[0m\u001b[1;33m,\u001b[0m \u001b[0mfunc\u001b[0m\u001b[1;33m,\u001b[0m \u001b[0mcallback\u001b[0m\u001b[1;33m=\u001b[0m\u001b[1;32mNone\u001b[0m\u001b[1;33m)\u001b[0m\u001b[1;33m:\u001b[0m\u001b[1;33m\u001b[0m\u001b[1;33m\u001b[0m\u001b[0m\n\u001b[0;32m    207\u001b[0m         \u001b[1;34m\"\"\"Schedule a func to be run\"\"\"\u001b[0m\u001b[1;33m\u001b[0m\u001b[1;33m\u001b[0m\u001b[0m\n\u001b[1;32m--> 208\u001b[1;33m         \u001b[0mresult\u001b[0m \u001b[1;33m=\u001b[0m \u001b[0mImmediateResult\u001b[0m\u001b[1;33m(\u001b[0m\u001b[0mfunc\u001b[0m\u001b[1;33m)\u001b[0m\u001b[1;33m\u001b[0m\u001b[1;33m\u001b[0m\u001b[0m\n\u001b[0m\u001b[0;32m    209\u001b[0m         \u001b[1;32mif\u001b[0m \u001b[0mcallback\u001b[0m\u001b[1;33m:\u001b[0m\u001b[1;33m\u001b[0m\u001b[1;33m\u001b[0m\u001b[0m\n\u001b[0;32m    210\u001b[0m             \u001b[0mcallback\u001b[0m\u001b[1;33m(\u001b[0m\u001b[0mresult\u001b[0m\u001b[1;33m)\u001b[0m\u001b[1;33m\u001b[0m\u001b[1;33m\u001b[0m\u001b[0m\n",
      "\u001b[1;32m~\\anaconda3\\lib\\site-packages\\joblib\\_parallel_backends.py\u001b[0m in \u001b[0;36m__init__\u001b[1;34m(self, batch)\u001b[0m\n\u001b[0;32m    570\u001b[0m         \u001b[1;31m# Don't delay the application, to avoid keeping the input\u001b[0m\u001b[1;33m\u001b[0m\u001b[1;33m\u001b[0m\u001b[1;33m\u001b[0m\u001b[0m\n\u001b[0;32m    571\u001b[0m         \u001b[1;31m# arguments in memory\u001b[0m\u001b[1;33m\u001b[0m\u001b[1;33m\u001b[0m\u001b[1;33m\u001b[0m\u001b[0m\n\u001b[1;32m--> 572\u001b[1;33m         \u001b[0mself\u001b[0m\u001b[1;33m.\u001b[0m\u001b[0mresults\u001b[0m \u001b[1;33m=\u001b[0m \u001b[0mbatch\u001b[0m\u001b[1;33m(\u001b[0m\u001b[1;33m)\u001b[0m\u001b[1;33m\u001b[0m\u001b[1;33m\u001b[0m\u001b[0m\n\u001b[0m\u001b[0;32m    573\u001b[0m \u001b[1;33m\u001b[0m\u001b[0m\n\u001b[0;32m    574\u001b[0m     \u001b[1;32mdef\u001b[0m \u001b[0mget\u001b[0m\u001b[1;33m(\u001b[0m\u001b[0mself\u001b[0m\u001b[1;33m)\u001b[0m\u001b[1;33m:\u001b[0m\u001b[1;33m\u001b[0m\u001b[1;33m\u001b[0m\u001b[0m\n",
      "\u001b[1;32m~\\anaconda3\\lib\\site-packages\\joblib\\parallel.py\u001b[0m in \u001b[0;36m__call__\u001b[1;34m(self)\u001b[0m\n\u001b[0;32m    250\u001b[0m         \u001b[1;31m# change the default number of processes to -1\u001b[0m\u001b[1;33m\u001b[0m\u001b[1;33m\u001b[0m\u001b[1;33m\u001b[0m\u001b[0m\n\u001b[0;32m    251\u001b[0m         \u001b[1;32mwith\u001b[0m \u001b[0mparallel_backend\u001b[0m\u001b[1;33m(\u001b[0m\u001b[0mself\u001b[0m\u001b[1;33m.\u001b[0m\u001b[0m_backend\u001b[0m\u001b[1;33m,\u001b[0m \u001b[0mn_jobs\u001b[0m\u001b[1;33m=\u001b[0m\u001b[0mself\u001b[0m\u001b[1;33m.\u001b[0m\u001b[0m_n_jobs\u001b[0m\u001b[1;33m)\u001b[0m\u001b[1;33m:\u001b[0m\u001b[1;33m\u001b[0m\u001b[1;33m\u001b[0m\u001b[0m\n\u001b[1;32m--> 252\u001b[1;33m             return [func(*args, **kwargs)\n\u001b[0m\u001b[0;32m    253\u001b[0m                     for func, args, kwargs in self.items]\n\u001b[0;32m    254\u001b[0m \u001b[1;33m\u001b[0m\u001b[0m\n",
      "\u001b[1;32m~\\anaconda3\\lib\\site-packages\\joblib\\parallel.py\u001b[0m in \u001b[0;36m<listcomp>\u001b[1;34m(.0)\u001b[0m\n\u001b[0;32m    250\u001b[0m         \u001b[1;31m# change the default number of processes to -1\u001b[0m\u001b[1;33m\u001b[0m\u001b[1;33m\u001b[0m\u001b[1;33m\u001b[0m\u001b[0m\n\u001b[0;32m    251\u001b[0m         \u001b[1;32mwith\u001b[0m \u001b[0mparallel_backend\u001b[0m\u001b[1;33m(\u001b[0m\u001b[0mself\u001b[0m\u001b[1;33m.\u001b[0m\u001b[0m_backend\u001b[0m\u001b[1;33m,\u001b[0m \u001b[0mn_jobs\u001b[0m\u001b[1;33m=\u001b[0m\u001b[0mself\u001b[0m\u001b[1;33m.\u001b[0m\u001b[0m_n_jobs\u001b[0m\u001b[1;33m)\u001b[0m\u001b[1;33m:\u001b[0m\u001b[1;33m\u001b[0m\u001b[1;33m\u001b[0m\u001b[0m\n\u001b[1;32m--> 252\u001b[1;33m             return [func(*args, **kwargs)\n\u001b[0m\u001b[0;32m    253\u001b[0m                     for func, args, kwargs in self.items]\n\u001b[0;32m    254\u001b[0m \u001b[1;33m\u001b[0m\u001b[0m\n",
      "\u001b[1;32m~\\anaconda3\\lib\\site-packages\\sklearn\\ensemble\\_forest.py\u001b[0m in \u001b[0;36m_parallel_build_trees\u001b[1;34m(tree, forest, X, y, sample_weight, tree_idx, n_trees, verbose, class_weight, n_samples_bootstrap)\u001b[0m\n\u001b[0;32m    166\u001b[0m                                                         indices=indices)\n\u001b[0;32m    167\u001b[0m \u001b[1;33m\u001b[0m\u001b[0m\n\u001b[1;32m--> 168\u001b[1;33m         \u001b[0mtree\u001b[0m\u001b[1;33m.\u001b[0m\u001b[0mfit\u001b[0m\u001b[1;33m(\u001b[0m\u001b[0mX\u001b[0m\u001b[1;33m,\u001b[0m \u001b[0my\u001b[0m\u001b[1;33m,\u001b[0m \u001b[0msample_weight\u001b[0m\u001b[1;33m=\u001b[0m\u001b[0mcurr_sample_weight\u001b[0m\u001b[1;33m,\u001b[0m \u001b[0mcheck_input\u001b[0m\u001b[1;33m=\u001b[0m\u001b[1;32mFalse\u001b[0m\u001b[1;33m)\u001b[0m\u001b[1;33m\u001b[0m\u001b[1;33m\u001b[0m\u001b[0m\n\u001b[0m\u001b[0;32m    169\u001b[0m     \u001b[1;32melse\u001b[0m\u001b[1;33m:\u001b[0m\u001b[1;33m\u001b[0m\u001b[1;33m\u001b[0m\u001b[0m\n\u001b[0;32m    170\u001b[0m         \u001b[0mtree\u001b[0m\u001b[1;33m.\u001b[0m\u001b[0mfit\u001b[0m\u001b[1;33m(\u001b[0m\u001b[0mX\u001b[0m\u001b[1;33m,\u001b[0m \u001b[0my\u001b[0m\u001b[1;33m,\u001b[0m \u001b[0msample_weight\u001b[0m\u001b[1;33m=\u001b[0m\u001b[0msample_weight\u001b[0m\u001b[1;33m,\u001b[0m \u001b[0mcheck_input\u001b[0m\u001b[1;33m=\u001b[0m\u001b[1;32mFalse\u001b[0m\u001b[1;33m)\u001b[0m\u001b[1;33m\u001b[0m\u001b[1;33m\u001b[0m\u001b[0m\n",
      "\u001b[1;32m~\\anaconda3\\lib\\site-packages\\sklearn\\tree\\_classes.py\u001b[0m in \u001b[0;36mfit\u001b[1;34m(self, X, y, sample_weight, check_input, X_idx_sorted)\u001b[0m\n\u001b[0;32m   1240\u001b[0m         \"\"\"\n\u001b[0;32m   1241\u001b[0m \u001b[1;33m\u001b[0m\u001b[0m\n\u001b[1;32m-> 1242\u001b[1;33m         super().fit(\n\u001b[0m\u001b[0;32m   1243\u001b[0m             \u001b[0mX\u001b[0m\u001b[1;33m,\u001b[0m \u001b[0my\u001b[0m\u001b[1;33m,\u001b[0m\u001b[1;33m\u001b[0m\u001b[1;33m\u001b[0m\u001b[0m\n\u001b[0;32m   1244\u001b[0m             \u001b[0msample_weight\u001b[0m\u001b[1;33m=\u001b[0m\u001b[0msample_weight\u001b[0m\u001b[1;33m,\u001b[0m\u001b[1;33m\u001b[0m\u001b[1;33m\u001b[0m\u001b[0m\n",
      "\u001b[1;32m~\\anaconda3\\lib\\site-packages\\sklearn\\tree\\_classes.py\u001b[0m in \u001b[0;36mfit\u001b[1;34m(self, X, y, sample_weight, check_input, X_idx_sorted)\u001b[0m\n\u001b[0;32m    373\u001b[0m                                            min_impurity_split)\n\u001b[0;32m    374\u001b[0m \u001b[1;33m\u001b[0m\u001b[0m\n\u001b[1;32m--> 375\u001b[1;33m         \u001b[0mbuilder\u001b[0m\u001b[1;33m.\u001b[0m\u001b[0mbuild\u001b[0m\u001b[1;33m(\u001b[0m\u001b[0mself\u001b[0m\u001b[1;33m.\u001b[0m\u001b[0mtree_\u001b[0m\u001b[1;33m,\u001b[0m \u001b[0mX\u001b[0m\u001b[1;33m,\u001b[0m \u001b[0my\u001b[0m\u001b[1;33m,\u001b[0m \u001b[0msample_weight\u001b[0m\u001b[1;33m,\u001b[0m \u001b[0mX_idx_sorted\u001b[0m\u001b[1;33m)\u001b[0m\u001b[1;33m\u001b[0m\u001b[1;33m\u001b[0m\u001b[0m\n\u001b[0m\u001b[0;32m    376\u001b[0m \u001b[1;33m\u001b[0m\u001b[0m\n\u001b[0;32m    377\u001b[0m         \u001b[1;32mif\u001b[0m \u001b[0mself\u001b[0m\u001b[1;33m.\u001b[0m\u001b[0mn_outputs_\u001b[0m \u001b[1;33m==\u001b[0m \u001b[1;36m1\u001b[0m \u001b[1;32mand\u001b[0m \u001b[0mis_classifier\u001b[0m\u001b[1;33m(\u001b[0m\u001b[0mself\u001b[0m\u001b[1;33m)\u001b[0m\u001b[1;33m:\u001b[0m\u001b[1;33m\u001b[0m\u001b[1;33m\u001b[0m\u001b[0m\n",
      "\u001b[1;31mKeyboardInterrupt\u001b[0m: "
     ]
    }
   ],
   "source": [
    "import matplotlib.pyplot as plt\n",
    "from sklearn.model_selection import learning_curve\n",
    "\n",
    "train_sizes, train_scores, test_scores =\\\n",
    "                learning_curve(estimator=RandomForestRegressor(max_depth=None, random_state=42),\n",
    "                               X=X_train_pca,\n",
    "                               y=y_train,\n",
    "                               train_sizes=np.linspace(0.1, 1.0, 4),\n",
    "                               cv=None,\n",
    "                               n_jobs=1)\n",
    "\n",
    "train_mean = np.mean(train_scores, axis=1)\n",
    "train_std = np.std(train_scores, axis=1)\n",
    "test_mean = np.mean(test_scores, axis=1)\n",
    "test_std = np.std(test_scores, axis=1)\n",
    "\n",
    "plt.plot(train_sizes, train_mean,\n",
    "         color='blue', marker='o',\n",
    "         markersize=5, label='Training accuracy')\n",
    "\n",
    "plt.fill_between(train_sizes,\n",
    "                 train_mean + train_std,\n",
    "                 train_mean - train_std,\n",
    "                 alpha=0.15, color='blue')\n",
    "\n",
    "plt.plot(train_sizes, test_mean,\n",
    "         color='green', linestyle='--',\n",
    "         marker='s', markersize=5,\n",
    "         label='Validation accuracy')\n",
    "\n",
    "plt.fill_between(train_sizes,\n",
    "                 test_mean + test_std,\n",
    "                 test_mean - test_std,\n",
    "                 alpha=0.15, color='green')\n",
    "\n",
    "plt.grid()\n",
    "plt.xlabel('Number of training examples')\n",
    "plt.ylabel('Accuracy')\n",
    "plt.legend(loc='lower right')\n",
    "plt.ylim([0.8, 1.03])\n",
    "plt.tight_layout()\n",
    "# plt.savefig('images/06_05.png', dpi=300)\n",
    "plt.show()"
   ]
  },
  {
   "cell_type": "code",
   "execution_count": null,
   "metadata": {},
   "outputs": [],
   "source": []
  },
  {
   "cell_type": "code",
   "execution_count": null,
   "metadata": {
    "ExecuteTime": {
     "end_time": "2021-05-10T21:44:14.709448Z",
     "start_time": "2021-05-10T21:17:11.097Z"
    }
   },
   "outputs": [],
   "source": [
    "from sklearn.model_selection import validation_curve\n",
    "\n",
    "train_scores, test_scores = validation_curve(\n",
    "                estimator=RandomForestRegressor(max_depth=None, random_state=42), \n",
    "                X=X_train, \n",
    "                y=y_train, \n",
    "                cv=None)\n",
    "\n",
    "train_mean = np.mean(train_scores, axis=1)\n",
    "train_std = np.std(train_scores, axis=1)\n",
    "test_mean = np.mean(test_scores, axis=1)\n",
    "test_std = np.std(test_scores, axis=1)\n",
    "\n",
    "plt.plot(param_range, train_mean, \n",
    "         color='blue', marker='o', \n",
    "         markersize=5, label='Training accuracy')\n",
    "\n",
    "plt.fill_between(param_range, train_mean + train_std,\n",
    "                 train_mean - train_std, alpha=0.15,\n",
    "                 color='blue')\n",
    "\n",
    "plt.plot(param_range, test_mean, \n",
    "         color='green', linestyle='--', \n",
    "         marker='s', markersize=5, \n",
    "         label='Validation accuracy')\n",
    "\n",
    "plt.fill_between(param_range, \n",
    "                 test_mean + test_std,\n",
    "                 test_mean - test_std, \n",
    "                 alpha=0.15, color='green')\n",
    "\n",
    "plt.grid()\n",
    "plt.xscale('log')\n",
    "plt.legend(loc='lower right')\n",
    "plt.xlabel('Parameter C')\n",
    "plt.ylabel('Accuracy')\n",
    "plt.ylim([0.8, 1.0])\n",
    "plt.tight_layout()\n",
    "# plt.savefig('images/06_06.png', dpi=300)\n",
    "plt.show()"
   ]
  },
  {
   "cell_type": "code",
   "execution_count": null,
   "metadata": {},
   "outputs": [],
   "source": []
  },
  {
   "cell_type": "markdown",
   "metadata": {},
   "source": [
    "## Regularization penalty"
   ]
  },
  {
   "cell_type": "code",
   "execution_count": null,
   "metadata": {},
   "outputs": [],
   "source": []
  },
  {
   "cell_type": "code",
   "execution_count": null,
   "metadata": {},
   "outputs": [],
   "source": []
  },
  {
   "cell_type": "code",
   "execution_count": null,
   "metadata": {},
   "outputs": [],
   "source": []
  },
  {
   "cell_type": "markdown",
   "metadata": {},
   "source": [
    "# make it pipeline and apply to the whole dataset"
   ]
  },
  {
   "cell_type": "code",
   "execution_count": null,
   "metadata": {},
   "outputs": [],
   "source": []
  }
 ],
 "metadata": {
  "kernelspec": {
   "display_name": "Python 3",
   "language": "python",
   "name": "python3"
  },
  "language_info": {
   "codemirror_mode": {
    "name": "ipython",
    "version": 3
   },
   "file_extension": ".py",
   "mimetype": "text/x-python",
   "name": "python",
   "nbconvert_exporter": "python",
   "pygments_lexer": "ipython3",
   "version": "3.8.3"
  },
  "toc": {
   "base_numbering": 1,
   "nav_menu": {},
   "number_sections": true,
   "sideBar": true,
   "skip_h1_title": false,
   "title_cell": "Table of Contents",
   "title_sidebar": "Contents",
   "toc_cell": false,
   "toc_position": {
    "height": "calc(100% - 180px)",
    "left": "10px",
    "top": "150px",
    "width": "430.219px"
   },
   "toc_section_display": true,
   "toc_window_display": true
  },
  "varInspector": {
   "cols": {
    "lenName": 16,
    "lenType": 16,
    "lenVar": 40
   },
   "kernels_config": {
    "python": {
     "delete_cmd_postfix": "",
     "delete_cmd_prefix": "del ",
     "library": "var_list.py",
     "varRefreshCmd": "print(var_dic_list())"
    },
    "r": {
     "delete_cmd_postfix": ") ",
     "delete_cmd_prefix": "rm(",
     "library": "var_list.r",
     "varRefreshCmd": "cat(var_dic_list()) "
    }
   },
   "types_to_exclude": [
    "module",
    "function",
    "builtin_function_or_method",
    "instance",
    "_Feature"
   ],
   "window_display": false
  }
 },
 "nbformat": 4,
 "nbformat_minor": 4
}
