{
 "cells": [
  {
   "cell_type": "code",
   "execution_count": 1,
   "metadata": {},
   "outputs": [],
   "source": [
    "import itertools\n",
    "import numpy as np\n",
    "import pandas as pd\n",
    "from sklearn.feature_extraction.text import"
   ]
  },
  {
   "cell_type": "code",
   "execution_count": 4,
   "metadata": {},
   "outputs": [
    {
     "name": "stdout",
     "output_type": "stream",
     "text": [
      "<class 'pandas.core.frame.DataFrame'>\n",
      "RangeIndex: 1000 entries, 0 to 999\n",
      "Data columns (total 8 columns):\n",
      " #   Column             Non-Null Count  Dtype  \n",
      "---  ------             --------------  -----  \n",
      " 0   train_id           1000 non-null   int64  \n",
      " 1   name               1000 non-null   object \n",
      " 2   item_condition_id  1000 non-null   int64  \n",
      " 3   category_name      996 non-null    object \n",
      " 4   brand_name         561 non-null    object \n",
      " 5   price              1000 non-null   float64\n",
      " 6   shipping           1000 non-null   int64  \n",
      " 7   item_description   1000 non-null   object \n",
      "dtypes: float64(1), int64(3), object(4)\n",
      "memory usage: 62.6+ KB\n"
     ]
    }
   ],
   "source": [
    "# read sample data\n",
    "sample_df = pd.read_csv(\"../data/sample_data.csv\")\n",
    "sample_df.info()"
   ]
  },
  {
   "cell_type": "code",
   "execution_count": 5,
   "metadata": {},
   "outputs": [
    {
     "data": {
      "text/plain": [
       "0                               Polaroid Camera\n",
       "1                               Vintage Ashtray\n",
       "2                    Matilda Jane weekender nwt\n",
       "3                             Red Full Lace Wig\n",
       "4            EQUATE NICOTINE TRANSDERMAL SYSTEM\n",
       "                         ...                   \n",
       "995                                Dansko Clogs\n",
       "996                             Men's BKE jeans\n",
       "997               Lularoe L Randy & OS Leggings\n",
       "998    Rae Dunn Home Bowl Set of 2 Red Interior\n",
       "999    Wku Fleece Quarter Zip Pullover And Tank\n",
       "Name: name, Length: 1000, dtype: object"
      ]
     },
     "execution_count": 5,
     "metadata": {},
     "output_type": "execute_result"
    }
   ],
   "source": [
    "sample_df.name"
   ]
  },
  {
   "cell_type": "markdown",
   "metadata": {},
   "source": [
    "# Explore [Text Feature Extractors](https://scikit-learn.org/stable/modules/feature_extraction.html)\n",
    "- **CountVectorizer** implements both tokenization and occurrence counting in a single class\n",
    "- **TfidfTransformer** weight the count features by consider term-frequency.\n",
    "- **TfidfVectorizer** combines all the options of CountVectorizer and TfidfTransformer in a single mode\n",
    "- **HashingVectorizer** vectorizes a large text corpus"
   ]
  },
  {
   "cell_type": "code",
   "execution_count": null,
   "metadata": {},
   "outputs": [],
   "source": [
    "from sklearn.feature_extraction.text import CountVectorizer\n",
    "from sklearn.feature_extraction.text import TfidfTransformer\n",
    "from sklearn.feature_extraction.text import TfidfVectorizer\n",
    "from sklearn.feature_extraction.text import HashingVectorizer"
   ]
  },
  {
   "cell_type": "code",
   "execution_count": null,
   "metadata": {},
   "outputs": [],
   "source": []
  },
  {
   "cell_type": "code",
   "execution_count": null,
   "metadata": {},
   "outputs": [],
   "source": []
  }
 ],
 "metadata": {
  "kernelspec": {
   "display_name": "Python 3",
   "language": "python",
   "name": "python3"
  },
  "language_info": {
   "codemirror_mode": {
    "name": "ipython",
    "version": 3
   },
   "file_extension": ".py",
   "mimetype": "text/x-python",
   "name": "python",
   "nbconvert_exporter": "python",
   "pygments_lexer": "ipython3",
   "version": "3.6.5"
  }
 },
 "nbformat": 4,
 "nbformat_minor": 4
}
