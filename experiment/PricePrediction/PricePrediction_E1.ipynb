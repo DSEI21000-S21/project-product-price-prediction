{
 "cells": [
  {
   "cell_type": "code",
   "execution_count": 3,
   "metadata": {},
   "outputs": [],
   "source": [
    "import sys\n",
    "sys.path.append('/Users/jinchen/Desktop/DSE/IntroML/Project/project-product-price-prediction')"
   ]
  },
  {
   "cell_type": "code",
   "execution_count": 4,
   "metadata": {},
   "outputs": [
    {
     "name": "stderr",
     "output_type": "stream",
     "text": [
      "/Library/Frameworks/Python.framework/Versions/3.6/lib/python3.6/importlib/_bootstrap.py:219: RuntimeWarning: numpy.ufunc size changed, may indicate binary incompatibility. Expected 192 from C header, got 216 from PyObject\n",
      "  return f(*args, **kwds)\n"
     ]
    }
   ],
   "source": [
    "import matplotlib\n",
    "import numpy as np\n",
    "import pandas as pd\n",
    "import seaborn as sns\n",
    "import matplotlib.pyplot as plt\n",
    "\n",
    "\n",
    "from sklearn.model_selection import train_test_split\n",
    "matplotlib.rcParams['figure.figsize'] = (15, 15)\n",
    "plt.rcParams['figure.constrained_layout.use'] = True\n",
    "\n",
    "\n",
    "# feature selection\n",
    "from sklearn.linear_model import Ridge\n",
    "from sklearn.ensemble import RandomForestRegressor\n",
    "from sklearn.feature_selection import RFECV\n",
    "from sklearn.neighbors import KNeighborsRegressor\n",
    "from sklearn.feature_selection import SelectKBest, chi2\n",
    "from sklearn.feature_selection import f_regression # F-value between label/feature for regression tasks.\n",
    "\n",
    "from sklearn.metrics import mean_squared_log_error as msle\n",
    "\n",
    "\n",
    "from final.random_sampling.even_sample_brand import stratified_sampling_by_brand\n",
    "from final.random_sampling.even_sample_category import stratified_sampling_by_category\n",
    "from final.random_sampling.even_sample_by_price_range import stratified_sampling_by_price\n",
    "from final.feature_extraction.text_vectorization import encode_categories,encode_string_column"
   ]
  },
  {
   "cell_type": "markdown",
   "metadata": {},
   "source": [
    "# Get sample df"
   ]
  },
  {
   "cell_type": "code",
   "execution_count": 3,
   "metadata": {},
   "outputs": [
    {
     "data": {
      "text/plain": [
       "(93550, 59)"
      ]
     },
     "execution_count": 3,
     "metadata": {},
     "output_type": "execute_result"
    }
   ],
   "source": [
    "df = stratified_sampling_by_brand(df, file_dir=\"data\",number_samples = 10000,\n",
    "                                               replace = False, save_sample_df = Fasle)\n"
   ]
  },
  {
   "cell_type": "code",
   "execution_count": 4,
   "metadata": {},
   "outputs": [
    {
     "data": {
      "text/html": [
       "<div>\n",
       "<style scoped>\n",
       "    .dataframe tbody tr th:only-of-type {\n",
       "        vertical-align: middle;\n",
       "    }\n",
       "\n",
       "    .dataframe tbody tr th {\n",
       "        vertical-align: top;\n",
       "    }\n",
       "\n",
       "    .dataframe thead th {\n",
       "        text-align: right;\n",
       "    }\n",
       "</style>\n",
       "<table border=\"1\" class=\"dataframe\">\n",
       "  <thead>\n",
       "    <tr style=\"text-align: right;\">\n",
       "      <th></th>\n",
       "      <th>train_id</th>\n",
       "      <th>item_condition_id</th>\n",
       "      <th>brand_name</th>\n",
       "      <th>price</th>\n",
       "      <th>shipping</th>\n",
       "      <th>c1</th>\n",
       "      <th>c2</th>\n",
       "      <th>c3</th>\n",
       "      <th>clean_name</th>\n",
       "      <th>clean_description</th>\n",
       "      <th>...</th>\n",
       "      <th>brand_nameLowerRatio</th>\n",
       "      <th>brand_nameUpperRatio</th>\n",
       "      <th>brand_nameAvgWordLen</th>\n",
       "      <th>nameStopWordCount</th>\n",
       "      <th>namePunctuationCount</th>\n",
       "      <th>nameSpecialCount</th>\n",
       "      <th>item_descriptionStopWordCount</th>\n",
       "      <th>item_descriptionPunctuationCount</th>\n",
       "      <th>item_descriptionSpecialCount</th>\n",
       "      <th>price_bin</th>\n",
       "    </tr>\n",
       "  </thead>\n",
       "  <tbody>\n",
       "    <tr>\n",
       "      <th>0</th>\n",
       "      <td>804721</td>\n",
       "      <td>3</td>\n",
       "      <td>brighton</td>\n",
       "      <td>22.0</td>\n",
       "      <td>0</td>\n",
       "      <td>woman</td>\n",
       "      <td>woman</td>\n",
       "      <td>woman</td>\n",
       "      <td>brighton galadriel necklace bracelet</td>\n",
       "      <td>brighton galadriel pendant necklace and matchi...</td>\n",
       "      <td>...</td>\n",
       "      <td>0.000845</td>\n",
       "      <td>0.0</td>\n",
       "      <td>0.001017</td>\n",
       "      <td>0.0</td>\n",
       "      <td>0.000919</td>\n",
       "      <td>0.002179</td>\n",
       "      <td>0.001533</td>\n",
       "      <td>0.000511</td>\n",
       "      <td>0.000397</td>\n",
       "      <td>(20, 25]</td>\n",
       "    </tr>\n",
       "    <tr>\n",
       "      <th>1</th>\n",
       "      <td>1190931</td>\n",
       "      <td>3</td>\n",
       "      <td>express</td>\n",
       "      <td>8.0</td>\n",
       "      <td>0</td>\n",
       "      <td>woman</td>\n",
       "      <td>woman</td>\n",
       "      <td>woman</td>\n",
       "      <td>express dress pants</td>\n",
       "      <td>size 3 4 womens great condition</td>\n",
       "      <td>...</td>\n",
       "      <td>0.000845</td>\n",
       "      <td>0.0</td>\n",
       "      <td>0.000890</td>\n",
       "      <td>0.0</td>\n",
       "      <td>0.000000</td>\n",
       "      <td>0.000000</td>\n",
       "      <td>0.000000</td>\n",
       "      <td>0.000073</td>\n",
       "      <td>0.000000</td>\n",
       "      <td>(5, 10]</td>\n",
       "    </tr>\n",
       "    <tr>\n",
       "      <th>2</th>\n",
       "      <td>114352</td>\n",
       "      <td>1</td>\n",
       "      <td>hanes</td>\n",
       "      <td>11.0</td>\n",
       "      <td>1</td>\n",
       "      <td>men</td>\n",
       "      <td>men</td>\n",
       "      <td>men</td>\n",
       "      <td>men s black hoodie</td>\n",
       "      <td>hanes men s comfortblend pullover hoodie black...</td>\n",
       "      <td>...</td>\n",
       "      <td>0.000845</td>\n",
       "      <td>0.0</td>\n",
       "      <td>0.000636</td>\n",
       "      <td>0.0</td>\n",
       "      <td>0.000919</td>\n",
       "      <td>0.000000</td>\n",
       "      <td>0.000064</td>\n",
       "      <td>0.000292</td>\n",
       "      <td>0.000198</td>\n",
       "      <td>(10, 15]</td>\n",
       "    </tr>\n",
       "    <tr>\n",
       "      <th>3</th>\n",
       "      <td>376371</td>\n",
       "      <td>1</td>\n",
       "      <td>philip</td>\n",
       "      <td>41.0</td>\n",
       "      <td>0</td>\n",
       "      <td>kid</td>\n",
       "      <td>kid</td>\n",
       "      <td>kid</td>\n",
       "      <td>philips sonicare toothbrush</td>\n",
       "      <td>electric toothbrush two shades whiter in two w...</td>\n",
       "      <td>...</td>\n",
       "      <td>0.000845</td>\n",
       "      <td>0.0</td>\n",
       "      <td>0.000763</td>\n",
       "      <td>0.0</td>\n",
       "      <td>0.000000</td>\n",
       "      <td>0.000000</td>\n",
       "      <td>0.000064</td>\n",
       "      <td>0.000146</td>\n",
       "      <td>0.000066</td>\n",
       "      <td>(40, 50]</td>\n",
       "    </tr>\n",
       "    <tr>\n",
       "      <th>4</th>\n",
       "      <td>873087</td>\n",
       "      <td>3</td>\n",
       "      <td>vtech</td>\n",
       "      <td>20.0</td>\n",
       "      <td>0</td>\n",
       "      <td>kid</td>\n",
       "      <td>kid</td>\n",
       "      <td>kid</td>\n",
       "      <td>vtech smart shots sports center toy</td>\n",
       "      <td>good used condition all sounds and lights work...</td>\n",
       "      <td>...</td>\n",
       "      <td>0.000845</td>\n",
       "      <td>0.0</td>\n",
       "      <td>0.000636</td>\n",
       "      <td>0.0</td>\n",
       "      <td>0.000000</td>\n",
       "      <td>0.000000</td>\n",
       "      <td>0.001341</td>\n",
       "      <td>0.000511</td>\n",
       "      <td>0.000860</td>\n",
       "      <td>(15, 20]</td>\n",
       "    </tr>\n",
       "  </tbody>\n",
       "</table>\n",
       "<p>5 rows × 59 columns</p>\n",
       "</div>"
      ],
      "text/plain": [
       "   train_id  item_condition_id brand_name  price  shipping     c1     c2  \\\n",
       "0    804721                  3   brighton   22.0         0  woman  woman   \n",
       "1   1190931                  3    express    8.0         0  woman  woman   \n",
       "2    114352                  1      hanes   11.0         1    men    men   \n",
       "3    376371                  1     philip   41.0         0    kid    kid   \n",
       "4    873087                  3      vtech   20.0         0    kid    kid   \n",
       "\n",
       "      c3                            clean_name  \\\n",
       "0  woman  brighton galadriel necklace bracelet   \n",
       "1  woman                   express dress pants   \n",
       "2    men                    men s black hoodie   \n",
       "3    kid           philips sonicare toothbrush   \n",
       "4    kid   vtech smart shots sports center toy   \n",
       "\n",
       "                                   clean_description  ...  \\\n",
       "0  brighton galadriel pendant necklace and matchi...  ...   \n",
       "1                    size 3 4 womens great condition  ...   \n",
       "2  hanes men s comfortblend pullover hoodie black...  ...   \n",
       "3  electric toothbrush two shades whiter in two w...  ...   \n",
       "4  good used condition all sounds and lights work...  ...   \n",
       "\n",
       "   brand_nameLowerRatio  brand_nameUpperRatio  brand_nameAvgWordLen  \\\n",
       "0              0.000845                   0.0              0.001017   \n",
       "1              0.000845                   0.0              0.000890   \n",
       "2              0.000845                   0.0              0.000636   \n",
       "3              0.000845                   0.0              0.000763   \n",
       "4              0.000845                   0.0              0.000636   \n",
       "\n",
       "   nameStopWordCount  namePunctuationCount  nameSpecialCount  \\\n",
       "0                0.0              0.000919          0.002179   \n",
       "1                0.0              0.000000          0.000000   \n",
       "2                0.0              0.000919          0.000000   \n",
       "3                0.0              0.000000          0.000000   \n",
       "4                0.0              0.000000          0.000000   \n",
       "\n",
       "   item_descriptionStopWordCount  item_descriptionPunctuationCount  \\\n",
       "0                       0.001533                          0.000511   \n",
       "1                       0.000000                          0.000073   \n",
       "2                       0.000064                          0.000292   \n",
       "3                       0.000064                          0.000146   \n",
       "4                       0.001341                          0.000511   \n",
       "\n",
       "   item_descriptionSpecialCount  price_bin  \n",
       "0                      0.000397   (20, 25]  \n",
       "1                      0.000000    (5, 10]  \n",
       "2                      0.000198   (10, 15]  \n",
       "3                      0.000066   (40, 50]  \n",
       "4                      0.000860   (15, 20]  \n",
       "\n",
       "[5 rows x 59 columns]"
      ]
     },
     "execution_count": 4,
     "metadata": {},
     "output_type": "execute_result"
    }
   ],
   "source": [
    "df.head(5)"
   ]
  },
  {
   "cell_type": "code",
   "execution_count": 5,
   "metadata": {},
   "outputs": [
    {
     "name": "stdout",
     "output_type": "stream",
     "text": [
      "<class 'pandas.core.frame.DataFrame'>\n",
      "RangeIndex: 93550 entries, 0 to 93549\n",
      "Data columns (total 59 columns):\n",
      " #   Column                            Non-Null Count  Dtype  \n",
      "---  ------                            --------------  -----  \n",
      " 0   train_id                          93550 non-null  int64  \n",
      " 1   item_condition_id                 93550 non-null  int64  \n",
      " 2   brand_name                        93550 non-null  object \n",
      " 3   price                             93550 non-null  float64\n",
      " 4   shipping                          93550 non-null  int64  \n",
      " 5   c1                                93550 non-null  object \n",
      " 6   c2                                93550 non-null  object \n",
      " 7   c3                                93550 non-null  object \n",
      " 8   clean_name                        93550 non-null  object \n",
      " 9   clean_description                 93550 non-null  object \n",
      " 10  clean_nameWordCount               93550 non-null  float64\n",
      " 11  clean_nameLength                  93550 non-null  float64\n",
      " 12  clean_nameUpperCount              93550 non-null  float64\n",
      " 13  clean_nameLowerCount              93550 non-null  float64\n",
      " 14  clean_nameLowerRatio              93550 non-null  float64\n",
      " 15  clean_nameUpperRatio              93550 non-null  float64\n",
      " 16  clean_nameAvgWordLen              93550 non-null  float64\n",
      " 17  clean_descriptionWordCount        93550 non-null  float64\n",
      " 18  clean_descriptionLength           93550 non-null  float64\n",
      " 19  clean_descriptionUpperCount       93550 non-null  float64\n",
      " 20  clean_descriptionLowerCount       93550 non-null  float64\n",
      " 21  clean_descriptionLowerRatio       93550 non-null  float64\n",
      " 22  clean_descriptionUpperRatio       93550 non-null  float64\n",
      " 23  clean_descriptionAvgWordLen       93550 non-null  float64\n",
      " 24  c1WordCount                       93550 non-null  float64\n",
      " 25  c1Length                          93550 non-null  float64\n",
      " 26  c1UpperCount                      93550 non-null  float64\n",
      " 27  c1LowerCount                      93550 non-null  float64\n",
      " 28  c1LowerRatio                      93550 non-null  float64\n",
      " 29  c1UpperRatio                      93550 non-null  float64\n",
      " 30  c1AvgWordLen                      93550 non-null  float64\n",
      " 31  c2WordCount                       93550 non-null  float64\n",
      " 32  c2Length                          93550 non-null  float64\n",
      " 33  c2UpperCount                      93550 non-null  float64\n",
      " 34  c2LowerCount                      93550 non-null  float64\n",
      " 35  c2LowerRatio                      93550 non-null  float64\n",
      " 36  c2UpperRatio                      93550 non-null  float64\n",
      " 37  c2AvgWordLen                      93550 non-null  float64\n",
      " 38  c3WordCount                       93550 non-null  float64\n",
      " 39  c3Length                          93550 non-null  float64\n",
      " 40  c3UpperCount                      93550 non-null  float64\n",
      " 41  c3LowerCount                      93550 non-null  float64\n",
      " 42  c3LowerRatio                      93550 non-null  float64\n",
      " 43  c3UpperRatio                      93550 non-null  float64\n",
      " 44  c3AvgWordLen                      93550 non-null  float64\n",
      " 45  brand_nameWordCount               93550 non-null  float64\n",
      " 46  brand_nameLength                  93550 non-null  float64\n",
      " 47  brand_nameUpperCount              93550 non-null  float64\n",
      " 48  brand_nameLowerCount              93550 non-null  float64\n",
      " 49  brand_nameLowerRatio              93550 non-null  float64\n",
      " 50  brand_nameUpperRatio              93550 non-null  float64\n",
      " 51  brand_nameAvgWordLen              93550 non-null  float64\n",
      " 52  nameStopWordCount                 93550 non-null  float64\n",
      " 53  namePunctuationCount              93550 non-null  float64\n",
      " 54  nameSpecialCount                  93550 non-null  float64\n",
      " 55  item_descriptionStopWordCount     93550 non-null  float64\n",
      " 56  item_descriptionPunctuationCount  93550 non-null  float64\n",
      " 57  item_descriptionSpecialCount      93550 non-null  float64\n",
      " 58  price_bin                         93550 non-null  object \n",
      "dtypes: float64(49), int64(3), object(7)\n",
      "memory usage: 42.1+ MB\n"
     ]
    }
   ],
   "source": [
    "df.info()"
   ]
  },
  {
   "cell_type": "markdown",
   "metadata": {},
   "source": [
    "# Train Test Split"
   ]
  },
  {
   "cell_type": "code",
   "execution_count": 6,
   "metadata": {},
   "outputs": [
    {
     "data": {
      "text/html": [
       "<div>\n",
       "<style scoped>\n",
       "    .dataframe tbody tr th:only-of-type {\n",
       "        vertical-align: middle;\n",
       "    }\n",
       "\n",
       "    .dataframe tbody tr th {\n",
       "        vertical-align: top;\n",
       "    }\n",
       "\n",
       "    .dataframe thead th {\n",
       "        text-align: right;\n",
       "    }\n",
       "</style>\n",
       "<table border=\"1\" class=\"dataframe\">\n",
       "  <thead>\n",
       "    <tr style=\"text-align: right;\">\n",
       "      <th></th>\n",
       "      <th>train_id</th>\n",
       "      <th>item_condition_id</th>\n",
       "      <th>brand_name</th>\n",
       "      <th>shipping</th>\n",
       "      <th>c1</th>\n",
       "      <th>c2</th>\n",
       "      <th>c3</th>\n",
       "      <th>clean_name</th>\n",
       "      <th>clean_description</th>\n",
       "      <th>clean_nameWordCount</th>\n",
       "      <th>...</th>\n",
       "      <th>brand_nameLowerCount</th>\n",
       "      <th>brand_nameLowerRatio</th>\n",
       "      <th>brand_nameUpperRatio</th>\n",
       "      <th>brand_nameAvgWordLen</th>\n",
       "      <th>nameStopWordCount</th>\n",
       "      <th>namePunctuationCount</th>\n",
       "      <th>nameSpecialCount</th>\n",
       "      <th>item_descriptionStopWordCount</th>\n",
       "      <th>item_descriptionPunctuationCount</th>\n",
       "      <th>item_descriptionSpecialCount</th>\n",
       "    </tr>\n",
       "  </thead>\n",
       "  <tbody>\n",
       "    <tr>\n",
       "      <th>0</th>\n",
       "      <td>804721</td>\n",
       "      <td>3</td>\n",
       "      <td>brighton</td>\n",
       "      <td>0</td>\n",
       "      <td>woman</td>\n",
       "      <td>woman</td>\n",
       "      <td>woman</td>\n",
       "      <td>brighton galadriel necklace bracelet</td>\n",
       "      <td>brighton galadriel pendant necklace and matchi...</td>\n",
       "      <td>0.000682</td>\n",
       "      <td>...</td>\n",
       "      <td>0.000789</td>\n",
       "      <td>0.000845</td>\n",
       "      <td>0.0</td>\n",
       "      <td>0.001017</td>\n",
       "      <td>0.0</td>\n",
       "      <td>0.000919</td>\n",
       "      <td>0.002179</td>\n",
       "      <td>0.001533</td>\n",
       "      <td>0.000511</td>\n",
       "      <td>0.000397</td>\n",
       "    </tr>\n",
       "    <tr>\n",
       "      <th>1</th>\n",
       "      <td>1190931</td>\n",
       "      <td>3</td>\n",
       "      <td>express</td>\n",
       "      <td>0</td>\n",
       "      <td>woman</td>\n",
       "      <td>woman</td>\n",
       "      <td>woman</td>\n",
       "      <td>express dress pants</td>\n",
       "      <td>size 3 4 womens great condition</td>\n",
       "      <td>0.000511</td>\n",
       "      <td>...</td>\n",
       "      <td>0.000690</td>\n",
       "      <td>0.000845</td>\n",
       "      <td>0.0</td>\n",
       "      <td>0.000890</td>\n",
       "      <td>0.0</td>\n",
       "      <td>0.000000</td>\n",
       "      <td>0.000000</td>\n",
       "      <td>0.000000</td>\n",
       "      <td>0.000073</td>\n",
       "      <td>0.000000</td>\n",
       "    </tr>\n",
       "  </tbody>\n",
       "</table>\n",
       "<p>2 rows × 57 columns</p>\n",
       "</div>"
      ],
      "text/plain": [
       "   train_id  item_condition_id brand_name  shipping     c1     c2     c3  \\\n",
       "0    804721                  3   brighton         0  woman  woman  woman   \n",
       "1   1190931                  3    express         0  woman  woman  woman   \n",
       "\n",
       "                             clean_name  \\\n",
       "0  brighton galadriel necklace bracelet   \n",
       "1                   express dress pants   \n",
       "\n",
       "                                   clean_description  clean_nameWordCount  \\\n",
       "0  brighton galadriel pendant necklace and matchi...             0.000682   \n",
       "1                    size 3 4 womens great condition             0.000511   \n",
       "\n",
       "   ...  brand_nameLowerCount  brand_nameLowerRatio  brand_nameUpperRatio  \\\n",
       "0  ...              0.000789              0.000845                   0.0   \n",
       "1  ...              0.000690              0.000845                   0.0   \n",
       "\n",
       "   brand_nameAvgWordLen  nameStopWordCount  namePunctuationCount  \\\n",
       "0              0.001017                0.0              0.000919   \n",
       "1              0.000890                0.0              0.000000   \n",
       "\n",
       "   nameSpecialCount  item_descriptionStopWordCount  \\\n",
       "0          0.002179                       0.001533   \n",
       "1          0.000000                       0.000000   \n",
       "\n",
       "   item_descriptionPunctuationCount  item_descriptionSpecialCount  \n",
       "0                          0.000511                      0.000397  \n",
       "1                          0.000073                      0.000000  \n",
       "\n",
       "[2 rows x 57 columns]"
      ]
     },
     "execution_count": 6,
     "metadata": {},
     "output_type": "execute_result"
    }
   ],
   "source": [
    "Y = np.log1p(df['price'])\n",
    "df.drop(['price','price_bin'], axis=1, inplace=True)\n",
    "df.head(2)"
   ]
  },
  {
   "cell_type": "code",
   "execution_count": 7,
   "metadata": {},
   "outputs": [
    {
     "name": "stdout",
     "output_type": "stream",
     "text": [
      "Train size: (74840, 57), Test size: (18710, 57)\n"
     ]
    }
   ],
   "source": [
    "train_df, test_df , y_train, y_test = train_test_split(df, Y, test_size=0.2, random_state=12342)\n",
    "print('Train size: %s, Test size: %s'%(train_df.shape, test_df.shape))"
   ]
  },
  {
   "cell_type": "markdown",
   "metadata": {},
   "source": [
    "# Vectorization"
   ]
  },
  {
   "cell_type": "code",
   "execution_count": 19,
   "metadata": {},
   "outputs": [
    {
     "name": "stdout",
     "output_type": "stream",
     "text": [
      "Size of vectorization features of c1 is 15\n",
      "Size of vectorization features of c2 is 15\n",
      "Size of vectorization features of c3 is 15\n",
      "Size of vectorization features of brand_name is 1008\n",
      "Shape of total vectorization features of ['c1', 'c2', 'c3', 'brand_name'] is (74840, 1053)\n"
     ]
    }
   ],
   "source": [
    "train_cat_features, train_cat_features_name = encode_categories(train_df, \n",
    "                                                                columns = ['c1','c2','c3','brand_name'], \n",
    "                                                                min_df = 10, print_progress=True)\n"
   ]
  },
  {
   "cell_type": "code",
   "execution_count": 9,
   "metadata": {},
   "outputs": [
    {
     "name": "stdout",
     "output_type": "stream",
     "text": [
      "Size of vectorization features of clean_name is 6150\n",
      "Size of vectorization features of clean_description is 15000\n",
      "Shape of vectorization features of ['clean_name', 'clean_description'] is (74840, 21150)\n"
     ]
    }
   ],
   "source": [
    "train_str_features, train_str_features_name = encode_string_column(train_df, \n",
    "                                                                   columns=['clean_name', 'clean_description'],\n",
    "                                                                   min_df=10, max_features=15000, \n",
    "                                                                   print_progress=True)"
   ]
  },
  {
   "cell_type": "code",
   "execution_count": 24,
   "metadata": {},
   "outputs": [
    {
     "name": "stdout",
     "output_type": "stream",
     "text": [
      "Size of vectorization features of c1 is 14\n",
      "Size of vectorization features of c2 is 14\n",
      "Size of vectorization features of c3 is 14\n",
      "Size of vectorization features of brand_name is 1008\n",
      "Shape of total vectorization features of ['c1', 'c2', 'c3', 'brand_name'] is (18710, 1050)\n"
     ]
    }
   ],
   "source": [
    "test_cat_features, test_cat_features_name = encode_categories(test_df, \n",
    "                                                                columns = ['c1','c2','c3','brand_name'], \n",
    "                                                                min_df = 10, print_progress=True)\n",
    "\n"
   ]
  },
  {
   "cell_type": "code",
   "execution_count": 25,
   "metadata": {},
   "outputs": [
    {
     "name": "stdout",
     "output_type": "stream",
     "text": [
      "Size of vectorization features of clean_name is 2063\n",
      "Size of vectorization features of clean_description is 9130\n",
      "Shape of vectorization features of ['clean_name', 'clean_description'] is (18710, 11193)\n"
     ]
    }
   ],
   "source": [
    "test_str_features, test_str_features_name = encode_string_column(test_df, \n",
    "                                                                   columns=['clean_name', 'clean_description'],\n",
    "                                                                   min_df=10, max_features=15000, \n",
    "                                                                   print_progress=True)"
   ]
  },
  {
   "cell_type": "markdown",
   "metadata": {},
   "source": [
    "# Combine all features"
   ]
  },
  {
   "cell_type": "code",
   "execution_count": 15,
   "metadata": {},
   "outputs": [
    {
     "data": {
      "text/plain": [
       "['item_condition_id',\n",
       " 'shipping',\n",
       " 'clean_nameWordCount',\n",
       " 'clean_nameLength',\n",
       " 'clean_nameUpperCount',\n",
       " 'clean_nameLowerCount',\n",
       " 'clean_nameLowerRatio',\n",
       " 'clean_nameUpperRatio',\n",
       " 'clean_nameAvgWordLen',\n",
       " 'clean_descriptionWordCount',\n",
       " 'clean_descriptionLength',\n",
       " 'clean_descriptionUpperCount',\n",
       " 'clean_descriptionLowerCount',\n",
       " 'clean_descriptionLowerRatio',\n",
       " 'clean_descriptionUpperRatio',\n",
       " 'clean_descriptionAvgWordLen',\n",
       " 'c1WordCount',\n",
       " 'c1Length',\n",
       " 'c1UpperCount',\n",
       " 'c1LowerCount',\n",
       " 'c1LowerRatio',\n",
       " 'c1UpperRatio',\n",
       " 'c1AvgWordLen',\n",
       " 'c2WordCount',\n",
       " 'c2Length',\n",
       " 'c2UpperCount',\n",
       " 'c2LowerCount',\n",
       " 'c2LowerRatio',\n",
       " 'c2UpperRatio',\n",
       " 'c2AvgWordLen',\n",
       " 'c3WordCount',\n",
       " 'c3Length',\n",
       " 'c3UpperCount',\n",
       " 'c3LowerCount',\n",
       " 'c3LowerRatio',\n",
       " 'c3UpperRatio',\n",
       " 'c3AvgWordLen',\n",
       " 'brand_nameWordCount',\n",
       " 'brand_nameLength',\n",
       " 'brand_nameUpperCount',\n",
       " 'brand_nameLowerCount',\n",
       " 'brand_nameLowerRatio',\n",
       " 'brand_nameUpperRatio',\n",
       " 'brand_nameAvgWordLen',\n",
       " 'nameStopWordCount',\n",
       " 'namePunctuationCount',\n",
       " 'nameSpecialCount',\n",
       " 'item_descriptionStopWordCount',\n",
       " 'item_descriptionPunctuationCount',\n",
       " 'item_descriptionSpecialCount']"
      ]
     },
     "execution_count": 15,
     "metadata": {},
     "output_type": "execute_result"
    }
   ],
   "source": [
    "other_columns = list(train_df.select_dtypes([np.number]).columns)\n",
    "other_columns.remove('train_id')\n",
    "other_columns"
   ]
  },
  {
   "cell_type": "code",
   "execution_count": 16,
   "metadata": {},
   "outputs": [
    {
     "name": "stdout",
     "output_type": "stream",
     "text": [
      "Train other features size: (74840, 50), Test other features size: (18710, 50)\n"
     ]
    }
   ],
   "source": [
    "train_other_features = train_df[other_columns].values\n",
    "test_other_features = test_df[other_columns].values\n",
    "print('Train other features size: %s, Test other features size: %s'%(train_other_features.shape, test_other_features.shape))"
   ]
  },
  {
   "cell_type": "code",
   "execution_count": null,
   "metadata": {},
   "outputs": [],
   "source": [
    "all_train = np.hstack((train_cat_features, train_str_features, train_other_features))\n",
    "all_test = np.hstack((test_cat_features, test_str_features, test_other_features))\n",
    "print('Train features size: %s, Test features size: %s'%(all_train.shape, \n",
    "                                                         all_test.shape))"
   ]
  },
  {
   "cell_type": "markdown",
   "metadata": {},
   "source": [
    "# Feature Selection"
   ]
  },
  {
   "cell_type": "code",
   "execution_count": null,
   "metadata": {},
   "outputs": [],
   "source": [
    "estimator = Ridge(solver=\"sag\",alpha=4.5)\n",
    "selector = RFECV(estimator, step=1, cv=5, min_features_to_select = 1000)\n",
    "selector = selector.fit(all_train, y_train)\n"
   ]
  },
  {
   "cell_type": "code",
   "execution_count": null,
   "metadata": {},
   "outputs": [],
   "source": [
    "selector.support_"
   ]
  },
  {
   "cell_type": "code",
   "execution_count": null,
   "metadata": {},
   "outputs": [],
   "source": [
    "selector.ranking_"
   ]
  },
  {
   "cell_type": "code",
   "execution_count": null,
   "metadata": {},
   "outputs": [],
   "source": [
    "select_train = all_train[selector.support_]\n",
    "select_train.shape"
   ]
  },
  {
   "cell_type": "code",
   "execution_count": null,
   "metadata": {},
   "outputs": [],
   "source": [
    "select_test = all_test[selector.support_]\n",
    "select_test.shape"
   ]
  },
  {
   "cell_type": "markdown",
   "metadata": {},
   "source": [
    "# Hyperparameter Tuning"
   ]
  },
  {
   "cell_type": "markdown",
   "metadata": {},
   "source": [
    "## Random Forest Regressor"
   ]
  },
  {
   "cell_type": "code",
   "execution_count": 23,
   "metadata": {},
   "outputs": [],
   "source": [
    "\n"
   ]
  },
  {
   "cell_type": "code",
   "execution_count": null,
   "metadata": {},
   "outputs": [],
   "source": []
  },
  {
   "cell_type": "markdown",
   "metadata": {},
   "source": [
    "# Train with best hyparameter"
   ]
  },
  {
   "cell_type": "code",
   "execution_count": null,
   "metadata": {},
   "outputs": [],
   "source": []
  },
  {
   "cell_type": "code",
   "execution_count": null,
   "metadata": {},
   "outputs": [],
   "source": []
  }
 ],
 "metadata": {
  "kernelspec": {
   "display_name": "Python 3",
   "language": "python",
   "name": "python3"
  },
  "language_info": {
   "codemirror_mode": {
    "name": "ipython",
    "version": 3
   },
   "file_extension": ".py",
   "mimetype": "text/x-python",
   "name": "python",
   "nbconvert_exporter": "python",
   "pygments_lexer": "ipython3",
   "version": "3.6.5"
  }
 },
 "nbformat": 4,
 "nbformat_minor": 4
}
