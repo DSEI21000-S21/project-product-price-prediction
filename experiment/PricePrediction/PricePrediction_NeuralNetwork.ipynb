{
 "cells": [
  {
   "cell_type": "code",
   "execution_count": 2,
   "metadata": {},
   "outputs": [],
   "source": [
    "import sys\n",
    "sys.path.append('/Users/jinchen/Desktop/DSE/IntroML/Project/project-product-price-prediction')"
   ]
  },
  {
   "cell_type": "code",
   "execution_count": 3,
   "metadata": {},
   "outputs": [
    {
     "name": "stderr",
     "output_type": "stream",
     "text": [
      "Using TensorFlow backend.\n"
     ]
    }
   ],
   "source": [
    "import pandas as pd\n",
    "import numpy as np\n",
    "from final.model_evaluation.keras_model import neural_network\n",
    "from sklearn.model_selection import train_test_split\n",
    "from final.random_sampling.even_sample_brand import stratified_sampling_by_brand\n",
    "from final.feature_extraction.text_vectorization import encode_categories,encode_string_column\n",
    "\n",
    "from sklearn.feature_selection import SelectKBest\n",
    "from sklearn.feature_selection import f_regression # F-value between label/feature for regression tasks.\n",
    "from final.helper.save_data import save_np_file"
   ]
  },
  {
   "cell_type": "code",
   "execution_count": 5,
   "metadata": {},
   "outputs": [],
   "source": [
    "df = pd.read_csv(\"../../data/clean_data_with_text_features.csv\")"
   ]
  },
  {
   "cell_type": "code",
   "execution_count": 6,
   "metadata": {},
   "outputs": [
    {
     "name": "stdout",
     "output_type": "stream",
     "text": [
      "Train size: (1184865, 45), Test size: (296217, 45)\n"
     ]
    }
   ],
   "source": [
    "Y = np.log1p(df['price'])\n",
    "df.drop(['price'], axis=1, inplace=True)\n",
    "\n",
    "train_df, test_df , y_train, y_test = train_test_split(df, Y, test_size=0.2, random_state=12342)\n",
    "print('Train size: %s, Test size: %s'%(train_df.shape, test_df.shape))"
   ]
  },
  {
   "cell_type": "markdown",
   "metadata": {},
   "source": [
    "# Feature Extraction"
   ]
  },
  {
   "cell_type": "code",
   "execution_count": null,
   "metadata": {},
   "outputs": [
    {
     "name": "stdout",
     "output_type": "stream",
     "text": [
      "Size of vectorization features of c1 is 13\n",
      "Size of vectorization features of c2 is 144\n",
      "Size of vectorization features of c3 is 780\n",
      "Size of vectorization features of brand_name is 2002\n",
      "Shape of train vectorization features of ['c1', 'c2', 'c3', 'brand_name'] is (1184865, 2939)\n",
      "Shape of test vectorization features of ['c1', 'c2', 'c3', 'brand_name'] is (296217, 2939)\n",
      "Size of vectorization features of clean_name is 15000\n",
      "Size of vectorization features of clean_description is 15000\n",
      "Shape of train vectorization features of ['clean_name', 'clean_description'] is (1184865, 30000)\n",
      "Shape of test vectorization features of ['clean_name', 'clean_description'] is (296217, 30000)\n"
     ]
    }
   ],
   "source": [
    "train_cat_features, test_cat_features, train_cat_features_name = encode_categories(train_df, test_df,\n",
    "                                                                columns = ['c1','c2','c3','brand_name'],\n",
    "                                                                min_df = 10, print_progress=True)\n",
    "train_str_features, test_str_features, train_str_features_name = encode_string_column(train_df, test_df,\n",
    "                                                                   columns=['clean_name', 'clean_description'],\n",
    "                                                                   min_df=10, max_features=15000,\n",
    "                                                                   print_progress=True)\n",
    "other_columns = list(train_df.select_dtypes([np.number]).columns)\n",
    "other_columns.remove('train_id')\n",
    "train_other_features = train_df[other_columns].values\n",
    "test_other_features = test_df[other_columns].values\n",
    "all_train = np.hstack((train_cat_features, train_str_features, train_other_features))\n",
    "all_test = np.hstack((test_cat_features, test_str_features, test_other_features))\n",
    "print('Train features size: %s, Test features size: %s'%(all_train.shape,\n",
    "                                                         all_test.shape))"
   ]
  },
  {
   "cell_type": "code",
   "execution_count": null,
   "metadata": {},
   "outputs": [],
   "source": [
    "del train_cat_features, train_str_features, train_other_features\n",
    "del test_cat_features, test_str_features, test_other_features\n",
    "del train_df, test_df"
   ]
  },
  {
   "cell_type": "markdown",
   "metadata": {},
   "source": [
    "# Feature Selection"
   ]
  },
  {
   "cell_type": "code",
   "execution_count": null,
   "metadata": {},
   "outputs": [],
   "source": [
    "# select k best\n",
    "skb = SelectKBest(f_regression, k=5000)\n",
    "x_skb_select_train = skb.fit_transform(all_train, y_train)\n",
    "x_skb_select_test = skb.transform(all_test)"
   ]
  },
  {
   "cell_type": "code",
   "execution_count": null,
   "metadata": {},
   "outputs": [],
   "source": [
    "directory = \"../../data\"\n",
    "save_np_file(dir = directory, filename=\"select_k_best_train.npy\", data=x_skb_select_train)\n",
    "save_np_file(dir = directory, filename=\"select_k_best_test.npy\", data=x_skb_select_test)\n",
    "save_np_file(dir = directory, filename=\"y_train.npy\", data=y_train)\n",
    "save_np_file(dir = directory, filename=\"y_test.npy\", data=y_test)"
   ]
  },
  {
   "cell_type": "markdown",
   "metadata": {},
   "source": [
    "# Train NN Model"
   ]
  },
  {
   "cell_type": "markdown",
   "metadata": {},
   "source": [
    "### With Select k Best Feature"
   ]
  },
  {
   "cell_type": "code",
   "execution_count": null,
   "metadata": {},
   "outputs": [],
   "source": [
    "model = neural_network(model_prefix=\"select_k_best\")\n",
    "model.fit(x_skb_select_train, y_train.values,n_epoch=30,epoch=1, bs=128)"
   ]
  },
  {
   "cell_type": "code",
   "execution_count": null,
   "metadata": {},
   "outputs": [],
   "source": [
    "model.model.summary()"
   ]
  },
  {
   "cell_type": "code",
   "execution_count": null,
   "metadata": {},
   "outputs": [],
   "source": [
    "skb_select_train_pred = model.predict(x_skb_select_train)\n",
    "skb_select_test_pred = model.predict(x_skb_select_test)"
   ]
  },
  {
   "cell_type": "code",
   "execution_count": null,
   "metadata": {},
   "outputs": [],
   "source": [
    "model.evaluation(y_train, skb_select_train_pred, y_test, skb_select_test_pred, price_split=30)"
   ]
  },
  {
   "cell_type": "markdown",
   "metadata": {},
   "source": [
    "## With all features"
   ]
  },
  {
   "cell_type": "code",
   "execution_count": null,
   "metadata": {},
   "outputs": [],
   "source": [
    "all_model = neural_network(model_prefix=\"all_data\")\n",
    "all_model.fit(all_train, y_train.values,n_epoch=30,epoch=1, bs=128)"
   ]
  },
  {
   "cell_type": "code",
   "execution_count": null,
   "metadata": {},
   "outputs": [],
   "source": [
    "all_train_pred = all_model.predict(all_train)\n",
    "all_test_pred = all_model.predict(all_test)"
   ]
  },
  {
   "cell_type": "code",
   "execution_count": null,
   "metadata": {},
   "outputs": [],
   "source": [
    "all_model.evaluation(y_train, all_train_pred, y_test, all_test_pred, price_split=30)"
   ]
  },
  {
   "cell_type": "code",
   "execution_count": null,
   "metadata": {},
   "outputs": [],
   "source": []
  }
 ],
 "metadata": {
  "kernelspec": {
   "display_name": "Python 3",
   "language": "python",
   "name": "python3"
  },
  "language_info": {
   "codemirror_mode": {
    "name": "ipython",
    "version": 3
   },
   "file_extension": ".py",
   "mimetype": "text/x-python",
   "name": "python",
   "nbconvert_exporter": "python",
   "pygments_lexer": "ipython3",
   "version": "3.6.5"
  }
 },
 "nbformat": 4,
 "nbformat_minor": 4
}
