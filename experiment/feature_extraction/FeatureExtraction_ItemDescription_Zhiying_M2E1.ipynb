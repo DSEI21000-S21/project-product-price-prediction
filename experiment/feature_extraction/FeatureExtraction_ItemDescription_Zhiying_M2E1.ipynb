{
 "cells": [
  {
   "cell_type": "code",
   "execution_count": 1,
   "metadata": {
    "ExecuteTime": {
     "end_time": "2021-05-03T20:05:36.219198Z",
     "start_time": "2021-05-03T20:05:32.894110Z"
    }
   },
   "outputs": [],
   "source": [
    "import matplotlib\n",
    "import numpy as np\n",
    "import pandas as pd\n",
    "import seaborn as sns\n",
    "import matplotlib.pyplot as plt\n",
    "import os\n",
    "import seaborn as sns\n",
    "\n",
    "matplotlib.rcParams['figure.figsize'] = (15, 15)\n",
    "plt.rcParams['figure.constrained_layout.use'] = True"
   ]
  },
  {
   "cell_type": "code",
   "execution_count": 31,
   "metadata": {
    "ExecuteTime": {
     "end_time": "2021-05-03T20:07:35.784403Z",
     "start_time": "2021-05-03T20:07:35.426961Z"
    }
   },
   "outputs": [],
   "source": [
    "# load data\n",
    "df = pd.read_csv(\"../../data/random_samples/stratified_sampling_clean_text_data_by_price_whigh_sz50000_1619835594.csv\")"
   ]
  },
  {
   "cell_type": "code",
   "execution_count": 3,
   "metadata": {
    "ExecuteTime": {
     "end_time": "2021-05-03T20:05:36.664919Z",
     "start_time": "2021-05-03T20:05:36.629786Z"
    }
   },
   "outputs": [
    {
     "data": {
      "text/html": [
       "<div>\n",
       "<style scoped>\n",
       "    .dataframe tbody tr th:only-of-type {\n",
       "        vertical-align: middle;\n",
       "    }\n",
       "\n",
       "    .dataframe tbody tr th {\n",
       "        vertical-align: top;\n",
       "    }\n",
       "\n",
       "    .dataframe thead th {\n",
       "        text-align: right;\n",
       "    }\n",
       "</style>\n",
       "<table border=\"1\" class=\"dataframe\">\n",
       "  <thead>\n",
       "    <tr style=\"text-align: right;\">\n",
       "      <th></th>\n",
       "      <th>train_id</th>\n",
       "      <th>clean_item_description</th>\n",
       "      <th>item_description_bef_word_count</th>\n",
       "      <th>item_description_bef_char_count</th>\n",
       "      <th>item_description_bef_avg_word_len</th>\n",
       "      <th>item_description_upper_word_count</th>\n",
       "      <th>item_description_upper_char_count</th>\n",
       "      <th>item_description_stopword_count</th>\n",
       "      <th>item_description_punctuation_count</th>\n",
       "      <th>item_description_number_count</th>\n",
       "      <th>...</th>\n",
       "      <th>item_name_after_avg_word_len</th>\n",
       "      <th>item_condition_id</th>\n",
       "      <th>category_name</th>\n",
       "      <th>brand_name</th>\n",
       "      <th>shipping</th>\n",
       "      <th>price</th>\n",
       "      <th>c1</th>\n",
       "      <th>c2</th>\n",
       "      <th>c3</th>\n",
       "      <th>price_bin</th>\n",
       "    </tr>\n",
       "  </thead>\n",
       "  <tbody>\n",
       "    <tr>\n",
       "      <th>0</th>\n",
       "      <td>806824</td>\n",
       "      <td>new tags</td>\n",
       "      <td>3.0</td>\n",
       "      <td>13.0</td>\n",
       "      <td>4.333333</td>\n",
       "      <td>0.0</td>\n",
       "      <td>1.0</td>\n",
       "      <td>1.0</td>\n",
       "      <td>0.0</td>\n",
       "      <td>0.0</td>\n",
       "      <td>...</td>\n",
       "      <td>5.25</td>\n",
       "      <td>1</td>\n",
       "      <td>Women/Athletic Apparel/Shirts &amp; Tops</td>\n",
       "      <td>Nike</td>\n",
       "      <td>1</td>\n",
       "      <td>15.0</td>\n",
       "      <td>women</td>\n",
       "      <td>athletic apparel</td>\n",
       "      <td>shirts &amp; tops</td>\n",
       "      <td>(10, 15]</td>\n",
       "    </tr>\n",
       "    <tr>\n",
       "      <th>1</th>\n",
       "      <td>772820</td>\n",
       "      <td>nastasya every hills lipstick fashion</td>\n",
       "      <td>6.0</td>\n",
       "      <td>42.0</td>\n",
       "      <td>7.000000</td>\n",
       "      <td>0.0</td>\n",
       "      <td>4.0</td>\n",
       "      <td>1.0</td>\n",
       "      <td>0.0</td>\n",
       "      <td>0.0</td>\n",
       "      <td>...</td>\n",
       "      <td>10.00</td>\n",
       "      <td>1</td>\n",
       "      <td>Beauty/Makeup/Lips</td>\n",
       "      <td>Anastasia Beverly Hills</td>\n",
       "      <td>0</td>\n",
       "      <td>22.0</td>\n",
       "      <td>beauty</td>\n",
       "      <td>makeup</td>\n",
       "      <td>lips</td>\n",
       "      <td>(20, 25]</td>\n",
       "    </tr>\n",
       "  </tbody>\n",
       "</table>\n",
       "<p>2 rows × 34 columns</p>\n",
       "</div>"
      ],
      "text/plain": [
       "   train_id                 clean_item_description  \\\n",
       "0    806824                               new tags   \n",
       "1    772820  nastasya every hills lipstick fashion   \n",
       "\n",
       "   item_description_bef_word_count  item_description_bef_char_count  \\\n",
       "0                              3.0                             13.0   \n",
       "1                              6.0                             42.0   \n",
       "\n",
       "   item_description_bef_avg_word_len  item_description_upper_word_count  \\\n",
       "0                           4.333333                                0.0   \n",
       "1                           7.000000                                0.0   \n",
       "\n",
       "   item_description_upper_char_count  item_description_stopword_count  \\\n",
       "0                                1.0                              1.0   \n",
       "1                                4.0                              1.0   \n",
       "\n",
       "   item_description_punctuation_count  item_description_number_count  ...  \\\n",
       "0                                 0.0                            0.0  ...   \n",
       "1                                 0.0                            0.0  ...   \n",
       "\n",
       "   item_name_after_avg_word_len  item_condition_id  \\\n",
       "0                          5.25                  1   \n",
       "1                         10.00                  1   \n",
       "\n",
       "                          category_name               brand_name  shipping  \\\n",
       "0  Women/Athletic Apparel/Shirts & Tops                     Nike         1   \n",
       "1                    Beauty/Makeup/Lips  Anastasia Beverly Hills         0   \n",
       "\n",
       "   price      c1                c2             c3  price_bin  \n",
       "0   15.0   women  athletic apparel  shirts & tops   (10, 15]  \n",
       "1   22.0  beauty            makeup           lips   (20, 25]  \n",
       "\n",
       "[2 rows x 34 columns]"
      ]
     },
     "execution_count": 3,
     "metadata": {},
     "output_type": "execute_result"
    }
   ],
   "source": [
    "df.head(2)"
   ]
  },
  {
   "cell_type": "code",
   "execution_count": 6,
   "metadata": {
    "ExecuteTime": {
     "end_time": "2021-05-03T20:05:38.111818Z",
     "start_time": "2021-05-03T20:05:38.106269Z"
    }
   },
   "outputs": [
    {
     "data": {
      "text/plain": [
       "(50000, 34)"
      ]
     },
     "execution_count": 6,
     "metadata": {},
     "output_type": "execute_result"
    }
   ],
   "source": [
    "df.shape"
   ]
  },
  {
   "cell_type": "markdown",
   "metadata": {},
   "source": [
    "## Vectorize the Pre-processed Item_Description column using tfidf\n",
    "- purpose: to quantifies the importance of a particular word relative to the a collection of documents\n",
    "\n",
    "$$tfidf = tf(w) * idf(w)$$\n",
    "\n",
    "where:\n",
    "\n",
    "$$tf(w) = \\frac{(number  \\,\\, of   \\,\\,times  \\,\\,the \\,\\, word  \\,\\,appears  \\,\\,in  \\,\\,the  \\,\\,document)}{(Total \\,\\,number\\,\\, of \\,\\,words \\,\\,in \\,\\,the \\,\\,document)}$$\n",
    "\n",
    "\n",
    "$$idf(w) = log(\\frac{Number \\,\\,of\\,\\,documents}{ number \\,\\,of \\,\\,documents \\,\\,that \\,\\,contain \\,\\,word \\,\\, w})$$\n",
    "\n",
    "\n",
    "\n",
    "\n",
    "\n",
    "\n",
    "\n",
    "TF (Term Frequency) =  measure how frequently a term occurs in a document\n",
    "\n",
    "IDF (Inverse DOcument Frequency) = measure how important a term is. Less important words have lower IDF values\n",
    "\n",
    "Tfidfvectorizer systematically compute word counts, then compute the Inverse Document Frequency and then compute the TFIDF score"
   ]
  },
  {
   "cell_type": "code",
   "execution_count": 40,
   "metadata": {
    "ExecuteTime": {
     "end_time": "2021-05-03T20:10:08.346749Z",
     "start_time": "2021-05-03T20:10:08.338284Z"
    }
   },
   "outputs": [],
   "source": [
    "from sklearn.feature_extraction.text import TfidfVectorizer"
   ]
  },
  {
   "cell_type": "code",
   "execution_count": 41,
   "metadata": {
    "ExecuteTime": {
     "end_time": "2021-05-03T20:10:09.029381Z",
     "start_time": "2021-05-03T20:10:08.986278Z"
    }
   },
   "outputs": [],
   "source": [
    "vectorizer = TfidfVectorizer(analyzer = \"word\",\n",
    "                             max_features=10000,\n",
    "                             ngram_range = (1,2)\n",
    "                             )"
   ]
  },
  {
   "cell_type": "code",
   "execution_count": 42,
   "metadata": {
    "ExecuteTime": {
     "end_time": "2021-05-03T20:10:13.719751Z",
     "start_time": "2021-05-03T20:10:09.586307Z"
    }
   },
   "outputs": [
    {
     "data": {
      "text/plain": [
       "(50000, 10000)"
      ]
     },
     "execution_count": 42,
     "metadata": {},
     "output_type": "execute_result"
    }
   ],
   "source": [
    "vz = vectorizer.fit_transform(df['clean_item_description'].values).toarray()\n",
    "vz.shape"
   ]
  },
  {
   "cell_type": "markdown",
   "metadata": {},
   "source": [
    "the rows of the vz matrix is the total records of item_description,\n",
    "\n",
    "the column of the vz matrix is the features"
   ]
  },
  {
   "cell_type": "code",
   "execution_count": 43,
   "metadata": {
    "ExecuteTime": {
     "end_time": "2021-05-03T20:10:13.777623Z",
     "start_time": "2021-05-03T20:10:13.727041Z"
    }
   },
   "outputs": [],
   "source": [
    "feature_names = vectorizer.get_feature_names()"
   ]
  },
  {
   "cell_type": "code",
   "execution_count": 44,
   "metadata": {
    "ExecuteTime": {
     "end_time": "2021-05-03T20:10:13.811917Z",
     "start_time": "2021-05-03T20:10:13.790644Z"
    }
   },
   "outputs": [],
   "source": [
    "# make a df out of the vectorized text\n",
    "ndf = pd.DataFrame(vz, columns = feature_names)"
   ]
  },
  {
   "cell_type": "code",
   "execution_count": 45,
   "metadata": {
    "ExecuteTime": {
     "end_time": "2021-05-03T20:10:13.870667Z",
     "start_time": "2021-05-03T20:10:13.824061Z"
    }
   },
   "outputs": [
    {
     "data": {
      "text/html": [
       "<div>\n",
       "<style scoped>\n",
       "    .dataframe tbody tr th:only-of-type {\n",
       "        vertical-align: middle;\n",
       "    }\n",
       "\n",
       "    .dataframe tbody tr th {\n",
       "        vertical-align: top;\n",
       "    }\n",
       "\n",
       "    .dataframe thead th {\n",
       "        text-align: right;\n",
       "    }\n",
       "</style>\n",
       "<table border=\"1\" class=\"dataframe\">\n",
       "  <thead>\n",
       "    <tr style=\"text-align: right;\">\n",
       "      <th></th>\n",
       "      <th>00</th>\n",
       "      <th>007</th>\n",
       "      <th>01</th>\n",
       "      <th>02</th>\n",
       "      <th>03</th>\n",
       "      <th>03 months</th>\n",
       "      <th>04</th>\n",
       "      <th>05</th>\n",
       "      <th>06</th>\n",
       "      <th>07</th>\n",
       "      <th>...</th>\n",
       "      <th>zip front</th>\n",
       "      <th>zip hood</th>\n",
       "      <th>zip jacket</th>\n",
       "      <th>zip plover</th>\n",
       "      <th>zip pocket</th>\n",
       "      <th>zip pockets</th>\n",
       "      <th>zip size</th>\n",
       "      <th>zip sweatshirt</th>\n",
       "      <th>zip top</th>\n",
       "      <th>zone</th>\n",
       "    </tr>\n",
       "  </thead>\n",
       "  <tbody>\n",
       "    <tr>\n",
       "      <th>0</th>\n",
       "      <td>0.0</td>\n",
       "      <td>0.0</td>\n",
       "      <td>0.0</td>\n",
       "      <td>0.0</td>\n",
       "      <td>0.0</td>\n",
       "      <td>0.0</td>\n",
       "      <td>0.0</td>\n",
       "      <td>0.0</td>\n",
       "      <td>0.0</td>\n",
       "      <td>0.0</td>\n",
       "      <td>...</td>\n",
       "      <td>0.0</td>\n",
       "      <td>0.0</td>\n",
       "      <td>0.0</td>\n",
       "      <td>0.0</td>\n",
       "      <td>0.0</td>\n",
       "      <td>0.0</td>\n",
       "      <td>0.0</td>\n",
       "      <td>0.0</td>\n",
       "      <td>0.0</td>\n",
       "      <td>0.0</td>\n",
       "    </tr>\n",
       "    <tr>\n",
       "      <th>1</th>\n",
       "      <td>0.0</td>\n",
       "      <td>0.0</td>\n",
       "      <td>0.0</td>\n",
       "      <td>0.0</td>\n",
       "      <td>0.0</td>\n",
       "      <td>0.0</td>\n",
       "      <td>0.0</td>\n",
       "      <td>0.0</td>\n",
       "      <td>0.0</td>\n",
       "      <td>0.0</td>\n",
       "      <td>...</td>\n",
       "      <td>0.0</td>\n",
       "      <td>0.0</td>\n",
       "      <td>0.0</td>\n",
       "      <td>0.0</td>\n",
       "      <td>0.0</td>\n",
       "      <td>0.0</td>\n",
       "      <td>0.0</td>\n",
       "      <td>0.0</td>\n",
       "      <td>0.0</td>\n",
       "      <td>0.0</td>\n",
       "    </tr>\n",
       "    <tr>\n",
       "      <th>2</th>\n",
       "      <td>0.0</td>\n",
       "      <td>0.0</td>\n",
       "      <td>0.0</td>\n",
       "      <td>0.0</td>\n",
       "      <td>0.0</td>\n",
       "      <td>0.0</td>\n",
       "      <td>0.0</td>\n",
       "      <td>0.0</td>\n",
       "      <td>0.0</td>\n",
       "      <td>0.0</td>\n",
       "      <td>...</td>\n",
       "      <td>0.0</td>\n",
       "      <td>0.0</td>\n",
       "      <td>0.0</td>\n",
       "      <td>0.0</td>\n",
       "      <td>0.0</td>\n",
       "      <td>0.0</td>\n",
       "      <td>0.0</td>\n",
       "      <td>0.0</td>\n",
       "      <td>0.0</td>\n",
       "      <td>0.0</td>\n",
       "    </tr>\n",
       "    <tr>\n",
       "      <th>3</th>\n",
       "      <td>0.0</td>\n",
       "      <td>0.0</td>\n",
       "      <td>0.0</td>\n",
       "      <td>0.0</td>\n",
       "      <td>0.0</td>\n",
       "      <td>0.0</td>\n",
       "      <td>0.0</td>\n",
       "      <td>0.0</td>\n",
       "      <td>0.0</td>\n",
       "      <td>0.0</td>\n",
       "      <td>...</td>\n",
       "      <td>0.0</td>\n",
       "      <td>0.0</td>\n",
       "      <td>0.0</td>\n",
       "      <td>0.0</td>\n",
       "      <td>0.0</td>\n",
       "      <td>0.0</td>\n",
       "      <td>0.0</td>\n",
       "      <td>0.0</td>\n",
       "      <td>0.0</td>\n",
       "      <td>0.0</td>\n",
       "    </tr>\n",
       "    <tr>\n",
       "      <th>4</th>\n",
       "      <td>0.0</td>\n",
       "      <td>0.0</td>\n",
       "      <td>0.0</td>\n",
       "      <td>0.0</td>\n",
       "      <td>0.0</td>\n",
       "      <td>0.0</td>\n",
       "      <td>0.0</td>\n",
       "      <td>0.0</td>\n",
       "      <td>0.0</td>\n",
       "      <td>0.0</td>\n",
       "      <td>...</td>\n",
       "      <td>0.0</td>\n",
       "      <td>0.0</td>\n",
       "      <td>0.0</td>\n",
       "      <td>0.0</td>\n",
       "      <td>0.0</td>\n",
       "      <td>0.0</td>\n",
       "      <td>0.0</td>\n",
       "      <td>0.0</td>\n",
       "      <td>0.0</td>\n",
       "      <td>0.0</td>\n",
       "    </tr>\n",
       "  </tbody>\n",
       "</table>\n",
       "<p>5 rows × 10000 columns</p>\n",
       "</div>"
      ],
      "text/plain": [
       "    00  007   01   02   03  03 months   04   05   06   07  ...  zip front  \\\n",
       "0  0.0  0.0  0.0  0.0  0.0        0.0  0.0  0.0  0.0  0.0  ...        0.0   \n",
       "1  0.0  0.0  0.0  0.0  0.0        0.0  0.0  0.0  0.0  0.0  ...        0.0   \n",
       "2  0.0  0.0  0.0  0.0  0.0        0.0  0.0  0.0  0.0  0.0  ...        0.0   \n",
       "3  0.0  0.0  0.0  0.0  0.0        0.0  0.0  0.0  0.0  0.0  ...        0.0   \n",
       "4  0.0  0.0  0.0  0.0  0.0        0.0  0.0  0.0  0.0  0.0  ...        0.0   \n",
       "\n",
       "   zip hood  zip jacket  zip plover  zip pocket  zip pockets  zip size  \\\n",
       "0       0.0         0.0         0.0         0.0          0.0       0.0   \n",
       "1       0.0         0.0         0.0         0.0          0.0       0.0   \n",
       "2       0.0         0.0         0.0         0.0          0.0       0.0   \n",
       "3       0.0         0.0         0.0         0.0          0.0       0.0   \n",
       "4       0.0         0.0         0.0         0.0          0.0       0.0   \n",
       "\n",
       "   zip sweatshirt  zip top  zone  \n",
       "0             0.0      0.0   0.0  \n",
       "1             0.0      0.0   0.0  \n",
       "2             0.0      0.0   0.0  \n",
       "3             0.0      0.0   0.0  \n",
       "4             0.0      0.0   0.0  \n",
       "\n",
       "[5 rows x 10000 columns]"
      ]
     },
     "execution_count": 45,
     "metadata": {},
     "output_type": "execute_result"
    }
   ],
   "source": [
    "ndf.head()"
   ]
  },
  {
   "cell_type": "code",
   "execution_count": 14,
   "metadata": {
    "ExecuteTime": {
     "end_time": "2021-05-03T20:05:48.496693Z",
     "start_time": "2021-05-03T20:05:48.489019Z"
    }
   },
   "outputs": [
    {
     "data": {
      "text/plain": [
       "(50000, 10000)"
      ]
     },
     "execution_count": 14,
     "metadata": {},
     "output_type": "execute_result"
    }
   ],
   "source": [
    "ndf.shape"
   ]
  },
  {
   "cell_type": "code",
   "execution_count": 15,
   "metadata": {
    "ExecuteTime": {
     "end_time": "2021-05-03T20:05:49.704065Z",
     "start_time": "2021-05-03T20:05:49.694609Z"
    }
   },
   "outputs": [],
   "source": [
    "# create a dictionary for each feature and its tfidf values\n",
    "dictionary = dict(zip(feature_names, vectorizer.idf_))"
   ]
  },
  {
   "cell_type": "code",
   "execution_count": 16,
   "metadata": {
    "ExecuteTime": {
     "end_time": "2021-05-03T20:05:50.431174Z",
     "start_time": "2021-05-03T20:05:50.420233Z"
    }
   },
   "outputs": [],
   "source": [
    "feature_dict = pd.DataFrame.from_dict(dictionary,orient='index', columns= ['tfidf_score'])"
   ]
  },
  {
   "cell_type": "code",
   "execution_count": 17,
   "metadata": {
    "ExecuteTime": {
     "end_time": "2021-05-03T20:05:51.737796Z",
     "start_time": "2021-05-03T20:05:51.730302Z"
    }
   },
   "outputs": [],
   "source": [
    "feature_dict.sort_values(by = 'tfidf_score',ascending = False, inplace = True)"
   ]
  },
  {
   "cell_type": "code",
   "execution_count": 18,
   "metadata": {
    "ExecuteTime": {
     "end_time": "2021-05-03T20:05:52.471927Z",
     "start_time": "2021-05-03T20:05:52.461858Z"
    }
   },
   "outputs": [
    {
     "data": {
      "text/plain": [
       "10000"
      ]
     },
     "execution_count": 18,
     "metadata": {},
     "output_type": "execute_result"
    }
   ],
   "source": [
    "len(dictionary.keys())"
   ]
  },
  {
   "cell_type": "markdown",
   "metadata": {},
   "source": [
    "Visualize the top 10 features with the highest idf weights\n",
    "- The higher the numerical weight value, the rarer the term\n",
    "- The idf of a rare term is high, whereas the idf of a frequent term is likely to be low\n"
   ]
  },
  {
   "cell_type": "code",
   "execution_count": null,
   "metadata": {
    "ExecuteTime": {
     "end_time": "2021-05-03T19:29:16.754460Z",
     "start_time": "2021-05-03T19:29:16.747872Z"
    }
   },
   "outputs": [],
   "source": [
    "feature_dict['tfidf_score'][:10]"
   ]
  },
  {
   "cell_type": "code",
   "execution_count": null,
   "metadata": {
    "ExecuteTime": {
     "end_time": "2021-05-03T19:29:17.312880Z",
     "start_time": "2021-05-03T19:29:16.756835Z"
    }
   },
   "outputs": [],
   "source": [
    "plt.bar(height = feature_dict['tfidf_score'][:11].values, x = feature_dict.index[:11])\n",
    "\n",
    "plt.title(\"top 10 features with the highest tfidf score\".title(), fontweight= 'bold')\n",
    "\n",
    "plt.xticks(rotation=90);\n",
    "\n",
    "plt.ylabel(\"tfidf score\".title(), fontsize = 12);\n",
    "\n",
    "plt.show()"
   ]
  },
  {
   "cell_type": "markdown",
   "metadata": {},
   "source": [
    "## Just use the top Linear Discriminant Analysis + TSNE\n",
    "- takes very long to vectorize them"
   ]
  },
  {
   "cell_type": "code",
   "execution_count": 19,
   "metadata": {
    "ExecuteTime": {
     "end_time": "2021-05-03T20:05:55.392465Z",
     "start_time": "2021-05-03T20:05:55.184433Z"
    }
   },
   "outputs": [],
   "source": [
    "from sklearn.discriminant_analysis import LinearDiscriminantAnalysis as LDA"
   ]
  },
  {
   "cell_type": "code",
   "execution_count": 46,
   "metadata": {
    "ExecuteTime": {
     "end_time": "2021-05-03T20:10:16.781795Z",
     "start_time": "2021-05-03T20:10:16.775942Z"
    }
   },
   "outputs": [
    {
     "data": {
      "text/plain": [
       "(50000, 10000)"
      ]
     },
     "execution_count": 46,
     "metadata": {},
     "output_type": "execute_result"
    }
   ],
   "source": [
    "ndf.shape"
   ]
  },
  {
   "cell_type": "code",
   "execution_count": 47,
   "metadata": {
    "ExecuteTime": {
     "end_time": "2021-05-03T20:10:18.474639Z",
     "start_time": "2021-05-03T20:10:18.465400Z"
    }
   },
   "outputs": [],
   "source": [
    "ndf['predict_variable_price'] = df['price']\n",
    "\n",
    "ndf['predict_variable_category'] = df['c1']"
   ]
  },
  {
   "cell_type": "code",
   "execution_count": 48,
   "metadata": {
    "ExecuteTime": {
     "end_time": "2021-05-03T20:10:19.561234Z",
     "start_time": "2021-05-03T20:10:19.555663Z"
    }
   },
   "outputs": [
    {
     "data": {
      "text/plain": [
       "(50000, 10002)"
      ]
     },
     "execution_count": 48,
     "metadata": {},
     "output_type": "execute_result"
    }
   ],
   "source": [
    "ndf.shape"
   ]
  },
  {
   "cell_type": "code",
   "execution_count": 58,
   "metadata": {
    "ExecuteTime": {
     "end_time": "2021-05-03T20:12:29.632190Z",
     "start_time": "2021-05-03T20:12:23.487396Z"
    }
   },
   "outputs": [],
   "source": [
    "# Define X and y\n",
    "y_price = ndf.iloc[:,-2]\n",
    "y_category = ndf.iloc[:,-1]\n",
    "X = ndf.iloc[:,:-2]"
   ]
  },
  {
   "cell_type": "code",
   "execution_count": null,
   "metadata": {
    "ExecuteTime": {
     "start_time": "2021-05-03T20:15:42.410Z"
    }
   },
   "outputs": [],
   "source": [
    "# instantiate the classifier\n",
    "clf = LDA(n_components = 2)\n",
    "\n",
    "# clf fit on category\n",
    "clf.fit_transform(X, y_category)"
   ]
  },
  {
   "cell_type": "code",
   "execution_count": 63,
   "metadata": {
    "ExecuteTime": {
     "end_time": "2021-05-03T20:14:39.837019Z",
     "start_time": "2021-05-03T20:14:39.830251Z"
    }
   },
   "outputs": [
    {
     "name": "stdout",
     "output_type": "stream",
     "text": [
      "(50000, 10000)\n",
      "(50000,)\n"
     ]
    }
   ],
   "source": [
    "print(X.shape)\n",
    "print(y_price.shape)"
   ]
  },
  {
   "cell_type": "markdown",
   "metadata": {},
   "source": [
    "## pca + tsne"
   ]
  },
  {
   "cell_type": "code",
   "execution_count": null,
   "metadata": {
    "ExecuteTime": {
     "end_time": "2021-05-03T19:29:17.332167Z",
     "start_time": "2021-05-03T19:29:17.316840Z"
    }
   },
   "outputs": [],
   "source": [
    "os.chdir(\"/Users/zhiying/OneDrive - The City College of New York/DSE I2100 Applied ML and Data Mining/project/project-product-price-prediction\")"
   ]
  },
  {
   "cell_type": "code",
   "execution_count": null,
   "metadata": {
    "ExecuteTime": {
     "end_time": "2021-05-03T19:29:17.916668Z",
     "start_time": "2021-05-03T19:29:17.335787Z"
    }
   },
   "outputs": [],
   "source": [
    "from final.dimension_reduction.feature_reduction import dimension_reduction"
   ]
  },
  {
   "cell_type": "code",
   "execution_count": null,
   "metadata": {
    "ExecuteTime": {
     "end_time": "2021-05-03T19:30:43.147721Z",
     "start_time": "2021-05-03T19:29:17.918960Z"
    }
   },
   "outputs": [],
   "source": [
    "pca_df = pca_df = dimension_reduction(ndf, \"PCA\", 10)"
   ]
  },
  {
   "cell_type": "code",
   "execution_count": null,
   "metadata": {
    "ExecuteTime": {
     "end_time": "2021-05-03T19:30:43.442683Z",
     "start_time": "2021-05-03T19:30:43.167041Z"
    }
   },
   "outputs": [],
   "source": [
    "pca_df.shape"
   ]
  },
  {
   "cell_type": "code",
   "execution_count": null,
   "metadata": {
    "ExecuteTime": {
     "end_time": "2021-05-03T19:36:29.374618Z",
     "start_time": "2021-05-03T19:31:19.218954Z"
    }
   },
   "outputs": [],
   "source": [
    "from sklearn.manifold import TSNE\n",
    "\n",
    "random_state = 32\n",
    "\n",
    "# instantiate\n",
    "tsne = TSNE(n_components = 2, random_state = random_state, verbose=1,n_iter=250 )\n",
    "\n",
    "# fit on data\n",
    "tsne_tfidf = tsne.fit_transform(pca_df)"
   ]
  },
  {
   "cell_type": "code",
   "execution_count": null,
   "metadata": {
    "ExecuteTime": {
     "end_time": "2021-05-03T19:41:41.840931Z",
     "start_time": "2021-05-03T19:41:41.835570Z"
    }
   },
   "outputs": [],
   "source": [
    "tsne_tfidf.shape"
   ]
  },
  {
   "cell_type": "code",
   "execution_count": null,
   "metadata": {
    "ExecuteTime": {
     "end_time": "2021-05-03T19:41:30.961233Z",
     "start_time": "2021-05-03T19:41:30.941387Z"
    }
   },
   "outputs": [],
   "source": [
    "vis_df = pd.DataFrame(tsne_tfidf, columns=['x', 'y'])"
   ]
  },
  {
   "cell_type": "code",
   "execution_count": null,
   "metadata": {
    "ExecuteTime": {
     "end_time": "2021-05-03T19:42:35.285103Z",
     "start_time": "2021-05-03T19:42:35.260303Z"
    }
   },
   "outputs": [],
   "source": [
    "vis_df['category'] = df['c1']\n",
    "vis_df['price'] = df['price_bin']"
   ]
  },
  {
   "cell_type": "code",
   "execution_count": null,
   "metadata": {
    "ExecuteTime": {
     "end_time": "2021-05-03T19:42:44.834312Z",
     "start_time": "2021-05-03T19:42:44.784943Z"
    }
   },
   "outputs": [],
   "source": [
    "vis_df"
   ]
  },
  {
   "cell_type": "code",
   "execution_count": null,
   "metadata": {
    "ExecuteTime": {
     "end_time": "2021-05-03T19:50:23.842492Z",
     "start_time": "2021-05-03T19:50:21.763632Z"
    }
   },
   "outputs": [],
   "source": [
    "\n",
    "sns.scatterplot(data=vis_df, x='x', y='y', hue='category')\n",
    "\n",
    "plt.title(\"Visualize Item description t-SNE \\n stratify by category\".title(), fontweight = \"bold\", fontsize = 20)\n",
    "\n",
    "plt.xlabel(\"principal component 1\".title(), fontweight = \"bold\", fontsize = 20)\n",
    "\n",
    "plt.ylabel(\"principal component 2\".title(), fontweight = \"bold\", fontsize = 20)\n",
    "\n",
    "plt.show()"
   ]
  },
  {
   "cell_type": "code",
   "execution_count": null,
   "metadata": {
    "ExecuteTime": {
     "end_time": "2021-05-03T19:50:03.165366Z",
     "start_time": "2021-05-03T19:50:00.425498Z"
    }
   },
   "outputs": [],
   "source": [
    "\n",
    "sns.scatterplot(data=vis_df, x='x', y='y', hue='price')\n",
    "\n",
    "plt.title(\"Visualize Item description t-SNE \\n stratify by price bin\".title(), fontweight = \"bold\", fontsize = 20)\n",
    "\n",
    "plt.xlabel(\"principal component 1\".title(), fontweight = \"bold\", fontsize = 20)\n",
    "\n",
    "plt.ylabel(\"principal component 2\".title(), fontweight = \"bold\", fontsize = 20)\n",
    "\n",
    "plt.show()"
   ]
  },
  {
   "cell_type": "code",
   "execution_count": null,
   "metadata": {},
   "outputs": [],
   "source": []
  },
  {
   "cell_type": "code",
   "execution_count": null,
   "metadata": {},
   "outputs": [],
   "source": []
  }
 ],
 "metadata": {
  "hide_input": false,
  "kernelspec": {
   "display_name": "Python 3",
   "language": "python",
   "name": "python3"
  },
  "language_info": {
   "codemirror_mode": {
    "name": "ipython",
    "version": 3
   },
   "file_extension": ".py",
   "mimetype": "text/x-python",
   "name": "python",
   "nbconvert_exporter": "python",
   "pygments_lexer": "ipython3",
   "version": "3.8.3"
  },
  "toc": {
   "base_numbering": 1,
   "nav_menu": {},
   "number_sections": true,
   "sideBar": true,
   "skip_h1_title": false,
   "title_cell": "Table of Contents",
   "title_sidebar": "Contents",
   "toc_cell": false,
   "toc_position": {},
   "toc_section_display": true,
   "toc_window_display": true
  }
 },
 "nbformat": 4,
 "nbformat_minor": 4
}
