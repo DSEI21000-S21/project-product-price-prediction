{
  "nbformat": 4,
  "nbformat_minor": 0,
  "metadata": {
    "colab": {
      "name": "FeatureExtraction_ItemDescription_E1.ipynb",
      "provenance": [],
      "authorship_tag": "ABX9TyNfxV9f5tYCFt8K/wVhLcEV",
      "include_colab_link": true
    },
    "kernelspec": {
      "name": "python3",
      "display_name": "Python 3"
    },
    "language_info": {
      "name": "python"
    }
  },
  "cells": [
    {
      "cell_type": "markdown",
      "metadata": {
        "id": "view-in-github",
        "colab_type": "text"
      },
      "source": [
        "<a href=\"https://colab.research.google.com/github/DSEI21000-S21/project-product-price-prediction/blob/main/experiment/feature_extraction/FeatureExtraction_ItemDescription_E1.ipynb\" target=\"_parent\"><img src=\"https://colab.research.google.com/assets/colab-badge.svg\" alt=\"Open In Colab\"/></a>"
      ]
    },
    {
      "cell_type": "code",
      "metadata": {
        "id": "7zsM-i0iVGFx"
      },
      "source": [
        "# Google Drive Authen\n",
        "from pydrive.auth import GoogleAuth\n",
        "from pydrive.drive import GoogleDrive\n",
        "from google.colab import auth\n",
        "from oauth2client.client import GoogleCredentials"
      ],
      "execution_count": 38,
      "outputs": []
    },
    {
      "cell_type": "code",
      "metadata": {
        "id": "XcXGWOHuVpTl",
        "colab": {
          "base_uri": "https://localhost:8080/"
        },
        "outputId": "47231d7b-38b1-412e-e6ad-b9b4bfbea8a6"
      },
      "source": [
        "import pandas as pd\n",
        "import nltk\n",
        "from nltk.corpus import stopwords\n",
        "nltk.download('stopwords')"
      ],
      "execution_count": 86,
      "outputs": [
        {
          "output_type": "stream",
          "text": [
            "[nltk_data] Downloading package stopwords to /root/nltk_data...\n",
            "[nltk_data]   Package stopwords is already up-to-date!\n"
          ],
          "name": "stdout"
        },
        {
          "output_type": "execute_result",
          "data": {
            "text/plain": [
              "True"
            ]
          },
          "metadata": {
            "tags": []
          },
          "execution_count": 86
        }
      ]
    },
    {
      "cell_type": "code",
      "metadata": {
        "id": "pGKLlMEzVJJu"
      },
      "source": [
        "auth.authenticate_user()\n",
        "gauth = GoogleAuth()\n",
        "gauth.credentials = GoogleCredentials.get_application_default()\n",
        "drive = GoogleDrive(gauth)"
      ],
      "execution_count": 40,
      "outputs": []
    },
    {
      "cell_type": "code",
      "metadata": {
        "id": "idXOlhdlVMCS"
      },
      "source": [
        "# download sample data\n",
        "drive.CreateFile({\"id\":\"18Q86UkTlN2_hr5EviqMpAo9JKNE9jUsf\"}).GetContentFile(\"sample_data.csv\")\n",
        "\n",
        "# download python functions\n",
        "drive.CreateFile({\"id\":\"1lQtmsLASMJJliF0XqIErqSaXRLkZeCWW\"}).GetContentFile(\"extract_text_info.py\")\n",
        "\n",
        "# import functions from those python file\n",
        "from extract_text_info import extract_general_text_info\n",
        "from extract_text_info import extract_word_counts\n"
      ],
      "execution_count": 50,
      "outputs": []
    },
    {
      "cell_type": "code",
      "metadata": {
        "id": "narfvzjcVd1E"
      },
      "source": [
        "df = pd.read_csv(\"sample_data.csv\")"
      ],
      "execution_count": 42,
      "outputs": []
    },
    {
      "cell_type": "code",
      "metadata": {
        "colab": {
          "base_uri": "https://localhost:8080/",
          "height": 204
        },
        "id": "RzNtVp6iFfTp",
        "outputId": "93623f14-231d-45c7-b12c-39293f2601b7"
      },
      "source": [
        "df.head()"
      ],
      "execution_count": 43,
      "outputs": [
        {
          "output_type": "execute_result",
          "data": {
            "text/html": [
              "<div>\n",
              "<style scoped>\n",
              "    .dataframe tbody tr th:only-of-type {\n",
              "        vertical-align: middle;\n",
              "    }\n",
              "\n",
              "    .dataframe tbody tr th {\n",
              "        vertical-align: top;\n",
              "    }\n",
              "\n",
              "    .dataframe thead th {\n",
              "        text-align: right;\n",
              "    }\n",
              "</style>\n",
              "<table border=\"1\" class=\"dataframe\">\n",
              "  <thead>\n",
              "    <tr style=\"text-align: right;\">\n",
              "      <th></th>\n",
              "      <th>train_id</th>\n",
              "      <th>name</th>\n",
              "      <th>item_condition_id</th>\n",
              "      <th>category_name</th>\n",
              "      <th>brand_name</th>\n",
              "      <th>price</th>\n",
              "      <th>shipping</th>\n",
              "      <th>item_description</th>\n",
              "    </tr>\n",
              "  </thead>\n",
              "  <tbody>\n",
              "    <tr>\n",
              "      <th>0</th>\n",
              "      <td>748447</td>\n",
              "      <td>Polaroid Camera</td>\n",
              "      <td>3</td>\n",
              "      <td>Electronics/Cameras &amp; Photography/Film Photogr...</td>\n",
              "      <td>NaN</td>\n",
              "      <td>27.0</td>\n",
              "      <td>1</td>\n",
              "      <td>Film not included</td>\n",
              "    </tr>\n",
              "    <tr>\n",
              "      <th>1</th>\n",
              "      <td>674932</td>\n",
              "      <td>Vintage Ashtray</td>\n",
              "      <td>3</td>\n",
              "      <td>Vintage &amp; Collectibles/Housewares/Coaster</td>\n",
              "      <td>NaN</td>\n",
              "      <td>8.0</td>\n",
              "      <td>0</td>\n",
              "      <td>Sip n Smoke ashtray. Would make a cute gift!</td>\n",
              "    </tr>\n",
              "    <tr>\n",
              "      <th>2</th>\n",
              "      <td>586672</td>\n",
              "      <td>Matilda Jane weekender nwt</td>\n",
              "      <td>1</td>\n",
              "      <td>Women/Women's Handbags/Other</td>\n",
              "      <td>NaN</td>\n",
              "      <td>52.0</td>\n",
              "      <td>0</td>\n",
              "      <td>NWT. Matilda Jane Clothing weekender bag. Over...</td>\n",
              "    </tr>\n",
              "    <tr>\n",
              "      <th>3</th>\n",
              "      <td>846012</td>\n",
              "      <td>Red Full Lace Wig</td>\n",
              "      <td>3</td>\n",
              "      <td>Women/Women's Accessories/Hair Accessories</td>\n",
              "      <td>NaN</td>\n",
              "      <td>69.0</td>\n",
              "      <td>0</td>\n",
              "      <td>12 inches</td>\n",
              "    </tr>\n",
              "    <tr>\n",
              "      <th>4</th>\n",
              "      <td>1026408</td>\n",
              "      <td>EQUATE NICOTINE TRANSDERMAL SYSTEM</td>\n",
              "      <td>1</td>\n",
              "      <td>Other/Daily &amp; Travel items/Personal Care</td>\n",
              "      <td>NaN</td>\n",
              "      <td>19.0</td>\n",
              "      <td>0</td>\n",
              "      <td>13 patches left. Too strong for my husband.</td>\n",
              "    </tr>\n",
              "  </tbody>\n",
              "</table>\n",
              "</div>"
            ],
            "text/plain": [
              "   train_id  ...                                   item_description\n",
              "0    748447  ...                                  Film not included\n",
              "1    674932  ...       Sip n Smoke ashtray. Would make a cute gift!\n",
              "2    586672  ...  NWT. Matilda Jane Clothing weekender bag. Over...\n",
              "3    846012  ...                                          12 inches\n",
              "4   1026408  ...        13 patches left. Too strong for my husband.\n",
              "\n",
              "[5 rows x 8 columns]"
            ]
          },
          "metadata": {
            "tags": []
          },
          "execution_count": 43
        }
      ]
    },
    {
      "cell_type": "code",
      "metadata": {
        "colab": {
          "base_uri": "https://localhost:8080/"
        },
        "id": "L-LzoZVBFgTI",
        "outputId": "2e6f880d-fd75-42c0-d2d1-5034feaa8e54"
      },
      "source": [
        "df.item_description"
      ],
      "execution_count": null,
      "outputs": [
        {
          "output_type": "execute_result",
          "data": {
            "text/plain": [
              "0                                      Film not included\n",
              "1           Sip n Smoke ashtray. Would make a cute gift!\n",
              "2      NWT. Matilda Jane Clothing weekender bag. Over...\n",
              "3                                              12 inches\n",
              "4            13 patches left. Too strong for my husband.\n",
              "                             ...                        \n",
              "995    Great used condition size 38, Dansko Clogs. Bl...\n",
              "996                                   No description yet\n",
              "997                                 Brand new firm price\n",
              "998    Set of 2 Rae Dunn Home Bowls, brand new releas...\n",
              "999                                    In good condition\n",
              "Name: item_description, Length: 1000, dtype: object"
            ]
          },
          "metadata": {
            "tags": []
          },
          "execution_count": 18
        }
      ]
    },
    {
      "cell_type": "code",
      "metadata": {
        "colab": {
          "base_uri": "https://localhost:8080/",
          "height": 745
        },
        "id": "5MEDsEoFYENX",
        "outputId": "d4144266-39a9-45f7-821e-43c26dd59160"
      },
      "source": [
        "# extract general text info\n",
        "stop_words = stopwords.words('english')\n",
        "extract_general_text_info(df,\"item_description\",stop_words )"
      ],
      "execution_count": 88,
      "outputs": [
        {
          "output_type": "execute_result",
          "data": {
            "text/html": [
              "<div>\n",
              "<style scoped>\n",
              "    .dataframe tbody tr th:only-of-type {\n",
              "        vertical-align: middle;\n",
              "    }\n",
              "\n",
              "    .dataframe tbody tr th {\n",
              "        vertical-align: top;\n",
              "    }\n",
              "\n",
              "    .dataframe thead th {\n",
              "        text-align: right;\n",
              "    }\n",
              "</style>\n",
              "<table border=\"1\" class=\"dataframe\">\n",
              "  <thead>\n",
              "    <tr style=\"text-align: right;\">\n",
              "      <th></th>\n",
              "      <th>train_id</th>\n",
              "      <th>name</th>\n",
              "      <th>item_condition_id</th>\n",
              "      <th>category_name</th>\n",
              "      <th>brand_name</th>\n",
              "      <th>price</th>\n",
              "      <th>shipping</th>\n",
              "      <th>item_description</th>\n",
              "      <th>upper_word_count</th>\n",
              "      <th>upper_char_count</th>\n",
              "      <th>stopword_count</th>\n",
              "      <th>punctuation_count</th>\n",
              "      <th>number_count</th>\n",
              "    </tr>\n",
              "  </thead>\n",
              "  <tbody>\n",
              "    <tr>\n",
              "      <th>0</th>\n",
              "      <td>748447</td>\n",
              "      <td>Polaroid Camera</td>\n",
              "      <td>3</td>\n",
              "      <td>Electronics/Cameras &amp; Photography/Film Photogr...</td>\n",
              "      <td>NaN</td>\n",
              "      <td>27.0</td>\n",
              "      <td>1</td>\n",
              "      <td>Film not included</td>\n",
              "      <td>0</td>\n",
              "      <td>1</td>\n",
              "      <td>1</td>\n",
              "      <td>0</td>\n",
              "      <td>0</td>\n",
              "    </tr>\n",
              "    <tr>\n",
              "      <th>1</th>\n",
              "      <td>674932</td>\n",
              "      <td>Vintage Ashtray</td>\n",
              "      <td>3</td>\n",
              "      <td>Vintage &amp; Collectibles/Housewares/Coaster</td>\n",
              "      <td>NaN</td>\n",
              "      <td>8.0</td>\n",
              "      <td>0</td>\n",
              "      <td>Sip n Smoke ashtray. Would make a cute gift!</td>\n",
              "      <td>0</td>\n",
              "      <td>3</td>\n",
              "      <td>1</td>\n",
              "      <td>2</td>\n",
              "      <td>0</td>\n",
              "    </tr>\n",
              "    <tr>\n",
              "      <th>2</th>\n",
              "      <td>586672</td>\n",
              "      <td>Matilda Jane weekender nwt</td>\n",
              "      <td>1</td>\n",
              "      <td>Women/Women's Handbags/Other</td>\n",
              "      <td>NaN</td>\n",
              "      <td>52.0</td>\n",
              "      <td>0</td>\n",
              "      <td>NWT. Matilda Jane Clothing weekender bag. Over...</td>\n",
              "      <td>1</td>\n",
              "      <td>7</td>\n",
              "      <td>0</td>\n",
              "      <td>7</td>\n",
              "      <td>0</td>\n",
              "    </tr>\n",
              "    <tr>\n",
              "      <th>3</th>\n",
              "      <td>846012</td>\n",
              "      <td>Red Full Lace Wig</td>\n",
              "      <td>3</td>\n",
              "      <td>Women/Women's Accessories/Hair Accessories</td>\n",
              "      <td>NaN</td>\n",
              "      <td>69.0</td>\n",
              "      <td>0</td>\n",
              "      <td>12 inches</td>\n",
              "      <td>0</td>\n",
              "      <td>0</td>\n",
              "      <td>0</td>\n",
              "      <td>0</td>\n",
              "      <td>1</td>\n",
              "    </tr>\n",
              "    <tr>\n",
              "      <th>4</th>\n",
              "      <td>1026408</td>\n",
              "      <td>EQUATE NICOTINE TRANSDERMAL SYSTEM</td>\n",
              "      <td>1</td>\n",
              "      <td>Other/Daily &amp; Travel items/Personal Care</td>\n",
              "      <td>NaN</td>\n",
              "      <td>19.0</td>\n",
              "      <td>0</td>\n",
              "      <td>13 patches left. Too strong for my husband.</td>\n",
              "      <td>0</td>\n",
              "      <td>1</td>\n",
              "      <td>3</td>\n",
              "      <td>2</td>\n",
              "      <td>1</td>\n",
              "    </tr>\n",
              "    <tr>\n",
              "      <th>...</th>\n",
              "      <td>...</td>\n",
              "      <td>...</td>\n",
              "      <td>...</td>\n",
              "      <td>...</td>\n",
              "      <td>...</td>\n",
              "      <td>...</td>\n",
              "      <td>...</td>\n",
              "      <td>...</td>\n",
              "      <td>...</td>\n",
              "      <td>...</td>\n",
              "      <td>...</td>\n",
              "      <td>...</td>\n",
              "      <td>...</td>\n",
              "    </tr>\n",
              "    <tr>\n",
              "      <th>995</th>\n",
              "      <td>581369</td>\n",
              "      <td>Dansko Clogs</td>\n",
              "      <td>3</td>\n",
              "      <td>Women/Shoes/Mules &amp; Clogs</td>\n",
              "      <td>Dansko</td>\n",
              "      <td>45.0</td>\n",
              "      <td>1</td>\n",
              "      <td>Great used condition size 38, Dansko Clogs. Bl...</td>\n",
              "      <td>8</td>\n",
              "      <td>22</td>\n",
              "      <td>58</td>\n",
              "      <td>17</td>\n",
              "      <td>0</td>\n",
              "    </tr>\n",
              "    <tr>\n",
              "      <th>996</th>\n",
              "      <td>589933</td>\n",
              "      <td>Men's BKE jeans</td>\n",
              "      <td>2</td>\n",
              "      <td>Men/Jeans/Classic, Straight Leg</td>\n",
              "      <td>BKE</td>\n",
              "      <td>23.0</td>\n",
              "      <td>1</td>\n",
              "      <td>No description yet</td>\n",
              "      <td>0</td>\n",
              "      <td>1</td>\n",
              "      <td>1</td>\n",
              "      <td>0</td>\n",
              "      <td>0</td>\n",
              "    </tr>\n",
              "    <tr>\n",
              "      <th>997</th>\n",
              "      <td>607839</td>\n",
              "      <td>Lularoe L Randy &amp; OS Leggings</td>\n",
              "      <td>1</td>\n",
              "      <td>Women/Athletic Apparel/Pants, Tights, Leggings</td>\n",
              "      <td>NaN</td>\n",
              "      <td>45.0</td>\n",
              "      <td>1</td>\n",
              "      <td>Brand new firm price</td>\n",
              "      <td>0</td>\n",
              "      <td>1</td>\n",
              "      <td>0</td>\n",
              "      <td>0</td>\n",
              "      <td>0</td>\n",
              "    </tr>\n",
              "    <tr>\n",
              "      <th>998</th>\n",
              "      <td>551139</td>\n",
              "      <td>Rae Dunn Home Bowl Set of 2 Red Interior</td>\n",
              "      <td>1</td>\n",
              "      <td>Home/Kitchen &amp; Dining/Dining &amp; Entertaining</td>\n",
              "      <td>Rae Dunn</td>\n",
              "      <td>40.0</td>\n",
              "      <td>0</td>\n",
              "      <td>Set of 2 Rae Dunn Home Bowls, brand new releas...</td>\n",
              "      <td>0</td>\n",
              "      <td>13</td>\n",
              "      <td>16</td>\n",
              "      <td>9</td>\n",
              "      <td>1</td>\n",
              "    </tr>\n",
              "    <tr>\n",
              "      <th>999</th>\n",
              "      <td>499736</td>\n",
              "      <td>Wku Fleece Quarter Zip Pullover And Tank</td>\n",
              "      <td>3</td>\n",
              "      <td>Men/Sweats &amp; Hoodies/Sweatshirt, Pullover</td>\n",
              "      <td>Champion</td>\n",
              "      <td>21.0</td>\n",
              "      <td>0</td>\n",
              "      <td>In good condition</td>\n",
              "      <td>0</td>\n",
              "      <td>1</td>\n",
              "      <td>1</td>\n",
              "      <td>0</td>\n",
              "      <td>0</td>\n",
              "    </tr>\n",
              "  </tbody>\n",
              "</table>\n",
              "<p>1000 rows × 13 columns</p>\n",
              "</div>"
            ],
            "text/plain": [
              "     train_id  ... number_count\n",
              "0      748447  ...            0\n",
              "1      674932  ...            0\n",
              "2      586672  ...            0\n",
              "3      846012  ...            1\n",
              "4     1026408  ...            1\n",
              "..        ...  ...          ...\n",
              "995    581369  ...            0\n",
              "996    589933  ...            0\n",
              "997    607839  ...            0\n",
              "998    551139  ...            1\n",
              "999    499736  ...            0\n",
              "\n",
              "[1000 rows x 13 columns]"
            ]
          },
          "metadata": {
            "tags": []
          },
          "execution_count": 88
        }
      ]
    },
    {
      "cell_type": "code",
      "metadata": {
        "colab": {
          "base_uri": "https://localhost:8080/"
        },
        "id": "ZfKaRCFAaJ_L",
        "outputId": "ddb78a9f-0542-49b3-9daf-025bae8c5923"
      },
      "source": [
        "df.iloc[:,8:].sum()"
      ],
      "execution_count": 97,
      "outputs": [
        {
          "output_type": "execute_result",
          "data": {
            "text/plain": [
              "upper_word_count      1929\n",
              "upper_char_count     12786\n",
              "stopword_count        7545\n",
              "punctuation_count     5924\n",
              "number_count           535\n",
              "dtype: int64"
            ]
          },
          "metadata": {
            "tags": []
          },
          "execution_count": 97
        }
      ]
    },
    {
      "cell_type": "markdown",
      "metadata": {
        "id": "amoWFjfKGWjS"
      },
      "source": [
        "**Explore various Text Feature Extraction Methods**\n",
        "\n",
        "\n",
        "1.   CountVectorizer from Sklearn\n",
        "2.   Tfidfvectorizer from Sklearn\n",
        "3.   TfidfTransformer from Sklearn\n",
        "4.   HashingVectorizer from Sklearn\n",
        "5.   Gensim’s Word2Vec\n",
        " \n",
        "\n",
        "\n"
      ]
    },
    {
      "cell_type": "code",
      "metadata": {
        "id": "28mplcaQZOv2"
      },
      "source": [
        ""
      ],
      "execution_count": null,
      "outputs": []
    }
  ]
}