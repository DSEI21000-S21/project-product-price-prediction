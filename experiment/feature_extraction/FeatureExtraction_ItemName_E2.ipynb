{
 "cells": [
  {
   "cell_type": "code",
   "execution_count": 10,
   "metadata": {},
   "outputs": [],
   "source": [
    "import string\n",
    "import numpy as np\n",
    "import pandas as pd\n",
    "import seaborn as sns\n",
    "import matplotlib.pyplot as plt\n",
    "\n",
    "\n",
    "from nltk.corpus import stopwords"
   ]
  },
  {
   "cell_type": "code",
   "execution_count": 4,
   "metadata": {},
   "outputs": [
    {
     "data": {
      "text/html": [
       "<div>\n",
       "<style scoped>\n",
       "    .dataframe tbody tr th:only-of-type {\n",
       "        vertical-align: middle;\n",
       "    }\n",
       "\n",
       "    .dataframe tbody tr th {\n",
       "        vertical-align: top;\n",
       "    }\n",
       "\n",
       "    .dataframe thead th {\n",
       "        text-align: right;\n",
       "    }\n",
       "</style>\n",
       "<table border=\"1\" class=\"dataframe\">\n",
       "  <thead>\n",
       "    <tr style=\"text-align: right;\">\n",
       "      <th></th>\n",
       "      <th>train_id</th>\n",
       "      <th>name</th>\n",
       "      <th>item_condition_id</th>\n",
       "      <th>category_name</th>\n",
       "      <th>brand_name</th>\n",
       "      <th>price</th>\n",
       "      <th>shipping</th>\n",
       "      <th>item_description</th>\n",
       "    </tr>\n",
       "  </thead>\n",
       "  <tbody>\n",
       "    <tr>\n",
       "      <th>0</th>\n",
       "      <td>748447</td>\n",
       "      <td>Polaroid Camera</td>\n",
       "      <td>3</td>\n",
       "      <td>Electronics/Cameras &amp; Photography/Film Photogr...</td>\n",
       "      <td>NaN</td>\n",
       "      <td>27.0</td>\n",
       "      <td>1</td>\n",
       "      <td>Film not included</td>\n",
       "    </tr>\n",
       "    <tr>\n",
       "      <th>1</th>\n",
       "      <td>674932</td>\n",
       "      <td>Vintage Ashtray</td>\n",
       "      <td>3</td>\n",
       "      <td>Vintage &amp; Collectibles/Housewares/Coaster</td>\n",
       "      <td>NaN</td>\n",
       "      <td>8.0</td>\n",
       "      <td>0</td>\n",
       "      <td>Sip n Smoke ashtray. Would make a cute gift!</td>\n",
       "    </tr>\n",
       "    <tr>\n",
       "      <th>2</th>\n",
       "      <td>586672</td>\n",
       "      <td>Matilda Jane weekender nwt</td>\n",
       "      <td>1</td>\n",
       "      <td>Women/Women's Handbags/Other</td>\n",
       "      <td>NaN</td>\n",
       "      <td>52.0</td>\n",
       "      <td>0</td>\n",
       "      <td>NWT. Matilda Jane Clothing weekender bag. Over...</td>\n",
       "    </tr>\n",
       "  </tbody>\n",
       "</table>\n",
       "</div>"
      ],
      "text/plain": [
       "   train_id                        name  item_condition_id  \\\n",
       "0    748447             Polaroid Camera                  3   \n",
       "1    674932             Vintage Ashtray                  3   \n",
       "2    586672  Matilda Jane weekender nwt                  1   \n",
       "\n",
       "                                       category_name brand_name  price  \\\n",
       "0  Electronics/Cameras & Photography/Film Photogr...        NaN   27.0   \n",
       "1          Vintage & Collectibles/Housewares/Coaster        NaN    8.0   \n",
       "2                       Women/Women's Handbags/Other        NaN   52.0   \n",
       "\n",
       "   shipping                                   item_description  \n",
       "0         1                                  Film not included  \n",
       "1         0       Sip n Smoke ashtray. Would make a cute gift!  \n",
       "2         0  NWT. Matilda Jane Clothing weekender bag. Over...  "
      ]
     },
     "execution_count": 4,
     "metadata": {},
     "output_type": "execute_result"
    }
   ],
   "source": [
    "# read sample data\n",
    "sample_df = pd.read_csv(\"../../data/sample_data.csv\")\n",
    "sample_df.head(3)"
   ]
  },
  {
   "cell_type": "markdown",
   "metadata": {},
   "source": [
    "# Extract Information about Text"
   ]
  },
  {
   "cell_type": "markdown",
   "metadata": {},
   "source": [
    "## 1. Counts\n",
    "    - Number of Upper Words / Characters\n",
    "    - Number of Words \n",
    "    - Number of Characters "
   ]
  },
  {
   "cell_type": "code",
   "execution_count": 18,
   "metadata": {},
   "outputs": [
    {
     "data": {
      "text/html": [
       "<div>\n",
       "<style scoped>\n",
       "    .dataframe tbody tr th:only-of-type {\n",
       "        vertical-align: middle;\n",
       "    }\n",
       "\n",
       "    .dataframe tbody tr th {\n",
       "        vertical-align: top;\n",
       "    }\n",
       "\n",
       "    .dataframe thead th {\n",
       "        text-align: right;\n",
       "    }\n",
       "</style>\n",
       "<table border=\"1\" class=\"dataframe\">\n",
       "  <thead>\n",
       "    <tr style=\"text-align: right;\">\n",
       "      <th></th>\n",
       "      <th>train_id</th>\n",
       "      <th>name</th>\n",
       "      <th>item_condition_id</th>\n",
       "      <th>category_name</th>\n",
       "      <th>brand_name</th>\n",
       "      <th>price</th>\n",
       "      <th>shipping</th>\n",
       "      <th>item_description</th>\n",
       "      <th>upper_word_count</th>\n",
       "      <th>upper_char_count</th>\n",
       "      <th>word_count</th>\n",
       "      <th>char_count</th>\n",
       "      <th>stopword_count</th>\n",
       "      <th>punctuation_count</th>\n",
       "      <th>number_count</th>\n",
       "    </tr>\n",
       "  </thead>\n",
       "  <tbody>\n",
       "    <tr>\n",
       "      <th>0</th>\n",
       "      <td>748447</td>\n",
       "      <td>Polaroid Camera</td>\n",
       "      <td>3</td>\n",
       "      <td>Electronics/Cameras &amp; Photography/Film Photogr...</td>\n",
       "      <td>NaN</td>\n",
       "      <td>27.0</td>\n",
       "      <td>1</td>\n",
       "      <td>Film not included</td>\n",
       "      <td>0</td>\n",
       "      <td>2</td>\n",
       "      <td>2</td>\n",
       "      <td>15</td>\n",
       "      <td>0</td>\n",
       "      <td>0</td>\n",
       "      <td>0</td>\n",
       "    </tr>\n",
       "    <tr>\n",
       "      <th>1</th>\n",
       "      <td>674932</td>\n",
       "      <td>Vintage Ashtray</td>\n",
       "      <td>3</td>\n",
       "      <td>Vintage &amp; Collectibles/Housewares/Coaster</td>\n",
       "      <td>NaN</td>\n",
       "      <td>8.0</td>\n",
       "      <td>0</td>\n",
       "      <td>Sip n Smoke ashtray. Would make a cute gift!</td>\n",
       "      <td>0</td>\n",
       "      <td>2</td>\n",
       "      <td>2</td>\n",
       "      <td>15</td>\n",
       "      <td>0</td>\n",
       "      <td>0</td>\n",
       "      <td>0</td>\n",
       "    </tr>\n",
       "    <tr>\n",
       "      <th>2</th>\n",
       "      <td>586672</td>\n",
       "      <td>Matilda Jane weekender nwt</td>\n",
       "      <td>1</td>\n",
       "      <td>Women/Women's Handbags/Other</td>\n",
       "      <td>NaN</td>\n",
       "      <td>52.0</td>\n",
       "      <td>0</td>\n",
       "      <td>NWT. Matilda Jane Clothing weekender bag. Over...</td>\n",
       "      <td>0</td>\n",
       "      <td>2</td>\n",
       "      <td>4</td>\n",
       "      <td>26</td>\n",
       "      <td>0</td>\n",
       "      <td>0</td>\n",
       "      <td>0</td>\n",
       "    </tr>\n",
       "  </tbody>\n",
       "</table>\n",
       "</div>"
      ],
      "text/plain": [
       "   train_id                        name  item_condition_id  \\\n",
       "0    748447             Polaroid Camera                  3   \n",
       "1    674932             Vintage Ashtray                  3   \n",
       "2    586672  Matilda Jane weekender nwt                  1   \n",
       "\n",
       "                                       category_name brand_name  price  \\\n",
       "0  Electronics/Cameras & Photography/Film Photogr...        NaN   27.0   \n",
       "1          Vintage & Collectibles/Housewares/Coaster        NaN    8.0   \n",
       "2                       Women/Women's Handbags/Other        NaN   52.0   \n",
       "\n",
       "   shipping                                   item_description  \\\n",
       "0         1                                  Film not included   \n",
       "1         0       Sip n Smoke ashtray. Would make a cute gift!   \n",
       "2         0  NWT. Matilda Jane Clothing weekender bag. Over...   \n",
       "\n",
       "   upper_word_count  upper_char_count  word_count  char_count  stopword_count  \\\n",
       "0                 0                 2           2          15               0   \n",
       "1                 0                 2           2          15               0   \n",
       "2                 0                 2           4          26               0   \n",
       "\n",
       "   punctuation_count  number_count  \n",
       "0                  0             0  \n",
       "1                  0             0  \n",
       "2                  0             0  "
      ]
     },
     "execution_count": 18,
     "metadata": {},
     "output_type": "execute_result"
    }
   ],
   "source": [
    "sample_df['upper_word_count'] = sample_df.name.apply(lambda x: len([x for x in x.split() if x.isupper()]))\n",
    "sample_df['upper_char_count'] = sample_df.name.apply(lambda x: len([x for x in x if x.isupper()]))\n",
    "sample_df['word_count'] = sample_df.name.apply(lambda x: len(x.split()))\n",
    "sample_df['char_count'] = sample_df.name.apply(lambda x: len(x))                                                    \n",
    "sample_df.head(3)"
   ]
  },
  {
   "cell_type": "markdown",
   "metadata": {},
   "source": [
    "## 2. Count Number of Stop words"
   ]
  },
  {
   "cell_type": "code",
   "execution_count": 12,
   "metadata": {},
   "outputs": [
    {
     "data": {
      "text/plain": [
       "3"
      ]
     },
     "execution_count": 12,
     "metadata": {},
     "output_type": "execute_result"
    }
   ],
   "source": [
    "stop = stopwords.words('english')\n",
    "sample_df['stopword_count'] = sample_df.name.apply(lambda x: len([x for x in x.split() if x.lower() in stop]))\n",
    "sample_df.stopword_count.max()"
   ]
  },
  {
   "cell_type": "markdown",
   "metadata": {},
   "source": [
    "## 3. Count Number of Punctuations"
   ]
  },
  {
   "cell_type": "code",
   "execution_count": 16,
   "metadata": {},
   "outputs": [
    {
     "data": {
      "text/plain": [
       "8"
      ]
     },
     "execution_count": 16,
     "metadata": {},
     "output_type": "execute_result"
    }
   ],
   "source": [
    "sample_df['punctuation_count'] = sample_df.name.apply(lambda x: len([x for x in x if x in string.punctuation]))\n",
    "sample_df.punctuation_count.max()"
   ]
  },
  {
   "cell_type": "markdown",
   "metadata": {},
   "source": [
    "## 4. Count Number of Numerical Characters"
   ]
  },
  {
   "cell_type": "code",
   "execution_count": 15,
   "metadata": {},
   "outputs": [
    {
     "data": {
      "text/plain": [
       "3"
      ]
     },
     "execution_count": 15,
     "metadata": {},
     "output_type": "execute_result"
    }
   ],
   "source": [
    "sample_df['number_count'] = sample_df.name.apply(lambda x: len([x for x in x.split() if x.isdigit()]))\n",
    "sample_df.number_count.max()"
   ]
  },
  {
   "cell_type": "markdown",
   "metadata": {},
   "source": [
    "## 5. Average Word Length"
   ]
  },
  {
   "cell_type": "code",
   "execution_count": 19,
   "metadata": {},
   "outputs": [
    {
     "data": {
      "text/html": [
       "<div>\n",
       "<style scoped>\n",
       "    .dataframe tbody tr th:only-of-type {\n",
       "        vertical-align: middle;\n",
       "    }\n",
       "\n",
       "    .dataframe tbody tr th {\n",
       "        vertical-align: top;\n",
       "    }\n",
       "\n",
       "    .dataframe thead th {\n",
       "        text-align: right;\n",
       "    }\n",
       "</style>\n",
       "<table border=\"1\" class=\"dataframe\">\n",
       "  <thead>\n",
       "    <tr style=\"text-align: right;\">\n",
       "      <th></th>\n",
       "      <th>train_id</th>\n",
       "      <th>name</th>\n",
       "      <th>item_condition_id</th>\n",
       "      <th>category_name</th>\n",
       "      <th>brand_name</th>\n",
       "      <th>price</th>\n",
       "      <th>shipping</th>\n",
       "      <th>item_description</th>\n",
       "      <th>upper_word_count</th>\n",
       "      <th>upper_char_count</th>\n",
       "      <th>word_count</th>\n",
       "      <th>char_count</th>\n",
       "      <th>stopword_count</th>\n",
       "      <th>punctuation_count</th>\n",
       "      <th>number_count</th>\n",
       "      <th>avg_word_len</th>\n",
       "    </tr>\n",
       "  </thead>\n",
       "  <tbody>\n",
       "    <tr>\n",
       "      <th>0</th>\n",
       "      <td>748447</td>\n",
       "      <td>Polaroid Camera</td>\n",
       "      <td>3</td>\n",
       "      <td>Electronics/Cameras &amp; Photography/Film Photogr...</td>\n",
       "      <td>NaN</td>\n",
       "      <td>27.0</td>\n",
       "      <td>1</td>\n",
       "      <td>Film not included</td>\n",
       "      <td>0</td>\n",
       "      <td>2</td>\n",
       "      <td>2</td>\n",
       "      <td>15</td>\n",
       "      <td>0</td>\n",
       "      <td>0</td>\n",
       "      <td>0</td>\n",
       "      <td>7.50</td>\n",
       "    </tr>\n",
       "    <tr>\n",
       "      <th>1</th>\n",
       "      <td>674932</td>\n",
       "      <td>Vintage Ashtray</td>\n",
       "      <td>3</td>\n",
       "      <td>Vintage &amp; Collectibles/Housewares/Coaster</td>\n",
       "      <td>NaN</td>\n",
       "      <td>8.0</td>\n",
       "      <td>0</td>\n",
       "      <td>Sip n Smoke ashtray. Would make a cute gift!</td>\n",
       "      <td>0</td>\n",
       "      <td>2</td>\n",
       "      <td>2</td>\n",
       "      <td>15</td>\n",
       "      <td>0</td>\n",
       "      <td>0</td>\n",
       "      <td>0</td>\n",
       "      <td>7.50</td>\n",
       "    </tr>\n",
       "    <tr>\n",
       "      <th>2</th>\n",
       "      <td>586672</td>\n",
       "      <td>Matilda Jane weekender nwt</td>\n",
       "      <td>1</td>\n",
       "      <td>Women/Women's Handbags/Other</td>\n",
       "      <td>NaN</td>\n",
       "      <td>52.0</td>\n",
       "      <td>0</td>\n",
       "      <td>NWT. Matilda Jane Clothing weekender bag. Over...</td>\n",
       "      <td>0</td>\n",
       "      <td>2</td>\n",
       "      <td>4</td>\n",
       "      <td>26</td>\n",
       "      <td>0</td>\n",
       "      <td>0</td>\n",
       "      <td>0</td>\n",
       "      <td>6.50</td>\n",
       "    </tr>\n",
       "    <tr>\n",
       "      <th>3</th>\n",
       "      <td>846012</td>\n",
       "      <td>Red Full Lace Wig</td>\n",
       "      <td>3</td>\n",
       "      <td>Women/Women's Accessories/Hair Accessories</td>\n",
       "      <td>NaN</td>\n",
       "      <td>69.0</td>\n",
       "      <td>0</td>\n",
       "      <td>12 inches</td>\n",
       "      <td>0</td>\n",
       "      <td>4</td>\n",
       "      <td>4</td>\n",
       "      <td>17</td>\n",
       "      <td>0</td>\n",
       "      <td>0</td>\n",
       "      <td>0</td>\n",
       "      <td>4.25</td>\n",
       "    </tr>\n",
       "    <tr>\n",
       "      <th>4</th>\n",
       "      <td>1026408</td>\n",
       "      <td>EQUATE NICOTINE TRANSDERMAL SYSTEM</td>\n",
       "      <td>1</td>\n",
       "      <td>Other/Daily &amp; Travel items/Personal Care</td>\n",
       "      <td>NaN</td>\n",
       "      <td>19.0</td>\n",
       "      <td>0</td>\n",
       "      <td>13 patches left. Too strong for my husband.</td>\n",
       "      <td>4</td>\n",
       "      <td>31</td>\n",
       "      <td>4</td>\n",
       "      <td>34</td>\n",
       "      <td>0</td>\n",
       "      <td>0</td>\n",
       "      <td>0</td>\n",
       "      <td>8.50</td>\n",
       "    </tr>\n",
       "  </tbody>\n",
       "</table>\n",
       "</div>"
      ],
      "text/plain": [
       "   train_id                                name  item_condition_id  \\\n",
       "0    748447                     Polaroid Camera                  3   \n",
       "1    674932                     Vintage Ashtray                  3   \n",
       "2    586672          Matilda Jane weekender nwt                  1   \n",
       "3    846012                   Red Full Lace Wig                  3   \n",
       "4   1026408  EQUATE NICOTINE TRANSDERMAL SYSTEM                  1   \n",
       "\n",
       "                                       category_name brand_name  price  \\\n",
       "0  Electronics/Cameras & Photography/Film Photogr...        NaN   27.0   \n",
       "1          Vintage & Collectibles/Housewares/Coaster        NaN    8.0   \n",
       "2                       Women/Women's Handbags/Other        NaN   52.0   \n",
       "3         Women/Women's Accessories/Hair Accessories        NaN   69.0   \n",
       "4           Other/Daily & Travel items/Personal Care        NaN   19.0   \n",
       "\n",
       "   shipping                                   item_description  \\\n",
       "0         1                                  Film not included   \n",
       "1         0       Sip n Smoke ashtray. Would make a cute gift!   \n",
       "2         0  NWT. Matilda Jane Clothing weekender bag. Over...   \n",
       "3         0                                          12 inches   \n",
       "4         0        13 patches left. Too strong for my husband.   \n",
       "\n",
       "   upper_word_count  upper_char_count  word_count  char_count  stopword_count  \\\n",
       "0                 0                 2           2          15               0   \n",
       "1                 0                 2           2          15               0   \n",
       "2                 0                 2           4          26               0   \n",
       "3                 0                 4           4          17               0   \n",
       "4                 4                31           4          34               0   \n",
       "\n",
       "   punctuation_count  number_count  avg_word_len  \n",
       "0                  0             0          7.50  \n",
       "1                  0             0          7.50  \n",
       "2                  0             0          6.50  \n",
       "3                  0             0          4.25  \n",
       "4                  0             0          8.50  "
      ]
     },
     "execution_count": 19,
     "metadata": {},
     "output_type": "execute_result"
    }
   ],
   "source": [
    "sample_df['avg_word_len'] = sample_df['char_count'] / sample_df['word_count']\n",
    "sample_df.head(5)"
   ]
  },
  {
   "cell_type": "code",
   "execution_count": null,
   "metadata": {},
   "outputs": [],
   "source": []
  }
 ],
 "metadata": {
  "kernelspec": {
   "display_name": "Python 3",
   "language": "python",
   "name": "python3"
  },
  "language_info": {
   "codemirror_mode": {
    "name": "ipython",
    "version": 3
   },
   "file_extension": ".py",
   "mimetype": "text/x-python",
   "name": "python",
   "nbconvert_exporter": "python",
   "pygments_lexer": "ipython3",
   "version": "3.6.5"
  }
 },
 "nbformat": 4,
 "nbformat_minor": 4
}
