{
 "cells": [
  {
   "cell_type": "code",
   "execution_count": 61,
   "metadata": {},
   "outputs": [],
   "source": [
    "import string\n",
    "import numpy as np\n",
    "import pandas as pd\n",
    "import seaborn as sns\n",
    "import matplotlib.pyplot as plt\n",
    "\n",
    "import nltk\n",
    "from nltk.stem import WordNetLemmatizer \n",
    "from nltk.corpus import stopwords\n",
    "\n",
    "from textblob import TextBlob"
   ]
  },
  {
   "cell_type": "code",
   "execution_count": 62,
   "metadata": {},
   "outputs": [
    {
     "data": {
      "text/html": [
       "<div>\n",
       "<style scoped>\n",
       "    .dataframe tbody tr th:only-of-type {\n",
       "        vertical-align: middle;\n",
       "    }\n",
       "\n",
       "    .dataframe tbody tr th {\n",
       "        vertical-align: top;\n",
       "    }\n",
       "\n",
       "    .dataframe thead th {\n",
       "        text-align: right;\n",
       "    }\n",
       "</style>\n",
       "<table border=\"1\" class=\"dataframe\">\n",
       "  <thead>\n",
       "    <tr style=\"text-align: right;\">\n",
       "      <th></th>\n",
       "      <th>train_id</th>\n",
       "      <th>name</th>\n",
       "    </tr>\n",
       "  </thead>\n",
       "  <tbody>\n",
       "    <tr>\n",
       "      <th>0</th>\n",
       "      <td>748447</td>\n",
       "      <td>Polaroid Camera</td>\n",
       "    </tr>\n",
       "    <tr>\n",
       "      <th>1</th>\n",
       "      <td>674932</td>\n",
       "      <td>Vintage Ashtray</td>\n",
       "    </tr>\n",
       "    <tr>\n",
       "      <th>2</th>\n",
       "      <td>586672</td>\n",
       "      <td>Matilda Jane weekender nwt</td>\n",
       "    </tr>\n",
       "  </tbody>\n",
       "</table>\n",
       "</div>"
      ],
      "text/plain": [
       "   train_id                        name\n",
       "0    748447             Polaroid Camera\n",
       "1    674932             Vintage Ashtray\n",
       "2    586672  Matilda Jane weekender nwt"
      ]
     },
     "execution_count": 62,
     "metadata": {},
     "output_type": "execute_result"
    }
   ],
   "source": [
    "# read sample data\n",
    "sample_df = pd.read_csv(\"../../data/sample_data.csv\")\n",
    "sample_df = sample_df[['train_id', 'name']]\n",
    "sample_df.head(3)"
   ]
  },
  {
   "cell_type": "markdown",
   "metadata": {},
   "source": [
    "# Extract Information about Text"
   ]
  },
  {
   "cell_type": "markdown",
   "metadata": {},
   "source": [
    "## 1. Counts\n",
    "    - Number of Upper Words / Characters\n",
    "    - Number of Words before text cleaning\n",
    "    - Number of Characters before text cleaning"
   ]
  },
  {
   "cell_type": "code",
   "execution_count": 63,
   "metadata": {},
   "outputs": [
    {
     "data": {
      "text/html": [
       "<div>\n",
       "<style scoped>\n",
       "    .dataframe tbody tr th:only-of-type {\n",
       "        vertical-align: middle;\n",
       "    }\n",
       "\n",
       "    .dataframe tbody tr th {\n",
       "        vertical-align: top;\n",
       "    }\n",
       "\n",
       "    .dataframe thead th {\n",
       "        text-align: right;\n",
       "    }\n",
       "</style>\n",
       "<table border=\"1\" class=\"dataframe\">\n",
       "  <thead>\n",
       "    <tr style=\"text-align: right;\">\n",
       "      <th></th>\n",
       "      <th>train_id</th>\n",
       "      <th>name</th>\n",
       "      <th>upper_word_count</th>\n",
       "      <th>upper_char_count</th>\n",
       "      <th>bef_word_count</th>\n",
       "      <th>bef_char_count</th>\n",
       "    </tr>\n",
       "  </thead>\n",
       "  <tbody>\n",
       "    <tr>\n",
       "      <th>0</th>\n",
       "      <td>748447</td>\n",
       "      <td>Polaroid Camera</td>\n",
       "      <td>0</td>\n",
       "      <td>2</td>\n",
       "      <td>2</td>\n",
       "      <td>15</td>\n",
       "    </tr>\n",
       "    <tr>\n",
       "      <th>1</th>\n",
       "      <td>674932</td>\n",
       "      <td>Vintage Ashtray</td>\n",
       "      <td>0</td>\n",
       "      <td>2</td>\n",
       "      <td>2</td>\n",
       "      <td>15</td>\n",
       "    </tr>\n",
       "    <tr>\n",
       "      <th>2</th>\n",
       "      <td>586672</td>\n",
       "      <td>Matilda Jane weekender nwt</td>\n",
       "      <td>0</td>\n",
       "      <td>2</td>\n",
       "      <td>4</td>\n",
       "      <td>26</td>\n",
       "    </tr>\n",
       "    <tr>\n",
       "      <th>3</th>\n",
       "      <td>846012</td>\n",
       "      <td>Red Full Lace Wig</td>\n",
       "      <td>0</td>\n",
       "      <td>4</td>\n",
       "      <td>4</td>\n",
       "      <td>17</td>\n",
       "    </tr>\n",
       "    <tr>\n",
       "      <th>4</th>\n",
       "      <td>1026408</td>\n",
       "      <td>EQUATE NICOTINE TRANSDERMAL SYSTEM</td>\n",
       "      <td>4</td>\n",
       "      <td>31</td>\n",
       "      <td>4</td>\n",
       "      <td>34</td>\n",
       "    </tr>\n",
       "  </tbody>\n",
       "</table>\n",
       "</div>"
      ],
      "text/plain": [
       "   train_id                                name  upper_word_count  \\\n",
       "0    748447                     Polaroid Camera                 0   \n",
       "1    674932                     Vintage Ashtray                 0   \n",
       "2    586672          Matilda Jane weekender nwt                 0   \n",
       "3    846012                   Red Full Lace Wig                 0   \n",
       "4   1026408  EQUATE NICOTINE TRANSDERMAL SYSTEM                 4   \n",
       "\n",
       "   upper_char_count  bef_word_count  bef_char_count  \n",
       "0                 2               2              15  \n",
       "1                 2               2              15  \n",
       "2                 2               4              26  \n",
       "3                 4               4              17  \n",
       "4                31               4              34  "
      ]
     },
     "execution_count": 63,
     "metadata": {},
     "output_type": "execute_result"
    }
   ],
   "source": [
    "sample_df['upper_word_count'] = sample_df.name.apply(lambda x: len([x for x in x.split() if x.isupper()]))\n",
    "sample_df['upper_char_count'] = sample_df.name.apply(lambda x: len([x for x in x if x.isupper()]))\n",
    "sample_df['bef_word_count'] = sample_df.name.apply(lambda x: len(x.split()))\n",
    "sample_df['bef_char_count'] = sample_df.name.apply(lambda x: len(x))                                                    \n",
    "sample_df.head(5)"
   ]
  },
  {
   "cell_type": "markdown",
   "metadata": {},
   "source": [
    "## 2. Count Number of Stop words"
   ]
  },
  {
   "cell_type": "code",
   "execution_count": 64,
   "metadata": {},
   "outputs": [
    {
     "data": {
      "text/plain": [
       "3"
      ]
     },
     "execution_count": 64,
     "metadata": {},
     "output_type": "execute_result"
    }
   ],
   "source": [
    "stop = stopwords.words('english')\n",
    "sample_df['stopword_count'] = sample_df.name.apply(lambda x: len([x for x in x.split() if x.lower() in stop]))\n",
    "sample_df.stopword_count.max()"
   ]
  },
  {
   "cell_type": "markdown",
   "metadata": {},
   "source": [
    "## 3. Count Number of Punctuations"
   ]
  },
  {
   "cell_type": "code",
   "execution_count": 65,
   "metadata": {},
   "outputs": [
    {
     "data": {
      "text/plain": [
       "8"
      ]
     },
     "execution_count": 65,
     "metadata": {},
     "output_type": "execute_result"
    }
   ],
   "source": [
    "sample_df['punctuation_count'] = sample_df.name.apply(lambda x: len([x for x in x if x in string.punctuation]))\n",
    "sample_df.punctuation_count.max()"
   ]
  },
  {
   "cell_type": "markdown",
   "metadata": {},
   "source": [
    "## 4. Count Number of Numerical Characters"
   ]
  },
  {
   "cell_type": "code",
   "execution_count": 66,
   "metadata": {},
   "outputs": [
    {
     "data": {
      "text/plain": [
       "3"
      ]
     },
     "execution_count": 66,
     "metadata": {},
     "output_type": "execute_result"
    }
   ],
   "source": [
    "sample_df['number_count'] = sample_df.name.apply(lambda x: len([x for x in x.split() if x.isdigit()]))\n",
    "sample_df.number_count.max()"
   ]
  },
  {
   "cell_type": "markdown",
   "metadata": {},
   "source": [
    "## 5. Average Word Length"
   ]
  },
  {
   "cell_type": "code",
   "execution_count": 67,
   "metadata": {},
   "outputs": [
    {
     "data": {
      "text/html": [
       "<div>\n",
       "<style scoped>\n",
       "    .dataframe tbody tr th:only-of-type {\n",
       "        vertical-align: middle;\n",
       "    }\n",
       "\n",
       "    .dataframe tbody tr th {\n",
       "        vertical-align: top;\n",
       "    }\n",
       "\n",
       "    .dataframe thead th {\n",
       "        text-align: right;\n",
       "    }\n",
       "</style>\n",
       "<table border=\"1\" class=\"dataframe\">\n",
       "  <thead>\n",
       "    <tr style=\"text-align: right;\">\n",
       "      <th></th>\n",
       "      <th>train_id</th>\n",
       "      <th>name</th>\n",
       "      <th>upper_word_count</th>\n",
       "      <th>upper_char_count</th>\n",
       "      <th>bef_word_count</th>\n",
       "      <th>bef_char_count</th>\n",
       "      <th>stopword_count</th>\n",
       "      <th>punctuation_count</th>\n",
       "      <th>number_count</th>\n",
       "      <th>bef_avg_word_len</th>\n",
       "    </tr>\n",
       "  </thead>\n",
       "  <tbody>\n",
       "    <tr>\n",
       "      <th>0</th>\n",
       "      <td>748447</td>\n",
       "      <td>Polaroid Camera</td>\n",
       "      <td>0</td>\n",
       "      <td>2</td>\n",
       "      <td>2</td>\n",
       "      <td>15</td>\n",
       "      <td>0</td>\n",
       "      <td>0</td>\n",
       "      <td>0</td>\n",
       "      <td>7.50</td>\n",
       "    </tr>\n",
       "    <tr>\n",
       "      <th>1</th>\n",
       "      <td>674932</td>\n",
       "      <td>Vintage Ashtray</td>\n",
       "      <td>0</td>\n",
       "      <td>2</td>\n",
       "      <td>2</td>\n",
       "      <td>15</td>\n",
       "      <td>0</td>\n",
       "      <td>0</td>\n",
       "      <td>0</td>\n",
       "      <td>7.50</td>\n",
       "    </tr>\n",
       "    <tr>\n",
       "      <th>2</th>\n",
       "      <td>586672</td>\n",
       "      <td>Matilda Jane weekender nwt</td>\n",
       "      <td>0</td>\n",
       "      <td>2</td>\n",
       "      <td>4</td>\n",
       "      <td>26</td>\n",
       "      <td>0</td>\n",
       "      <td>0</td>\n",
       "      <td>0</td>\n",
       "      <td>6.50</td>\n",
       "    </tr>\n",
       "    <tr>\n",
       "      <th>3</th>\n",
       "      <td>846012</td>\n",
       "      <td>Red Full Lace Wig</td>\n",
       "      <td>0</td>\n",
       "      <td>4</td>\n",
       "      <td>4</td>\n",
       "      <td>17</td>\n",
       "      <td>0</td>\n",
       "      <td>0</td>\n",
       "      <td>0</td>\n",
       "      <td>4.25</td>\n",
       "    </tr>\n",
       "    <tr>\n",
       "      <th>4</th>\n",
       "      <td>1026408</td>\n",
       "      <td>EQUATE NICOTINE TRANSDERMAL SYSTEM</td>\n",
       "      <td>4</td>\n",
       "      <td>31</td>\n",
       "      <td>4</td>\n",
       "      <td>34</td>\n",
       "      <td>0</td>\n",
       "      <td>0</td>\n",
       "      <td>0</td>\n",
       "      <td>8.50</td>\n",
       "    </tr>\n",
       "  </tbody>\n",
       "</table>\n",
       "</div>"
      ],
      "text/plain": [
       "   train_id                                name  upper_word_count  \\\n",
       "0    748447                     Polaroid Camera                 0   \n",
       "1    674932                     Vintage Ashtray                 0   \n",
       "2    586672          Matilda Jane weekender nwt                 0   \n",
       "3    846012                   Red Full Lace Wig                 0   \n",
       "4   1026408  EQUATE NICOTINE TRANSDERMAL SYSTEM                 4   \n",
       "\n",
       "   upper_char_count  bef_word_count  bef_char_count  stopword_count  \\\n",
       "0                 2               2              15               0   \n",
       "1                 2               2              15               0   \n",
       "2                 2               4              26               0   \n",
       "3                 4               4              17               0   \n",
       "4                31               4              34               0   \n",
       "\n",
       "   punctuation_count  number_count  bef_avg_word_len  \n",
       "0                  0             0              7.50  \n",
       "1                  0             0              7.50  \n",
       "2                  0             0              6.50  \n",
       "3                  0             0              4.25  \n",
       "4                  0             0              8.50  "
      ]
     },
     "execution_count": 67,
     "metadata": {},
     "output_type": "execute_result"
    }
   ],
   "source": [
    "sample_df['bef_avg_word_len'] = sample_df['bef_char_count'] / sample_df['bef_word_count']\n",
    "sample_df.head(5)"
   ]
  },
  {
   "cell_type": "markdown",
   "metadata": {},
   "source": [
    "# Text Cleaning"
   ]
  },
  {
   "cell_type": "markdown",
   "metadata": {},
   "source": [
    "## 1. Make All Text Lower Case"
   ]
  },
  {
   "cell_type": "code",
   "execution_count": 75,
   "metadata": {},
   "outputs": [
    {
     "data": {
      "text/plain": [
       "0               polaroid camera\n",
       "1               vintage ashtray\n",
       "2    matilda jane weekender nwt\n",
       "Name: clean_name, dtype: object"
      ]
     },
     "execution_count": 75,
     "metadata": {},
     "output_type": "execute_result"
    }
   ],
   "source": [
    "sample_df['clean_name'] = sample_df.name.apply(lambda x: x.lower() )\n",
    "sample_df.clean_name.head(3)"
   ]
  },
  {
   "cell_type": "markdown",
   "metadata": {},
   "source": [
    "## 2.  Removing Punctuations"
   ]
  },
  {
   "cell_type": "code",
   "execution_count": 76,
   "metadata": {},
   "outputs": [],
   "source": [
    "sample_df.clean_name = sample_df.clean_name.apply(\n",
    "    lambda x: x.translate(str.maketrans('', '', string.punctuation)))"
   ]
  },
  {
   "cell_type": "markdown",
   "metadata": {},
   "source": [
    "## 3. Removing Stopwords"
   ]
  },
  {
   "cell_type": "code",
   "execution_count": 77,
   "metadata": {},
   "outputs": [],
   "source": [
    "sample_df.clean_name = sample_df.clean_name.apply(lambda x: \" \".join(x for x in x.split() if x not in stop))"
   ]
  },
  {
   "cell_type": "markdown",
   "metadata": {},
   "source": [
    "## 4. Correct Spelling "
   ]
  },
  {
   "cell_type": "code",
   "execution_count": 78,
   "metadata": {},
   "outputs": [],
   "source": [
    "sample_df.clean_name = sample_df.clean_name.apply(lambda x: str(TextBlob(x).correct()))"
   ]
  },
  {
   "cell_type": "markdown",
   "metadata": {},
   "source": [
    "## 5. Lemmatization\n",
    "- converting a word to its base form."
   ]
  },
  {
   "cell_type": "code",
   "execution_count": 79,
   "metadata": {},
   "outputs": [
    {
     "name": "stderr",
     "output_type": "stream",
     "text": [
      "[nltk_data] Downloading package wordnet to /Users/jinchen/nltk_data...\n",
      "[nltk_data]   Package wordnet is already up-to-date!\n"
     ]
    },
    {
     "data": {
      "text/plain": [
       "True"
      ]
     },
     "execution_count": 79,
     "metadata": {},
     "output_type": "execute_result"
    }
   ],
   "source": [
    "import ssl\n",
    "ssl._create_default_https_context = _create_unverified_https_context\n",
    "\n",
    "# # Download Wordnet\n",
    "nltk.download('wordnet')\n"
   ]
  },
  {
   "cell_type": "code",
   "execution_count": 80,
   "metadata": {},
   "outputs": [],
   "source": [
    "# Init the Wordnet Lemmatizer\n",
    "lemmatizer = WordNetLemmatizer()\n",
    "sample_df.clean_name = sample_df.clean_name.apply(lambda x: lemmatizer.lemmatize(x))"
   ]
  },
  {
   "cell_type": "code",
   "execution_count": 81,
   "metadata": {},
   "outputs": [
    {
     "data": {
      "text/html": [
       "<div>\n",
       "<style scoped>\n",
       "    .dataframe tbody tr th:only-of-type {\n",
       "        vertical-align: middle;\n",
       "    }\n",
       "\n",
       "    .dataframe tbody tr th {\n",
       "        vertical-align: top;\n",
       "    }\n",
       "\n",
       "    .dataframe thead th {\n",
       "        text-align: right;\n",
       "    }\n",
       "</style>\n",
       "<table border=\"1\" class=\"dataframe\">\n",
       "  <thead>\n",
       "    <tr style=\"text-align: right;\">\n",
       "      <th></th>\n",
       "      <th>train_id</th>\n",
       "      <th>name</th>\n",
       "      <th>upper_word_count</th>\n",
       "      <th>upper_char_count</th>\n",
       "      <th>bef_word_count</th>\n",
       "      <th>bef_char_count</th>\n",
       "      <th>stopword_count</th>\n",
       "      <th>punctuation_count</th>\n",
       "      <th>number_count</th>\n",
       "      <th>bef_avg_word_len</th>\n",
       "      <th>clean_name</th>\n",
       "    </tr>\n",
       "  </thead>\n",
       "  <tbody>\n",
       "    <tr>\n",
       "      <th>0</th>\n",
       "      <td>748447</td>\n",
       "      <td>Polaroid Camera</td>\n",
       "      <td>0</td>\n",
       "      <td>2</td>\n",
       "      <td>2</td>\n",
       "      <td>15</td>\n",
       "      <td>0</td>\n",
       "      <td>0</td>\n",
       "      <td>0</td>\n",
       "      <td>7.50</td>\n",
       "      <td>polaroid camera</td>\n",
       "    </tr>\n",
       "    <tr>\n",
       "      <th>1</th>\n",
       "      <td>674932</td>\n",
       "      <td>Vintage Ashtray</td>\n",
       "      <td>0</td>\n",
       "      <td>2</td>\n",
       "      <td>2</td>\n",
       "      <td>15</td>\n",
       "      <td>0</td>\n",
       "      <td>0</td>\n",
       "      <td>0</td>\n",
       "      <td>7.50</td>\n",
       "      <td>vantage astray</td>\n",
       "    </tr>\n",
       "    <tr>\n",
       "      <th>2</th>\n",
       "      <td>586672</td>\n",
       "      <td>Matilda Jane weekender nwt</td>\n",
       "      <td>0</td>\n",
       "      <td>2</td>\n",
       "      <td>4</td>\n",
       "      <td>26</td>\n",
       "      <td>0</td>\n",
       "      <td>0</td>\n",
       "      <td>0</td>\n",
       "      <td>6.50</td>\n",
       "      <td>manila jane weekend not</td>\n",
       "    </tr>\n",
       "    <tr>\n",
       "      <th>3</th>\n",
       "      <td>846012</td>\n",
       "      <td>Red Full Lace Wig</td>\n",
       "      <td>0</td>\n",
       "      <td>4</td>\n",
       "      <td>4</td>\n",
       "      <td>17</td>\n",
       "      <td>0</td>\n",
       "      <td>0</td>\n",
       "      <td>0</td>\n",
       "      <td>4.25</td>\n",
       "      <td>red full lace wig</td>\n",
       "    </tr>\n",
       "    <tr>\n",
       "      <th>4</th>\n",
       "      <td>1026408</td>\n",
       "      <td>EQUATE NICOTINE TRANSDERMAL SYSTEM</td>\n",
       "      <td>4</td>\n",
       "      <td>31</td>\n",
       "      <td>4</td>\n",
       "      <td>34</td>\n",
       "      <td>0</td>\n",
       "      <td>0</td>\n",
       "      <td>0</td>\n",
       "      <td>8.50</td>\n",
       "      <td>quite nicotine transdermal system</td>\n",
       "    </tr>\n",
       "  </tbody>\n",
       "</table>\n",
       "</div>"
      ],
      "text/plain": [
       "   train_id                                name  upper_word_count  \\\n",
       "0    748447                     Polaroid Camera                 0   \n",
       "1    674932                     Vintage Ashtray                 0   \n",
       "2    586672          Matilda Jane weekender nwt                 0   \n",
       "3    846012                   Red Full Lace Wig                 0   \n",
       "4   1026408  EQUATE NICOTINE TRANSDERMAL SYSTEM                 4   \n",
       "\n",
       "   upper_char_count  bef_word_count  bef_char_count  stopword_count  \\\n",
       "0                 2               2              15               0   \n",
       "1                 2               2              15               0   \n",
       "2                 2               4              26               0   \n",
       "3                 4               4              17               0   \n",
       "4                31               4              34               0   \n",
       "\n",
       "   punctuation_count  number_count  bef_avg_word_len  \\\n",
       "0                  0             0              7.50   \n",
       "1                  0             0              7.50   \n",
       "2                  0             0              6.50   \n",
       "3                  0             0              4.25   \n",
       "4                  0             0              8.50   \n",
       "\n",
       "                          clean_name  \n",
       "0                    polaroid camera  \n",
       "1                     vantage astray  \n",
       "2            manila jane weekend not  \n",
       "3                  red full lace wig  \n",
       "4  quite nicotine transdermal system  "
      ]
     },
     "execution_count": 81,
     "metadata": {},
     "output_type": "execute_result"
    }
   ],
   "source": [
    "sample_df.head(5)"
   ]
  },
  {
   "cell_type": "markdown",
   "metadata": {},
   "source": [
    "## Extract Information about Text After Text Cleaning\n",
    "- Number of Words after text cleaning\n",
    "- Number of Characters after text cleaning\n",
    "- Avg word length after text cleaning"
   ]
  },
  {
   "cell_type": "code",
   "execution_count": 82,
   "metadata": {},
   "outputs": [
    {
     "data": {
      "text/html": [
       "<div>\n",
       "<style scoped>\n",
       "    .dataframe tbody tr th:only-of-type {\n",
       "        vertical-align: middle;\n",
       "    }\n",
       "\n",
       "    .dataframe tbody tr th {\n",
       "        vertical-align: top;\n",
       "    }\n",
       "\n",
       "    .dataframe thead th {\n",
       "        text-align: right;\n",
       "    }\n",
       "</style>\n",
       "<table border=\"1\" class=\"dataframe\">\n",
       "  <thead>\n",
       "    <tr style=\"text-align: right;\">\n",
       "      <th></th>\n",
       "      <th>train_id</th>\n",
       "      <th>name</th>\n",
       "      <th>upper_word_count</th>\n",
       "      <th>upper_char_count</th>\n",
       "      <th>bef_word_count</th>\n",
       "      <th>bef_char_count</th>\n",
       "      <th>stopword_count</th>\n",
       "      <th>punctuation_count</th>\n",
       "      <th>number_count</th>\n",
       "      <th>bef_avg_word_len</th>\n",
       "      <th>clean_name</th>\n",
       "      <th>aft_word_count</th>\n",
       "      <th>aft_char_count</th>\n",
       "      <th>aft_avg_word_len</th>\n",
       "    </tr>\n",
       "  </thead>\n",
       "  <tbody>\n",
       "    <tr>\n",
       "      <th>0</th>\n",
       "      <td>748447</td>\n",
       "      <td>Polaroid Camera</td>\n",
       "      <td>0</td>\n",
       "      <td>2</td>\n",
       "      <td>2</td>\n",
       "      <td>15</td>\n",
       "      <td>0</td>\n",
       "      <td>0</td>\n",
       "      <td>0</td>\n",
       "      <td>7.50</td>\n",
       "      <td>polaroid camera</td>\n",
       "      <td>2</td>\n",
       "      <td>15</td>\n",
       "      <td>7.50</td>\n",
       "    </tr>\n",
       "    <tr>\n",
       "      <th>1</th>\n",
       "      <td>674932</td>\n",
       "      <td>Vintage Ashtray</td>\n",
       "      <td>0</td>\n",
       "      <td>2</td>\n",
       "      <td>2</td>\n",
       "      <td>15</td>\n",
       "      <td>0</td>\n",
       "      <td>0</td>\n",
       "      <td>0</td>\n",
       "      <td>7.50</td>\n",
       "      <td>vantage astray</td>\n",
       "      <td>2</td>\n",
       "      <td>14</td>\n",
       "      <td>7.00</td>\n",
       "    </tr>\n",
       "    <tr>\n",
       "      <th>2</th>\n",
       "      <td>586672</td>\n",
       "      <td>Matilda Jane weekender nwt</td>\n",
       "      <td>0</td>\n",
       "      <td>2</td>\n",
       "      <td>4</td>\n",
       "      <td>26</td>\n",
       "      <td>0</td>\n",
       "      <td>0</td>\n",
       "      <td>0</td>\n",
       "      <td>6.50</td>\n",
       "      <td>manila jane weekend not</td>\n",
       "      <td>4</td>\n",
       "      <td>23</td>\n",
       "      <td>5.75</td>\n",
       "    </tr>\n",
       "    <tr>\n",
       "      <th>3</th>\n",
       "      <td>846012</td>\n",
       "      <td>Red Full Lace Wig</td>\n",
       "      <td>0</td>\n",
       "      <td>4</td>\n",
       "      <td>4</td>\n",
       "      <td>17</td>\n",
       "      <td>0</td>\n",
       "      <td>0</td>\n",
       "      <td>0</td>\n",
       "      <td>4.25</td>\n",
       "      <td>red full lace wig</td>\n",
       "      <td>4</td>\n",
       "      <td>17</td>\n",
       "      <td>4.25</td>\n",
       "    </tr>\n",
       "    <tr>\n",
       "      <th>4</th>\n",
       "      <td>1026408</td>\n",
       "      <td>EQUATE NICOTINE TRANSDERMAL SYSTEM</td>\n",
       "      <td>4</td>\n",
       "      <td>31</td>\n",
       "      <td>4</td>\n",
       "      <td>34</td>\n",
       "      <td>0</td>\n",
       "      <td>0</td>\n",
       "      <td>0</td>\n",
       "      <td>8.50</td>\n",
       "      <td>quite nicotine transdermal system</td>\n",
       "      <td>4</td>\n",
       "      <td>33</td>\n",
       "      <td>8.25</td>\n",
       "    </tr>\n",
       "  </tbody>\n",
       "</table>\n",
       "</div>"
      ],
      "text/plain": [
       "   train_id                                name  upper_word_count  \\\n",
       "0    748447                     Polaroid Camera                 0   \n",
       "1    674932                     Vintage Ashtray                 0   \n",
       "2    586672          Matilda Jane weekender nwt                 0   \n",
       "3    846012                   Red Full Lace Wig                 0   \n",
       "4   1026408  EQUATE NICOTINE TRANSDERMAL SYSTEM                 4   \n",
       "\n",
       "   upper_char_count  bef_word_count  bef_char_count  stopword_count  \\\n",
       "0                 2               2              15               0   \n",
       "1                 2               2              15               0   \n",
       "2                 2               4              26               0   \n",
       "3                 4               4              17               0   \n",
       "4                31               4              34               0   \n",
       "\n",
       "   punctuation_count  number_count  bef_avg_word_len  \\\n",
       "0                  0             0              7.50   \n",
       "1                  0             0              7.50   \n",
       "2                  0             0              6.50   \n",
       "3                  0             0              4.25   \n",
       "4                  0             0              8.50   \n",
       "\n",
       "                          clean_name  aft_word_count  aft_char_count  \\\n",
       "0                    polaroid camera               2              15   \n",
       "1                     vantage astray               2              14   \n",
       "2            manila jane weekend not               4              23   \n",
       "3                  red full lace wig               4              17   \n",
       "4  quite nicotine transdermal system               4              33   \n",
       "\n",
       "   aft_avg_word_len  \n",
       "0              7.50  \n",
       "1              7.00  \n",
       "2              5.75  \n",
       "3              4.25  \n",
       "4              8.25  "
      ]
     },
     "execution_count": 82,
     "metadata": {},
     "output_type": "execute_result"
    }
   ],
   "source": [
    "sample_df['aft_word_count'] = sample_df.clean_name.apply(lambda x: len(x.split()))\n",
    "sample_df['aft_char_count'] = sample_df.clean_name.apply(lambda x: len(x)) \n",
    "sample_df['aft_avg_word_len'] = sample_df['aft_char_count'] / sample_df['aft_word_count']\n",
    "sample_df.head(5)"
   ]
  },
  {
   "cell_type": "code",
   "execution_count": 83,
   "metadata": {},
   "outputs": [
    {
     "name": "stdout",
     "output_type": "stream",
     "text": [
      "<class 'pandas.core.frame.DataFrame'>\n",
      "RangeIndex: 1000 entries, 0 to 999\n",
      "Data columns (total 14 columns):\n",
      " #   Column             Non-Null Count  Dtype  \n",
      "---  ------             --------------  -----  \n",
      " 0   train_id           1000 non-null   int64  \n",
      " 1   name               1000 non-null   object \n",
      " 2   upper_word_count   1000 non-null   int64  \n",
      " 3   upper_char_count   1000 non-null   int64  \n",
      " 4   bef_word_count     1000 non-null   int64  \n",
      " 5   bef_char_count     1000 non-null   int64  \n",
      " 6   stopword_count     1000 non-null   int64  \n",
      " 7   punctuation_count  1000 non-null   int64  \n",
      " 8   number_count       1000 non-null   int64  \n",
      " 9   bef_avg_word_len   1000 non-null   float64\n",
      " 10  clean_name         1000 non-null   object \n",
      " 11  aft_word_count     1000 non-null   int64  \n",
      " 12  aft_char_count     1000 non-null   int64  \n",
      " 13  aft_avg_word_len   1000 non-null   float64\n",
      "dtypes: float64(2), int64(10), object(2)\n",
      "memory usage: 109.5+ KB\n"
     ]
    }
   ],
   "source": [
    "sample_df.info()"
   ]
  },
  {
   "cell_type": "code",
   "execution_count": 84,
   "metadata": {},
   "outputs": [],
   "source": [
    "sample_df.to_csv(\"../../data/sample_data_item_name_features.csv\")"
   ]
  }
 ],
 "metadata": {
  "kernelspec": {
   "display_name": "Python 3",
   "language": "python",
   "name": "python3"
  },
  "language_info": {
   "codemirror_mode": {
    "name": "ipython",
    "version": 3
   },
   "file_extension": ".py",
   "mimetype": "text/x-python",
   "name": "python",
   "nbconvert_exporter": "python",
   "pygments_lexer": "ipython3",
   "version": "3.6.5"
  }
 },
 "nbformat": 4,
 "nbformat_minor": 4
}
