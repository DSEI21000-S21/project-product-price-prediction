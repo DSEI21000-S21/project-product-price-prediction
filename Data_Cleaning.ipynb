{
 "cells": [
  {
   "cell_type": "markdown",
   "metadata": {},
   "source": [
    "### Data Cleaning\n",
    "Category_name, brand_name and item_description have null values. So we are processing this coulumns"
   ]
  },
  {
   "cell_type": "code",
   "execution_count": 2,
   "metadata": {},
   "outputs": [],
   "source": [
    "import pandas as pd\n",
    "# get data\n",
    "df = pd.read_csv(\"https://raw.githubusercontent.com/jinchen1036/Product-Price-Prediction/main/data/sample_data.csv\",sep=\",\")"
   ]
  },
  {
   "cell_type": "code",
   "execution_count": 3,
   "metadata": {},
   "outputs": [],
   "source": [
    "def fill_missing_data(data):\n",
    "    data['category_name'].fillna(value='Other', inplace=True)\n",
    "    data.brand_name.fillna(value = \"Unknown\", inplace = True)\n",
    "    data.item_description.fillna(value = \"No description yet\", inplace = True)\n",
    "    return data"
   ]
  },
  {
   "cell_type": "code",
   "execution_count": 5,
   "metadata": {},
   "outputs": [
    {
     "name": "stdout",
     "output_type": "stream",
     "text": [
      "(1000, 8)\n"
     ]
    },
    {
     "data": {
      "text/plain": [
       "train_id             False\n",
       "name                 False\n",
       "item_condition_id    False\n",
       "category_name        False\n",
       "brand_name           False\n",
       "price                False\n",
       "shipping             False\n",
       "item_description     False\n",
       "dtype: bool"
      ]
     },
     "execution_count": 5,
     "metadata": {},
     "output_type": "execute_result"
    }
   ],
   "source": [
    "import numpy as np\n",
    "mercaridf = fill_missing_data(df)\n",
    "print(np.shape(mercaridf))\n",
    "mercaridf.isnull().any()"
   ]
  },
  {
   "cell_type": "code",
   "execution_count": 6,
   "metadata": {},
   "outputs": [
    {
     "data": {
      "text/html": [
       "<div>\n",
       "<style scoped>\n",
       "    .dataframe tbody tr th:only-of-type {\n",
       "        vertical-align: middle;\n",
       "    }\n",
       "\n",
       "    .dataframe tbody tr th {\n",
       "        vertical-align: top;\n",
       "    }\n",
       "\n",
       "    .dataframe thead th {\n",
       "        text-align: right;\n",
       "    }\n",
       "</style>\n",
       "<table border=\"1\" class=\"dataframe\">\n",
       "  <thead>\n",
       "    <tr style=\"text-align: right;\">\n",
       "      <th></th>\n",
       "      <th>train_id</th>\n",
       "      <th>name</th>\n",
       "      <th>item_condition_id</th>\n",
       "      <th>category_name</th>\n",
       "      <th>brand_name</th>\n",
       "      <th>price</th>\n",
       "      <th>shipping</th>\n",
       "      <th>item_description</th>\n",
       "    </tr>\n",
       "  </thead>\n",
       "  <tbody>\n",
       "    <tr>\n",
       "      <th>0</th>\n",
       "      <td>748447</td>\n",
       "      <td>Polaroid Camera</td>\n",
       "      <td>3</td>\n",
       "      <td>Electronics/Cameras &amp; Photography/Film Photogr...</td>\n",
       "      <td>Unknown</td>\n",
       "      <td>27.0</td>\n",
       "      <td>1</td>\n",
       "      <td>Film not included</td>\n",
       "    </tr>\n",
       "    <tr>\n",
       "      <th>1</th>\n",
       "      <td>674932</td>\n",
       "      <td>Vintage Ashtray</td>\n",
       "      <td>3</td>\n",
       "      <td>Vintage &amp; Collectibles/Housewares/Coaster</td>\n",
       "      <td>Unknown</td>\n",
       "      <td>8.0</td>\n",
       "      <td>0</td>\n",
       "      <td>Sip n Smoke ashtray. Would make a cute gift!</td>\n",
       "    </tr>\n",
       "    <tr>\n",
       "      <th>2</th>\n",
       "      <td>586672</td>\n",
       "      <td>Matilda Jane weekender nwt</td>\n",
       "      <td>1</td>\n",
       "      <td>Women/Women's Handbags/Other</td>\n",
       "      <td>Unknown</td>\n",
       "      <td>52.0</td>\n",
       "      <td>0</td>\n",
       "      <td>NWT. Matilda Jane Clothing weekender bag. Over...</td>\n",
       "    </tr>\n",
       "    <tr>\n",
       "      <th>3</th>\n",
       "      <td>846012</td>\n",
       "      <td>Red Full Lace Wig</td>\n",
       "      <td>3</td>\n",
       "      <td>Women/Women's Accessories/Hair Accessories</td>\n",
       "      <td>Unknown</td>\n",
       "      <td>69.0</td>\n",
       "      <td>0</td>\n",
       "      <td>12 inches</td>\n",
       "    </tr>\n",
       "    <tr>\n",
       "      <th>4</th>\n",
       "      <td>1026408</td>\n",
       "      <td>EQUATE NICOTINE TRANSDERMAL SYSTEM</td>\n",
       "      <td>1</td>\n",
       "      <td>Other/Daily &amp; Travel items/Personal Care</td>\n",
       "      <td>Unknown</td>\n",
       "      <td>19.0</td>\n",
       "      <td>0</td>\n",
       "      <td>13 patches left. Too strong for my husband.</td>\n",
       "    </tr>\n",
       "  </tbody>\n",
       "</table>\n",
       "</div>"
      ],
      "text/plain": [
       "   train_id                                name  item_condition_id  \\\n",
       "0    748447                     Polaroid Camera                  3   \n",
       "1    674932                     Vintage Ashtray                  3   \n",
       "2    586672          Matilda Jane weekender nwt                  1   \n",
       "3    846012                   Red Full Lace Wig                  3   \n",
       "4   1026408  EQUATE NICOTINE TRANSDERMAL SYSTEM                  1   \n",
       "\n",
       "                                       category_name brand_name  price  \\\n",
       "0  Electronics/Cameras & Photography/Film Photogr...    Unknown   27.0   \n",
       "1          Vintage & Collectibles/Housewares/Coaster    Unknown    8.0   \n",
       "2                       Women/Women's Handbags/Other    Unknown   52.0   \n",
       "3         Women/Women's Accessories/Hair Accessories    Unknown   69.0   \n",
       "4           Other/Daily & Travel items/Personal Care    Unknown   19.0   \n",
       "\n",
       "   shipping                                   item_description  \n",
       "0         1                                  Film not included  \n",
       "1         0       Sip n Smoke ashtray. Would make a cute gift!  \n",
       "2         0  NWT. Matilda Jane Clothing weekender bag. Over...  \n",
       "3         0                                          12 inches  \n",
       "4         0        13 patches left. Too strong for my husband.  "
      ]
     },
     "execution_count": 6,
     "metadata": {},
     "output_type": "execute_result"
    }
   ],
   "source": [
    "mercaridf.head()"
   ]
  },
  {
   "cell_type": "markdown",
   "metadata": {},
   "source": [
    "### Remove Items with 0 price"
   ]
  },
  {
   "cell_type": "code",
   "execution_count": 8,
   "metadata": {},
   "outputs": [],
   "source": [
    "mercaridf = mercaridf[mercaridf.price != 0]"
   ]
  },
  {
   "cell_type": "code",
   "execution_count": null,
   "metadata": {},
   "outputs": [],
   "source": []
  }
 ],
 "metadata": {
  "kernelspec": {
   "display_name": "Python 3",
   "language": "python",
   "name": "python3"
  },
  "language_info": {
   "codemirror_mode": {
    "name": "ipython",
    "version": 3
   },
   "file_extension": ".py",
   "mimetype": "text/x-python",
   "name": "python",
   "nbconvert_exporter": "python",
   "pygments_lexer": "ipython3",
   "version": "3.7.4"
  }
 },
 "nbformat": 4,
 "nbformat_minor": 4
}
