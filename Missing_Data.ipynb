{
  "nbformat": 4,
  "nbformat_minor": 0,
  "metadata": {
    "colab": {
      "name": "Missing Data.ipynb",
      "provenance": [],
      "authorship_tag": "ABX9TyOvjGiUijlllcKjIMZkw9Nb",
      "include_colab_link": true
    },
    "kernelspec": {
      "name": "python3",
      "display_name": "Python 3"
    },
    "language_info": {
      "name": "python"
    }
  },
  "cells": [
    {
      "cell_type": "markdown",
      "metadata": {
        "id": "view-in-github",
        "colab_type": "text"
      },
      "source": [
        "<a href=\"https://colab.research.google.com/github/jinchen1036/Product-Price-Prediction/blob/main/Missing_Data.ipynb\" target=\"_parent\"><img src=\"https://colab.research.google.com/assets/colab-badge.svg\" alt=\"Open In Colab\"/></a>"
      ]
    },
    {
      "cell_type": "code",
      "metadata": {
        "id": "B8OddB1kVtAf"
      },
      "source": [
        "import pandas as pd"
      ],
      "execution_count": null,
      "outputs": []
    },
    {
      "cell_type": "code",
      "metadata": {
        "id": "0rddZ8a8WR9f"
      },
      "source": [
        "df = pd.read_csv(\"https://raw.githubusercontent.com/jinchen1036/Product-Price-Prediction/main/data/sample_data.csv\")"
      ],
      "execution_count": null,
      "outputs": []
    },
    {
      "cell_type": "code",
      "metadata": {
        "colab": {
          "base_uri": "https://localhost:8080/"
        },
        "id": "heVVByq0WXI6",
        "outputId": "df41b960-2a95-4442-b9d3-8b77498975e3"
      },
      "source": [
        "df.shape"
      ],
      "execution_count": null,
      "outputs": [
        {
          "output_type": "execute_result",
          "data": {
            "text/plain": [
              "(1000, 8)"
            ]
          },
          "metadata": {
            "tags": []
          },
          "execution_count": 12
        }
      ]
    },
    {
      "cell_type": "code",
      "metadata": {
        "colab": {
          "base_uri": "https://localhost:8080/"
        },
        "id": "QgI1DmogWht-",
        "outputId": "c997a2e5-3649-402a-82fe-78f0c7788469"
      },
      "source": [
        "df.columns"
      ],
      "execution_count": null,
      "outputs": [
        {
          "output_type": "execute_result",
          "data": {
            "text/plain": [
              "Index(['train_id', 'name', 'item_condition_id', 'category_name', 'brand_name',\n",
              "       'price', 'shipping', 'item_description'],\n",
              "      dtype='object')"
            ]
          },
          "metadata": {
            "tags": []
          },
          "execution_count": 13
        }
      ]
    },
    {
      "cell_type": "code",
      "metadata": {
        "colab": {
          "base_uri": "https://localhost:8080/"
        },
        "id": "JiKA8VntWkKu",
        "outputId": "81dee856-74dc-4a43-a348-6af65887311e"
      },
      "source": [
        "df.info()"
      ],
      "execution_count": null,
      "outputs": [
        {
          "output_type": "stream",
          "text": [
            "<class 'pandas.core.frame.DataFrame'>\n",
            "RangeIndex: 1000 entries, 0 to 999\n",
            "Data columns (total 8 columns):\n",
            " #   Column             Non-Null Count  Dtype  \n",
            "---  ------             --------------  -----  \n",
            " 0   train_id           1000 non-null   int64  \n",
            " 1   name               1000 non-null   object \n",
            " 2   item_condition_id  1000 non-null   int64  \n",
            " 3   category_name      996 non-null    object \n",
            " 4   brand_name         561 non-null    object \n",
            " 5   price              1000 non-null   float64\n",
            " 6   shipping           1000 non-null   int64  \n",
            " 7   item_description   1000 non-null   object \n",
            "dtypes: float64(1), int64(3), object(4)\n",
            "memory usage: 62.6+ KB\n"
          ],
          "name": "stdout"
        }
      ]
    },
    {
      "cell_type": "code",
      "metadata": {
        "colab": {
          "base_uri": "https://localhost:8080/",
          "height": 204
        },
        "id": "hCuD2rpLXZx6",
        "outputId": "514719a3-f213-4126-a6f6-47693dc2768f"
      },
      "source": [
        "df.head()"
      ],
      "execution_count": null,
      "outputs": [
        {
          "output_type": "execute_result",
          "data": {
            "text/html": [
              "<div>\n",
              "<style scoped>\n",
              "    .dataframe tbody tr th:only-of-type {\n",
              "        vertical-align: middle;\n",
              "    }\n",
              "\n",
              "    .dataframe tbody tr th {\n",
              "        vertical-align: top;\n",
              "    }\n",
              "\n",
              "    .dataframe thead th {\n",
              "        text-align: right;\n",
              "    }\n",
              "</style>\n",
              "<table border=\"1\" class=\"dataframe\">\n",
              "  <thead>\n",
              "    <tr style=\"text-align: right;\">\n",
              "      <th></th>\n",
              "      <th>train_id</th>\n",
              "      <th>name</th>\n",
              "      <th>item_condition_id</th>\n",
              "      <th>category_name</th>\n",
              "      <th>brand_name</th>\n",
              "      <th>price</th>\n",
              "      <th>shipping</th>\n",
              "      <th>item_description</th>\n",
              "    </tr>\n",
              "  </thead>\n",
              "  <tbody>\n",
              "    <tr>\n",
              "      <th>0</th>\n",
              "      <td>748447</td>\n",
              "      <td>Polaroid Camera</td>\n",
              "      <td>3</td>\n",
              "      <td>Electronics/Cameras &amp; Photography/Film Photogr...</td>\n",
              "      <td>NaN</td>\n",
              "      <td>27.0</td>\n",
              "      <td>1</td>\n",
              "      <td>Film not included</td>\n",
              "    </tr>\n",
              "    <tr>\n",
              "      <th>1</th>\n",
              "      <td>674932</td>\n",
              "      <td>Vintage Ashtray</td>\n",
              "      <td>3</td>\n",
              "      <td>Vintage &amp; Collectibles/Housewares/Coaster</td>\n",
              "      <td>NaN</td>\n",
              "      <td>8.0</td>\n",
              "      <td>0</td>\n",
              "      <td>Sip n Smoke ashtray. Would make a cute gift!</td>\n",
              "    </tr>\n",
              "    <tr>\n",
              "      <th>2</th>\n",
              "      <td>586672</td>\n",
              "      <td>Matilda Jane weekender nwt</td>\n",
              "      <td>1</td>\n",
              "      <td>Women/Women's Handbags/Other</td>\n",
              "      <td>NaN</td>\n",
              "      <td>52.0</td>\n",
              "      <td>0</td>\n",
              "      <td>NWT. Matilda Jane Clothing weekender bag. Over...</td>\n",
              "    </tr>\n",
              "    <tr>\n",
              "      <th>3</th>\n",
              "      <td>846012</td>\n",
              "      <td>Red Full Lace Wig</td>\n",
              "      <td>3</td>\n",
              "      <td>Women/Women's Accessories/Hair Accessories</td>\n",
              "      <td>NaN</td>\n",
              "      <td>69.0</td>\n",
              "      <td>0</td>\n",
              "      <td>12 inches</td>\n",
              "    </tr>\n",
              "    <tr>\n",
              "      <th>4</th>\n",
              "      <td>1026408</td>\n",
              "      <td>EQUATE NICOTINE TRANSDERMAL SYSTEM</td>\n",
              "      <td>1</td>\n",
              "      <td>Other/Daily &amp; Travel items/Personal Care</td>\n",
              "      <td>NaN</td>\n",
              "      <td>19.0</td>\n",
              "      <td>0</td>\n",
              "      <td>13 patches left. Too strong for my husband.</td>\n",
              "    </tr>\n",
              "  </tbody>\n",
              "</table>\n",
              "</div>"
            ],
            "text/plain": [
              "   train_id  ...                                   item_description\n",
              "0    748447  ...                                  Film not included\n",
              "1    674932  ...       Sip n Smoke ashtray. Would make a cute gift!\n",
              "2    586672  ...  NWT. Matilda Jane Clothing weekender bag. Over...\n",
              "3    846012  ...                                          12 inches\n",
              "4   1026408  ...        13 patches left. Too strong for my husband.\n",
              "\n",
              "[5 rows x 8 columns]"
            ]
          },
          "metadata": {
            "tags": []
          },
          "execution_count": 15
        }
      ]
    },
    {
      "cell_type": "code",
      "metadata": {
        "colab": {
          "base_uri": "https://localhost:8080/"
        },
        "id": "A8IuPxR9XNqo",
        "outputId": "3406b407-012c-4f49-efd6-9aaf28a28fa3"
      },
      "source": [
        "brand=df.iloc[:,4]\n",
        "brand"
      ],
      "execution_count": null,
      "outputs": [
        {
          "output_type": "execute_result",
          "data": {
            "text/plain": [
              "0           NaN\n",
              "1           NaN\n",
              "2           NaN\n",
              "3           NaN\n",
              "4           NaN\n",
              "         ...   \n",
              "995      Dansko\n",
              "996         BKE\n",
              "997         NaN\n",
              "998    Rae Dunn\n",
              "999    Champion\n",
              "Name: brand_name, Length: 1000, dtype: object"
            ]
          },
          "metadata": {
            "tags": []
          },
          "execution_count": 17
        }
      ]
    },
    {
      "cell_type": "code",
      "metadata": {
        "colab": {
          "base_uri": "https://localhost:8080/"
        },
        "id": "2BxZ-y5EYQIG",
        "outputId": "bf66050f-b929-4ed8-fb1d-9fa9dc559a92"
      },
      "source": [
        "len(brand.unique())"
      ],
      "execution_count": null,
      "outputs": [
        {
          "output_type": "execute_result",
          "data": {
            "text/plain": [
              "235"
            ]
          },
          "metadata": {
            "tags": []
          },
          "execution_count": 18
        }
      ]
    },
    {
      "cell_type": "code",
      "metadata": {
        "colab": {
          "base_uri": "https://localhost:8080/"
        },
        "id": "fDlSK16tWVPS",
        "outputId": "cb50cd89-ce44-4d69-d227-9dbc69960df2"
      },
      "source": [
        "brand.sort_values()"
      ],
      "execution_count": null,
      "outputs": [
        {
          "output_type": "execute_result",
          "data": {
            "text/plain": [
              "63            ALEX AND ANI\n",
              "895    Abercrombie & Fitch\n",
              "295    Abercrombie & Fitch\n",
              "679                 Adidas\n",
              "818                 Adidas\n",
              "              ...         \n",
              "983                    NaN\n",
              "986                    NaN\n",
              "990                    NaN\n",
              "993                    NaN\n",
              "997                    NaN\n",
              "Name: brand_name, Length: 1000, dtype: object"
            ]
          },
          "metadata": {
            "tags": []
          },
          "execution_count": 26
        }
      ]
    },
    {
      "cell_type": "code",
      "metadata": {
        "colab": {
          "base_uri": "https://localhost:8080/"
        },
        "id": "jz1hm-c8X2yx",
        "outputId": "34ea95e3-be11-4782-f77c-e3e22734251b"
      },
      "source": [
        "brand.value_counts()"
      ],
      "execution_count": null,
      "outputs": [
        {
          "output_type": "execute_result",
          "data": {
            "text/plain": [
              "PINK                 37\n",
              "Victoria's Secret    31\n",
              "Nike                 25\n",
              "LuLaRoe              19\n",
              "Rae Dunn             10\n",
              "                     ..\n",
              "Pyrex                 1\n",
              "Sharp                 1\n",
              "Lenox                 1\n",
              "Morphe Cosmetics      1\n",
              "American Fighter      1\n",
              "Name: brand_name, Length: 234, dtype: int64"
            ]
          },
          "metadata": {
            "tags": []
          },
          "execution_count": 19
        }
      ]
    },
    {
      "cell_type": "code",
      "metadata": {
        "colab": {
          "base_uri": "https://localhost:8080/"
        },
        "id": "WRsSAU0NZIuF",
        "outputId": "2b97fded-c3c8-454f-c312-4890c319fec4"
      },
      "source": [
        "df_brand=pd.DataFrame(brand)\n",
        "df_brand.count()"
      ],
      "execution_count": null,
      "outputs": [
        {
          "output_type": "execute_result",
          "data": {
            "text/plain": [
              "brand_name    561\n",
              "dtype: int64"
            ]
          },
          "metadata": {
            "tags": []
          },
          "execution_count": 28
        }
      ]
    }
  ]
}